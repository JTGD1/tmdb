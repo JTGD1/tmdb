{
  "nbformat": 4,
  "nbformat_minor": 0,
  "metadata": {
    "colab": {
      "name": "04_modeling_3(+FE 2nd).ipynb",
      "version": "0.3.2",
      "provenance": [],
      "collapsed_sections": [
        "6NXG_DRju2JU"
      ],
      "toc_visible": true
    },
    "kernelspec": {
      "name": "python3",
      "display_name": "Python 3"
    },
    "accelerator": "GPU"
  },
  "cells": [
    {
      "cell_type": "code",
      "metadata": {
        "id": "6btqYOvJuk8O",
        "colab_type": "code",
        "colab": {}
      },
      "source": [
        "import pandas as pd\n",
        "import numpy as np\n",
        "import matplotlib.pyplot as plt\n",
        "import seaborn as sns\n",
        "%matplotlib inline\n",
        "\n",
        "from sklearn.model_selection import train_test_split, KFold, GridSearchCV\n",
        "from sklearn.metrics import mean_squared_error\n",
        "from sklearn.metrics import mean_squared_log_error\n",
        "\n",
        "from sklearn.linear_model import ElasticNet\n",
        "from sklearn.neighbors import KNeighborsRegressor\n",
        "from sklearn.svm import SVR\n",
        "import xgboost as xgb"
      ],
      "execution_count": 0,
      "outputs": []
    },
    {
      "cell_type": "code",
      "metadata": {
        "id": "39e4iggfbn01",
        "colab_type": "code",
        "colab": {
          "base_uri": "https://localhost:8080/",
          "height": 230
        },
        "outputId": "4ef541cf-3ef7-4bee-d88e-be05c843642b"
      },
      "source": [
        "!pip install catboost\n",
        "from catboost import CatBoostRegressor"
      ],
      "execution_count": 2,
      "outputs": [
        {
          "output_type": "stream",
          "text": [
            "Collecting catboost\n",
            "\u001b[?25l  Downloading https://files.pythonhosted.org/packages/2f/c4/f130237b24efd1941cb685da12496675a90045129b66774751f1bf629dfd/catboost-0.14.2-cp36-none-manylinux1_x86_64.whl (60.6MB)\n",
            "\u001b[K     |████████████████████████████████| 60.6MB 1.3MB/s \n",
            "\u001b[?25hRequirement already satisfied: enum34 in /usr/local/lib/python3.6/dist-packages (from catboost) (1.1.6)\n",
            "Requirement already satisfied: pandas>=0.19.1 in /usr/local/lib/python3.6/dist-packages (from catboost) (0.24.2)\n",
            "Requirement already satisfied: six in /usr/local/lib/python3.6/dist-packages (from catboost) (1.12.0)\n",
            "Requirement already satisfied: graphviz in /usr/local/lib/python3.6/dist-packages (from catboost) (0.10.1)\n",
            "Requirement already satisfied: numpy>=1.11.1 in /usr/local/lib/python3.6/dist-packages (from catboost) (1.16.3)\n",
            "Requirement already satisfied: pytz>=2011k in /usr/local/lib/python3.6/dist-packages (from pandas>=0.19.1->catboost) (2018.9)\n",
            "Requirement already satisfied: python-dateutil>=2.5.0 in /usr/local/lib/python3.6/dist-packages (from pandas>=0.19.1->catboost) (2.5.3)\n",
            "Installing collected packages: catboost\n",
            "Successfully installed catboost-0.14.2\n"
          ],
          "name": "stdout"
        }
      ]
    },
    {
      "cell_type": "code",
      "metadata": {
        "id": "wW3Oy3M-boVm",
        "colab_type": "code",
        "colab": {
          "base_uri": "https://localhost:8080/",
          "height": 144
        },
        "outputId": "dbc281b9-a86f-4ab1-d85a-303b4ea69258"
      },
      "source": [
        "!pip install lightgbm --install-option=--gpu\n",
        "import lightgbm as lgb"
      ],
      "execution_count": 3,
      "outputs": [
        {
          "output_type": "stream",
          "text": [
            "/usr/local/lib/python3.6/dist-packages/pip/_internal/commands/install.py:244: UserWarning: Disabling all use of wheels due to the use of --build-options / --global-options / --install-options.\n",
            "  cmdoptions.check_install_build_global(options)\n",
            "Requirement already satisfied: lightgbm in /usr/local/lib/python3.6/dist-packages (2.2.3)\n",
            "Requirement already satisfied: scipy in /usr/local/lib/python3.6/dist-packages (from lightgbm) (1.2.1)\n",
            "Requirement already satisfied: numpy in /usr/local/lib/python3.6/dist-packages (from lightgbm) (1.16.3)\n",
            "Requirement already satisfied: scikit-learn in /usr/local/lib/python3.6/dist-packages (from lightgbm) (0.20.3)\n"
          ],
          "name": "stdout"
        }
      ]
    },
    {
      "cell_type": "code",
      "metadata": {
        "id": "j40fXd2XjL_G",
        "colab_type": "code",
        "colab": {}
      },
      "source": [
        "# RMSLE in natural log \n",
        "def my_loss(pred, actual):\n",
        "  assert len(pred) == len(actual)\n",
        "  error2 = [(math.log(pred[i] + 1) - math.log(actual[i] - 1))**2 for i in range(len(pred))]\n",
        "  result = np.sqrt(np.sum(error2) / len(pred))\n",
        "  return result "
      ],
      "execution_count": 0,
      "outputs": []
    },
    {
      "cell_type": "code",
      "metadata": {
        "id": "3vIEXWbQPPIz",
        "colab_type": "code",
        "colab": {}
      },
      "source": [
        "def get_loss(pred, actual):\n",
        "  log_mse = mean_squared_error(np.log1p(pred), np.log1p(actual))\n",
        "  result = np.sqrt(log_mse)\n",
        "  return result "
      ],
      "execution_count": 0,
      "outputs": []
    },
    {
      "cell_type": "markdown",
      "metadata": {
        "id": "7m-pRP_9u9pv",
        "colab_type": "text"
      },
      "source": [
        "## Load the data"
      ]
    },
    {
      "cell_type": "code",
      "metadata": {
        "id": "6DezWX46uyac",
        "colab_type": "code",
        "colab": {}
      },
      "source": [
        "# Import the all dataset\n",
        "tr = pd.read_csv('train_3.csv')\n",
        "te = pd.read_csv('test_3.csv')"
      ],
      "execution_count": 0,
      "outputs": []
    },
    {
      "cell_type": "code",
      "metadata": {
        "id": "Qdn8-yP-W42E",
        "colab_type": "code",
        "colab": {}
      },
      "source": [
        "# Import the all dataset\n",
        "tr = pd.read_csv('train_3_svd.csv')\n",
        "te = pd.read_csv('test_3_svd.csv')"
      ],
      "execution_count": 0,
      "outputs": []
    },
    {
      "cell_type": "code",
      "metadata": {
        "id": "ng-ikYztvxtq",
        "colab_type": "code",
        "outputId": "1cdc2777-f3c5-4f6f-e80e-9674a9605cf5",
        "colab": {
          "base_uri": "https://localhost:8080/",
          "height": 35
        }
      },
      "source": [
        "tr.shape"
      ],
      "execution_count": 52,
      "outputs": [
        {
          "output_type": "execute_result",
          "data": {
            "text/plain": [
              "(3000, 373)"
            ]
          },
          "metadata": {
            "tags": []
          },
          "execution_count": 52
        }
      ]
    },
    {
      "cell_type": "code",
      "metadata": {
        "id": "w2I1PLuHv2d4",
        "colab_type": "code",
        "colab": {}
      },
      "source": [
        "y = tr.revenue_log\n",
        "X = tr.drop('revenue_log', axis = 1)"
      ],
      "execution_count": 0,
      "outputs": []
    },
    {
      "cell_type": "code",
      "metadata": {
        "id": "MbhQlzWBu0gc",
        "colab_type": "code",
        "colab": {}
      },
      "source": [
        "# Split into train and Valid set\n",
        "X_tr, X_val, y_tr, y_val = train_test_split(X, y, test_size = .2, random_state = 42)"
      ],
      "execution_count": 0,
      "outputs": []
    },
    {
      "cell_type": "code",
      "metadata": {
        "id": "onngVTvh10YD",
        "colab_type": "code",
        "outputId": "754f9823-8732-480b-b159-a43fa1bf6615",
        "colab": {
          "base_uri": "https://localhost:8080/",
          "height": 70
        }
      },
      "source": [
        "print(\"The size of the train set \", X_tr.shape)\n",
        "print(\"The size of the validation set \", X_val.shape)\n",
        "print(\"The size of the test set \", te.shape)"
      ],
      "execution_count": 55,
      "outputs": [
        {
          "output_type": "stream",
          "text": [
            "The size of the train set  (2400, 372)\n",
            "The size of the validation set  (600, 372)\n",
            "The size of the test set  (4398, 372)\n"
          ],
          "name": "stdout"
        }
      ]
    },
    {
      "cell_type": "code",
      "metadata": {
        "id": "hSmGnpT_vtGb",
        "colab_type": "code",
        "colab": {}
      },
      "source": [
        "del tr, X, y, "
      ],
      "execution_count": 0,
      "outputs": []
    },
    {
      "cell_type": "code",
      "metadata": {
        "id": "Jy2ZnVUiUhVF",
        "colab_type": "code",
        "colab": {}
      },
      "source": [
        "df = pd.DataFrame()\n",
        "df['val'] = y_val"
      ],
      "execution_count": 0,
      "outputs": []
    },
    {
      "cell_type": "markdown",
      "metadata": {
        "id": "wU2b06pb__xu",
        "colab_type": "text"
      },
      "source": [
        "## Validation Set"
      ]
    },
    {
      "cell_type": "code",
      "metadata": {
        "id": "JlKc9ATPOLLk",
        "colab_type": "code",
        "colab": {}
      },
      "source": [
        ""
      ],
      "execution_count": 0,
      "outputs": []
    },
    {
      "cell_type": "code",
      "metadata": {
        "id": "z90yelYeTEjA",
        "colab_type": "code",
        "colab": {}
      },
      "source": [
        ""
      ],
      "execution_count": 0,
      "outputs": []
    },
    {
      "cell_type": "markdown",
      "metadata": {
        "id": "6NXG_DRju2JU",
        "colab_type": "text"
      },
      "source": [
        "### 1. Elastic-Net"
      ]
    },
    {
      "cell_type": "code",
      "metadata": {
        "id": "aae8jF9Y9Zh3",
        "colab_type": "code",
        "colab": {}
      },
      "source": [
        "X_tr_el = X_tr.fillna(-1)\n",
        "X_val_el = X_val.fillna(-1)\n",
        "te_el = te.fillna(-1)"
      ],
      "execution_count": 0,
      "outputs": []
    },
    {
      "cell_type": "code",
      "metadata": {
        "id": "adsGmj8dWVy3",
        "colab_type": "code",
        "colab": {}
      },
      "source": [
        ""
      ],
      "execution_count": 0,
      "outputs": []
    },
    {
      "cell_type": "code",
      "metadata": {
        "id": "FvMSkEpElDLZ",
        "colab_type": "code",
        "outputId": "624b6152-f357-4f57-fffa-7566ffe35c17",
        "colab": {
          "base_uri": "https://localhost:8080/",
          "height": 70
        }
      },
      "source": [
        "model_el = ElasticNet(alpha = .05, l1_ratio = .001, max_iter = 5000)\n",
        "model_el.fit(X_tr_el, y_tr)"
      ],
      "execution_count": 0,
      "outputs": [
        {
          "output_type": "execute_result",
          "data": {
            "text/plain": [
              "ElasticNet(alpha=0.05, copy_X=True, fit_intercept=True, l1_ratio=0.001,\n",
              "      max_iter=5000, normalize=False, positive=False, precompute=False,\n",
              "      random_state=None, selection='cyclic', tol=0.0001, warm_start=False)"
            ]
          },
          "metadata": {
            "tags": []
          },
          "execution_count": 11
        }
      ]
    },
    {
      "cell_type": "code",
      "metadata": {
        "id": "qPu4281slDG0",
        "colab_type": "code",
        "colab": {}
      },
      "source": [
        "pred_el = model_el.predict(X_val_el)"
      ],
      "execution_count": 0,
      "outputs": []
    },
    {
      "cell_type": "code",
      "metadata": {
        "id": "-powcJcxlDC2",
        "colab_type": "code",
        "outputId": "b5f0a5bd-1937-4cad-d060-4cc6685ebe27",
        "colab": {
          "base_uri": "https://localhost:8080/",
          "height": 34
        }
      },
      "source": [
        "np.sqrt(mean_squared_error(y_val, pred_el))"
      ],
      "execution_count": 0,
      "outputs": [
        {
          "output_type": "execute_result",
          "data": {
            "text/plain": [
              "2.0524763769667898"
            ]
          },
          "metadata": {
            "tags": []
          },
          "execution_count": 13
        }
      ]
    },
    {
      "cell_type": "code",
      "metadata": {
        "id": "qyeUSaT6uLtx",
        "colab_type": "code",
        "colab": {}
      },
      "source": [
        "# 1st try: 2.1347\n",
        "# 2nd try: 2.1266\n",
        "# 3rd try: 2.0524 (Mean encoding)"
      ],
      "execution_count": 0,
      "outputs": []
    },
    {
      "cell_type": "code",
      "metadata": {
        "id": "pcJRnmApUcRb",
        "colab_type": "code",
        "colab": {}
      },
      "source": [
        "df['el'] = pred_el"
      ],
      "execution_count": 0,
      "outputs": []
    },
    {
      "cell_type": "code",
      "metadata": {
        "id": "H6gCvvXMUbm4",
        "colab_type": "code",
        "colab": {}
      },
      "source": [
        ""
      ],
      "execution_count": 0,
      "outputs": []
    },
    {
      "cell_type": "markdown",
      "metadata": {
        "id": "Vy4kWzmxOg5v",
        "colab_type": "text"
      },
      "source": [
        "### 2. KNN "
      ]
    },
    {
      "cell_type": "code",
      "metadata": {
        "id": "rJNx1LEaV655",
        "colab_type": "code",
        "colab": {}
      },
      "source": [
        "# scaling?"
      ],
      "execution_count": 0,
      "outputs": []
    },
    {
      "cell_type": "code",
      "metadata": {
        "id": "PHEPkP9xOg1u",
        "colab_type": "code",
        "outputId": "940dafd4-a242-411d-a4bf-c6fc68cc1c2a",
        "colab": {
          "base_uri": "https://localhost:8080/",
          "height": 70
        }
      },
      "source": [
        "model_knn = KNeighborsRegressor(n_neighbors = 30, \n",
        "                                weights = 'distance',\n",
        "                                metric = 'minkowski', \n",
        "                                p = 1)  \n",
        "\n",
        "model_knn.fit(X_tr_el, y_tr)"
      ],
      "execution_count": 0,
      "outputs": [
        {
          "output_type": "execute_result",
          "data": {
            "text/plain": [
              "KNeighborsRegressor(algorithm='auto', leaf_size=30, metric='minkowski',\n",
              "          metric_params=None, n_jobs=None, n_neighbors=30, p=1,\n",
              "          weights='distance')"
            ]
          },
          "metadata": {
            "tags": []
          },
          "execution_count": 16
        }
      ]
    },
    {
      "cell_type": "code",
      "metadata": {
        "id": "Yr9HoUnUOgxk",
        "colab_type": "code",
        "outputId": "b6d9253e-29a4-48e6-ebd0-b1c248d0769e",
        "colab": {
          "base_uri": "https://localhost:8080/",
          "height": 34
        }
      },
      "source": [
        "pred_knn = model_knn.predict(X_val_el)\n",
        "np.sqrt(mean_squared_error(y_val, pred_knn))"
      ],
      "execution_count": 0,
      "outputs": [
        {
          "output_type": "execute_result",
          "data": {
            "text/plain": [
              "2.1707756768863877"
            ]
          },
          "metadata": {
            "tags": []
          },
          "execution_count": 17
        }
      ]
    },
    {
      "cell_type": "code",
      "metadata": {
        "id": "VQA2ALy5Ogtv",
        "colab_type": "code",
        "colab": {}
      },
      "source": [
        "# 3rd try: 2.1707 (Mean encoding)"
      ],
      "execution_count": 0,
      "outputs": []
    },
    {
      "cell_type": "code",
      "metadata": {
        "id": "jPgCtCV-OgK4",
        "colab_type": "code",
        "colab": {}
      },
      "source": [
        "df['knn'] = pred_knn"
      ],
      "execution_count": 0,
      "outputs": []
    },
    {
      "cell_type": "code",
      "metadata": {
        "id": "flY-KV-lOgF7",
        "colab_type": "code",
        "colab": {}
      },
      "source": [
        ""
      ],
      "execution_count": 0,
      "outputs": []
    },
    {
      "cell_type": "markdown",
      "metadata": {
        "id": "-U1IQlvkOYSs",
        "colab_type": "text"
      },
      "source": [
        "### 3. Kernel SVM"
      ]
    },
    {
      "cell_type": "code",
      "metadata": {
        "id": "Ko7EOMgJV4YH",
        "colab_type": "code",
        "colab": {}
      },
      "source": [
        "# scaling?"
      ],
      "execution_count": 0,
      "outputs": []
    },
    {
      "cell_type": "code",
      "metadata": {
        "id": "gKdxcndpOYOx",
        "colab_type": "code",
        "outputId": "832a8898-46a0-4de0-81a9-149feabe7e5e",
        "colab": {
          "base_uri": "https://localhost:8080/",
          "height": 125
        }
      },
      "source": [
        "model_svm = SVR(kernel = 'rbf')  \n",
        "model_svm.fit(X_tr_el, y_tr)"
      ],
      "execution_count": 0,
      "outputs": [
        {
          "output_type": "stream",
          "text": [
            "/usr/local/lib/python3.6/dist-packages/sklearn/svm/base.py:196: FutureWarning: The default value of gamma will change from 'auto' to 'scale' in version 0.22 to account better for unscaled features. Set gamma explicitly to 'auto' or 'scale' to avoid this warning.\n",
            "  \"avoid this warning.\", FutureWarning)\n"
          ],
          "name": "stderr"
        },
        {
          "output_type": "execute_result",
          "data": {
            "text/plain": [
              "SVR(C=1.0, cache_size=200, coef0=0.0, degree=3, epsilon=0.1,\n",
              "  gamma='auto_deprecated', kernel='rbf', max_iter=-1, shrinking=True,\n",
              "  tol=0.001, verbose=False)"
            ]
          },
          "metadata": {
            "tags": []
          },
          "execution_count": 20
        }
      ]
    },
    {
      "cell_type": "code",
      "metadata": {
        "id": "awXq5R1DOYLa",
        "colab_type": "code",
        "outputId": "422f411a-90ed-4310-c0a2-937a84b36fef",
        "colab": {
          "base_uri": "https://localhost:8080/",
          "height": 34
        }
      },
      "source": [
        "pred_svm = model_svm.predict(X_val_el)\n",
        "np.sqrt(mean_squared_error(y_val, pred_knn))"
      ],
      "execution_count": 0,
      "outputs": [
        {
          "output_type": "execute_result",
          "data": {
            "text/plain": [
              "2.1707756768863877"
            ]
          },
          "metadata": {
            "tags": []
          },
          "execution_count": 21
        }
      ]
    },
    {
      "cell_type": "code",
      "metadata": {
        "id": "ta_v8B11OYHt",
        "colab_type": "code",
        "colab": {}
      },
      "source": [
        "# 3rd try: 2.1707 (Mean encoding)"
      ],
      "execution_count": 0,
      "outputs": []
    },
    {
      "cell_type": "code",
      "metadata": {
        "id": "D78cVS0cOYD0",
        "colab_type": "code",
        "colab": {}
      },
      "source": [
        "df['svm'] = pred_svm"
      ],
      "execution_count": 0,
      "outputs": []
    },
    {
      "cell_type": "markdown",
      "metadata": {
        "id": "aSOZ4TdgmRc6",
        "colab_type": "text"
      },
      "source": [
        "### 4. Xgboost"
      ]
    },
    {
      "cell_type": "code",
      "metadata": {
        "id": "ZrwDjC2qmRYv",
        "colab_type": "code",
        "colab": {}
      },
      "source": [
        "model_xg = xgb.XGBRegressor(objective = 'reg:linear',\n",
        "                            n_estimators = 3000, \n",
        "                            max_depth = 9, \n",
        "                            learning_rate = 0.007,\n",
        "                            early_stopping_rounds = 500,\n",
        "                            gamma = 1.0, \n",
        "                            #alpha = .6,\n",
        "                            subsample = 0.7,   \n",
        "                            colsample_bytree = 0.7, \n",
        "                            colsample_bylevel = 0.8,\n",
        "                            silent = True)"
      ],
      "execution_count": 0,
      "outputs": []
    },
    {
      "cell_type": "code",
      "metadata": {
        "id": "URgam83RP_6P",
        "colab_type": "code",
        "outputId": "d7621ff7-08ee-4ab3-9a90-192e619477e0",
        "colab": {
          "base_uri": "https://localhost:8080/",
          "height": 70
        }
      },
      "source": [
        "model_xg.fit(X_tr, y_tr)\n",
        "    \n",
        "pred_xg = model_xg.predict(X_val)\n",
        "np.sqrt(mean_squared_error(y_val, pred_xg))"
      ],
      "execution_count": 61,
      "outputs": [
        {
          "output_type": "stream",
          "text": [
            "/usr/local/lib/python3.6/dist-packages/xgboost/core.py:587: FutureWarning: Series.base is deprecated and will be removed in a future version\n",
            "  if getattr(data, 'base', None) is not None and \\\n"
          ],
          "name": "stderr"
        },
        {
          "output_type": "execute_result",
          "data": {
            "text/plain": [
              "1.8439307131131533"
            ]
          },
          "metadata": {
            "tags": []
          },
          "execution_count": 61
        }
      ]
    },
    {
      "cell_type": "code",
      "metadata": {
        "id": "u3G-BVqSmRMf",
        "colab_type": "code",
        "colab": {}
      },
      "source": [
        "# 1st try: 1.9202\n",
        "# 2nd try: 1.9128\n",
        "# 3nd try: 1.8978\n",
        "# 4th try: 1.8791 (Mean encoding)\n",
        "# 5th try: 1.8439 (+ Voting Data)"
      ],
      "execution_count": 0,
      "outputs": []
    },
    {
      "cell_type": "code",
      "metadata": {
        "id": "sJ9sxXx3YPZx",
        "colab_type": "code",
        "outputId": "7fb5f83f-da82-43a7-ac93-936171130d4e",
        "colab": {
          "base_uri": "https://localhost:8080/",
          "height": 141
        }
      },
      "source": [
        "param_save = model_xg.get_params\n",
        "param_save"
      ],
      "execution_count": 25,
      "outputs": [
        {
          "output_type": "execute_result",
          "data": {
            "text/plain": [
              "<bound method XGBModel.get_params of XGBRegressor(base_score=0.5, booster='gbtree', colsample_bylevel=0.8,\n",
              "       colsample_bytree=0.7, early_stopping_rounds=500, gamma=1.0,\n",
              "       importance_type='gain', learning_rate=0.007, max_delta_step=0,\n",
              "       max_depth=9, min_child_weight=1, missing=None, n_estimators=3000,\n",
              "       n_jobs=1, nthread=None, objective='reg:linear', random_state=0,\n",
              "       reg_alpha=0, reg_lambda=1, scale_pos_weight=1, seed=None,\n",
              "       silent=True, subsample=0.7)>"
            ]
          },
          "metadata": {
            "tags": []
          },
          "execution_count": 25
        }
      ]
    },
    {
      "cell_type": "code",
      "metadata": {
        "id": "Eb_DKV_zECbd",
        "colab_type": "code",
        "colab": {}
      },
      "source": [
        "df['xg'] = pred_xg"
      ],
      "execution_count": 0,
      "outputs": []
    },
    {
      "cell_type": "code",
      "metadata": {
        "id": "53sEXmDj1n42",
        "colab_type": "code",
        "colab": {
          "base_uri": "https://localhost:8080/",
          "height": 1056
        },
        "outputId": "3b09b2fe-f14f-45ec-f468-b94cf079aba1"
      },
      "source": [
        "fig, ax = plt.subplots(figsize=(12,18))\n",
        "xgb.plot_importance(model_xg, max_num_features= 50, height=0.8, ax=ax)\n",
        "plt.show()"
      ],
      "execution_count": 64,
      "outputs": [
        {
          "output_type": "display_data",
          "data": {
            "image/png": "[encoded data removed]",
            "text/plain": [
              "<Figure size 864x1296 with 1 Axes>"
            ]
          },
          "metadata": {
            "tags": []
          }
        }
      ]
    },
    {
      "cell_type": "code",
      "metadata": {
        "id": "iwlRfn7I9gEB",
        "colab_type": "code",
        "colab": {}
      },
      "source": [
        ""
      ],
      "execution_count": 0,
      "outputs": []
    },
    {
      "cell_type": "code",
      "metadata": {
        "id": "5Mb2B4Ss9f6M",
        "colab_type": "code",
        "colab": {}
      },
      "source": [
        ""
      ],
      "execution_count": 0,
      "outputs": []
    },
    {
      "cell_type": "markdown",
      "metadata": {
        "id": "fbeIIJLou4SO",
        "colab_type": "text"
      },
      "source": [
        "### 5. Catboost"
      ]
    },
    {
      "cell_type": "code",
      "metadata": {
        "id": "66uB1vQajEAt",
        "colab_type": "code",
        "outputId": "432dc1c2-5b6c-4a2d-af9d-dffdc40655c3",
        "colab": {
          "base_uri": "https://localhost:8080/",
          "height": 35
        }
      },
      "source": [
        "model_cb = CatBoostRegressor(bagging_temperature = 0.5,  \n",
        "                             colsample_bylevel = 0.8,  \n",
        "                             depth = 9,   \n",
        "                             early_stopping_rounds = 500,   \n",
        "                             eval_metric = 'RMSE',\n",
        "                             iterations = 3000,                             \n",
        "                             learning_rate = .05,    \n",
        "                             logging_level = 'Silent')\n",
        "\n",
        "model_cb.fit(X_tr, y_tr, eval_set = (X_val, y_val), use_best_model = True)"
      ],
      "execution_count": 65,
      "outputs": [
        {
          "output_type": "execute_result",
          "data": {
            "text/plain": [
              "<catboost.core.CatBoostRegressor at 0x7f33806c0438>"
            ]
          },
          "metadata": {
            "tags": []
          },
          "execution_count": 65
        }
      ]
    },
    {
      "cell_type": "code",
      "metadata": {
        "id": "aOQaWZMpkVYK",
        "colab_type": "code",
        "outputId": "252b25f2-5cc5-4c49-ef06-3548f3c16c78",
        "colab": {
          "base_uri": "https://localhost:8080/",
          "height": 35
        }
      },
      "source": [
        "pred_cb = model_cb.predict(X_val)\n",
        "np.sqrt(mean_squared_error(y_val, pred_cb))"
      ],
      "execution_count": 66,
      "outputs": [
        {
          "output_type": "execute_result",
          "data": {
            "text/plain": [
              "1.8268321169613426"
            ]
          },
          "metadata": {
            "tags": []
          },
          "execution_count": 66
        }
      ]
    },
    {
      "cell_type": "code",
      "metadata": {
        "id": "Z7PFdJGnkVMQ",
        "colab_type": "code",
        "colab": {}
      },
      "source": [
        "# 1st try: 1.9218\n",
        "# 2nd try: 1.8779\n",
        "# 3rd try: 1.8753\n",
        "# 4th try: 1.8618 (Mean encoding)\n",
        "# 5th try: 1.8268 (+ Voting Data)"
      ],
      "execution_count": 0,
      "outputs": []
    },
    {
      "cell_type": "code",
      "metadata": {
        "id": "F70LE-vtkVHy",
        "colab_type": "code",
        "outputId": "a4ec5919-39d3-43f4-f40c-390f47e85f84",
        "colab": {
          "base_uri": "https://localhost:8080/",
          "height": 176
        }
      },
      "source": [
        "model_cb.get_params()"
      ],
      "execution_count": 0,
      "outputs": [
        {
          "output_type": "execute_result",
          "data": {
            "text/plain": [
              "{'bagging_temperature': 0.5,\n",
              " 'colsample_bylevel': 0.8,\n",
              " 'depth': 9,\n",
              " 'early_stopping_rounds': 500,\n",
              " 'eval_metric': 'RMSE',\n",
              " 'iterations': 3000,\n",
              " 'learning_rate': 0.05,\n",
              " 'logging_level': 'Silent',\n",
              " 'loss_function': 'RMSE'}"
            ]
          },
          "metadata": {
            "tags": []
          },
          "execution_count": 33
        }
      ]
    },
    {
      "cell_type": "code",
      "metadata": {
        "id": "JqB7tIDPy-8m",
        "colab_type": "code",
        "colab": {}
      },
      "source": [
        "df['cb'] = pred_cb"
      ],
      "execution_count": 0,
      "outputs": []
    },
    {
      "cell_type": "code",
      "metadata": {
        "id": "DXPKXXMQy-1W",
        "colab_type": "code",
        "colab": {}
      },
      "source": [
        ""
      ],
      "execution_count": 0,
      "outputs": []
    },
    {
      "cell_type": "markdown",
      "metadata": {
        "id": "NY6rCN7PqLoT",
        "colab_type": "text"
      },
      "source": [
        "### 6. Lightgbm"
      ]
    },
    {
      "cell_type": "code",
      "metadata": {
        "id": "R06-Shda73jR",
        "colab_type": "code",
        "outputId": "6d8257a3-a179-4be1-a187-2cb89cc93690",
        "colab": {
          "base_uri": "https://localhost:8080/",
          "height": 123
        }
      },
      "source": [
        "!pip install lightgbm --install-option=--gpu\n",
        "import lightgbm as lgb"
      ],
      "execution_count": 0,
      "outputs": [
        {
          "output_type": "stream",
          "text": [
            "/usr/local/lib/python3.6/dist-packages/pip/_internal/commands/install.py:244: UserWarning: Disabling all use of wheels due to the use of --build-options / --global-options / --install-options.\n",
            "  cmdoptions.check_install_build_global(options)\n",
            "Requirement already satisfied: lightgbm in /usr/local/lib/python3.6/dist-packages (2.2.3)\n",
            "Requirement already satisfied: scikit-learn in /usr/local/lib/python3.6/dist-packages (from lightgbm) (0.20.3)\n",
            "Requirement already satisfied: numpy in /usr/local/lib/python3.6/dist-packages (from lightgbm) (1.16.3)\n",
            "Requirement already satisfied: scipy in /usr/local/lib/python3.6/dist-packages (from lightgbm) (1.2.1)\n"
          ],
          "name": "stdout"
        }
      ]
    },
    {
      "cell_type": "code",
      "metadata": {
        "id": "p64muoC2qZky",
        "colab_type": "code",
        "outputId": "f8b88db2-e09d-4784-f386-0cb7ca4dc81a",
        "colab": {
          "base_uri": "https://localhost:8080/",
          "height": 106
        }
      },
      "source": [
        "tr_data = lgb.Dataset(X_tr, label = y_tr)\n",
        "val_data = lgb.Dataset(X_val, label = y_val)\n",
        "\n",
        "params = {'objective' : 'regression',\n",
        "          'num_iterations' : 10000, \n",
        "          'max_depth' : 13,\n",
        "          'num_leaves' : 100,\n",
        "          'learning_rate': 0.003,\n",
        "          'metric' : 'rmse',\n",
        "          'min_data_in_leaf' : 100,\n",
        "          'colsample_bytree': 0.8,\n",
        "          'subsample_freq': 1,\n",
        "          'lambda_l1' : 0.01,\n",
        "          'lambda_l2' : 0.5,\n",
        "          'subsample' : 0.8, \n",
        "          'verbose' : -1}\n",
        "\n",
        "hist = {}\n",
        "model_lg = lgb.train(params, tr_data, \n",
        "                     valid_sets = [val_data],\n",
        "                     verbose_eval = -1, \n",
        "                     early_stopping_rounds = 500,\n",
        "                     callbacks = [lgb.record_evaluation(hist)])"
      ],
      "execution_count": 81,
      "outputs": [
        {
          "output_type": "stream",
          "text": [
            "/usr/local/lib/python3.6/dist-packages/lightgbm/engine.py:118: UserWarning: Found `num_iterations` in params. Will use it instead of argument\n",
            "  warnings.warn(\"Found `{}` in params. Will use it instead of argument\".format(alias))\n"
          ],
          "name": "stderr"
        },
        {
          "output_type": "stream",
          "text": [
            "Training until validation scores don't improve for 500 rounds.\n",
            "Early stopping, best iteration is:\n",
            "[5013]\tvalid_0's rmse: 1.87635\n"
          ],
          "name": "stdout"
        }
      ]
    },
    {
      "cell_type": "code",
      "metadata": {
        "id": "VSnyWtDn7Pvq",
        "colab_type": "code",
        "outputId": "40c552e7-7472-4abb-de32-233ee28682ec",
        "colab": {
          "base_uri": "https://localhost:8080/",
          "height": 35
        }
      },
      "source": [
        "pred_lg = model_lg.predict(X_val, num_iteration = model_lg.best_iteration)\n",
        "np.sqrt(mean_squared_error(y_val, pred_lg))"
      ],
      "execution_count": 82,
      "outputs": [
        {
          "output_type": "execute_result",
          "data": {
            "text/plain": [
              "1.8763506723626975"
            ]
          },
          "metadata": {
            "tags": []
          },
          "execution_count": 82
        }
      ]
    },
    {
      "cell_type": "code",
      "metadata": {
        "id": "Zln7Mt34qKQI",
        "colab_type": "code",
        "colab": {}
      },
      "source": [
        "# 1st try: \n",
        "# 2nd try: 1.9138\n",
        "# 3rd try: 1.9008 (Mean encoding)\n",
        "# 5th try: 1.8738 (+ Voting Data)"
      ],
      "execution_count": 0,
      "outputs": []
    },
    {
      "cell_type": "code",
      "metadata": {
        "id": "WJ6C8iyIfp8V",
        "colab_type": "code",
        "outputId": "0904c360-6022-456d-88ed-4067121a0a45",
        "colab": {
          "base_uri": "https://localhost:8080/",
          "height": 230
        }
      },
      "source": [
        "model_lg.params"
      ],
      "execution_count": 71,
      "outputs": [
        {
          "output_type": "execute_result",
          "data": {
            "text/plain": [
              "{'colsample_bytree': 0.8,\n",
              " 'lambda_l1': 0.01,\n",
              " 'lambda_l2': 0.5,\n",
              " 'learning_rate': 0.003,\n",
              " 'max_depth': 13,\n",
              " 'metric': 'rmse',\n",
              " 'min_data_in_leaf': 100,\n",
              " 'num_leaves': 200,\n",
              " 'objective': 'regression',\n",
              " 'subsample': 0.8,\n",
              " 'subsample_freq': 1,\n",
              " 'verbose': -1}"
            ]
          },
          "metadata": {
            "tags": []
          },
          "execution_count": 71
        }
      ]
    },
    {
      "cell_type": "code",
      "metadata": {
        "id": "TIQECkhnjc4L",
        "colab_type": "code",
        "colab": {}
      },
      "source": [
        "df['lg'] = pred_lg"
      ],
      "execution_count": 0,
      "outputs": []
    },
    {
      "cell_type": "markdown",
      "metadata": {
        "id": "DA6Ci1O1u4-f",
        "colab_type": "text"
      },
      "source": [
        "### 7. Keras"
      ]
    },
    {
      "cell_type": "code",
      "metadata": {
        "id": "Do3dSm7nvdhj",
        "colab_type": "code",
        "colab": {
          "base_uri": "https://localhost:8080/",
          "height": 35
        },
        "outputId": "7933aadd-16e0-4284-bedc-01a1641cc19e"
      },
      "source": [
        "import keras\n",
        "from keras.models import Sequential\n",
        "from keras.layers import Dense, Dropout\n",
        "from keras.optimizers import Adam\n",
        "from keras.callbacks import EarlyStopping"
      ],
      "execution_count": 84,
      "outputs": [
        {
          "output_type": "stream",
          "text": [
            "Using TensorFlow backend.\n"
          ],
          "name": "stderr"
        }
      ]
    },
    {
      "cell_type": "code",
      "metadata": {
        "id": "ixLm8rtAmil7",
        "colab_type": "code",
        "outputId": "8a57c522-8824-432b-e534-e1d8ac394d1a",
        "colab": {
          "base_uri": "https://localhost:8080/",
          "height": 52
        }
      },
      "source": [
        "print(X_tr.shape[1])\n",
        "print(X_tr.shape[1] /2)"
      ],
      "execution_count": 85,
      "outputs": [
        {
          "output_type": "stream",
          "text": [
            "372\n",
            "186.0\n"
          ],
          "name": "stdout"
        }
      ]
    },
    {
      "cell_type": "code",
      "metadata": {
        "id": "0NdZviyBmFZ4",
        "colab_type": "code",
        "outputId": "cf0729ae-45a2-4633-b319-6b65b8edc283",
        "colab": {
          "base_uri": "https://localhost:8080/",
          "height": 159
        }
      },
      "source": [
        "# initialize the model\n",
        "model = Sequential()\n",
        "\n",
        "# create hidden layers\n",
        "model.add(Dense(input_dim = X_tr.shape[1], output_dim = 128, activation = 'relu'))\n",
        "model.add(Dense(output_dim = 64, activation = 'relu'))\n",
        "model.add(Dense(output_dim = 16, activation = 'relu'))\n",
        "model.add(Dense(output_dim = 1)) \n",
        "\n",
        "# compile: stochastic gradient descent\n",
        "model.compile(optimizer = Adam(lr = .1), \n",
        "              loss = 'mse', \n",
        "              metrics = ['mean_squared_error'])"
      ],
      "execution_count": 90,
      "outputs": [
        {
          "output_type": "stream",
          "text": [
            "/usr/local/lib/python3.6/dist-packages/ipykernel_launcher.py:4: UserWarning: Update your `Dense` call to the Keras 2 API: `Dense(input_dim=372, activation=\"relu\", units=128)`\n",
            "  after removing the cwd from sys.path.\n",
            "/usr/local/lib/python3.6/dist-packages/ipykernel_launcher.py:5: UserWarning: Update your `Dense` call to the Keras 2 API: `Dense(activation=\"relu\", units=64)`\n",
            "  \"\"\"\n",
            "/usr/local/lib/python3.6/dist-packages/ipykernel_launcher.py:6: UserWarning: Update your `Dense` call to the Keras 2 API: `Dense(activation=\"relu\", units=16)`\n",
            "  \n",
            "/usr/local/lib/python3.6/dist-packages/ipykernel_launcher.py:7: UserWarning: Update your `Dense` call to the Keras 2 API: `Dense(units=1)`\n",
            "  import sys\n"
          ],
          "name": "stderr"
        }
      ]
    },
    {
      "cell_type": "code",
      "metadata": {
        "id": "eH32NkwHn10R",
        "colab_type": "code",
        "outputId": "f428d5ae-f7f0-48da-f73d-bc36f9d0d363",
        "colab": {
          "base_uri": "https://localhost:8080/",
          "height": 659
        }
      },
      "source": [
        "# early stopper \n",
        "early_stopper = EarlyStopping(patience = 5)\n",
        "\n",
        "r = model.fit(X_tr, y_tr, \n",
        "              validation_data = (X_val, y_val),\n",
        "              batch_size = 300, \n",
        "              nb_epoch = 1000,\n",
        "              callbacks = [early_stopper])"
      ],
      "execution_count": 91,
      "outputs": [
        {
          "output_type": "stream",
          "text": [
            "/usr/local/lib/python3.6/dist-packages/ipykernel_launcher.py:7: UserWarning: The `nb_epoch` argument in `fit` has been renamed `epochs`.\n",
            "  import sys\n"
          ],
          "name": "stderr"
        },
        {
          "output_type": "stream",
          "text": [
            "Train on 2400 samples, validate on 600 samples\n",
            "Epoch 1/1000\n",
            "2400/2400 [==============================] - 0s 114us/step - loss: 407381770498.5413 - mean_squared_error: 407381770498.5413 - val_loss: 299.1674 - val_mean_squared_error: 299.1674\n",
            "Epoch 2/1000\n",
            "2400/2400 [==============================] - 0s 17us/step - loss: 199.8481 - mean_squared_error: 199.8481 - val_loss: 50.6366 - val_mean_squared_error: 50.6366\n",
            "Epoch 3/1000\n",
            "2400/2400 [==============================] - 0s 15us/step - loss: 36.6339 - mean_squared_error: 36.6339 - val_loss: 63.5127 - val_mean_squared_error: 63.5127\n",
            "Epoch 4/1000\n",
            "2400/2400 [==============================] - 0s 15us/step - loss: 30.0170 - mean_squared_error: 30.0170 - val_loss: 16.8521 - val_mean_squared_error: 16.8521\n",
            "Epoch 5/1000\n",
            "2400/2400 [==============================] - 0s 16us/step - loss: 22.9222 - mean_squared_error: 22.9222 - val_loss: 14.6047 - val_mean_squared_error: 14.6047\n",
            "Epoch 6/1000\n",
            "2400/2400 [==============================] - 0s 16us/step - loss: 11.7088 - mean_squared_error: 11.7088 - val_loss: 13.0705 - val_mean_squared_error: 13.0705\n",
            "Epoch 7/1000\n",
            "2400/2400 [==============================] - 0s 17us/step - loss: 11.2654 - mean_squared_error: 11.2654 - val_loss: 9.6949 - val_mean_squared_error: 9.6949\n",
            "Epoch 8/1000\n",
            "2400/2400 [==============================] - 0s 17us/step - loss: 10.5988 - mean_squared_error: 10.5988 - val_loss: 8.9390 - val_mean_squared_error: 8.9390\n",
            "Epoch 9/1000\n",
            "2400/2400 [==============================] - 0s 16us/step - loss: 9.5947 - mean_squared_error: 9.5947 - val_loss: 8.8001 - val_mean_squared_error: 8.8001\n",
            "Epoch 10/1000\n",
            "2400/2400 [==============================] - 0s 17us/step - loss: 9.4943 - mean_squared_error: 9.4943 - val_loss: 9.0519 - val_mean_squared_error: 9.0519\n",
            "Epoch 11/1000\n",
            "2400/2400 [==============================] - 0s 15us/step - loss: 9.4660 - mean_squared_error: 9.4660 - val_loss: 8.6059 - val_mean_squared_error: 8.6059\n",
            "Epoch 12/1000\n",
            "2400/2400 [==============================] - 0s 17us/step - loss: 9.3870 - mean_squared_error: 9.3870 - val_loss: 8.6657 - val_mean_squared_error: 8.6657\n",
            "Epoch 13/1000\n",
            "2400/2400 [==============================] - 0s 16us/step - loss: 9.3782 - mean_squared_error: 9.3782 - val_loss: 8.6761 - val_mean_squared_error: 8.6761\n",
            "Epoch 14/1000\n",
            "2400/2400 [==============================] - 0s 16us/step - loss: 9.3914 - mean_squared_error: 9.3914 - val_loss: 8.6195 - val_mean_squared_error: 8.6195\n",
            "Epoch 15/1000\n",
            "2400/2400 [==============================] - 0s 16us/step - loss: 9.3916 - mean_squared_error: 9.3916 - val_loss: 8.6865 - val_mean_squared_error: 8.6865\n",
            "Epoch 16/1000\n",
            "2400/2400 [==============================] - 0s 16us/step - loss: 9.3500 - mean_squared_error: 9.3500 - val_loss: 8.6120 - val_mean_squared_error: 8.6120\n"
          ],
          "name": "stdout"
        }
      ]
    },
    {
      "cell_type": "code",
      "metadata": {
        "id": "eeGu93Rdn1uy",
        "colab_type": "code",
        "outputId": "3bfbd933-870e-466b-b09d-670d6e99f983",
        "colab": {
          "base_uri": "https://localhost:8080/",
          "height": 35
        }
      },
      "source": [
        "# prediction \n",
        "pred_ke = model.predict(X_val)\n",
        "np.sqrt(mean_squared_error(y_val, pred_ke))"
      ],
      "execution_count": 92,
      "outputs": [
        {
          "output_type": "execute_result",
          "data": {
            "text/plain": [
              "2.934616724780643"
            ]
          },
          "metadata": {
            "tags": []
          },
          "execution_count": 92
        }
      ]
    },
    {
      "cell_type": "code",
      "metadata": {
        "id": "4SiBcKX88cnC",
        "colab_type": "code",
        "colab": {}
      },
      "source": [
        "# 1st try : 2.9460\n",
        "# 2nd try : 2.9338 (Mean Encoding)"
      ],
      "execution_count": 0,
      "outputs": []
    },
    {
      "cell_type": "code",
      "metadata": {
        "id": "5A1d8Wa1j1eu",
        "colab_type": "code",
        "colab": {
          "base_uri": "https://localhost:8080/",
          "height": 2988
        },
        "outputId": "5a10c4a3-080a-4b21-9ef4-1c4958123405"
      },
      "source": [
        "lr_vals = [0.01, 0.05, 0.1, 0.2, 0.5]\n",
        "\n",
        "for lr in lr_vals:\n",
        "    my_optimizer = Adam(lr = lr)\n",
        "    model.compile(optimizer = my_optimizer, loss = 'mse', metrics = ['mean_squared_logarithmic_error'])\n",
        "    model.fit(X_tr, y_tr,\n",
        "              validation_data = (X_val, y_val),\n",
        "              batch_size = 100,\n",
        "              nb_epoch = 1000,\n",
        "              callbacks = [early_stopper])\n",
        "    \n",
        "    print(\"==========================\")\n",
        "    pred_ke = model.predict(X_val)\n",
        "    loss = np.sqrt(mean_squared_error(y_val, pred_ke))\n",
        "    print(\"Learning Rate: {}, RMSE: {}\".format(lr, loss))\n",
        "    print(\"==========================\")"
      ],
      "execution_count": 98,
      "outputs": [
        {
          "output_type": "stream",
          "text": [
            "/usr/local/lib/python3.6/dist-packages/ipykernel_launcher.py:10: UserWarning: The `nb_epoch` argument in `fit` has been renamed `epochs`.\n",
            "  # Remove the CWD from sys.path while we load stuff.\n"
          ],
          "name": "stderr"
        },
        {
          "output_type": "stream",
          "text": [
            "Train on 2400 samples, validate on 600 samples\n",
            "Epoch 1/1000\n",
            "2400/2400 [==============================] - 1s 472us/step - loss: 9.3649 - mean_squared_logarithmic_error: 0.0674 - val_loss: 8.7961 - val_mean_squared_logarithmic_error: 0.0521\n",
            "Epoch 2/1000\n",
            "2400/2400 [==============================] - 0s 45us/step - loss: 9.3620 - mean_squared_logarithmic_error: 0.0668 - val_loss: 8.6087 - val_mean_squared_logarithmic_error: 0.0523\n",
            "Epoch 3/1000\n",
            "2400/2400 [==============================] - 0s 46us/step - loss: 9.3741 - mean_squared_logarithmic_error: 0.0676 - val_loss: 8.6631 - val_mean_squared_logarithmic_error: 0.0521\n",
            "Epoch 4/1000\n",
            "2400/2400 [==============================] - 0s 43us/step - loss: 9.3943 - mean_squared_logarithmic_error: 0.0671 - val_loss: 8.6081 - val_mean_squared_logarithmic_error: 0.0523\n",
            "Epoch 5/1000\n",
            "2400/2400 [==============================] - 0s 41us/step - loss: 9.3826 - mean_squared_logarithmic_error: 0.0675 - val_loss: 8.6754 - val_mean_squared_logarithmic_error: 0.0521\n",
            "Epoch 6/1000\n",
            "2400/2400 [==============================] - 0s 42us/step - loss: 9.3639 - mean_squared_logarithmic_error: 0.0673 - val_loss: 8.6686 - val_mean_squared_logarithmic_error: 0.0521\n",
            "Epoch 7/1000\n",
            "2400/2400 [==============================] - 0s 41us/step - loss: 9.3680 - mean_squared_logarithmic_error: 0.0672 - val_loss: 8.6168 - val_mean_squared_logarithmic_error: 0.0522\n",
            "Epoch 8/1000\n",
            "2400/2400 [==============================] - 0s 39us/step - loss: 9.3646 - mean_squared_logarithmic_error: 0.0675 - val_loss: 8.6965 - val_mean_squared_logarithmic_error: 0.0520\n",
            "Epoch 9/1000\n",
            "2400/2400 [==============================] - 0s 42us/step - loss: 9.3726 - mean_squared_logarithmic_error: 0.0671 - val_loss: 8.6219 - val_mean_squared_logarithmic_error: 0.0522\n",
            "==========================\n",
            "Learning Rate: 0.01, RMSE: 2.9363067863094723\n",
            "==========================\n"
          ],
          "name": "stdout"
        },
        {
          "output_type": "stream",
          "text": [
            "/usr/local/lib/python3.6/dist-packages/ipykernel_launcher.py:10: UserWarning: The `nb_epoch` argument in `fit` has been renamed `epochs`.\n",
            "  # Remove the CWD from sys.path while we load stuff.\n"
          ],
          "name": "stderr"
        },
        {
          "output_type": "stream",
          "text": [
            "Train on 2400 samples, validate on 600 samples\n",
            "Epoch 1/1000\n",
            "2400/2400 [==============================] - 1s 545us/step - loss: 9.3691 - mean_squared_logarithmic_error: 0.0672 - val_loss: 8.6700 - val_mean_squared_logarithmic_error: 0.0521\n",
            "Epoch 2/1000\n",
            "2400/2400 [==============================] - 0s 44us/step - loss: 9.4061 - mean_squared_logarithmic_error: 0.0672 - val_loss: 8.7453 - val_mean_squared_logarithmic_error: 0.0538\n",
            "Epoch 3/1000\n",
            "2400/2400 [==============================] - 0s 42us/step - loss: 9.4555 - mean_squared_logarithmic_error: 0.0677 - val_loss: 8.6081 - val_mean_squared_logarithmic_error: 0.0523\n",
            "Epoch 4/1000\n",
            "2400/2400 [==============================] - 0s 41us/step - loss: 9.4535 - mean_squared_logarithmic_error: 0.0677 - val_loss: 8.9760 - val_mean_squared_logarithmic_error: 0.0523\n",
            "Epoch 5/1000\n",
            "2400/2400 [==============================] - 0s 48us/step - loss: 9.4390 - mean_squared_logarithmic_error: 0.0673 - val_loss: 8.6589 - val_mean_squared_logarithmic_error: 0.0521\n",
            "Epoch 6/1000\n",
            "2400/2400 [==============================] - 0s 44us/step - loss: 9.4081 - mean_squared_logarithmic_error: 0.0673 - val_loss: 8.6059 - val_mean_squared_logarithmic_error: 0.0524\n",
            "Epoch 7/1000\n",
            "2400/2400 [==============================] - 0s 43us/step - loss: 9.4207 - mean_squared_logarithmic_error: 0.0676 - val_loss: 8.6069 - val_mean_squared_logarithmic_error: 0.0524\n",
            "Epoch 8/1000\n",
            "2400/2400 [==============================] - 0s 43us/step - loss: 9.4293 - mean_squared_logarithmic_error: 0.0675 - val_loss: 8.6487 - val_mean_squared_logarithmic_error: 0.0521\n",
            "Epoch 9/1000\n",
            "2400/2400 [==============================] - 0s 43us/step - loss: 9.3748 - mean_squared_logarithmic_error: 0.0672 - val_loss: 8.6072 - val_mean_squared_logarithmic_error: 0.0524\n",
            "Epoch 10/1000\n",
            "2400/2400 [==============================] - 0s 44us/step - loss: 9.4037 - mean_squared_logarithmic_error: 0.0674 - val_loss: 8.6293 - val_mean_squared_logarithmic_error: 0.0522\n",
            "Epoch 11/1000\n",
            "2400/2400 [==============================] - 0s 42us/step - loss: 9.3838 - mean_squared_logarithmic_error: 0.0674 - val_loss: 8.6861 - val_mean_squared_logarithmic_error: 0.0520\n",
            "==========================\n",
            "Learning Rate: 0.05, RMSE: 2.947224815267528\n",
            "==========================\n"
          ],
          "name": "stdout"
        },
        {
          "output_type": "stream",
          "text": [
            "/usr/local/lib/python3.6/dist-packages/ipykernel_launcher.py:10: UserWarning: The `nb_epoch` argument in `fit` has been renamed `epochs`.\n",
            "  # Remove the CWD from sys.path while we load stuff.\n"
          ],
          "name": "stderr"
        },
        {
          "output_type": "stream",
          "text": [
            "Train on 2400 samples, validate on 600 samples\n",
            "Epoch 1/1000\n",
            "2400/2400 [==============================] - 1s 550us/step - loss: 9.4636 - mean_squared_logarithmic_error: 0.0677 - val_loss: 8.6874 - val_mean_squared_logarithmic_error: 0.0520\n",
            "Epoch 2/1000\n",
            "2400/2400 [==============================] - 0s 45us/step - loss: 9.4570 - mean_squared_logarithmic_error: 0.0678 - val_loss: 8.9033 - val_mean_squared_logarithmic_error: 0.0522\n",
            "Epoch 3/1000\n",
            "2400/2400 [==============================] - 0s 42us/step - loss: 9.4508 - mean_squared_logarithmic_error: 0.0675 - val_loss: 8.6897 - val_mean_squared_logarithmic_error: 0.0534\n",
            "Epoch 4/1000\n",
            "2400/2400 [==============================] - 0s 49us/step - loss: 9.4500 - mean_squared_logarithmic_error: 0.0674 - val_loss: 8.6979 - val_mean_squared_logarithmic_error: 0.0520\n",
            "Epoch 5/1000\n",
            "2400/2400 [==============================] - 0s 50us/step - loss: 9.3925 - mean_squared_logarithmic_error: 0.0675 - val_loss: 8.6515 - val_mean_squared_logarithmic_error: 0.0521\n",
            "Epoch 6/1000\n",
            "2400/2400 [==============================] - 0s 43us/step - loss: 9.4120 - mean_squared_logarithmic_error: 0.0674 - val_loss: 8.6347 - val_mean_squared_logarithmic_error: 0.0530\n",
            "Epoch 7/1000\n",
            "2400/2400 [==============================] - 0s 45us/step - loss: 9.4099 - mean_squared_logarithmic_error: 0.0675 - val_loss: 8.8664 - val_mean_squared_logarithmic_error: 0.0521\n",
            "Epoch 8/1000\n",
            "2400/2400 [==============================] - 0s 44us/step - loss: 9.4163 - mean_squared_logarithmic_error: 0.0673 - val_loss: 8.6444 - val_mean_squared_logarithmic_error: 0.0521\n",
            "Epoch 9/1000\n",
            "2400/2400 [==============================] - 0s 41us/step - loss: 9.4266 - mean_squared_logarithmic_error: 0.0675 - val_loss: 8.7513 - val_mean_squared_logarithmic_error: 0.0520\n",
            "Epoch 10/1000\n",
            "2400/2400 [==============================] - 0s 41us/step - loss: 9.4098 - mean_squared_logarithmic_error: 0.0675 - val_loss: 8.7537 - val_mean_squared_logarithmic_error: 0.0520\n",
            "Epoch 11/1000\n",
            "2400/2400 [==============================] - 0s 43us/step - loss: 9.4819 - mean_squared_logarithmic_error: 0.0677 - val_loss: 8.6310 - val_mean_squared_logarithmic_error: 0.0529\n",
            "Epoch 12/1000\n",
            "2400/2400 [==============================] - 0s 41us/step - loss: 9.4958 - mean_squared_logarithmic_error: 0.0678 - val_loss: 8.6589 - val_mean_squared_logarithmic_error: 0.0521\n",
            "Epoch 13/1000\n",
            "2400/2400 [==============================] - 0s 42us/step - loss: 9.3707 - mean_squared_logarithmic_error: 0.0674 - val_loss: 8.6731 - val_mean_squared_logarithmic_error: 0.0521\n",
            "Epoch 14/1000\n",
            "2400/2400 [==============================] - 0s 46us/step - loss: 9.4564 - mean_squared_logarithmic_error: 0.0673 - val_loss: 8.6086 - val_mean_squared_logarithmic_error: 0.0523\n",
            "Epoch 15/1000\n",
            "2400/2400 [==============================] - 0s 43us/step - loss: 9.4052 - mean_squared_logarithmic_error: 0.0674 - val_loss: 8.6679 - val_mean_squared_logarithmic_error: 0.0521\n",
            "Epoch 16/1000\n",
            "2400/2400 [==============================] - 0s 41us/step - loss: 9.4991 - mean_squared_logarithmic_error: 0.0677 - val_loss: 8.7523 - val_mean_squared_logarithmic_error: 0.0520\n",
            "Epoch 17/1000\n",
            "2400/2400 [==============================] - 0s 42us/step - loss: 9.3903 - mean_squared_logarithmic_error: 0.0674 - val_loss: 8.6142 - val_mean_squared_logarithmic_error: 0.0527\n",
            "Epoch 18/1000\n",
            "2400/2400 [==============================] - 0s 44us/step - loss: 9.4050 - mean_squared_logarithmic_error: 0.0674 - val_loss: 8.8603 - val_mean_squared_logarithmic_error: 0.0521\n",
            "Epoch 19/1000\n",
            "2400/2400 [==============================] - 0s 43us/step - loss: 9.3946 - mean_squared_logarithmic_error: 0.0676 - val_loss: 8.6799 - val_mean_squared_logarithmic_error: 0.0521\n",
            "==========================\n",
            "Learning Rate: 0.1, RMSE: 2.946163971077869\n",
            "==========================\n"
          ],
          "name": "stdout"
        },
        {
          "output_type": "stream",
          "text": [
            "/usr/local/lib/python3.6/dist-packages/ipykernel_launcher.py:10: UserWarning: The `nb_epoch` argument in `fit` has been renamed `epochs`.\n",
            "  # Remove the CWD from sys.path while we load stuff.\n"
          ],
          "name": "stderr"
        },
        {
          "output_type": "stream",
          "text": [
            "Train on 2400 samples, validate on 600 samples\n",
            "Epoch 1/1000\n",
            "2400/2400 [==============================] - 1s 578us/step - loss: 9.8205 - mean_squared_logarithmic_error: 0.0681 - val_loss: 9.3740 - val_mean_squared_logarithmic_error: 0.0570\n",
            "Epoch 2/1000\n",
            "2400/2400 [==============================] - 0s 44us/step - loss: 9.7945 - mean_squared_logarithmic_error: 0.0687 - val_loss: 8.8865 - val_mean_squared_logarithmic_error: 0.0521\n",
            "Epoch 3/1000\n",
            "2400/2400 [==============================] - 0s 42us/step - loss: 9.4271 - mean_squared_logarithmic_error: 0.0675 - val_loss: 8.7156 - val_mean_squared_logarithmic_error: 0.0536\n",
            "Epoch 4/1000\n",
            "2400/2400 [==============================] - 0s 41us/step - loss: 9.5324 - mean_squared_logarithmic_error: 0.0678 - val_loss: 8.7254 - val_mean_squared_logarithmic_error: 0.0537\n",
            "Epoch 5/1000\n",
            "2400/2400 [==============================] - 0s 48us/step - loss: 9.4623 - mean_squared_logarithmic_error: 0.0676 - val_loss: 8.9552 - val_mean_squared_logarithmic_error: 0.0522\n",
            "Epoch 6/1000\n",
            "2400/2400 [==============================] - 0s 42us/step - loss: 9.4511 - mean_squared_logarithmic_error: 0.0673 - val_loss: 8.7112 - val_mean_squared_logarithmic_error: 0.0520\n",
            "Epoch 7/1000\n",
            "2400/2400 [==============================] - 0s 42us/step - loss: 9.4924 - mean_squared_logarithmic_error: 0.0679 - val_loss: 8.9534 - val_mean_squared_logarithmic_error: 0.0522\n",
            "Epoch 8/1000\n",
            "2400/2400 [==============================] - 0s 43us/step - loss: 9.4758 - mean_squared_logarithmic_error: 0.0676 - val_loss: 8.9229 - val_mean_squared_logarithmic_error: 0.0522\n",
            "Epoch 9/1000\n",
            "2400/2400 [==============================] - 0s 45us/step - loss: 9.4303 - mean_squared_logarithmic_error: 0.0674 - val_loss: 8.8211 - val_mean_squared_logarithmic_error: 0.0521\n",
            "Epoch 10/1000\n",
            "2400/2400 [==============================] - 0s 44us/step - loss: 9.4171 - mean_squared_logarithmic_error: 0.0674 - val_loss: 8.6595 - val_mean_squared_logarithmic_error: 0.0521\n",
            "Epoch 11/1000\n",
            "2400/2400 [==============================] - 0s 45us/step - loss: 9.5414 - mean_squared_logarithmic_error: 0.0679 - val_loss: 8.7395 - val_mean_squared_logarithmic_error: 0.0538\n",
            "Epoch 12/1000\n",
            "2400/2400 [==============================] - 0s 43us/step - loss: 9.4639 - mean_squared_logarithmic_error: 0.0676 - val_loss: 8.8649 - val_mean_squared_logarithmic_error: 0.0545\n",
            "Epoch 13/1000\n",
            "2400/2400 [==============================] - 0s 42us/step - loss: 9.5850 - mean_squared_logarithmic_error: 0.0681 - val_loss: 8.6069 - val_mean_squared_logarithmic_error: 0.0524\n",
            "Epoch 14/1000\n",
            "2400/2400 [==============================] - 0s 44us/step - loss: 9.3882 - mean_squared_logarithmic_error: 0.0674 - val_loss: 8.7965 - val_mean_squared_logarithmic_error: 0.0521\n",
            "Epoch 15/1000\n",
            "2400/2400 [==============================] - 0s 46us/step - loss: 9.3905 - mean_squared_logarithmic_error: 0.0674 - val_loss: 8.9062 - val_mean_squared_logarithmic_error: 0.0522\n",
            "Epoch 16/1000\n",
            "2400/2400 [==============================] - 0s 42us/step - loss: 9.4957 - mean_squared_logarithmic_error: 0.0676 - val_loss: 8.6638 - val_mean_squared_logarithmic_error: 0.0532\n",
            "Epoch 17/1000\n",
            "2400/2400 [==============================] - 0s 42us/step - loss: 9.4547 - mean_squared_logarithmic_error: 0.0675 - val_loss: 8.6066 - val_mean_squared_logarithmic_error: 0.0524\n",
            "Epoch 18/1000\n",
            "2400/2400 [==============================] - 0s 44us/step - loss: 9.4444 - mean_squared_logarithmic_error: 0.0675 - val_loss: 8.7688 - val_mean_squared_logarithmic_error: 0.0520\n",
            "Epoch 19/1000\n",
            "2400/2400 [==============================] - 0s 42us/step - loss: 9.4716 - mean_squared_logarithmic_error: 0.0676 - val_loss: 8.7304 - val_mean_squared_logarithmic_error: 0.0520\n",
            "Epoch 20/1000\n",
            "2400/2400 [==============================] - 0s 41us/step - loss: 9.5500 - mean_squared_logarithmic_error: 0.0679 - val_loss: 8.7826 - val_mean_squared_logarithmic_error: 0.0540\n",
            "Epoch 21/1000\n",
            "2400/2400 [==============================] - 0s 44us/step - loss: 9.4352 - mean_squared_logarithmic_error: 0.0674 - val_loss: 8.6067 - val_mean_squared_logarithmic_error: 0.0525\n",
            "Epoch 22/1000\n",
            "2400/2400 [==============================] - 0s 42us/step - loss: 9.3912 - mean_squared_logarithmic_error: 0.0675 - val_loss: 8.9812 - val_mean_squared_logarithmic_error: 0.0523\n",
            "==========================\n",
            "Learning Rate: 0.2, RMSE: 2.996863471404245\n",
            "==========================\n"
          ],
          "name": "stdout"
        },
        {
          "output_type": "stream",
          "text": [
            "/usr/local/lib/python3.6/dist-packages/ipykernel_launcher.py:10: UserWarning: The `nb_epoch` argument in `fit` has been renamed `epochs`.\n",
            "  # Remove the CWD from sys.path while we load stuff.\n"
          ],
          "name": "stderr"
        },
        {
          "output_type": "stream",
          "text": [
            "Train on 2400 samples, validate on 600 samples\n",
            "Epoch 1/1000\n",
            "2400/2400 [==============================] - 1s 607us/step - loss: 10.9616 - mean_squared_logarithmic_error: 0.0723 - val_loss: 9.5959 - val_mean_squared_logarithmic_error: 0.0580\n",
            "Epoch 2/1000\n",
            "2400/2400 [==============================] - 0s 46us/step - loss: 9.7566 - mean_squared_logarithmic_error: 0.0686 - val_loss: 8.6222 - val_mean_squared_logarithmic_error: 0.0528\n",
            "Epoch 3/1000\n",
            "2400/2400 [==============================] - 0s 42us/step - loss: 9.5355 - mean_squared_logarithmic_error: 0.0678 - val_loss: 8.6360 - val_mean_squared_logarithmic_error: 0.0521\n",
            "Epoch 4/1000\n",
            "2400/2400 [==============================] - 0s 42us/step - loss: 9.4290 - mean_squared_logarithmic_error: 0.0675 - val_loss: 8.9855 - val_mean_squared_logarithmic_error: 0.0523\n",
            "Epoch 5/1000\n",
            "2400/2400 [==============================] - 0s 44us/step - loss: 9.5739 - mean_squared_logarithmic_error: 0.0683 - val_loss: 9.3472 - val_mean_squared_logarithmic_error: 0.0530\n",
            "Epoch 6/1000\n",
            "2400/2400 [==============================] - 0s 42us/step - loss: 9.7758 - mean_squared_logarithmic_error: 0.0683 - val_loss: 8.7592 - val_mean_squared_logarithmic_error: 0.0539\n",
            "Epoch 7/1000\n",
            "2400/2400 [==============================] - 0s 41us/step - loss: 9.6104 - mean_squared_logarithmic_error: 0.0682 - val_loss: 9.0489 - val_mean_squared_logarithmic_error: 0.0524\n",
            "==========================\n",
            "Learning Rate: 0.5, RMSE: 3.0081313565218215\n",
            "==========================\n"
          ],
          "name": "stdout"
        }
      ]
    },
    {
      "cell_type": "code",
      "metadata": {
        "id": "cmXb0Gfvn1pj",
        "colab_type": "code",
        "colab": {
          "base_uri": "https://localhost:8080/",
          "height": 498
        },
        "outputId": "bbb35972-acc2-4a12-bd3a-ce8dc4b347ee"
      },
      "source": [
        "# plot the error\n",
        "plt.plot(r.history['loss'], label = 'train loss')\n",
        "plt.plot(r.history['val_loss'], label = 'valid loss')\n",
        "plt.legend()\n",
        "plt.show()\n",
        "\n",
        "plt.plot(r.history['mean_squared_logarithmic_error'], label = 'train mse')\n",
        "plt.plot(r.history['val_mean_squared_logarithmic_error'], label = 'valid mse')\n",
        "plt.legend()\n",
        "plt.show()"
      ],
      "execution_count": 96,
      "outputs": [
        {
          "output_type": "display_data",
          "data": {
            "image/png": "[encoded data removed]",
            "text/plain": [
              "<Figure size 432x288 with 1 Axes>"
            ]
          },
          "metadata": {
            "tags": []
          }
        },
        {
          "output_type": "error",
          "ename": "KeyError",
          "evalue": "ignored",
          "traceback": [
            "\u001b[0;31m---------------------------------------------------------------------------\u001b[0m",
            "\u001b[0;31mKeyError\u001b[0m                                  Traceback (most recent call last)",
            "\u001b[0;32m<ipython-input-96-d1b6c839dca9>\u001b[0m in \u001b[0;36m<module>\u001b[0;34m()\u001b[0m\n\u001b[1;32m      4\u001b[0m \u001b[0mplt\u001b[0m\u001b[0;34m.\u001b[0m\u001b[0mshow\u001b[0m\u001b[0;34m(\u001b[0m\u001b[0;34m)\u001b[0m\u001b[0;34m\u001b[0m\u001b[0;34m\u001b[0m\u001b[0m\n\u001b[1;32m      5\u001b[0m \u001b[0;34m\u001b[0m\u001b[0m\n\u001b[0;32m----> 6\u001b[0;31m \u001b[0mplt\u001b[0m\u001b[0;34m.\u001b[0m\u001b[0mplot\u001b[0m\u001b[0;34m(\u001b[0m\u001b[0mr\u001b[0m\u001b[0;34m.\u001b[0m\u001b[0mhistory\u001b[0m\u001b[0;34m[\u001b[0m\u001b[0;34m'mean_squared_logarithmic_error'\u001b[0m\u001b[0;34m]\u001b[0m\u001b[0;34m,\u001b[0m \u001b[0mlabel\u001b[0m \u001b[0;34m=\u001b[0m \u001b[0;34m'train mse'\u001b[0m\u001b[0;34m)\u001b[0m\u001b[0;34m\u001b[0m\u001b[0;34m\u001b[0m\u001b[0m\n\u001b[0m\u001b[1;32m      7\u001b[0m \u001b[0mplt\u001b[0m\u001b[0;34m.\u001b[0m\u001b[0mplot\u001b[0m\u001b[0;34m(\u001b[0m\u001b[0mr\u001b[0m\u001b[0;34m.\u001b[0m\u001b[0mhistory\u001b[0m\u001b[0;34m[\u001b[0m\u001b[0;34m'val_mean_squared_logarithmic_error'\u001b[0m\u001b[0;34m]\u001b[0m\u001b[0;34m,\u001b[0m \u001b[0mlabel\u001b[0m \u001b[0;34m=\u001b[0m \u001b[0;34m'valid mse'\u001b[0m\u001b[0;34m)\u001b[0m\u001b[0;34m\u001b[0m\u001b[0;34m\u001b[0m\u001b[0m\n\u001b[1;32m      8\u001b[0m \u001b[0mplt\u001b[0m\u001b[0;34m.\u001b[0m\u001b[0mlegend\u001b[0m\u001b[0;34m(\u001b[0m\u001b[0;34m)\u001b[0m\u001b[0;34m\u001b[0m\u001b[0;34m\u001b[0m\u001b[0m\n",
            "\u001b[0;31mKeyError\u001b[0m: 'mean_squared_logarithmic_error'"
          ]
        }
      ]
    },
    {
      "cell_type": "code",
      "metadata": {
        "id": "Yj-p9b7ac4OX",
        "colab_type": "code",
        "colab": {}
      },
      "source": [
        "df['ke'] = pred_ke"
      ],
      "execution_count": 0,
      "outputs": []
    },
    {
      "cell_type": "code",
      "metadata": {
        "id": "G44pfqwn8ogO",
        "colab_type": "code",
        "colab": {}
      },
      "source": [
        ""
      ],
      "execution_count": 0,
      "outputs": []
    },
    {
      "cell_type": "code",
      "metadata": {
        "id": "5bd2_4Wf8oS_",
        "colab_type": "code",
        "colab": {}
      },
      "source": [
        ""
      ],
      "execution_count": 0,
      "outputs": []
    },
    {
      "cell_type": "markdown",
      "metadata": {
        "id": "yXy9DGjGu5pk",
        "colab_type": "text"
      },
      "source": [
        "## Evaluation"
      ]
    },
    {
      "cell_type": "code",
      "metadata": {
        "id": "mWXdOyxO63k3",
        "colab_type": "code",
        "outputId": "6c644b02-1c50-4f7d-861f-292a436cce98",
        "colab": {
          "base_uri": "https://localhost:8080/",
          "height": 197
        }
      },
      "source": [
        "df.head()"
      ],
      "execution_count": 0,
      "outputs": [
        {
          "output_type": "execute_result",
          "data": {
            "text/html": [
              "<div>\n",
              "<style scoped>\n",
              "    .dataframe tbody tr th:only-of-type {\n",
              "        vertical-align: middle;\n",
              "    }\n",
              "\n",
              "    .dataframe tbody tr th {\n",
              "        vertical-align: top;\n",
              "    }\n",
              "\n",
              "    .dataframe thead th {\n",
              "        text-align: right;\n",
              "    }\n",
              "</style>\n",
              "<table border=\"1\" class=\"dataframe\">\n",
              "  <thead>\n",
              "    <tr style=\"text-align: right;\">\n",
              "      <th></th>\n",
              "      <th>val</th>\n",
              "      <th>el</th>\n",
              "      <th>knn</th>\n",
              "      <th>svm</th>\n",
              "      <th>xg</th>\n",
              "      <th>cb</th>\n",
              "      <th>lg</th>\n",
              "      <th>ke</th>\n",
              "    </tr>\n",
              "  </thead>\n",
              "  <tbody>\n",
              "    <tr>\n",
              "      <th>1801</th>\n",
              "      <td>16.039905</td>\n",
              "      <td>13.970003</td>\n",
              "      <td>15.484801</td>\n",
              "      <td>17.056366</td>\n",
              "      <td>14.196568</td>\n",
              "      <td>13.450701</td>\n",
              "      <td>13.599092</td>\n",
              "      <td>16.058355</td>\n",
              "    </tr>\n",
              "    <tr>\n",
              "      <th>1190</th>\n",
              "      <td>2.079442</td>\n",
              "      <td>13.372852</td>\n",
              "      <td>13.259560</td>\n",
              "      <td>15.267568</td>\n",
              "      <td>14.423588</td>\n",
              "      <td>14.884168</td>\n",
              "      <td>14.334657</td>\n",
              "      <td>16.058355</td>\n",
              "    </tr>\n",
              "    <tr>\n",
              "      <th>1817</th>\n",
              "      <td>10.425283</td>\n",
              "      <td>13.144124</td>\n",
              "      <td>14.496541</td>\n",
              "      <td>17.056366</td>\n",
              "      <td>12.929965</td>\n",
              "      <td>11.112633</td>\n",
              "      <td>12.468197</td>\n",
              "      <td>16.058355</td>\n",
              "    </tr>\n",
              "    <tr>\n",
              "      <th>251</th>\n",
              "      <td>16.119826</td>\n",
              "      <td>18.589274</td>\n",
              "      <td>18.654730</td>\n",
              "      <td>17.056366</td>\n",
              "      <td>18.480886</td>\n",
              "      <td>18.914405</td>\n",
              "      <td>18.736102</td>\n",
              "      <td>16.058355</td>\n",
              "    </tr>\n",
              "    <tr>\n",
              "      <th>2505</th>\n",
              "      <td>16.002777</td>\n",
              "      <td>12.334786</td>\n",
              "      <td>11.962382</td>\n",
              "      <td>13.012355</td>\n",
              "      <td>12.654006</td>\n",
              "      <td>12.484506</td>\n",
              "      <td>11.662387</td>\n",
              "      <td>16.058355</td>\n",
              "    </tr>\n",
              "  </tbody>\n",
              "</table>\n",
              "</div>"
            ],
            "text/plain": [
              "            val         el        knn  ...         cb         lg         ke\n",
              "1801  16.039905  13.970003  15.484801  ...  13.450701  13.599092  16.058355\n",
              "1190   2.079442  13.372852  13.259560  ...  14.884168  14.334657  16.058355\n",
              "1817  10.425283  13.144124  14.496541  ...  11.112633  12.468197  16.058355\n",
              "251   16.119826  18.589274  18.654730  ...  18.914405  18.736102  16.058355\n",
              "2505  16.002777  12.334786  11.962382  ...  12.484506  11.662387  16.058355\n",
              "\n",
              "[5 rows x 8 columns]"
            ]
          },
          "metadata": {
            "tags": []
          },
          "execution_count": 241
        }
      ]
    },
    {
      "cell_type": "code",
      "metadata": {
        "id": "sYanmfZkx41v",
        "colab_type": "code",
        "outputId": "207b4613-8857-4671-c445-8a87bc1d1742",
        "colab": {
          "base_uri": "https://localhost:8080/",
          "height": 287
        }
      },
      "source": [
        "df.describe()"
      ],
      "execution_count": 0,
      "outputs": [
        {
          "output_type": "execute_result",
          "data": {
            "text/html": [
              "<div>\n",
              "<style scoped>\n",
              "    .dataframe tbody tr th:only-of-type {\n",
              "        vertical-align: middle;\n",
              "    }\n",
              "\n",
              "    .dataframe tbody tr th {\n",
              "        vertical-align: top;\n",
              "    }\n",
              "\n",
              "    .dataframe thead th {\n",
              "        text-align: right;\n",
              "    }\n",
              "</style>\n",
              "<table border=\"1\" class=\"dataframe\">\n",
              "  <thead>\n",
              "    <tr style=\"text-align: right;\">\n",
              "      <th></th>\n",
              "      <th>val</th>\n",
              "      <th>el</th>\n",
              "      <th>knn</th>\n",
              "      <th>svm</th>\n",
              "      <th>xg</th>\n",
              "      <th>cb</th>\n",
              "      <th>lg</th>\n",
              "      <th>ke</th>\n",
              "    </tr>\n",
              "  </thead>\n",
              "  <tbody>\n",
              "    <tr>\n",
              "      <th>count</th>\n",
              "      <td>600.000000</td>\n",
              "      <td>600.000000</td>\n",
              "      <td>600.000000</td>\n",
              "      <td>600.000000</td>\n",
              "      <td>600.000000</td>\n",
              "      <td>600.000000</td>\n",
              "      <td>600.000000</td>\n",
              "      <td>600.000000</td>\n",
              "    </tr>\n",
              "    <tr>\n",
              "      <th>mean</th>\n",
              "      <td>16.143154</td>\n",
              "      <td>16.128647</td>\n",
              "      <td>16.081906</td>\n",
              "      <td>16.493079</td>\n",
              "      <td>16.082863</td>\n",
              "      <td>16.068532</td>\n",
              "      <td>16.119426</td>\n",
              "      <td>16.058489</td>\n",
              "    </tr>\n",
              "    <tr>\n",
              "      <th>std</th>\n",
              "      <td>2.935994</td>\n",
              "      <td>2.095988</td>\n",
              "      <td>2.058289</td>\n",
              "      <td>1.154391</td>\n",
              "      <td>2.363301</td>\n",
              "      <td>2.390009</td>\n",
              "      <td>2.348271</td>\n",
              "      <td>0.000134</td>\n",
              "    </tr>\n",
              "    <tr>\n",
              "      <th>min</th>\n",
              "      <td>1.098612</td>\n",
              "      <td>9.581723</td>\n",
              "      <td>10.869261</td>\n",
              "      <td>12.401184</td>\n",
              "      <td>5.446157</td>\n",
              "      <td>4.308870</td>\n",
              "      <td>6.781648</td>\n",
              "      <td>16.058355</td>\n",
              "    </tr>\n",
              "    <tr>\n",
              "      <th>25%</th>\n",
              "      <td>14.782020</td>\n",
              "      <td>14.512070</td>\n",
              "      <td>14.593794</td>\n",
              "      <td>17.056366</td>\n",
              "      <td>14.680010</td>\n",
              "      <td>14.669740</td>\n",
              "      <td>14.541517</td>\n",
              "      <td>16.058355</td>\n",
              "    </tr>\n",
              "    <tr>\n",
              "      <th>50%</th>\n",
              "      <td>16.860845</td>\n",
              "      <td>16.338209</td>\n",
              "      <td>16.452255</td>\n",
              "      <td>17.056366</td>\n",
              "      <td>16.505842</td>\n",
              "      <td>16.469731</td>\n",
              "      <td>16.501023</td>\n",
              "      <td>16.058355</td>\n",
              "    </tr>\n",
              "    <tr>\n",
              "      <th>75%</th>\n",
              "      <td>18.250752</td>\n",
              "      <td>17.560428</td>\n",
              "      <td>17.693591</td>\n",
              "      <td>17.056366</td>\n",
              "      <td>17.914801</td>\n",
              "      <td>17.911755</td>\n",
              "      <td>17.943879</td>\n",
              "      <td>16.058355</td>\n",
              "    </tr>\n",
              "    <tr>\n",
              "      <th>max</th>\n",
              "      <td>20.748437</td>\n",
              "      <td>22.462571</td>\n",
              "      <td>20.320846</td>\n",
              "      <td>17.418798</td>\n",
              "      <td>20.635166</td>\n",
              "      <td>20.884438</td>\n",
              "      <td>20.739231</td>\n",
              "      <td>16.058355</td>\n",
              "    </tr>\n",
              "  </tbody>\n",
              "</table>\n",
              "</div>"
            ],
            "text/plain": [
              "              val          el         knn  ...          cb          lg          ke\n",
              "count  600.000000  600.000000  600.000000  ...  600.000000  600.000000  600.000000\n",
              "mean    16.143154   16.128647   16.081906  ...   16.068532   16.119426   16.058489\n",
              "std      2.935994    2.095988    2.058289  ...    2.390009    2.348271    0.000134\n",
              "min      1.098612    9.581723   10.869261  ...    4.308870    6.781648   16.058355\n",
              "25%     14.782020   14.512070   14.593794  ...   14.669740   14.541517   16.058355\n",
              "50%     16.860845   16.338209   16.452255  ...   16.469731   16.501023   16.058355\n",
              "75%     18.250752   17.560428   17.693591  ...   17.911755   17.943879   16.058355\n",
              "max     20.748437   22.462571   20.320846  ...   20.884438   20.739231   16.058355\n",
              "\n",
              "[8 rows x 8 columns]"
            ]
          },
          "metadata": {
            "tags": []
          },
          "execution_count": 265
        }
      ]
    },
    {
      "cell_type": "code",
      "metadata": {
        "id": "q4atMKZ18FvG",
        "colab_type": "code",
        "outputId": "33c67db9-e514-4a7d-885f-64418e53ad1a",
        "colab": {
          "base_uri": "https://localhost:8080/",
          "height": 608
        }
      },
      "source": [
        "fig, axes = plt.subplots(2, 4, figsize = (20, 10))\n",
        "\n",
        "for i, col in enumerate(df.columns[1:]):\n",
        "  sns.regplot(x = col, y = 'val', data = df, ax = axes[i//4, i%4])"
      ],
      "execution_count": 0,
      "outputs": [
        {
          "output_type": "display_data",
          "data": {
            "image/png": "[encoded data removed]",
            "text/plain": [
              "<Figure size 1440x720 with 8 Axes>"
            ]
          },
          "metadata": {
            "tags": []
          }
        }
      ]
    },
    {
      "cell_type": "code",
      "metadata": {
        "id": "RzLNy_l5con-",
        "colab_type": "code",
        "colab": {}
      },
      "source": [
        "df.to_csv('pred.csv', index = False)"
      ],
      "execution_count": 0,
      "outputs": []
    },
    {
      "cell_type": "code",
      "metadata": {
        "id": "uGDp8h89coWF",
        "colab_type": "code",
        "colab": {}
      },
      "source": [
        ""
      ],
      "execution_count": 0,
      "outputs": []
    },
    {
      "cell_type": "markdown",
      "metadata": {
        "id": "4yt9kextU8Ud",
        "colab_type": "text"
      },
      "source": [
        "## Stacking"
      ]
    },
    {
      "cell_type": "code",
      "metadata": {
        "id": "diAEADoVtmEo",
        "colab_type": "code",
        "outputId": "d9c380a2-5342-498f-fb8f-cc6847cca5b8",
        "colab": {
          "base_uri": "https://localhost:8080/",
          "height": 194
        }
      },
      "source": [
        "df.head()"
      ],
      "execution_count": 99,
      "outputs": [
        {
          "output_type": "execute_result",
          "data": {
            "text/html": [
              "<div>\n",
              "<style scoped>\n",
              "    .dataframe tbody tr th:only-of-type {\n",
              "        vertical-align: middle;\n",
              "    }\n",
              "\n",
              "    .dataframe tbody tr th {\n",
              "        vertical-align: top;\n",
              "    }\n",
              "\n",
              "    .dataframe thead th {\n",
              "        text-align: right;\n",
              "    }\n",
              "</style>\n",
              "<table border=\"1\" class=\"dataframe\">\n",
              "  <thead>\n",
              "    <tr style=\"text-align: right;\">\n",
              "      <th></th>\n",
              "      <th>val</th>\n",
              "      <th>xg</th>\n",
              "      <th>cb</th>\n",
              "      <th>lg</th>\n",
              "    </tr>\n",
              "  </thead>\n",
              "  <tbody>\n",
              "    <tr>\n",
              "      <th>1801</th>\n",
              "      <td>16.039905</td>\n",
              "      <td>13.936003</td>\n",
              "      <td>14.267066</td>\n",
              "      <td>13.990483</td>\n",
              "    </tr>\n",
              "    <tr>\n",
              "      <th>1190</th>\n",
              "      <td>2.079442</td>\n",
              "      <td>13.882005</td>\n",
              "      <td>14.553771</td>\n",
              "      <td>13.909740</td>\n",
              "    </tr>\n",
              "    <tr>\n",
              "      <th>1817</th>\n",
              "      <td>10.425283</td>\n",
              "      <td>12.062208</td>\n",
              "      <td>11.838425</td>\n",
              "      <td>12.372773</td>\n",
              "    </tr>\n",
              "    <tr>\n",
              "      <th>251</th>\n",
              "      <td>16.119826</td>\n",
              "      <td>17.016260</td>\n",
              "      <td>16.924673</td>\n",
              "      <td>17.427566</td>\n",
              "    </tr>\n",
              "    <tr>\n",
              "      <th>2505</th>\n",
              "      <td>16.002777</td>\n",
              "      <td>10.888381</td>\n",
              "      <td>11.815531</td>\n",
              "      <td>10.386738</td>\n",
              "    </tr>\n",
              "  </tbody>\n",
              "</table>\n",
              "</div>"
            ],
            "text/plain": [
              "            val         xg         cb         lg\n",
              "1801  16.039905  13.936003  14.267066  13.990483\n",
              "1190   2.079442  13.882005  14.553771  13.909740\n",
              "1817  10.425283  12.062208  11.838425  12.372773\n",
              "251   16.119826  17.016260  16.924673  17.427566\n",
              "2505  16.002777  10.888381  11.815531  10.386738"
            ]
          },
          "metadata": {
            "tags": []
          },
          "execution_count": 99
        }
      ]
    },
    {
      "cell_type": "code",
      "metadata": {
        "id": "Ad-btG0P5lhH",
        "colab_type": "code",
        "colab": {}
      },
      "source": [
        ""
      ],
      "execution_count": 0,
      "outputs": []
    },
    {
      "cell_type": "code",
      "metadata": {
        "id": "pwtTToCctocx",
        "colab_type": "code",
        "colab": {}
      },
      "source": [
        "y = df.val\n",
        "stack_X_tr = df.loc[:, ['xg', 'cb', 'lg']]"
      ],
      "execution_count": 0,
      "outputs": []
    },
    {
      "cell_type": "code",
      "metadata": {
        "id": "E5OSkY9Dyy-1",
        "colab_type": "code",
        "outputId": "d370acb6-00e1-4396-a461-9cfcd34f8d4c",
        "colab": {
          "base_uri": "https://localhost:8080/",
          "height": 35
        }
      },
      "source": [
        "y.shape"
      ],
      "execution_count": 101,
      "outputs": [
        {
          "output_type": "execute_result",
          "data": {
            "text/plain": [
              "(600,)"
            ]
          },
          "metadata": {
            "tags": []
          },
          "execution_count": 101
        }
      ]
    },
    {
      "cell_type": "code",
      "metadata": {
        "id": "YRzaqatzU8Qw",
        "colab_type": "code",
        "outputId": "c517ce84-01fc-4b8b-d1b8-5e79a92b8d09",
        "colab": {
          "base_uri": "https://localhost:8080/",
          "height": 52
        }
      },
      "source": [
        "from sklearn.linear_model import LinearRegression\n",
        "model2_lr = LinearRegression()\n",
        "model2_lr.fit(stack_X_tr, y)"
      ],
      "execution_count": 102,
      "outputs": [
        {
          "output_type": "execute_result",
          "data": {
            "text/plain": [
              "LinearRegression(copy_X=True, fit_intercept=True, n_jobs=None,\n",
              "         normalize=False)"
            ]
          },
          "metadata": {
            "tags": []
          },
          "execution_count": 102
        }
      ]
    },
    {
      "cell_type": "code",
      "metadata": {
        "id": "upNvgsi3uQRN",
        "colab_type": "code",
        "outputId": "c3eba7e0-e65b-4800-9e20-c3aacacb6ece",
        "colab": {
          "base_uri": "https://localhost:8080/",
          "height": 35
        }
      },
      "source": [
        "model2_lr.coef_"
      ],
      "execution_count": 103,
      "outputs": [
        {
          "output_type": "execute_result",
          "data": {
            "text/plain": [
              "array([0.36722489, 0.54562263, 0.06340409])"
            ]
          },
          "metadata": {
            "tags": []
          },
          "execution_count": 103
        }
      ]
    },
    {
      "cell_type": "code",
      "metadata": {
        "id": "v6jhzstHvTYP",
        "colab_type": "code",
        "colab": {}
      },
      "source": [
        ""
      ],
      "execution_count": 0,
      "outputs": []
    },
    {
      "cell_type": "code",
      "metadata": {
        "id": "VWjV5JqQU8J9",
        "colab_type": "code",
        "outputId": "3af6df0c-98a9-4ef0-d0f5-cc0dbffc6652",
        "colab": {
          "base_uri": "https://localhost:8080/",
          "height": 106
        }
      },
      "source": [
        "from sklearn.svm import LinearSVR\n",
        "model2_svm = LinearSVR(epsilon=1.)\n",
        "model2_svm.fit(stack_X_tr, y)"
      ],
      "execution_count": 104,
      "outputs": [
        {
          "output_type": "stream",
          "text": [
            "/usr/local/lib/python3.6/dist-packages/sklearn/svm/base.py:931: ConvergenceWarning: Liblinear failed to converge, increase the number of iterations.\n",
            "  \"the number of iterations.\", ConvergenceWarning)\n"
          ],
          "name": "stderr"
        },
        {
          "output_type": "execute_result",
          "data": {
            "text/plain": [
              "LinearSVR(C=1.0, dual=True, epsilon=1.0, fit_intercept=True,\n",
              "     intercept_scaling=1.0, loss='epsilon_insensitive', max_iter=1000,\n",
              "     random_state=None, tol=0.0001, verbose=0)"
            ]
          },
          "metadata": {
            "tags": []
          },
          "execution_count": 104
        }
      ]
    },
    {
      "cell_type": "code",
      "metadata": {
        "id": "FdK2HvLWvBKp",
        "colab_type": "code",
        "outputId": "3d1e1a41-b392-4686-9da9-c4280ca66c9d",
        "colab": {
          "base_uri": "https://localhost:8080/",
          "height": 35
        }
      },
      "source": [
        "model2_svm.coef_"
      ],
      "execution_count": 105,
      "outputs": [
        {
          "output_type": "execute_result",
          "data": {
            "text/plain": [
              "array([0.32842528, 0.48072061, 0.12816652])"
            ]
          },
          "metadata": {
            "tags": []
          },
          "execution_count": 105
        }
      ]
    },
    {
      "cell_type": "code",
      "metadata": {
        "id": "e68Vb818vBDd",
        "colab_type": "code",
        "colab": {}
      },
      "source": [
        ""
      ],
      "execution_count": 0,
      "outputs": []
    },
    {
      "cell_type": "code",
      "metadata": {
        "id": "a3itK3s6vA8C",
        "colab_type": "code",
        "colab": {}
      },
      "source": [
        ""
      ],
      "execution_count": 0,
      "outputs": []
    },
    {
      "cell_type": "code",
      "metadata": {
        "id": "oYzj2uuJU8GK",
        "colab_type": "code",
        "outputId": "ca0a7e56-bc05-4e77-cdc0-c22a33809343",
        "colab": {
          "base_uri": "https://localhost:8080/",
          "height": 124
        }
      },
      "source": [
        "from sklearn.ensemble import RandomForestRegressor\n",
        "model2_rf = RandomForestRegressor(n_estimators = 100, max_depth = 3)\n",
        "model2_rf.fit(stack_X_tr, y)"
      ],
      "execution_count": 106,
      "outputs": [
        {
          "output_type": "execute_result",
          "data": {
            "text/plain": [
              "RandomForestRegressor(bootstrap=True, criterion='mse', max_depth=3,\n",
              "           max_features='auto', max_leaf_nodes=None,\n",
              "           min_impurity_decrease=0.0, min_impurity_split=None,\n",
              "           min_samples_leaf=1, min_samples_split=2,\n",
              "           min_weight_fraction_leaf=0.0, n_estimators=100, n_jobs=None,\n",
              "           oob_score=False, random_state=None, verbose=0, warm_start=False)"
            ]
          },
          "metadata": {
            "tags": []
          },
          "execution_count": 106
        }
      ]
    },
    {
      "cell_type": "code",
      "metadata": {
        "id": "wqvlvibcU8Cm",
        "colab_type": "code",
        "outputId": "7888b4e9-a8db-4009-f99b-5ad2928f8ffa",
        "colab": {
          "base_uri": "https://localhost:8080/",
          "height": 35
        }
      },
      "source": [
        "model2_rf.feature_importances_"
      ],
      "execution_count": 107,
      "outputs": [
        {
          "output_type": "execute_result",
          "data": {
            "text/plain": [
              "array([0.44086544, 0.36815274, 0.19098182])"
            ]
          },
          "metadata": {
            "tags": []
          },
          "execution_count": 107
        }
      ]
    },
    {
      "cell_type": "code",
      "metadata": {
        "id": "Xm8RSTCsU7-y",
        "colab_type": "code",
        "colab": {}
      },
      "source": [
        ""
      ],
      "execution_count": 0,
      "outputs": []
    },
    {
      "cell_type": "code",
      "metadata": {
        "id": "JYM4MeZhU76K",
        "colab_type": "code",
        "colab": {}
      },
      "source": [
        "coef_list = []\n",
        "for i in range(3):\n",
        "  coef = np.mean(model2_lr.coef_[i] + model2_svm.coef_[i] + model2_rf.feature_importances_[i])\n",
        "  coef_list.append(coef)"
      ],
      "execution_count": 0,
      "outputs": []
    },
    {
      "cell_type": "code",
      "metadata": {
        "id": "ltTDoc_I1Dbh",
        "colab_type": "code",
        "colab": {}
      },
      "source": [
        "coef_list = np.round(coef_list/sum(coef_list), 2)"
      ],
      "execution_count": 0,
      "outputs": []
    },
    {
      "cell_type": "code",
      "metadata": {
        "id": "bvYEfftI1pOl",
        "colab_type": "code",
        "outputId": "fa6d07f4-3d25-4bf9-dd57-bf8c8a30def5",
        "colab": {
          "base_uri": "https://localhost:8080/",
          "height": 35
        }
      },
      "source": [
        "coef_list"
      ],
      "execution_count": 110,
      "outputs": [
        {
          "output_type": "execute_result",
          "data": {
            "text/plain": [
              "array([0.39, 0.48, 0.13])"
            ]
          },
          "metadata": {
            "tags": []
          },
          "execution_count": 110
        }
      ]
    },
    {
      "cell_type": "code",
      "metadata": {
        "id": "QBzhZO1h0d9K",
        "colab_type": "code",
        "outputId": "f095df29-28ad-49eb-b717-dbb65944e98a",
        "colab": {
          "base_uri": "https://localhost:8080/",
          "height": 197
        }
      },
      "source": [
        "df.head()"
      ],
      "execution_count": 0,
      "outputs": [
        {
          "output_type": "execute_result",
          "data": {
            "text/html": [
              "<div>\n",
              "<style scoped>\n",
              "    .dataframe tbody tr th:only-of-type {\n",
              "        vertical-align: middle;\n",
              "    }\n",
              "\n",
              "    .dataframe tbody tr th {\n",
              "        vertical-align: top;\n",
              "    }\n",
              "\n",
              "    .dataframe thead th {\n",
              "        text-align: right;\n",
              "    }\n",
              "</style>\n",
              "<table border=\"1\" class=\"dataframe\">\n",
              "  <thead>\n",
              "    <tr style=\"text-align: right;\">\n",
              "      <th></th>\n",
              "      <th>val</th>\n",
              "      <th>el</th>\n",
              "      <th>knn</th>\n",
              "      <th>svm</th>\n",
              "      <th>xg</th>\n",
              "      <th>cb</th>\n",
              "      <th>lg</th>\n",
              "      <th>ke</th>\n",
              "    </tr>\n",
              "  </thead>\n",
              "  <tbody>\n",
              "    <tr>\n",
              "      <th>1801</th>\n",
              "      <td>16.039905</td>\n",
              "      <td>13.970003</td>\n",
              "      <td>15.484801</td>\n",
              "      <td>17.056366</td>\n",
              "      <td>14.196568</td>\n",
              "      <td>13.450701</td>\n",
              "      <td>13.599092</td>\n",
              "      <td>16.058355</td>\n",
              "    </tr>\n",
              "    <tr>\n",
              "      <th>1190</th>\n",
              "      <td>2.079442</td>\n",
              "      <td>13.372852</td>\n",
              "      <td>13.259560</td>\n",
              "      <td>15.267568</td>\n",
              "      <td>14.423588</td>\n",
              "      <td>14.884168</td>\n",
              "      <td>14.334657</td>\n",
              "      <td>16.058355</td>\n",
              "    </tr>\n",
              "    <tr>\n",
              "      <th>1817</th>\n",
              "      <td>10.425283</td>\n",
              "      <td>13.144124</td>\n",
              "      <td>14.496541</td>\n",
              "      <td>17.056366</td>\n",
              "      <td>12.929965</td>\n",
              "      <td>11.112633</td>\n",
              "      <td>12.468197</td>\n",
              "      <td>16.058355</td>\n",
              "    </tr>\n",
              "    <tr>\n",
              "      <th>251</th>\n",
              "      <td>16.119826</td>\n",
              "      <td>18.589274</td>\n",
              "      <td>18.654730</td>\n",
              "      <td>17.056366</td>\n",
              "      <td>18.480886</td>\n",
              "      <td>18.914405</td>\n",
              "      <td>18.736102</td>\n",
              "      <td>16.058355</td>\n",
              "    </tr>\n",
              "    <tr>\n",
              "      <th>2505</th>\n",
              "      <td>16.002777</td>\n",
              "      <td>12.334786</td>\n",
              "      <td>11.962382</td>\n",
              "      <td>13.012355</td>\n",
              "      <td>12.654006</td>\n",
              "      <td>12.484506</td>\n",
              "      <td>11.662387</td>\n",
              "      <td>16.058355</td>\n",
              "    </tr>\n",
              "  </tbody>\n",
              "</table>\n",
              "</div>"
            ],
            "text/plain": [
              "            val         el        knn  ...         cb         lg         ke\n",
              "1801  16.039905  13.970003  15.484801  ...  13.450701  13.599092  16.058355\n",
              "1190   2.079442  13.372852  13.259560  ...  14.884168  14.334657  16.058355\n",
              "1817  10.425283  13.144124  14.496541  ...  11.112633  12.468197  16.058355\n",
              "251   16.119826  18.589274  18.654730  ...  18.914405  18.736102  16.058355\n",
              "2505  16.002777  12.334786  11.962382  ...  12.484506  11.662387  16.058355\n",
              "\n",
              "[5 rows x 8 columns]"
            ]
          },
          "metadata": {
            "tags": []
          },
          "execution_count": 282
        }
      ]
    },
    {
      "cell_type": "code",
      "metadata": {
        "id": "b_qUpwdA0pZe",
        "colab_type": "code",
        "colab": {}
      },
      "source": [
        ""
      ],
      "execution_count": 0,
      "outputs": []
    },
    {
      "cell_type": "code",
      "metadata": {
        "id": "JgZLfcYr0pId",
        "colab_type": "code",
        "colab": {}
      },
      "source": [
        ""
      ],
      "execution_count": 0,
      "outputs": []
    },
    {
      "cell_type": "markdown",
      "metadata": {
        "id": "I77UrPOWu8O8",
        "colab_type": "text"
      },
      "source": [
        "## Submission"
      ]
    },
    {
      "cell_type": "code",
      "metadata": {
        "id": "xPWPVxM9rTTN",
        "colab_type": "code",
        "colab": {}
      },
      "source": [
        "df_pred = pd.DataFrame()"
      ],
      "execution_count": 0,
      "outputs": []
    },
    {
      "cell_type": "code",
      "metadata": {
        "id": "VBWe8iRHpnev",
        "colab_type": "code",
        "colab": {}
      },
      "source": [
        "df_pred['xg'] = model_xg.predict(te)\n",
        "df_pred['cb'] = model_cb.predict(te)\n",
        "df_pred['lg'] = model_lg.predict(te)\n",
        "\n",
        "#df_pred['knn'] = model_knn.predict(te_el)\n",
        "#df_pred['svm'] = model_svm.predict(te_el)"
      ],
      "execution_count": 0,
      "outputs": []
    },
    {
      "cell_type": "code",
      "metadata": {
        "id": "MANAnmawrTLO",
        "colab_type": "code",
        "colab": {}
      },
      "source": [
        "#df_pred['final'] = np.expm1(.2*df_pred.el + .5*df_pred.cb + .3*df_pred.xg)\n",
        "#df_pred['final'] = np.expm1(.4*df_pred.cb + .4*df_pred.xg + .3*df_pred.lg)"
      ],
      "execution_count": 0,
      "outputs": []
    },
    {
      "cell_type": "code",
      "metadata": {
        "id": "Q6Bg6zyv3lCw",
        "colab_type": "code",
        "colab": {}
      },
      "source": [
        "#df_pred['final'] = np.expm1(df_pred.knn*.03 + df_pred.svm*.25 + df_pred.xg*.44 + df_pred.cb*.24 + df_pred.lg*.03)\n",
        "df_pred['final'] = np.expm1(df_pred.knn*.03 + df_pred.svm*.03 + df_pred.xg*.44 + df_pred.cb*.24 + df_pred.lg*.25)"
      ],
      "execution_count": 0,
      "outputs": []
    },
    {
      "cell_type": "code",
      "metadata": {
        "id": "cKdeoP9O4ZAQ",
        "colab_type": "code",
        "colab": {}
      },
      "source": [
        "df_pred['final'] = np.expm1(.5*df_pred.xg + .5*df_pred.cb)"
      ],
      "execution_count": 0,
      "outputs": []
    },
    {
      "cell_type": "code",
      "metadata": {
        "id": "1Qxopzkw4Y06",
        "colab_type": "code",
        "colab": {}
      },
      "source": [
        ""
      ],
      "execution_count": 0,
      "outputs": []
    },
    {
      "cell_type": "code",
      "metadata": {
        "id": "Dv1-gu4UsF1s",
        "colab_type": "code",
        "outputId": "55436b18-8936-4033-b4b2-350509af7f61",
        "colab": {
          "base_uri": "https://localhost:8080/",
          "height": 197
        }
      },
      "source": [
        "df_pred.head()"
      ],
      "execution_count": 0,
      "outputs": [
        {
          "output_type": "execute_result",
          "data": {
            "text/html": [
              "<div>\n",
              "<style scoped>\n",
              "    .dataframe tbody tr th:only-of-type {\n",
              "        vertical-align: middle;\n",
              "    }\n",
              "\n",
              "    .dataframe tbody tr th {\n",
              "        vertical-align: top;\n",
              "    }\n",
              "\n",
              "    .dataframe thead th {\n",
              "        text-align: right;\n",
              "    }\n",
              "</style>\n",
              "<table border=\"1\" class=\"dataframe\">\n",
              "  <thead>\n",
              "    <tr style=\"text-align: right;\">\n",
              "      <th></th>\n",
              "      <th>xg</th>\n",
              "      <th>cb</th>\n",
              "      <th>lg</th>\n",
              "      <th>knn</th>\n",
              "      <th>svm</th>\n",
              "      <th>final</th>\n",
              "    </tr>\n",
              "  </thead>\n",
              "  <tbody>\n",
              "    <tr>\n",
              "      <th>0</th>\n",
              "      <td>16.489323</td>\n",
              "      <td>15.952608</td>\n",
              "      <td>14.665325</td>\n",
              "      <td>13.046061</td>\n",
              "      <td>14.364026</td>\n",
              "      <td>1.050429e+07</td>\n",
              "    </tr>\n",
              "    <tr>\n",
              "      <th>1</th>\n",
              "      <td>14.384415</td>\n",
              "      <td>15.877779</td>\n",
              "      <td>13.287444</td>\n",
              "      <td>11.967845</td>\n",
              "      <td>17.056366</td>\n",
              "      <td>4.327209e+06</td>\n",
              "    </tr>\n",
              "    <tr>\n",
              "      <th>2</th>\n",
              "      <td>16.693792</td>\n",
              "      <td>15.839012</td>\n",
              "      <td>16.416958</td>\n",
              "      <td>14.622095</td>\n",
              "      <td>15.890669</td>\n",
              "      <td>1.064844e+07</td>\n",
              "    </tr>\n",
              "    <tr>\n",
              "      <th>3</th>\n",
              "      <td>15.670389</td>\n",
              "      <td>15.299456</td>\n",
              "      <td>15.372147</td>\n",
              "      <td>14.885672</td>\n",
              "      <td>17.056366</td>\n",
              "      <td>5.115720e+06</td>\n",
              "    </tr>\n",
              "    <tr>\n",
              "      <th>4</th>\n",
              "      <td>14.508597</td>\n",
              "      <td>13.855150</td>\n",
              "      <td>13.677596</td>\n",
              "      <td>15.317888</td>\n",
              "      <td>17.056366</td>\n",
              "      <td>1.351233e+06</td>\n",
              "    </tr>\n",
              "  </tbody>\n",
              "</table>\n",
              "</div>"
            ],
            "text/plain": [
              "          xg         cb         lg        knn        svm         final\n",
              "0  16.489323  15.952608  14.665325  13.046061  14.364026  1.050429e+07\n",
              "1  14.384415  15.877779  13.287444  11.967845  17.056366  4.327209e+06\n",
              "2  16.693792  15.839012  16.416958  14.622095  15.890669  1.064844e+07\n",
              "3  15.670389  15.299456  15.372147  14.885672  17.056366  5.115720e+06\n",
              "4  14.508597  13.855150  13.677596  15.317888  17.056366  1.351233e+06"
            ]
          },
          "metadata": {
            "tags": []
          },
          "execution_count": 332
        }
      ]
    },
    {
      "cell_type": "code",
      "metadata": {
        "id": "dsmiVi1LCEIV",
        "colab_type": "code",
        "colab": {}
      },
      "source": [
        ""
      ],
      "execution_count": 0,
      "outputs": []
    },
    {
      "cell_type": "code",
      "metadata": {
        "id": "t8wzk_dhsFu5",
        "colab_type": "code",
        "colab": {}
      },
      "source": [
        ""
      ],
      "execution_count": 0,
      "outputs": []
    },
    {
      "cell_type": "code",
      "metadata": {
        "id": "wsaTISI3sB6r",
        "colab_type": "code",
        "outputId": "1f81ee7f-a49f-4983-a72b-a6104abbfc44",
        "colab": {
          "base_uri": "https://localhost:8080/",
          "height": 35
        }
      },
      "source": [
        "sub = pd.read_csv('sample_submission.csv')\n",
        "sub.shape"
      ],
      "execution_count": 123,
      "outputs": [
        {
          "output_type": "execute_result",
          "data": {
            "text/plain": [
              "(4398, 2)"
            ]
          },
          "metadata": {
            "tags": []
          },
          "execution_count": 123
        }
      ]
    },
    {
      "cell_type": "code",
      "metadata": {
        "id": "GBpHs_0h4Dpi",
        "colab_type": "code",
        "outputId": "289b6b3b-981a-42ba-f04a-d789b0b202ef",
        "colab": {
          "base_uri": "https://localhost:8080/",
          "height": 194
        }
      },
      "source": [
        "sub.head()"
      ],
      "execution_count": 116,
      "outputs": [
        {
          "output_type": "execute_result",
          "data": {
            "text/html": [
              "<div>\n",
              "<style scoped>\n",
              "    .dataframe tbody tr th:only-of-type {\n",
              "        vertical-align: middle;\n",
              "    }\n",
              "\n",
              "    .dataframe tbody tr th {\n",
              "        vertical-align: top;\n",
              "    }\n",
              "\n",
              "    .dataframe thead th {\n",
              "        text-align: right;\n",
              "    }\n",
              "</style>\n",
              "<table border=\"1\" class=\"dataframe\">\n",
              "  <thead>\n",
              "    <tr style=\"text-align: right;\">\n",
              "      <th></th>\n",
              "      <th>id</th>\n",
              "      <th>revenue</th>\n",
              "    </tr>\n",
              "  </thead>\n",
              "  <tbody>\n",
              "    <tr>\n",
              "      <th>0</th>\n",
              "      <td>3001</td>\n",
              "      <td>1000000</td>\n",
              "    </tr>\n",
              "    <tr>\n",
              "      <th>1</th>\n",
              "      <td>3002</td>\n",
              "      <td>1000000</td>\n",
              "    </tr>\n",
              "    <tr>\n",
              "      <th>2</th>\n",
              "      <td>3003</td>\n",
              "      <td>1000000</td>\n",
              "    </tr>\n",
              "    <tr>\n",
              "      <th>3</th>\n",
              "      <td>3004</td>\n",
              "      <td>1000000</td>\n",
              "    </tr>\n",
              "    <tr>\n",
              "      <th>4</th>\n",
              "      <td>3005</td>\n",
              "      <td>1000000</td>\n",
              "    </tr>\n",
              "  </tbody>\n",
              "</table>\n",
              "</div>"
            ],
            "text/plain": [
              "     id  revenue\n",
              "0  3001  1000000\n",
              "1  3002  1000000\n",
              "2  3003  1000000\n",
              "3  3004  1000000\n",
              "4  3005  1000000"
            ]
          },
          "metadata": {
            "tags": []
          },
          "execution_count": 116
        }
      ]
    },
    {
      "cell_type": "code",
      "metadata": {
        "id": "4xQPZVP2sByO",
        "colab_type": "code",
        "colab": {}
      },
      "source": [
        "sub['revenue'] = df_pred.final"
      ],
      "execution_count": 0,
      "outputs": []
    },
    {
      "cell_type": "code",
      "metadata": {
        "id": "tG1JEUIHBfwt",
        "colab_type": "code",
        "colab": {}
      },
      "source": [
        ""
      ],
      "execution_count": 0,
      "outputs": []
    },
    {
      "cell_type": "code",
      "metadata": {
        "id": "BARdKbhcsBuJ",
        "colab_type": "code",
        "colab": {}
      },
      "source": [
        "from google.colab import files\n",
        "\n",
        "sub.to_csv('sub.csv', index = False)\n",
        "files.download('sub.csv')"
      ],
      "execution_count": 0,
      "outputs": []
    },
    {
      "cell_type": "code",
      "metadata": {
        "id": "lDyuD5byBfqN",
        "colab_type": "code",
        "outputId": "99414d22-79b1-4169-fb45-943bd0875ae2",
        "colab": {
          "base_uri": "https://localhost:8080/",
          "height": 158
        }
      },
      "source": [
        "!kaggle competitions submit -c tmdb-box-office-prediction -f sub.csv -m \"Message\""
      ],
      "execution_count": 0,
      "outputs": [
        {
          "output_type": "stream",
          "text": [
            "Traceback (most recent call last):\n",
            "  File \"/usr/local/bin/kaggle\", line 6, in <module>\n",
            "    from kaggle.cli import main\n",
            "  File \"/usr/local/lib/python2.7/dist-packages/kaggle/__init__.py\", line 23, in <module>\n",
            "    api.authenticate()\n",
            "  File \"/usr/local/lib/python2.7/dist-packages/kaggle/api/kaggle_api_extended.py\", line 116, in authenticate\n",
            "    self.config_file, self.config_dir))\n",
            "IOError: Could not find kaggle.json. Make sure it's located in /root/.kaggle. Or use the environment method.\n"
          ],
          "name": "stdout"
        }
      ]
    },
    {
      "cell_type": "code",
      "metadata": {
        "id": "rT0aUdDSBfcH",
        "colab_type": "code",
        "colab": {}
      },
      "source": [
        ""
      ],
      "execution_count": 0,
      "outputs": []
    },
    {
      "cell_type": "code",
      "metadata": {
        "id": "7YvAxFq_sAtF",
        "colab_type": "code",
        "colab": {}
      },
      "source": [
        ""
      ],
      "execution_count": 0,
      "outputs": []
    }
  ]
}