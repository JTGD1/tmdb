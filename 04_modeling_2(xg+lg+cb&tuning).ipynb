{
 "cells": [
  {
   "cell_type": "code",
   "execution_count": 0,
   "metadata": {
    "colab": {},
    "colab_type": "code",
    "id": "6btqYOvJuk8O"
   },
   "outputs": [],
   "source": [
    "import pandas as pd\n",
    "import numpy as np\n",
    "import math\n",
    "import matplotlib.pyplot as plt\n",
    "\n",
    "from sklearn.model_selection import train_test_split\n",
    "from sklearn.metrics import mean_squared_error\n",
    "from sklearn.metrics import mean_squared_log_error"
   ]
  },
  {
   "cell_type": "code",
   "execution_count": 0,
   "metadata": {
    "colab": {},
    "colab_type": "code",
    "id": "j40fXd2XjL_G"
   },
   "outputs": [],
   "source": [
    "# RMSLE in natural log \n",
    "def my_loss(pred, actual):\n",
    "  assert len(pred) == len(actual)\n",
    "  error2 = [(math.log(pred[i] + 1) - math.log(actual[i] - 1))**2 for i in range(len(pred))]\n",
    "  result = np.sqrt(np.sum(error2) / len(pred))\n",
    "  return result "
   ]
  },
  {
   "cell_type": "markdown",
   "metadata": {
    "colab_type": "text",
    "id": "7m-pRP_9u9pv"
   },
   "source": [
    "## Load the data"
   ]
  },
  {
   "cell_type": "code",
   "execution_count": 0,
   "metadata": {
    "colab": {},
    "colab_type": "code",
    "id": "6DezWX46uyac"
   },
   "outputs": [],
   "source": [
    "# Import the all dataset\n",
    "tr = pd.read_csv('train_2.csv')"
   ]
  },
  {
   "cell_type": "code",
   "execution_count": 47,
   "metadata": {
    "colab": {
     "base_uri": "https://localhost:8080/",
     "height": 35
    },
    "colab_type": "code",
    "id": "ng-ikYztvxtq",
    "outputId": "53f5cb5a-7759-499e-aae9-73a32c262a6f"
   },
   "outputs": [
    {
     "data": {
      "text/plain": [
       "(3000, 353)"
      ]
     },
     "execution_count": 47,
     "metadata": {
      "tags": []
     },
     "output_type": "execute_result"
    }
   ],
   "source": [
    "tr.shape"
   ]
  },
  {
   "cell_type": "code",
   "execution_count": 0,
   "metadata": {
    "colab": {},
    "colab_type": "code",
    "id": "w2I1PLuHv2d4"
   },
   "outputs": [],
   "source": [
    "y = tr.revenue_log \n",
    "X = tr.drop('revenue_log', axis = 1)"
   ]
  },
  {
   "cell_type": "code",
   "execution_count": 49,
   "metadata": {
    "colab": {
     "base_uri": "https://localhost:8080/",
     "height": 35
    },
    "colab_type": "code",
    "id": "EKlZPwQQpaNG",
    "outputId": "46f6977a-9054-4c82-b116-dde218b00537"
   },
   "outputs": [
    {
     "data": {
      "text/plain": [
       "(3000, 352)"
      ]
     },
     "execution_count": 49,
     "metadata": {
      "tags": []
     },
     "output_type": "execute_result"
    }
   ],
   "source": [
    "X.shape"
   ]
  },
  {
   "cell_type": "code",
   "execution_count": 50,
   "metadata": {
    "colab": {
     "base_uri": "https://localhost:8080/",
     "height": 35
    },
    "colab_type": "code",
    "id": "OyVJf83zutrp",
    "outputId": "4c061e5c-b41d-43f1-8b02-ad0834385878"
   },
   "outputs": [
    {
     "data": {
      "text/plain": [
       "(4398, 352)"
      ]
     },
     "execution_count": 50,
     "metadata": {
      "tags": []
     },
     "output_type": "execute_result"
    }
   ],
   "source": [
    "te = pd.read_csv('test_2.csv')\n",
    "te.shape"
   ]
  },
  {
   "cell_type": "code",
   "execution_count": 51,
   "metadata": {
    "colab": {
     "base_uri": "https://localhost:8080/",
     "height": 35
    },
    "colab_type": "code",
    "id": "PwtEmkEDpUs8",
    "outputId": "6c2e47ba-635e-49ae-e21a-1d88811c86e5"
   },
   "outputs": [
    {
     "data": {
      "text/plain": [
       "(3000, 352)"
      ]
     },
     "execution_count": 51,
     "metadata": {
      "tags": []
     },
     "output_type": "execute_result"
    }
   ],
   "source": [
    "X.shape"
   ]
  },
  {
   "cell_type": "markdown",
   "metadata": {
    "colab_type": "text",
    "id": "daxlhYSVvD9D"
   },
   "source": [
    "## Additional preprocessing"
   ]
  },
  {
   "cell_type": "code",
   "execution_count": 0,
   "metadata": {
    "colab": {},
    "colab_type": "code",
    "id": "h3Fn09nPuzgR"
   },
   "outputs": [],
   "source": [
    "# Additional preprocessing (if neccesssary)\n",
    "# Dimension Reduction \n",
    "\n"
   ]
  },
  {
   "cell_type": "code",
   "execution_count": 0,
   "metadata": {
    "colab": {},
    "colab_type": "code",
    "id": "MbhQlzWBu0gc"
   },
   "outputs": [],
   "source": [
    "# Split into train and Valid set\n",
    "X_tr, X_val, y_tr, y_val = train_test_split(X, y, test_size = .2, random_state = 36)"
   ]
  },
  {
   "cell_type": "code",
   "execution_count": 53,
   "metadata": {
    "colab": {
     "base_uri": "https://localhost:8080/",
     "height": 72
    },
    "colab_type": "code",
    "id": "onngVTvh10YD",
    "outputId": "464ef6f4-ad37-4e8c-bc6f-a19db308010c"
   },
   "outputs": [
    {
     "name": "stdout",
     "output_type": "stream",
     "text": [
      "The size of the train set  (2400, 352)\n",
      "The size of the validation set  (600, 352)\n",
      "The size of the test set  (4398, 352)\n"
     ]
    }
   ],
   "source": [
    "print(\"The size of the train set \", X_tr.shape)\n",
    "print(\"The size of the validation set \", X_val.shape)\n",
    "print(\"The size of the test set \", te.shape)"
   ]
  },
  {
   "cell_type": "code",
   "execution_count": 0,
   "metadata": {
    "colab": {},
    "colab_type": "code",
    "id": "hSmGnpT_vtGb"
   },
   "outputs": [],
   "source": [
    "del tr, X, y, "
   ]
  },
  {
   "cell_type": "code",
   "execution_count": 55,
   "metadata": {
    "colab": {
     "base_uri": "https://localhost:8080/",
     "height": 145
    },
    "colab_type": "code",
    "id": "Qfbtr7Ciwu39",
    "outputId": "681b9110-c2f6-46f6-8dd9-74323192b228"
   },
   "outputs": [
    {
     "data": {
      "text/plain": [
       "Index(['runtime_h', 'runtime_m', 'runtime_log', 'budget_log', 'popularity_log',\n",
       "       'status', 'is_collection', 'is_homepage', 'n_genres', 'n_prod_comp',\n",
       "       ...\n",
       "       'crew_Camera', 'crew_Costume & Make-Up', 'crew_Crew', 'crew_Directing',\n",
       "       'crew_Editing', 'crew_Lighting', 'crew_Production', 'crew_Sound',\n",
       "       'crew_Visual Effects', 'crew_Writing'],\n",
       "      dtype='object', length=352)"
      ]
     },
     "execution_count": 55,
     "metadata": {
      "tags": []
     },
     "output_type": "execute_result"
    }
   ],
   "source": [
    "X_tr.columns"
   ]
  },
  {
   "cell_type": "code",
   "execution_count": 0,
   "metadata": {
    "colab": {},
    "colab_type": "code",
    "id": "6qva76NDwuwd"
   },
   "outputs": [],
   "source": []
  },
  {
   "cell_type": "code",
   "execution_count": 0,
   "metadata": {
    "colab": {},
    "colab_type": "code",
    "id": "pr6hPyYQwups"
   },
   "outputs": [],
   "source": []
  },
  {
   "cell_type": "markdown",
   "metadata": {
    "colab_type": "text",
    "id": "6NXG_DRju2JU"
   },
   "source": [
    "### 1. Elastic-Net"
   ]
  },
  {
   "cell_type": "code",
   "execution_count": 0,
   "metadata": {
    "colab": {},
    "colab_type": "code",
    "id": "aae8jF9Y9Zh3"
   },
   "outputs": [],
   "source": [
    "X_tr.fillna(-1, inplace = True)\n",
    "X_val.fillna(-1, inplace = True)\n",
    "te.fillna(-1, inplace = True)"
   ]
  },
  {
   "cell_type": "code",
   "execution_count": 0,
   "metadata": {
    "colab": {
     "base_uri": "https://localhost:8080/",
     "height": 67
    },
    "colab_type": "code",
    "id": "FvMSkEpElDLZ",
    "outputId": "efdb8fbc-f3a5-4507-a8ba-70a010af7a16"
   },
   "outputs": [
    {
     "data": {
      "text/plain": [
       "ElasticNet(alpha=0.03, copy_X=True, fit_intercept=True, l1_ratio=0.05,\n",
       "      max_iter=2000, normalize=False, positive=False, precompute=False,\n",
       "      random_state=None, selection='cyclic', tol=0.0001, warm_start=False)"
      ]
     },
     "execution_count": 24,
     "metadata": {
      "tags": []
     },
     "output_type": "execute_result"
    }
   ],
   "source": [
    "from sklearn.linear_model import ElasticNet \n",
    "model_el = ElasticNet(alpha = .03, l1_ratio = .05, max_iter = 2000)\n",
    "model_el.fit(X_tr, y_tr)"
   ]
  },
  {
   "cell_type": "code",
   "execution_count": 0,
   "metadata": {
    "colab": {},
    "colab_type": "code",
    "id": "qPu4281slDG0"
   },
   "outputs": [],
   "source": [
    "pred_el = model_el.predict(X_val)"
   ]
  },
  {
   "cell_type": "code",
   "execution_count": 0,
   "metadata": {
    "colab": {
     "base_uri": "https://localhost:8080/",
     "height": 33
    },
    "colab_type": "code",
    "id": "-powcJcxlDC2",
    "outputId": "dfdca28e-ad99-4ffb-a347-f9b3072d9112"
   },
   "outputs": [
    {
     "data": {
      "text/plain": [
       "2.1266072116373356"
      ]
     },
     "execution_count": 28,
     "metadata": {
      "tags": []
     },
     "output_type": "execute_result"
    }
   ],
   "source": [
    "np.sqrt(mean_squared_error(y_val, pred_el))"
   ]
  },
  {
   "cell_type": "code",
   "execution_count": 0,
   "metadata": {
    "colab": {},
    "colab_type": "code",
    "id": "qyeUSaT6uLtx"
   },
   "outputs": [],
   "source": [
    "# 1st try: 2.1347\n",
    "# 2nd try: 2.1266"
   ]
  },
  {
   "cell_type": "code",
   "execution_count": 0,
   "metadata": {
    "colab": {},
    "colab_type": "code",
    "id": "AuDlwWWLuLll"
   },
   "outputs": [],
   "source": [
    "my_loss(pred_el, y)"
   ]
  },
  {
   "cell_type": "code",
   "execution_count": 0,
   "metadata": {
    "colab": {},
    "colab_type": "code",
    "id": "y9gfh98YuLhX"
   },
   "outputs": [],
   "source": []
  },
  {
   "cell_type": "markdown",
   "metadata": {
    "colab_type": "text",
    "id": "aSOZ4TdgmRc6"
   },
   "source": [
    "### 2. Xgboost"
   ]
  },
  {
   "cell_type": "code",
   "execution_count": 267,
   "metadata": {
    "colab": {
     "base_uri": "https://localhost:8080/",
     "height": 181
    },
    "colab_type": "code",
    "id": "ZrwDjC2qmRYv",
    "outputId": "8227ee38-a958-4e5c-c140-f6ce301d9f8a"
   },
   "outputs": [
    {
     "name": "stderr",
     "output_type": "stream",
     "text": [
      "/usr/local/lib/python3.6/dist-packages/xgboost/core.py:587: FutureWarning: Series.base is deprecated and will be removed in a future version\n",
      "  if getattr(data, 'base', None) is not None and \\\n"
     ]
    },
    {
     "data": {
      "text/plain": [
       "XGBRegressor(base_score=0.5, booster='gbtree', colsample_bylevel=0.9,\n",
       "       colsample_bytree=0.7, early_stopping_rounds=500, gamma=1.5,\n",
       "       importance_type='gain', learning_rate=0.005, max_delta_step=0,\n",
       "       max_depth=7, min_child_weight=1, missing=None, n_estimators=10000,\n",
       "       n_jobs=1, nthread=None, objective='reg:linear', random_state=0,\n",
       "       reg_alpha=0, reg_lambda=1, scale_pos_weight=1, seed=None,\n",
       "       silent=True, subsample=0.8)"
      ]
     },
     "execution_count": 267,
     "metadata": {
      "tags": []
     },
     "output_type": "execute_result"
    }
   ],
   "source": [
    "import xgboost as xgb\n",
    "model_xg = xgb.XGBRegressor(objective = 'reg:linear',\n",
    "                            n_estimators = 10000, \n",
    "                            max_depth = 7, \n",
    "                            learning_rate = 0.005,\n",
    "                            early_stopping_rounds = 500,\n",
    "                            gamma = 1.5, \n",
    "                            subsample = 0.8,   \n",
    "                            colsample_bytree = 0.7,\n",
    "                            colsample_bylevel = 0.9, \n",
    "                            silent = True)\n",
    "\n",
    "model_xg.fit(X_tr, y_tr)"
   ]
  },
  {
   "cell_type": "code",
   "execution_count": 268,
   "metadata": {
    "colab": {
     "base_uri": "https://localhost:8080/",
     "height": 35
    },
    "colab_type": "code",
    "id": "bxIUoBqLmRUw",
    "outputId": "873f54ca-33fc-4282-eacb-8c30dd6a9da4"
   },
   "outputs": [
    {
     "data": {
      "text/plain": [
       "1.8978116369411362"
      ]
     },
     "execution_count": 268,
     "metadata": {
      "tags": []
     },
     "output_type": "execute_result"
    }
   ],
   "source": [
    "pred_xg = model_xg.predict(X_val)\n",
    "np.sqrt(mean_squared_error(y_val, pred_xg))"
   ]
  },
  {
   "cell_type": "code",
   "execution_count": 0,
   "metadata": {
    "colab": {},
    "colab_type": "code",
    "id": "u3G-BVqSmRMf"
   },
   "outputs": [],
   "source": [
    "# 1st try: 1.9202\n",
    "# 2nd try: 1.9128\n",
    "# 3nd try: 1.8978"
   ]
  },
  {
   "cell_type": "code",
   "execution_count": 0,
   "metadata": {
    "colab": {},
    "colab_type": "code",
    "id": "vpjxu4AJmRIg"
   },
   "outputs": [],
   "source": [
    "my_loss(pred_xg, y_val)"
   ]
  },
  {
   "cell_type": "code",
   "execution_count": 0,
   "metadata": {
    "colab": {},
    "colab_type": "code",
    "id": "53sEXmDj1n42"
   },
   "outputs": [],
   "source": []
  },
  {
   "cell_type": "code",
   "execution_count": 0,
   "metadata": {
    "colab": {},
    "colab_type": "code",
    "id": "I1QAFAVN1n0j"
   },
   "outputs": [],
   "source": []
  },
  {
   "cell_type": "markdown",
   "metadata": {
    "colab_type": "text",
    "id": "fbeIIJLou4SO"
   },
   "source": [
    "### 3. Catboost"
   ]
  },
  {
   "cell_type": "code",
   "execution_count": 219,
   "metadata": {
    "colab": {
     "base_uri": "https://localhost:8080/",
     "height": 163
    },
    "colab_type": "code",
    "id": "_LP61TNPjGDE",
    "outputId": "4d88e0da-16c6-43b2-badc-92411e7c4bfd"
   },
   "outputs": [
    {
     "name": "stdout",
     "output_type": "stream",
     "text": [
      "Requirement already satisfied: catboost in /usr/local/lib/python3.6/dist-packages (0.14.2)\n",
      "Requirement already satisfied: enum34 in /usr/local/lib/python3.6/dist-packages (from catboost) (1.1.6)\n",
      "Requirement already satisfied: numpy>=1.11.1 in /usr/local/lib/python3.6/dist-packages (from catboost) (1.16.3)\n",
      "Requirement already satisfied: pandas>=0.19.1 in /usr/local/lib/python3.6/dist-packages (from catboost) (0.24.2)\n",
      "Requirement already satisfied: six in /usr/local/lib/python3.6/dist-packages (from catboost) (1.12.0)\n",
      "Requirement already satisfied: graphviz in /usr/local/lib/python3.6/dist-packages (from catboost) (0.10.1)\n",
      "Requirement already satisfied: pytz>=2011k in /usr/local/lib/python3.6/dist-packages (from pandas>=0.19.1->catboost) (2018.9)\n",
      "Requirement already satisfied: python-dateutil>=2.5.0 in /usr/local/lib/python3.6/dist-packages (from pandas>=0.19.1->catboost) (2.5.3)\n"
     ]
    }
   ],
   "source": [
    "!pip install catboost"
   ]
  },
  {
   "cell_type": "code",
   "execution_count": 0,
   "metadata": {
    "colab": {},
    "colab_type": "code",
    "id": "evnNgmn1vXHy"
   },
   "outputs": [],
   "source": [
    "from catboost import CatBoostRegressor"
   ]
  },
  {
   "cell_type": "code",
   "execution_count": 248,
   "metadata": {
    "colab": {
     "base_uri": "https://localhost:8080/",
     "height": 35
    },
    "colab_type": "code",
    "id": "66uB1vQajEAt",
    "outputId": "6011fc1c-8e57-4430-c1e8-affd42e47a85"
   },
   "outputs": [
    {
     "data": {
      "text/plain": [
       "<catboost.core.CatBoostRegressor at 0x7f74a0d90710>"
      ]
     },
     "execution_count": 248,
     "metadata": {
      "tags": []
     },
     "output_type": "execute_result"
    }
   ],
   "source": [
    "model_cb = CatBoostRegressor(iterations = 10000,\n",
    "                             depth = 7,   \n",
    "                             eval_metric = 'RMSE',\n",
    "                             learning_rate = .01,   \n",
    "                             colsample_bylevel = 0.7,  \n",
    "                             bagging_temperature = 0.2,   \n",
    "                             early_stopping_rounds = 300,   \n",
    "                             logging_level = 'Silent')\n",
    "\n",
    "model_cb.fit(X_tr, y_tr, eval_set = (X_val, y_val), use_best_model = True)"
   ]
  },
  {
   "cell_type": "code",
   "execution_count": 249,
   "metadata": {
    "colab": {
     "base_uri": "https://localhost:8080/",
     "height": 35
    },
    "colab_type": "code",
    "id": "aOQaWZMpkVYK",
    "outputId": "b6be8a28-8857-4070-817a-a4d3457253ff"
   },
   "outputs": [
    {
     "data": {
      "text/plain": [
       "1.8753539178200316"
      ]
     },
     "execution_count": 249,
     "metadata": {
      "tags": []
     },
     "output_type": "execute_result"
    }
   ],
   "source": [
    "pred_cb = model_cb.predict(X_val)\n",
    "np.sqrt(mean_squared_error(y_val, pred_cb))"
   ]
  },
  {
   "cell_type": "code",
   "execution_count": 0,
   "metadata": {
    "colab": {},
    "colab_type": "code",
    "id": "Z7PFdJGnkVMQ"
   },
   "outputs": [],
   "source": [
    "# 1st try: 1.9218\n",
    "# 2nd try: 1.8779\n",
    "# 3rd try: 1.8753"
   ]
  },
  {
   "cell_type": "code",
   "execution_count": 0,
   "metadata": {
    "colab": {},
    "colab_type": "code",
    "id": "F70LE-vtkVHy"
   },
   "outputs": [],
   "source": []
  },
  {
   "cell_type": "markdown",
   "metadata": {
    "colab_type": "text",
    "id": "NY6rCN7PqLoT"
   },
   "source": [
    "### 4. Lightgbm"
   ]
  },
  {
   "cell_type": "code",
   "execution_count": 0,
   "metadata": {
    "colab": {},
    "colab_type": "code",
    "id": "R06-Shda73jR"
   },
   "outputs": [],
   "source": [
    "!pip install lightgbm --install-option=--gpu"
   ]
  },
  {
   "cell_type": "code",
   "execution_count": 0,
   "metadata": {
    "colab": {},
    "colab_type": "code",
    "id": "mbMq6A6O-Wsg"
   },
   "outputs": [],
   "source": [
    "# Installation \n",
    "!git clone --recursive https://github.com/Microsoft/LightGBM\n",
    "%cd /content/LightGBM\n",
    "!mkdir build\n",
    "!cmake -DUSE_GPU=1\n",
    "!make -j$(nproc)\n",
    "!sudo apt-get -y install python-pip\n",
    "!sudo -H pip install setuptools pandas numpy scipy scikit-learn -U\n",
    "%cd /content/LightGBM/python-package\n",
    "!sudo python setup.py install --precompile"
   ]
  },
  {
   "cell_type": "code",
   "execution_count": 0,
   "metadata": {
    "colab": {},
    "colab_type": "code",
    "id": "Yi9I2Xn4qLk8"
   },
   "outputs": [],
   "source": [
    "import lightgbm as lgb"
   ]
  },
  {
   "cell_type": "code",
   "execution_count": 206,
   "metadata": {
    "colab": {
     "base_uri": "https://localhost:8080/",
     "height": 108
    },
    "colab_type": "code",
    "id": "p64muoC2qZky",
    "outputId": "b0df02c0-714f-4f6a-fbc0-c8d2b147433a"
   },
   "outputs": [
    {
     "name": "stderr",
     "output_type": "stream",
     "text": [
      "/content/LightGBM/python-package/lightgbm/engine.py:120: UserWarning: Found `num_iterations` in params. Will use it instead of argument\n",
      "  warnings.warn(\"Found `{}` in params. Will use it instead of argument\".format(alias))\n"
     ]
    },
    {
     "name": "stdout",
     "output_type": "stream",
     "text": [
      "Training until validation scores don't improve for 500 rounds.\n",
      "Early stopping, best iteration is:\n",
      "[6921]\tvalid_0's rmse: 1.91857\n"
     ]
    }
   ],
   "source": [
    "tr_data = lgb.Dataset(X_tr, label = y_tr)\n",
    "val_data = lgb.Dataset(X_val, label = y_val)\n",
    "\n",
    "params = {'objective' : 'regression',\n",
    "          'num_iterations' : 10000, \n",
    "          'max_depth' : 9,\n",
    "          'num_leaves' : 100,\n",
    "          'learning_rate': 0.005,\n",
    "          'metric' : 'rmse',\n",
    "          'min_data_in_leaf' : 100,\n",
    "          'colsample_bytree': 0.9,\n",
    "          'subsample_freq': 1,\n",
    "          'lambda_l1' : 0.1,\n",
    "          'lambda_l2' : 0.3,\n",
    "          'subsample' : 0.8, \n",
    "          'verbose' : -1}\n",
    "\n",
    "hist = {}\n",
    "model_lg = lgb.train(params, tr_data, \n",
    "                     valid_sets = [val_data],\n",
    "                     verbose_eval = -1, \n",
    "                     early_stopping_rounds = 500,\n",
    "                     callbacks = [lgb.record_evaluation(hist)])"
   ]
  },
  {
   "cell_type": "code",
   "execution_count": 207,
   "metadata": {
    "colab": {
     "base_uri": "https://localhost:8080/",
     "height": 35
    },
    "colab_type": "code",
    "id": "VSnyWtDn7Pvq",
    "outputId": "9f497348-ab5b-4de3-ab4a-9c5a6c669a84"
   },
   "outputs": [
    {
     "data": {
      "text/plain": [
       "1.918566125430695"
      ]
     },
     "execution_count": 207,
     "metadata": {
      "tags": []
     },
     "output_type": "execute_result"
    }
   ],
   "source": [
    "pred_lg = model_lg.predict(X_val, num_iteration = model_lg.best_iteration)\n",
    "np.sqrt(mean_squared_error(y_val, pred_lg))"
   ]
  },
  {
   "cell_type": "code",
   "execution_count": 0,
   "metadata": {
    "colab": {},
    "colab_type": "code",
    "id": "Zln7Mt34qKQI"
   },
   "outputs": [],
   "source": [
    "# 1st try: \n",
    "# 2nd try: 1.9138"
   ]
  },
  {
   "cell_type": "code",
   "execution_count": 0,
   "metadata": {
    "colab": {},
    "colab_type": "code",
    "id": "TIQECkhnjc4L"
   },
   "outputs": [],
   "source": []
  },
  {
   "cell_type": "markdown",
   "metadata": {
    "colab_type": "text",
    "id": "DA6Ci1O1u4-f"
   },
   "source": [
    "### 5. Keras"
   ]
  },
  {
   "cell_type": "code",
   "execution_count": 0,
   "metadata": {
    "colab": {},
    "colab_type": "code",
    "id": "Do3dSm7nvdhj"
   },
   "outputs": [],
   "source": [
    "import keras\n",
    "from keras.models import Sequential\n",
    "from keras.layers import Dense, Dropout\n",
    "from keras.callbacks import EarlyStopping"
   ]
  },
  {
   "cell_type": "code",
   "execution_count": 77,
   "metadata": {
    "colab": {
     "base_uri": "https://localhost:8080/",
     "height": 54
    },
    "colab_type": "code",
    "id": "ixLm8rtAmil7",
    "outputId": "8e5e39fd-369a-4c71-bf39-aacd739a454d"
   },
   "outputs": [
    {
     "name": "stdout",
     "output_type": "stream",
     "text": [
      "352\n",
      "176.0\n"
     ]
    }
   ],
   "source": [
    "print(X_tr.shape[1])\n",
    "print(X_tr.shape[1] /2)"
   ]
  },
  {
   "cell_type": "code",
   "execution_count": 115,
   "metadata": {
    "colab": {
     "base_uri": "https://localhost:8080/",
     "height": 183
    },
    "colab_type": "code",
    "id": "eoBcao8Pc4To",
    "outputId": "049367d6-563f-474b-c4f1-84dd9500ec07"
   },
   "outputs": [
    {
     "name": "stderr",
     "output_type": "stream",
     "text": [
      "/usr/local/lib/python3.6/dist-packages/ipykernel_launcher.py:5: UserWarning: Update your `Dense` call to the Keras 2 API: `Dense(input_dim=352, activation=\"relu\", units=126)`\n",
      "  \"\"\"\n",
      "/usr/local/lib/python3.6/dist-packages/ipykernel_launcher.py:6: UserWarning: Update your `Dense` call to the Keras 2 API: `Dense(activation=\"relu\", units=64)`\n",
      "  \n",
      "/usr/local/lib/python3.6/dist-packages/ipykernel_launcher.py:7: UserWarning: Update your `Dense` call to the Keras 2 API: `Dense(activation=\"relu\", units=16)`\n",
      "  import sys\n",
      "/usr/local/lib/python3.6/dist-packages/ipykernel_launcher.py:8: UserWarning: Update your `Dense` call to the Keras 2 API: `Dense(units=1)`\n",
      "  \n"
     ]
    }
   ],
   "source": [
    "# initialize the model\n",
    "model_ke = Sequential()\n",
    "\n",
    "# create hidden layers\n",
    "model_ke.add(Dense(input_dim = 352, output_dim = 126, \n",
    "                activation = 'relu'))\n",
    "model_ke.add(Dense(output_dim = 64, activation = 'relu'))\n",
    "model_ke.add(Dense(output_dim = 16, activation = 'relu'))\n",
    "model_ke.add(Dense(output_dim = 1)) \n",
    "\n",
    "# compile: stochastic gradient descent\n",
    "model_ke.compile(optimizer = 'adam', \n",
    "              loss = 'mse', \n",
    "              metrics = ['mean_squared_logarithmic_error'])"
   ]
  },
  {
   "cell_type": "code",
   "execution_count": 0,
   "metadata": {
    "colab": {},
    "colab_type": "code",
    "id": "eH32NkwHn10R"
   },
   "outputs": [],
   "source": [
    "# early stopper \n",
    "early_stopper = EarlyStopping(patience = 5)\n",
    "\n",
    "r = model_ke.fit(X_tr, y_tr, \n",
    "                 batch_size = 500, \n",
    "                 nb_epoch = 1000,\n",
    "                 callbacks = [early_stopper])"
   ]
  },
  {
   "cell_type": "code",
   "execution_count": 120,
   "metadata": {
    "colab": {
     "base_uri": "https://localhost:8080/",
     "height": 35
    },
    "colab_type": "code",
    "id": "eeGu93Rdn1uy",
    "outputId": "09a07efd-3fe6-4a47-d1b2-ff530725f8a1"
   },
   "outputs": [
    {
     "data": {
      "text/plain": [
       "16.320093485738738"
      ]
     },
     "execution_count": 120,
     "metadata": {
      "tags": []
     },
     "output_type": "execute_result"
    }
   ],
   "source": [
    "# prediction \n",
    "pred_ke = model_ke.predict(X_val)\n",
    "np.sqrt(mean_squared_error(y_val, pred_ke))"
   ]
  },
  {
   "cell_type": "code",
   "execution_count": 0,
   "metadata": {
    "colab": {},
    "colab_type": "code",
    "id": "4SiBcKX88cnC"
   },
   "outputs": [],
   "source": [
    "# 1st try : 2.9460\n",
    "# 2nd try : "
   ]
  },
  {
   "cell_type": "code",
   "execution_count": 0,
   "metadata": {
    "colab": {},
    "colab_type": "code",
    "id": "G44pfqwn8ogO"
   },
   "outputs": [],
   "source": []
  },
  {
   "cell_type": "code",
   "execution_count": 0,
   "metadata": {
    "colab": {},
    "colab_type": "code",
    "id": "5bd2_4Wf8oS_"
   },
   "outputs": [],
   "source": []
  },
  {
   "cell_type": "code",
   "execution_count": 0,
   "metadata": {
    "colab": {},
    "colab_type": "code",
    "id": "cmXb0Gfvn1pj"
   },
   "outputs": [],
   "source": [
    "# plot the error\n",
    "plt.plot(r.history['loss'], label = 'train loss')\n",
    "plt.plot(r.history['val_loss'], label = 'test loss')\n",
    "plt.legend()\n",
    "plt.show()\n",
    "\n",
    "plt.plot(r.history['mean_squared_logarithmic_error'], label = 'train mse')\n",
    "plt.plot(r.history['val_mean_squared_logarithmic_error'], label = 'test mse')\n",
    "plt.legend()\n",
    "plt.show()"
   ]
  },
  {
   "cell_type": "code",
   "execution_count": 0,
   "metadata": {
    "colab": {},
    "colab_type": "code",
    "id": "Yj-p9b7ac4OX"
   },
   "outputs": [],
   "source": []
  },
  {
   "cell_type": "markdown",
   "metadata": {
    "colab_type": "text",
    "id": "yXy9DGjGu5pk"
   },
   "source": [
    "## Evaluation"
   ]
  },
  {
   "cell_type": "code",
   "execution_count": 0,
   "metadata": {
    "colab": {},
    "colab_type": "code",
    "id": "xPWPVxM9rTTN"
   },
   "outputs": [],
   "source": [
    "df_pred = pd.DataFrame()"
   ]
  },
  {
   "cell_type": "code",
   "execution_count": 0,
   "metadata": {
    "colab": {},
    "colab_type": "code",
    "id": "mHlGpkSwrTPN"
   },
   "outputs": [],
   "source": [
    "df_pred['el'] = model_el.predict(te)"
   ]
  },
  {
   "cell_type": "code",
   "execution_count": 0,
   "metadata": {
    "colab": {},
    "colab_type": "code",
    "id": "YOCE-986prtL"
   },
   "outputs": [],
   "source": [
    "df_pred['ke'] = model_ke.predict(te)"
   ]
  },
  {
   "cell_type": "code",
   "execution_count": 0,
   "metadata": {
    "colab": {},
    "colab_type": "code",
    "id": "VBWe8iRHpnev"
   },
   "outputs": [],
   "source": [
    "df_pred['xg'] = model_xg.predict(te)\n",
    "df_pred['cb'] = model_cb.predict(te)\n",
    "df_pred['lg'] = model_lg.predict(te)"
   ]
  },
  {
   "cell_type": "code",
   "execution_count": 0,
   "metadata": {
    "colab": {},
    "colab_type": "code",
    "id": "MANAnmawrTLO"
   },
   "outputs": [],
   "source": [
    "#df_pred['final'] = np.expm1(.2*df_pred.el + .5*df_pred.cb + .3*df_pred.xg)\n",
    "df_pred['final'] = np.expm1(.4*df_pred.cb + .4*df_pred.xg + .3*df_pred.lg)"
   ]
  },
  {
   "cell_type": "code",
   "execution_count": 0,
   "metadata": {
    "colab": {
     "base_uri": "https://localhost:8080/",
     "height": 196
    },
    "colab_type": "code",
    "id": "Dv1-gu4UsF1s",
    "outputId": "14dd8f43-68bd-45e5-d1fb-b951232959e0"
   },
   "outputs": [
    {
     "data": {
      "text/html": [
       "<div>\n",
       "<style scoped>\n",
       "    .dataframe tbody tr th:only-of-type {\n",
       "        vertical-align: middle;\n",
       "    }\n",
       "\n",
       "    .dataframe tbody tr th {\n",
       "        vertical-align: top;\n",
       "    }\n",
       "\n",
       "    .dataframe thead th {\n",
       "        text-align: right;\n",
       "    }\n",
       "</style>\n",
       "<table border=\"1\" class=\"dataframe\">\n",
       "  <thead>\n",
       "    <tr style=\"text-align: right;\">\n",
       "      <th></th>\n",
       "      <th>xg</th>\n",
       "      <th>cb</th>\n",
       "      <th>final</th>\n",
       "      <th>el</th>\n",
       "    </tr>\n",
       "  </thead>\n",
       "  <tbody>\n",
       "    <tr>\n",
       "      <th>0</th>\n",
       "      <td>16.052170</td>\n",
       "      <td>15.547183</td>\n",
       "      <td>5.807170e+06</td>\n",
       "      <td>14.926807</td>\n",
       "    </tr>\n",
       "    <tr>\n",
       "      <th>1</th>\n",
       "      <td>13.687190</td>\n",
       "      <td>14.855867</td>\n",
       "      <td>1.817424e+06</td>\n",
       "      <td>14.394201</td>\n",
       "    </tr>\n",
       "    <tr>\n",
       "      <th>2</th>\n",
       "      <td>16.181671</td>\n",
       "      <td>15.821494</td>\n",
       "      <td>6.957021e+06</td>\n",
       "      <td>14.950067</td>\n",
       "    </tr>\n",
       "    <tr>\n",
       "      <th>3</th>\n",
       "      <td>15.788505</td>\n",
       "      <td>15.791989</td>\n",
       "      <td>7.713922e+06</td>\n",
       "      <td>16.129956</td>\n",
       "    </tr>\n",
       "    <tr>\n",
       "      <th>4</th>\n",
       "      <td>13.339710</td>\n",
       "      <td>13.354093</td>\n",
       "      <td>8.466378e+05</td>\n",
       "      <td>14.850349</td>\n",
       "    </tr>\n",
       "  </tbody>\n",
       "</table>\n",
       "</div>"
      ],
      "text/plain": [
       "          xg         cb         final         el\n",
       "0  16.052170  15.547183  5.807170e+06  14.926807\n",
       "1  13.687190  14.855867  1.817424e+06  14.394201\n",
       "2  16.181671  15.821494  6.957021e+06  14.950067\n",
       "3  15.788505  15.791989  7.713922e+06  16.129956\n",
       "4  13.339710  13.354093  8.466378e+05  14.850349"
      ]
     },
     "execution_count": 79,
     "metadata": {
      "tags": []
     },
     "output_type": "execute_result"
    }
   ],
   "source": [
    "df_pred.head()"
   ]
  },
  {
   "cell_type": "code",
   "execution_count": 0,
   "metadata": {
    "colab": {},
    "colab_type": "code",
    "id": "dsmiVi1LCEIV"
   },
   "outputs": [],
   "source": []
  },
  {
   "cell_type": "code",
   "execution_count": 0,
   "metadata": {
    "colab": {},
    "colab_type": "code",
    "id": "t8wzk_dhsFu5"
   },
   "outputs": [],
   "source": []
  },
  {
   "cell_type": "markdown",
   "metadata": {
    "colab_type": "text",
    "id": "I77UrPOWu8O8"
   },
   "source": [
    "### Submission"
   ]
  },
  {
   "cell_type": "code",
   "execution_count": 273,
   "metadata": {
    "colab": {
     "base_uri": "https://localhost:8080/",
     "height": 35
    },
    "colab_type": "code",
    "id": "wsaTISI3sB6r",
    "outputId": "98e46d89-c65b-40ae-af23-f1334de2b919"
   },
   "outputs": [
    {
     "data": {
      "text/plain": [
       "(4398, 2)"
      ]
     },
     "execution_count": 273,
     "metadata": {
      "tags": []
     },
     "output_type": "execute_result"
    }
   ],
   "source": [
    "sub = pd.read_csv('sample_submission.csv')\n",
    "sub.shape"
   ]
  },
  {
   "cell_type": "code",
   "execution_count": 0,
   "metadata": {
    "colab": {},
    "colab_type": "code",
    "id": "4xQPZVP2sByO"
   },
   "outputs": [],
   "source": [
    "sub['revenue'] = df_pred.final"
   ]
  },
  {
   "cell_type": "code",
   "execution_count": 0,
   "metadata": {
    "colab": {},
    "colab_type": "code",
    "id": "tG1JEUIHBfwt"
   },
   "outputs": [],
   "source": []
  },
  {
   "cell_type": "code",
   "execution_count": 0,
   "metadata": {
    "colab": {},
    "colab_type": "code",
    "id": "BARdKbhcsBuJ"
   },
   "outputs": [],
   "source": [
    "from google.colab import files\n",
    "\n",
    "sub.to_csv('sub.csv', index = False)\n",
    "files.download('sub.csv')"
   ]
  },
  {
   "cell_type": "code",
   "execution_count": 0,
   "metadata": {
    "colab": {},
    "colab_type": "code",
    "id": "lDyuD5byBfqN"
   },
   "outputs": [],
   "source": [
    "!kaggle competitions submit -c tmdb-box-office-prediction -f sub.csv -m \"Message\""
   ]
  },
  {
   "cell_type": "code",
   "execution_count": 0,
   "metadata": {
    "colab": {},
    "colab_type": "code",
    "id": "rT0aUdDSBfcH"
   },
   "outputs": [],
   "source": []
  },
  {
   "cell_type": "code",
   "execution_count": 0,
   "metadata": {
    "colab": {},
    "colab_type": "code",
    "id": "7YvAxFq_sAtF"
   },
   "outputs": [],
   "source": []
  }
 ],
 "metadata": {
  "accelerator": "GPU",
  "colab": {
   "collapsed_sections": [],
   "name": "04_modeling.ipynb",
   "provenance": [],
   "toc_visible": true,
   "version": "0.3.2"
  },
  "kernelspec": {
   "display_name": "Python 3",
   "language": "python",
   "name": "python3"
  },
  "language_info": {
   "codemirror_mode": {
    "name": "ipython",
    "version": 3
   },
   "file_extension": ".py",
   "mimetype": "text/x-python",
   "name": "python",
   "nbconvert_exporter": "python",
   "pygments_lexer": "ipython3",
   "version": "3.7.0"
  }
 },
 "nbformat": 4,
 "nbformat_minor": 1
}
