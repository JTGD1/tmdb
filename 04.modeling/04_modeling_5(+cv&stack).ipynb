{
  "nbformat": 4,
  "nbformat_minor": 0,
  "metadata": {
    "colab": {
      "name": "04_modeling_5(cv+stack).ipynb",
      "version": "0.3.2",
      "provenance": [],
      "collapsed_sections": [
        "7m-pRP_9u9pv",
        "z90yelYeTEjA",
        "6NXG_DRju2JU",
        "Vy4kWzmxOg5v",
        "flY-KV-lOgF7",
        "-U1IQlvkOYSs",
        "aSOZ4TdgmRc6",
        "fbeIIJLou4SO",
        "NY6rCN7PqLoT",
        "DA6Ci1O1u4-f",
        "Su-PJE39Yi2S"
      ],
      "toc_visible": true
    },
    "kernelspec": {
      "name": "python3",
      "display_name": "Python 3"
    },
    "accelerator": "GPU"
  },
  "cells": [
    {
      "cell_type": "code",
      "metadata": {
        "id": "6btqYOvJuk8O",
        "colab_type": "code",
        "colab": {}
      },
      "source": [
        "import pandas as pd\n",
        "import numpy as np\n",
        "import matplotlib.pyplot as plt\n",
        "import seaborn as sns\n",
        "%matplotlib inline\n",
        "import time \n",
        "import pickle\n",
        "\n",
        "from sklearn.model_selection import train_test_split, KFold, GridSearchCV\n",
        "from sklearn.metrics import mean_squared_error\n",
        "from sklearn.metrics import mean_squared_log_error\n",
        "\n",
        "from sklearn.linear_model import LinearRegression, ElasticNet, Ridge\n",
        "from sklearn.neighbors import KNeighborsRegressor\n",
        "from sklearn.svm import SVR, LinearSVR\n",
        "from sklearn.ensemble import RandomForestRegressor\n",
        "import xgboost as xgb\n",
        "from catboost import CatBoostRegressor\n",
        "from lightgbm.sklearn import LGBMRegressor\n",
        "\n",
        "from google.colab import files"
      ],
      "execution_count": 0,
      "outputs": []
    },
    {
      "cell_type": "code",
      "metadata": {
        "id": "39e4iggfbn01",
        "colab_type": "code",
        "outputId": "29aed358-2432-4787-eb5f-4c181bebec46",
        "colab": {
          "base_uri": "https://localhost:8080/",
          "height": 250
        }
      },
      "source": [
        "!pip install catboost\n",
        "from catboost import CatBoostRegressor"
      ],
      "execution_count": 2,
      "outputs": [
        {
          "output_type": "stream",
          "text": [
            "Collecting catboost\n",
            "\u001b[?25l  Downloading https://files.pythonhosted.org/packages/2f/c4/f130237b24efd1941cb685da12496675a90045129b66774751f1bf629dfd/catboost-0.14.2-cp36-none-manylinux1_x86_64.whl (60.6MB)\n",
            "\u001b[K     |████████████████████████████████| 60.6MB 45.3MB/s \n",
            "\u001b[?25hRequirement already satisfied: six in /usr/local/lib/python3.6/dist-packages (from catboost) (1.12.0)\n",
            "Requirement already satisfied: numpy>=1.11.1 in /usr/local/lib/python3.6/dist-packages (from catboost) (1.16.3)\n",
            "Requirement already satisfied: enum34 in /usr/local/lib/python3.6/dist-packages (from catboost) (1.1.6)\n",
            "Requirement already satisfied: pandas>=0.19.1 in /usr/local/lib/python3.6/dist-packages (from catboost) (0.24.2)\n",
            "Requirement already satisfied: graphviz in /usr/local/lib/python3.6/dist-packages (from catboost) (0.10.1)\n",
            "Requirement already satisfied: pytz>=2011k in /usr/local/lib/python3.6/dist-packages (from pandas>=0.19.1->catboost) (2018.9)\n",
            "Requirement already satisfied: python-dateutil>=2.5.0 in /usr/local/lib/python3.6/dist-packages (from pandas>=0.19.1->catboost) (2.5.3)\n",
            "Installing collected packages: catboost\n",
            "Successfully installed catboost-0.14.2\n"
          ],
          "name": "stdout"
        }
      ]
    },
    {
      "cell_type": "code",
      "metadata": {
        "id": "wW3Oy3M-boVm",
        "colab_type": "code",
        "outputId": "5ea2a7d2-5249-4b57-847f-23d6f3edde88",
        "colab": {
          "base_uri": "https://localhost:8080/",
          "height": 161
        }
      },
      "source": [
        "!pip install lightgbm --install-option=--gpu\n",
        "from lightgbm.sklearn import LGBMRegressor"
      ],
      "execution_count": 3,
      "outputs": [
        {
          "output_type": "stream",
          "text": [
            "/usr/local/lib/python3.6/dist-packages/pip/_internal/commands/install.py:244: UserWarning: Disabling all use of wheels due to the use of --build-options / --global-options / --install-options.\n",
            "  cmdoptions.check_install_build_global(options)\n",
            "Requirement already satisfied: lightgbm in /usr/local/lib/python3.6/dist-packages (2.2.3)\n",
            "Requirement already satisfied: scipy in /usr/local/lib/python3.6/dist-packages (from lightgbm) (1.3.0)\n",
            "Requirement already satisfied: numpy in /usr/local/lib/python3.6/dist-packages (from lightgbm) (1.16.3)\n",
            "Requirement already satisfied: scikit-learn in /usr/local/lib/python3.6/dist-packages (from lightgbm) (0.21.1)\n",
            "Requirement already satisfied: joblib>=0.11 in /usr/local/lib/python3.6/dist-packages (from scikit-learn->lightgbm) (0.12.5)\n"
          ],
          "name": "stdout"
        }
      ]
    },
    {
      "cell_type": "code",
      "metadata": {
        "id": "8SU6WXofpGUH",
        "colab_type": "code",
        "colab": {
          "base_uri": "https://localhost:8080/",
          "height": 35
        },
        "outputId": "7b724261-8d55-4df6-8d9c-27097fa8ee5d"
      },
      "source": [
        "import keras\n",
        "from keras.models import Sequential\n",
        "from keras.layers import Dense, Dropout, BatchNormalization\n",
        "from keras.optimizers import Adam, RMSprop, SGD\n",
        "from keras.callbacks import EarlyStopping"
      ],
      "execution_count": 33,
      "outputs": [
        {
          "output_type": "stream",
          "text": [
            "Using TensorFlow backend.\n"
          ],
          "name": "stderr"
        }
      ]
    },
    {
      "cell_type": "code",
      "metadata": {
        "id": "kZoWlN0KQsNx",
        "colab_type": "code",
        "colab": {}
      },
      "source": [
        "def get_loss(pred, actual):\n",
        "  loss = mean_squared_error(pred, actual)\n",
        "  result = np.sqrt(loss)\n",
        "  return result"
      ],
      "execution_count": 0,
      "outputs": []
    },
    {
      "cell_type": "code",
      "metadata": {
        "id": "Uya9M0UsSbDb",
        "colab_type": "code",
        "colab": {}
      },
      "source": [
        "def kfold_validate(X, y, te, model, col):\n",
        "    scores = np.zeros(k)\n",
        "    for i, (tr_idx, val_idx) in enumerate(cv.split(X)):\n",
        "        X_tr, y_tr = X.iloc[tr_idx, :], y[tr_idx]\n",
        "        X_val, y_val = X.iloc[val_idx, :], y[val_idx]\n",
        "\n",
        "        model.fit(X_tr, y_tr)\n",
        "        pred_val = model.predict(X_val)\n",
        "        scores[i] = get_loss(pred_val, y_val)\n",
        "        print(\"========={}-th Fold Score: {}\".format(i, scores[i]))\n",
        "        \n",
        "        meta_tr[col][val_idx] = pred_val\n",
        "        meta_tr['val'][val_idx] = y_val\n",
        "\n",
        "    print(\"=========Total Score: \", np.mean(scores))\n",
        "    model.fit(X, y)\n",
        "    meta_te[col] = model.predict(te)"
      ],
      "execution_count": 0,
      "outputs": []
    },
    {
      "cell_type": "markdown",
      "metadata": {
        "id": "7m-pRP_9u9pv",
        "colab_type": "text"
      },
      "source": [
        "## Load the data"
      ]
    },
    {
      "cell_type": "code",
      "metadata": {
        "id": "OHxqudJJND7l",
        "colab_type": "code",
        "outputId": "2805f1e0-c3db-4230-ebb8-c6d2e1b774f4",
        "colab": {
          "base_uri": "https://localhost:8080/",
          "height": 0
        }
      },
      "source": [
        "# Import the all dataset\n",
        "#tr = pd.read_csv('train_3.csv')\n",
        "#te = pd.read_csv('test_3.csv')\n",
        "\n",
        "tr = pd.read_csv('train_3_2.csv')\n",
        "te = pd.read_csv('test_3_2.csv')\n",
        "\n",
        "# Final check\n",
        "print(\"The size of the train set \", tr.shape)\n",
        "print(\"The size of the test set \", te.shape)"
      ],
      "execution_count": 6,
      "outputs": [
        {
          "output_type": "stream",
          "text": [
            "The size of the train set  (3000, 377)\n",
            "The size of the test set  (4398, 376)\n"
          ],
          "name": "stdout"
        }
      ]
    },
    {
      "cell_type": "code",
      "metadata": {
        "id": "lS19iVZTv717",
        "colab_type": "code",
        "colab": {
          "base_uri": "https://localhost:8080/",
          "height": 0
        },
        "outputId": "b133a48e-aee5-475d-caf6-936e73110902"
      },
      "source": [
        "print(\"=======NAs in train set\\n\", tr.isnull().sum()[tr.isnull().sum() != 0])\n",
        "print(\"=======NAs in test set\\n\", te.isnull().sum()[te.isnull().sum() != 0])"
      ],
      "execution_count": 7,
      "outputs": [
        {
          "output_type": "stream",
          "text": [
            "=======NAs in train set\n",
            " n_crew_profile    16\n",
            "dtype: int64\n",
            "=======NAs in test set\n",
            " n_crew_profile         22\n",
            "r_rating_totalVotes     1\n",
            "dtype: int64\n"
          ],
          "name": "stdout"
        }
      ]
    },
    {
      "cell_type": "code",
      "metadata": {
        "id": "vmDgg1eIvZpl",
        "colab_type": "code",
        "colab": {}
      },
      "source": [
        "tr.fillna(-1, inplace = True)\n",
        "te.fillna(-1, inplace = True)"
      ],
      "execution_count": 0,
      "outputs": []
    },
    {
      "cell_type": "code",
      "metadata": {
        "id": "ao9Pflp7lVNh",
        "colab_type": "code",
        "colab": {
          "base_uri": "https://localhost:8080/",
          "height": 0
        },
        "outputId": "5e3a298d-5ce8-416a-d7bc-c20972bb0994"
      },
      "source": [
        "te.iloc[:, :45].describe()"
      ],
      "execution_count": 9,
      "outputs": [
        {
          "output_type": "execute_result",
          "data": {
            "text/html": [
              "<div>\n",
              "<style scoped>\n",
              "    .dataframe tbody tr th:only-of-type {\n",
              "        vertical-align: middle;\n",
              "    }\n",
              "\n",
              "    .dataframe tbody tr th {\n",
              "        vertical-align: top;\n",
              "    }\n",
              "\n",
              "    .dataframe thead th {\n",
              "        text-align: right;\n",
              "    }\n",
              "</style>\n",
              "<table border=\"1\" class=\"dataframe\">\n",
              "  <thead>\n",
              "    <tr style=\"text-align: right;\">\n",
              "      <th></th>\n",
              "      <th>budget_log</th>\n",
              "      <th>popularity_log</th>\n",
              "      <th>runtime_h</th>\n",
              "      <th>runtime_log</th>\n",
              "      <th>runtime_m</th>\n",
              "      <th>status</th>\n",
              "      <th>is_collection</th>\n",
              "      <th>is_homepage</th>\n",
              "      <th>n_genres</th>\n",
              "      <th>n_prod_count</th>\n",
              "      <th>n_prod_comp</th>\n",
              "      <th>n_spoken_lang</th>\n",
              "      <th>cast_male</th>\n",
              "      <th>crew_male</th>\n",
              "      <th>n_crew_profile</th>\n",
              "      <th>year</th>\n",
              "      <th>month</th>\n",
              "      <th>day</th>\n",
              "      <th>weekofday</th>\n",
              "      <th>rating</th>\n",
              "      <th>n_cast_log</th>\n",
              "      <th>n_crew_log</th>\n",
              "      <th>popularity2_log</th>\n",
              "      <th>totalVotes_log</th>\n",
              "      <th>popularity_diff_log</th>\n",
              "      <th>r_runtime_rating</th>\n",
              "      <th>r_rating_totalVotes</th>\n",
              "      <th>r_budget_rating</th>\n",
              "      <th>r_popularity_totalVotes</th>\n",
              "      <th>r_popularity_rating</th>\n",
              "      <th>r_popularity_ngenres</th>\n",
              "      <th>r_popularity_n_cast</th>\n",
              "      <th>r_budget_totalVotes</th>\n",
              "      <th>r_budget_runtime</th>\n",
              "      <th>r_budget_year</th>\n",
              "      <th>r_totalVotes_year</th>\n",
              "      <th>r_rating_year</th>\n",
              "      <th>r_rating_year2</th>\n",
              "      <th>m_rating_totalVotes</th>\n",
              "      <th>m_year_popularity</th>\n",
              "      <th>m_year_budget</th>\n",
              "      <th>m_year_totalVotes_log</th>\n",
              "      <th>m_year_rating</th>\n",
              "      <th>m_year_runtime</th>\n",
              "      <th>m_year_n_crew_log</th>\n",
              "    </tr>\n",
              "  </thead>\n",
              "  <tbody>\n",
              "    <tr>\n",
              "      <th>count</th>\n",
              "      <td>4398.000000</td>\n",
              "      <td>4.398000e+03</td>\n",
              "      <td>4398.000000</td>\n",
              "      <td>4398.000000</td>\n",
              "      <td>4398.000000</td>\n",
              "      <td>4398.000000</td>\n",
              "      <td>4398.000000</td>\n",
              "      <td>4398.000000</td>\n",
              "      <td>4398.000000</td>\n",
              "      <td>4398.000000</td>\n",
              "      <td>4398.000000</td>\n",
              "      <td>4398.000000</td>\n",
              "      <td>4398.000000</td>\n",
              "      <td>4398.000000</td>\n",
              "      <td>4398.000000</td>\n",
              "      <td>4398.000000</td>\n",
              "      <td>4398.000000</td>\n",
              "      <td>4398.000000</td>\n",
              "      <td>4398.000000</td>\n",
              "      <td>4398.000000</td>\n",
              "      <td>4398.000000</td>\n",
              "      <td>4398.000000</td>\n",
              "      <td>4398.000000</td>\n",
              "      <td>4398.000000</td>\n",
              "      <td>4398.000000</td>\n",
              "      <td>4398.000000</td>\n",
              "      <td>4398.000000</td>\n",
              "      <td>4.398000e+03</td>\n",
              "      <td>4398.000000</td>\n",
              "      <td>4398.000000</td>\n",
              "      <td>4.398000e+03</td>\n",
              "      <td>4.398000e+03</td>\n",
              "      <td>4.398000e+03</td>\n",
              "      <td>4.398000e+03</td>\n",
              "      <td>4.398000e+03</td>\n",
              "      <td>4398.000000</td>\n",
              "      <td>4398.000000</td>\n",
              "      <td>4398.000000</td>\n",
              "      <td>4398.000000</td>\n",
              "      <td>4398.000000</td>\n",
              "      <td>4.398000e+03</td>\n",
              "      <td>4398.000000</td>\n",
              "      <td>4398.000000</td>\n",
              "      <td>4398.000000</td>\n",
              "      <td>4398.000000</td>\n",
              "    </tr>\n",
              "    <tr>\n",
              "      <th>mean</th>\n",
              "      <td>11.799167</td>\n",
              "      <td>1.985449e+00</td>\n",
              "      <td>1.225330</td>\n",
              "      <td>4.659979</td>\n",
              "      <td>0.015688</td>\n",
              "      <td>1.000227</td>\n",
              "      <td>0.199409</td>\n",
              "      <td>0.322874</td>\n",
              "      <td>2.497726</td>\n",
              "      <td>1.364484</td>\n",
              "      <td>2.922237</td>\n",
              "      <td>1.451342</td>\n",
              "      <td>0.233584</td>\n",
              "      <td>0.088549</td>\n",
              "      <td>0.290208</td>\n",
              "      <td>1999.675534</td>\n",
              "      <td>6.889723</td>\n",
              "      <td>15.379036</td>\n",
              "      <td>3.228286</td>\n",
              "      <td>6.114461</td>\n",
              "      <td>2.864404</td>\n",
              "      <td>2.743025</td>\n",
              "      <td>2.012873</td>\n",
              "      <td>5.412860</td>\n",
              "      <td>0.292240</td>\n",
              "      <td>-0.015062</td>\n",
              "      <td>0.096662</td>\n",
              "      <td>4.187490e+06</td>\n",
              "      <td>3.427411</td>\n",
              "      <td>0.524288</td>\n",
              "      <td>3.934207e+00</td>\n",
              "      <td>5.190416e-01</td>\n",
              "      <td>1.069355e+05</td>\n",
              "      <td>2.040717e+05</td>\n",
              "      <td>2.725831e+05</td>\n",
              "      <td>0.073227</td>\n",
              "      <td>0.003058</td>\n",
              "      <td>0.086140</td>\n",
              "      <td>5.410260</td>\n",
              "      <td>1.981314</td>\n",
              "      <td>2.257493e+07</td>\n",
              "      <td>5.409854</td>\n",
              "      <td>6.114776</td>\n",
              "      <td>0.000765</td>\n",
              "      <td>20.975950</td>\n",
              "    </tr>\n",
              "    <tr>\n",
              "      <th>std</th>\n",
              "      <td>7.444733</td>\n",
              "      <td>7.509477e-01</td>\n",
              "      <td>0.452848</td>\n",
              "      <td>0.309302</td>\n",
              "      <td>0.998423</td>\n",
              "      <td>0.058407</td>\n",
              "      <td>0.399601</td>\n",
              "      <td>0.467628</td>\n",
              "      <td>1.111836</td>\n",
              "      <td>0.792381</td>\n",
              "      <td>2.250990</td>\n",
              "      <td>0.888750</td>\n",
              "      <td>0.149346</td>\n",
              "      <td>0.119434</td>\n",
              "      <td>0.254200</td>\n",
              "      <td>15.286707</td>\n",
              "      <td>3.370176</td>\n",
              "      <td>8.571856</td>\n",
              "      <td>1.341997</td>\n",
              "      <td>1.544581</td>\n",
              "      <td>0.688653</td>\n",
              "      <td>0.995944</td>\n",
              "      <td>0.611603</td>\n",
              "      <td>1.946927</td>\n",
              "      <td>0.248682</td>\n",
              "      <td>1.811774</td>\n",
              "      <td>0.350092</td>\n",
              "      <td>2.896592e+07</td>\n",
              "      <td>1.378183</td>\n",
              "      <td>1.461456</td>\n",
              "      <td>4.480953e+00</td>\n",
              "      <td>1.490366e+00</td>\n",
              "      <td>1.455504e+06</td>\n",
              "      <td>3.287007e+05</td>\n",
              "      <td>4.622628e+05</td>\n",
              "      <td>0.057485</td>\n",
              "      <td>0.000776</td>\n",
              "      <td>0.092460</td>\n",
              "      <td>1.135203</td>\n",
              "      <td>0.176196</td>\n",
              "      <td>9.773718e+06</td>\n",
              "      <td>0.479200</td>\n",
              "      <td>0.295658</td>\n",
              "      <td>0.127683</td>\n",
              "      <td>3.764882</td>\n",
              "    </tr>\n",
              "    <tr>\n",
              "      <th>min</th>\n",
              "      <td>0.000000</td>\n",
              "      <td>9.999995e-07</td>\n",
              "      <td>-0.000000</td>\n",
              "      <td>0.000000</td>\n",
              "      <td>-2.177292</td>\n",
              "      <td>0.000000</td>\n",
              "      <td>0.000000</td>\n",
              "      <td>0.000000</td>\n",
              "      <td>1.000000</td>\n",
              "      <td>1.000000</td>\n",
              "      <td>0.000000</td>\n",
              "      <td>1.000000</td>\n",
              "      <td>0.000000</td>\n",
              "      <td>0.000000</td>\n",
              "      <td>-1.000000</td>\n",
              "      <td>1922.000000</td>\n",
              "      <td>1.000000</td>\n",
              "      <td>1.000000</td>\n",
              "      <td>0.000000</td>\n",
              "      <td>0.000000</td>\n",
              "      <td>0.000000</td>\n",
              "      <td>0.000000</td>\n",
              "      <td>0.470004</td>\n",
              "      <td>0.000000</td>\n",
              "      <td>0.000287</td>\n",
              "      <td>-21.772921</td>\n",
              "      <td>-1.000000</td>\n",
              "      <td>0.000000e+00</td>\n",
              "      <td>-2.072503</td>\n",
              "      <td>0.000010</td>\n",
              "      <td>5.000000e-07</td>\n",
              "      <td>1.666667e-07</td>\n",
              "      <td>0.000000e+00</td>\n",
              "      <td>0.000000e+00</td>\n",
              "      <td>0.000000e+00</td>\n",
              "      <td>0.000000</td>\n",
              "      <td>0.000000</td>\n",
              "      <td>0.000000</td>\n",
              "      <td>0.690821</td>\n",
              "      <td>0.191453</td>\n",
              "      <td>3.000000e+02</td>\n",
              "      <td>1.791759</td>\n",
              "      <td>5.500000</td>\n",
              "      <td>-1.854838</td>\n",
              "      <td>8.000000</td>\n",
              "    </tr>\n",
              "    <tr>\n",
              "      <th>25%</th>\n",
              "      <td>0.000000</td>\n",
              "      <td>1.588252e+00</td>\n",
              "      <td>1.000000</td>\n",
              "      <td>4.553877</td>\n",
              "      <td>-0.548900</td>\n",
              "      <td>1.000000</td>\n",
              "      <td>0.000000</td>\n",
              "      <td>0.000000</td>\n",
              "      <td>2.000000</td>\n",
              "      <td>1.000000</td>\n",
              "      <td>1.000000</td>\n",
              "      <td>1.000000</td>\n",
              "      <td>0.125000</td>\n",
              "      <td>0.000000</td>\n",
              "      <td>0.120000</td>\n",
              "      <td>1992.000000</td>\n",
              "      <td>4.000000</td>\n",
              "      <td>8.000000</td>\n",
              "      <td>2.000000</td>\n",
              "      <td>5.700000</td>\n",
              "      <td>2.484907</td>\n",
              "      <td>2.197225</td>\n",
              "      <td>1.676208</td>\n",
              "      <td>4.158883</td>\n",
              "      <td>0.109869</td>\n",
              "      <td>-0.091133</td>\n",
              "      <td>0.005544</td>\n",
              "      <td>0.000000e+00</td>\n",
              "      <td>2.556456</td>\n",
              "      <td>0.263012</td>\n",
              "      <td>1.647093e+00</td>\n",
              "      <td>2.015742e-01</td>\n",
              "      <td>0.000000e+00</td>\n",
              "      <td>0.000000e+00</td>\n",
              "      <td>0.000000e+00</td>\n",
              "      <td>0.052699</td>\n",
              "      <td>0.002850</td>\n",
              "      <td>0.066667</td>\n",
              "      <td>5.381652</td>\n",
              "      <td>1.911811</td>\n",
              "      <td>1.324143e+07</td>\n",
              "      <td>5.112093</td>\n",
              "      <td>5.942373</td>\n",
              "      <td>-0.048236</td>\n",
              "      <td>19.090909</td>\n",
              "    </tr>\n",
              "    <tr>\n",
              "      <th>50%</th>\n",
              "      <td>15.816991</td>\n",
              "      <td>2.137975e+00</td>\n",
              "      <td>1.000000</td>\n",
              "      <td>4.653960</td>\n",
              "      <td>0.144376</td>\n",
              "      <td>1.000000</td>\n",
              "      <td>0.000000</td>\n",
              "      <td>0.000000</td>\n",
              "      <td>2.000000</td>\n",
              "      <td>1.000000</td>\n",
              "      <td>2.000000</td>\n",
              "      <td>1.000000</td>\n",
              "      <td>0.214286</td>\n",
              "      <td>0.058824</td>\n",
              "      <td>0.240000</td>\n",
              "      <td>2004.000000</td>\n",
              "      <td>7.000000</td>\n",
              "      <td>15.000000</td>\n",
              "      <td>4.000000</td>\n",
              "      <td>6.400000</td>\n",
              "      <td>2.833213</td>\n",
              "      <td>2.708050</td>\n",
              "      <td>2.117700</td>\n",
              "      <td>5.549076</td>\n",
              "      <td>0.238206</td>\n",
              "      <td>0.024892</td>\n",
              "      <td>0.019939</td>\n",
              "      <td>1.142857e+06</td>\n",
              "      <td>3.392426</td>\n",
              "      <td>0.333746</td>\n",
              "      <td>3.007754e+00</td>\n",
              "      <td>3.679115e-01</td>\n",
              "      <td>1.748362e+04</td>\n",
              "      <td>6.796117e+04</td>\n",
              "      <td>1.011236e+05</td>\n",
              "      <td>0.069521</td>\n",
              "      <td>0.003182</td>\n",
              "      <td>0.076220</td>\n",
              "      <td>5.602962</td>\n",
              "      <td>1.953762</td>\n",
              "      <td>2.664833e+07</td>\n",
              "      <td>5.489345</td>\n",
              "      <td>6.060645</td>\n",
              "      <td>0.001543</td>\n",
              "      <td>20.035370</td>\n",
              "    </tr>\n",
              "    <tr>\n",
              "      <th>75%</th>\n",
              "      <td>17.147715</td>\n",
              "      <td>2.479770e+00</td>\n",
              "      <td>1.000000</td>\n",
              "      <td>4.779123</td>\n",
              "      <td>0.724793</td>\n",
              "      <td>1.000000</td>\n",
              "      <td>0.000000</td>\n",
              "      <td>1.000000</td>\n",
              "      <td>3.000000</td>\n",
              "      <td>1.000000</td>\n",
              "      <td>4.000000</td>\n",
              "      <td>2.000000</td>\n",
              "      <td>0.333333</td>\n",
              "      <td>0.130435</td>\n",
              "      <td>0.400000</td>\n",
              "      <td>2011.000000</td>\n",
              "      <td>10.000000</td>\n",
              "      <td>23.000000</td>\n",
              "      <td>4.000000</td>\n",
              "      <td>7.000000</td>\n",
              "      <td>3.218876</td>\n",
              "      <td>3.367296</td>\n",
              "      <td>2.408745</td>\n",
              "      <td>6.806829</td>\n",
              "      <td>0.410693</td>\n",
              "      <td>0.125487</td>\n",
              "      <td>0.075291</td>\n",
              "      <td>4.516129e+06</td>\n",
              "      <td>4.445976</td>\n",
              "      <td>0.396209</td>\n",
              "      <td>4.959823e+00</td>\n",
              "      <td>6.015091e-01</td>\n",
              "      <td>6.118554e+04</td>\n",
              "      <td>2.576554e+05</td>\n",
              "      <td>3.460351e+05</td>\n",
              "      <td>0.085683</td>\n",
              "      <td>0.003497</td>\n",
              "      <td>0.089157</td>\n",
              "      <td>5.827735</td>\n",
              "      <td>2.021852</td>\n",
              "      <td>2.898095e+07</td>\n",
              "      <td>5.710692</td>\n",
              "      <td>6.215789</td>\n",
              "      <td>0.060135</td>\n",
              "      <td>21.323274</td>\n",
              "    </tr>\n",
              "    <tr>\n",
              "      <th>max</th>\n",
              "      <td>19.376192</td>\n",
              "      <td>6.307166e+00</td>\n",
              "      <td>5.000000</td>\n",
              "      <td>5.771441</td>\n",
              "      <td>1.627665</td>\n",
              "      <td>3.000000</td>\n",
              "      <td>1.000000</td>\n",
              "      <td>1.000000</td>\n",
              "      <td>8.000000</td>\n",
              "      <td>12.000000</td>\n",
              "      <td>26.000000</td>\n",
              "      <td>9.000000</td>\n",
              "      <td>1.000000</td>\n",
              "      <td>1.000000</td>\n",
              "      <td>1.000000</td>\n",
              "      <td>2018.000000</td>\n",
              "      <td>12.000000</td>\n",
              "      <td>31.000000</td>\n",
              "      <td>6.000000</td>\n",
              "      <td>9.100000</td>\n",
              "      <td>5.111988</td>\n",
              "      <td>5.209486</td>\n",
              "      <td>3.887464</td>\n",
              "      <td>9.945205</td>\n",
              "      <td>3.734935</td>\n",
              "      <td>16.276646</td>\n",
              "      <td>8.000000</td>\n",
              "      <td>1.750000e+09</td>\n",
              "      <td>8.399506</td>\n",
              "      <td>27.656503</td>\n",
              "      <td>1.368721e+02</td>\n",
              "      <td>5.090359e+01</td>\n",
              "      <td>8.750000e+07</td>\n",
              "      <td>3.800000e+06</td>\n",
              "      <td>1.323143e+07</td>\n",
              "      <td>1.661202</td>\n",
              "      <td>0.004561</td>\n",
              "      <td>3.250000</td>\n",
              "      <td>7.866060</td>\n",
              "      <td>2.917768</td>\n",
              "      <td>4.406363e+07</td>\n",
              "      <td>6.473637</td>\n",
              "      <td>8.333333</td>\n",
              "      <td>1.498683</td>\n",
              "      <td>63.500000</td>\n",
              "    </tr>\n",
              "  </tbody>\n",
              "</table>\n",
              "</div>"
            ],
            "text/plain": [
              "        budget_log  popularity_log  ...  m_year_runtime  m_year_n_crew_log\n",
              "count  4398.000000    4.398000e+03  ...     4398.000000        4398.000000\n",
              "mean     11.799167    1.985449e+00  ...        0.000765          20.975950\n",
              "std       7.444733    7.509477e-01  ...        0.127683           3.764882\n",
              "min       0.000000    9.999995e-07  ...       -1.854838           8.000000\n",
              "25%       0.000000    1.588252e+00  ...       -0.048236          19.090909\n",
              "50%      15.816991    2.137975e+00  ...        0.001543          20.035370\n",
              "75%      17.147715    2.479770e+00  ...        0.060135          21.323274\n",
              "max      19.376192    6.307166e+00  ...        1.498683          63.500000\n",
              "\n",
              "[8 rows x 45 columns]"
            ]
          },
          "metadata": {
            "tags": []
          },
          "execution_count": 9
        }
      ]
    },
    {
      "cell_type": "code",
      "metadata": {
        "id": "2gpMyqIWQWj4",
        "colab_type": "code",
        "colab": {}
      },
      "source": [
        "y = tr.revenue_log\n",
        "X = tr.drop('revenue_log', axis = 1)"
      ],
      "execution_count": 0,
      "outputs": []
    },
    {
      "cell_type": "code",
      "metadata": {
        "id": "DmqOf2nVQXWn",
        "colab_type": "code",
        "colab": {}
      },
      "source": [
        "# Create meta-trainset\n",
        "nrow = X.shape[0]\n",
        "ncol = 8\n",
        "dims = np.zeros((nrow, ncol))\n",
        "\n",
        "meta_tr = pd.DataFrame(dims, columns = ['el', 'rf', 'knn', 'svm', 'xg', 'cb', 'lg', 'ke'])\n",
        "meta_tr['val'] = 0"
      ],
      "execution_count": 0,
      "outputs": []
    },
    {
      "cell_type": "code",
      "metadata": {
        "id": "H-g6df96QZS5",
        "colab_type": "code",
        "colab": {}
      },
      "source": [
        "# Create meta-testset\n",
        "nrow = te.shape[0]\n",
        "dims = np.zeros((nrow, ncol))\n",
        "meta_te = pd.DataFrame(dims, columns = ['el', 'rf', 'knn', 'svm', 'xg', 'cb', 'lg', 'ke'])"
      ],
      "execution_count": 0,
      "outputs": []
    },
    {
      "cell_type": "code",
      "metadata": {
        "id": "RXf3oSM6QdCr",
        "colab_type": "code",
        "colab": {}
      },
      "source": [
        "# Cross Validation\n",
        "k = 10\n",
        "seed = 10\n",
        "cv = KFold(n_splits = k, shuffle = True, random_state = seed)"
      ],
      "execution_count": 0,
      "outputs": []
    },
    {
      "cell_type": "markdown",
      "metadata": {
        "id": "z90yelYeTEjA",
        "colab_type": "text"
      },
      "source": [
        "## 1st Layer Modeling"
      ]
    },
    {
      "cell_type": "markdown",
      "metadata": {
        "id": "6NXG_DRju2JU",
        "colab_type": "text"
      },
      "source": [
        "### Elastic-Net"
      ]
    },
    {
      "cell_type": "code",
      "metadata": {
        "id": "FvMSkEpElDLZ",
        "colab_type": "code",
        "outputId": "ac79afa9-4db9-4f4f-d292-edd06dc1078d",
        "colab": {
          "base_uri": "https://localhost:8080/",
          "height": 0
        }
      },
      "source": [
        "model_el = ElasticNet(alpha = .005, l1_ratio = 0, max_iter = 5000)\n",
        "kfold_validate(X, y, te, model_el, 'el')"
      ],
      "execution_count": 14,
      "outputs": [
        {
          "output_type": "stream",
          "text": [
            "/usr/local/lib/python3.6/dist-packages/sklearn/linear_model/coordinate_descent.py:475: ConvergenceWarning: Objective did not converge. You might want to increase the number of iterations. Duality gap: 5621.391746121071, tolerance: 2.509580049598793\n",
            "  positive)\n",
            "/usr/local/lib/python3.6/dist-packages/ipykernel_launcher.py:12: SettingWithCopyWarning: \n",
            "A value is trying to be set on a copy of a slice from a DataFrame\n",
            "\n",
            "See the caveats in the documentation: http://pandas.pydata.org/pandas-docs/stable/indexing.html#indexing-view-versus-copy\n",
            "  if sys.path[0] == '':\n",
            "/usr/local/lib/python3.6/dist-packages/ipykernel_launcher.py:13: SettingWithCopyWarning: \n",
            "A value is trying to be set on a copy of a slice from a DataFrame\n",
            "\n",
            "See the caveats in the documentation: http://pandas.pydata.org/pandas-docs/stable/indexing.html#indexing-view-versus-copy\n",
            "  del sys.path[0]\n"
          ],
          "name": "stderr"
        },
        {
          "output_type": "stream",
          "text": [
            "=========0-th Fold Score: 2.022554098613598\n"
          ],
          "name": "stdout"
        },
        {
          "output_type": "stream",
          "text": [
            "/usr/local/lib/python3.6/dist-packages/sklearn/linear_model/coordinate_descent.py:475: ConvergenceWarning: Objective did not converge. You might want to increase the number of iterations. Duality gap: 5460.008470738417, tolerance: 2.4837538862953354\n",
            "  positive)\n"
          ],
          "name": "stderr"
        },
        {
          "output_type": "stream",
          "text": [
            "=========1-th Fold Score: 2.284397055737922\n"
          ],
          "name": "stdout"
        },
        {
          "output_type": "stream",
          "text": [
            "/usr/local/lib/python3.6/dist-packages/sklearn/linear_model/coordinate_descent.py:475: ConvergenceWarning: Objective did not converge. You might want to increase the number of iterations. Duality gap: 5416.374493627346, tolerance: 2.4228027053027743\n",
            "  positive)\n"
          ],
          "name": "stderr"
        },
        {
          "output_type": "stream",
          "text": [
            "=========2-th Fold Score: 2.3383864213746253\n"
          ],
          "name": "stdout"
        },
        {
          "output_type": "stream",
          "text": [
            "/usr/local/lib/python3.6/dist-packages/sklearn/linear_model/coordinate_descent.py:475: ConvergenceWarning: Objective did not converge. You might want to increase the number of iterations. Duality gap: 5716.02251000384, tolerance: 2.509090766465529\n",
            "  positive)\n"
          ],
          "name": "stderr"
        },
        {
          "output_type": "stream",
          "text": [
            "=========3-th Fold Score: 1.8669857972193806\n"
          ],
          "name": "stdout"
        },
        {
          "output_type": "stream",
          "text": [
            "/usr/local/lib/python3.6/dist-packages/sklearn/linear_model/coordinate_descent.py:475: ConvergenceWarning: Objective did not converge. You might want to increase the number of iterations. Duality gap: 5569.343731172176, tolerance: 2.5150402400273686\n",
            "  positive)\n"
          ],
          "name": "stderr"
        },
        {
          "output_type": "stream",
          "text": [
            "=========4-th Fold Score: 2.2712521487351065\n"
          ],
          "name": "stdout"
        },
        {
          "output_type": "stream",
          "text": [
            "/usr/local/lib/python3.6/dist-packages/sklearn/linear_model/coordinate_descent.py:475: ConvergenceWarning: Objective did not converge. You might want to increase the number of iterations. Duality gap: 5667.136090944518, tolerance: 2.491608253816267\n",
            "  positive)\n"
          ],
          "name": "stderr"
        },
        {
          "output_type": "stream",
          "text": [
            "=========5-th Fold Score: 2.1066444497257537\n"
          ],
          "name": "stdout"
        },
        {
          "output_type": "stream",
          "text": [
            "/usr/local/lib/python3.6/dist-packages/sklearn/linear_model/coordinate_descent.py:475: ConvergenceWarning: Objective did not converge. You might want to increase the number of iterations. Duality gap: 5665.862149007865, tolerance: 2.5112343874775958\n",
            "  positive)\n"
          ],
          "name": "stderr"
        },
        {
          "output_type": "stream",
          "text": [
            "=========6-th Fold Score: 1.9730536664945972\n"
          ],
          "name": "stdout"
        },
        {
          "output_type": "stream",
          "text": [
            "/usr/local/lib/python3.6/dist-packages/sklearn/linear_model/coordinate_descent.py:475: ConvergenceWarning: Objective did not converge. You might want to increase the number of iterations. Duality gap: 5361.4382724201, tolerance: 2.4123490698106975\n",
            "  positive)\n"
          ],
          "name": "stderr"
        },
        {
          "output_type": "stream",
          "text": [
            "=========7-th Fold Score: 2.4271606013525284\n"
          ],
          "name": "stdout"
        },
        {
          "output_type": "stream",
          "text": [
            "/usr/local/lib/python3.6/dist-packages/sklearn/linear_model/coordinate_descent.py:475: ConvergenceWarning: Objective did not converge. You might want to increase the number of iterations. Duality gap: 5670.3363320899125, tolerance: 2.529800756356749\n",
            "  positive)\n"
          ],
          "name": "stderr"
        },
        {
          "output_type": "stream",
          "text": [
            "=========8-th Fold Score: 1.9519737539370292\n"
          ],
          "name": "stdout"
        },
        {
          "output_type": "stream",
          "text": [
            "/usr/local/lib/python3.6/dist-packages/sklearn/linear_model/coordinate_descent.py:475: ConvergenceWarning: Objective did not converge. You might want to increase the number of iterations. Duality gap: 5554.523946624008, tolerance: 2.4890525940974753\n",
            "  positive)\n"
          ],
          "name": "stderr"
        },
        {
          "output_type": "stream",
          "text": [
            "=========9-th Fold Score: 2.1531286436537935\n",
            "=========Total Score:  2.139553663684434\n"
          ],
          "name": "stdout"
        },
        {
          "output_type": "stream",
          "text": [
            "/usr/local/lib/python3.6/dist-packages/sklearn/linear_model/coordinate_descent.py:475: ConvergenceWarning: Objective did not converge. You might want to increase the number of iterations. Duality gap: 6221.3614086175, tolerance: 2.7638801457781614\n",
            "  positive)\n"
          ],
          "name": "stderr"
        }
      ]
    },
    {
      "cell_type": "markdown",
      "metadata": {
        "id": "Vy4kWzmxOg5v",
        "colab_type": "text"
      },
      "source": [
        "### KNN "
      ]
    },
    {
      "cell_type": "code",
      "metadata": {
        "id": "PHEPkP9xOg1u",
        "colab_type": "code",
        "outputId": "1cf53076-fce0-4515-e6c2-4147a0df8334",
        "colab": {
          "base_uri": "https://localhost:8080/",
          "height": 0
        }
      },
      "source": [
        "model_knn = KNeighborsRegressor(n_neighbors = 10, weights = 'distance', p = 2)  \n",
        "kfold_validate(X, y, te, model_knn, 'knn')"
      ],
      "execution_count": 15,
      "outputs": [
        {
          "output_type": "stream",
          "text": [
            "=========0-th Fold Score: 2.440959227519319\n",
            "=========1-th Fold Score: 2.509095871871995\n",
            "=========2-th Fold Score: 2.6804802798973335\n",
            "=========3-th Fold Score: 2.650355466792268\n",
            "=========4-th Fold Score: 2.3789710698021382\n",
            "=========5-th Fold Score: 2.184367742063343\n",
            "=========6-th Fold Score: 2.215921806669033\n",
            "=========7-th Fold Score: 2.9905446505658873\n",
            "=========8-th Fold Score: 2.2290723671753176\n",
            "=========9-th Fold Score: 2.581027102059597\n",
            "=========Total Score:  2.486079558441623\n"
          ],
          "name": "stdout"
        }
      ]
    },
    {
      "cell_type": "markdown",
      "metadata": {
        "id": "flY-KV-lOgF7",
        "colab_type": "text"
      },
      "source": [
        "### Random Forest"
      ]
    },
    {
      "cell_type": "code",
      "metadata": {
        "id": "qZONvPMaTjYg",
        "colab_type": "code",
        "outputId": "e15477d9-6ac0-4ba7-fc53-d99f1b0abf30",
        "colab": {
          "base_uri": "https://localhost:8080/",
          "height": 0
        }
      },
      "source": [
        "model_rf = RandomForestRegressor(n_estimators = 3000,\n",
        "                                 criterion = 'mse',\n",
        "                                 #min_samples_split = .7,\n",
        "                                 #min_samples_leaf = 100,\n",
        "                                 max_depth = 9)\n",
        "\n",
        "kfold_validate(X, y, te, model_rf, 'rf')"
      ],
      "execution_count": 16,
      "outputs": [
        {
          "output_type": "stream",
          "text": [
            "=========0-th Fold Score: 1.9972379431449518\n",
            "=========1-th Fold Score: 2.101326456797303\n",
            "=========2-th Fold Score: 2.1873218373930365\n",
            "=========3-th Fold Score: 1.9027354411243702\n",
            "=========4-th Fold Score: 2.0781301848490186\n",
            "=========5-th Fold Score: 1.8092170893991484\n",
            "=========6-th Fold Score: 1.811792455542974\n",
            "=========7-th Fold Score: 2.4316259559854143\n",
            "=========8-th Fold Score: 1.8913660883011882\n",
            "=========9-th Fold Score: 2.0177710989732405\n",
            "=========Total Score:  2.0228524551510647\n"
          ],
          "name": "stdout"
        }
      ]
    },
    {
      "cell_type": "code",
      "metadata": {
        "id": "9L-arSb93qPq",
        "colab_type": "code",
        "colab": {
          "base_uri": "https://localhost:8080/",
          "height": 301
        },
        "outputId": "4f8731ee-a445-4b86-bbff-51a282f3f935"
      },
      "source": [
        "model_rf = RandomForestRegressor(n_estimators = 3000,\n",
        "                                 criterion = 'mse',\n",
        "                                 #min_samples_split = .7,\n",
        "                                 #min_samples_leaf = 100,\n",
        "                                 max_depth = 11)\n",
        "\n",
        "meta_tr['rf_2'] = 0\n",
        "meta_te['rf_2'] = 0\n",
        "kfold_validate(X, y, te, model_rf, 'rf_2')"
      ],
      "execution_count": 17,
      "outputs": [
        {
          "output_type": "stream",
          "text": [
            "=========0-th Fold Score: 1.9900092712867659\n"
          ],
          "name": "stdout"
        },
        {
          "output_type": "stream",
          "text": [
            "/usr/local/lib/python3.6/dist-packages/ipykernel_launcher.py:12: SettingWithCopyWarning: \n",
            "A value is trying to be set on a copy of a slice from a DataFrame\n",
            "\n",
            "See the caveats in the documentation: http://pandas.pydata.org/pandas-docs/stable/indexing.html#indexing-view-versus-copy\n",
            "  if sys.path[0] == '':\n"
          ],
          "name": "stderr"
        },
        {
          "output_type": "stream",
          "text": [
            "=========1-th Fold Score: 2.088320959449661\n",
            "=========2-th Fold Score: 2.1792765795379534\n",
            "=========3-th Fold Score: 1.889195551486862\n",
            "=========4-th Fold Score: 2.0772053201112035\n",
            "=========5-th Fold Score: 1.7890570367124432\n",
            "=========6-th Fold Score: 1.8131367338088902\n",
            "=========7-th Fold Score: 2.428231944175623\n",
            "=========8-th Fold Score: 1.879530507943944\n",
            "=========9-th Fold Score: 2.0140791103304116\n",
            "=========Total Score:  2.014804301484376\n"
          ],
          "name": "stdout"
        }
      ]
    },
    {
      "cell_type": "markdown",
      "metadata": {
        "id": "-U1IQlvkOYSs",
        "colab_type": "text"
      },
      "source": [
        "### Kernel SVM"
      ]
    },
    {
      "cell_type": "code",
      "metadata": {
        "id": "Ko7EOMgJV4YH",
        "colab_type": "code",
        "colab": {}
      },
      "source": [
        "# scaling?"
      ],
      "execution_count": 0,
      "outputs": []
    },
    {
      "cell_type": "code",
      "metadata": {
        "id": "gKdxcndpOYOx",
        "colab_type": "code",
        "outputId": "69c29502-a281-4207-f97a-abdd8615dd8a",
        "colab": {
          "base_uri": "https://localhost:8080/",
          "height": 0
        }
      },
      "source": [
        "model_svm = SVR(kernel = 'rbf')  \n",
        "kfold_validate(X, y, te, model_svm, 'svm')"
      ],
      "execution_count": 18,
      "outputs": [
        {
          "output_type": "stream",
          "text": [
            "/usr/local/lib/python3.6/dist-packages/sklearn/svm/base.py:193: FutureWarning: The default value of gamma will change from 'auto' to 'scale' in version 0.22 to account better for unscaled features. Set gamma explicitly to 'auto' or 'scale' to avoid this warning.\n",
            "  \"avoid this warning.\", FutureWarning)\n"
          ],
          "name": "stderr"
        },
        {
          "output_type": "stream",
          "text": [
            "=========0-th Fold Score: 2.8030361417025\n"
          ],
          "name": "stdout"
        },
        {
          "output_type": "stream",
          "text": [
            "/usr/local/lib/python3.6/dist-packages/sklearn/svm/base.py:193: FutureWarning: The default value of gamma will change from 'auto' to 'scale' in version 0.22 to account better for unscaled features. Set gamma explicitly to 'auto' or 'scale' to avoid this warning.\n",
            "  \"avoid this warning.\", FutureWarning)\n"
          ],
          "name": "stderr"
        },
        {
          "output_type": "stream",
          "text": [
            "=========1-th Fold Score: 3.0096471613750304\n"
          ],
          "name": "stdout"
        },
        {
          "output_type": "stream",
          "text": [
            "/usr/local/lib/python3.6/dist-packages/sklearn/svm/base.py:193: FutureWarning: The default value of gamma will change from 'auto' to 'scale' in version 0.22 to account better for unscaled features. Set gamma explicitly to 'auto' or 'scale' to avoid this warning.\n",
            "  \"avoid this warning.\", FutureWarning)\n"
          ],
          "name": "stderr"
        },
        {
          "output_type": "stream",
          "text": [
            "=========2-th Fold Score: 3.274049391805652\n"
          ],
          "name": "stdout"
        },
        {
          "output_type": "stream",
          "text": [
            "/usr/local/lib/python3.6/dist-packages/sklearn/svm/base.py:193: FutureWarning: The default value of gamma will change from 'auto' to 'scale' in version 0.22 to account better for unscaled features. Set gamma explicitly to 'auto' or 'scale' to avoid this warning.\n",
            "  \"avoid this warning.\", FutureWarning)\n"
          ],
          "name": "stderr"
        },
        {
          "output_type": "stream",
          "text": [
            "=========3-th Fold Score: 2.7843291349976416\n"
          ],
          "name": "stdout"
        },
        {
          "output_type": "stream",
          "text": [
            "/usr/local/lib/python3.6/dist-packages/sklearn/svm/base.py:193: FutureWarning: The default value of gamma will change from 'auto' to 'scale' in version 0.22 to account better for unscaled features. Set gamma explicitly to 'auto' or 'scale' to avoid this warning.\n",
            "  \"avoid this warning.\", FutureWarning)\n"
          ],
          "name": "stderr"
        },
        {
          "output_type": "stream",
          "text": [
            "=========4-th Fold Score: 2.8274575521503484\n"
          ],
          "name": "stdout"
        },
        {
          "output_type": "stream",
          "text": [
            "/usr/local/lib/python3.6/dist-packages/sklearn/svm/base.py:193: FutureWarning: The default value of gamma will change from 'auto' to 'scale' in version 0.22 to account better for unscaled features. Set gamma explicitly to 'auto' or 'scale' to avoid this warning.\n",
            "  \"avoid this warning.\", FutureWarning)\n"
          ],
          "name": "stderr"
        },
        {
          "output_type": "stream",
          "text": [
            "=========5-th Fold Score: 2.8738650986547785\n"
          ],
          "name": "stdout"
        },
        {
          "output_type": "stream",
          "text": [
            "/usr/local/lib/python3.6/dist-packages/sklearn/svm/base.py:193: FutureWarning: The default value of gamma will change from 'auto' to 'scale' in version 0.22 to account better for unscaled features. Set gamma explicitly to 'auto' or 'scale' to avoid this warning.\n",
            "  \"avoid this warning.\", FutureWarning)\n"
          ],
          "name": "stderr"
        },
        {
          "output_type": "stream",
          "text": [
            "=========6-th Fold Score: 2.678279548389791\n"
          ],
          "name": "stdout"
        },
        {
          "output_type": "stream",
          "text": [
            "/usr/local/lib/python3.6/dist-packages/sklearn/svm/base.py:193: FutureWarning: The default value of gamma will change from 'auto' to 'scale' in version 0.22 to account better for unscaled features. Set gamma explicitly to 'auto' or 'scale' to avoid this warning.\n",
            "  \"avoid this warning.\", FutureWarning)\n"
          ],
          "name": "stderr"
        },
        {
          "output_type": "stream",
          "text": [
            "=========7-th Fold Score: 3.4139878143418616\n"
          ],
          "name": "stdout"
        },
        {
          "output_type": "stream",
          "text": [
            "/usr/local/lib/python3.6/dist-packages/sklearn/svm/base.py:193: FutureWarning: The default value of gamma will change from 'auto' to 'scale' in version 0.22 to account better for unscaled features. Set gamma explicitly to 'auto' or 'scale' to avoid this warning.\n",
            "  \"avoid this warning.\", FutureWarning)\n"
          ],
          "name": "stderr"
        },
        {
          "output_type": "stream",
          "text": [
            "=========8-th Fold Score: 2.6132532728310096\n"
          ],
          "name": "stdout"
        },
        {
          "output_type": "stream",
          "text": [
            "/usr/local/lib/python3.6/dist-packages/sklearn/svm/base.py:193: FutureWarning: The default value of gamma will change from 'auto' to 'scale' in version 0.22 to account better for unscaled features. Set gamma explicitly to 'auto' or 'scale' to avoid this warning.\n",
            "  \"avoid this warning.\", FutureWarning)\n"
          ],
          "name": "stderr"
        },
        {
          "output_type": "stream",
          "text": [
            "=========9-th Fold Score: 2.9689906508330535\n",
            "=========Total Score:  2.9246895767081664\n"
          ],
          "name": "stdout"
        },
        {
          "output_type": "stream",
          "text": [
            "/usr/local/lib/python3.6/dist-packages/sklearn/svm/base.py:193: FutureWarning: The default value of gamma will change from 'auto' to 'scale' in version 0.22 to account better for unscaled features. Set gamma explicitly to 'auto' or 'scale' to avoid this warning.\n",
            "  \"avoid this warning.\", FutureWarning)\n"
          ],
          "name": "stderr"
        }
      ]
    },
    {
      "cell_type": "markdown",
      "metadata": {
        "id": "aSOZ4TdgmRc6",
        "colab_type": "text"
      },
      "source": [
        "### Xgboost"
      ]
    },
    {
      "cell_type": "code",
      "metadata": {
        "id": "ZrwDjC2qmRYv",
        "colab_type": "code",
        "colab": {
          "base_uri": "https://localhost:8080/",
          "height": 0
        },
        "outputId": "447ade3d-32d4-41c8-cb44-75a4a2cee0bd"
      },
      "source": [
        "model_xg = xgb.XGBRegressor(objective = 'reg:linear',\n",
        "                            n_estimators = 3000, \n",
        "                            max_depth = 11, \n",
        "                            learning_rate = 0.01,\n",
        "                            early_stopping_rounds = 500,\n",
        "                            gamma = 1.0, \n",
        "                            #alpha = .6,\n",
        "                            subsample = 0.7,   \n",
        "                            colsample_bytree = 0.6, \n",
        "                            colsample_bylevel = 0.5,\n",
        "                            silent = True)\n",
        "kfold_validate(X, y, te, model_xg, 'xg')"
      ],
      "execution_count": 19,
      "outputs": [
        {
          "output_type": "stream",
          "text": [
            "/usr/local/lib/python3.6/dist-packages/xgboost/core.py:587: FutureWarning: Series.base is deprecated and will be removed in a future version\n",
            "  if getattr(data, 'base', None) is not None and \\\n"
          ],
          "name": "stderr"
        },
        {
          "output_type": "stream",
          "text": [
            "=========0-th Fold Score: 1.8926797164427573\n"
          ],
          "name": "stdout"
        },
        {
          "output_type": "stream",
          "text": [
            "/usr/local/lib/python3.6/dist-packages/xgboost/core.py:587: FutureWarning: Series.base is deprecated and will be removed in a future version\n",
            "  if getattr(data, 'base', None) is not None and \\\n"
          ],
          "name": "stderr"
        },
        {
          "output_type": "stream",
          "text": [
            "=========1-th Fold Score: 1.930241560475767\n"
          ],
          "name": "stdout"
        },
        {
          "output_type": "stream",
          "text": [
            "/usr/local/lib/python3.6/dist-packages/xgboost/core.py:587: FutureWarning: Series.base is deprecated and will be removed in a future version\n",
            "  if getattr(data, 'base', None) is not None and \\\n"
          ],
          "name": "stderr"
        },
        {
          "output_type": "stream",
          "text": [
            "=========2-th Fold Score: 1.9955216672204383\n"
          ],
          "name": "stdout"
        },
        {
          "output_type": "stream",
          "text": [
            "/usr/local/lib/python3.6/dist-packages/xgboost/core.py:587: FutureWarning: Series.base is deprecated and will be removed in a future version\n",
            "  if getattr(data, 'base', None) is not None and \\\n"
          ],
          "name": "stderr"
        },
        {
          "output_type": "stream",
          "text": [
            "=========3-th Fold Score: 1.7101009999362011\n"
          ],
          "name": "stdout"
        },
        {
          "output_type": "stream",
          "text": [
            "/usr/local/lib/python3.6/dist-packages/xgboost/core.py:587: FutureWarning: Series.base is deprecated and will be removed in a future version\n",
            "  if getattr(data, 'base', None) is not None and \\\n"
          ],
          "name": "stderr"
        },
        {
          "output_type": "stream",
          "text": [
            "=========4-th Fold Score: 2.000500309488473\n"
          ],
          "name": "stdout"
        },
        {
          "output_type": "stream",
          "text": [
            "/usr/local/lib/python3.6/dist-packages/xgboost/core.py:587: FutureWarning: Series.base is deprecated and will be removed in a future version\n",
            "  if getattr(data, 'base', None) is not None and \\\n"
          ],
          "name": "stderr"
        },
        {
          "output_type": "stream",
          "text": [
            "=========5-th Fold Score: 1.7046000800399044\n"
          ],
          "name": "stdout"
        },
        {
          "output_type": "stream",
          "text": [
            "/usr/local/lib/python3.6/dist-packages/xgboost/core.py:587: FutureWarning: Series.base is deprecated and will be removed in a future version\n",
            "  if getattr(data, 'base', None) is not None and \\\n"
          ],
          "name": "stderr"
        },
        {
          "output_type": "stream",
          "text": [
            "=========6-th Fold Score: 1.6826374813475944\n"
          ],
          "name": "stdout"
        },
        {
          "output_type": "stream",
          "text": [
            "/usr/local/lib/python3.6/dist-packages/xgboost/core.py:587: FutureWarning: Series.base is deprecated and will be removed in a future version\n",
            "  if getattr(data, 'base', None) is not None and \\\n"
          ],
          "name": "stderr"
        },
        {
          "output_type": "stream",
          "text": [
            "=========7-th Fold Score: 2.338184839300091\n"
          ],
          "name": "stdout"
        },
        {
          "output_type": "stream",
          "text": [
            "/usr/local/lib/python3.6/dist-packages/xgboost/core.py:587: FutureWarning: Series.base is deprecated and will be removed in a future version\n",
            "  if getattr(data, 'base', None) is not None and \\\n"
          ],
          "name": "stderr"
        },
        {
          "output_type": "stream",
          "text": [
            "=========8-th Fold Score: 1.7997787103353724\n"
          ],
          "name": "stdout"
        },
        {
          "output_type": "stream",
          "text": [
            "/usr/local/lib/python3.6/dist-packages/xgboost/core.py:587: FutureWarning: Series.base is deprecated and will be removed in a future version\n",
            "  if getattr(data, 'base', None) is not None and \\\n"
          ],
          "name": "stderr"
        },
        {
          "output_type": "stream",
          "text": [
            "=========9-th Fold Score: 1.8774223140382065\n",
            "=========Total Score:  1.8931667678624806\n"
          ],
          "name": "stdout"
        },
        {
          "output_type": "stream",
          "text": [
            "/usr/local/lib/python3.6/dist-packages/xgboost/core.py:587: FutureWarning: Series.base is deprecated and will be removed in a future version\n",
            "  if getattr(data, 'base', None) is not None and \\\n",
            "/usr/local/lib/python3.6/dist-packages/xgboost/core.py:588: FutureWarning: Series.base is deprecated and will be removed in a future version\n",
            "  data.base is not None and isinstance(data, np.ndarray) \\\n"
          ],
          "name": "stderr"
        }
      ]
    },
    {
      "cell_type": "markdown",
      "metadata": {
        "id": "fbeIIJLou4SO",
        "colab_type": "text"
      },
      "source": [
        "### Catboost"
      ]
    },
    {
      "cell_type": "code",
      "metadata": {
        "id": "66uB1vQajEAt",
        "colab_type": "code",
        "outputId": "eb0704c3-9a39-411d-e635-7219889b6d57",
        "colab": {
          "base_uri": "https://localhost:8080/",
          "height": 0
        }
      },
      "source": [
        "model_cb = CatBoostRegressor(bagging_temperature = 0.3,  \n",
        "                             colsample_bylevel = 0.7,  \n",
        "                             depth = 9,   \n",
        "                             early_stopping_rounds = 500,   \n",
        "                             eval_metric = 'RMSE',\n",
        "                             iterations = 3000,                             \n",
        "                             learning_rate = .01,    \n",
        "                             logging_level = 'Silent')\n",
        "\n",
        "kfold_validate(X, y, te, model_cb, 'cb')"
      ],
      "execution_count": 20,
      "outputs": [
        {
          "output_type": "stream",
          "text": [
            "=========0-th Fold Score: 1.9128576237404389\n",
            "=========1-th Fold Score: 1.9447735513363107\n",
            "=========2-th Fold Score: 1.8985864060497646\n",
            "=========3-th Fold Score: 1.6045882942972496\n",
            "=========4-th Fold Score: 1.930594480043148\n",
            "=========5-th Fold Score: 1.7200524718803278\n",
            "=========6-th Fold Score: 1.591614018376639\n",
            "=========7-th Fold Score: 2.2593741799117164\n",
            "=========8-th Fold Score: 1.793942305366387\n",
            "=========9-th Fold Score: 1.9188637604623882\n",
            "=========Total Score:  1.8575247091464369\n"
          ],
          "name": "stdout"
        }
      ]
    },
    {
      "cell_type": "code",
      "metadata": {
        "colab_type": "code",
        "outputId": "e8d880fb-44bb-4a81-8c74-283a64838b91",
        "id": "ayOduWVkmOqo",
        "colab": {
          "base_uri": "https://localhost:8080/",
          "height": 301
        }
      },
      "source": [
        "model_cb = CatBoostRegressor(bagging_temperature = 0.3,  \n",
        "                             colsample_bylevel = 0.7,  \n",
        "                             depth = 9,   \n",
        "                             early_stopping_rounds = 500,   \n",
        "                             eval_metric = 'RMSE',\n",
        "                             iterations = 3000,\n",
        "                             learning_rate = .05,\n",
        "                             logging_level = 'Silent')\n",
        "\n",
        "meta_tr['cb_2'] = 0\n",
        "meta_te['cb_2'] = 0\n",
        "kfold_validate(X, y, te, model_cb, 'cb_2')"
      ],
      "execution_count": 38,
      "outputs": [
        {
          "output_type": "stream",
          "text": [
            "=========0-th Fold Score: 1.9163807306574596\n"
          ],
          "name": "stdout"
        },
        {
          "output_type": "stream",
          "text": [
            "/usr/local/lib/python3.6/dist-packages/ipykernel_launcher.py:12: SettingWithCopyWarning: \n",
            "A value is trying to be set on a copy of a slice from a DataFrame\n",
            "\n",
            "See the caveats in the documentation: http://pandas.pydata.org/pandas-docs/stable/indexing.html#indexing-view-versus-copy\n",
            "  if sys.path[0] == '':\n"
          ],
          "name": "stderr"
        },
        {
          "output_type": "stream",
          "text": [
            "=========1-th Fold Score: 1.929960929974648\n",
            "=========2-th Fold Score: 1.90850615412896\n",
            "=========3-th Fold Score: 1.569344715801719\n",
            "=========4-th Fold Score: 1.9585831036319743\n",
            "=========5-th Fold Score: 1.7853218865613658\n",
            "=========6-th Fold Score: 1.6004778629738625\n",
            "=========7-th Fold Score: 2.2317453007273813\n",
            "=========8-th Fold Score: 1.7692432336211554\n",
            "=========9-th Fold Score: 1.8245785552881186\n",
            "=========Total Score:  1.8494142473366644\n"
          ],
          "name": "stdout"
        }
      ]
    },
    {
      "cell_type": "markdown",
      "metadata": {
        "id": "NY6rCN7PqLoT",
        "colab_type": "text"
      },
      "source": [
        "### Lightgbm"
      ]
    },
    {
      "cell_type": "code",
      "metadata": {
        "id": "i7L7dQ6m-wVd",
        "colab_type": "code",
        "colab": {}
      },
      "source": [
        "import lightgbm as lgb\n",
        "params = {'objective' : 'regression',\n",
        "          'num_iterations' : 5000, \n",
        "          'max_depth' : 13, \n",
        "          'num_leaves' : 100, \n",
        "          'learning_rate': 0.05, \n",
        "          'metric' : 'rmse',\n",
        "          'min_data_in_leaf' : 100, \n",
        "          'colsample_bytree': 0.7, \n",
        "          'subsample_freq': 1,  \n",
        "          'lambda_l1' : 0.01, \n",
        "          'lambda_l2' : 0.7, \n",
        "          'subsample' : 0.6, \n",
        "          'verbose' : -1}"
      ],
      "execution_count": 0,
      "outputs": []
    },
    {
      "cell_type": "code",
      "metadata": {
        "id": "NfWT-nigYNRc",
        "colab_type": "code",
        "colab": {}
      },
      "source": [
        "scores = np.zeros(10)\n",
        "for i, (tr_idx, val_idx) in enumerate(cv.split(X)):\n",
        "    X_tr, y_tr = X.iloc[tr_idx, :], y[tr_idx]\n",
        "    X_val, y_val = X.iloc[val_idx, :], y[val_idx]\n",
        "    \n",
        "    tr_data = lgb.Dataset(X_tr, label = y_tr)\n",
        "    val_data = lgb.Dataset(X_val, label = y_val)\n",
        "\n",
        "    hist = {}\n",
        "    model_lg = lgb.train(params, tr_data, \n",
        "                         valid_sets = [val_data],\n",
        "                         verbose_eval = -1, \n",
        "                         early_stopping_rounds = 500,\n",
        "                         callbacks = [lgb.record_evaluation(hist)])\n",
        "    \n",
        "    pred_val = model_lg.predict(X_val, num_iteration = model_lg.best_iteration)\n",
        "    scores[i] = get_loss(pred_val, y_val)\n",
        "    print(\"========={}-th Fold Score: {}\".format(i, scores[i]))\n",
        "        \n",
        "    meta_tr['lg'][val_idx] = pred_val\n",
        "    meta_tr['val'][val_idx] = y_val\n",
        "\n",
        "print(\"=========Total Score: \", np.mean(scores))\n",
        "meta_te['lg'] = model_lg.predict(te)"
      ],
      "execution_count": 0,
      "outputs": []
    },
    {
      "cell_type": "code",
      "metadata": {
        "id": "xR_hkL8TL5WV",
        "colab_type": "code",
        "colab": {}
      },
      "source": [
        ""
      ],
      "execution_count": 0,
      "outputs": []
    },
    {
      "cell_type": "code",
      "metadata": {
        "id": "7nroJ1bn-Ibe",
        "colab_type": "code",
        "colab": {}
      },
      "source": [
        "params = {'objective' : 'regression',\n",
        "          'num_iterations' : 5000, \n",
        "          'max_depth' : 9, \n",
        "          'num_leaves' : 100, \n",
        "          'learning_rate': 0.005, \n",
        "          'metric' : 'rmse',\n",
        "          'min_data_in_leaf' : 100, \n",
        "          'colsample_bytree': 0.5, \n",
        "          'subsample_freq': 1,  \n",
        "          'lambda_l1' : 0.01, \n",
        "          'lambda_l2' : 0.7, \n",
        "          'subsample' : 0.8, \n",
        "          'verbose' : -1}"
      ],
      "execution_count": 0,
      "outputs": []
    },
    {
      "cell_type": "code",
      "metadata": {
        "id": "VSnyWtDn7Pvq",
        "colab_type": "code",
        "colab": {}
      },
      "source": [
        "meta_tr['lg_2'] = 0\n",
        "meta_te['lg_2'] = 0\n",
        "\n",
        "scores = np.zeros(10)\n",
        "for i, (tr_idx, val_idx) in enumerate(cv.split(X)):\n",
        "    X_tr, y_tr = X.iloc[tr_idx, :], y[tr_idx]\n",
        "    X_val, y_val = X.iloc[val_idx, :], y[val_idx]\n",
        "    \n",
        "    tr_data = lgb.Dataset(X_tr, label = y_tr)\n",
        "    val_data = lgb.Dataset(X_val, label = y_val)\n",
        "\n",
        "    hist = {}\n",
        "    model_lg = lgb.train(params, tr_data, \n",
        "                         valid_sets = [val_data],\n",
        "                         verbose_eval = -1, \n",
        "                         early_stopping_rounds = 500,\n",
        "                         callbacks = [lgb.record_evaluation(hist)])\n",
        "    \n",
        "    pred_val = model_lg.predict(X_val, num_iteration = model_lg.best_iteration)\n",
        "    scores[i] = get_loss(pred_val, y_val)\n",
        "    print(\"========={}-th Fold Score: {}\".format(i, scores[i]))\n",
        "        \n",
        "    meta_tr['lg_2'][val_idx] = pred_val\n",
        "\n",
        "print(\"=========Total Score: \", np.mean(scores))\n",
        "meta_te['lg_2'] = model_lg.predict(te)"
      ],
      "execution_count": 0,
      "outputs": []
    },
    {
      "cell_type": "markdown",
      "metadata": {
        "id": "DA6Ci1O1u4-f",
        "colab_type": "text"
      },
      "source": [
        "### Keras"
      ]
    },
    {
      "cell_type": "code",
      "metadata": {
        "id": "ixLm8rtAmil7",
        "colab_type": "code",
        "colab": {}
      },
      "source": [
        "print(X_tr.shape[1])\n",
        "print(X_tr.shape[1] /2)"
      ],
      "execution_count": 0,
      "outputs": []
    },
    {
      "cell_type": "code",
      "metadata": {
        "id": "0NdZviyBmFZ4",
        "colab_type": "code",
        "outputId": "1c4eb113-55e7-4d61-de9f-a6e348685b5f",
        "colab": {
          "base_uri": "https://localhost:8080/",
          "height": 588
        }
      },
      "source": [
        "# initialize the model\n",
        "model = Sequential()\n",
        "\n",
        "# create hidden layers\n",
        "model.add(Dense(input_dim = X_tr.shape[1], output_dim = 128, activation = 'relu'))\n",
        "model.add(Dense(output_dim = 64, activation = 'relu'))\n",
        "#model.add(Dropout(.7))\n",
        "model.add(BatchNormalization())\n",
        "model.add(Dense(output_dim = 32, activation = 'relu'))\n",
        "#model.add(Dropout(.7))\n",
        "model.add(BatchNormalization())\n",
        "model.add(Dense(output_dim = 16, activation = 'relu'))\n",
        "#model.add(BatchNormalization())\n",
        "model.add(Dense(output_dim = 1))\n",
        "\n",
        "# compile: stochastic gradient descent\n",
        "model.compile(optimizer = Adam(lr=0.01),   #RMSprop, SGD\n",
        "              loss = 'mse',\n",
        "              metrics = ['mean_squared_error'])\n",
        "\n",
        "# early stopper\n",
        "early_stopper = EarlyStopping(patience = 5)\n",
        "\n",
        "model.summary()"
      ],
      "execution_count": 56,
      "outputs": [
        {
          "output_type": "stream",
          "text": [
            "/usr/local/lib/python3.6/dist-packages/ipykernel_launcher.py:4: UserWarning: Update your `Dense` call to the Keras 2 API: `Dense(input_dim=376, activation=\"relu\", units=128)`\n",
            "  after removing the cwd from sys.path.\n",
            "/usr/local/lib/python3.6/dist-packages/ipykernel_launcher.py:5: UserWarning: Update your `Dense` call to the Keras 2 API: `Dense(activation=\"relu\", units=64)`\n",
            "  \"\"\"\n",
            "/usr/local/lib/python3.6/dist-packages/ipykernel_launcher.py:8: UserWarning: Update your `Dense` call to the Keras 2 API: `Dense(activation=\"relu\", units=32)`\n",
            "  \n"
          ],
          "name": "stderr"
        },
        {
          "output_type": "stream",
          "text": [
            "_________________________________________________________________\n",
            "Layer (type)                 Output Shape              Param #   \n",
            "=================================================================\n",
            "dense_6 (Dense)              (None, 128)               48256     \n",
            "_________________________________________________________________\n",
            "dense_7 (Dense)              (None, 64)                8256      \n",
            "_________________________________________________________________\n",
            "batch_normalization_3 (Batch (None, 64)                256       \n",
            "_________________________________________________________________\n",
            "dense_8 (Dense)              (None, 32)                2080      \n",
            "_________________________________________________________________\n",
            "batch_normalization_4 (Batch (None, 32)                128       \n",
            "_________________________________________________________________\n",
            "dense_9 (Dense)              (None, 16)                528       \n",
            "_________________________________________________________________\n",
            "dense_10 (Dense)             (None, 1)                 17        \n",
            "=================================================================\n",
            "Total params: 59,521\n",
            "Trainable params: 59,329\n",
            "Non-trainable params: 192\n",
            "_________________________________________________________________\n"
          ],
          "name": "stdout"
        },
        {
          "output_type": "stream",
          "text": [
            "/usr/local/lib/python3.6/dist-packages/ipykernel_launcher.py:11: UserWarning: Update your `Dense` call to the Keras 2 API: `Dense(activation=\"relu\", units=16)`\n",
            "  # This is added back by InteractiveShellApp.init_path()\n",
            "/usr/local/lib/python3.6/dist-packages/ipykernel_launcher.py:13: UserWarning: Update your `Dense` call to the Keras 2 API: `Dense(units=1)`\n",
            "  del sys.path[0]\n"
          ],
          "name": "stderr"
        }
      ]
    },
    {
      "cell_type": "code",
      "metadata": {
        "id": "eH32NkwHn10R",
        "colab_type": "code",
        "colab": {}
      },
      "source": [
        "model_ke = model\n",
        "\n",
        "results = np.zeros((3000, ))\n",
        "scores = np.zeros(10)\n",
        "\n",
        "for i, (tr_idx, val_idx) in enumerate(cv.split(X)):\n",
        "    X_tr, y_tr = X.iloc[tr_idx, :], y[tr_idx]\n",
        "    X_val, y_val = X.iloc[val_idx, :], y[val_idx]\n",
        "\n",
        "    model_ke.fit(X_tr, y_tr, \n",
        "                validation_data = (X_val, y_val),\n",
        "                batch_size = 300,\n",
        "                nb_epoch = 1000,\n",
        "                callbacks = [early_stopper],\n",
        "                verbose= -1)\n",
        "    pred_val = model_ke.predict(X_val)\n",
        "    scores[i] = get_loss(pred_val, y_val)\n",
        "    print(\"========={}-th Fold Score: {}\".format(i, scores[i]))\n",
        "    results[val_idx] = pred_val\n",
        "\n",
        "model_ke.fit(X, y,\n",
        "            batch_size = 300,\n",
        "            nb_epoch = 1000,\n",
        "            callbacks = [early_stopper],\n",
        "            verbose= -1)\n",
        "print(\"=========Total Score: \", np.mean(scores))\n",
        "meta_te['ke'] = model_ke.predict(te)"
      ],
      "execution_count": 0,
      "outputs": []
    },
    {
      "cell_type": "code",
      "metadata": {
        "id": "vVGwY7I2Yi78",
        "colab_type": "code",
        "colab": {}
      },
      "source": [
        ""
      ],
      "execution_count": 0,
      "outputs": []
    },
    {
      "cell_type": "markdown",
      "metadata": {
        "id": "Su-PJE39Yi2S",
        "colab_type": "text"
      },
      "source": [
        "### Evaluation"
      ]
    },
    {
      "cell_type": "code",
      "metadata": {
        "id": "3ot43yuacXyK",
        "colab_type": "code",
        "colab": {
          "base_uri": "https://localhost:8080/",
          "height": 0
        },
        "outputId": "7820200e-82d8-4da5-9376-004ce3301c66"
      },
      "source": [
        "meta_tr.sample(10)"
      ],
      "execution_count": 61,
      "outputs": [
        {
          "output_type": "execute_result",
          "data": {
            "text/html": [
              "<div>\n",
              "<style scoped>\n",
              "    .dataframe tbody tr th:only-of-type {\n",
              "        vertical-align: middle;\n",
              "    }\n",
              "\n",
              "    .dataframe tbody tr th {\n",
              "        vertical-align: top;\n",
              "    }\n",
              "\n",
              "    .dataframe thead th {\n",
              "        text-align: right;\n",
              "    }\n",
              "</style>\n",
              "<table border=\"1\" class=\"dataframe\">\n",
              "  <thead>\n",
              "    <tr style=\"text-align: right;\">\n",
              "      <th></th>\n",
              "      <th>el</th>\n",
              "      <th>rf</th>\n",
              "      <th>knn</th>\n",
              "      <th>svm</th>\n",
              "      <th>xg</th>\n",
              "      <th>cb</th>\n",
              "      <th>lg</th>\n",
              "      <th>ke</th>\n",
              "      <th>val</th>\n",
              "      <th>rf_2</th>\n",
              "      <th>cb_2</th>\n",
              "      <th>lg_2</th>\n",
              "    </tr>\n",
              "  </thead>\n",
              "  <tbody>\n",
              "    <tr>\n",
              "      <th>1750</th>\n",
              "      <td>15.276943</td>\n",
              "      <td>15.016783</td>\n",
              "      <td>16.564104</td>\n",
              "      <td>16.808008</td>\n",
              "      <td>15.136374</td>\n",
              "      <td>14.645270</td>\n",
              "      <td>15.107441</td>\n",
              "      <td>0</td>\n",
              "      <td>15.751870</td>\n",
              "      <td>14.909716</td>\n",
              "      <td>14.553266</td>\n",
              "      <td>15.404667</td>\n",
              "    </tr>\n",
              "    <tr>\n",
              "      <th>2910</th>\n",
              "      <td>15.885188</td>\n",
              "      <td>14.913381</td>\n",
              "      <td>15.637323</td>\n",
              "      <td>16.778631</td>\n",
              "      <td>14.569166</td>\n",
              "      <td>15.216618</td>\n",
              "      <td>16.246936</td>\n",
              "      <td>0</td>\n",
              "      <td>14.639248</td>\n",
              "      <td>14.776731</td>\n",
              "      <td>14.863491</td>\n",
              "      <td>16.092016</td>\n",
              "    </tr>\n",
              "    <tr>\n",
              "      <th>2975</th>\n",
              "      <td>17.827779</td>\n",
              "      <td>17.479685</td>\n",
              "      <td>17.858540</td>\n",
              "      <td>16.766166</td>\n",
              "      <td>17.492765</td>\n",
              "      <td>17.790214</td>\n",
              "      <td>17.626420</td>\n",
              "      <td>0</td>\n",
              "      <td>17.873901</td>\n",
              "      <td>17.487026</td>\n",
              "      <td>18.011187</td>\n",
              "      <td>17.790030</td>\n",
              "    </tr>\n",
              "    <tr>\n",
              "      <th>680</th>\n",
              "      <td>19.486003</td>\n",
              "      <td>19.491944</td>\n",
              "      <td>19.062371</td>\n",
              "      <td>16.781063</td>\n",
              "      <td>19.348640</td>\n",
              "      <td>19.366103</td>\n",
              "      <td>19.232934</td>\n",
              "      <td>0</td>\n",
              "      <td>20.114960</td>\n",
              "      <td>19.537968</td>\n",
              "      <td>18.742865</td>\n",
              "      <td>19.625470</td>\n",
              "    </tr>\n",
              "    <tr>\n",
              "      <th>2308</th>\n",
              "      <td>14.869602</td>\n",
              "      <td>14.078340</td>\n",
              "      <td>14.852130</td>\n",
              "      <td>16.793409</td>\n",
              "      <td>14.350869</td>\n",
              "      <td>14.187981</td>\n",
              "      <td>14.368250</td>\n",
              "      <td>0</td>\n",
              "      <td>14.060339</td>\n",
              "      <td>14.042426</td>\n",
              "      <td>14.340079</td>\n",
              "      <td>14.512602</td>\n",
              "    </tr>\n",
              "    <tr>\n",
              "      <th>2400</th>\n",
              "      <td>13.777448</td>\n",
              "      <td>14.361130</td>\n",
              "      <td>12.928395</td>\n",
              "      <td>16.766166</td>\n",
              "      <td>14.651876</td>\n",
              "      <td>14.735822</td>\n",
              "      <td>15.014299</td>\n",
              "      <td>0</td>\n",
              "      <td>13.442287</td>\n",
              "      <td>14.387537</td>\n",
              "      <td>14.952303</td>\n",
              "      <td>15.486102</td>\n",
              "    </tr>\n",
              "    <tr>\n",
              "      <th>1309</th>\n",
              "      <td>19.415334</td>\n",
              "      <td>19.536534</td>\n",
              "      <td>18.752938</td>\n",
              "      <td>16.790329</td>\n",
              "      <td>19.517780</td>\n",
              "      <td>19.241737</td>\n",
              "      <td>19.329911</td>\n",
              "      <td>0</td>\n",
              "      <td>19.727202</td>\n",
              "      <td>19.510818</td>\n",
              "      <td>19.986159</td>\n",
              "      <td>19.290645</td>\n",
              "    </tr>\n",
              "    <tr>\n",
              "      <th>1182</th>\n",
              "      <td>18.228587</td>\n",
              "      <td>19.735939</td>\n",
              "      <td>19.012065</td>\n",
              "      <td>16.790329</td>\n",
              "      <td>19.383856</td>\n",
              "      <td>19.229487</td>\n",
              "      <td>19.558309</td>\n",
              "      <td>0</td>\n",
              "      <td>19.391157</td>\n",
              "      <td>19.721904</td>\n",
              "      <td>19.039551</td>\n",
              "      <td>19.363843</td>\n",
              "    </tr>\n",
              "    <tr>\n",
              "      <th>1179</th>\n",
              "      <td>14.916216</td>\n",
              "      <td>14.810349</td>\n",
              "      <td>15.659173</td>\n",
              "      <td>16.118116</td>\n",
              "      <td>15.226007</td>\n",
              "      <td>15.917663</td>\n",
              "      <td>15.808616</td>\n",
              "      <td>0</td>\n",
              "      <td>17.021897</td>\n",
              "      <td>14.752693</td>\n",
              "      <td>15.797184</td>\n",
              "      <td>15.625885</td>\n",
              "    </tr>\n",
              "    <tr>\n",
              "      <th>1185</th>\n",
              "      <td>12.595568</td>\n",
              "      <td>13.885169</td>\n",
              "      <td>14.172244</td>\n",
              "      <td>15.009597</td>\n",
              "      <td>13.477248</td>\n",
              "      <td>13.918203</td>\n",
              "      <td>13.443089</td>\n",
              "      <td>0</td>\n",
              "      <td>13.605352</td>\n",
              "      <td>13.883579</td>\n",
              "      <td>14.024432</td>\n",
              "      <td>12.850597</td>\n",
              "    </tr>\n",
              "  </tbody>\n",
              "</table>\n",
              "</div>"
            ],
            "text/plain": [
              "             el         rf        knn  ...       rf_2       cb_2       lg_2\n",
              "1750  15.276943  15.016783  16.564104  ...  14.909716  14.553266  15.404667\n",
              "2910  15.885188  14.913381  15.637323  ...  14.776731  14.863491  16.092016\n",
              "2975  17.827779  17.479685  17.858540  ...  17.487026  18.011187  17.790030\n",
              "680   19.486003  19.491944  19.062371  ...  19.537968  18.742865  19.625470\n",
              "2308  14.869602  14.078340  14.852130  ...  14.042426  14.340079  14.512602\n",
              "2400  13.777448  14.361130  12.928395  ...  14.387537  14.952303  15.486102\n",
              "1309  19.415334  19.536534  18.752938  ...  19.510818  19.986159  19.290645\n",
              "1182  18.228587  19.735939  19.012065  ...  19.721904  19.039551  19.363843\n",
              "1179  14.916216  14.810349  15.659173  ...  14.752693  15.797184  15.625885\n",
              "1185  12.595568  13.885169  14.172244  ...  13.883579  14.024432  12.850597\n",
              "\n",
              "[10 rows x 12 columns]"
            ]
          },
          "metadata": {
            "tags": []
          },
          "execution_count": 61
        }
      ]
    },
    {
      "cell_type": "code",
      "metadata": {
        "id": "q4atMKZ18FvG",
        "colab_type": "code",
        "outputId": "0b39ca52-21d6-4b22-cf9b-16c6df0a6060",
        "colab": {
          "base_uri": "https://localhost:8080/",
          "height": 610
        }
      },
      "source": [
        "fig, axes = plt.subplots(3, 4, figsize = (20, 10))\n",
        "\n",
        "for i, col in enumerate(meta_tr.columns[meta_tr.columns != 'val']):\n",
        "  sns.regplot(x = col, y = 'val', data = meta_tr, ax = axes[i//4, i % 4])"
      ],
      "execution_count": 45,
      "outputs": [
        {
          "output_type": "display_data",
          "data": {
            "image/png": "[encoded data removed]",
            "text/plain": [
              "<Figure size 1440x720 with 12 Axes>"
            ]
          },
          "metadata": {
            "tags": []
          }
        }
      ]
    },
    {
      "cell_type": "code",
      "metadata": {
        "id": "BEjuaklDAPnX",
        "colab_type": "code",
        "colab": {}
      },
      "source": [
        "meta_te.drop(['ke', 'svm'], axis = 1, inplace = True)\n",
        "meta_tr.drop(['ke', 'svm'], axis = 1, inplace = True)"
      ],
      "execution_count": 0,
      "outputs": []
    },
    {
      "cell_type": "code",
      "metadata": {
        "id": "V8eGH5gtJk-O",
        "colab_type": "code",
        "colab": {}
      },
      "source": [
        "meta_tr.to_csv('meta_tr.csv', index = False)\n",
        "meta_te.to_csv('meta_te.csv', index = False)"
      ],
      "execution_count": 0,
      "outputs": []
    },
    {
      "cell_type": "markdown",
      "metadata": {
        "id": "SuwUlKNQclw2",
        "colab_type": "text"
      },
      "source": [
        "## 2nd Layer Modeling"
      ]
    },
    {
      "cell_type": "code",
      "metadata": {
        "id": "G3ciX9YCeo0h",
        "colab_type": "code",
        "colab": {}
      },
      "source": [
        "meta_tr = pd.read_csv('meta_tr.csv')\n",
        "meta_te = pd.read_csv('meta_te.csv')"
      ],
      "execution_count": 0,
      "outputs": []
    },
    {
      "cell_type": "code",
      "metadata": {
        "id": "5UQ--NlEFkvt",
        "colab_type": "code",
        "outputId": "1e244e16-cef3-4e1c-add9-84ed7deeb8f0",
        "colab": {
          "base_uri": "https://localhost:8080/",
          "height": 52
        }
      },
      "source": [
        "print(\"The size of the train set \", meta_tr.shape)\n",
        "print(\"The size of the test set \", meta_te.shape)"
      ],
      "execution_count": 232,
      "outputs": [
        {
          "output_type": "stream",
          "text": [
            "The size of the train set  (3000, 10)\n",
            "The size of the test set  (4398, 9)\n"
          ],
          "name": "stdout"
        }
      ]
    },
    {
      "cell_type": "code",
      "metadata": {
        "id": "AKLO9EaFfni4",
        "colab_type": "code",
        "colab": {}
      },
      "source": [
        "y = meta_tr.val\n",
        "X_tr = meta_tr.drop('val', axis = 1)\n",
        "\n",
        "te = meta_te"
      ],
      "execution_count": 0,
      "outputs": []
    },
    {
      "cell_type": "code",
      "metadata": {
        "id": "tfAWAEEmMSob",
        "colab_type": "code",
        "colab": {}
      },
      "source": [
        "# Create meta-train set\n",
        "nrow = X.shape[0]\n",
        "ncol = 6\n",
        "dims = np.zeros((nrow, ncol))\n",
        "\n",
        "meta_tr = pd.DataFrame(dims, columns = ['lr', 'el', 'rd', 'svm', 'knn', 'rf'])\n",
        "meta_tr['val'] = 0\n",
        "\n",
        "# Create meta-test set\n",
        "nrow = te.shape[0]\n",
        "dims = np.zeros((nrow, ncol))\n",
        "meta_te = pd.DataFrame(dims, columns = ['lr', 'el', 'rd', 'svm', 'knn', 'rf'])\n",
        "\n",
        "# Cross Validation\n",
        "k = 5\n",
        "seed = 10\n",
        "cv = KFold(n_splits = k, shuffle = True, random_state = seed)"
      ],
      "execution_count": 0,
      "outputs": []
    },
    {
      "cell_type": "markdown",
      "metadata": {
        "id": "ndniLfrzMTHi",
        "colab_type": "text"
      },
      "source": [
        "### Linear Regression"
      ]
    },
    {
      "cell_type": "code",
      "metadata": {
        "id": "uGDp8h89coWF",
        "colab_type": "code",
        "colab": {
          "base_uri": "https://localhost:8080/",
          "height": 301
        },
        "outputId": "248810e2-6b23-47ad-eabc-7efb75ea4488"
      },
      "source": [
        "model_lr = LinearRegression()\n",
        "kfold_validate(X_tr, y, te, model_lr, 'lr')"
      ],
      "execution_count": 235,
      "outputs": [
        {
          "output_type": "stream",
          "text": [
            "=========0-th Fold Score: 1.8774563479189852\n",
            "=========1-th Fold Score: 1.7265484178790167\n",
            "=========2-th Fold Score: 1.849572390603977\n",
            "=========3-th Fold Score: 1.9400484408343759\n",
            "=========4-th Fold Score: 1.8036913547860691\n",
            "=========Total Score:  1.8394633904044848\n"
          ],
          "name": "stdout"
        },
        {
          "output_type": "stream",
          "text": [
            "/usr/local/lib/python3.6/dist-packages/ipykernel_launcher.py:12: SettingWithCopyWarning: \n",
            "A value is trying to be set on a copy of a slice from a DataFrame\n",
            "\n",
            "See the caveats in the documentation: http://pandas.pydata.org/pandas-docs/stable/indexing.html#indexing-view-versus-copy\n",
            "  if sys.path[0] == '':\n",
            "/usr/local/lib/python3.6/dist-packages/ipykernel_launcher.py:13: SettingWithCopyWarning: \n",
            "A value is trying to be set on a copy of a slice from a DataFrame\n",
            "\n",
            "See the caveats in the documentation: http://pandas.pydata.org/pandas-docs/stable/indexing.html#indexing-view-versus-copy\n",
            "  del sys.path[0]\n"
          ],
          "name": "stderr"
        }
      ]
    },
    {
      "cell_type": "markdown",
      "metadata": {
        "id": "b2mDJLtycyc2",
        "colab_type": "text"
      },
      "source": [
        "### Elastic Net"
      ]
    },
    {
      "cell_type": "code",
      "metadata": {
        "id": "M92LczXQgQEL",
        "colab_type": "code",
        "colab": {
          "base_uri": "https://localhost:8080/",
          "height": 124
        },
        "outputId": "8c45e27d-fef5-4ec9-e37a-5994ba2c42be"
      },
      "source": [
        "model_el = ElasticNet(alpha = .005, l1_ratio = .3, max_iter = 3000)\n",
        "kfold_validate(X_tr, y, te, model_el, 'el')"
      ],
      "execution_count": 236,
      "outputs": [
        {
          "output_type": "stream",
          "text": [
            "=========0-th Fold Score: 1.8783549310215022\n",
            "=========1-th Fold Score: 1.7278595045359437\n",
            "=========2-th Fold Score: 1.8481594847197171\n",
            "=========3-th Fold Score: 1.9396519985691283\n",
            "=========4-th Fold Score: 1.8018619827243674\n",
            "=========Total Score:  1.8391775803141317\n"
          ],
          "name": "stdout"
        }
      ]
    },
    {
      "cell_type": "markdown",
      "metadata": {
        "id": "sVSeCYbvEO3E",
        "colab_type": "text"
      },
      "source": [
        "### Ridge Regression"
      ]
    },
    {
      "cell_type": "code",
      "metadata": {
        "id": "d426TXyKgTGl",
        "colab_type": "code",
        "colab": {
          "base_uri": "https://localhost:8080/",
          "height": 124
        },
        "outputId": "2b937f75-8106-414a-e70e-20afbd279bdd"
      },
      "source": [
        "model_rd = Ridge(alpha = .01, normalize = True)\n",
        "kfold_validate(X_tr, y, te, model_rd, 'rd')"
      ],
      "execution_count": 241,
      "outputs": [
        {
          "output_type": "stream",
          "text": [
            "=========0-th Fold Score: 1.8811618911753147\n",
            "=========1-th Fold Score: 1.734006302187174\n",
            "=========2-th Fold Score: 1.8409395889858906\n",
            "=========3-th Fold Score: 1.9406106860573475\n",
            "=========4-th Fold Score: 1.797366786745541\n",
            "=========Total Score:  1.8388170510302537\n"
          ],
          "name": "stdout"
        }
      ]
    },
    {
      "cell_type": "markdown",
      "metadata": {
        "id": "sZOPXqW6HFu3",
        "colab_type": "text"
      },
      "source": [
        "### 4. Linear SVR"
      ]
    },
    {
      "cell_type": "code",
      "metadata": {
        "id": "Dfbh4i_JgWRF",
        "colab_type": "code",
        "colab": {
          "base_uri": "https://localhost:8080/",
          "height": 337
        },
        "outputId": "b2d6f24d-4469-4217-ceab-a2f0666fb2c7"
      },
      "source": [
        "model_svm = LinearSVR(epsilon= 0)\n",
        "kfold_validate(X_tr, y, te, model_svm, 'svm')"
      ],
      "execution_count": 193,
      "outputs": [
        {
          "output_type": "stream",
          "text": [
            "/usr/local/lib/python3.6/dist-packages/sklearn/svm/base.py:929: ConvergenceWarning: Liblinear failed to converge, increase the number of iterations.\n",
            "  \"the number of iterations.\", ConvergenceWarning)\n",
            "/usr/local/lib/python3.6/dist-packages/sklearn/svm/base.py:929: ConvergenceWarning: Liblinear failed to converge, increase the number of iterations.\n",
            "  \"the number of iterations.\", ConvergenceWarning)\n"
          ],
          "name": "stderr"
        },
        {
          "output_type": "stream",
          "text": [
            "=========0-th Fold Score: 2.2145048498630477\n",
            "=========1-th Fold Score: 1.83316936208566\n"
          ],
          "name": "stdout"
        },
        {
          "output_type": "stream",
          "text": [
            "/usr/local/lib/python3.6/dist-packages/sklearn/svm/base.py:929: ConvergenceWarning: Liblinear failed to converge, increase the number of iterations.\n",
            "  \"the number of iterations.\", ConvergenceWarning)\n",
            "/usr/local/lib/python3.6/dist-packages/sklearn/svm/base.py:929: ConvergenceWarning: Liblinear failed to converge, increase the number of iterations.\n",
            "  \"the number of iterations.\", ConvergenceWarning)\n"
          ],
          "name": "stderr"
        },
        {
          "output_type": "stream",
          "text": [
            "=========2-th Fold Score: 1.8524742948732655\n",
            "=========3-th Fold Score: 2.476461119961619\n"
          ],
          "name": "stdout"
        },
        {
          "output_type": "stream",
          "text": [
            "/usr/local/lib/python3.6/dist-packages/sklearn/svm/base.py:929: ConvergenceWarning: Liblinear failed to converge, increase the number of iterations.\n",
            "  \"the number of iterations.\", ConvergenceWarning)\n"
          ],
          "name": "stderr"
        },
        {
          "output_type": "stream",
          "text": [
            "=========4-th Fold Score: 2.004532496538478\n",
            "=========Total Score:  2.0762284246644143\n"
          ],
          "name": "stdout"
        },
        {
          "output_type": "stream",
          "text": [
            "/usr/local/lib/python3.6/dist-packages/sklearn/svm/base.py:929: ConvergenceWarning: Liblinear failed to converge, increase the number of iterations.\n",
            "  \"the number of iterations.\", ConvergenceWarning)\n"
          ],
          "name": "stderr"
        }
      ]
    },
    {
      "cell_type": "markdown",
      "metadata": {
        "id": "GDEYnSbvG3TP",
        "colab_type": "text"
      },
      "source": [
        "### 5. knn"
      ]
    },
    {
      "cell_type": "code",
      "metadata": {
        "id": "ivyKTyVBgZkN",
        "colab_type": "code",
        "colab": {
          "base_uri": "https://localhost:8080/",
          "height": 124
        },
        "outputId": "c77cf7d6-8e83-4bbb-bff0-dd0d7960f318"
      },
      "source": [
        "model_knn = KNeighborsRegressor(n_neighbors = 30, weights = 'distance', p = 1)\n",
        "kfold_validate(X_tr, y, te, model_knn, 'knn')"
      ],
      "execution_count": 194,
      "outputs": [
        {
          "output_type": "stream",
          "text": [
            "=========0-th Fold Score: 1.9045762895785419\n",
            "=========1-th Fold Score: 1.856762773319555\n",
            "=========2-th Fold Score: 1.838444199621335\n",
            "=========3-th Fold Score: 2.011920029328165\n",
            "=========4-th Fold Score: 1.8074407409201505\n",
            "=========Total Score:  1.8838288065535493\n"
          ],
          "name": "stdout"
        }
      ]
    },
    {
      "cell_type": "markdown",
      "metadata": {
        "id": "LjIYAXFEczck",
        "colab_type": "text"
      },
      "source": [
        "### 6. Shallow Random Forest"
      ]
    },
    {
      "cell_type": "code",
      "metadata": {
        "id": "Jjy4VE5dgbnq",
        "colab_type": "code",
        "colab": {
          "base_uri": "https://localhost:8080/",
          "height": 124
        },
        "outputId": "7725ee30-152d-4bb9-856c-754342429073"
      },
      "source": [
        "model_rf = RandomForestRegressor(n_estimators = 5000, max_depth = 7)\n",
        "kfold_validate(X_tr, y, te, model_rf, 'rf')"
      ],
      "execution_count": 237,
      "outputs": [
        {
          "output_type": "stream",
          "text": [
            "=========0-th Fold Score: 1.8541244121704363\n",
            "=========1-th Fold Score: 1.7628343540605775\n",
            "=========2-th Fold Score: 1.8596724017532733\n",
            "=========3-th Fold Score: 1.954847619494546\n",
            "=========4-th Fold Score: 1.8335260209304425\n",
            "=========Total Score:  1.8530009616818552\n"
          ],
          "name": "stdout"
        }
      ]
    },
    {
      "cell_type": "code",
      "metadata": {
        "id": "UGgu3F70Eu_a",
        "colab_type": "code",
        "colab": {}
      },
      "source": [
        ""
      ],
      "execution_count": 0,
      "outputs": []
    },
    {
      "cell_type": "markdown",
      "metadata": {
        "id": "JgZLfcYr0pId",
        "colab_type": "text"
      },
      "source": [
        "### Evaluation"
      ]
    },
    {
      "cell_type": "code",
      "metadata": {
        "id": "5Mg_F22PgkXV",
        "colab_type": "code",
        "colab": {
          "base_uri": "https://localhost:8080/",
          "height": 340
        },
        "outputId": "c3dfda76-7731-4d9a-ed8f-e550ec87bf30"
      },
      "source": [
        "meta_tr.sample(10)"
      ],
      "execution_count": 199,
      "outputs": [
        {
          "output_type": "execute_result",
          "data": {
            "text/html": [
              "<div>\n",
              "<style scoped>\n",
              "    .dataframe tbody tr th:only-of-type {\n",
              "        vertical-align: middle;\n",
              "    }\n",
              "\n",
              "    .dataframe tbody tr th {\n",
              "        vertical-align: top;\n",
              "    }\n",
              "\n",
              "    .dataframe thead th {\n",
              "        text-align: right;\n",
              "    }\n",
              "</style>\n",
              "<table border=\"1\" class=\"dataframe\">\n",
              "  <thead>\n",
              "    <tr style=\"text-align: right;\">\n",
              "      <th></th>\n",
              "      <th>lr</th>\n",
              "      <th>el</th>\n",
              "      <th>rd</th>\n",
              "      <th>svm</th>\n",
              "      <th>knn</th>\n",
              "      <th>rf</th>\n",
              "      <th>val</th>\n",
              "    </tr>\n",
              "  </thead>\n",
              "  <tbody>\n",
              "    <tr>\n",
              "      <th>1155</th>\n",
              "      <td>14.926999</td>\n",
              "      <td>14.922889</td>\n",
              "      <td>14.923255</td>\n",
              "      <td>15.950510</td>\n",
              "      <td>15.667919</td>\n",
              "      <td>15.419074</td>\n",
              "      <td>15.489411</td>\n",
              "    </tr>\n",
              "    <tr>\n",
              "      <th>375</th>\n",
              "      <td>17.181869</td>\n",
              "      <td>17.180912</td>\n",
              "      <td>17.183738</td>\n",
              "      <td>18.317912</td>\n",
              "      <td>17.053849</td>\n",
              "      <td>17.368149</td>\n",
              "      <td>16.670520</td>\n",
              "    </tr>\n",
              "    <tr>\n",
              "      <th>11</th>\n",
              "      <td>16.297211</td>\n",
              "      <td>16.307678</td>\n",
              "      <td>16.294363</td>\n",
              "      <td>16.862343</td>\n",
              "      <td>15.826167</td>\n",
              "      <td>16.195630</td>\n",
              "      <td>16.935319</td>\n",
              "    </tr>\n",
              "    <tr>\n",
              "      <th>1511</th>\n",
              "      <td>19.619287</td>\n",
              "      <td>19.595060</td>\n",
              "      <td>19.552263</td>\n",
              "      <td>19.420113</td>\n",
              "      <td>19.263075</td>\n",
              "      <td>19.202540</td>\n",
              "      <td>19.738573</td>\n",
              "    </tr>\n",
              "    <tr>\n",
              "      <th>2737</th>\n",
              "      <td>19.903847</td>\n",
              "      <td>19.920330</td>\n",
              "      <td>19.969632</td>\n",
              "      <td>20.293922</td>\n",
              "      <td>20.441823</td>\n",
              "      <td>20.547566</td>\n",
              "      <td>20.596199</td>\n",
              "    </tr>\n",
              "    <tr>\n",
              "      <th>2092</th>\n",
              "      <td>13.230618</td>\n",
              "      <td>13.256420</td>\n",
              "      <td>13.260161</td>\n",
              "      <td>13.715716</td>\n",
              "      <td>13.168084</td>\n",
              "      <td>13.868427</td>\n",
              "      <td>12.032796</td>\n",
              "    </tr>\n",
              "    <tr>\n",
              "      <th>2964</th>\n",
              "      <td>14.546862</td>\n",
              "      <td>14.567933</td>\n",
              "      <td>14.650791</td>\n",
              "      <td>15.597871</td>\n",
              "      <td>15.489470</td>\n",
              "      <td>14.876469</td>\n",
              "      <td>13.286597</td>\n",
              "    </tr>\n",
              "    <tr>\n",
              "      <th>1860</th>\n",
              "      <td>15.915604</td>\n",
              "      <td>15.923478</td>\n",
              "      <td>15.883350</td>\n",
              "      <td>14.393277</td>\n",
              "      <td>15.962716</td>\n",
              "      <td>15.843633</td>\n",
              "      <td>13.247651</td>\n",
              "    </tr>\n",
              "    <tr>\n",
              "      <th>1438</th>\n",
              "      <td>15.771919</td>\n",
              "      <td>15.744215</td>\n",
              "      <td>15.702147</td>\n",
              "      <td>15.779463</td>\n",
              "      <td>15.934902</td>\n",
              "      <td>15.891373</td>\n",
              "      <td>14.715630</td>\n",
              "    </tr>\n",
              "    <tr>\n",
              "      <th>1483</th>\n",
              "      <td>17.198583</td>\n",
              "      <td>17.191760</td>\n",
              "      <td>17.142332</td>\n",
              "      <td>16.242053</td>\n",
              "      <td>16.939270</td>\n",
              "      <td>17.111888</td>\n",
              "      <td>18.195033</td>\n",
              "    </tr>\n",
              "  </tbody>\n",
              "</table>\n",
              "</div>"
            ],
            "text/plain": [
              "             lr         el         rd  ...        knn         rf        val\n",
              "1155  14.926999  14.922889  14.923255  ...  15.667919  15.419074  15.489411\n",
              "375   17.181869  17.180912  17.183738  ...  17.053849  17.368149  16.670520\n",
              "11    16.297211  16.307678  16.294363  ...  15.826167  16.195630  16.935319\n",
              "1511  19.619287  19.595060  19.552263  ...  19.263075  19.202540  19.738573\n",
              "2737  19.903847  19.920330  19.969632  ...  20.441823  20.547566  20.596199\n",
              "2092  13.230618  13.256420  13.260161  ...  13.168084  13.868427  12.032796\n",
              "2964  14.546862  14.567933  14.650791  ...  15.489470  14.876469  13.286597\n",
              "1860  15.915604  15.923478  15.883350  ...  15.962716  15.843633  13.247651\n",
              "1438  15.771919  15.744215  15.702147  ...  15.934902  15.891373  14.715630\n",
              "1483  17.198583  17.191760  17.142332  ...  16.939270  17.111888  18.195033\n",
              "\n",
              "[10 rows x 7 columns]"
            ]
          },
          "metadata": {
            "tags": []
          },
          "execution_count": 199
        }
      ]
    },
    {
      "cell_type": "code",
      "metadata": {
        "id": "1LlisN-0c29s",
        "colab_type": "code",
        "colab": {
          "base_uri": "https://localhost:8080/",
          "height": 500
        },
        "outputId": "1fbc751e-f00e-4b8d-e936-bde0e301ffac"
      },
      "source": [
        "fig, axes = plt.subplots(2, 3, figsize = (12, 8))\n",
        "\n",
        "for i, col in enumerate(meta_tr.columns[meta_tr.columns != 'val']):\n",
        "  sns.regplot(x = col, y = 'val', data = meta_tr, ax = axes[i//3, i%3])"
      ],
      "execution_count": 207,
      "outputs": [
        {
          "output_type": "display_data",
          "data": {
            "image/png": "[encoded data removed]",
            "text/plain": [
              "<Figure size 864x576 with 6 Axes>"
            ]
          },
          "metadata": {
            "tags": []
          }
        }
      ]
    },
    {
      "cell_type": "code",
      "metadata": {
        "id": "lgx4ylqLhUOP",
        "colab_type": "code",
        "colab": {}
      },
      "source": [
        "#final = (meta_te.lr + meta_te.el + meta_te.rf)/3\n",
        "final = (meta_te.lr + meta_te.el + meta_te.rd)/3"
      ],
      "execution_count": 0,
      "outputs": []
    },
    {
      "cell_type": "markdown",
      "metadata": {
        "id": "aCBXfjcDhhVj",
        "colab_type": "text"
      },
      "source": [
        "## 3rd Layer Modeling"
      ]
    },
    {
      "cell_type": "code",
      "metadata": {
        "id": "Eo2lh6eghhF0",
        "colab_type": "code",
        "colab": {}
      },
      "source": [
        "y = meta_tr.val\n",
        "X_tr = meta_tr.drop('val', axis = 1)\n",
        "\n",
        "te = meta_te"
      ],
      "execution_count": 0,
      "outputs": []
    },
    {
      "cell_type": "code",
      "metadata": {
        "id": "Kp2AyU2ThqV7",
        "colab_type": "code",
        "colab": {}
      },
      "source": [
        "# Create meta-train set\n",
        "nrow = X.shape[0]\n",
        "ncol = 3\n",
        "dims = np.zeros((nrow, ncol))\n",
        "\n",
        "meta_tr = pd.DataFrame(dims, columns = ['lr', 'knn', 'rf'])\n",
        "meta_tr['val'] = 0\n",
        "\n",
        "# Create meta-test set\n",
        "nrow = te.shape[0]\n",
        "dims = np.zeros((nrow, ncol))\n",
        "meta_te = pd.DataFrame(dims, columns = ['lr', 'knn', 'rf'])\n",
        "\n",
        "# Cross Validation\n",
        "k = 5\n",
        "seed = 10\n",
        "cv = KFold(n_splits = k, shuffle = True, random_state = seed)"
      ],
      "execution_count": 0,
      "outputs": []
    },
    {
      "cell_type": "code",
      "metadata": {
        "id": "eQWc8lHohqNJ",
        "colab_type": "code",
        "colab": {
          "base_uri": "https://localhost:8080/",
          "height": 301
        },
        "outputId": "8697bfcf-6984-4264-a913-9d1caf6eeae9"
      },
      "source": [
        "model_lr = LinearRegression()\n",
        "kfold_validate(X_tr, y, te, model_lr, 'lr')"
      ],
      "execution_count": 218,
      "outputs": [
        {
          "output_type": "stream",
          "text": [
            "=========0-th Fold Score: 1.8655442095669288\n",
            "=========1-th Fold Score: 1.740358957605179\n",
            "=========2-th Fold Score: 1.8505441601852337\n"
          ],
          "name": "stdout"
        },
        {
          "output_type": "stream",
          "text": [
            "/usr/local/lib/python3.6/dist-packages/ipykernel_launcher.py:12: SettingWithCopyWarning: \n",
            "A value is trying to be set on a copy of a slice from a DataFrame\n",
            "\n",
            "See the caveats in the documentation: http://pandas.pydata.org/pandas-docs/stable/indexing.html#indexing-view-versus-copy\n",
            "  if sys.path[0] == '':\n",
            "/usr/local/lib/python3.6/dist-packages/ipykernel_launcher.py:13: SettingWithCopyWarning: \n",
            "A value is trying to be set on a copy of a slice from a DataFrame\n",
            "\n",
            "See the caveats in the documentation: http://pandas.pydata.org/pandas-docs/stable/indexing.html#indexing-view-versus-copy\n",
            "  del sys.path[0]\n"
          ],
          "name": "stderr"
        },
        {
          "output_type": "stream",
          "text": [
            "=========3-th Fold Score: 1.9502846992106584\n",
            "=========4-th Fold Score: 1.801127603009748\n",
            "=========Total Score:  1.8415719259155494\n"
          ],
          "name": "stdout"
        }
      ]
    },
    {
      "cell_type": "code",
      "metadata": {
        "id": "YoDCHD3cjZJQ",
        "colab_type": "code",
        "colab": {
          "base_uri": "https://localhost:8080/",
          "height": 124
        },
        "outputId": "932acd9c-1e0d-40f4-9d3d-79f2bb860f04"
      },
      "source": [
        "model_knn = KNeighborsRegressor(n_neighbors = 30, weights = 'distance', p = 1)\n",
        "kfold_validate(X_tr, y, te, model_knn, 'knn')"
      ],
      "execution_count": 220,
      "outputs": [
        {
          "output_type": "stream",
          "text": [
            "=========0-th Fold Score: 1.9100963197361427\n",
            "=========1-th Fold Score: 1.8386770297037158\n",
            "=========2-th Fold Score: 1.8421032513580629\n",
            "=========3-th Fold Score: 1.9838250696648594\n",
            "=========4-th Fold Score: 1.8312264139134866\n",
            "=========Total Score:  1.8811856168752534\n"
          ],
          "name": "stdout"
        }
      ]
    },
    {
      "cell_type": "code",
      "metadata": {
        "id": "K_r7qWpehhAo",
        "colab_type": "code",
        "colab": {
          "base_uri": "https://localhost:8080/",
          "height": 124
        },
        "outputId": "028e58e9-9a50-4760-ff89-26599ae5c0f7"
      },
      "source": [
        "model_rf = RandomForestRegressor(n_estimators = 1000, max_depth = 5)\n",
        "kfold_validate(X_tr, y, te, model_rf, 'rf')"
      ],
      "execution_count": 222,
      "outputs": [
        {
          "output_type": "stream",
          "text": [
            "=========0-th Fold Score: 1.8682227214691538\n",
            "=========1-th Fold Score: 1.789324168702125\n",
            "=========2-th Fold Score: 1.8712203220673251\n",
            "=========3-th Fold Score: 1.9944504239159673\n",
            "=========4-th Fold Score: 1.7677073515245634\n",
            "=========Total Score:  1.858184997535827\n"
          ],
          "name": "stdout"
        }
      ]
    },
    {
      "cell_type": "code",
      "metadata": {
        "id": "OZabt3TAp-Fw",
        "colab_type": "code",
        "colab": {}
      },
      "source": [
        "# Averaging the final result\n",
        "final = (meta_te.lr + meta_te.knn + meta_te.rf)/3"
      ],
      "execution_count": 0,
      "outputs": []
    },
    {
      "cell_type": "markdown",
      "metadata": {
        "id": "0bP7wUg5c26a",
        "colab_type": "text"
      },
      "source": [
        "## Submission"
      ]
    },
    {
      "cell_type": "code",
      "metadata": {
        "id": "ro-_yBr6c5X2",
        "colab_type": "code",
        "colab": {}
      },
      "source": [
        "sub = pd.read_csv('sample_submission.csv')\n",
        "sub['revenue'] = np.expm1(final)\n",
        "\n",
        "name = 'mysub'\n",
        "sub.to_csv(name + '.csv', index = False)\n",
        "files.download('mysub.csv')"
      ],
      "execution_count": 0,
      "outputs": []
    },
    {
      "cell_type": "code",
      "metadata": {
        "id": "X4WmTEQZc22m",
        "colab_type": "code",
        "colab": {
          "base_uri": "https://localhost:8080/",
          "height": 35
        },
        "outputId": "322f8d61-88b8-4f6b-e62a-fe133dfe1df7"
      },
      "source": [
        "sub.shape"
      ],
      "execution_count": 240,
      "outputs": [
        {
          "output_type": "execute_result",
          "data": {
            "text/plain": [
              "(4398, 2)"
            ]
          },
          "metadata": {
            "tags": []
          },
          "execution_count": 240
        }
      ]
    },
    {
      "cell_type": "code",
      "metadata": {
        "id": "k5NAuinHc2T6",
        "colab_type": "code",
        "colab": {}
      },
      "source": [
        ""
      ],
      "execution_count": 0,
      "outputs": []
    }
  ]
}