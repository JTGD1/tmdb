{
 "cells": [
  {
   "cell_type": "code",
   "execution_count": 0,
   "metadata": {
    "colab": {},
    "colab_type": "code",
    "id": "6btqYOvJuk8O"
   },
   "outputs": [],
   "source": [
    "import pandas as pd\n",
    "import numpy as np\n",
    "import math\n",
    "\n",
    "from sklearn.model_selection import train_test_split\n",
    "from sklearn.metrics import mean_squared_error\n",
    "from sklearn.metrics import mean_squared_log_error"
   ]
  },
  {
   "cell_type": "code",
   "execution_count": 0,
   "metadata": {
    "colab": {},
    "colab_type": "code",
    "id": "j40fXd2XjL_G"
   },
   "outputs": [],
   "source": [
    "# RMSLE in natural log \n",
    "def my_loss(pred, actual):\n",
    "  assert len(pred) == len(actual)\n",
    "  error2 = [(math.log(pred[i] + 1) - math.log(actual[i] - 1))**2 for i in len(pred)]\n",
    "  result = np.sqrt(np.sum(error2) / len(pred))\n",
    "  return result "
   ]
  },
  {
   "cell_type": "markdown",
   "metadata": {
    "colab_type": "text",
    "id": "7m-pRP_9u9pv"
   },
   "source": [
    "## Load the data"
   ]
  },
  {
   "cell_type": "code",
   "execution_count": 0,
   "metadata": {
    "colab": {},
    "colab_type": "code",
    "id": "6DezWX46uyac"
   },
   "outputs": [],
   "source": [
    "# Import the all dataset\n",
    "tr = pd.read_csv('train_2.csv')"
   ]
  },
  {
   "cell_type": "code",
   "execution_count": 0,
   "metadata": {
    "colab": {
     "base_uri": "https://localhost:8080/",
     "height": 33
    },
    "colab_type": "code",
    "id": "ng-ikYztvxtq",
    "outputId": "29a62df5-4c68-4026-c8a2-da4025204a0a"
   },
   "outputs": [
    {
     "data": {
      "text/plain": [
       "(3000, 353)"
      ]
     },
     "execution_count": 4,
     "metadata": {
      "tags": []
     },
     "output_type": "execute_result"
    }
   ],
   "source": [
    "tr.shape"
   ]
  },
  {
   "cell_type": "code",
   "execution_count": 0,
   "metadata": {
    "colab": {},
    "colab_type": "code",
    "id": "w2I1PLuHv2d4"
   },
   "outputs": [],
   "source": [
    "y = tr.revenue_log \n",
    "X = tr.drop('revenue_log', axis = 1)"
   ]
  },
  {
   "cell_type": "code",
   "execution_count": 0,
   "metadata": {
    "colab": {
     "base_uri": "https://localhost:8080/",
     "height": 33
    },
    "colab_type": "code",
    "id": "EKlZPwQQpaNG",
    "outputId": "af83a31e-261d-4989-f8eb-d85fa89ac82b"
   },
   "outputs": [
    {
     "data": {
      "text/plain": [
       "(3000, 352)"
      ]
     },
     "execution_count": 6,
     "metadata": {
      "tags": []
     },
     "output_type": "execute_result"
    }
   ],
   "source": [
    "X.shape"
   ]
  },
  {
   "cell_type": "code",
   "execution_count": 0,
   "metadata": {
    "colab": {
     "base_uri": "https://localhost:8080/",
     "height": 33
    },
    "colab_type": "code",
    "id": "OyVJf83zutrp",
    "outputId": "c9d10278-4044-4134-ab6d-161b58c93de3"
   },
   "outputs": [
    {
     "data": {
      "text/plain": [
       "(4398, 352)"
      ]
     },
     "execution_count": 7,
     "metadata": {
      "tags": []
     },
     "output_type": "execute_result"
    }
   ],
   "source": [
    "te = pd.read_csv('test_2.csv')\n",
    "te.shape"
   ]
  },
  {
   "cell_type": "code",
   "execution_count": 0,
   "metadata": {
    "colab": {
     "base_uri": "https://localhost:8080/",
     "height": 33
    },
    "colab_type": "code",
    "id": "PwtEmkEDpUs8",
    "outputId": "7a12c138-afcb-4ae0-a6ea-92945adb4ec9"
   },
   "outputs": [
    {
     "data": {
      "text/plain": [
       "(3000, 352)"
      ]
     },
     "execution_count": 9,
     "metadata": {
      "tags": []
     },
     "output_type": "execute_result"
    }
   ],
   "source": [
    "X.shape"
   ]
  },
  {
   "cell_type": "markdown",
   "metadata": {
    "colab_type": "text",
    "id": "daxlhYSVvD9D"
   },
   "source": [
    "## Additional preprocessing"
   ]
  },
  {
   "cell_type": "code",
   "execution_count": 0,
   "metadata": {
    "colab": {},
    "colab_type": "code",
    "id": "h3Fn09nPuzgR"
   },
   "outputs": [],
   "source": [
    "# Additional preprocessing (if neccesssary)\n",
    "# Dimension Reduction \n",
    "\n"
   ]
  },
  {
   "cell_type": "code",
   "execution_count": 0,
   "metadata": {
    "colab": {},
    "colab_type": "code",
    "id": "MbhQlzWBu0gc"
   },
   "outputs": [],
   "source": [
    "# Split into train and Valid set\n",
    "X_tr, X_val, y_tr, y_val = train_test_split(X, y, test_size = .2, random_state = 36)"
   ]
  },
  {
   "cell_type": "code",
   "execution_count": 0,
   "metadata": {
    "colab": {
     "base_uri": "https://localhost:8080/",
     "height": 67
    },
    "colab_type": "code",
    "id": "onngVTvh10YD",
    "outputId": "e0817ad6-33e4-4ac0-9870-493c45c45050"
   },
   "outputs": [
    {
     "name": "stdout",
     "output_type": "stream",
     "text": [
      "The size of the train set  (2400, 352)\n",
      "The size of the validation set  (600, 352)\n",
      "The size of the test set  (4398, 352)\n"
     ]
    }
   ],
   "source": [
    "print(\"The size of the train set \", X_tr.shape)\n",
    "print(\"The size of the validation set \", X_val.shape)\n",
    "print(\"The size of the test set \", te.shape)"
   ]
  },
  {
   "cell_type": "code",
   "execution_count": 0,
   "metadata": {
    "colab": {},
    "colab_type": "code",
    "id": "hSmGnpT_vtGb"
   },
   "outputs": [],
   "source": [
    "del tr, X, y, "
   ]
  },
  {
   "cell_type": "code",
   "execution_count": 0,
   "metadata": {
    "colab": {
     "base_uri": "https://localhost:8080/",
     "height": 134
    },
    "colab_type": "code",
    "id": "Qfbtr7Ciwu39",
    "outputId": "1e692ca7-a85a-4557-da5c-d21027f03770"
   },
   "outputs": [
    {
     "data": {
      "text/plain": [
       "Index(['runtime_h', 'runtime_m', 'runtime_log', 'budget_log', 'popularity_log',\n",
       "       'status', 'is_collection', 'is_homepage', 'n_genres', 'n_prod_comp',\n",
       "       ...\n",
       "       'crew_Camera', 'crew_Costume & Make-Up', 'crew_Crew', 'crew_Directing',\n",
       "       'crew_Editing', 'crew_Lighting', 'crew_Production', 'crew_Sound',\n",
       "       'crew_Visual Effects', 'crew_Writing'],\n",
       "      dtype='object', length=352)"
      ]
     },
     "execution_count": 13,
     "metadata": {
      "tags": []
     },
     "output_type": "execute_result"
    }
   ],
   "source": [
    "X_tr.columns"
   ]
  },
  {
   "cell_type": "code",
   "execution_count": 0,
   "metadata": {
    "colab": {},
    "colab_type": "code",
    "id": "6qva76NDwuwd"
   },
   "outputs": [],
   "source": []
  },
  {
   "cell_type": "code",
   "execution_count": 0,
   "metadata": {
    "colab": {},
    "colab_type": "code",
    "id": "pr6hPyYQwups"
   },
   "outputs": [],
   "source": []
  },
  {
   "cell_type": "markdown",
   "metadata": {
    "colab_type": "text",
    "id": "6NXG_DRju2JU"
   },
   "source": [
    "### 1. Elastic-Net"
   ]
  },
  {
   "cell_type": "code",
   "execution_count": 0,
   "metadata": {
    "colab": {},
    "colab_type": "code",
    "id": "aae8jF9Y9Zh3"
   },
   "outputs": [],
   "source": [
    "X_tr.fillna(-1, inplace = True)\n",
    "X_val.fillna(-1, inplace = True)\n",
    "te.fillna(-1, inplace = True)"
   ]
  },
  {
   "cell_type": "code",
   "execution_count": 0,
   "metadata": {
    "colab": {
     "base_uri": "https://localhost:8080/",
     "height": 67
    },
    "colab_type": "code",
    "id": "FvMSkEpElDLZ",
    "outputId": "7e242d0c-96c1-4fef-cbc5-9b9d4c983cfd"
   },
   "outputs": [
    {
     "data": {
      "text/plain": [
       "ElasticNet(alpha=0.03, copy_X=True, fit_intercept=True, l1_ratio=0.05,\n",
       "      max_iter=2000, normalize=False, positive=False, precompute=False,\n",
       "      random_state=None, selection='cyclic', tol=0.0001, warm_start=False)"
      ]
     },
     "execution_count": 74,
     "metadata": {
      "tags": []
     },
     "output_type": "execute_result"
    }
   ],
   "source": [
    "from sklearn.linear_model import ElasticNet \n",
    "model_el = ElasticNet(alpha = .03, l1_ratio = .05, max_iter = 2000)\n",
    "model_el.fit(X_tr, y_tr)"
   ]
  },
  {
   "cell_type": "code",
   "execution_count": 0,
   "metadata": {
    "colab": {},
    "colab_type": "code",
    "id": "qPu4281slDG0"
   },
   "outputs": [],
   "source": [
    "el_pred = model_el.predict(X_val)"
   ]
  },
  {
   "cell_type": "code",
   "execution_count": 0,
   "metadata": {
    "colab": {
     "base_uri": "https://localhost:8080/",
     "height": 33
    },
    "colab_type": "code",
    "id": "-powcJcxlDC2",
    "outputId": "2bc435d8-44fa-405f-8511-34c7a48f97e3"
   },
   "outputs": [
    {
     "data": {
      "text/plain": [
       "2.1266072116373356"
      ]
     },
     "execution_count": 76,
     "metadata": {
      "tags": []
     },
     "output_type": "execute_result"
    }
   ],
   "source": [
    "np.sqrt(mean_squared_error(y_val, el_pred))"
   ]
  },
  {
   "cell_type": "code",
   "execution_count": 0,
   "metadata": {
    "colab": {},
    "colab_type": "code",
    "id": "qyeUSaT6uLtx"
   },
   "outputs": [],
   "source": [
    "# 1st try: 2.1347\n",
    "# 2nd try: 2.1266"
   ]
  },
  {
   "cell_type": "code",
   "execution_count": 0,
   "metadata": {
    "colab": {},
    "colab_type": "code",
    "id": "AuDlwWWLuLll"
   },
   "outputs": [],
   "source": [
    "my_loss()"
   ]
  },
  {
   "cell_type": "code",
   "execution_count": 0,
   "metadata": {
    "colab": {},
    "colab_type": "code",
    "id": "y9gfh98YuLhX"
   },
   "outputs": [],
   "source": []
  },
  {
   "cell_type": "markdown",
   "metadata": {
    "colab_type": "text",
    "id": "EiFU3SdAu3s0"
   },
   "source": [
    "### 2. Random Forest \n"
   ]
  },
  {
   "cell_type": "code",
   "execution_count": 0,
   "metadata": {
    "colab": {
     "base_uri": "https://localhost:8080/",
     "height": 126
    },
    "colab_type": "code",
    "id": "uhRYBiWdrVcc",
    "outputId": "7fe8677d-afaa-40a1-9e53-ba7713ec719a"
   },
   "outputs": [
    {
     "data": {
      "text/plain": [
       "RandomForestRegressor(bootstrap=True, criterion='mse', max_depth=5,\n",
       "           max_features='auto', max_leaf_nodes=None,\n",
       "           min_impurity_decrease=0.0, min_impurity_split=None,\n",
       "           min_samples_leaf=0.3, min_samples_split=0.7,\n",
       "           min_weight_fraction_leaf=0.0, n_estimators=10000, n_jobs=None,\n",
       "           oob_score=False, random_state=None, verbose=0, warm_start=False)"
      ]
     },
     "execution_count": 97,
     "metadata": {
      "tags": []
     },
     "output_type": "execute_result"
    }
   ],
   "source": [
    "from sklearn.ensemble import RandomForestRegressor\n",
    "model_rf = RandomForestRegressor(n_estimators= 10000, \n",
    "                                 max_depth = 5, \n",
    "                                 min_samples_split = .7, \n",
    "                                 min_samples_leaf = .3)\n",
    "model_rf.fit(X_tr, y_tr)"
   ]
  },
  {
   "cell_type": "code",
   "execution_count": 0,
   "metadata": {
    "colab": {},
    "colab_type": "code",
    "id": "qHLDgBCBbBqm"
   },
   "outputs": [],
   "source": [
    "y_pred = model_rf.predict(X_val)"
   ]
  },
  {
   "cell_type": "code",
   "execution_count": 0,
   "metadata": {
    "colab": {
     "base_uri": "https://localhost:8080/",
     "height": 35
    },
    "colab_type": "code",
    "id": "hoNBwRuWbI6o",
    "outputId": "dcb71e15-32e6-428c-8939-cf45d32f5cd2"
   },
   "outputs": [
    {
     "data": {
      "text/plain": [
       "2.941005964839086"
      ]
     },
     "execution_count": 99,
     "metadata": {
      "tags": []
     },
     "output_type": "execute_result"
    }
   ],
   "source": [
    "np.sqrt(mean_squared_error(y_val, y_pred))"
   ]
  },
  {
   "cell_type": "code",
   "execution_count": 0,
   "metadata": {
    "colab": {
     "base_uri": "https://localhost:8080/",
     "height": 198
    },
    "colab_type": "code",
    "id": "vqnGjj_XgORM",
    "outputId": "88a03363-82ca-41c2-a62f-474c1baae1ea"
   },
   "outputs": [
    {
     "data": {
      "text/html": [
       "<div>\n",
       "<style scoped>\n",
       "    .dataframe tbody tr th:only-of-type {\n",
       "        vertical-align: middle;\n",
       "    }\n",
       "\n",
       "    .dataframe tbody tr th {\n",
       "        vertical-align: top;\n",
       "    }\n",
       "\n",
       "    .dataframe thead th {\n",
       "        text-align: right;\n",
       "    }\n",
       "</style>\n",
       "<table border=\"1\" class=\"dataframe\">\n",
       "  <thead>\n",
       "    <tr style=\"text-align: right;\">\n",
       "      <th></th>\n",
       "      <th>y_val</th>\n",
       "      <th>y_pred</th>\n",
       "    </tr>\n",
       "  </thead>\n",
       "  <tbody>\n",
       "    <tr>\n",
       "      <th>2135</th>\n",
       "      <td>20.767966</td>\n",
       "      <td>15.952474</td>\n",
       "    </tr>\n",
       "    <tr>\n",
       "      <th>2546</th>\n",
       "      <td>18.281419</td>\n",
       "      <td>15.952474</td>\n",
       "    </tr>\n",
       "    <tr>\n",
       "      <th>1770</th>\n",
       "      <td>15.765057</td>\n",
       "      <td>15.952474</td>\n",
       "    </tr>\n",
       "    <tr>\n",
       "      <th>2857</th>\n",
       "      <td>15.687313</td>\n",
       "      <td>15.952474</td>\n",
       "    </tr>\n",
       "    <tr>\n",
       "      <th>1536</th>\n",
       "      <td>16.588251</td>\n",
       "      <td>15.952474</td>\n",
       "    </tr>\n",
       "  </tbody>\n",
       "</table>\n",
       "</div>"
      ],
      "text/plain": [
       "          y_val     y_pred\n",
       "2135  20.767966  15.952474\n",
       "2546  18.281419  15.952474\n",
       "1770  15.765057  15.952474\n",
       "2857  15.687313  15.952474\n",
       "1536  16.588251  15.952474"
      ]
     },
     "execution_count": 100,
     "metadata": {
      "tags": []
     },
     "output_type": "execute_result"
    }
   ],
   "source": [
    "df = pd.DataFrame(columns = ['y_val', 'y_pred'])\n",
    "df.y_val = y_val\n",
    "df.y_pred = y_pred\n",
    "df.head()"
   ]
  },
  {
   "cell_type": "code",
   "execution_count": 0,
   "metadata": {
    "colab": {
     "base_uri": "https://localhost:8080/",
     "height": 303
    },
    "colab_type": "code",
    "id": "xcs77mtWhEXy",
    "outputId": "1d48f0cf-da0f-4e8a-b1e7-087a507dfcc1"
   },
   "outputs": [
    {
     "data": {
      "text/plain": [
       "<matplotlib.axes._subplots.AxesSubplot at 0x7f80ab273780>"
      ]
     },
     "execution_count": 101,
     "metadata": {
      "tags": []
     },
     "output_type": "execute_result"
    },
    {
     "data": {
      "image/png": "[encoded data removed]",
      "text/plain": [
       "<Figure size 432x288 with 1 Axes>"
      ]
     },
     "metadata": {
      "tags": []
     },
     "output_type": "display_data"
    }
   ],
   "source": [
    "df.plot.scatter(x = 'y_val', y = 'y_pred')"
   ]
  },
  {
   "cell_type": "code",
   "execution_count": 0,
   "metadata": {
    "colab": {},
    "colab_type": "code",
    "id": "ltk0rL0pgOME"
   },
   "outputs": [],
   "source": []
  },
  {
   "cell_type": "code",
   "execution_count": 0,
   "metadata": {
    "colab": {},
    "colab_type": "code",
    "id": "mWLDl0-rbIpW"
   },
   "outputs": [],
   "source": []
  },
  {
   "cell_type": "markdown",
   "metadata": {
    "colab_type": "text",
    "id": "aSOZ4TdgmRc6"
   },
   "source": [
    "### 3. Xgboost"
   ]
  },
  {
   "cell_type": "code",
   "execution_count": 0,
   "metadata": {
    "colab": {
     "base_uri": "https://localhost:8080/",
     "height": 187
    },
    "colab_type": "code",
    "id": "ZrwDjC2qmRYv",
    "outputId": "5743ed1d-cffb-4b5c-efbd-925ede417488"
   },
   "outputs": [
    {
     "name": "stderr",
     "output_type": "stream",
     "text": [
      "/usr/local/lib/python3.6/dist-packages/xgboost/core.py:587: FutureWarning: Series.base is deprecated and will be removed in a future version\n",
      "  if getattr(data, 'base', None) is not None and \\\n"
     ]
    },
    {
     "data": {
      "text/plain": [
       "XGBRegressor(base_score=0.5, booster='gbtree', colsample_bylevel=0.5,\n",
       "       colsample_bytree=0.7, early_stopping_rounds=200, gamma=1.5,\n",
       "       importance_type='gain', learning_rate=0.01, max_delta_step=0,\n",
       "       max_depth=7, min_child_weight=1, missing=None, n_estimators=10000,\n",
       "       n_jobs=1, nthread=None, objective='reg:linear', random_state=0,\n",
       "       reg_alpha=0, reg_lambda=1, scale_pos_weight=1, seed=None,\n",
       "       silent=True, subsample=0.7)"
      ]
     },
     "execution_count": 17,
     "metadata": {
      "tags": []
     },
     "output_type": "execute_result"
    }
   ],
   "source": [
    "import xgboost as xgb\n",
    "model_xg = xgb.XGBRegressor(objective = 'reg:linear',\n",
    "                            max_depth = 7, \n",
    "                            learning_rate = 0.01, \n",
    "                            n_estimators = 10000, \n",
    "                            early_stopping_rounds = 200,\n",
    "                            gamma = 1.5,  \n",
    "                            silent = True,\n",
    "                            subsample = 0.7, \n",
    "                            colsample_bytree = 0.7, \n",
    "                            colsample_bylevel = 0.5)\n",
    "model_xg.fit(X_tr, y_tr)"
   ]
  },
  {
   "cell_type": "code",
   "execution_count": 0,
   "metadata": {
    "colab": {},
    "colab_type": "code",
    "id": "bxIUoBqLmRUw"
   },
   "outputs": [],
   "source": [
    "xg_pred = model_xg.predict(X_val)"
   ]
  },
  {
   "cell_type": "code",
   "execution_count": 0,
   "metadata": {
    "colab": {
     "base_uri": "https://localhost:8080/",
     "height": 33
    },
    "colab_type": "code",
    "id": "EiB1vc8EmRQj",
    "outputId": "9ad73ef4-1b7e-44fb-e185-3d42b8d2add2"
   },
   "outputs": [
    {
     "data": {
      "text/plain": [
       "1.9128539311894288"
      ]
     },
     "execution_count": 19,
     "metadata": {
      "tags": []
     },
     "output_type": "execute_result"
    }
   ],
   "source": [
    "np.sqrt(mean_squared_error(y_val, xg_pred))"
   ]
  },
  {
   "cell_type": "code",
   "execution_count": 0,
   "metadata": {
    "colab": {},
    "colab_type": "code",
    "id": "u3G-BVqSmRMf"
   },
   "outputs": [],
   "source": [
    "# 1st try: 1.92025\n",
    "# 2nd try: 1.91285"
   ]
  },
  {
   "cell_type": "code",
   "execution_count": 0,
   "metadata": {
    "colab": {},
    "colab_type": "code",
    "id": "vpjxu4AJmRIg"
   },
   "outputs": [],
   "source": []
  },
  {
   "cell_type": "markdown",
   "metadata": {
    "colab_type": "text",
    "id": "fbeIIJLou4SO"
   },
   "source": [
    "### 4. Catboost"
   ]
  },
  {
   "cell_type": "code",
   "execution_count": 0,
   "metadata": {
    "colab": {},
    "colab_type": "code",
    "id": "evnNgmn1vXHy"
   },
   "outputs": [],
   "source": [
    "from catboost import CatBoostRegressor"
   ]
  },
  {
   "cell_type": "code",
   "execution_count": 0,
   "metadata": {
    "colab": {},
    "colab_type": "code",
    "id": "66uB1vQajEAt"
   },
   "outputs": [],
   "source": [
    "model_cb = CatBoostRegressor(iterations = 10000,\n",
    "                             depth = 7,\n",
    "                             eval_metric = 'RMSE',\n",
    "                             learning_rate = .01,\n",
    "                             subsample = 0.7, \n",
    "                             colsample_bytree = 0.7,\n",
    "                             colsample_bylevel = .5,\n",
    "                             bagging_temperature = .2, \n",
    "                             early_stopping_rounds = 200,\n",
    "                             logging_level = 'Silent')\n",
    "model_cb.fit(X_tr, y_tr, plot = True)"
   ]
  },
  {
   "cell_type": "code",
   "execution_count": 0,
   "metadata": {
    "colab": {},
    "colab_type": "code",
    "id": "aOQaWZMpkVYK"
   },
   "outputs": [],
   "source": [
    "cb_pred = model_cb.predict(X_val)"
   ]
  },
  {
   "cell_type": "code",
   "execution_count": 0,
   "metadata": {
    "colab": {
     "base_uri": "https://localhost:8080/",
     "height": 33
    },
    "colab_type": "code",
    "id": "a_W21yzhkVTu",
    "outputId": "82d8604b-cbd6-4369-a8eb-579d67621635"
   },
   "outputs": [
    {
     "data": {
      "text/plain": [
       "1.8779128888749124"
      ]
     },
     "execution_count": 26,
     "metadata": {
      "tags": []
     },
     "output_type": "execute_result"
    }
   ],
   "source": [
    "np.sqrt(mean_squared_error(y_val, cb_pred))"
   ]
  },
  {
   "cell_type": "code",
   "execution_count": 0,
   "metadata": {
    "colab": {},
    "colab_type": "code",
    "id": "Z7PFdJGnkVMQ"
   },
   "outputs": [],
   "source": [
    "# 1st try: 1.92189\n",
    "# 2nd try: 1.87791"
   ]
  },
  {
   "cell_type": "code",
   "execution_count": 0,
   "metadata": {
    "colab": {},
    "colab_type": "code",
    "id": "F70LE-vtkVHy"
   },
   "outputs": [],
   "source": []
  },
  {
   "cell_type": "markdown",
   "metadata": {
    "colab_type": "text",
    "id": "NY6rCN7PqLoT"
   },
   "source": [
    "### 4. Lightgbm"
   ]
  },
  {
   "cell_type": "code",
   "execution_count": 0,
   "metadata": {
    "colab": {},
    "colab_type": "code",
    "id": "Yi9I2Xn4qLk8"
   },
   "outputs": [],
   "source": [
    "import lightgbm as lgb"
   ]
  },
  {
   "cell_type": "code",
   "execution_count": 0,
   "metadata": {
    "colab": {},
    "colab_type": "code",
    "id": "p64muoC2qZky"
   },
   "outputs": [],
   "source": [
    "tr_data = lgb.Dataset(X_tr, label = y_tr)\n",
    "\n",
    "params = {'objective' : 'regression',\n",
    "          'max_depth' : 7,\n",
    "          #'num_leaves' : 30,\n",
    "          'learning_rate': 0.01,\n",
    "          'metric' : 'rmse',\n",
    "          'min_data_in_leaf' : 100,\n",
    "          'colsample_bytree': 0.7,\n",
    "          'subsample_freq': 1,\n",
    "          'lambda_l1' : 0.2,\n",
    "          #'lambda_l2' : .3\n",
    "          'subsample' : .7, \n",
    "          #\"bagging_seed\" : 42,\n",
    "          \"verbose\" : -1}\n",
    "\n",
    "hist = {}\n",
    "model_lg = lgb.train(params, tr_data, \n",
    "                     num_iteration = 10000, \n",
    "                     early_stopping_rounds = 200,\n",
    "                     callbacks = [lgb.record_evaluation(hist)])"
   ]
  },
  {
   "cell_type": "code",
   "execution_count": 0,
   "metadata": {
    "colab": {},
    "colab_type": "code",
    "id": "VSnyWtDn7Pvq"
   },
   "outputs": [],
   "source": [
    "pred_lg = model_lg.predict(X_val, num_iteration = model_lg.best_iteration)"
   ]
  },
  {
   "cell_type": "code",
   "execution_count": 0,
   "metadata": {
    "colab": {},
    "colab_type": "code",
    "id": "EDl3DE_mqKbo"
   },
   "outputs": [],
   "source": [
    "my_loss(pred_lg, actual)"
   ]
  },
  {
   "cell_type": "code",
   "execution_count": 0,
   "metadata": {
    "colab": {},
    "colab_type": "code",
    "id": "Zln7Mt34qKQI"
   },
   "outputs": [],
   "source": []
  },
  {
   "cell_type": "markdown",
   "metadata": {
    "colab_type": "text",
    "id": "DA6Ci1O1u4-f"
   },
   "source": [
    "### 5. Keras"
   ]
  },
  {
   "cell_type": "code",
   "execution_count": 0,
   "metadata": {
    "colab": {},
    "colab_type": "code",
    "id": "Do3dSm7nvdhj"
   },
   "outputs": [],
   "source": [
    "import keras\n",
    "from keras.models import Sequential\n",
    "from Keras.layers import Dense\n",
    "from keras.callbacks import EarlyStopping"
   ]
  },
  {
   "cell_type": "code",
   "execution_count": 0,
   "metadata": {
    "colab": {},
    "colab_type": "code",
    "id": "05uglOJ3ovNM"
   },
   "outputs": [],
   "source": [
    "#from keras.layers import Dropout, BatchNormalization \n",
    "\n",
    "#model.add(Dropout(.2))\n",
    "#model.add(BatchNormalization())"
   ]
  },
  {
   "cell_type": "code",
   "execution_count": 0,
   "metadata": {
    "colab": {},
    "colab_type": "code",
    "id": "ixLm8rtAmil7"
   },
   "outputs": [],
   "source": [
    "X_tr.shape[1]"
   ]
  },
  {
   "cell_type": "code",
   "execution_count": 0,
   "metadata": {
    "colab": {},
    "colab_type": "code",
    "id": "eoBcao8Pc4To"
   },
   "outputs": [],
   "source": [
    "# initialize the model\n",
    "model_ke = Sequential()\n",
    "\n",
    "# create hidden layers\n",
    "model_ke.add(Dense(input_dim = X_tr.shape[1], output_dim, \n",
    "                activation = 'relu'))\n",
    "model_ke.add(Dense(output_dim, activation = 'relu'))\n",
    "model_ke.add(Dense(output_dim = 1)) \n",
    "\n",
    "# compile: stochastic gradient descent\n",
    "model_ke.compile(optimizer = 'adam', \n",
    "              loss = 'mse', \n",
    "              metrics = ['mean_squared_logarithmic_error'])"
   ]
  },
  {
   "cell_type": "code",
   "execution_count": 0,
   "metadata": {
    "colab": {},
    "colab_type": "code",
    "id": "eH32NkwHn10R"
   },
   "outputs": [],
   "source": [
    "# early stopper \n",
    "early_stopper = EarlyStopping(patience = 5)\n",
    "\n",
    "r = model_ke.fit(X_tr, y_tr, \n",
    "                 batch_size = 100, \n",
    "                 n_epoch = 100,\n",
    "                 callbacks = [early_stopper])"
   ]
  },
  {
   "cell_type": "code",
   "execution_count": 0,
   "metadata": {
    "colab": {},
    "colab_type": "code",
    "id": "eeGu93Rdn1uy"
   },
   "outputs": [],
   "source": [
    "# prediction \n",
    "pred = model_ke.predict(X_val)"
   ]
  },
  {
   "cell_type": "code",
   "execution_count": 0,
   "metadata": {
    "colab": {},
    "colab_type": "code",
    "id": "cmXb0Gfvn1pj"
   },
   "outputs": [],
   "source": [
    "# plot the error\n",
    "plt.plot(r.history['loss'], label = 'train loss')\n",
    "plt.plot(r.history['val_loss'], label = 'test loss')\n",
    "plt.legend()\n",
    "plt.show()\n",
    "\n",
    "plt.plot(r.history['mean_squared_logarithmic_error'], label = 'train mse')\n",
    "plt.plot(r.history['val_mean_squared_logarithmic_error'], label = 'test mse')\n",
    "plt.legend()\n",
    "plt.show()"
   ]
  },
  {
   "cell_type": "code",
   "execution_count": 0,
   "metadata": {
    "colab": {},
    "colab_type": "code",
    "id": "Yj-p9b7ac4OX"
   },
   "outputs": [],
   "source": []
  },
  {
   "cell_type": "markdown",
   "metadata": {
    "colab_type": "text",
    "id": "yXy9DGjGu5pk"
   },
   "source": [
    "## Evaluation"
   ]
  },
  {
   "cell_type": "code",
   "execution_count": 0,
   "metadata": {
    "colab": {},
    "colab_type": "code",
    "id": "xPWPVxM9rTTN"
   },
   "outputs": [],
   "source": [
    "df_pred = pd.DataFrame()"
   ]
  },
  {
   "cell_type": "code",
   "execution_count": 0,
   "metadata": {
    "colab": {},
    "colab_type": "code",
    "id": "mHlGpkSwrTPN"
   },
   "outputs": [],
   "source": [
    "df_pred['el'] = model_el.predict(te)"
   ]
  },
  {
   "cell_type": "code",
   "execution_count": 0,
   "metadata": {
    "colab": {},
    "colab_type": "code",
    "id": "VBWe8iRHpnev"
   },
   "outputs": [],
   "source": [
    "df_pred['xg'] = model_xg.predict(te)\n",
    "df_pred['cb'] = model_cb.predict(te)"
   ]
  },
  {
   "cell_type": "code",
   "execution_count": 0,
   "metadata": {
    "colab": {},
    "colab_type": "code",
    "id": "W3PLSxMPqDX0"
   },
   "outputs": [],
   "source": [
    "df_pred['lg'] = model_lg.predict(te)"
   ]
  },
  {
   "cell_type": "code",
   "execution_count": 0,
   "metadata": {
    "colab": {},
    "colab_type": "code",
    "id": "YOCE-986prtL"
   },
   "outputs": [],
   "source": [
    "df_pred['ke'] = model_ke.predict(te)"
   ]
  },
  {
   "cell_type": "code",
   "execution_count": 0,
   "metadata": {
    "colab": {},
    "colab_type": "code",
    "id": "MANAnmawrTLO"
   },
   "outputs": [],
   "source": [
    "#df_pred['final'] = np.expm1(.2*df_pred.el + .5*df_pred.cb + .3*df_pred.xg)\n",
    "df_pred['final'] = np.expm1(.5*df_pred.cb + .5*df_pred.xg)"
   ]
  },
  {
   "cell_type": "code",
   "execution_count": 0,
   "metadata": {
    "colab": {
     "base_uri": "https://localhost:8080/",
     "height": 196
    },
    "colab_type": "code",
    "id": "Dv1-gu4UsF1s",
    "outputId": "14dd8f43-68bd-45e5-d1fb-b951232959e0"
   },
   "outputs": [
    {
     "data": {
      "text/html": [
       "<div>\n",
       "<style scoped>\n",
       "    .dataframe tbody tr th:only-of-type {\n",
       "        vertical-align: middle;\n",
       "    }\n",
       "\n",
       "    .dataframe tbody tr th {\n",
       "        vertical-align: top;\n",
       "    }\n",
       "\n",
       "    .dataframe thead th {\n",
       "        text-align: right;\n",
       "    }\n",
       "</style>\n",
       "<table border=\"1\" class=\"dataframe\">\n",
       "  <thead>\n",
       "    <tr style=\"text-align: right;\">\n",
       "      <th></th>\n",
       "      <th>xg</th>\n",
       "      <th>cb</th>\n",
       "      <th>final</th>\n",
       "      <th>el</th>\n",
       "    </tr>\n",
       "  </thead>\n",
       "  <tbody>\n",
       "    <tr>\n",
       "      <th>0</th>\n",
       "      <td>16.052170</td>\n",
       "      <td>15.547183</td>\n",
       "      <td>5.807170e+06</td>\n",
       "      <td>14.926807</td>\n",
       "    </tr>\n",
       "    <tr>\n",
       "      <th>1</th>\n",
       "      <td>13.687190</td>\n",
       "      <td>14.855867</td>\n",
       "      <td>1.817424e+06</td>\n",
       "      <td>14.394201</td>\n",
       "    </tr>\n",
       "    <tr>\n",
       "      <th>2</th>\n",
       "      <td>16.181671</td>\n",
       "      <td>15.821494</td>\n",
       "      <td>6.957021e+06</td>\n",
       "      <td>14.950067</td>\n",
       "    </tr>\n",
       "    <tr>\n",
       "      <th>3</th>\n",
       "      <td>15.788505</td>\n",
       "      <td>15.791989</td>\n",
       "      <td>7.713922e+06</td>\n",
       "      <td>16.129956</td>\n",
       "    </tr>\n",
       "    <tr>\n",
       "      <th>4</th>\n",
       "      <td>13.339710</td>\n",
       "      <td>13.354093</td>\n",
       "      <td>8.466378e+05</td>\n",
       "      <td>14.850349</td>\n",
       "    </tr>\n",
       "  </tbody>\n",
       "</table>\n",
       "</div>"
      ],
      "text/plain": [
       "          xg         cb         final         el\n",
       "0  16.052170  15.547183  5.807170e+06  14.926807\n",
       "1  13.687190  14.855867  1.817424e+06  14.394201\n",
       "2  16.181671  15.821494  6.957021e+06  14.950067\n",
       "3  15.788505  15.791989  7.713922e+06  16.129956\n",
       "4  13.339710  13.354093  8.466378e+05  14.850349"
      ]
     },
     "execution_count": 79,
     "metadata": {
      "tags": []
     },
     "output_type": "execute_result"
    }
   ],
   "source": [
    "df_pred.head()"
   ]
  },
  {
   "cell_type": "code",
   "execution_count": 0,
   "metadata": {
    "colab": {},
    "colab_type": "code",
    "id": "dsmiVi1LCEIV"
   },
   "outputs": [],
   "source": []
  },
  {
   "cell_type": "code",
   "execution_count": 0,
   "metadata": {
    "colab": {},
    "colab_type": "code",
    "id": "t8wzk_dhsFu5"
   },
   "outputs": [],
   "source": []
  },
  {
   "cell_type": "markdown",
   "metadata": {
    "colab_type": "text",
    "id": "I77UrPOWu8O8"
   },
   "source": [
    "### Submission"
   ]
  },
  {
   "cell_type": "code",
   "execution_count": 0,
   "metadata": {
    "colab": {
     "base_uri": "https://localhost:8080/",
     "height": 33
    },
    "colab_type": "code",
    "id": "wsaTISI3sB6r",
    "outputId": "9090d9f2-e34b-42ee-f09f-013aa32a3db3"
   },
   "outputs": [
    {
     "data": {
      "text/plain": [
       "(4398, 2)"
      ]
     },
     "execution_count": 80,
     "metadata": {
      "tags": []
     },
     "output_type": "execute_result"
    }
   ],
   "source": [
    "sub = pd.read_csv('sample_submission.csv')\n",
    "sub.shape"
   ]
  },
  {
   "cell_type": "code",
   "execution_count": 0,
   "metadata": {
    "colab": {
     "base_uri": "https://localhost:8080/",
     "height": 196
    },
    "colab_type": "code",
    "id": "I0LxrV5JsB2U",
    "outputId": "841126df-470d-4ff1-e130-14a4cd01ee67"
   },
   "outputs": [
    {
     "data": {
      "text/html": [
       "<div>\n",
       "<style scoped>\n",
       "    .dataframe tbody tr th:only-of-type {\n",
       "        vertical-align: middle;\n",
       "    }\n",
       "\n",
       "    .dataframe tbody tr th {\n",
       "        vertical-align: top;\n",
       "    }\n",
       "\n",
       "    .dataframe thead th {\n",
       "        text-align: right;\n",
       "    }\n",
       "</style>\n",
       "<table border=\"1\" class=\"dataframe\">\n",
       "  <thead>\n",
       "    <tr style=\"text-align: right;\">\n",
       "      <th></th>\n",
       "      <th>id</th>\n",
       "      <th>revenue</th>\n",
       "    </tr>\n",
       "  </thead>\n",
       "  <tbody>\n",
       "    <tr>\n",
       "      <th>0</th>\n",
       "      <td>3001</td>\n",
       "      <td>1000000</td>\n",
       "    </tr>\n",
       "    <tr>\n",
       "      <th>1</th>\n",
       "      <td>3002</td>\n",
       "      <td>1000000</td>\n",
       "    </tr>\n",
       "    <tr>\n",
       "      <th>2</th>\n",
       "      <td>3003</td>\n",
       "      <td>1000000</td>\n",
       "    </tr>\n",
       "    <tr>\n",
       "      <th>3</th>\n",
       "      <td>3004</td>\n",
       "      <td>1000000</td>\n",
       "    </tr>\n",
       "    <tr>\n",
       "      <th>4</th>\n",
       "      <td>3005</td>\n",
       "      <td>1000000</td>\n",
       "    </tr>\n",
       "  </tbody>\n",
       "</table>\n",
       "</div>"
      ],
      "text/plain": [
       "     id  revenue\n",
       "0  3001  1000000\n",
       "1  3002  1000000\n",
       "2  3003  1000000\n",
       "3  3004  1000000\n",
       "4  3005  1000000"
      ]
     },
     "execution_count": 81,
     "metadata": {
      "tags": []
     },
     "output_type": "execute_result"
    }
   ],
   "source": [
    "sub.head()"
   ]
  },
  {
   "cell_type": "code",
   "execution_count": 0,
   "metadata": {
    "colab": {},
    "colab_type": "code",
    "id": "4xQPZVP2sByO"
   },
   "outputs": [],
   "source": [
    "sub['revenue'] = df_pred.final"
   ]
  },
  {
   "cell_type": "code",
   "execution_count": 0,
   "metadata": {
    "colab": {},
    "colab_type": "code",
    "id": "tG1JEUIHBfwt"
   },
   "outputs": [],
   "source": []
  }
 ],
 "metadata": {
  "accelerator": "GPU",
  "colab": {
   "collapsed_sections": [],
   "name": "04_modeling.ipynb",
   "provenance": [],
   "version": "0.3.2"
  },
  "kernelspec": {
   "display_name": "Python 3",
   "language": "python",
   "name": "python3"
  },
  "language_info": {
   "codemirror_mode": {
    "name": "ipython",
    "version": 3
   },
   "file_extension": ".py",
   "mimetype": "text/x-python",
   "name": "python",
   "nbconvert_exporter": "python",
   "pygments_lexer": "ipython3",
   "version": "3.7.0"
  }
 },
 "nbformat": 4,
 "nbformat_minor": 1
}
