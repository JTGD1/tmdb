{
  "nbformat": 4,
  "nbformat_minor": 0,
  "metadata": {
    "colab": {
      "name": "04_modeling_4(+FE 3rd + stacking).ipynb",
      "version": "0.3.2",
      "provenance": [],
      "collapsed_sections": [],
      "toc_visible": true
    },
    "kernelspec": {
      "name": "python3",
      "display_name": "Python 3"
    },
    "accelerator": "GPU"
  },
  "cells": [
    {
      "cell_type": "code",
      "metadata": {
        "id": "6btqYOvJuk8O",
        "colab_type": "code",
        "colab": {}
      },
      "source": [
        "import pandas as pd\n",
        "import numpy as np\n",
        "import matplotlib.pyplot as plt\n",
        "import seaborn as sns\n",
        "%matplotlib inline\n",
        "import time \n",
        "import pickle\n",
        "\n",
        "from sklearn.model_selection import train_test_split, KFold, GridSearchCV\n",
        "from sklearn.metrics import mean_squared_error\n",
        "from sklearn.metrics import mean_squared_log_error\n",
        "\n",
        "from sklearn.decomposition import TruncatedSVD\n",
        "from sklearn.linear_model import ElasticNet\n",
        "from sklearn.neighbors import KNeighborsRegressor\n",
        "from sklearn.ensemble import RandomForestRegressor\n",
        "from sklearn.svm import SVR\n",
        "import xgboost as xgb\n",
        "\n",
        "from google.colab import files"
      ],
      "execution_count": 0,
      "outputs": []
    },
    {
      "cell_type": "code",
      "metadata": {
        "id": "39e4iggfbn01",
        "colab_type": "code",
        "colab": {}
      },
      "source": [
        "!pip install catboost\n",
        "from catboost import CatBoostRegressor"
      ],
      "execution_count": 0,
      "outputs": []
    },
    {
      "cell_type": "code",
      "metadata": {
        "id": "wW3Oy3M-boVm",
        "colab_type": "code",
        "colab": {}
      },
      "source": [
        "!pip install lightgbm --install-option=--gpu\n",
        "import lightgbm as lgb"
      ],
      "execution_count": 0,
      "outputs": []
    },
    {
      "cell_type": "code",
      "metadata": {
        "id": "j40fXd2XjL_G",
        "colab_type": "code",
        "colab": {}
      },
      "source": [
        "# RMSLE in natural log \n",
        "def my_loss(pred, actual):\n",
        "  assert len(pred) == len(actual)\n",
        "  error2 = [(math.log(pred[i] + 1) - math.log(actual[i] - 1))**2 for i in range(len(pred))]\n",
        "  result = np.sqrt(np.sum(error2) / len(pred))\n",
        "  return result "
      ],
      "execution_count": 0,
      "outputs": []
    },
    {
      "cell_type": "code",
      "metadata": {
        "id": "3vIEXWbQPPIz",
        "colab_type": "code",
        "colab": {}
      },
      "source": [
        "def get_loss(pred, actual):\n",
        "  log_mse = mean_squared_error(np.log1p(pred), np.log1p(actual))\n",
        "  result = np.sqrt(log_mse)\n",
        "  return result "
      ],
      "execution_count": 0,
      "outputs": []
    },
    {
      "cell_type": "code",
      "metadata": {
        "id": "SDOecXuhCiAF",
        "colab_type": "code",
        "colab": {}
      },
      "source": [
        "def get_loss(pred, actual):\n",
        "  return np.sqrt(mean_squared_error(actual, pred))"
      ],
      "execution_count": 0,
      "outputs": []
    },
    {
      "cell_type": "code",
      "metadata": {
        "id": "tL54ioQVK5h4",
        "colab_type": "code",
        "colab": {}
      },
      "source": [
        "seed = 2019  #42  #36"
      ],
      "execution_count": 0,
      "outputs": []
    },
    {
      "cell_type": "markdown",
      "metadata": {
        "id": "7m-pRP_9u9pv",
        "colab_type": "text"
      },
      "source": [
        "## Load the data"
      ]
    },
    {
      "cell_type": "code",
      "metadata": {
        "id": "6DezWX46uyac",
        "colab_type": "code",
        "colab": {}
      },
      "source": [
        "# Import the all dataset\n",
        "tr = pd.read_csv('train_3.csv')\n",
        "te = pd.read_csv('test_3.csv')"
      ],
      "execution_count": 0,
      "outputs": []
    },
    {
      "cell_type": "code",
      "metadata": {
        "id": "sQ4RyUCt1YKB",
        "colab_type": "code",
        "outputId": "13d42b4f-6fb4-43aa-868f-2394c8265ceb",
        "colab": {
          "base_uri": "https://localhost:8080/",
          "height": 141
        }
      },
      "source": [
        "print(\"NAs in train set\\n\", tr.isnull().sum()[tr.isnull().sum() != 0])\n",
        "print(\"NAs in test set\\n\", te.isnull().sum()[te.isnull().sum() != 0])"
      ],
      "execution_count": 0,
      "outputs": [
        {
          "output_type": "stream",
          "text": [
            "NAs in train set\n",
            " n_crew_profile    16\n",
            "dtype: int64\n",
            "NAs in test set\n",
            " n_crew_profile         22\n",
            "r_rating_totalVotes     1\n",
            "dtype: int64\n"
          ],
          "name": "stdout"
        }
      ]
    },
    {
      "cell_type": "code",
      "metadata": {
        "id": "rbQNhWYz_XlP",
        "colab_type": "code",
        "colab": {}
      },
      "source": [
        "# Fill in NA\n",
        "tr.n_crew_profile.fillna(0, inplace = True)\n",
        "te.n_crew_profile.fillna(0, inplace = True)"
      ],
      "execution_count": 0,
      "outputs": []
    },
    {
      "cell_type": "code",
      "metadata": {
        "id": "30PunGfqC4bX",
        "colab_type": "code",
        "colab": {}
      },
      "source": [
        "te.r_rating_totalVotes.fillna(0, inplace = True)"
      ],
      "execution_count": 0,
      "outputs": []
    },
    {
      "cell_type": "code",
      "metadata": {
        "id": "w2I1PLuHv2d4",
        "colab_type": "code",
        "colab": {}
      },
      "source": [
        "y = tr.revenue_log\n",
        "X = tr.drop('revenue_log', axis = 1)"
      ],
      "execution_count": 0,
      "outputs": []
    },
    {
      "cell_type": "code",
      "metadata": {
        "id": "MbhQlzWBu0gc",
        "colab_type": "code",
        "colab": {}
      },
      "source": [
        "# Split into train and Valid set\n",
        "X_tr, X_val, y_tr, y_val = train_test_split(X, y, test_size = .2, random_state = seed)"
      ],
      "execution_count": 0,
      "outputs": []
    },
    {
      "cell_type": "code",
      "metadata": {
        "id": "onngVTvh10YD",
        "colab_type": "code",
        "outputId": "f5679536-9904-4562-a0cf-58de79369b07",
        "colab": {
          "base_uri": "https://localhost:8080/",
          "height": 70
        }
      },
      "source": [
        "print(\"The size of the train set \", X_tr.shape)\n",
        "print(\"The size of the validation set \", X_val.shape)\n",
        "print(\"The size of the test set \", te.shape)"
      ],
      "execution_count": 0,
      "outputs": [
        {
          "output_type": "stream",
          "text": [
            "The size of the train set  (2400, 376)\n",
            "The size of the validation set  (600, 376)\n",
            "The size of the test set  (4398, 376)\n"
          ],
          "name": "stdout"
        }
      ]
    },
    {
      "cell_type": "code",
      "metadata": {
        "id": "hSmGnpT_vtGb",
        "colab_type": "code",
        "colab": {}
      },
      "source": [
        "#del tr, X, y, "
      ],
      "execution_count": 0,
      "outputs": []
    },
    {
      "cell_type": "code",
      "metadata": {
        "id": "Jy2ZnVUiUhVF",
        "colab_type": "code",
        "colab": {}
      },
      "source": [
        "df = pd.DataFrame()\n",
        "df['val'] = y_val"
      ],
      "execution_count": 0,
      "outputs": []
    },
    {
      "cell_type": "code",
      "metadata": {
        "id": "NerQJ-A4IkGm",
        "colab_type": "code",
        "outputId": "9b28d8cb-2692-4714-f76e-d8dfa9cf2d31",
        "colab": {
          "base_uri": "https://localhost:8080/",
          "height": 307
        }
      },
      "source": [
        "tr.iloc[:, :50].describe()"
      ],
      "execution_count": 0,
      "outputs": [
        {
          "output_type": "execute_result",
          "data": {
            "text/html": [
              "<div>\n",
              "<style scoped>\n",
              "    .dataframe tbody tr th:only-of-type {\n",
              "        vertical-align: middle;\n",
              "    }\n",
              "\n",
              "    .dataframe tbody tr th {\n",
              "        vertical-align: top;\n",
              "    }\n",
              "\n",
              "    .dataframe thead th {\n",
              "        text-align: right;\n",
              "    }\n",
              "</style>\n",
              "<table border=\"1\" class=\"dataframe\">\n",
              "  <thead>\n",
              "    <tr style=\"text-align: right;\">\n",
              "      <th></th>\n",
              "      <th>budget_log</th>\n",
              "      <th>popularity_log</th>\n",
              "      <th>runtime_h</th>\n",
              "      <th>runtime_log</th>\n",
              "      <th>runtime_m</th>\n",
              "      <th>status</th>\n",
              "      <th>is_collection</th>\n",
              "      <th>is_homepage</th>\n",
              "      <th>n_genres</th>\n",
              "      <th>n_prod_count</th>\n",
              "      <th>n_prod_comp</th>\n",
              "      <th>n_spoken_lang</th>\n",
              "      <th>cast_male</th>\n",
              "      <th>crew_male</th>\n",
              "      <th>n_crew_profile</th>\n",
              "      <th>year</th>\n",
              "      <th>month</th>\n",
              "      <th>day</th>\n",
              "      <th>weekofday</th>\n",
              "      <th>rating</th>\n",
              "      <th>n_cast_log</th>\n",
              "      <th>n_crew_log</th>\n",
              "      <th>popularity2_log</th>\n",
              "      <th>totalVotes_log</th>\n",
              "      <th>popularity_diff_log</th>\n",
              "      <th>r_runtime_rating</th>\n",
              "      <th>r_rating_totalVotes</th>\n",
              "      <th>r_budget_rating</th>\n",
              "      <th>r_popularity_totalVotes</th>\n",
              "      <th>r_popularity_rating</th>\n",
              "      <th>r_popularity_ngenres</th>\n",
              "      <th>r_popularity_n_cast</th>\n",
              "      <th>r_budget_totalVotes</th>\n",
              "      <th>r_budget_runtime</th>\n",
              "      <th>r_budget_year</th>\n",
              "      <th>r_totalVotes_year</th>\n",
              "      <th>r_rating_year</th>\n",
              "      <th>r_rating_year2</th>\n",
              "      <th>m_rating_totalVotes</th>\n",
              "      <th>m_year_popularity</th>\n",
              "      <th>m_year_budget</th>\n",
              "      <th>m_year_totalVotes_log</th>\n",
              "      <th>m_year_rating</th>\n",
              "      <th>m_year_runtime</th>\n",
              "      <th>m_year_n_crew_log</th>\n",
              "      <th>m_weekofday_budget</th>\n",
              "      <th>_genres_Action</th>\n",
              "      <th>_genres_Adventure</th>\n",
              "      <th>_genres_Animation</th>\n",
              "      <th>_genres_Biography</th>\n",
              "    </tr>\n",
              "  </thead>\n",
              "  <tbody>\n",
              "    <tr>\n",
              "      <th>count</th>\n",
              "      <td>3000.000000</td>\n",
              "      <td>3.000000e+03</td>\n",
              "      <td>3000.000000</td>\n",
              "      <td>3000.000000</td>\n",
              "      <td>3000.000000</td>\n",
              "      <td>3000.000000</td>\n",
              "      <td>3000.000000</td>\n",
              "      <td>3000.000000</td>\n",
              "      <td>3000.000000</td>\n",
              "      <td>3000.000000</td>\n",
              "      <td>3000.000000</td>\n",
              "      <td>3000.000000</td>\n",
              "      <td>3000.000000</td>\n",
              "      <td>3000.000000</td>\n",
              "      <td>3000.000000</td>\n",
              "      <td>3000.000000</td>\n",
              "      <td>3000.000000</td>\n",
              "      <td>3000.000000</td>\n",
              "      <td>3000.000000</td>\n",
              "      <td>3000.000000</td>\n",
              "      <td>3000.000000</td>\n",
              "      <td>3000.000000</td>\n",
              "      <td>3000.000000</td>\n",
              "      <td>3000.000000</td>\n",
              "      <td>3000.000000</td>\n",
              "      <td>3000.000000</td>\n",
              "      <td>3000.000000</td>\n",
              "      <td>3.000000e+03</td>\n",
              "      <td>3000.000000</td>\n",
              "      <td>3000.000000</td>\n",
              "      <td>3.000000e+03</td>\n",
              "      <td>3.000000e+03</td>\n",
              "      <td>3.000000e+03</td>\n",
              "      <td>3.000000e+03</td>\n",
              "      <td>3.000000e+03</td>\n",
              "      <td>3000.000000</td>\n",
              "      <td>3000.000000</td>\n",
              "      <td>3000.000000</td>\n",
              "      <td>3000.000000</td>\n",
              "      <td>3000.000000</td>\n",
              "      <td>3.000000e+03</td>\n",
              "      <td>3000.000000</td>\n",
              "      <td>3000.000000</td>\n",
              "      <td>3000.000000</td>\n",
              "      <td>3000.000000</td>\n",
              "      <td>3.000000e+03</td>\n",
              "      <td>3000.000000</td>\n",
              "      <td>3000.000000</td>\n",
              "      <td>3000.000000</td>\n",
              "      <td>3000.0</td>\n",
              "    </tr>\n",
              "    <tr>\n",
              "      <th>mean</th>\n",
              "      <td>11.961359</td>\n",
              "      <td>1.975396e+00</td>\n",
              "      <td>1.239667</td>\n",
              "      <td>4.655350</td>\n",
              "      <td>-0.022999</td>\n",
              "      <td>1.001333</td>\n",
              "      <td>0.201333</td>\n",
              "      <td>0.315333</td>\n",
              "      <td>2.508000</td>\n",
              "      <td>1.351333</td>\n",
              "      <td>2.836667</td>\n",
              "      <td>1.459000</td>\n",
              "      <td>0.229156</td>\n",
              "      <td>0.091542</td>\n",
              "      <td>0.295459</td>\n",
              "      <td>1999.713000</td>\n",
              "      <td>6.775333</td>\n",
              "      <td>15.046333</td>\n",
              "      <td>3.269333</td>\n",
              "      <td>6.115900</td>\n",
              "      <td>2.845370</td>\n",
              "      <td>2.749341</td>\n",
              "      <td>2.004640</td>\n",
              "      <td>5.406852</td>\n",
              "      <td>0.297523</td>\n",
              "      <td>-0.074844</td>\n",
              "      <td>0.099161</td>\n",
              "      <td>3.885689e+06</td>\n",
              "      <td>3.431457</td>\n",
              "      <td>0.502601</td>\n",
              "      <td>3.988243e+00</td>\n",
              "      <td>6.263061e-01</td>\n",
              "      <td>8.985388e+04</td>\n",
              "      <td>2.116568e+05</td>\n",
              "      <td>2.706289e+05</td>\n",
              "      <td>0.074753</td>\n",
              "      <td>0.003059</td>\n",
              "      <td>0.088497</td>\n",
              "      <td>5.410665</td>\n",
              "      <td>8.512923</td>\n",
              "      <td>2.273950e+07</td>\n",
              "      <td>5.411259</td>\n",
              "      <td>6.115438</td>\n",
              "      <td>-0.001121</td>\n",
              "      <td>20.927257</td>\n",
              "      <td>2.246283e+07</td>\n",
              "      <td>0.247333</td>\n",
              "      <td>0.146667</td>\n",
              "      <td>0.047000</td>\n",
              "      <td>0.0</td>\n",
              "    </tr>\n",
              "    <tr>\n",
              "      <th>std</th>\n",
              "      <td>7.403049</td>\n",
              "      <td>7.416869e-01</td>\n",
              "      <td>0.467225</td>\n",
              "      <td>0.366837</td>\n",
              "      <td>1.002196</td>\n",
              "      <td>0.036497</td>\n",
              "      <td>0.401063</td>\n",
              "      <td>0.464726</td>\n",
              "      <td>1.111612</td>\n",
              "      <td>0.738521</td>\n",
              "      <td>2.004660</td>\n",
              "      <td>0.880479</td>\n",
              "      <td>0.148918</td>\n",
              "      <td>0.121399</td>\n",
              "      <td>0.241018</td>\n",
              "      <td>15.423313</td>\n",
              "      <td>3.409115</td>\n",
              "      <td>8.632981</td>\n",
              "      <td>1.306150</td>\n",
              "      <td>1.512808</td>\n",
              "      <td>0.688958</td>\n",
              "      <td>0.998875</td>\n",
              "      <td>0.603624</td>\n",
              "      <td>1.920214</td>\n",
              "      <td>0.247254</td>\n",
              "      <td>1.929844</td>\n",
              "      <td>0.341104</td>\n",
              "      <td>1.586896e+07</td>\n",
              "      <td>1.366334</td>\n",
              "      <td>1.273596</td>\n",
              "      <td>5.281556e+00</td>\n",
              "      <td>5.594107e+00</td>\n",
              "      <td>7.719017e+05</td>\n",
              "      <td>4.255145e+05</td>\n",
              "      <td>4.203517e+05</td>\n",
              "      <td>0.129112</td>\n",
              "      <td>0.000760</td>\n",
              "      <td>0.167192</td>\n",
              "      <td>1.108702</td>\n",
              "      <td>3.255377</td>\n",
              "      <td>9.703793e+06</td>\n",
              "      <td>0.479286</td>\n",
              "      <td>0.298785</td>\n",
              "      <td>0.140038</td>\n",
              "      <td>3.712599</td>\n",
              "      <td>6.432693e+06</td>\n",
              "      <td>0.431534</td>\n",
              "      <td>0.353832</td>\n",
              "      <td>0.211674</td>\n",
              "      <td>0.0</td>\n",
              "    </tr>\n",
              "    <tr>\n",
              "      <th>min</th>\n",
              "      <td>0.000000</td>\n",
              "      <td>9.999995e-07</td>\n",
              "      <td>0.000000</td>\n",
              "      <td>0.000000</td>\n",
              "      <td>-2.177292</td>\n",
              "      <td>1.000000</td>\n",
              "      <td>0.000000</td>\n",
              "      <td>0.000000</td>\n",
              "      <td>1.000000</td>\n",
              "      <td>1.000000</td>\n",
              "      <td>0.000000</td>\n",
              "      <td>1.000000</td>\n",
              "      <td>0.000000</td>\n",
              "      <td>0.000000</td>\n",
              "      <td>0.000000</td>\n",
              "      <td>1921.000000</td>\n",
              "      <td>1.000000</td>\n",
              "      <td>1.000000</td>\n",
              "      <td>0.000000</td>\n",
              "      <td>0.000000</td>\n",
              "      <td>0.000000</td>\n",
              "      <td>0.000000</td>\n",
              "      <td>0.470004</td>\n",
              "      <td>0.693147</td>\n",
              "      <td>0.000195</td>\n",
              "      <td>-21.772921</td>\n",
              "      <td>0.000000</td>\n",
              "      <td>0.000000e+00</td>\n",
              "      <td>-2.113439</td>\n",
              "      <td>0.000010</td>\n",
              "      <td>2.500000e-07</td>\n",
              "      <td>5.000000e-07</td>\n",
              "      <td>0.000000e+00</td>\n",
              "      <td>0.000000e+00</td>\n",
              "      <td>0.000000e+00</td>\n",
              "      <td>0.007220</td>\n",
              "      <td>0.000000</td>\n",
              "      <td>0.000000</td>\n",
              "      <td>0.690821</td>\n",
              "      <td>0.417895</td>\n",
              "      <td>1.248674e+05</td>\n",
              "      <td>2.215812</td>\n",
              "      <td>5.611607</td>\n",
              "      <td>-1.854838</td>\n",
              "      <td>9.200000</td>\n",
              "      <td>1.549484e+07</td>\n",
              "      <td>0.000000</td>\n",
              "      <td>0.000000</td>\n",
              "      <td>0.000000</td>\n",
              "      <td>0.0</td>\n",
              "    </tr>\n",
              "    <tr>\n",
              "      <th>25%</th>\n",
              "      <td>0.000000</td>\n",
              "      <td>1.613042e+00</td>\n",
              "      <td>1.000000</td>\n",
              "      <td>4.553877</td>\n",
              "      <td>-0.565022</td>\n",
              "      <td>1.000000</td>\n",
              "      <td>0.000000</td>\n",
              "      <td>0.000000</td>\n",
              "      <td>2.000000</td>\n",
              "      <td>1.000000</td>\n",
              "      <td>1.000000</td>\n",
              "      <td>1.000000</td>\n",
              "      <td>0.125000</td>\n",
              "      <td>0.000000</td>\n",
              "      <td>0.117647</td>\n",
              "      <td>1993.000000</td>\n",
              "      <td>4.000000</td>\n",
              "      <td>8.000000</td>\n",
              "      <td>2.000000</td>\n",
              "      <td>5.800000</td>\n",
              "      <td>2.484907</td>\n",
              "      <td>2.197225</td>\n",
              "      <td>1.716362</td>\n",
              "      <td>4.189655</td>\n",
              "      <td>0.117776</td>\n",
              "      <td>-0.107095</td>\n",
              "      <td>0.005911</td>\n",
              "      <td>0.000000e+00</td>\n",
              "      <td>2.574760</td>\n",
              "      <td>0.265571</td>\n",
              "      <td>1.558928e+00</td>\n",
              "      <td>2.048711e-01</td>\n",
              "      <td>0.000000e+00</td>\n",
              "      <td>0.000000e+00</td>\n",
              "      <td>0.000000e+00</td>\n",
              "      <td>0.053036</td>\n",
              "      <td>0.002877</td>\n",
              "      <td>0.066667</td>\n",
              "      <td>5.408077</td>\n",
              "      <td>7.412260</td>\n",
              "      <td>1.324143e+07</td>\n",
              "      <td>5.126734</td>\n",
              "      <td>5.942373</td>\n",
              "      <td>-0.052490</td>\n",
              "      <td>19.090909</td>\n",
              "      <td>1.732969e+07</td>\n",
              "      <td>0.000000</td>\n",
              "      <td>0.000000</td>\n",
              "      <td>0.000000</td>\n",
              "      <td>0.0</td>\n",
              "    </tr>\n",
              "    <tr>\n",
              "      <th>50%</th>\n",
              "      <td>15.894952</td>\n",
              "      <td>2.125233e+00</td>\n",
              "      <td>1.000000</td>\n",
              "      <td>4.653960</td>\n",
              "      <td>0.144376</td>\n",
              "      <td>1.000000</td>\n",
              "      <td>0.000000</td>\n",
              "      <td>0.000000</td>\n",
              "      <td>2.000000</td>\n",
              "      <td>1.000000</td>\n",
              "      <td>2.000000</td>\n",
              "      <td>1.000000</td>\n",
              "      <td>0.208333</td>\n",
              "      <td>0.058397</td>\n",
              "      <td>0.240000</td>\n",
              "      <td>2004.000000</td>\n",
              "      <td>7.000000</td>\n",
              "      <td>15.000000</td>\n",
              "      <td>4.000000</td>\n",
              "      <td>6.400000</td>\n",
              "      <td>2.833213</td>\n",
              "      <td>2.708050</td>\n",
              "      <td>2.112755</td>\n",
              "      <td>5.575949</td>\n",
              "      <td>0.241470</td>\n",
              "      <td>0.021875</td>\n",
              "      <td>0.019385</td>\n",
              "      <td>1.232877e+06</td>\n",
              "      <td>3.409988</td>\n",
              "      <td>0.332031</td>\n",
              "      <td>2.969959e+00</td>\n",
              "      <td>3.784846e-01</td>\n",
              "      <td>2.002506e+04</td>\n",
              "      <td>7.450112e+04</td>\n",
              "      <td>1.052632e+05</td>\n",
              "      <td>0.069764</td>\n",
              "      <td>0.003179</td>\n",
              "      <td>0.076250</td>\n",
              "      <td>5.593403</td>\n",
              "      <td>7.815993</td>\n",
              "      <td>2.664833e+07</td>\n",
              "      <td>5.489345</td>\n",
              "      <td>6.060645</td>\n",
              "      <td>0.001543</td>\n",
              "      <td>20.035370</td>\n",
              "      <td>1.732969e+07</td>\n",
              "      <td>0.000000</td>\n",
              "      <td>0.000000</td>\n",
              "      <td>0.000000</td>\n",
              "      <td>0.0</td>\n",
              "    </tr>\n",
              "    <tr>\n",
              "      <th>75%</th>\n",
              "      <td>17.216708</td>\n",
              "      <td>2.475780e+00</td>\n",
              "      <td>1.000000</td>\n",
              "      <td>4.779123</td>\n",
              "      <td>0.724793</td>\n",
              "      <td>1.000000</td>\n",
              "      <td>0.000000</td>\n",
              "      <td>1.000000</td>\n",
              "      <td>3.000000</td>\n",
              "      <td>1.000000</td>\n",
              "      <td>4.000000</td>\n",
              "      <td>2.000000</td>\n",
              "      <td>0.327691</td>\n",
              "      <td>0.136676</td>\n",
              "      <td>0.409091</td>\n",
              "      <td>2011.000000</td>\n",
              "      <td>10.000000</td>\n",
              "      <td>22.000000</td>\n",
              "      <td>4.000000</td>\n",
              "      <td>7.000000</td>\n",
              "      <td>3.218876</td>\n",
              "      <td>3.367296</td>\n",
              "      <td>2.384856</td>\n",
              "      <td>6.749052</td>\n",
              "      <td>0.421880</td>\n",
              "      <td>0.119589</td>\n",
              "      <td>0.071875</td>\n",
              "      <td>4.545455e+06</td>\n",
              "      <td>4.392029</td>\n",
              "      <td>0.392410</td>\n",
              "      <td>4.896870e+00</td>\n",
              "      <td>5.930185e-01</td>\n",
              "      <td>6.427836e+04</td>\n",
              "      <td>2.659574e+05</td>\n",
              "      <td>3.519716e+05</td>\n",
              "      <td>0.085067</td>\n",
              "      <td>0.003482</td>\n",
              "      <td>0.088015</td>\n",
              "      <td>5.827735</td>\n",
              "      <td>8.363693</td>\n",
              "      <td>2.898095e+07</td>\n",
              "      <td>5.710692</td>\n",
              "      <td>6.215789</td>\n",
              "      <td>0.060135</td>\n",
              "      <td>21.280597</td>\n",
              "      <td>2.610600e+07</td>\n",
              "      <td>0.000000</td>\n",
              "      <td>0.000000</td>\n",
              "      <td>0.000000</td>\n",
              "      <td>0.0</td>\n",
              "    </tr>\n",
              "    <tr>\n",
              "      <th>max</th>\n",
              "      <td>19.755682</td>\n",
              "      <td>5.688117e+00</td>\n",
              "      <td>5.000000</td>\n",
              "      <td>5.826000</td>\n",
              "      <td>1.627665</td>\n",
              "      <td>2.000000</td>\n",
              "      <td>1.000000</td>\n",
              "      <td>1.000000</td>\n",
              "      <td>7.000000</td>\n",
              "      <td>8.000000</td>\n",
              "      <td>19.000000</td>\n",
              "      <td>9.000000</td>\n",
              "      <td>1.000000</td>\n",
              "      <td>1.000000</td>\n",
              "      <td>1.000000</td>\n",
              "      <td>2017.000000</td>\n",
              "      <td>12.000000</td>\n",
              "      <td>31.000000</td>\n",
              "      <td>6.000000</td>\n",
              "      <td>9.000000</td>\n",
              "      <td>5.056246</td>\n",
              "      <td>5.273000</td>\n",
              "      <td>3.831962</td>\n",
              "      <td>9.848609</td>\n",
              "      <td>2.425809</td>\n",
              "      <td>16.276646</td>\n",
              "      <td>8.000000</td>\n",
              "      <td>8.000000e+08</td>\n",
              "      <td>8.000375</td>\n",
              "      <td>28.065863</td>\n",
              "      <td>1.140164e+02</td>\n",
              "      <td>2.943370e+02</td>\n",
              "      <td>4.000000e+07</td>\n",
              "      <td>1.100000e+07</td>\n",
              "      <td>4.175824e+06</td>\n",
              "      <td>6.634633</td>\n",
              "      <td>0.004567</td>\n",
              "      <td>8.200000</td>\n",
              "      <td>7.866060</td>\n",
              "      <td>32.962732</td>\n",
              "      <td>4.406363e+07</td>\n",
              "      <td>6.634633</td>\n",
              "      <td>8.333333</td>\n",
              "      <td>1.176229</td>\n",
              "      <td>63.500000</td>\n",
              "      <td>3.305316e+07</td>\n",
              "      <td>1.000000</td>\n",
              "      <td>1.000000</td>\n",
              "      <td>1.000000</td>\n",
              "      <td>0.0</td>\n",
              "    </tr>\n",
              "  </tbody>\n",
              "</table>\n",
              "</div>"
            ],
            "text/plain": [
              "        budget_log  popularity_log  ...  _genres_Animation  _genres_Biography\n",
              "count  3000.000000    3.000000e+03  ...        3000.000000             3000.0\n",
              "mean     11.961359    1.975396e+00  ...           0.047000                0.0\n",
              "std       7.403049    7.416869e-01  ...           0.211674                0.0\n",
              "min       0.000000    9.999995e-07  ...           0.000000                0.0\n",
              "25%       0.000000    1.613042e+00  ...           0.000000                0.0\n",
              "50%      15.894952    2.125233e+00  ...           0.000000                0.0\n",
              "75%      17.216708    2.475780e+00  ...           0.000000                0.0\n",
              "max      19.755682    5.688117e+00  ...           1.000000                0.0\n",
              "\n",
              "[8 rows x 50 columns]"
            ]
          },
          "metadata": {
            "tags": []
          },
          "execution_count": 215
        }
      ]
    },
    {
      "cell_type": "markdown",
      "metadata": {
        "id": "wU2b06pb__xu",
        "colab_type": "text"
      },
      "source": [
        "## Validation Set"
      ]
    },
    {
      "cell_type": "code",
      "metadata": {
        "id": "074lo7hDMyvZ",
        "colab_type": "code",
        "colab": {}
      },
      "source": [
        ""
      ],
      "execution_count": 0,
      "outputs": []
    },
    {
      "cell_type": "code",
      "metadata": {
        "id": "JlKc9ATPOLLk",
        "colab_type": "code",
        "colab": {}
      },
      "source": [
        ""
      ],
      "execution_count": 0,
      "outputs": []
    },
    {
      "cell_type": "markdown",
      "metadata": {
        "id": "Ned0vnh9vt1v",
        "colab_type": "text"
      },
      "source": [
        "##  Dimension Reduction"
      ]
    },
    {
      "cell_type": "code",
      "metadata": {
        "id": "ecPGiyo8vtwD",
        "colab_type": "code",
        "colab": {}
      },
      "source": [
        "svd = TruncatedSVD(n_components=5, random_state = seed)\n",
        "X_svd = svd.fit(X)\n",
        "X_svd = pd.DataFrame(X_svd.fit_transform(X))"
      ],
      "execution_count": 0,
      "outputs": []
    },
    {
      "cell_type": "code",
      "metadata": {
        "id": "vEVZfDAzGbtF",
        "colab_type": "code",
        "colab": {}
      },
      "source": [
        "X_svd.explained_variance_ratio_"
      ],
      "execution_count": 0,
      "outputs": []
    },
    {
      "cell_type": "code",
      "metadata": {
        "id": "XWQoEIxiw92D",
        "colab_type": "code",
        "outputId": "b45169b0-0988-4811-acdf-9253d075e52e",
        "colab": {
          "base_uri": "https://localhost:8080/",
          "height": 286
        }
      },
      "source": [
        "svd_ratio = pd.DataFrame(X_svd.explained_variance_ratio_)\n",
        "sns.barplot(x = svd_ratio.index, y = svd_ratio[0])"
      ],
      "execution_count": 0,
      "outputs": [
        {
          "output_type": "execute_result",
          "data": {
            "text/plain": [
              "<matplotlib.axes._subplots.AxesSubplot at 0x7f3d14135f28>"
            ]
          },
          "metadata": {
            "tags": []
          },
          "execution_count": 197
        },
        {
          "output_type": "display_data",
          "data": {
            "image/png": "[encoded data removed]",
            "text/plain": [
              "<Figure size 432x288 with 1 Axes>"
            ]
          },
          "metadata": {
            "tags": []
          }
        }
      ]
    },
    {
      "cell_type": "code",
      "metadata": {
        "id": "MMNG0V_Vw9xb",
        "colab_type": "code",
        "colab": {}
      },
      "source": [
        "# Split into train and Valid set\n",
        "X_tr2, X_val2, y_tr2, y_val2 = train_test_split(X_svd, y, test_size = .2, random_state = seed)"
      ],
      "execution_count": 0,
      "outputs": []
    },
    {
      "cell_type": "code",
      "metadata": {
        "id": "FiHDFtwYw9tO",
        "colab_type": "code",
        "colab": {}
      },
      "source": [
        ""
      ],
      "execution_count": 0,
      "outputs": []
    },
    {
      "cell_type": "code",
      "metadata": {
        "id": "0anpcHBAw9ow",
        "colab_type": "code",
        "colab": {}
      },
      "source": [
        ""
      ],
      "execution_count": 0,
      "outputs": []
    },
    {
      "cell_type": "markdown",
      "metadata": {
        "id": "z90yelYeTEjA",
        "colab_type": "text"
      },
      "source": [
        "## 1st Layer Modeling"
      ]
    },
    {
      "cell_type": "markdown",
      "metadata": {
        "id": "6NXG_DRju2JU",
        "colab_type": "text"
      },
      "source": [
        "### 1. Elastic-Net"
      ]
    },
    {
      "cell_type": "code",
      "metadata": {
        "id": "FvMSkEpElDLZ",
        "colab_type": "code",
        "outputId": "19157b87-c9fe-4f91-ddea-9b8d6ea6d180",
        "colab": {
          "base_uri": "https://localhost:8080/",
          "height": 125
        }
      },
      "source": [
        "model_el = ElasticNet(alpha = .01, l1_ratio = 0, max_iter = 5000)\n",
        "model_el.fit(X_tr, y_tr)"
      ],
      "execution_count": 0,
      "outputs": [
        {
          "output_type": "stream",
          "text": [
            "/usr/local/lib/python3.6/dist-packages/sklearn/linear_model/coordinate_descent.py:492: ConvergenceWarning: Objective did not converge. You might want to increase the number of iterations. Fitting data with very small alpha may cause precision problems.\n",
            "  ConvergenceWarning)\n"
          ],
          "name": "stderr"
        },
        {
          "output_type": "execute_result",
          "data": {
            "text/plain": [
              "ElasticNet(alpha=0.05, copy_X=True, fit_intercept=True, l1_ratio=0,\n",
              "      max_iter=5000, normalize=False, positive=False, precompute=False,\n",
              "      random_state=None, selection='cyclic', tol=0.0001, warm_start=False)"
            ]
          },
          "metadata": {
            "tags": []
          },
          "execution_count": 218
        }
      ]
    },
    {
      "cell_type": "code",
      "metadata": {
        "id": "qPu4281slDG0",
        "colab_type": "code",
        "outputId": "b1de801e-3014-42fa-8863-c3e3c0d115c4",
        "colab": {
          "base_uri": "https://localhost:8080/",
          "height": 34
        }
      },
      "source": [
        "pred_el = model_el.predict(X_val)\n",
        "get_loss(pred_el, y_val)"
      ],
      "execution_count": 0,
      "outputs": [
        {
          "output_type": "execute_result",
          "data": {
            "text/plain": [
              "2.0501962630668777"
            ]
          },
          "metadata": {
            "tags": []
          },
          "execution_count": 219
        }
      ]
    },
    {
      "cell_type": "code",
      "metadata": {
        "id": "qyeUSaT6uLtx",
        "colab_type": "code",
        "colab": {}
      },
      "source": [
        "# 1st try: 2.1347\n",
        "# 2nd try: 2.1266\n",
        "# 3rd try: 2.0524 (Mean encoding)\n",
        "# 6th try: 1.9977"
      ],
      "execution_count": 0,
      "outputs": []
    },
    {
      "cell_type": "code",
      "metadata": {
        "id": "Dx2DGhI6o5Q1",
        "colab_type": "code",
        "colab": {}
      },
      "source": [
        "df['el'] = pred_el"
      ],
      "execution_count": 0,
      "outputs": []
    },
    {
      "cell_type": "code",
      "metadata": {
        "id": "UzWnPFPJEbdE",
        "colab_type": "code",
        "colab": {}
      },
      "source": [
        "pred = model_el.predict(te)"
      ],
      "execution_count": 0,
      "outputs": []
    },
    {
      "cell_type": "markdown",
      "metadata": {
        "id": "Vy4kWzmxOg5v",
        "colab_type": "text"
      },
      "source": [
        "### 2. KNN "
      ]
    },
    {
      "cell_type": "code",
      "metadata": {
        "id": "PHEPkP9xOg1u",
        "colab_type": "code",
        "outputId": "85265cda-49fc-499f-9950-a89ffbdf1967",
        "colab": {
          "base_uri": "https://localhost:8080/",
          "height": 70
        }
      },
      "source": [
        "model_knn = KNeighborsRegressor(n_neighbors = 20, \n",
        "                                weights = 'distance', \n",
        "                                p = 1)  \n",
        "\n",
        "model_knn.fit(X_tr, y_tr)"
      ],
      "execution_count": 0,
      "outputs": [
        {
          "output_type": "execute_result",
          "data": {
            "text/plain": [
              "KNeighborsRegressor(algorithm='auto', leaf_size=30, metric='minkowski',\n",
              "          metric_params=None, n_jobs=None, n_neighbors=20, p=1,\n",
              "          weights='distance')"
            ]
          },
          "metadata": {
            "tags": []
          },
          "execution_count": 222
        }
      ]
    },
    {
      "cell_type": "code",
      "metadata": {
        "id": "Yr9HoUnUOgxk",
        "colab_type": "code",
        "outputId": "34a45def-7f6f-4584-9353-1d09bf37dfc8",
        "colab": {
          "base_uri": "https://localhost:8080/",
          "height": 34
        }
      },
      "source": [
        "pred_knn = model_knn.predict(X_val)\n",
        "get_loss(pred_knn, y_val)"
      ],
      "execution_count": 0,
      "outputs": [
        {
          "output_type": "execute_result",
          "data": {
            "text/plain": [
              "2.468232212737805"
            ]
          },
          "metadata": {
            "tags": []
          },
          "execution_count": 223
        }
      ]
    },
    {
      "cell_type": "code",
      "metadata": {
        "id": "VQA2ALy5Ogtv",
        "colab_type": "code",
        "colab": {}
      },
      "source": [
        "# 3rd try: 2.1707 (Mean encoding)\n",
        "# 6th try: 2.5185"
      ],
      "execution_count": 0,
      "outputs": []
    },
    {
      "cell_type": "code",
      "metadata": {
        "id": "jPgCtCV-OgK4",
        "colab_type": "code",
        "colab": {}
      },
      "source": [
        "df['knn'] = pred_knn"
      ],
      "execution_count": 0,
      "outputs": []
    },
    {
      "cell_type": "markdown",
      "metadata": {
        "id": "flY-KV-lOgF7",
        "colab_type": "text"
      },
      "source": [
        "### Random Forest"
      ]
    },
    {
      "cell_type": "code",
      "metadata": {
        "id": "qZONvPMaTjYg",
        "colab_type": "code",
        "outputId": "0ed4ca1b-6e32-40ed-d504-8c59fc2c5e09",
        "colab": {
          "base_uri": "https://localhost:8080/",
          "height": 34
        }
      },
      "source": [
        "model_rf = RandomForestRegressor(n_estimators = 5000, \n",
        "                                 criterion = 'mse',\n",
        "                                 #min_samples_split = .05,\n",
        "                                 #min_samples_leaf = 50,\n",
        "                                 max_depth = 11)\n",
        "\n",
        "model_rf.fit(X_tr, y_tr)\n",
        "pred_rf = model_rf.predict(X_val)\n",
        "get_loss(pred_rf, y_val)"
      ],
      "execution_count": 0,
      "outputs": [
        {
          "output_type": "execute_result",
          "data": {
            "text/plain": [
              "1.9540237028206302"
            ]
          },
          "metadata": {
            "tags": []
          },
          "execution_count": 225
        }
      ]
    },
    {
      "cell_type": "code",
      "metadata": {
        "id": "DHzf-JrUVp6g",
        "colab_type": "code",
        "colab": {}
      },
      "source": [
        "# 6th try: 1.9388"
      ],
      "execution_count": 0,
      "outputs": []
    },
    {
      "cell_type": "code",
      "metadata": {
        "id": "LAMEHAfnTjhu",
        "colab_type": "code",
        "colab": {}
      },
      "source": [
        "df['rf'] = pred_rf"
      ],
      "execution_count": 0,
      "outputs": []
    },
    {
      "cell_type": "code",
      "metadata": {
        "id": "IuxgRbkwTjdO",
        "colab_type": "code",
        "outputId": "1a64551c-efde-4151-b884-ef8808fe757f",
        "colab": {
          "base_uri": "https://localhost:8080/",
          "height": 123
        }
      },
      "source": [
        "model_rf.get_params"
      ],
      "execution_count": 0,
      "outputs": [
        {
          "output_type": "execute_result",
          "data": {
            "text/plain": [
              "<bound method BaseEstimator.get_params of RandomForestRegressor(bootstrap=True, criterion='mse', max_depth=11,\n",
              "           max_features='auto', max_leaf_nodes=None,\n",
              "           min_impurity_decrease=0.0, min_impurity_split=None,\n",
              "           min_samples_leaf=1, min_samples_split=2,\n",
              "           min_weight_fraction_leaf=0.0, n_estimators=5000, n_jobs=None,\n",
              "           oob_score=False, random_state=None, verbose=0, warm_start=False)>"
            ]
          },
          "metadata": {
            "tags": []
          },
          "execution_count": 84
        }
      ]
    },
    {
      "cell_type": "code",
      "metadata": {
        "id": "fzGJraJGTjRp",
        "colab_type": "code",
        "colab": {}
      },
      "source": [
        ""
      ],
      "execution_count": 0,
      "outputs": []
    },
    {
      "cell_type": "markdown",
      "metadata": {
        "id": "-U1IQlvkOYSs",
        "colab_type": "text"
      },
      "source": [
        "### 3. Kernel SVM"
      ]
    },
    {
      "cell_type": "code",
      "metadata": {
        "id": "Ko7EOMgJV4YH",
        "colab_type": "code",
        "colab": {}
      },
      "source": [
        "# scaling?"
      ],
      "execution_count": 0,
      "outputs": []
    },
    {
      "cell_type": "code",
      "metadata": {
        "id": "gKdxcndpOYOx",
        "colab_type": "code",
        "outputId": "b57b1987-1c3f-4287-8f82-f01a7f6ae38a",
        "colab": {
          "base_uri": "https://localhost:8080/",
          "height": 125
        }
      },
      "source": [
        "model_svm = SVR(kernel = 'rbf')  \n",
        "model_svm.fit(X_tr, y_tr)"
      ],
      "execution_count": 0,
      "outputs": [
        {
          "output_type": "stream",
          "text": [
            "/usr/local/lib/python3.6/dist-packages/sklearn/svm/base.py:196: FutureWarning: The default value of gamma will change from 'auto' to 'scale' in version 0.22 to account better for unscaled features. Set gamma explicitly to 'auto' or 'scale' to avoid this warning.\n",
            "  \"avoid this warning.\", FutureWarning)\n"
          ],
          "name": "stderr"
        },
        {
          "output_type": "execute_result",
          "data": {
            "text/plain": [
              "SVR(C=1.0, cache_size=200, coef0=0.0, degree=3, epsilon=0.1,\n",
              "  gamma='auto_deprecated', kernel='rbf', max_iter=-1, shrinking=True,\n",
              "  tol=0.001, verbose=False)"
            ]
          },
          "metadata": {
            "tags": []
          },
          "execution_count": 228
        }
      ]
    },
    {
      "cell_type": "code",
      "metadata": {
        "id": "awXq5R1DOYLa",
        "colab_type": "code",
        "outputId": "b20d6c91-a0f8-4a28-db2a-1201a972c60b",
        "colab": {
          "base_uri": "https://localhost:8080/",
          "height": 34
        }
      },
      "source": [
        "pred_svm = model_svm.predict(X_val)\n",
        "get_loss(y_val, pred_knn)"
      ],
      "execution_count": 0,
      "outputs": [
        {
          "output_type": "execute_result",
          "data": {
            "text/plain": [
              "2.468232212737805"
            ]
          },
          "metadata": {
            "tags": []
          },
          "execution_count": 229
        }
      ]
    },
    {
      "cell_type": "code",
      "metadata": {
        "id": "ta_v8B11OYHt",
        "colab_type": "code",
        "colab": {}
      },
      "source": [
        "# 3rd try: 2.1707 (Mean encoding)\n",
        "# 6th try: 2.5185"
      ],
      "execution_count": 0,
      "outputs": []
    },
    {
      "cell_type": "code",
      "metadata": {
        "id": "D78cVS0cOYD0",
        "colab_type": "code",
        "colab": {}
      },
      "source": [
        "df['svm'] = pred_svm"
      ],
      "execution_count": 0,
      "outputs": []
    },
    {
      "cell_type": "markdown",
      "metadata": {
        "id": "aSOZ4TdgmRc6",
        "colab_type": "text"
      },
      "source": [
        "### 4. Xgboost"
      ]
    },
    {
      "cell_type": "code",
      "metadata": {
        "id": "8MptASvNcOqM",
        "colab_type": "code",
        "colab": {}
      },
      "source": [
        "#with open('model_xg.pkl', 'rb') as file:  \n",
        "#    model_xg = pickle.load(file)"
      ],
      "execution_count": 0,
      "outputs": []
    },
    {
      "cell_type": "code",
      "metadata": {
        "id": "ZrwDjC2qmRYv",
        "colab_type": "code",
        "colab": {}
      },
      "source": [
        "model_xg = xgb.XGBRegressor(objective = 'reg:linear',\n",
        "                            n_estimators = 3000, \n",
        "                            max_depth = 11, \n",
        "                            learning_rate = 0.01,\n",
        "                            early_stopping_rounds = 500,\n",
        "                            gamma = 1.0,\n",
        "                            #alpha = .6,\n",
        "                            subsample = 0.7,   \n",
        "                            colsample_bytree = 0.6, \n",
        "                            colsample_bylevel = 0.5,\n",
        "                            silent = True)"
      ],
      "execution_count": 0,
      "outputs": []
    },
    {
      "cell_type": "code",
      "metadata": {
        "id": "URgam83RP_6P",
        "colab_type": "code",
        "outputId": "f78e0caa-59ab-40c7-d4fc-09fd22262af9",
        "colab": {
          "base_uri": "https://localhost:8080/",
          "height": 70
        }
      },
      "source": [
        "model_xg.fit(X_tr, y_tr)\n",
        "    \n",
        "pred_xg = model_xg.predict(X_val)\n",
        "get_loss(y_val, pred_xg)"
      ],
      "execution_count": 0,
      "outputs": [
        {
          "output_type": "stream",
          "text": [
            "/usr/local/lib/python3.6/dist-packages/xgboost/core.py:587: FutureWarning: Series.base is deprecated and will be removed in a future version\n",
            "  if getattr(data, 'base', None) is not None and \\\n"
          ],
          "name": "stderr"
        },
        {
          "output_type": "execute_result",
          "data": {
            "text/plain": [
              "1.8330248665267113"
            ]
          },
          "metadata": {
            "tags": []
          },
          "execution_count": 232
        }
      ]
    },
    {
      "cell_type": "code",
      "metadata": {
        "id": "u3G-BVqSmRMf",
        "colab_type": "code",
        "colab": {}
      },
      "source": [
        "# 1st try: 1.9202\n",
        "# 2nd try: 1.9128\n",
        "# 3nd try: 1.8978\n",
        "# 4th try: 1.8791 (Mean encoding)\n",
        "# 5th try: 1.8439 (+ Voting Data)\n",
        "# 6th try: 1.8360 (2nd Mean encoding)   "
      ],
      "execution_count": 0,
      "outputs": []
    },
    {
      "cell_type": "code",
      "metadata": {
        "id": "sJ9sxXx3YPZx",
        "colab_type": "code",
        "outputId": "2b914be9-f326-41a4-f836-0d9420858643",
        "colab": {
          "base_uri": "https://localhost:8080/",
          "height": 141
        }
      },
      "source": [
        "param_save = model_xg.get_params\n",
        "param_save"
      ],
      "execution_count": 0,
      "outputs": [
        {
          "output_type": "execute_result",
          "data": {
            "text/plain": [
              "<bound method XGBModel.get_params of XGBRegressor(base_score=0.5, booster='gbtree', colsample_bylevel=0.4,\n",
              "       colsample_bytree=0.6, early_stopping_rounds=500, gamma=1.0,\n",
              "       importance_type='gain', learning_rate=0.01, max_delta_step=0,\n",
              "       max_depth=11, min_child_weight=1, missing=None, n_estimators=3000,\n",
              "       n_jobs=1, nthread=None, objective='reg:linear', random_state=0,\n",
              "       reg_alpha=0, reg_lambda=1, scale_pos_weight=1, seed=None,\n",
              "       silent=True, subsample=0.6)>"
            ]
          },
          "metadata": {
            "tags": []
          },
          "execution_count": 99
        }
      ]
    },
    {
      "cell_type": "code",
      "metadata": {
        "id": "Eb_DKV_zECbd",
        "colab_type": "code",
        "colab": {}
      },
      "source": [
        "df['xg'] = pred_xg"
      ],
      "execution_count": 0,
      "outputs": []
    },
    {
      "cell_type": "code",
      "metadata": {
        "id": "7aooajC1Kcnk",
        "colab_type": "code",
        "colab": {}
      },
      "source": [
        "# Save the model\n",
        "filename = 'model_xg.pkl'\n",
        "with open(filename, 'wb') as file:\n",
        "  pickle.dump(model_xg, file)"
      ],
      "execution_count": 0,
      "outputs": []
    },
    {
      "cell_type": "code",
      "metadata": {
        "id": "53sEXmDj1n42",
        "colab_type": "code",
        "outputId": "4c4fe1c2-cc85-4088-d83b-49fbedf3eb16",
        "colab": {
          "base_uri": "https://localhost:8080/",
          "height": 1055
        }
      },
      "source": [
        "fig, ax = plt.subplots(figsize=(12,18))\n",
        "xgb.plot_importance(model_xg, max_num_features= 50, height=0.8, ax=ax)\n",
        "plt.show()"
      ],
      "execution_count": 0,
      "outputs": [
        {
          "output_type": "display_data",
          "data": {
            "image/png": "[encoded data removed]",
            "text/plain": [
              "<Figure size 864x1296 with 1 Axes>"
            ]
          },
          "metadata": {
            "tags": []
          }
        }
      ]
    },
    {
      "cell_type": "code",
      "metadata": {
        "id": "iwlRfn7I9gEB",
        "colab_type": "code",
        "colab": {}
      },
      "source": [
        "#cols = X_tr.columns[model_xg.feature_importances_ > .005]\n",
        "#print(\"The number of cols \", len(cols))\n",
        "#print(\"Columns: \", cols)"
      ],
      "execution_count": 0,
      "outputs": []
    },
    {
      "cell_type": "code",
      "metadata": {
        "id": "7hz0zjP-urI7",
        "colab_type": "code",
        "colab": {}
      },
      "source": [
        ""
      ],
      "execution_count": 0,
      "outputs": []
    },
    {
      "cell_type": "markdown",
      "metadata": {
        "id": "fbeIIJLou4SO",
        "colab_type": "text"
      },
      "source": [
        "### 5. Catboost"
      ]
    },
    {
      "cell_type": "code",
      "metadata": {
        "id": "DXPKXXMQy-1W",
        "colab_type": "code",
        "colab": {}
      },
      "source": [
        "with open('model_cb.pkl', 'rb') as file:  \n",
        "    model_cb = pickle.load(file)"
      ],
      "execution_count": 0,
      "outputs": []
    },
    {
      "cell_type": "code",
      "metadata": {
        "id": "66uB1vQajEAt",
        "colab_type": "code",
        "outputId": "caf15479-7cbe-45d5-9df5-bcfe071cdea6",
        "colab": {
          "base_uri": "https://localhost:8080/",
          "height": 34
        }
      },
      "source": [
        "#time_start = time.time()\n",
        "model_cb = CatBoostRegressor(bagging_temperature = 0.2,\n",
        "                             colsample_bylevel = 0.7,\n",
        "                             depth = 9,\n",
        "                             early_stopping_rounds = 500,\n",
        "                             eval_metric = 'RMSE',\n",
        "                             iterations = 3000,\n",
        "                             learning_rate = .05,\n",
        "                             logging_level = 'Silent')\n",
        "\n",
        "model_cb.fit(X_tr, y_tr, eval_set = (X_val, y_val), use_best_model = True)\n",
        "#time_end = time.time()\n",
        "#print(\"Time duration: {}min\".format((time_end-time_start)/60))"
      ],
      "execution_count": 0,
      "outputs": [
        {
          "output_type": "execute_result",
          "data": {
            "text/plain": [
              "<catboost.core.CatBoostRegressor at 0x7fb7c5e87b00>"
            ]
          },
          "metadata": {
            "tags": []
          },
          "execution_count": 234
        }
      ]
    },
    {
      "cell_type": "code",
      "metadata": {
        "id": "aOQaWZMpkVYK",
        "colab_type": "code",
        "outputId": "8b8f45ec-ea57-4772-b89a-9b2c7d340f62",
        "colab": {
          "base_uri": "https://localhost:8080/",
          "height": 34
        }
      },
      "source": [
        "pred_cb = model_cb.predict(X_val)\n",
        "get_loss(y_val, pred_cb)"
      ],
      "execution_count": 0,
      "outputs": [
        {
          "output_type": "execute_result",
          "data": {
            "text/plain": [
              "1.8444349666198014"
            ]
          },
          "metadata": {
            "tags": []
          },
          "execution_count": 235
        }
      ]
    },
    {
      "cell_type": "code",
      "metadata": {
        "id": "Z7PFdJGnkVMQ",
        "colab_type": "code",
        "colab": {}
      },
      "source": [
        "# 1st try: 1.9218\n",
        "# 2nd try: 1.8779\n",
        "# 3rd try: 1.8753\n",
        "# 4th try: 1.8618 (Mean encoding)\n",
        "# 5th try: 1.8268 (+ Voting Data)\n",
        "# 6th try: 1.8570 (2nd Mean encoding)"
      ],
      "execution_count": 0,
      "outputs": []
    },
    {
      "cell_type": "code",
      "metadata": {
        "id": "F70LE-vtkVHy",
        "colab_type": "code",
        "outputId": "1b4a4aa1-2bc5-4116-c558-bea37485f109",
        "colab": {
          "base_uri": "https://localhost:8080/",
          "height": 176
        }
      },
      "source": [
        "model_cb.get_params()"
      ],
      "execution_count": 0,
      "outputs": [
        {
          "output_type": "execute_result",
          "data": {
            "text/plain": [
              "{'bagging_temperature': 0.5,\n",
              " 'colsample_bylevel': 0.8,\n",
              " 'depth': 9,\n",
              " 'early_stopping_rounds': 500,\n",
              " 'eval_metric': 'RMSE',\n",
              " 'iterations': 3000,\n",
              " 'learning_rate': 0.05,\n",
              " 'logging_level': 'Silent',\n",
              " 'loss_function': 'RMSE'}"
            ]
          },
          "metadata": {
            "tags": []
          },
          "execution_count": 88
        }
      ]
    },
    {
      "cell_type": "code",
      "metadata": {
        "id": "JqB7tIDPy-8m",
        "colab_type": "code",
        "colab": {}
      },
      "source": [
        "df['cb'] = pred_cb"
      ],
      "execution_count": 0,
      "outputs": []
    },
    {
      "cell_type": "code",
      "metadata": {
        "id": "ULH4868zRlFn",
        "colab_type": "code",
        "colab": {}
      },
      "source": [
        "# Save the model\n",
        "filename = 'model_cb.pkl'\n",
        "with open(filename, 'wb') as file:\n",
        "  pickle.dump(model_cb, file)"
      ],
      "execution_count": 0,
      "outputs": []
    },
    {
      "cell_type": "markdown",
      "metadata": {
        "id": "NY6rCN7PqLoT",
        "colab_type": "text"
      },
      "source": [
        "### 6. Lightgbm"
      ]
    },
    {
      "cell_type": "code",
      "metadata": {
        "id": "p64muoC2qZky",
        "colab_type": "code",
        "outputId": "3e936bbd-b440-4eed-95ee-653bdfdf3174",
        "colab": {
          "base_uri": "https://localhost:8080/",
          "height": 105
        }
      },
      "source": [
        "tr_data = lgb.Dataset(X_tr, label = y_tr)\n",
        "val_data = lgb.Dataset(X_val, label = y_val)\n",
        "\n",
        "params = {'objective' : 'regression',\n",
        "          'num_iterations' : 5000, \n",
        "          'max_depth' : 9, \n",
        "          'num_leaves' : 100, \n",
        "          'learning_rate': 0.005, \n",
        "          'metric' : 'rmse',\n",
        "          'min_data_in_leaf' : 100, \n",
        "          'colsample_bytree': 0.5, \n",
        "          'subsample_freq': 1,  \n",
        "          'lambda_l1' : 0.01, \n",
        "          'lambda_l2' : 0.7, \n",
        "          'subsample' : 0.8, \n",
        "          'verbose' : -1}\n",
        "\n",
        "hist = {}\n",
        "model_lg = lgb.train(params, tr_data, \n",
        "                     valid_sets = [val_data],\n",
        "                     verbose_eval = -1, \n",
        "                     early_stopping_rounds = 500,\n",
        "                     callbacks = [lgb.record_evaluation(hist)])"
      ],
      "execution_count": 0,
      "outputs": [
        {
          "output_type": "stream",
          "text": [
            "/usr/local/lib/python3.6/dist-packages/lightgbm/engine.py:118: UserWarning: Found `num_iterations` in params. Will use it instead of argument\n",
            "  warnings.warn(\"Found `{}` in params. Will use it instead of argument\".format(alias))\n"
          ],
          "name": "stderr"
        },
        {
          "output_type": "stream",
          "text": [
            "Training until validation scores don't improve for 500 rounds.\n",
            "Did not meet early stopping. Best iteration is:\n",
            "[4884]\tvalid_0's rmse: 1.89838\n"
          ],
          "name": "stdout"
        }
      ]
    },
    {
      "cell_type": "code",
      "metadata": {
        "id": "VSnyWtDn7Pvq",
        "colab_type": "code",
        "outputId": "000dbadf-b56d-43fb-c473-6d907e411414",
        "colab": {
          "base_uri": "https://localhost:8080/",
          "height": 34
        }
      },
      "source": [
        "pred_lg = model_lg.predict(X_val, num_iteration = model_lg.best_iteration)\n",
        "get_loss(pred_lg, y_val)"
      ],
      "execution_count": 0,
      "outputs": [
        {
          "output_type": "execute_result",
          "data": {
            "text/plain": [
              "1.8983776742874539"
            ]
          },
          "metadata": {
            "tags": []
          },
          "execution_count": 238
        }
      ]
    },
    {
      "cell_type": "code",
      "metadata": {
        "id": "Zln7Mt34qKQI",
        "colab_type": "code",
        "colab": {}
      },
      "source": [
        "# 1st try: \n",
        "# 2nd try: 1.9138\n",
        "# 3rd try: 1.9008 (Mean encoding)\n",
        "# 5th try: 1.8738 (+ Voting Data)\n",
        "# 6th try: 1.8547 (+ Voting Data)   #1.8681"
      ],
      "execution_count": 0,
      "outputs": []
    },
    {
      "cell_type": "code",
      "metadata": {
        "id": "WJ6C8iyIfp8V",
        "colab_type": "code",
        "outputId": "213e2592-097e-4eb4-afa3-30b275a5c4e6",
        "colab": {
          "base_uri": "https://localhost:8080/",
          "height": 230
        }
      },
      "source": [
        "model_lg.params"
      ],
      "execution_count": 0,
      "outputs": [
        {
          "output_type": "execute_result",
          "data": {
            "text/plain": [
              "{'colsample_bytree': 0.5,\n",
              " 'lambda_l1': 0.01,\n",
              " 'lambda_l2': 0.7,\n",
              " 'learning_rate': 0.005,\n",
              " 'max_depth': 9,\n",
              " 'metric': 'rmse',\n",
              " 'min_data_in_leaf': 100,\n",
              " 'num_leaves': 100,\n",
              " 'objective': 'regression',\n",
              " 'subsample': 0.8,\n",
              " 'subsample_freq': 1,\n",
              " 'verbose': -1}"
            ]
          },
          "metadata": {
            "tags": []
          },
          "execution_count": 110
        }
      ]
    },
    {
      "cell_type": "code",
      "metadata": {
        "id": "TIQECkhnjc4L",
        "colab_type": "code",
        "colab": {}
      },
      "source": [
        "df['lg'] = pred_lg"
      ],
      "execution_count": 0,
      "outputs": []
    },
    {
      "cell_type": "markdown",
      "metadata": {
        "id": "DA6Ci1O1u4-f",
        "colab_type": "text"
      },
      "source": [
        "### 7. Keras"
      ]
    },
    {
      "cell_type": "code",
      "metadata": {
        "id": "Do3dSm7nvdhj",
        "colab_type": "code",
        "colab": {}
      },
      "source": [
        "import keras\n",
        "from keras.models import Sequential\n",
        "from keras.layers import Dense, Dropout, BatchNormalization\n",
        "from keras.optimizers import Adam, RMSprop, SGD\n",
        "from keras.callbacks import EarlyStopping"
      ],
      "execution_count": 0,
      "outputs": []
    },
    {
      "cell_type": "code",
      "metadata": {
        "id": "ixLm8rtAmil7",
        "colab_type": "code",
        "outputId": "b1d62995-5268-417b-ea46-4a6fc8e6087c",
        "colab": {
          "base_uri": "https://localhost:8080/",
          "height": 52
        }
      },
      "source": [
        "print(X_tr.shape[1])\n",
        "print(X_tr.shape[1] /2)"
      ],
      "execution_count": 0,
      "outputs": [
        {
          "output_type": "stream",
          "text": [
            "376\n",
            "188.0\n"
          ],
          "name": "stdout"
        }
      ]
    },
    {
      "cell_type": "code",
      "metadata": {
        "id": "0NdZviyBmFZ4",
        "colab_type": "code",
        "outputId": "93083aa1-836a-4225-c0ed-9a00fb0b90ca",
        "colab": {
          "base_uri": "https://localhost:8080/",
          "height": 158
        }
      },
      "source": [
        "# initialize the model\n",
        "model = Sequential()\n",
        "\n",
        "# create hidden layers\n",
        "model.add(Dense(input_dim = X_tr.shape[1], output_dim = 128, activation = 'relu'))\n",
        "model.add(Dense(output_dim = 64, activation = 'relu'))\n",
        "model.add(BatchNormalization())\n",
        "model.add(Dense(output_dim = 32, activation = 'relu'))\n",
        "model.add(Dropout(.5))\n",
        "model.add(BatchNormalization())\n",
        "model.add(Dense(output_dim = 1)) \n",
        "\n",
        "# compile: stochastic gradient descent\n",
        "# Adam(lr = .05)     # RMSprop(lr=0.01)     # SGD(lr=0.01)\n",
        "my_optimizer = Adam(lr = .05)\n",
        "model.compile(optimizer = my_optimizer, loss = 'mse', metrics = ['mean_squared_error'])"
      ],
      "execution_count": 0,
      "outputs": [
        {
          "output_type": "stream",
          "text": [
            "/usr/local/lib/python3.6/dist-packages/ipykernel_launcher.py:4: UserWarning: Update your `Dense` call to the Keras 2 API: `Dense(input_dim=376, activation=\"relu\", units=128)`\n",
            "  after removing the cwd from sys.path.\n",
            "/usr/local/lib/python3.6/dist-packages/ipykernel_launcher.py:5: UserWarning: Update your `Dense` call to the Keras 2 API: `Dense(activation=\"relu\", units=64)`\n",
            "  \"\"\"\n",
            "/usr/local/lib/python3.6/dist-packages/ipykernel_launcher.py:7: UserWarning: Update your `Dense` call to the Keras 2 API: `Dense(activation=\"relu\", units=32)`\n",
            "  import sys\n",
            "/usr/local/lib/python3.6/dist-packages/ipykernel_launcher.py:10: UserWarning: Update your `Dense` call to the Keras 2 API: `Dense(units=1)`\n",
            "  # Remove the CWD from sys.path while we load stuff.\n"
          ],
          "name": "stderr"
        }
      ]
    },
    {
      "cell_type": "code",
      "metadata": {
        "id": "eH32NkwHn10R",
        "colab_type": "code",
        "outputId": "a2368811-af30-4670-c347-2dfe8254df25",
        "colab": {
          "base_uri": "https://localhost:8080/",
          "height": 552
        }
      },
      "source": [
        "# early stopper \n",
        "early_stopper = EarlyStopping(patience = 3)\n",
        "\n",
        "r = model.fit(X_tr, y_tr, \n",
        "              validation_data = (X_val, y_val),\n",
        "              batch_size = 100, \n",
        "              nb_epoch = 100,\n",
        "              callbacks = [early_stopper])"
      ],
      "execution_count": 0,
      "outputs": [
        {
          "output_type": "stream",
          "text": [
            "Train on 2400 samples, validate on 600 samples\n",
            "Epoch 1/100\n",
            "2400/2400 [==============================] - 0s 72us/step - loss: 5.8717 - mean_squared_error: 5.8717 - val_loss: 40584798110657200.0000 - val_mean_squared_error: 40584798110657200.0000\n",
            "Epoch 2/100\n",
            " 100/2400 [>.............................] - ETA: 0s - loss: 3.4835 - mean_squared_error: 3.4835"
          ],
          "name": "stdout"
        },
        {
          "output_type": "stream",
          "text": [
            "/usr/local/lib/python3.6/dist-packages/ipykernel_launcher.py:7: UserWarning: The `nb_epoch` argument in `fit` has been renamed `epochs`.\n",
            "  import sys\n"
          ],
          "name": "stderr"
        },
        {
          "output_type": "stream",
          "text": [
            "2400/2400 [==============================] - 0s 74us/step - loss: 5.8093 - mean_squared_error: 5.8093 - val_loss: 251557975420130688.0000 - val_mean_squared_error: 251557975420130688.0000\n",
            "Epoch 3/100\n",
            "2400/2400 [==============================] - 0s 70us/step - loss: 6.0558 - mean_squared_error: 6.0558 - val_loss: 191462.0535 - val_mean_squared_error: 191462.0535\n",
            "Epoch 4/100\n",
            "2400/2400 [==============================] - 0s 70us/step - loss: 5.9657 - mean_squared_error: 5.9657 - val_loss: 22140.5771 - val_mean_squared_error: 22140.5771\n",
            "Epoch 5/100\n",
            "2400/2400 [==============================] - 0s 70us/step - loss: 6.0001 - mean_squared_error: 6.0001 - val_loss: 190562.7967 - val_mean_squared_error: 190562.7967\n",
            "Epoch 6/100\n",
            "2400/2400 [==============================] - 0s 69us/step - loss: 6.1437 - mean_squared_error: 6.1437 - val_loss: 51515.9797 - val_mean_squared_error: 51515.9797\n",
            "Epoch 7/100\n",
            "2400/2400 [==============================] - 0s 70us/step - loss: 5.8773 - mean_squared_error: 5.8773 - val_loss: 6.2568 - val_mean_squared_error: 6.2568\n",
            "Epoch 8/100\n",
            "2400/2400 [==============================] - 0s 73us/step - loss: 5.9750 - mean_squared_error: 5.9750 - val_loss: 12.3321 - val_mean_squared_error: 12.3321\n",
            "Epoch 9/100\n",
            "2400/2400 [==============================] - 0s 68us/step - loss: 5.8060 - mean_squared_error: 5.8060 - val_loss: 5.4281 - val_mean_squared_error: 5.4281\n",
            "Epoch 10/100\n",
            "2400/2400 [==============================] - 0s 70us/step - loss: 5.8709 - mean_squared_error: 5.8709 - val_loss: 5.2828 - val_mean_squared_error: 5.2828\n",
            "Epoch 11/100\n",
            "2400/2400 [==============================] - 0s 80us/step - loss: 5.7241 - mean_squared_error: 5.7241 - val_loss: 5.3784 - val_mean_squared_error: 5.3784\n",
            "Epoch 12/100\n",
            "2400/2400 [==============================] - 0s 71us/step - loss: 5.5521 - mean_squared_error: 5.5521 - val_loss: 7.3898 - val_mean_squared_error: 7.3898\n",
            "Epoch 13/100\n",
            "2400/2400 [==============================] - 0s 71us/step - loss: 5.6118 - mean_squared_error: 5.6118 - val_loss: 5.4174 - val_mean_squared_error: 5.4174\n"
          ],
          "name": "stdout"
        }
      ]
    },
    {
      "cell_type": "code",
      "metadata": {
        "id": "eeGu93Rdn1uy",
        "colab_type": "code",
        "outputId": "1a4b1ac7-18e5-4236-9c9f-958304c5242a",
        "colab": {
          "base_uri": "https://localhost:8080/",
          "height": 34
        }
      },
      "source": [
        "# prediction \n",
        "pred_ke = model.predict(X_val)\n",
        "get_loss(y_val, pred_ke)"
      ],
      "execution_count": 0,
      "outputs": [
        {
          "output_type": "execute_result",
          "data": {
            "text/plain": [
              "2.3275415000968107"
            ]
          },
          "metadata": {
            "tags": []
          },
          "execution_count": 272
        }
      ]
    },
    {
      "cell_type": "code",
      "metadata": {
        "id": "4SiBcKX88cnC",
        "colab_type": "code",
        "colab": {}
      },
      "source": [
        "# 1st try : 2.9460\n",
        "# 2nd try : 2.9338 (Mean Encoding)\n",
        "# 6th try : 2.4070"
      ],
      "execution_count": 0,
      "outputs": []
    },
    {
      "cell_type": "code",
      "metadata": {
        "id": "5A1d8Wa1j1eu",
        "colab_type": "code",
        "colab": {}
      },
      "source": [
        "lr_vals = [0.01, 0.05, 0.1, 0.2, 0.5]\n",
        "\n",
        "for lr in lr_vals:\n",
        "    my_optimizer = RMSprop(lr=0.1)\n",
        "    model.compile(optimizer = my_optimizer, loss = 'mse', metrics = ['mean_squared_logarithmic_error'])\n",
        "    model.fit(X_tr, y_tr,\n",
        "              validation_data = (X_val, y_val),\n",
        "              batch_size = 100,\n",
        "              nb_epoch = 1000,\n",
        "              callbacks = [early_stopper])\n",
        "    \n",
        "    print(\"==========================\")\n",
        "    pred_ke = model.predict(X_val)\n",
        "    loss = np.sqrt(mean_squared_error(y_val, pred_ke))\n",
        "    print(\"Learning Rate: {}, RMSE: {}\".format(lr, loss))\n",
        "    print(\"==========================\")"
      ],
      "execution_count": 0,
      "outputs": []
    },
    {
      "cell_type": "code",
      "metadata": {
        "id": "cmXb0Gfvn1pj",
        "colab_type": "code",
        "colab": {}
      },
      "source": [
        "# plot the error\n",
        "plt.plot(r.history['loss'], label = 'train loss')\n",
        "plt.plot(r.history['val_loss'], label = 'valid loss')\n",
        "plt.legend()\n",
        "plt.show()\n",
        "\n",
        "plt.plot(r.history['mean_squared_logarithmic_error'], label = 'train mse')\n",
        "plt.plot(r.history['val_mean_squared_logarithmic_error'], label = 'valid mse')\n",
        "plt.legend()\n",
        "plt.show()"
      ],
      "execution_count": 0,
      "outputs": []
    },
    {
      "cell_type": "code",
      "metadata": {
        "id": "Yj-p9b7ac4OX",
        "colab_type": "code",
        "colab": {}
      },
      "source": [
        "df['ke'] = pred_ke\n",
        "model_ke = model"
      ],
      "execution_count": 0,
      "outputs": []
    },
    {
      "cell_type": "code",
      "metadata": {
        "id": "G44pfqwn8ogO",
        "colab_type": "code",
        "colab": {}
      },
      "source": [
        ""
      ],
      "execution_count": 0,
      "outputs": []
    },
    {
      "cell_type": "code",
      "metadata": {
        "id": "5bd2_4Wf8oS_",
        "colab_type": "code",
        "colab": {}
      },
      "source": [
        ""
      ],
      "execution_count": 0,
      "outputs": []
    },
    {
      "cell_type": "code",
      "metadata": {
        "id": "mWXdOyxO63k3",
        "colab_type": "code",
        "outputId": "b29bd013-ef11-4cda-f372-d37d016a2b42",
        "colab": {
          "base_uri": "https://localhost:8080/",
          "height": 347
        }
      },
      "source": [
        "df.sample(10)"
      ],
      "execution_count": 0,
      "outputs": [
        {
          "output_type": "execute_result",
          "data": {
            "text/html": [
              "<div>\n",
              "<style scoped>\n",
              "    .dataframe tbody tr th:only-of-type {\n",
              "        vertical-align: middle;\n",
              "    }\n",
              "\n",
              "    .dataframe tbody tr th {\n",
              "        vertical-align: top;\n",
              "    }\n",
              "\n",
              "    .dataframe thead th {\n",
              "        text-align: right;\n",
              "    }\n",
              "</style>\n",
              "<table border=\"1\" class=\"dataframe\">\n",
              "  <thead>\n",
              "    <tr style=\"text-align: right;\">\n",
              "      <th></th>\n",
              "      <th>val</th>\n",
              "      <th>el</th>\n",
              "      <th>knn</th>\n",
              "      <th>rf</th>\n",
              "      <th>svm</th>\n",
              "      <th>xg</th>\n",
              "      <th>cb</th>\n",
              "      <th>lg</th>\n",
              "      <th>ke</th>\n",
              "    </tr>\n",
              "  </thead>\n",
              "  <tbody>\n",
              "    <tr>\n",
              "      <th>478</th>\n",
              "      <td>16.914053</td>\n",
              "      <td>16.474836</td>\n",
              "      <td>16.972757</td>\n",
              "      <td>16.792401</td>\n",
              "      <td>16.794649</td>\n",
              "      <td>16.705542</td>\n",
              "      <td>16.584122</td>\n",
              "      <td>16.316659</td>\n",
              "      <td>16.827234</td>\n",
              "    </tr>\n",
              "    <tr>\n",
              "      <th>2766</th>\n",
              "      <td>18.842677</td>\n",
              "      <td>17.581455</td>\n",
              "      <td>17.539900</td>\n",
              "      <td>18.363934</td>\n",
              "      <td>16.794649</td>\n",
              "      <td>18.535038</td>\n",
              "      <td>18.373374</td>\n",
              "      <td>18.463448</td>\n",
              "      <td>17.345224</td>\n",
              "    </tr>\n",
              "    <tr>\n",
              "      <th>553</th>\n",
              "      <td>16.220795</td>\n",
              "      <td>14.607227</td>\n",
              "      <td>15.205859</td>\n",
              "      <td>15.969402</td>\n",
              "      <td>16.378045</td>\n",
              "      <td>16.325083</td>\n",
              "      <td>15.747567</td>\n",
              "      <td>16.262187</td>\n",
              "      <td>15.121403</td>\n",
              "    </tr>\n",
              "    <tr>\n",
              "      <th>1422</th>\n",
              "      <td>17.863536</td>\n",
              "      <td>17.009882</td>\n",
              "      <td>17.274770</td>\n",
              "      <td>16.976439</td>\n",
              "      <td>16.794649</td>\n",
              "      <td>16.891129</td>\n",
              "      <td>17.227585</td>\n",
              "      <td>16.921674</td>\n",
              "      <td>17.586359</td>\n",
              "    </tr>\n",
              "    <tr>\n",
              "      <th>69</th>\n",
              "      <td>18.881065</td>\n",
              "      <td>18.648607</td>\n",
              "      <td>18.556509</td>\n",
              "      <td>19.379459</td>\n",
              "      <td>16.794649</td>\n",
              "      <td>19.351385</td>\n",
              "      <td>19.153949</td>\n",
              "      <td>19.033097</td>\n",
              "      <td>17.917591</td>\n",
              "    </tr>\n",
              "    <tr>\n",
              "      <th>2182</th>\n",
              "      <td>17.290177</td>\n",
              "      <td>17.248164</td>\n",
              "      <td>18.467800</td>\n",
              "      <td>17.694231</td>\n",
              "      <td>16.794649</td>\n",
              "      <td>17.633377</td>\n",
              "      <td>17.546491</td>\n",
              "      <td>18.028217</td>\n",
              "      <td>17.554319</td>\n",
              "    </tr>\n",
              "    <tr>\n",
              "      <th>1625</th>\n",
              "      <td>18.116361</td>\n",
              "      <td>18.066336</td>\n",
              "      <td>17.959950</td>\n",
              "      <td>18.447378</td>\n",
              "      <td>16.794649</td>\n",
              "      <td>18.641039</td>\n",
              "      <td>18.930488</td>\n",
              "      <td>18.399860</td>\n",
              "      <td>17.507528</td>\n",
              "    </tr>\n",
              "    <tr>\n",
              "      <th>546</th>\n",
              "      <td>18.477388</td>\n",
              "      <td>17.451281</td>\n",
              "      <td>17.442553</td>\n",
              "      <td>17.895580</td>\n",
              "      <td>16.794649</td>\n",
              "      <td>18.073326</td>\n",
              "      <td>17.606624</td>\n",
              "      <td>18.204972</td>\n",
              "      <td>17.078917</td>\n",
              "    </tr>\n",
              "    <tr>\n",
              "      <th>1587</th>\n",
              "      <td>16.559979</td>\n",
              "      <td>16.551127</td>\n",
              "      <td>17.366764</td>\n",
              "      <td>17.189588</td>\n",
              "      <td>16.794649</td>\n",
              "      <td>17.540138</td>\n",
              "      <td>17.230315</td>\n",
              "      <td>17.272597</td>\n",
              "      <td>17.875765</td>\n",
              "    </tr>\n",
              "    <tr>\n",
              "      <th>1482</th>\n",
              "      <td>17.943000</td>\n",
              "      <td>17.265708</td>\n",
              "      <td>17.576199</td>\n",
              "      <td>18.128064</td>\n",
              "      <td>16.794649</td>\n",
              "      <td>17.604404</td>\n",
              "      <td>17.034014</td>\n",
              "      <td>17.289981</td>\n",
              "      <td>17.231571</td>\n",
              "    </tr>\n",
              "  </tbody>\n",
              "</table>\n",
              "</div>"
            ],
            "text/plain": [
              "            val         el        knn  ...         cb         lg         ke\n",
              "478   16.914053  16.474836  16.972757  ...  16.584122  16.316659  16.827234\n",
              "2766  18.842677  17.581455  17.539900  ...  18.373374  18.463448  17.345224\n",
              "553   16.220795  14.607227  15.205859  ...  15.747567  16.262187  15.121403\n",
              "1422  17.863536  17.009882  17.274770  ...  17.227585  16.921674  17.586359\n",
              "69    18.881065  18.648607  18.556509  ...  19.153949  19.033097  17.917591\n",
              "2182  17.290177  17.248164  18.467800  ...  17.546491  18.028217  17.554319\n",
              "1625  18.116361  18.066336  17.959950  ...  18.930488  18.399860  17.507528\n",
              "546   18.477388  17.451281  17.442553  ...  17.606624  18.204972  17.078917\n",
              "1587  16.559979  16.551127  17.366764  ...  17.230315  17.272597  17.875765\n",
              "1482  17.943000  17.265708  17.576199  ...  17.034014  17.289981  17.231571\n",
              "\n",
              "[10 rows x 9 columns]"
            ]
          },
          "metadata": {
            "tags": []
          },
          "execution_count": 274
        }
      ]
    },
    {
      "cell_type": "code",
      "metadata": {
        "id": "q4atMKZ18FvG",
        "colab_type": "code",
        "outputId": "f4a30992-aa4b-46ed-d181-8e025d1fbdc9",
        "colab": {
          "base_uri": "https://localhost:8080/",
          "height": 608
        }
      },
      "source": [
        "fig, axes = plt.subplots(2, 4, figsize = (20, 10))\n",
        "\n",
        "for i, col in enumerate(df.columns[1:]):\n",
        "  sns.regplot(x = col, y = 'val', data = df, ax = axes[i//4, i % 4])"
      ],
      "execution_count": 0,
      "outputs": [
        {
          "output_type": "display_data",
          "data": {
            "image/png": "[encoded data removed]",
            "text/plain": [
              "<Figure size 1440x720 with 8 Axes>"
            ]
          },
          "metadata": {
            "tags": []
          }
        }
      ]
    },
    {
      "cell_type": "code",
      "metadata": {
        "id": "5clmv8l5FYLZ",
        "colab_type": "code",
        "colab": {}
      },
      "source": [
        "te_l1 = pd.DataFrame(columns=['el', 'knn', 'rf', 'svm', 'xg', 'cb', 'lg', 'ke'])\n",
        "model_list = [model_el, model_knn, model_rf, model_svm,\n",
        "             model_xg, model_cb, model_lg, model_ke]\n",
        "for i, model in enumerate(model_list):\n",
        "    pred = model.predict(te)\n",
        "    te_l1.iloc[:, i] = pred"
      ],
      "execution_count": 0,
      "outputs": []
    },
    {
      "cell_type": "code",
      "metadata": {
        "id": "5UQ--NlEFkvt",
        "colab_type": "code",
        "outputId": "725e5ad0-24ad-4b16-e589-a02f268d78ec",
        "colab": {
          "base_uri": "https://localhost:8080/",
          "height": 197
        }
      },
      "source": [
        "te_l1.head()"
      ],
      "execution_count": 0,
      "outputs": [
        {
          "output_type": "execute_result",
          "data": {
            "text/html": [
              "<div>\n",
              "<style scoped>\n",
              "    .dataframe tbody tr th:only-of-type {\n",
              "        vertical-align: middle;\n",
              "    }\n",
              "\n",
              "    .dataframe tbody tr th {\n",
              "        vertical-align: top;\n",
              "    }\n",
              "\n",
              "    .dataframe thead th {\n",
              "        text-align: right;\n",
              "    }\n",
              "</style>\n",
              "<table border=\"1\" class=\"dataframe\">\n",
              "  <thead>\n",
              "    <tr style=\"text-align: right;\">\n",
              "      <th></th>\n",
              "      <th>el</th>\n",
              "      <th>knn</th>\n",
              "      <th>rf</th>\n",
              "      <th>svm</th>\n",
              "      <th>xg</th>\n",
              "      <th>cb</th>\n",
              "      <th>lg</th>\n",
              "      <th>ke</th>\n",
              "    </tr>\n",
              "  </thead>\n",
              "  <tbody>\n",
              "    <tr>\n",
              "      <th>0</th>\n",
              "      <td>14.292830</td>\n",
              "      <td>17.043637</td>\n",
              "      <td>14.381620</td>\n",
              "      <td>16.878631</td>\n",
              "      <td>16.182156</td>\n",
              "      <td>15.068650</td>\n",
              "      <td>14.924218</td>\n",
              "      <td>14.196903</td>\n",
              "    </tr>\n",
              "    <tr>\n",
              "      <th>1</th>\n",
              "      <td>14.052200</td>\n",
              "      <td>15.668532</td>\n",
              "      <td>13.905617</td>\n",
              "      <td>16.794649</td>\n",
              "      <td>12.940205</td>\n",
              "      <td>13.644105</td>\n",
              "      <td>13.511269</td>\n",
              "      <td>15.207811</td>\n",
              "    </tr>\n",
              "    <tr>\n",
              "      <th>2</th>\n",
              "      <td>14.907921</td>\n",
              "      <td>15.483239</td>\n",
              "      <td>16.068317</td>\n",
              "      <td>16.022035</td>\n",
              "      <td>16.723972</td>\n",
              "      <td>16.015552</td>\n",
              "      <td>16.722943</td>\n",
              "      <td>14.251155</td>\n",
              "    </tr>\n",
              "    <tr>\n",
              "      <th>3</th>\n",
              "      <td>16.220821</td>\n",
              "      <td>14.251724</td>\n",
              "      <td>15.579690</td>\n",
              "      <td>16.794649</td>\n",
              "      <td>15.496733</td>\n",
              "      <td>16.383215</td>\n",
              "      <td>16.038386</td>\n",
              "      <td>16.068937</td>\n",
              "    </tr>\n",
              "    <tr>\n",
              "      <th>4</th>\n",
              "      <td>14.722792</td>\n",
              "      <td>14.719828</td>\n",
              "      <td>13.623965</td>\n",
              "      <td>16.794649</td>\n",
              "      <td>13.861198</td>\n",
              "      <td>14.233319</td>\n",
              "      <td>13.580170</td>\n",
              "      <td>14.703863</td>\n",
              "    </tr>\n",
              "  </tbody>\n",
              "</table>\n",
              "</div>"
            ],
            "text/plain": [
              "          el        knn         rf  ...         cb         lg         ke\n",
              "0  14.292830  17.043637  14.381620  ...  15.068650  14.924218  14.196903\n",
              "1  14.052200  15.668532  13.905617  ...  13.644105  13.511269  15.207811\n",
              "2  14.907921  15.483239  16.068317  ...  16.015552  16.722943  14.251155\n",
              "3  16.220821  14.251724  15.579690  ...  16.383215  16.038386  16.068937\n",
              "4  14.722792  14.719828  13.623965  ...  14.233319  13.580170  14.703863\n",
              "\n",
              "[5 rows x 8 columns]"
            ]
          },
          "metadata": {
            "tags": []
          },
          "execution_count": 285
        }
      ]
    },
    {
      "cell_type": "code",
      "metadata": {
        "id": "ApxtbOJLFs9n",
        "colab_type": "code",
        "outputId": "dbab24de-efda-4a65-bcf5-06b4e1c0fc87",
        "colab": {
          "base_uri": "https://localhost:8080/",
          "height": 52
        }
      },
      "source": [
        "print(\"2nd Layer Train: {}\".format(df.shape))\n",
        "print(\"2nd Layer Test: {}\".format(te_l1.shape))"
      ],
      "execution_count": 0,
      "outputs": [
        {
          "output_type": "stream",
          "text": [
            "2nd Layer Train: (600, 9)\n",
            "2nd Layer Test: (4398, 8)\n"
          ],
          "name": "stdout"
        }
      ]
    },
    {
      "cell_type": "code",
      "metadata": {
        "id": "tfAWAEEmMSob",
        "colab_type": "code",
        "colab": {}
      },
      "source": [
        ""
      ],
      "execution_count": 0,
      "outputs": []
    },
    {
      "cell_type": "markdown",
      "metadata": {
        "id": "dhqbl5tKKPSz",
        "colab_type": "text"
      },
      "source": [
        "## Save the prediction for Stacking"
      ]
    },
    {
      "cell_type": "code",
      "metadata": {
        "id": "RzLNy_l5con-",
        "colab_type": "code",
        "colab": {}
      },
      "source": [
        "num = 2\n",
        "filename = 'stack_train_' + str(num) + '.csv'\n",
        "df.to_csv(filename, index = False)\n",
        "files.download(filename)"
      ],
      "execution_count": 0,
      "outputs": []
    },
    {
      "cell_type": "code",
      "metadata": {
        "id": "PnkbMOEIlBeW",
        "colab_type": "code",
        "colab": {}
      },
      "source": [
        "filename = 'stack_test_' + str(num) + '.csv'\n",
        "te_l1.to_csv(filename, index = False)\n",
        "files.download(filename)"
      ],
      "execution_count": 0,
      "outputs": []
    },
    {
      "cell_type": "code",
      "metadata": {
        "id": "uGDp8h89coWF",
        "colab_type": "code",
        "colab": {}
      },
      "source": [
        ""
      ],
      "execution_count": 0,
      "outputs": []
    },
    {
      "cell_type": "code",
      "metadata": {
        "id": "JgZLfcYr0pId",
        "colab_type": "code",
        "colab": {}
      },
      "source": [
        ""
      ],
      "execution_count": 0,
      "outputs": []
    }
  ]
}