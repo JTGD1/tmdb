{
 "cells": [
  {
   "cell_type": "code",
   "execution_count": 0,
   "metadata": {
    "colab": {},
    "colab_type": "code",
    "id": "6btqYOvJuk8O"
   },
   "outputs": [],
   "source": [
    "import pandas as pd\n",
    "import numpy as np\n",
    "import matplotlib.pyplot as plt\n",
    "import seaborn as sns\n",
    "%matplotlib inline\n",
    "import time \n",
    "import pickle\n",
    "\n",
    "from sklearn.model_selection import train_test_split, KFold, GridSearchCV\n",
    "from sklearn.metrics import mean_squared_error\n",
    "from sklearn.metrics import mean_squared_log_error\n",
    "\n",
    "from sklearn.linear_model import LinearRegression, ElasticNet, Ridge\n",
    "from sklearn.neighbors import KNeighborsRegressor\n",
    "from sklearn.svm import SVR, LinearSVR\n",
    "from sklearn.ensemble import RandomForestRegressor, AdaBoostRegressor\n",
    "from xgboost import XGBRegressor\n",
    "from catboost import CatBoostRegressor\n",
    "import lightgbm as lgb"
   ]
  },
  {
   "cell_type": "code",
   "execution_count": 0,
   "metadata": {
    "colab": {},
    "colab_type": "code",
    "id": "j40fXd2XjL_G"
   },
   "outputs": [],
   "source": [
    "# RMSLE in natural log \n",
    "def my_loss(pred, actual):\n",
    "  assert len(pred) == len(actual)\n",
    "  error2 = [(math.log(pred[i] + 1) - math.log(actual[i] - 1))**2 for i in range(len(pred))]\n",
    "  result = np.sqrt(np.sum(error2) / len(pred))\n",
    "  return result "
   ]
  },
  {
   "cell_type": "code",
   "execution_count": 0,
   "metadata": {
    "colab": {},
    "colab_type": "code",
    "id": "3vIEXWbQPPIz"
   },
   "outputs": [],
   "source": [
    "def get_loss(pred, actual):\n",
    "  log_mse = mean_squared_error(np.log1p(pred), np.log1p(actual))\n",
    "  result = np.sqrt(log_mse)\n",
    "  return result "
   ]
  },
  {
   "cell_type": "code",
   "execution_count": 0,
   "metadata": {
    "colab": {},
    "colab_type": "code",
    "id": "XtrPTRGtez7j"
   },
   "outputs": [],
   "source": [
    "seed = 60 #42  #36"
   ]
  },
  {
   "cell_type": "markdown",
   "metadata": {
    "colab_type": "text",
    "id": "7m-pRP_9u9pv"
   },
   "source": [
    "## Load the data"
   ]
  },
  {
   "cell_type": "code",
   "execution_count": 0,
   "metadata": {
    "colab": {},
    "colab_type": "code",
    "id": "6DezWX46uyac"
   },
   "outputs": [],
   "source": [
    "# Import the all dataset\n",
    "tr = pd.read_csv('train_3.csv')\n",
    "te = pd.read_csv('test_3.csv')"
   ]
  },
  {
   "cell_type": "code",
   "execution_count": 0,
   "metadata": {
    "colab": {},
    "colab_type": "code",
    "id": "Qdn8-yP-W42E"
   },
   "outputs": [],
   "source": [
    "# Import the all dataset\n",
    "tr = pd.read_csv('train_3_svd.csv')\n",
    "te = pd.read_csv('test_3_svd.csv')"
   ]
  },
  {
   "cell_type": "code",
   "execution_count": 8,
   "metadata": {
    "colab": {
     "base_uri": "https://localhost:8080/",
     "height": 34
    },
    "colab_type": "code",
    "id": "ng-ikYztvxtq",
    "outputId": "121b41e5-1f8e-4a4f-dd25-bc97cc1cbd8a"
   },
   "outputs": [
    {
     "data": {
      "text/plain": [
       "(3000, 377)"
      ]
     },
     "execution_count": 8,
     "metadata": {
      "tags": []
     },
     "output_type": "execute_result"
    }
   ],
   "source": [
    "tr.shape"
   ]
  },
  {
   "cell_type": "code",
   "execution_count": 0,
   "metadata": {
    "colab": {},
    "colab_type": "code",
    "id": "w2I1PLuHv2d4"
   },
   "outputs": [],
   "source": [
    "y = tr.revenue_log\n",
    "X = tr.drop('revenue_log', axis = 1)"
   ]
  },
  {
   "cell_type": "code",
   "execution_count": 0,
   "metadata": {
    "colab": {},
    "colab_type": "code",
    "id": "MbhQlzWBu0gc"
   },
   "outputs": [],
   "source": [
    "# Split into train and Valid set\n",
    "X_tr, X_val, y_tr, y_val = train_test_split(X, y, test_size = .2, random_state = seed)"
   ]
  },
  {
   "cell_type": "code",
   "execution_count": 292,
   "metadata": {
    "colab": {
     "base_uri": "https://localhost:8080/",
     "height": 68
    },
    "colab_type": "code",
    "id": "onngVTvh10YD",
    "outputId": "500f5a9f-7d8c-4a1f-c692-affca0b2e747"
   },
   "outputs": [
    {
     "name": "stdout",
     "output_type": "stream",
     "text": [
      "The size of the train set  (2400, 376)\n",
      "The size of the validation set  (600, 376)\n",
      "The size of the test set  (4398, 376)\n"
     ]
    }
   ],
   "source": [
    "print(\"The size of the train set \", X_tr.shape)\n",
    "print(\"The size of the validation set \", X_val.shape)\n",
    "print(\"The size of the test set \", te.shape)"
   ]
  },
  {
   "cell_type": "code",
   "execution_count": 0,
   "metadata": {
    "colab": {},
    "colab_type": "code",
    "id": "hSmGnpT_vtGb"
   },
   "outputs": [],
   "source": [
    "del tr, X, y, "
   ]
  },
  {
   "cell_type": "code",
   "execution_count": 12,
   "metadata": {
    "colab": {
     "base_uri": "https://localhost:8080/",
     "height": 317
    },
    "colab_type": "code",
    "id": "mdkPHB0STaO7",
    "outputId": "b3b0b016-835f-4312-a65b-5e080bdade3e"
   },
   "outputs": [
    {
     "data": {
      "text/html": [
       "<div>\n",
       "<style scoped>\n",
       "    .dataframe tbody tr th:only-of-type {\n",
       "        vertical-align: middle;\n",
       "    }\n",
       "\n",
       "    .dataframe tbody tr th {\n",
       "        vertical-align: top;\n",
       "    }\n",
       "\n",
       "    .dataframe thead th {\n",
       "        text-align: right;\n",
       "    }\n",
       "</style>\n",
       "<table border=\"1\" class=\"dataframe\">\n",
       "  <thead>\n",
       "    <tr style=\"text-align: right;\">\n",
       "      <th></th>\n",
       "      <th>budget_log</th>\n",
       "      <th>popularity_log</th>\n",
       "      <th>runtime_h</th>\n",
       "      <th>runtime_log</th>\n",
       "      <th>runtime_m</th>\n",
       "      <th>status</th>\n",
       "      <th>is_collection</th>\n",
       "      <th>is_homepage</th>\n",
       "      <th>n_genres</th>\n",
       "      <th>n_prod_count</th>\n",
       "      <th>n_prod_comp</th>\n",
       "      <th>n_spoken_lang</th>\n",
       "      <th>cast_male</th>\n",
       "      <th>crew_male</th>\n",
       "      <th>n_crew_profile</th>\n",
       "      <th>year</th>\n",
       "      <th>month</th>\n",
       "      <th>day</th>\n",
       "      <th>weekofday</th>\n",
       "      <th>rating</th>\n",
       "      <th>n_cast_log</th>\n",
       "      <th>n_crew_log</th>\n",
       "      <th>popularity2_log</th>\n",
       "      <th>totalVotes_log</th>\n",
       "      <th>popularity_diff_log</th>\n",
       "      <th>r_runtime_rating</th>\n",
       "      <th>r_rating_totalVotes</th>\n",
       "      <th>r_budget_rating</th>\n",
       "      <th>r_popularity_totalVotes</th>\n",
       "      <th>r_popularity_rating</th>\n",
       "      <th>r_popularity_ngenres</th>\n",
       "      <th>r_popularity_n_cast</th>\n",
       "      <th>r_budget_totalVotes</th>\n",
       "      <th>r_budget_runtime</th>\n",
       "      <th>r_budget_year</th>\n",
       "      <th>r_totalVotes_year</th>\n",
       "      <th>r_rating_year</th>\n",
       "      <th>r_rating_year2</th>\n",
       "      <th>m_rating_totalVotes</th>\n",
       "      <th>m_year_popularity</th>\n",
       "      <th>m_year_budget</th>\n",
       "      <th>m_year_totalVotes_log</th>\n",
       "      <th>m_year_rating</th>\n",
       "      <th>m_year_runtime</th>\n",
       "      <th>m_year_n_crew_log</th>\n",
       "      <th>m_weekofday_budget</th>\n",
       "      <th>_genres_Action</th>\n",
       "      <th>_genres_Adventure</th>\n",
       "      <th>_genres_Animation</th>\n",
       "      <th>_genres_Biography</th>\n",
       "    </tr>\n",
       "  </thead>\n",
       "  <tbody>\n",
       "    <tr>\n",
       "      <th>count</th>\n",
       "      <td>3000.000000</td>\n",
       "      <td>3.000000e+03</td>\n",
       "      <td>3000.000000</td>\n",
       "      <td>3000.000000</td>\n",
       "      <td>3000.000000</td>\n",
       "      <td>3000.000000</td>\n",
       "      <td>3000.000000</td>\n",
       "      <td>3000.000000</td>\n",
       "      <td>3000.000000</td>\n",
       "      <td>3000.000000</td>\n",
       "      <td>3000.000000</td>\n",
       "      <td>3000.000000</td>\n",
       "      <td>3000.000000</td>\n",
       "      <td>3000.000000</td>\n",
       "      <td>2984.000000</td>\n",
       "      <td>3000.000000</td>\n",
       "      <td>3000.000000</td>\n",
       "      <td>3000.000000</td>\n",
       "      <td>3000.000000</td>\n",
       "      <td>3000.000000</td>\n",
       "      <td>3000.000000</td>\n",
       "      <td>3000.000000</td>\n",
       "      <td>3000.000000</td>\n",
       "      <td>3000.000000</td>\n",
       "      <td>3000.000000</td>\n",
       "      <td>3000.000000</td>\n",
       "      <td>3000.000000</td>\n",
       "      <td>3.000000e+03</td>\n",
       "      <td>3000.000000</td>\n",
       "      <td>3000.000000</td>\n",
       "      <td>3.000000e+03</td>\n",
       "      <td>3.000000e+03</td>\n",
       "      <td>3.000000e+03</td>\n",
       "      <td>3.000000e+03</td>\n",
       "      <td>3.000000e+03</td>\n",
       "      <td>3000.000000</td>\n",
       "      <td>3000.000000</td>\n",
       "      <td>3000.000000</td>\n",
       "      <td>3000.000000</td>\n",
       "      <td>3000.000000</td>\n",
       "      <td>3.000000e+03</td>\n",
       "      <td>3000.000000</td>\n",
       "      <td>3000.000000</td>\n",
       "      <td>3000.000000</td>\n",
       "      <td>3000.000000</td>\n",
       "      <td>3.000000e+03</td>\n",
       "      <td>3000.000000</td>\n",
       "      <td>3000.000000</td>\n",
       "      <td>3000.000000</td>\n",
       "      <td>3000.0</td>\n",
       "    </tr>\n",
       "    <tr>\n",
       "      <th>mean</th>\n",
       "      <td>11.961359</td>\n",
       "      <td>1.975396e+00</td>\n",
       "      <td>1.239667</td>\n",
       "      <td>4.655350</td>\n",
       "      <td>-0.022999</td>\n",
       "      <td>1.001333</td>\n",
       "      <td>0.201333</td>\n",
       "      <td>0.315333</td>\n",
       "      <td>2.508000</td>\n",
       "      <td>1.351333</td>\n",
       "      <td>2.836667</td>\n",
       "      <td>1.459000</td>\n",
       "      <td>0.229156</td>\n",
       "      <td>0.091542</td>\n",
       "      <td>0.297043</td>\n",
       "      <td>1999.713000</td>\n",
       "      <td>6.775333</td>\n",
       "      <td>15.046333</td>\n",
       "      <td>3.269333</td>\n",
       "      <td>6.115900</td>\n",
       "      <td>2.845370</td>\n",
       "      <td>2.749341</td>\n",
       "      <td>2.004640</td>\n",
       "      <td>5.406852</td>\n",
       "      <td>0.297523</td>\n",
       "      <td>-0.074844</td>\n",
       "      <td>0.099161</td>\n",
       "      <td>3.885689e+06</td>\n",
       "      <td>3.431457</td>\n",
       "      <td>0.502601</td>\n",
       "      <td>3.988243e+00</td>\n",
       "      <td>6.263061e-01</td>\n",
       "      <td>8.985388e+04</td>\n",
       "      <td>2.116568e+05</td>\n",
       "      <td>2.706289e+05</td>\n",
       "      <td>0.074753</td>\n",
       "      <td>0.003059</td>\n",
       "      <td>0.088497</td>\n",
       "      <td>5.410665</td>\n",
       "      <td>8.512923</td>\n",
       "      <td>2.273950e+07</td>\n",
       "      <td>5.411259</td>\n",
       "      <td>6.115438</td>\n",
       "      <td>-0.001121</td>\n",
       "      <td>20.927257</td>\n",
       "      <td>2.246283e+07</td>\n",
       "      <td>0.247333</td>\n",
       "      <td>0.146667</td>\n",
       "      <td>0.047000</td>\n",
       "      <td>0.0</td>\n",
       "    </tr>\n",
       "    <tr>\n",
       "      <th>std</th>\n",
       "      <td>7.403049</td>\n",
       "      <td>7.416869e-01</td>\n",
       "      <td>0.467225</td>\n",
       "      <td>0.366837</td>\n",
       "      <td>1.002196</td>\n",
       "      <td>0.036497</td>\n",
       "      <td>0.401063</td>\n",
       "      <td>0.464726</td>\n",
       "      <td>1.111612</td>\n",
       "      <td>0.738521</td>\n",
       "      <td>2.004660</td>\n",
       "      <td>0.880479</td>\n",
       "      <td>0.148918</td>\n",
       "      <td>0.121399</td>\n",
       "      <td>0.240688</td>\n",
       "      <td>15.423313</td>\n",
       "      <td>3.409115</td>\n",
       "      <td>8.632981</td>\n",
       "      <td>1.306150</td>\n",
       "      <td>1.512808</td>\n",
       "      <td>0.688958</td>\n",
       "      <td>0.998875</td>\n",
       "      <td>0.603624</td>\n",
       "      <td>1.920214</td>\n",
       "      <td>0.247254</td>\n",
       "      <td>1.929844</td>\n",
       "      <td>0.341104</td>\n",
       "      <td>1.586896e+07</td>\n",
       "      <td>1.366334</td>\n",
       "      <td>1.273596</td>\n",
       "      <td>5.281556e+00</td>\n",
       "      <td>5.594107e+00</td>\n",
       "      <td>7.719017e+05</td>\n",
       "      <td>4.255145e+05</td>\n",
       "      <td>4.203517e+05</td>\n",
       "      <td>0.129112</td>\n",
       "      <td>0.000760</td>\n",
       "      <td>0.167192</td>\n",
       "      <td>1.108702</td>\n",
       "      <td>3.255377</td>\n",
       "      <td>9.703793e+06</td>\n",
       "      <td>0.479286</td>\n",
       "      <td>0.298785</td>\n",
       "      <td>0.140038</td>\n",
       "      <td>3.712599</td>\n",
       "      <td>6.432693e+06</td>\n",
       "      <td>0.431534</td>\n",
       "      <td>0.353832</td>\n",
       "      <td>0.211674</td>\n",
       "      <td>0.0</td>\n",
       "    </tr>\n",
       "    <tr>\n",
       "      <th>min</th>\n",
       "      <td>0.000000</td>\n",
       "      <td>9.999995e-07</td>\n",
       "      <td>0.000000</td>\n",
       "      <td>0.000000</td>\n",
       "      <td>-2.177292</td>\n",
       "      <td>1.000000</td>\n",
       "      <td>0.000000</td>\n",
       "      <td>0.000000</td>\n",
       "      <td>1.000000</td>\n",
       "      <td>1.000000</td>\n",
       "      <td>0.000000</td>\n",
       "      <td>1.000000</td>\n",
       "      <td>0.000000</td>\n",
       "      <td>0.000000</td>\n",
       "      <td>0.000000</td>\n",
       "      <td>1921.000000</td>\n",
       "      <td>1.000000</td>\n",
       "      <td>1.000000</td>\n",
       "      <td>0.000000</td>\n",
       "      <td>0.000000</td>\n",
       "      <td>0.000000</td>\n",
       "      <td>0.000000</td>\n",
       "      <td>0.470004</td>\n",
       "      <td>0.693147</td>\n",
       "      <td>0.000195</td>\n",
       "      <td>-21.772921</td>\n",
       "      <td>0.000000</td>\n",
       "      <td>0.000000e+00</td>\n",
       "      <td>-2.113439</td>\n",
       "      <td>0.000010</td>\n",
       "      <td>2.500000e-07</td>\n",
       "      <td>5.000000e-07</td>\n",
       "      <td>0.000000e+00</td>\n",
       "      <td>0.000000e+00</td>\n",
       "      <td>0.000000e+00</td>\n",
       "      <td>0.007220</td>\n",
       "      <td>0.000000</td>\n",
       "      <td>0.000000</td>\n",
       "      <td>0.690821</td>\n",
       "      <td>0.417895</td>\n",
       "      <td>1.248674e+05</td>\n",
       "      <td>2.215812</td>\n",
       "      <td>5.611607</td>\n",
       "      <td>-1.854838</td>\n",
       "      <td>9.200000</td>\n",
       "      <td>1.549484e+07</td>\n",
       "      <td>0.000000</td>\n",
       "      <td>0.000000</td>\n",
       "      <td>0.000000</td>\n",
       "      <td>0.0</td>\n",
       "    </tr>\n",
       "    <tr>\n",
       "      <th>25%</th>\n",
       "      <td>0.000000</td>\n",
       "      <td>1.613042e+00</td>\n",
       "      <td>1.000000</td>\n",
       "      <td>4.553877</td>\n",
       "      <td>-0.565022</td>\n",
       "      <td>1.000000</td>\n",
       "      <td>0.000000</td>\n",
       "      <td>0.000000</td>\n",
       "      <td>2.000000</td>\n",
       "      <td>1.000000</td>\n",
       "      <td>1.000000</td>\n",
       "      <td>1.000000</td>\n",
       "      <td>0.125000</td>\n",
       "      <td>0.000000</td>\n",
       "      <td>0.119048</td>\n",
       "      <td>1993.000000</td>\n",
       "      <td>4.000000</td>\n",
       "      <td>8.000000</td>\n",
       "      <td>2.000000</td>\n",
       "      <td>5.800000</td>\n",
       "      <td>2.484907</td>\n",
       "      <td>2.197225</td>\n",
       "      <td>1.716362</td>\n",
       "      <td>4.189655</td>\n",
       "      <td>0.117776</td>\n",
       "      <td>-0.107095</td>\n",
       "      <td>0.005911</td>\n",
       "      <td>0.000000e+00</td>\n",
       "      <td>2.574760</td>\n",
       "      <td>0.265571</td>\n",
       "      <td>1.558928e+00</td>\n",
       "      <td>2.048711e-01</td>\n",
       "      <td>0.000000e+00</td>\n",
       "      <td>0.000000e+00</td>\n",
       "      <td>0.000000e+00</td>\n",
       "      <td>0.053036</td>\n",
       "      <td>0.002877</td>\n",
       "      <td>0.066667</td>\n",
       "      <td>5.408077</td>\n",
       "      <td>7.412260</td>\n",
       "      <td>1.324143e+07</td>\n",
       "      <td>5.126734</td>\n",
       "      <td>5.942373</td>\n",
       "      <td>-0.052490</td>\n",
       "      <td>19.090909</td>\n",
       "      <td>1.732969e+07</td>\n",
       "      <td>0.000000</td>\n",
       "      <td>0.000000</td>\n",
       "      <td>0.000000</td>\n",
       "      <td>0.0</td>\n",
       "    </tr>\n",
       "    <tr>\n",
       "      <th>50%</th>\n",
       "      <td>15.894952</td>\n",
       "      <td>2.125233e+00</td>\n",
       "      <td>1.000000</td>\n",
       "      <td>4.653960</td>\n",
       "      <td>0.144376</td>\n",
       "      <td>1.000000</td>\n",
       "      <td>0.000000</td>\n",
       "      <td>0.000000</td>\n",
       "      <td>2.000000</td>\n",
       "      <td>1.000000</td>\n",
       "      <td>2.000000</td>\n",
       "      <td>1.000000</td>\n",
       "      <td>0.208333</td>\n",
       "      <td>0.058397</td>\n",
       "      <td>0.245592</td>\n",
       "      <td>2004.000000</td>\n",
       "      <td>7.000000</td>\n",
       "      <td>15.000000</td>\n",
       "      <td>4.000000</td>\n",
       "      <td>6.400000</td>\n",
       "      <td>2.833213</td>\n",
       "      <td>2.708050</td>\n",
       "      <td>2.112755</td>\n",
       "      <td>5.575949</td>\n",
       "      <td>0.241470</td>\n",
       "      <td>0.021875</td>\n",
       "      <td>0.019385</td>\n",
       "      <td>1.232877e+06</td>\n",
       "      <td>3.409988</td>\n",
       "      <td>0.332031</td>\n",
       "      <td>2.969959e+00</td>\n",
       "      <td>3.784846e-01</td>\n",
       "      <td>2.002506e+04</td>\n",
       "      <td>7.450112e+04</td>\n",
       "      <td>1.052632e+05</td>\n",
       "      <td>0.069764</td>\n",
       "      <td>0.003179</td>\n",
       "      <td>0.076250</td>\n",
       "      <td>5.593403</td>\n",
       "      <td>7.815993</td>\n",
       "      <td>2.664833e+07</td>\n",
       "      <td>5.489345</td>\n",
       "      <td>6.060645</td>\n",
       "      <td>0.001543</td>\n",
       "      <td>20.035370</td>\n",
       "      <td>1.732969e+07</td>\n",
       "      <td>0.000000</td>\n",
       "      <td>0.000000</td>\n",
       "      <td>0.000000</td>\n",
       "      <td>0.0</td>\n",
       "    </tr>\n",
       "    <tr>\n",
       "      <th>75%</th>\n",
       "      <td>17.216708</td>\n",
       "      <td>2.475780e+00</td>\n",
       "      <td>1.000000</td>\n",
       "      <td>4.779123</td>\n",
       "      <td>0.724793</td>\n",
       "      <td>1.000000</td>\n",
       "      <td>0.000000</td>\n",
       "      <td>1.000000</td>\n",
       "      <td>3.000000</td>\n",
       "      <td>1.000000</td>\n",
       "      <td>4.000000</td>\n",
       "      <td>2.000000</td>\n",
       "      <td>0.327691</td>\n",
       "      <td>0.136676</td>\n",
       "      <td>0.411765</td>\n",
       "      <td>2011.000000</td>\n",
       "      <td>10.000000</td>\n",
       "      <td>22.000000</td>\n",
       "      <td>4.000000</td>\n",
       "      <td>7.000000</td>\n",
       "      <td>3.218876</td>\n",
       "      <td>3.367296</td>\n",
       "      <td>2.384856</td>\n",
       "      <td>6.749052</td>\n",
       "      <td>0.421880</td>\n",
       "      <td>0.119589</td>\n",
       "      <td>0.071875</td>\n",
       "      <td>4.545455e+06</td>\n",
       "      <td>4.392029</td>\n",
       "      <td>0.392410</td>\n",
       "      <td>4.896870e+00</td>\n",
       "      <td>5.930185e-01</td>\n",
       "      <td>6.427836e+04</td>\n",
       "      <td>2.659574e+05</td>\n",
       "      <td>3.519716e+05</td>\n",
       "      <td>0.085067</td>\n",
       "      <td>0.003482</td>\n",
       "      <td>0.088015</td>\n",
       "      <td>5.827735</td>\n",
       "      <td>8.363693</td>\n",
       "      <td>2.898095e+07</td>\n",
       "      <td>5.710692</td>\n",
       "      <td>6.215789</td>\n",
       "      <td>0.060135</td>\n",
       "      <td>21.280597</td>\n",
       "      <td>2.610600e+07</td>\n",
       "      <td>0.000000</td>\n",
       "      <td>0.000000</td>\n",
       "      <td>0.000000</td>\n",
       "      <td>0.0</td>\n",
       "    </tr>\n",
       "    <tr>\n",
       "      <th>max</th>\n",
       "      <td>19.755682</td>\n",
       "      <td>5.688117e+00</td>\n",
       "      <td>5.000000</td>\n",
       "      <td>5.826000</td>\n",
       "      <td>1.627665</td>\n",
       "      <td>2.000000</td>\n",
       "      <td>1.000000</td>\n",
       "      <td>1.000000</td>\n",
       "      <td>7.000000</td>\n",
       "      <td>8.000000</td>\n",
       "      <td>19.000000</td>\n",
       "      <td>9.000000</td>\n",
       "      <td>1.000000</td>\n",
       "      <td>1.000000</td>\n",
       "      <td>1.000000</td>\n",
       "      <td>2017.000000</td>\n",
       "      <td>12.000000</td>\n",
       "      <td>31.000000</td>\n",
       "      <td>6.000000</td>\n",
       "      <td>9.000000</td>\n",
       "      <td>5.056246</td>\n",
       "      <td>5.273000</td>\n",
       "      <td>3.831962</td>\n",
       "      <td>9.848609</td>\n",
       "      <td>2.425809</td>\n",
       "      <td>16.276646</td>\n",
       "      <td>8.000000</td>\n",
       "      <td>8.000000e+08</td>\n",
       "      <td>8.000375</td>\n",
       "      <td>28.065863</td>\n",
       "      <td>1.140164e+02</td>\n",
       "      <td>2.943370e+02</td>\n",
       "      <td>4.000000e+07</td>\n",
       "      <td>1.100000e+07</td>\n",
       "      <td>4.175824e+06</td>\n",
       "      <td>6.634633</td>\n",
       "      <td>0.004567</td>\n",
       "      <td>8.200000</td>\n",
       "      <td>7.866060</td>\n",
       "      <td>32.962732</td>\n",
       "      <td>4.406363e+07</td>\n",
       "      <td>6.634633</td>\n",
       "      <td>8.333333</td>\n",
       "      <td>1.176229</td>\n",
       "      <td>63.500000</td>\n",
       "      <td>3.305316e+07</td>\n",
       "      <td>1.000000</td>\n",
       "      <td>1.000000</td>\n",
       "      <td>1.000000</td>\n",
       "      <td>0.0</td>\n",
       "    </tr>\n",
       "  </tbody>\n",
       "</table>\n",
       "</div>"
      ],
      "text/plain": [
       "        budget_log  popularity_log  ...  _genres_Animation  _genres_Biography\n",
       "count  3000.000000    3.000000e+03  ...        3000.000000             3000.0\n",
       "mean     11.961359    1.975396e+00  ...           0.047000                0.0\n",
       "std       7.403049    7.416869e-01  ...           0.211674                0.0\n",
       "min       0.000000    9.999995e-07  ...           0.000000                0.0\n",
       "25%       0.000000    1.613042e+00  ...           0.000000                0.0\n",
       "50%      15.894952    2.125233e+00  ...           0.000000                0.0\n",
       "75%      17.216708    2.475780e+00  ...           0.000000                0.0\n",
       "max      19.755682    5.688117e+00  ...           1.000000                0.0\n",
       "\n",
       "[8 rows x 50 columns]"
      ]
     },
     "execution_count": 12,
     "metadata": {
      "tags": []
     },
     "output_type": "execute_result"
    }
   ],
   "source": [
    "tr.iloc[:, :50].describe()"
   ]
  },
  {
   "cell_type": "code",
   "execution_count": 0,
   "metadata": {
    "colab": {},
    "colab_type": "code",
    "id": "BWqEksgZTaEa"
   },
   "outputs": [],
   "source": []
  },
  {
   "cell_type": "code",
   "execution_count": 0,
   "metadata": {
    "colab": {},
    "colab_type": "code",
    "id": "Jy2ZnVUiUhVF"
   },
   "outputs": [],
   "source": [
    "df = pd.DataFrame()\n",
    "df['val'] = y_val"
   ]
  },
  {
   "cell_type": "markdown",
   "metadata": {
    "colab_type": "text",
    "id": "wU2b06pb__xu"
   },
   "source": [
    "## Validation Set"
   ]
  },
  {
   "cell_type": "code",
   "execution_count": 0,
   "metadata": {
    "colab": {},
    "colab_type": "code",
    "id": "JlKc9ATPOLLk"
   },
   "outputs": [],
   "source": []
  },
  {
   "cell_type": "code",
   "execution_count": 0,
   "metadata": {
    "colab": {},
    "colab_type": "code",
    "id": "z90yelYeTEjA"
   },
   "outputs": [],
   "source": []
  },
  {
   "cell_type": "markdown",
   "metadata": {
    "colab_type": "text",
    "id": "6NXG_DRju2JU"
   },
   "source": [
    "### 1. Elastic-Net"
   ]
  },
  {
   "cell_type": "code",
   "execution_count": 0,
   "metadata": {
    "colab": {},
    "colab_type": "code",
    "id": "aae8jF9Y9Zh3"
   },
   "outputs": [],
   "source": [
    "X_tr_el = X_tr.fillna(-1)\n",
    "X_val_el = X_val.fillna(-1)\n",
    "te_el = te.fillna(-1)"
   ]
  },
  {
   "cell_type": "code",
   "execution_count": 295,
   "metadata": {
    "colab": {
     "base_uri": "https://localhost:8080/",
     "height": 68
    },
    "colab_type": "code",
    "id": "FvMSkEpElDLZ",
    "outputId": "69fb67e5-4a7b-4e9c-f4e8-99c4d5ebe7ad"
   },
   "outputs": [
    {
     "data": {
      "text/plain": [
       "ElasticNet(alpha=0.05, copy_X=True, fit_intercept=True, l1_ratio=0.001,\n",
       "      max_iter=5000, normalize=False, positive=False, precompute=False,\n",
       "      random_state=None, selection='cyclic', tol=0.0001, warm_start=False)"
      ]
     },
     "execution_count": 295,
     "metadata": {
      "tags": []
     },
     "output_type": "execute_result"
    }
   ],
   "source": [
    "model_el = ElasticNet(alpha = .05, l1_ratio = .001, max_iter = 5000)\n",
    "model_el.fit(X_tr_el, y_tr)"
   ]
  },
  {
   "cell_type": "code",
   "execution_count": 0,
   "metadata": {
    "colab": {},
    "colab_type": "code",
    "id": "qPu4281slDG0"
   },
   "outputs": [],
   "source": [
    "pred_el = model_el.predict(X_val_el)"
   ]
  },
  {
   "cell_type": "code",
   "execution_count": 297,
   "metadata": {
    "colab": {
     "base_uri": "https://localhost:8080/",
     "height": 34
    },
    "colab_type": "code",
    "id": "-powcJcxlDC2",
    "outputId": "edd8149f-83ac-44c2-fed0-ad76589196a3"
   },
   "outputs": [
    {
     "data": {
      "text/plain": [
       "2.0594729092486506"
      ]
     },
     "execution_count": 297,
     "metadata": {
      "tags": []
     },
     "output_type": "execute_result"
    }
   ],
   "source": [
    "np.sqrt(mean_squared_error(y_val, pred_el))"
   ]
  },
  {
   "cell_type": "code",
   "execution_count": 0,
   "metadata": {
    "colab": {},
    "colab_type": "code",
    "id": "qyeUSaT6uLtx"
   },
   "outputs": [],
   "source": [
    "# 1st try: 2.1347\n",
    "# 2nd try: 2.1266\n",
    "# 3rd try: 2.0524 (Mean encoding)\n",
    "# 1.9690"
   ]
  },
  {
   "cell_type": "code",
   "execution_count": 0,
   "metadata": {
    "colab": {},
    "colab_type": "code",
    "id": "pcJRnmApUcRb"
   },
   "outputs": [],
   "source": [
    "df['el'] = pred_el"
   ]
  },
  {
   "cell_type": "code",
   "execution_count": 0,
   "metadata": {
    "colab": {},
    "colab_type": "code",
    "id": "H6gCvvXMUbm4"
   },
   "outputs": [],
   "source": [
    "te_l1['el'] = model_el.predict(te_el)"
   ]
  },
  {
   "cell_type": "markdown",
   "metadata": {
    "colab_type": "text",
    "id": "Vy4kWzmxOg5v"
   },
   "source": [
    "### 2. KNN "
   ]
  },
  {
   "cell_type": "code",
   "execution_count": 0,
   "metadata": {
    "colab": {},
    "colab_type": "code",
    "id": "rJNx1LEaV655"
   },
   "outputs": [],
   "source": [
    "# scaling?"
   ]
  },
  {
   "cell_type": "code",
   "execution_count": 310,
   "metadata": {
    "colab": {
     "base_uri": "https://localhost:8080/",
     "height": 68
    },
    "colab_type": "code",
    "id": "PHEPkP9xOg1u",
    "outputId": "e190b237-8a16-4ee3-eb66-eabee12733bb"
   },
   "outputs": [
    {
     "data": {
      "text/plain": [
       "KNeighborsRegressor(algorithm='auto', leaf_size=30, metric='minkowski',\n",
       "          metric_params=None, n_jobs=None, n_neighbors=15, p=2,\n",
       "          weights='distance')"
      ]
     },
     "execution_count": 310,
     "metadata": {
      "tags": []
     },
     "output_type": "execute_result"
    }
   ],
   "source": [
    "model_knn = KNeighborsRegressor(n_neighbors = 15, \n",
    "                                weights = 'distance',\n",
    "                                p = 2)  \n",
    "\n",
    "model_knn.fit(X_tr_el, y_tr)"
   ]
  },
  {
   "cell_type": "code",
   "execution_count": 311,
   "metadata": {
    "colab": {
     "base_uri": "https://localhost:8080/",
     "height": 34
    },
    "colab_type": "code",
    "id": "Yr9HoUnUOgxk",
    "outputId": "834d4d26-a143-4989-e031-31ffa4bd7ff1"
   },
   "outputs": [
    {
     "data": {
      "text/plain": [
       "2.5476883416507774"
      ]
     },
     "execution_count": 311,
     "metadata": {
      "tags": []
     },
     "output_type": "execute_result"
    }
   ],
   "source": [
    "pred_knn = model_knn.predict(X_val_el)\n",
    "np.sqrt(mean_squared_error(y_val, pred_knn))"
   ]
  },
  {
   "cell_type": "code",
   "execution_count": 0,
   "metadata": {
    "colab": {},
    "colab_type": "code",
    "id": "VQA2ALy5Ogtv"
   },
   "outputs": [],
   "source": [
    "# 3rd try: 2.1707 (Mean encoding)"
   ]
  },
  {
   "cell_type": "code",
   "execution_count": 0,
   "metadata": {
    "colab": {},
    "colab_type": "code",
    "id": "jPgCtCV-OgK4"
   },
   "outputs": [],
   "source": [
    "df['knn'] = pred_knn"
   ]
  },
  {
   "cell_type": "code",
   "execution_count": 0,
   "metadata": {
    "colab": {},
    "colab_type": "code",
    "id": "flY-KV-lOgF7"
   },
   "outputs": [],
   "source": [
    "te_l1['knn'] = model_knn.predict(te_el)"
   ]
  },
  {
   "cell_type": "code",
   "execution_count": 0,
   "metadata": {
    "colab": {},
    "colab_type": "code",
    "id": "oy1e4xL5foFu"
   },
   "outputs": [],
   "source": []
  },
  {
   "cell_type": "markdown",
   "metadata": {
    "colab_type": "text",
    "id": "cxl0uyTBfoa6"
   },
   "source": [
    "## RandomForest"
   ]
  },
  {
   "cell_type": "code",
   "execution_count": 0,
   "metadata": {
    "colab": {},
    "colab_type": "code",
    "id": "2WJRc0vefoeW"
   },
   "outputs": [],
   "source": [
    "from sklearn.ensemble import RandomForestRegressor\n",
    "model_rf = RandomForestRegressor(n_estimators = 3000,\n",
    "                                 criterion = 'mse',\n",
    "                                 #min_samples_split = .7,\n",
    "                                 #min_samples_leaf = 100,\n",
    "                                 max_depth = 9)\n",
    "model_rf.fit(X_tr_el, y_tr)\n",
    "df['rf'] = model_rf.predict(X_val_el)"
   ]
  },
  {
   "cell_type": "code",
   "execution_count": 315,
   "metadata": {
    "colab": {
     "base_uri": "https://localhost:8080/",
     "height": 34
    },
    "colab_type": "code",
    "id": "w6jdiZcZfoXK",
    "outputId": "56f06580-7655-4f1f-bfb8-62fc6353797d"
   },
   "outputs": [
    {
     "data": {
      "text/plain": [
       "1.8753224956609174"
      ]
     },
     "execution_count": 315,
     "metadata": {
      "tags": []
     },
     "output_type": "execute_result"
    }
   ],
   "source": [
    "np.sqrt(mean_squared_error(y_val, df['rf']))"
   ]
  },
  {
   "cell_type": "code",
   "execution_count": 0,
   "metadata": {
    "colab": {},
    "colab_type": "code",
    "id": "3Oqv44m1foSz"
   },
   "outputs": [],
   "source": [
    "te_l1['rf'] = model_rf.predict(te_el)"
   ]
  },
  {
   "cell_type": "code",
   "execution_count": 0,
   "metadata": {
    "colab": {},
    "colab_type": "code",
    "id": "j3QeBgMYfoKl"
   },
   "outputs": [],
   "source": []
  },
  {
   "cell_type": "markdown",
   "metadata": {
    "colab_type": "text",
    "id": "-U1IQlvkOYSs"
   },
   "source": [
    "### 3. Kernel SVM"
   ]
  },
  {
   "cell_type": "code",
   "execution_count": 0,
   "metadata": {
    "colab": {},
    "colab_type": "code",
    "id": "Ko7EOMgJV4YH"
   },
   "outputs": [],
   "source": [
    "# scaling?"
   ]
  },
  {
   "cell_type": "code",
   "execution_count": 317,
   "metadata": {
    "colab": {
     "base_uri": "https://localhost:8080/",
     "height": 122
    },
    "colab_type": "code",
    "id": "gKdxcndpOYOx",
    "outputId": "eece96e4-328c-46ea-b636-b3b3f42947b7"
   },
   "outputs": [
    {
     "name": "stderr",
     "output_type": "stream",
     "text": [
      "/usr/local/lib/python3.6/dist-packages/sklearn/svm/base.py:196: FutureWarning: The default value of gamma will change from 'auto' to 'scale' in version 0.22 to account better for unscaled features. Set gamma explicitly to 'auto' or 'scale' to avoid this warning.\n",
      "  \"avoid this warning.\", FutureWarning)\n"
     ]
    },
    {
     "data": {
      "text/plain": [
       "SVR(C=1.0, cache_size=200, coef0=0.0, degree=3, epsilon=0.1,\n",
       "  gamma='auto_deprecated', kernel='rbf', max_iter=-1, shrinking=True,\n",
       "  tol=0.001, verbose=False)"
      ]
     },
     "execution_count": 317,
     "metadata": {
      "tags": []
     },
     "output_type": "execute_result"
    }
   ],
   "source": [
    "model_svm = SVR(kernel = 'rbf')  \n",
    "model_svm.fit(X_tr_el, y_tr)"
   ]
  },
  {
   "cell_type": "code",
   "execution_count": 318,
   "metadata": {
    "colab": {
     "base_uri": "https://localhost:8080/",
     "height": 34
    },
    "colab_type": "code",
    "id": "awXq5R1DOYLa",
    "outputId": "f1532243-9c87-4788-8f36-bf9e4c7e40dc"
   },
   "outputs": [
    {
     "data": {
      "text/plain": [
       "2.5476883416507774"
      ]
     },
     "execution_count": 318,
     "metadata": {
      "tags": []
     },
     "output_type": "execute_result"
    }
   ],
   "source": [
    "pred_svm = model_svm.predict(X_val_el)\n",
    "np.sqrt(mean_squared_error(y_val, pred_knn))"
   ]
  },
  {
   "cell_type": "code",
   "execution_count": 0,
   "metadata": {
    "colab": {},
    "colab_type": "code",
    "id": "ta_v8B11OYHt"
   },
   "outputs": [],
   "source": [
    "# 3rd try: 2.1707 (Mean encoding)"
   ]
  },
  {
   "cell_type": "code",
   "execution_count": 0,
   "metadata": {
    "colab": {},
    "colab_type": "code",
    "id": "D78cVS0cOYD0"
   },
   "outputs": [],
   "source": [
    "df['svm'] = pred_svm"
   ]
  },
  {
   "cell_type": "code",
   "execution_count": 0,
   "metadata": {
    "colab": {},
    "colab_type": "code",
    "id": "pkR2YcPmYA0r"
   },
   "outputs": [],
   "source": [
    "te_l1['svm'] = model_svm.predict(te_el)"
   ]
  },
  {
   "cell_type": "markdown",
   "metadata": {
    "colab_type": "text",
    "id": "aSOZ4TdgmRc6"
   },
   "source": [
    "### 4. Xgboost"
   ]
  },
  {
   "cell_type": "code",
   "execution_count": 0,
   "metadata": {
    "colab": {},
    "colab_type": "code",
    "id": "ZrwDjC2qmRYv"
   },
   "outputs": [],
   "source": [
    "model_xg = xgb.XGBRegressor(objective = 'reg:linear',\n",
    "                            n_estimators = 3000, \n",
    "                            max_depth = 9, \n",
    "                            learning_rate = 0.01,\n",
    "                            early_stopping_rounds = 500,\n",
    "                            gamma = 1.0, \n",
    "                            #alpha = .6,\n",
    "                            subsample = 0.5,   \n",
    "                            colsample_bytree = 0.7, \n",
    "                            colsample_bylevel = 0.7,\n",
    "                            silent = True)"
   ]
  },
  {
   "cell_type": "code",
   "execution_count": 322,
   "metadata": {
    "colab": {
     "base_uri": "https://localhost:8080/",
     "height": 68
    },
    "colab_type": "code",
    "id": "URgam83RP_6P",
    "outputId": "2f31b765-59db-46a7-d9d9-82c7cdd278c3"
   },
   "outputs": [
    {
     "name": "stderr",
     "output_type": "stream",
     "text": [
      "/usr/local/lib/python3.6/dist-packages/xgboost/core.py:587: FutureWarning: Series.base is deprecated and will be removed in a future version\n",
      "  if getattr(data, 'base', None) is not None and \\\n"
     ]
    },
    {
     "data": {
      "text/plain": [
       "1.8103316676906565"
      ]
     },
     "execution_count": 322,
     "metadata": {
      "tags": []
     },
     "output_type": "execute_result"
    }
   ],
   "source": [
    "model_xg.fit(X_tr, y_tr)\n",
    "    \n",
    "pred_xg = model_xg.predict(X_val)\n",
    "np.sqrt(mean_squared_error(y_val, pred_xg))"
   ]
  },
  {
   "cell_type": "code",
   "execution_count": 0,
   "metadata": {
    "colab": {},
    "colab_type": "code",
    "id": "u3G-BVqSmRMf"
   },
   "outputs": [],
   "source": [
    "# 1st try: 1.9202\n",
    "# 2nd try: 1.9128\n",
    "# 3nd try: 1.8978\n",
    "# 4th try: 1.8791 (Mean encoding)    # 1.8430\n",
    "# 5th try: 1.8439 (+ Voting Data)    "
   ]
  },
  {
   "cell_type": "code",
   "execution_count": 0,
   "metadata": {
    "colab": {
     "base_uri": "https://localhost:8080/",
     "height": 141
    },
    "colab_type": "code",
    "id": "sJ9sxXx3YPZx",
    "outputId": "7fb5f83f-da82-43a7-ac93-936171130d4e"
   },
   "outputs": [
    {
     "data": {
      "text/plain": [
       "<bound method XGBModel.get_params of XGBRegressor(base_score=0.5, booster='gbtree', colsample_bylevel=0.8,\n",
       "       colsample_bytree=0.7, early_stopping_rounds=500, gamma=1.0,\n",
       "       importance_type='gain', learning_rate=0.007, max_delta_step=0,\n",
       "       max_depth=9, min_child_weight=1, missing=None, n_estimators=3000,\n",
       "       n_jobs=1, nthread=None, objective='reg:linear', random_state=0,\n",
       "       reg_alpha=0, reg_lambda=1, scale_pos_weight=1, seed=None,\n",
       "       silent=True, subsample=0.7)>"
      ]
     },
     "execution_count": 25,
     "metadata": {
      "tags": []
     },
     "output_type": "execute_result"
    }
   ],
   "source": [
    "param_save = model_xg.get_params\n",
    "param_save"
   ]
  },
  {
   "cell_type": "code",
   "execution_count": 0,
   "metadata": {
    "colab": {},
    "colab_type": "code",
    "id": "Eb_DKV_zECbd"
   },
   "outputs": [],
   "source": [
    "df['xg'] = pred_xg"
   ]
  },
  {
   "cell_type": "code",
   "execution_count": 0,
   "metadata": {
    "colab": {},
    "colab_type": "code",
    "id": "NEQ0Ay61YGHd"
   },
   "outputs": [],
   "source": [
    "te_l1['xg'] = model_xg.predict(te)"
   ]
  },
  {
   "cell_type": "code",
   "execution_count": 0,
   "metadata": {
    "colab": {
     "base_uri": "https://localhost:8080/",
     "height": 1056
    },
    "colab_type": "code",
    "id": "53sEXmDj1n42",
    "outputId": "3b09b2fe-f14f-45ec-f468-b94cf079aba1"
   },
   "outputs": [
    {
     "data": {
      "image/png": "[encoded data removed]",
      "text/plain": [
       "<Figure size 864x1296 with 1 Axes>"
      ]
     },
     "metadata": {
      "tags": []
     },
     "output_type": "display_data"
    }
   ],
   "source": [
    "fig, ax = plt.subplots(figsize=(12,18))\n",
    "xgb.plot_importance(model_xg, max_num_features= 50, height=0.8, ax=ax)\n",
    "plt.show()"
   ]
  },
  {
   "cell_type": "code",
   "execution_count": 0,
   "metadata": {
    "colab": {},
    "colab_type": "code",
    "id": "iwlRfn7I9gEB"
   },
   "outputs": [],
   "source": [
    "import pickle\n",
    "# Save the model\n",
    "filename = 'model_xg.pkl'\n",
    "with open(filename, 'wb') as file:\n",
    "  pickle.dump(model_xg, file)"
   ]
  },
  {
   "cell_type": "code",
   "execution_count": 0,
   "metadata": {
    "colab": {},
    "colab_type": "code",
    "id": "5Mb2B4Ss9f6M"
   },
   "outputs": [],
   "source": []
  },
  {
   "cell_type": "markdown",
   "metadata": {
    "colab_type": "text",
    "id": "fbeIIJLou4SO"
   },
   "source": [
    "### 5. Catboost"
   ]
  },
  {
   "cell_type": "code",
   "execution_count": 327,
   "metadata": {
    "colab": {
     "base_uri": "https://localhost:8080/",
     "height": 34
    },
    "colab_type": "code",
    "id": "66uB1vQajEAt",
    "outputId": "a46a46c2-ff02-4734-83ae-2e92a4af176a"
   },
   "outputs": [
    {
     "data": {
      "text/plain": [
       "<catboost.core.CatBoostRegressor at 0x7f943edefd30>"
      ]
     },
     "execution_count": 327,
     "metadata": {
      "tags": []
     },
     "output_type": "execute_result"
    }
   ],
   "source": [
    "model_cb = CatBoostRegressor(bagging_temperature = 0.3,  \n",
    "                             colsample_bylevel = 0.7,  \n",
    "                             depth = 9,   \n",
    "                             early_stopping_rounds = 500,   \n",
    "                             eval_metric = 'RMSE',\n",
    "                             iterations = 3000,                             \n",
    "                             learning_rate = .01,    \n",
    "                             logging_level = 'Silent')\n",
    "\n",
    "model_cb.fit(X_tr, y_tr, eval_set = (X_val, y_val), use_best_model = True)"
   ]
  },
  {
   "cell_type": "code",
   "execution_count": 328,
   "metadata": {
    "colab": {
     "base_uri": "https://localhost:8080/",
     "height": 34
    },
    "colab_type": "code",
    "id": "aOQaWZMpkVYK",
    "outputId": "5d919af8-a316-4942-a97d-55f554d344d4"
   },
   "outputs": [
    {
     "data": {
      "text/plain": [
       "1.73389319000852"
      ]
     },
     "execution_count": 328,
     "metadata": {
      "tags": []
     },
     "output_type": "execute_result"
    }
   ],
   "source": [
    "pred_cb = model_cb.predict(X_val)\n",
    "np.sqrt(mean_squared_error(y_val, pred_cb))"
   ]
  },
  {
   "cell_type": "code",
   "execution_count": 0,
   "metadata": {
    "colab": {},
    "colab_type": "code",
    "id": "Z7PFdJGnkVMQ"
   },
   "outputs": [],
   "source": [
    "# 1st try: 1.9218\n",
    "# 2nd try: 1.8779\n",
    "# 3rd try: 1.8753\n",
    "# 4th try: 1.8618 (Mean encoding)     # 1.73\n",
    "# 5th try: 1.8268 (+ Voting Data)"
   ]
  },
  {
   "cell_type": "code",
   "execution_count": 0,
   "metadata": {
    "colab": {
     "base_uri": "https://localhost:8080/",
     "height": 176
    },
    "colab_type": "code",
    "id": "F70LE-vtkVHy",
    "outputId": "a4ec5919-39d3-43f4-f40c-390f47e85f84"
   },
   "outputs": [
    {
     "data": {
      "text/plain": [
       "{'bagging_temperature': 0.5,\n",
       " 'colsample_bylevel': 0.8,\n",
       " 'depth': 9,\n",
       " 'early_stopping_rounds': 500,\n",
       " 'eval_metric': 'RMSE',\n",
       " 'iterations': 3000,\n",
       " 'learning_rate': 0.05,\n",
       " 'logging_level': 'Silent',\n",
       " 'loss_function': 'RMSE'}"
      ]
     },
     "execution_count": 33,
     "metadata": {
      "tags": []
     },
     "output_type": "execute_result"
    }
   ],
   "source": [
    "model_cb.get_params()"
   ]
  },
  {
   "cell_type": "code",
   "execution_count": 0,
   "metadata": {
    "colab": {},
    "colab_type": "code",
    "id": "JqB7tIDPy-8m"
   },
   "outputs": [],
   "source": [
    "df['cb'] = pred_cb"
   ]
  },
  {
   "cell_type": "code",
   "execution_count": 0,
   "metadata": {
    "colab": {},
    "colab_type": "code",
    "id": "sIFNKBPFYLpc"
   },
   "outputs": [],
   "source": [
    "te_l1['cb'] = model_cb.predict(te)"
   ]
  },
  {
   "cell_type": "markdown",
   "metadata": {
    "colab_type": "text",
    "id": "NY6rCN7PqLoT"
   },
   "source": [
    "### 6. Lightgbm"
   ]
  },
  {
   "cell_type": "code",
   "execution_count": 331,
   "metadata": {
    "colab": {
     "base_uri": "https://localhost:8080/",
     "height": 139
    },
    "colab_type": "code",
    "id": "R06-Shda73jR",
    "outputId": "6994f3bb-f151-4c01-9784-c5531e1661f6"
   },
   "outputs": [
    {
     "name": "stdout",
     "output_type": "stream",
     "text": [
      "/usr/local/lib/python3.6/dist-packages/pip/_internal/commands/install.py:244: UserWarning: Disabling all use of wheels due to the use of --build-options / --global-options / --install-options.\n",
      "  cmdoptions.check_install_build_global(options)\n",
      "Requirement already satisfied: lightgbm in /usr/local/lib/python3.6/dist-packages (2.2.3)\n",
      "Requirement already satisfied: scipy in /usr/local/lib/python3.6/dist-packages (from lightgbm) (1.2.1)\n",
      "Requirement already satisfied: scikit-learn in /usr/local/lib/python3.6/dist-packages (from lightgbm) (0.20.3)\n",
      "Requirement already satisfied: numpy in /usr/local/lib/python3.6/dist-packages (from lightgbm) (1.16.3)\n"
     ]
    }
   ],
   "source": [
    "!pip install lightgbm --install-option=--gpu\n",
    "import lightgbm as lgb"
   ]
  },
  {
   "cell_type": "code",
   "execution_count": 332,
   "metadata": {
    "colab": {
     "base_uri": "https://localhost:8080/",
     "height": 102
    },
    "colab_type": "code",
    "id": "p64muoC2qZky",
    "outputId": "2fdb0e04-6605-48c3-cce6-386137e63774"
   },
   "outputs": [
    {
     "name": "stderr",
     "output_type": "stream",
     "text": [
      "/usr/local/lib/python3.6/dist-packages/lightgbm/engine.py:118: UserWarning: Found `num_iterations` in params. Will use it instead of argument\n",
      "  warnings.warn(\"Found `{}` in params. Will use it instead of argument\".format(alias))\n"
     ]
    },
    {
     "name": "stdout",
     "output_type": "stream",
     "text": [
      "Training until validation scores don't improve for 500 rounds.\n",
      "Early stopping, best iteration is:\n",
      "[326]\tvalid_0's rmse: 1.78603\n"
     ]
    }
   ],
   "source": [
    "tr_data = lgb.Dataset(X_tr, label = y_tr)\n",
    "val_data = lgb.Dataset(X_val, label = y_val)\n",
    "\n",
    "params = {'objective' : 'regression',\n",
    "          'num_iterations' : 10000, \n",
    "          'max_depth' : 11,\n",
    "          'num_leaves' : 100,\n",
    "          'learning_rate': 0.05, \n",
    "          'metric' : 'rmse',\n",
    "          'min_data_in_leaf' : 100,\n",
    "          'colsample_bytree': 0.6,\n",
    "          'subsample_freq': 1,\n",
    "          'lambda_l1' : 0.01,\n",
    "          'lambda_l2' : 0.5,\n",
    "          'subsample' : 0.8, \n",
    "          'verbose' : -1}\n",
    "\n",
    "hist = {}\n",
    "model_lg = lgb.train(params, tr_data, \n",
    "                     valid_sets = [val_data],\n",
    "                     verbose_eval = -1, \n",
    "                     early_stopping_rounds = 500,\n",
    "                     callbacks = [lgb.record_evaluation(hist)])"
   ]
  },
  {
   "cell_type": "code",
   "execution_count": 333,
   "metadata": {
    "colab": {
     "base_uri": "https://localhost:8080/",
     "height": 34
    },
    "colab_type": "code",
    "id": "VSnyWtDn7Pvq",
    "outputId": "91d5cee4-cdf3-4b06-c922-ba61fb1abde6"
   },
   "outputs": [
    {
     "data": {
      "text/plain": [
       "1.7860315475624462"
      ]
     },
     "execution_count": 333,
     "metadata": {
      "tags": []
     },
     "output_type": "execute_result"
    }
   ],
   "source": [
    "pred_lg = model_lg.predict(X_val, num_iteration = model_lg.best_iteration)\n",
    "np.sqrt(mean_squared_error(y_val, pred_lg))"
   ]
  },
  {
   "cell_type": "code",
   "execution_count": 0,
   "metadata": {
    "colab": {},
    "colab_type": "code",
    "id": "Zln7Mt34qKQI"
   },
   "outputs": [],
   "source": [
    "# 1st try: \n",
    "# 2nd try: 1.9138\n",
    "# 3rd try: 1.9008 (Mean encoding)\n",
    "# 5th try: 1.8738 (+ Voting Data)"
   ]
  },
  {
   "cell_type": "code",
   "execution_count": 0,
   "metadata": {
    "colab": {
     "base_uri": "https://localhost:8080/",
     "height": 230
    },
    "colab_type": "code",
    "id": "WJ6C8iyIfp8V",
    "outputId": "0904c360-6022-456d-88ed-4067121a0a45"
   },
   "outputs": [
    {
     "data": {
      "text/plain": [
       "{'colsample_bytree': 0.8,\n",
       " 'lambda_l1': 0.01,\n",
       " 'lambda_l2': 0.5,\n",
       " 'learning_rate': 0.003,\n",
       " 'max_depth': 13,\n",
       " 'metric': 'rmse',\n",
       " 'min_data_in_leaf': 100,\n",
       " 'num_leaves': 200,\n",
       " 'objective': 'regression',\n",
       " 'subsample': 0.8,\n",
       " 'subsample_freq': 1,\n",
       " 'verbose': -1}"
      ]
     },
     "execution_count": 71,
     "metadata": {
      "tags": []
     },
     "output_type": "execute_result"
    }
   ],
   "source": [
    "model_lg.params"
   ]
  },
  {
   "cell_type": "code",
   "execution_count": 0,
   "metadata": {
    "colab": {},
    "colab_type": "code",
    "id": "TIQECkhnjc4L"
   },
   "outputs": [],
   "source": [
    "df['lg'] = pred_lg"
   ]
  },
  {
   "cell_type": "code",
   "execution_count": 0,
   "metadata": {
    "colab": {},
    "colab_type": "code",
    "id": "yb5pjqjzYRWt"
   },
   "outputs": [],
   "source": [
    "te_l1['lg'] = model_lg.predict(te_el)"
   ]
  },
  {
   "cell_type": "markdown",
   "metadata": {
    "colab_type": "text",
    "id": "DA6Ci1O1u4-f"
   },
   "source": [
    "### 7. Keras"
   ]
  },
  {
   "cell_type": "code",
   "execution_count": 0,
   "metadata": {
    "colab": {},
    "colab_type": "code",
    "id": "Do3dSm7nvdhj"
   },
   "outputs": [],
   "source": [
    "import keras\n",
    "from keras.models import Sequential\n",
    "from keras.layers import Dense, Dropout, BatchNormalization\n",
    "from keras.optimizers import Adam, RMSprop, SGD\n",
    "from keras.callbacks import EarlyStopping"
   ]
  },
  {
   "cell_type": "code",
   "execution_count": 336,
   "metadata": {
    "colab": {
     "base_uri": "https://localhost:8080/",
     "height": 51
    },
    "colab_type": "code",
    "id": "ixLm8rtAmil7",
    "outputId": "d6eea7b1-cb41-498c-fec8-69529600f41b"
   },
   "outputs": [
    {
     "name": "stdout",
     "output_type": "stream",
     "text": [
      "376\n",
      "188.0\n"
     ]
    }
   ],
   "source": [
    "print(X_tr.shape[1])\n",
    "print(X_tr.shape[1] /2)"
   ]
  },
  {
   "cell_type": "code",
   "execution_count": 341,
   "metadata": {
    "colab": {
     "base_uri": "https://localhost:8080/",
     "height": 187
    },
    "colab_type": "code",
    "id": "0NdZviyBmFZ4",
    "outputId": "21e8b9a1-df8f-4764-d389-fae9fd4d05d3"
   },
   "outputs": [
    {
     "name": "stderr",
     "output_type": "stream",
     "text": [
      "/usr/local/lib/python3.6/dist-packages/ipykernel_launcher.py:4: UserWarning: Update your `Dense` call to the Keras 2 API: `Dense(input_dim=376, activation=\"relu\", units=128)`\n",
      "  after removing the cwd from sys.path.\n",
      "/usr/local/lib/python3.6/dist-packages/ipykernel_launcher.py:5: UserWarning: Update your `Dense` call to the Keras 2 API: `Dense(activation=\"relu\", units=64)`\n",
      "  \"\"\"\n",
      "/usr/local/lib/python3.6/dist-packages/ipykernel_launcher.py:8: UserWarning: Update your `Dense` call to the Keras 2 API: `Dense(activation=\"relu\", units=32)`\n",
      "  \n",
      "/usr/local/lib/python3.6/dist-packages/ipykernel_launcher.py:11: UserWarning: Update your `Dense` call to the Keras 2 API: `Dense(activation=\"relu\", units=16)`\n",
      "  # This is added back by InteractiveShellApp.init_path()\n",
      "/usr/local/lib/python3.6/dist-packages/ipykernel_launcher.py:13: UserWarning: Update your `Dense` call to the Keras 2 API: `Dense(units=1)`\n",
      "  del sys.path[0]\n"
     ]
    }
   ],
   "source": [
    "# initialize the model\n",
    "model = Sequential()\n",
    "\n",
    "# create hidden layers\n",
    "model.add(Dense(input_dim = X_tr.shape[1], output_dim = 128, activation = 'relu'))\n",
    "model.add(Dense(output_dim = 64, activation = 'relu'))\n",
    "#model.add(Dropout(.7))\n",
    "model.add(BatchNormalization())\n",
    "model.add(Dense(output_dim = 32, activation = 'relu'))\n",
    "#model.add(Dropout(.7))\n",
    "model.add(BatchNormalization())\n",
    "model.add(Dense(output_dim = 16, activation = 'relu'))\n",
    "#model.add(BatchNormalization())\n",
    "model.add(Dense(output_dim = 1)) \n",
    "\n",
    "# compile: stochastic gradient descent\n",
    "model.compile(optimizer = Adam(lr=0.01), \n",
    "              loss = 'mse', \n",
    "              metrics = ['mean_squared_error'])"
   ]
  },
  {
   "cell_type": "code",
   "execution_count": 342,
   "metadata": {
    "colab": {
     "base_uri": "https://localhost:8080/",
     "height": 612
    },
    "colab_type": "code",
    "id": "eH32NkwHn10R",
    "outputId": "6ccdcbff-c626-422f-dfc2-81c19c1109a2"
   },
   "outputs": [
    {
     "name": "stderr",
     "output_type": "stream",
     "text": [
      "/usr/local/lib/python3.6/dist-packages/ipykernel_launcher.py:7: UserWarning: The `nb_epoch` argument in `fit` has been renamed `epochs`.\n",
      "  import sys\n"
     ]
    },
    {
     "name": "stdout",
     "output_type": "stream",
     "text": [
      "Train on 2400 samples, validate on 600 samples\n",
      "Epoch 1/3000\n",
      "2400/2400 [==============================] - 6s 2ms/step - loss: 121.8389 - mean_squared_error: 121.8389 - val_loss: 171.2665 - val_mean_squared_error: 171.2665\n",
      "Epoch 2/3000\n",
      "2400/2400 [==============================] - 0s 73us/step - loss: 12.7437 - mean_squared_error: 12.7437 - val_loss: 17.8785 - val_mean_squared_error: 17.8785\n",
      "Epoch 3/3000\n",
      "2400/2400 [==============================] - 0s 76us/step - loss: 8.0550 - mean_squared_error: 8.0550 - val_loss: 10.3828 - val_mean_squared_error: 10.3828\n",
      "Epoch 4/3000\n",
      "2400/2400 [==============================] - 0s 73us/step - loss: 7.1528 - mean_squared_error: 7.1528 - val_loss: 10.4130 - val_mean_squared_error: 10.4130\n",
      "Epoch 5/3000\n",
      "2400/2400 [==============================] - 0s 74us/step - loss: 6.3841 - mean_squared_error: 6.3841 - val_loss: 19.1982 - val_mean_squared_error: 19.1982\n",
      "Epoch 6/3000\n",
      "2400/2400 [==============================] - 0s 72us/step - loss: 6.2629 - mean_squared_error: 6.2629 - val_loss: 11.0356 - val_mean_squared_error: 11.0356\n",
      "Epoch 7/3000\n",
      "2400/2400 [==============================] - 0s 72us/step - loss: 6.5843 - mean_squared_error: 6.5843 - val_loss: 11.6028 - val_mean_squared_error: 11.6028\n",
      "Epoch 8/3000\n",
      "2400/2400 [==============================] - 0s 74us/step - loss: 6.7076 - mean_squared_error: 6.7076 - val_loss: 5.5009 - val_mean_squared_error: 5.5009\n",
      "Epoch 9/3000\n",
      "2400/2400 [==============================] - 0s 78us/step - loss: 6.1580 - mean_squared_error: 6.1580 - val_loss: 9.1860 - val_mean_squared_error: 9.1860\n",
      "Epoch 10/3000\n",
      "2400/2400 [==============================] - 0s 73us/step - loss: 6.0429 - mean_squared_error: 6.0429 - val_loss: 5.6537 - val_mean_squared_error: 5.6537\n",
      "Epoch 11/3000\n",
      "2400/2400 [==============================] - 0s 72us/step - loss: 6.1235 - mean_squared_error: 6.1235 - val_loss: 5.0776 - val_mean_squared_error: 5.0776\n",
      "Epoch 12/3000\n",
      "2400/2400 [==============================] - 0s 73us/step - loss: 6.1623 - mean_squared_error: 6.1623 - val_loss: 7.9295 - val_mean_squared_error: 7.9295\n",
      "Epoch 13/3000\n",
      "2400/2400 [==============================] - 0s 71us/step - loss: 6.0365 - mean_squared_error: 6.0365 - val_loss: 6.2653 - val_mean_squared_error: 6.2653\n",
      "Epoch 14/3000\n",
      "2400/2400 [==============================] - 0s 72us/step - loss: 6.2009 - mean_squared_error: 6.2009 - val_loss: 9.0702 - val_mean_squared_error: 9.0702\n",
      "Epoch 15/3000\n",
      "2400/2400 [==============================] - 0s 86us/step - loss: 6.2465 - mean_squared_error: 6.2465 - val_loss: 7.9030 - val_mean_squared_error: 7.9030\n",
      "Epoch 16/3000\n",
      "2400/2400 [==============================] - 0s 87us/step - loss: 5.8720 - mean_squared_error: 5.8720 - val_loss: 5.5849 - val_mean_squared_error: 5.5849\n"
     ]
    }
   ],
   "source": [
    "# early stopper \n",
    "early_stopper = EarlyStopping(patience = 5)\n",
    "\n",
    "r = model.fit(X_tr_el, y_tr, \n",
    "              validation_data = (X_val_el, y_val),\n",
    "              batch_size = 100, \n",
    "              nb_epoch = 3000,\n",
    "              callbacks = [early_stopper])"
   ]
  },
  {
   "cell_type": "code",
   "execution_count": 343,
   "metadata": {
    "colab": {
     "base_uri": "https://localhost:8080/",
     "height": 34
    },
    "colab_type": "code",
    "id": "eeGu93Rdn1uy",
    "outputId": "74df83b3-1718-4dc1-ee5c-d580414ceeb0"
   },
   "outputs": [
    {
     "data": {
      "text/plain": [
       "2.388245509839219"
      ]
     },
     "execution_count": 343,
     "metadata": {
      "tags": []
     },
     "output_type": "execute_result"
    }
   ],
   "source": [
    "# prediction \n",
    "pred_ke = model.predict(X_val)\n",
    "np.sqrt(mean_squared_error(y_val, pred_ke))"
   ]
  },
  {
   "cell_type": "code",
   "execution_count": 344,
   "metadata": {
    "colab": {
     "base_uri": "https://localhost:8080/",
     "height": 287
    },
    "colab_type": "code",
    "id": "CKUSj0GAUX-M",
    "outputId": "bb28c386-7557-41a8-b89c-e8af7abb168c"
   },
   "outputs": [
    {
     "data": {
      "text/plain": [
       "<matplotlib.axes._subplots.AxesSubplot at 0x7f93b0275438>"
      ]
     },
     "execution_count": 344,
     "metadata": {
      "tags": []
     },
     "output_type": "execute_result"
    },
    {
     "data": {
      "image/png": "[encoded data removed]",
      "text/plain": [
       "<Figure size 432x288 with 1 Axes>"
      ]
     },
     "metadata": {
      "tags": []
     },
     "output_type": "display_data"
    }
   ],
   "source": [
    "sns.regplot(x = pred_ke, y = y_val)"
   ]
  },
  {
   "cell_type": "code",
   "execution_count": 0,
   "metadata": {
    "colab": {},
    "colab_type": "code",
    "id": "4SiBcKX88cnC"
   },
   "outputs": [],
   "source": [
    "# 1st try : 2.9460\n",
    "# 2nd try : 2.9338 (Mean Encoding)"
   ]
  },
  {
   "cell_type": "code",
   "execution_count": 0,
   "metadata": {
    "colab": {},
    "colab_type": "code",
    "id": "Yj-p9b7ac4OX"
   },
   "outputs": [],
   "source": [
    "df['ke'] = pred_ke"
   ]
  },
  {
   "cell_type": "code",
   "execution_count": 0,
   "metadata": {
    "colab": {},
    "colab_type": "code",
    "id": "YbhXmt2XYUDh"
   },
   "outputs": [],
   "source": [
    "te_l1['ke'] = model.predict(te_el)"
   ]
  },
  {
   "cell_type": "code",
   "execution_count": 0,
   "metadata": {
    "colab": {},
    "colab_type": "code",
    "id": "5A1d8Wa1j1eu"
   },
   "outputs": [],
   "source": [
    "lr_vals = [0.005, 0.01, 0.05, 0.1]\n",
    "\n",
    "for lr in lr_vals:\n",
    "    my_optimizer = RMSprop(lr = lr)\n",
    "    model.compile(optimizer = my_optimizer, loss = 'mse', metrics = ['mean_squared_logarithmic_error'])\n",
    "    model.fit(X_tr, y_tr,\n",
    "              validation_data = (X_val, y_val),\n",
    "              batch_size = 100,\n",
    "              nb_epoch = 1000,\n",
    "              callbacks = [early_stopper])\n",
    "    \n",
    "    print(\"==========================\")\n",
    "    pred_ke = model.predict(X_val)\n",
    "    loss = np.sqrt(mean_squared_error(y_val, pred_ke))\n",
    "    print(\"Learning Rate: {}, RMSE: {}\".format(lr, loss))\n",
    "    print(\"==========================\")"
   ]
  },
  {
   "cell_type": "code",
   "execution_count": 0,
   "metadata": {
    "colab": {},
    "colab_type": "code",
    "id": "cmXb0Gfvn1pj"
   },
   "outputs": [],
   "source": [
    "# plot the error\n",
    "plt.plot(r.history['loss'], label = 'train loss')\n",
    "plt.plot(r.history['val_loss'], label = 'valid loss')\n",
    "plt.legend()\n",
    "plt.show()\n",
    "\n",
    "plt.plot(r.history['mean_squared_logarithmic_error'], label = 'train mse')\n",
    "plt.plot(r.history['val_mean_squared_logarithmic_error'], label = 'valid mse')\n",
    "plt.legend()\n",
    "plt.show()"
   ]
  },
  {
   "cell_type": "code",
   "execution_count": 0,
   "metadata": {
    "colab": {},
    "colab_type": "code",
    "id": "G44pfqwn8ogO"
   },
   "outputs": [],
   "source": []
  },
  {
   "cell_type": "code",
   "execution_count": 0,
   "metadata": {
    "colab": {},
    "colab_type": "code",
    "id": "5bd2_4Wf8oS_"
   },
   "outputs": [],
   "source": []
  },
  {
   "cell_type": "markdown",
   "metadata": {
    "colab_type": "text",
    "id": "yXy9DGjGu5pk"
   },
   "source": [
    "## Evaluation"
   ]
  },
  {
   "cell_type": "code",
   "execution_count": 347,
   "metadata": {
    "colab": {
     "base_uri": "https://localhost:8080/",
     "height": 609
    },
    "colab_type": "code",
    "id": "q4atMKZ18FvG",
    "outputId": "6c7a5790-fb7b-4ca3-a2e3-064f3d9d8920"
   },
   "outputs": [
    {
     "data": {
      "image/png": "[encoded data removed]",
      "text/plain": [
       "<Figure size 1440x720 with 8 Axes>"
      ]
     },
     "metadata": {
      "tags": []
     },
     "output_type": "display_data"
    }
   ],
   "source": [
    "fig, axes = plt.subplots(2, 4, figsize = (20, 10))\n",
    "\n",
    "for i, col in enumerate(df.columns[1:]):\n",
    "  sns.regplot(x = col, y = 'val', data = df, ax = axes[i//4, i%4])"
   ]
  },
  {
   "cell_type": "code",
   "execution_count": 388,
   "metadata": {
    "colab": {
     "base_uri": "https://localhost:8080/",
     "height": 204
    },
    "colab_type": "code",
    "id": "mWXdOyxO63k3",
    "outputId": "221c3711-8a38-456c-8454-8b816ff43a2e"
   },
   "outputs": [
    {
     "data": {
      "text/html": [
       "<div>\n",
       "<style scoped>\n",
       "    .dataframe tbody tr th:only-of-type {\n",
       "        vertical-align: middle;\n",
       "    }\n",
       "\n",
       "    .dataframe tbody tr th {\n",
       "        vertical-align: top;\n",
       "    }\n",
       "\n",
       "    .dataframe thead th {\n",
       "        text-align: right;\n",
       "    }\n",
       "</style>\n",
       "<table border=\"1\" class=\"dataframe\">\n",
       "  <thead>\n",
       "    <tr style=\"text-align: right;\">\n",
       "      <th></th>\n",
       "      <th>val</th>\n",
       "      <th>el</th>\n",
       "      <th>knn</th>\n",
       "      <th>rf</th>\n",
       "      <th>svm</th>\n",
       "      <th>xg</th>\n",
       "      <th>cb</th>\n",
       "      <th>lg</th>\n",
       "      <th>ke</th>\n",
       "    </tr>\n",
       "  </thead>\n",
       "  <tbody>\n",
       "    <tr>\n",
       "      <th>1574</th>\n",
       "      <td>8.810012</td>\n",
       "      <td>12.389611</td>\n",
       "      <td>11.690437</td>\n",
       "      <td>11.784755</td>\n",
       "      <td>14.234154</td>\n",
       "      <td>10.426545</td>\n",
       "      <td>11.952409</td>\n",
       "      <td>11.280832</td>\n",
       "      <td>14.925463</td>\n",
       "    </tr>\n",
       "    <tr>\n",
       "      <th>470</th>\n",
       "      <td>14.329968</td>\n",
       "      <td>12.138924</td>\n",
       "      <td>13.435323</td>\n",
       "      <td>11.665911</td>\n",
       "      <td>16.762393</td>\n",
       "      <td>11.144157</td>\n",
       "      <td>12.368020</td>\n",
       "      <td>12.870798</td>\n",
       "      <td>18.741896</td>\n",
       "    </tr>\n",
       "    <tr>\n",
       "      <th>970</th>\n",
       "      <td>16.118096</td>\n",
       "      <td>14.738245</td>\n",
       "      <td>13.333591</td>\n",
       "      <td>14.965088</td>\n",
       "      <td>16.762393</td>\n",
       "      <td>15.050518</td>\n",
       "      <td>14.812736</td>\n",
       "      <td>15.838996</td>\n",
       "      <td>15.578290</td>\n",
       "    </tr>\n",
       "    <tr>\n",
       "      <th>213</th>\n",
       "      <td>17.249498</td>\n",
       "      <td>15.046225</td>\n",
       "      <td>15.999929</td>\n",
       "      <td>15.407578</td>\n",
       "      <td>16.762393</td>\n",
       "      <td>15.267167</td>\n",
       "      <td>15.036150</td>\n",
       "      <td>15.949552</td>\n",
       "      <td>16.131329</td>\n",
       "    </tr>\n",
       "    <tr>\n",
       "      <th>2588</th>\n",
       "      <td>15.175864</td>\n",
       "      <td>17.111498</td>\n",
       "      <td>11.353663</td>\n",
       "      <td>16.473388</td>\n",
       "      <td>16.762393</td>\n",
       "      <td>15.732118</td>\n",
       "      <td>16.288759</td>\n",
       "      <td>15.746159</td>\n",
       "      <td>15.549747</td>\n",
       "    </tr>\n",
       "  </tbody>\n",
       "</table>\n",
       "</div>"
      ],
      "text/plain": [
       "            val         el        knn  ...         cb         lg         ke\n",
       "1574   8.810012  12.389611  11.690437  ...  11.952409  11.280832  14.925463\n",
       "470   14.329968  12.138924  13.435323  ...  12.368020  12.870798  18.741896\n",
       "970   16.118096  14.738245  13.333591  ...  14.812736  15.838996  15.578290\n",
       "213   17.249498  15.046225  15.999929  ...  15.036150  15.949552  16.131329\n",
       "2588  15.175864  17.111498  11.353663  ...  16.288759  15.746159  15.549747\n",
       "\n",
       "[5 rows x 9 columns]"
      ]
     },
     "execution_count": 388,
     "metadata": {
      "tags": []
     },
     "output_type": "execute_result"
    }
   ],
   "source": [
    "df.head()"
   ]
  },
  {
   "cell_type": "code",
   "execution_count": 0,
   "metadata": {
    "colab": {},
    "colab_type": "code",
    "id": "JgZLfcYr0pId"
   },
   "outputs": [],
   "source": [
    "num = 4\n",
    "filename = 'stack_train_' + str(num) + '.csv'\n",
    "df.to_csv(filename, index = False)\n",
    "files.download(filename)"
   ]
  },
  {
   "cell_type": "code",
   "execution_count": 350,
   "metadata": {
    "colab": {
     "base_uri": "https://localhost:8080/",
     "height": 204
    },
    "colab_type": "code",
    "id": "2zxtA7kUYd3V",
    "outputId": "256517e9-565d-43d0-87d2-4042bb4c7550"
   },
   "outputs": [
    {
     "data": {
      "text/html": [
       "<div>\n",
       "<style scoped>\n",
       "    .dataframe tbody tr th:only-of-type {\n",
       "        vertical-align: middle;\n",
       "    }\n",
       "\n",
       "    .dataframe tbody tr th {\n",
       "        vertical-align: top;\n",
       "    }\n",
       "\n",
       "    .dataframe thead th {\n",
       "        text-align: right;\n",
       "    }\n",
       "</style>\n",
       "<table border=\"1\" class=\"dataframe\">\n",
       "  <thead>\n",
       "    <tr style=\"text-align: right;\">\n",
       "      <th></th>\n",
       "      <th>el</th>\n",
       "      <th>knn</th>\n",
       "      <th>rf</th>\n",
       "      <th>svm</th>\n",
       "      <th>xg</th>\n",
       "      <th>cb</th>\n",
       "      <th>lg</th>\n",
       "      <th>ke</th>\n",
       "    </tr>\n",
       "  </thead>\n",
       "  <tbody>\n",
       "    <tr>\n",
       "      <th>0</th>\n",
       "      <td>14.396893</td>\n",
       "      <td>16.913128</td>\n",
       "      <td>14.560579</td>\n",
       "      <td>16.874601</td>\n",
       "      <td>17.699179</td>\n",
       "      <td>15.035665</td>\n",
       "      <td>15.438895</td>\n",
       "      <td>14.627176</td>\n",
       "    </tr>\n",
       "    <tr>\n",
       "      <th>1</th>\n",
       "      <td>13.769597</td>\n",
       "      <td>15.684968</td>\n",
       "      <td>14.272217</td>\n",
       "      <td>16.762393</td>\n",
       "      <td>13.243937</td>\n",
       "      <td>13.392078</td>\n",
       "      <td>14.295852</td>\n",
       "      <td>17.522978</td>\n",
       "    </tr>\n",
       "    <tr>\n",
       "      <th>2</th>\n",
       "      <td>14.826556</td>\n",
       "      <td>15.067891</td>\n",
       "      <td>16.077278</td>\n",
       "      <td>16.034189</td>\n",
       "      <td>16.910257</td>\n",
       "      <td>15.740754</td>\n",
       "      <td>17.195869</td>\n",
       "      <td>14.836325</td>\n",
       "    </tr>\n",
       "    <tr>\n",
       "      <th>3</th>\n",
       "      <td>16.427793</td>\n",
       "      <td>14.294191</td>\n",
       "      <td>15.779022</td>\n",
       "      <td>16.762393</td>\n",
       "      <td>15.730898</td>\n",
       "      <td>16.535145</td>\n",
       "      <td>16.003183</td>\n",
       "      <td>16.273699</td>\n",
       "    </tr>\n",
       "    <tr>\n",
       "      <th>4</th>\n",
       "      <td>14.573322</td>\n",
       "      <td>14.745218</td>\n",
       "      <td>13.473338</td>\n",
       "      <td>16.762393</td>\n",
       "      <td>14.866657</td>\n",
       "      <td>14.050694</td>\n",
       "      <td>13.973440</td>\n",
       "      <td>15.369491</td>\n",
       "    </tr>\n",
       "  </tbody>\n",
       "</table>\n",
       "</div>"
      ],
      "text/plain": [
       "          el        knn         rf  ...         cb         lg         ke\n",
       "0  14.396893  16.913128  14.560579  ...  15.035665  15.438895  14.627176\n",
       "1  13.769597  15.684968  14.272217  ...  13.392078  14.295852  17.522978\n",
       "2  14.826556  15.067891  16.077278  ...  15.740754  17.195869  14.836325\n",
       "3  16.427793  14.294191  15.779022  ...  16.535145  16.003183  16.273699\n",
       "4  14.573322  14.745218  13.473338  ...  14.050694  13.973440  15.369491\n",
       "\n",
       "[5 rows x 8 columns]"
      ]
     },
     "execution_count": 350,
     "metadata": {
      "tags": []
     },
     "output_type": "execute_result"
    }
   ],
   "source": [
    "te_l1.head()"
   ]
  },
  {
   "cell_type": "code",
   "execution_count": 0,
   "metadata": {
    "colab": {},
    "colab_type": "code",
    "id": "n7pyvOc9LR1Y"
   },
   "outputs": [],
   "source": [
    "filename = 'stack_test_' + str(num) + '.csv'\n",
    "te_l1.to_csv(filename, index = False)\n",
    "files.download(filename)"
   ]
  },
  {
   "cell_type": "code",
   "execution_count": 0,
   "metadata": {
    "colab": {},
    "colab_type": "code",
    "id": "7YvAxFq_sAtF"
   },
   "outputs": [],
   "source": []
  }
 ],
 "metadata": {
  "accelerator": "GPU",
  "colab": {
   "collapsed_sections": [
    "6NXG_DRju2JU"
   ],
   "name": "04_modeling_3(+FE_2nd).ipynb",
   "provenance": [],
   "toc_visible": true,
   "version": "0.3.2"
  },
  "kernelspec": {
   "display_name": "Python 3",
   "language": "python",
   "name": "python3"
  },
  "language_info": {
   "codemirror_mode": {
    "name": "ipython",
    "version": 3
   },
   "file_extension": ".py",
   "mimetype": "text/x-python",
   "name": "python",
   "nbconvert_exporter": "python",
   "pygments_lexer": "ipython3",
   "version": "3.7.0"
  }
 },
 "nbformat": 4,
 "nbformat_minor": 1
}
