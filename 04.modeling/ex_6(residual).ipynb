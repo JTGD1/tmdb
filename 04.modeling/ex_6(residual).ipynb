{
 "cells": [
  {
   "cell_type": "code",
   "execution_count": 0,
   "metadata": {
    "colab": {},
    "colab_type": "code",
    "id": "6btqYOvJuk8O"
   },
   "outputs": [],
   "source": [
    "import pandas as pd\n",
    "import numpy as np\n",
    "import matplotlib.pyplot as plt\n",
    "import seaborn as sns\n",
    "%matplotlib inline\n",
    "import time \n",
    "import pickle\n",
    "\n",
    "from sklearn.model_selection import train_test_split, KFold, GridSearchCV\n",
    "from sklearn.metrics import mean_squared_error\n",
    "from sklearn.metrics import mean_squared_log_error\n",
    "\n",
    "from sklearn.linear_model import LinearRegression, ElasticNet, Ridge\n",
    "from sklearn.neighbors import KNeighborsRegressor\n",
    "from sklearn.svm import SVR, LinearSVR\n",
    "from sklearn.ensemble import RandomForestRegressor, AdaBoostRegressor\n",
    "from xgboost import XGBRegressor\n",
    "from catboost import CatBoostRegressor\n",
    "import lightgbm as lgb"
   ]
  },
  {
   "cell_type": "code",
   "execution_count": 4,
   "metadata": {
    "colab": {
     "base_uri": "https://localhost:8080/",
     "height": 35
    },
    "colab_type": "code",
    "id": "8SU6WXofpGUH",
    "outputId": "60b73e82-7c3e-44c7-fb75-34dc022cd904"
   },
   "outputs": [
    {
     "name": "stderr",
     "output_type": "stream",
     "text": [
      "Using TensorFlow backend.\n"
     ]
    }
   ],
   "source": [
    "import keras\n",
    "from keras.models import Sequential\n",
    "from keras.layers import Dense, Dropout, BatchNormalization\n",
    "from keras.optimizers import Adam, RMSprop, SGD\n",
    "from keras.callbacks import EarlyStopping"
   ]
  },
  {
   "cell_type": "code",
   "execution_count": 0,
   "metadata": {
    "colab": {},
    "colab_type": "code",
    "id": "BF2wTSpQpT5g"
   },
   "outputs": [],
   "source": []
  },
  {
   "cell_type": "code",
   "execution_count": 0,
   "metadata": {
    "colab": {},
    "colab_type": "code",
    "id": "kZoWlN0KQsNx"
   },
   "outputs": [],
   "source": [
    "def get_loss(pred, actual):\n",
    "  loss = mean_squared_error(pred, actual)\n",
    "  result = np.sqrt(loss)\n",
    "  return result"
   ]
  },
  {
   "cell_type": "code",
   "execution_count": 0,
   "metadata": {
    "colab": {},
    "colab_type": "code",
    "id": "Uya9M0UsSbDb"
   },
   "outputs": [],
   "source": [
    "def kfold_validate(X, y, te, model, col):\n",
    "    scores = np.zeros(k)\n",
    "    for i, (tr_idx, val_idx) in enumerate(cv.split(X)):\n",
    "        X_tr, y_tr = X.iloc[tr_idx, :], y[tr_idx]\n",
    "        X_val, y_val = X.iloc[val_idx, :], y[val_idx]\n",
    "\n",
    "        model.fit(X_tr, y_tr)\n",
    "        pred_val = model.predict(X_val)\n",
    "        scores[i] = get_loss(pred_val, y_val)\n",
    "        print(\"========={}-th Fold Score: {}\".format(i, scores[i]))\n",
    "        \n",
    "        meta_tr[col][val_idx] = pred_val\n",
    "        meta_tr['val'][val_idx] = y_val\n",
    "\n",
    "    print(\"=========Total Score: \", np.mean(scores))\n",
    "    model.fit(X, y)\n",
    "    meta_te[col] = model.predict(te)"
   ]
  },
  {
   "cell_type": "code",
   "execution_count": 0,
   "metadata": {
    "colab": {},
    "colab_type": "code",
    "id": "sZNbGXpIpKna"
   },
   "outputs": [],
   "source": []
  },
  {
   "cell_type": "markdown",
   "metadata": {
    "colab_type": "text",
    "id": "7m-pRP_9u9pv"
   },
   "source": [
    "## Load the data"
   ]
  },
  {
   "cell_type": "code",
   "execution_count": 7,
   "metadata": {
    "colab": {
     "base_uri": "https://localhost:8080/",
     "height": 52
    },
    "colab_type": "code",
    "id": "OHxqudJJND7l",
    "outputId": "2e06c943-1a5d-4d4f-f11b-4bafd229bc1e"
   },
   "outputs": [
    {
     "name": "stdout",
     "output_type": "stream",
     "text": [
      "The size of the train set  (3000, 377)\n",
      "The size of the test set  (4398, 376)\n"
     ]
    }
   ],
   "source": [
    "# Import the all dataset\n",
    "tr = pd.read_csv('train_3.csv')\n",
    "te = pd.read_csv('test_3.csv')\n",
    "\n",
    "# Final check\n",
    "print(\"The size of the train set \", tr.shape)    # (3000, 377)\n",
    "print(\"The size of the test set \", te.shape)"
   ]
  },
  {
   "cell_type": "code",
   "execution_count": 8,
   "metadata": {
    "colab": {
     "base_uri": "https://localhost:8080/",
     "height": 141
    },
    "colab_type": "code",
    "id": "lS19iVZTv717",
    "outputId": "102f7a31-2a7d-400a-e745-3e717cb55826"
   },
   "outputs": [
    {
     "name": "stdout",
     "output_type": "stream",
     "text": [
      "=======NAs in train set\n",
      " n_crew_profile    16\n",
      "dtype: int64\n",
      "=======NAs in test set\n",
      " n_crew_profile         22\n",
      "r_rating_totalVotes     1\n",
      "dtype: int64\n"
     ]
    }
   ],
   "source": [
    "print(\"=======NAs in train set\\n\", tr.isnull().sum()[tr.isnull().sum() != 0])\n",
    "print(\"=======NAs in test set\\n\", te.isnull().sum()[te.isnull().sum() != 0])"
   ]
  },
  {
   "cell_type": "code",
   "execution_count": 0,
   "metadata": {
    "colab": {},
    "colab_type": "code",
    "id": "vmDgg1eIvZpl"
   },
   "outputs": [],
   "source": [
    "tr.fillna(-1, inplace = True)\n",
    "te.fillna(-1, inplace = True)"
   ]
  },
  {
   "cell_type": "code",
   "execution_count": 10,
   "metadata": {
    "colab": {
     "base_uri": "https://localhost:8080/",
     "height": 302
    },
    "colab_type": "code",
    "id": "ao9Pflp7lVNh",
    "outputId": "b527cb67-5d82-4530-8c68-c8a2211fa945"
   },
   "outputs": [
    {
     "data": {
      "text/html": [
       "<div>\n",
       "<style scoped>\n",
       "    .dataframe tbody tr th:only-of-type {\n",
       "        vertical-align: middle;\n",
       "    }\n",
       "\n",
       "    .dataframe tbody tr th {\n",
       "        vertical-align: top;\n",
       "    }\n",
       "\n",
       "    .dataframe thead th {\n",
       "        text-align: right;\n",
       "    }\n",
       "</style>\n",
       "<table border=\"1\" class=\"dataframe\">\n",
       "  <thead>\n",
       "    <tr style=\"text-align: right;\">\n",
       "      <th></th>\n",
       "      <th>budget_log</th>\n",
       "      <th>popularity_log</th>\n",
       "      <th>runtime_h</th>\n",
       "      <th>runtime_log</th>\n",
       "      <th>runtime_m</th>\n",
       "      <th>status</th>\n",
       "      <th>is_collection</th>\n",
       "      <th>is_homepage</th>\n",
       "      <th>n_genres</th>\n",
       "      <th>n_prod_count</th>\n",
       "      <th>n_prod_comp</th>\n",
       "      <th>n_spoken_lang</th>\n",
       "      <th>cast_male</th>\n",
       "      <th>crew_male</th>\n",
       "      <th>n_crew_profile</th>\n",
       "      <th>year</th>\n",
       "      <th>month</th>\n",
       "      <th>day</th>\n",
       "      <th>weekofday</th>\n",
       "      <th>rating</th>\n",
       "      <th>n_cast_log</th>\n",
       "      <th>n_crew_log</th>\n",
       "      <th>popularity2_log</th>\n",
       "      <th>totalVotes_log</th>\n",
       "      <th>popularity_diff_log</th>\n",
       "      <th>r_runtime_rating</th>\n",
       "      <th>r_rating_totalVotes</th>\n",
       "      <th>r_budget_rating</th>\n",
       "      <th>r_popularity_totalVotes</th>\n",
       "      <th>r_popularity_rating</th>\n",
       "      <th>r_popularity_ngenres</th>\n",
       "      <th>r_popularity_n_cast</th>\n",
       "      <th>r_budget_totalVotes</th>\n",
       "      <th>r_budget_runtime</th>\n",
       "      <th>r_budget_year</th>\n",
       "      <th>r_totalVotes_year</th>\n",
       "      <th>r_rating_year</th>\n",
       "      <th>r_rating_year2</th>\n",
       "      <th>m_rating_totalVotes</th>\n",
       "      <th>m_year_popularity</th>\n",
       "      <th>m_year_budget</th>\n",
       "      <th>m_year_totalVotes_log</th>\n",
       "      <th>m_year_rating</th>\n",
       "      <th>m_year_runtime</th>\n",
       "      <th>m_year_n_crew_log</th>\n",
       "    </tr>\n",
       "  </thead>\n",
       "  <tbody>\n",
       "    <tr>\n",
       "      <th>count</th>\n",
       "      <td>4398.000000</td>\n",
       "      <td>4.398000e+03</td>\n",
       "      <td>4398.000000</td>\n",
       "      <td>4398.000000</td>\n",
       "      <td>4398.000000</td>\n",
       "      <td>4398.000000</td>\n",
       "      <td>4398.000000</td>\n",
       "      <td>4398.000000</td>\n",
       "      <td>4398.000000</td>\n",
       "      <td>4398.000000</td>\n",
       "      <td>4398.000000</td>\n",
       "      <td>4398.000000</td>\n",
       "      <td>4398.000000</td>\n",
       "      <td>4398.000000</td>\n",
       "      <td>4398.000000</td>\n",
       "      <td>4398.000000</td>\n",
       "      <td>4398.000000</td>\n",
       "      <td>4398.000000</td>\n",
       "      <td>4398.000000</td>\n",
       "      <td>4398.000000</td>\n",
       "      <td>4398.000000</td>\n",
       "      <td>4398.000000</td>\n",
       "      <td>4398.000000</td>\n",
       "      <td>4398.000000</td>\n",
       "      <td>4398.000000</td>\n",
       "      <td>4398.000000</td>\n",
       "      <td>4398.000000</td>\n",
       "      <td>4.398000e+03</td>\n",
       "      <td>4398.000000</td>\n",
       "      <td>4398.000000</td>\n",
       "      <td>4.398000e+03</td>\n",
       "      <td>4.398000e+03</td>\n",
       "      <td>4.398000e+03</td>\n",
       "      <td>4.398000e+03</td>\n",
       "      <td>4.398000e+03</td>\n",
       "      <td>4398.000000</td>\n",
       "      <td>4398.000000</td>\n",
       "      <td>4398.000000</td>\n",
       "      <td>4398.000000</td>\n",
       "      <td>4398.000000</td>\n",
       "      <td>4.398000e+03</td>\n",
       "      <td>4398.000000</td>\n",
       "      <td>4398.000000</td>\n",
       "      <td>4398.000000</td>\n",
       "      <td>4398.000000</td>\n",
       "    </tr>\n",
       "    <tr>\n",
       "      <th>mean</th>\n",
       "      <td>11.799167</td>\n",
       "      <td>1.985449e+00</td>\n",
       "      <td>1.225330</td>\n",
       "      <td>4.659979</td>\n",
       "      <td>0.015688</td>\n",
       "      <td>1.000227</td>\n",
       "      <td>0.199409</td>\n",
       "      <td>0.322874</td>\n",
       "      <td>2.497726</td>\n",
       "      <td>1.364484</td>\n",
       "      <td>2.922237</td>\n",
       "      <td>1.451342</td>\n",
       "      <td>0.233584</td>\n",
       "      <td>0.088549</td>\n",
       "      <td>0.290208</td>\n",
       "      <td>1999.675534</td>\n",
       "      <td>6.889723</td>\n",
       "      <td>15.379036</td>\n",
       "      <td>3.228286</td>\n",
       "      <td>6.114461</td>\n",
       "      <td>2.864404</td>\n",
       "      <td>2.743025</td>\n",
       "      <td>2.012873</td>\n",
       "      <td>5.412860</td>\n",
       "      <td>0.292240</td>\n",
       "      <td>-0.015062</td>\n",
       "      <td>0.096662</td>\n",
       "      <td>4.187490e+06</td>\n",
       "      <td>3.427411</td>\n",
       "      <td>0.524288</td>\n",
       "      <td>3.934207e+00</td>\n",
       "      <td>5.190416e-01</td>\n",
       "      <td>1.069355e+05</td>\n",
       "      <td>2.040717e+05</td>\n",
       "      <td>2.725831e+05</td>\n",
       "      <td>0.073227</td>\n",
       "      <td>0.003058</td>\n",
       "      <td>0.086140</td>\n",
       "      <td>5.410260</td>\n",
       "      <td>1.981314</td>\n",
       "      <td>2.257493e+07</td>\n",
       "      <td>5.409854</td>\n",
       "      <td>6.114776</td>\n",
       "      <td>0.000765</td>\n",
       "      <td>20.975950</td>\n",
       "    </tr>\n",
       "    <tr>\n",
       "      <th>std</th>\n",
       "      <td>7.444733</td>\n",
       "      <td>7.509477e-01</td>\n",
       "      <td>0.452848</td>\n",
       "      <td>0.309302</td>\n",
       "      <td>0.998423</td>\n",
       "      <td>0.058407</td>\n",
       "      <td>0.399601</td>\n",
       "      <td>0.467628</td>\n",
       "      <td>1.111836</td>\n",
       "      <td>0.792381</td>\n",
       "      <td>2.250990</td>\n",
       "      <td>0.888750</td>\n",
       "      <td>0.149346</td>\n",
       "      <td>0.119434</td>\n",
       "      <td>0.254200</td>\n",
       "      <td>15.286707</td>\n",
       "      <td>3.370176</td>\n",
       "      <td>8.571856</td>\n",
       "      <td>1.341997</td>\n",
       "      <td>1.544581</td>\n",
       "      <td>0.688653</td>\n",
       "      <td>0.995944</td>\n",
       "      <td>0.611603</td>\n",
       "      <td>1.946927</td>\n",
       "      <td>0.248682</td>\n",
       "      <td>1.811774</td>\n",
       "      <td>0.350092</td>\n",
       "      <td>2.896592e+07</td>\n",
       "      <td>1.378183</td>\n",
       "      <td>1.461456</td>\n",
       "      <td>4.480953e+00</td>\n",
       "      <td>1.490366e+00</td>\n",
       "      <td>1.455504e+06</td>\n",
       "      <td>3.287007e+05</td>\n",
       "      <td>4.622628e+05</td>\n",
       "      <td>0.057485</td>\n",
       "      <td>0.000776</td>\n",
       "      <td>0.092460</td>\n",
       "      <td>1.135203</td>\n",
       "      <td>0.176196</td>\n",
       "      <td>9.773718e+06</td>\n",
       "      <td>0.479200</td>\n",
       "      <td>0.295658</td>\n",
       "      <td>0.127683</td>\n",
       "      <td>3.764882</td>\n",
       "    </tr>\n",
       "    <tr>\n",
       "      <th>min</th>\n",
       "      <td>0.000000</td>\n",
       "      <td>9.999995e-07</td>\n",
       "      <td>-0.000000</td>\n",
       "      <td>0.000000</td>\n",
       "      <td>-2.177292</td>\n",
       "      <td>0.000000</td>\n",
       "      <td>0.000000</td>\n",
       "      <td>0.000000</td>\n",
       "      <td>1.000000</td>\n",
       "      <td>1.000000</td>\n",
       "      <td>0.000000</td>\n",
       "      <td>1.000000</td>\n",
       "      <td>0.000000</td>\n",
       "      <td>0.000000</td>\n",
       "      <td>-1.000000</td>\n",
       "      <td>1922.000000</td>\n",
       "      <td>1.000000</td>\n",
       "      <td>1.000000</td>\n",
       "      <td>0.000000</td>\n",
       "      <td>0.000000</td>\n",
       "      <td>0.000000</td>\n",
       "      <td>0.000000</td>\n",
       "      <td>0.470004</td>\n",
       "      <td>0.000000</td>\n",
       "      <td>0.000287</td>\n",
       "      <td>-21.772921</td>\n",
       "      <td>-1.000000</td>\n",
       "      <td>0.000000e+00</td>\n",
       "      <td>-2.072503</td>\n",
       "      <td>0.000010</td>\n",
       "      <td>5.000000e-07</td>\n",
       "      <td>1.666667e-07</td>\n",
       "      <td>0.000000e+00</td>\n",
       "      <td>0.000000e+00</td>\n",
       "      <td>0.000000e+00</td>\n",
       "      <td>0.000000</td>\n",
       "      <td>0.000000</td>\n",
       "      <td>0.000000</td>\n",
       "      <td>0.690821</td>\n",
       "      <td>0.191453</td>\n",
       "      <td>3.000000e+02</td>\n",
       "      <td>1.791759</td>\n",
       "      <td>5.500000</td>\n",
       "      <td>-1.854838</td>\n",
       "      <td>8.000000</td>\n",
       "    </tr>\n",
       "    <tr>\n",
       "      <th>25%</th>\n",
       "      <td>0.000000</td>\n",
       "      <td>1.588252e+00</td>\n",
       "      <td>1.000000</td>\n",
       "      <td>4.553877</td>\n",
       "      <td>-0.548900</td>\n",
       "      <td>1.000000</td>\n",
       "      <td>0.000000</td>\n",
       "      <td>0.000000</td>\n",
       "      <td>2.000000</td>\n",
       "      <td>1.000000</td>\n",
       "      <td>1.000000</td>\n",
       "      <td>1.000000</td>\n",
       "      <td>0.125000</td>\n",
       "      <td>0.000000</td>\n",
       "      <td>0.120000</td>\n",
       "      <td>1992.000000</td>\n",
       "      <td>4.000000</td>\n",
       "      <td>8.000000</td>\n",
       "      <td>2.000000</td>\n",
       "      <td>5.700000</td>\n",
       "      <td>2.484907</td>\n",
       "      <td>2.197225</td>\n",
       "      <td>1.676208</td>\n",
       "      <td>4.158883</td>\n",
       "      <td>0.109869</td>\n",
       "      <td>-0.091133</td>\n",
       "      <td>0.005544</td>\n",
       "      <td>0.000000e+00</td>\n",
       "      <td>2.556456</td>\n",
       "      <td>0.263012</td>\n",
       "      <td>1.647093e+00</td>\n",
       "      <td>2.015742e-01</td>\n",
       "      <td>0.000000e+00</td>\n",
       "      <td>0.000000e+00</td>\n",
       "      <td>0.000000e+00</td>\n",
       "      <td>0.052699</td>\n",
       "      <td>0.002850</td>\n",
       "      <td>0.066667</td>\n",
       "      <td>5.381652</td>\n",
       "      <td>1.911811</td>\n",
       "      <td>1.324143e+07</td>\n",
       "      <td>5.112093</td>\n",
       "      <td>5.942373</td>\n",
       "      <td>-0.048236</td>\n",
       "      <td>19.090909</td>\n",
       "    </tr>\n",
       "    <tr>\n",
       "      <th>50%</th>\n",
       "      <td>15.816991</td>\n",
       "      <td>2.137975e+00</td>\n",
       "      <td>1.000000</td>\n",
       "      <td>4.653960</td>\n",
       "      <td>0.144376</td>\n",
       "      <td>1.000000</td>\n",
       "      <td>0.000000</td>\n",
       "      <td>0.000000</td>\n",
       "      <td>2.000000</td>\n",
       "      <td>1.000000</td>\n",
       "      <td>2.000000</td>\n",
       "      <td>1.000000</td>\n",
       "      <td>0.214286</td>\n",
       "      <td>0.058824</td>\n",
       "      <td>0.240000</td>\n",
       "      <td>2004.000000</td>\n",
       "      <td>7.000000</td>\n",
       "      <td>15.000000</td>\n",
       "      <td>4.000000</td>\n",
       "      <td>6.400000</td>\n",
       "      <td>2.833213</td>\n",
       "      <td>2.708050</td>\n",
       "      <td>2.117700</td>\n",
       "      <td>5.549076</td>\n",
       "      <td>0.238206</td>\n",
       "      <td>0.024892</td>\n",
       "      <td>0.019939</td>\n",
       "      <td>1.142857e+06</td>\n",
       "      <td>3.392426</td>\n",
       "      <td>0.333746</td>\n",
       "      <td>3.007754e+00</td>\n",
       "      <td>3.679115e-01</td>\n",
       "      <td>1.748362e+04</td>\n",
       "      <td>6.796117e+04</td>\n",
       "      <td>1.011236e+05</td>\n",
       "      <td>0.069521</td>\n",
       "      <td>0.003182</td>\n",
       "      <td>0.076220</td>\n",
       "      <td>5.602962</td>\n",
       "      <td>1.953762</td>\n",
       "      <td>2.664833e+07</td>\n",
       "      <td>5.489345</td>\n",
       "      <td>6.060645</td>\n",
       "      <td>0.001543</td>\n",
       "      <td>20.035370</td>\n",
       "    </tr>\n",
       "    <tr>\n",
       "      <th>75%</th>\n",
       "      <td>17.147715</td>\n",
       "      <td>2.479770e+00</td>\n",
       "      <td>1.000000</td>\n",
       "      <td>4.779123</td>\n",
       "      <td>0.724793</td>\n",
       "      <td>1.000000</td>\n",
       "      <td>0.000000</td>\n",
       "      <td>1.000000</td>\n",
       "      <td>3.000000</td>\n",
       "      <td>1.000000</td>\n",
       "      <td>4.000000</td>\n",
       "      <td>2.000000</td>\n",
       "      <td>0.333333</td>\n",
       "      <td>0.130435</td>\n",
       "      <td>0.400000</td>\n",
       "      <td>2011.000000</td>\n",
       "      <td>10.000000</td>\n",
       "      <td>23.000000</td>\n",
       "      <td>4.000000</td>\n",
       "      <td>7.000000</td>\n",
       "      <td>3.218876</td>\n",
       "      <td>3.367296</td>\n",
       "      <td>2.408745</td>\n",
       "      <td>6.806829</td>\n",
       "      <td>0.410693</td>\n",
       "      <td>0.125487</td>\n",
       "      <td>0.075291</td>\n",
       "      <td>4.516129e+06</td>\n",
       "      <td>4.445976</td>\n",
       "      <td>0.396209</td>\n",
       "      <td>4.959823e+00</td>\n",
       "      <td>6.015091e-01</td>\n",
       "      <td>6.118554e+04</td>\n",
       "      <td>2.576554e+05</td>\n",
       "      <td>3.460351e+05</td>\n",
       "      <td>0.085683</td>\n",
       "      <td>0.003497</td>\n",
       "      <td>0.089157</td>\n",
       "      <td>5.827735</td>\n",
       "      <td>2.021852</td>\n",
       "      <td>2.898095e+07</td>\n",
       "      <td>5.710692</td>\n",
       "      <td>6.215789</td>\n",
       "      <td>0.060135</td>\n",
       "      <td>21.323274</td>\n",
       "    </tr>\n",
       "    <tr>\n",
       "      <th>max</th>\n",
       "      <td>19.376192</td>\n",
       "      <td>6.307166e+00</td>\n",
       "      <td>5.000000</td>\n",
       "      <td>5.771441</td>\n",
       "      <td>1.627665</td>\n",
       "      <td>3.000000</td>\n",
       "      <td>1.000000</td>\n",
       "      <td>1.000000</td>\n",
       "      <td>8.000000</td>\n",
       "      <td>12.000000</td>\n",
       "      <td>26.000000</td>\n",
       "      <td>9.000000</td>\n",
       "      <td>1.000000</td>\n",
       "      <td>1.000000</td>\n",
       "      <td>1.000000</td>\n",
       "      <td>2018.000000</td>\n",
       "      <td>12.000000</td>\n",
       "      <td>31.000000</td>\n",
       "      <td>6.000000</td>\n",
       "      <td>9.100000</td>\n",
       "      <td>5.111988</td>\n",
       "      <td>5.209486</td>\n",
       "      <td>3.887464</td>\n",
       "      <td>9.945205</td>\n",
       "      <td>3.734935</td>\n",
       "      <td>16.276646</td>\n",
       "      <td>8.000000</td>\n",
       "      <td>1.750000e+09</td>\n",
       "      <td>8.399506</td>\n",
       "      <td>27.656503</td>\n",
       "      <td>1.368721e+02</td>\n",
       "      <td>5.090359e+01</td>\n",
       "      <td>8.750000e+07</td>\n",
       "      <td>3.800000e+06</td>\n",
       "      <td>1.323143e+07</td>\n",
       "      <td>1.661202</td>\n",
       "      <td>0.004561</td>\n",
       "      <td>3.250000</td>\n",
       "      <td>7.866060</td>\n",
       "      <td>2.917768</td>\n",
       "      <td>4.406363e+07</td>\n",
       "      <td>6.473637</td>\n",
       "      <td>8.333333</td>\n",
       "      <td>1.498683</td>\n",
       "      <td>63.500000</td>\n",
       "    </tr>\n",
       "  </tbody>\n",
       "</table>\n",
       "</div>"
      ],
      "text/plain": [
       "        budget_log  popularity_log  ...  m_year_runtime  m_year_n_crew_log\n",
       "count  4398.000000    4.398000e+03  ...     4398.000000        4398.000000\n",
       "mean     11.799167    1.985449e+00  ...        0.000765          20.975950\n",
       "std       7.444733    7.509477e-01  ...        0.127683           3.764882\n",
       "min       0.000000    9.999995e-07  ...       -1.854838           8.000000\n",
       "25%       0.000000    1.588252e+00  ...       -0.048236          19.090909\n",
       "50%      15.816991    2.137975e+00  ...        0.001543          20.035370\n",
       "75%      17.147715    2.479770e+00  ...        0.060135          21.323274\n",
       "max      19.376192    6.307166e+00  ...        1.498683          63.500000\n",
       "\n",
       "[8 rows x 45 columns]"
      ]
     },
     "execution_count": 10,
     "metadata": {
      "tags": []
     },
     "output_type": "execute_result"
    }
   ],
   "source": [
    "te.iloc[:, :45].describe()"
   ]
  },
  {
   "cell_type": "code",
   "execution_count": 0,
   "metadata": {
    "colab": {},
    "colab_type": "code",
    "id": "2gpMyqIWQWj4"
   },
   "outputs": [],
   "source": [
    "y = tr.revenue_log\n",
    "X = tr.drop('revenue_log', axis = 1)"
   ]
  },
  {
   "cell_type": "code",
   "execution_count": 0,
   "metadata": {
    "colab": {},
    "colab_type": "code",
    "id": "RXf3oSM6QdCr"
   },
   "outputs": [],
   "source": [
    "# Cross Validation\n",
    "k = 10\n",
    "seed = 10\n",
    "cv = KFold(n_splits = k, shuffle = True, random_state = seed)"
   ]
  },
  {
   "cell_type": "code",
   "execution_count": 0,
   "metadata": {
    "colab": {},
    "colab_type": "code",
    "id": "ck0-axzNunMG"
   },
   "outputs": [],
   "source": []
  },
  {
   "cell_type": "markdown",
   "metadata": {
    "colab_type": "text",
    "id": "ayiUZGfUunIf"
   },
   "source": [
    "## Residual Weighted Boosting"
   ]
  },
  {
   "cell_type": "code",
   "execution_count": 16,
   "metadata": {
    "colab": {
     "base_uri": "https://localhost:8080/",
     "height": 52
    },
    "colab_type": "code",
    "id": "DmqOf2nVQXWn",
    "outputId": "933f04a7-9b7a-4a60-ffb9-1877af91acbd"
   },
   "outputs": [
    {
     "name": "stdout",
     "output_type": "stream",
     "text": [
      "The size of the train set  (3000, 11)\n",
      "The size of the test set  (4398, 10)\n"
     ]
    }
   ],
   "source": [
    "meta_tr = pd.read_csv('meta_tr (ke).csv')\n",
    "meta_te = pd.read_csv('meta_te (ke).csv')\n",
    "\n",
    "print(\"The size of the train set \", meta_tr.shape)\n",
    "print(\"The size of the test set \", meta_te.shape)"
   ]
  },
  {
   "cell_type": "code",
   "execution_count": 0,
   "metadata": {
    "colab": {},
    "colab_type": "code",
    "id": "H-g6df96QZS5"
   },
   "outputs": [],
   "source": [
    "meta_tr['org_y'] = y\n",
    "\n",
    "meta_tr['pred0'] = meta_tr.cb_2\n",
    "meta_te['pred0'] = meta_te.cb_2\n",
    "\n",
    "meta_tr['new_y'] = meta_tr.val - meta_tr.pred0"
   ]
  },
  {
   "cell_type": "code",
   "execution_count": 20,
   "metadata": {
    "colab": {
     "base_uri": "https://localhost:8080/",
     "height": 194
    },
    "colab_type": "code",
    "id": "qrldSY1dvtrH",
    "outputId": "1ad0ab1f-a170-48b9-9da3-727a7ef81cbc"
   },
   "outputs": [
    {
     "data": {
      "text/html": [
       "<div>\n",
       "<style scoped>\n",
       "    .dataframe tbody tr th:only-of-type {\n",
       "        vertical-align: middle;\n",
       "    }\n",
       "\n",
       "    .dataframe tbody tr th {\n",
       "        vertical-align: top;\n",
       "    }\n",
       "\n",
       "    .dataframe thead th {\n",
       "        text-align: right;\n",
       "    }\n",
       "</style>\n",
       "<table border=\"1\" class=\"dataframe\">\n",
       "  <thead>\n",
       "    <tr style=\"text-align: right;\">\n",
       "      <th></th>\n",
       "      <th>el</th>\n",
       "      <th>rf</th>\n",
       "      <th>knn</th>\n",
       "      <th>xg</th>\n",
       "      <th>cb</th>\n",
       "      <th>lg</th>\n",
       "      <th>val</th>\n",
       "      <th>rf_2</th>\n",
       "      <th>cb_2</th>\n",
       "      <th>lg_2</th>\n",
       "      <th>ke</th>\n",
       "      <th>org_y</th>\n",
       "      <th>pred0</th>\n",
       "      <th>new_y</th>\n",
       "    </tr>\n",
       "  </thead>\n",
       "  <tbody>\n",
       "    <tr>\n",
       "      <th>0</th>\n",
       "      <td>17.044212</td>\n",
       "      <td>16.768907</td>\n",
       "      <td>16.267686</td>\n",
       "      <td>17.012468</td>\n",
       "      <td>16.757338</td>\n",
       "      <td>16.643472</td>\n",
       "      <td>16.326300</td>\n",
       "      <td>16.787390</td>\n",
       "      <td>17.230785</td>\n",
       "      <td>16.823271</td>\n",
       "      <td>17.715534</td>\n",
       "      <td>16.326300</td>\n",
       "      <td>17.230785</td>\n",
       "      <td>-0.904485</td>\n",
       "    </tr>\n",
       "    <tr>\n",
       "      <th>1</th>\n",
       "      <td>18.928393</td>\n",
       "      <td>18.603009</td>\n",
       "      <td>17.872074</td>\n",
       "      <td>19.085943</td>\n",
       "      <td>19.176887</td>\n",
       "      <td>19.525642</td>\n",
       "      <td>18.370959</td>\n",
       "      <td>18.639448</td>\n",
       "      <td>19.243595</td>\n",
       "      <td>19.416583</td>\n",
       "      <td>16.808825</td>\n",
       "      <td>18.370959</td>\n",
       "      <td>19.243595</td>\n",
       "      <td>-0.872636</td>\n",
       "    </tr>\n",
       "    <tr>\n",
       "      <th>2</th>\n",
       "      <td>18.135122</td>\n",
       "      <td>16.949082</td>\n",
       "      <td>12.539784</td>\n",
       "      <td>16.732389</td>\n",
       "      <td>17.115535</td>\n",
       "      <td>18.231712</td>\n",
       "      <td>16.387512</td>\n",
       "      <td>17.096225</td>\n",
       "      <td>17.292309</td>\n",
       "      <td>17.965121</td>\n",
       "      <td>15.177481</td>\n",
       "      <td>16.387512</td>\n",
       "      <td>17.292309</td>\n",
       "      <td>-0.904797</td>\n",
       "    </tr>\n",
       "    <tr>\n",
       "      <th>3</th>\n",
       "      <td>14.447052</td>\n",
       "      <td>13.807000</td>\n",
       "      <td>13.952494</td>\n",
       "      <td>14.308630</td>\n",
       "      <td>13.775347</td>\n",
       "      <td>14.158323</td>\n",
       "      <td>16.588099</td>\n",
       "      <td>13.684058</td>\n",
       "      <td>13.798300</td>\n",
       "      <td>14.476299</td>\n",
       "      <td>14.556688</td>\n",
       "      <td>16.588099</td>\n",
       "      <td>13.798300</td>\n",
       "      <td>2.789799</td>\n",
       "    </tr>\n",
       "    <tr>\n",
       "      <th>4</th>\n",
       "      <td>11.777981</td>\n",
       "      <td>11.483219</td>\n",
       "      <td>15.470127</td>\n",
       "      <td>10.123706</td>\n",
       "      <td>11.716270</td>\n",
       "      <td>11.913902</td>\n",
       "      <td>15.182615</td>\n",
       "      <td>11.527245</td>\n",
       "      <td>12.030619</td>\n",
       "      <td>12.222502</td>\n",
       "      <td>11.706590</td>\n",
       "      <td>15.182615</td>\n",
       "      <td>12.030619</td>\n",
       "      <td>3.151996</td>\n",
       "    </tr>\n",
       "  </tbody>\n",
       "</table>\n",
       "</div>"
      ],
      "text/plain": [
       "          el         rf        knn  ...      org_y      pred0     new_y\n",
       "0  17.044212  16.768907  16.267686  ...  16.326300  17.230785 -0.904485\n",
       "1  18.928393  18.603009  17.872074  ...  18.370959  19.243595 -0.872636\n",
       "2  18.135122  16.949082  12.539784  ...  16.387512  17.292309 -0.904797\n",
       "3  14.447052  13.807000  13.952494  ...  16.588099  13.798300  2.789799\n",
       "4  11.777981  11.483219  15.470127  ...  15.182615  12.030619  3.151996\n",
       "\n",
       "[5 rows x 14 columns]"
      ]
     },
     "execution_count": 20,
     "metadata": {
      "tags": []
     },
     "output_type": "execute_result"
    }
   ],
   "source": [
    "meta_tr.head()"
   ]
  },
  {
   "cell_type": "code",
   "execution_count": 0,
   "metadata": {
    "colab": {},
    "colab_type": "code",
    "id": "Q-w_zBeDvwE_"
   },
   "outputs": [],
   "source": [
    "# Replace the y with the predicted values by the most accurate outcomes (cb_2)\n",
    "y = meta_tr.new_y"
   ]
  },
  {
   "cell_type": "markdown",
   "metadata": {
    "colab_type": "text",
    "id": "LjyuxUrDUoaI"
   },
   "source": [
    "Will change the predicted values except **xg, cb, cb_2** cause there weren't that much improvement compared to others."
   ]
  },
  {
   "cell_type": "markdown",
   "metadata": {
    "colab_type": "text",
    "id": "G7B2SvynDUqd"
   },
   "source": [
    "## 1st Layer Modeling"
   ]
  },
  {
   "cell_type": "code",
   "execution_count": 0,
   "metadata": {
    "colab": {},
    "colab_type": "code",
    "id": "9yfuc9_VoBO8"
   },
   "outputs": [],
   "source": [
    "X_tr, X_val, y_tr, y_val = train_test_split(X, y, test_size = .2, random_state = seed)"
   ]
  },
  {
   "cell_type": "code",
   "execution_count": 0,
   "metadata": {
    "colab": {},
    "colab_type": "code",
    "id": "nxnsTSlBoBC0"
   },
   "outputs": [],
   "source": [
    "def split_validate(model):\n",
    "  model.fit(X_tr, y_tr)\n",
    "  pred = model.predict(X_val)\n",
    "  print(get_loss(pred, y_val))"
   ]
  },
  {
   "cell_type": "markdown",
   "metadata": {
    "colab_type": "text",
    "id": "6NXG_DRju2JU"
   },
   "source": [
    "### Elastic-Net"
   ]
  },
  {
   "cell_type": "code",
   "execution_count": 22,
   "metadata": {
    "colab": {
     "base_uri": "https://localhost:8080/",
     "height": 212
    },
    "colab_type": "code",
    "id": "ouuH46r8oWGW",
    "outputId": "8325b66e-b207-4997-8601-843cdd4c0351"
   },
   "outputs": [
    {
     "name": "stdout",
     "output_type": "stream",
     "text": [
      "=========0-th Fold Score: 1.9205976821552055\n",
      "=========1-th Fold Score: 1.9377386707871687\n",
      "=========2-th Fold Score: 1.9124447291952444\n",
      "=========3-th Fold Score: 1.58313975486525\n",
      "=========4-th Fold Score: 1.9616713195713673\n",
      "=========5-th Fold Score: 1.7926167702702989\n",
      "=========6-th Fold Score: 1.6177946695868137\n",
      "=========7-th Fold Score: 2.2481371627799125\n",
      "=========8-th Fold Score: 1.7622384040676036\n",
      "=========9-th Fold Score: 1.8439355226609726\n",
      "=========Total Score:  1.858031468593984\n"
     ]
    }
   ],
   "source": [
    "model_el = ElasticNet(alpha = .1, max_iter = 3000)\n",
    "#split_validate(model_el)\n",
    "kfold_validate(X, y, te, model_el, 'el')       # 2.1271 -> 1.8580"
   ]
  },
  {
   "cell_type": "markdown",
   "metadata": {
    "colab_type": "text",
    "id": "Vy4kWzmxOg5v"
   },
   "source": [
    "### KNN "
   ]
  },
  {
   "cell_type": "code",
   "execution_count": 23,
   "metadata": {
    "colab": {
     "base_uri": "https://localhost:8080/",
     "height": 212
    },
    "colab_type": "code",
    "id": "PHEPkP9xOg1u",
    "outputId": "6ce3e493-5a70-4182-e1ca-bd5bf8b16995"
   },
   "outputs": [
    {
     "name": "stdout",
     "output_type": "stream",
     "text": [
      "=========0-th Fold Score: 2.017470073528699\n",
      "=========1-th Fold Score: 1.97552405723718\n",
      "=========2-th Fold Score: 2.042529605755997\n",
      "=========3-th Fold Score: 1.8124263530232294\n",
      "=========4-th Fold Score: 1.9646549807031044\n",
      "=========5-th Fold Score: 1.8984936802006602\n",
      "=========6-th Fold Score: 1.9240278790481473\n",
      "=========7-th Fold Score: 2.529585492177592\n",
      "=========8-th Fold Score: 1.917578300357126\n",
      "=========9-th Fold Score: 2.086578559097312\n",
      "=========Total Score:  2.0168868981129044\n"
     ]
    }
   ],
   "source": [
    "model_knn = KNeighborsRegressor(n_neighbors = 50, weights = 'distance', p = 2)  \n",
    "#split_validate(model_knn)\n",
    "kfold_validate(X, y, te, model_knn, 'knn')              #2.46  -> 2.0168"
   ]
  },
  {
   "cell_type": "markdown",
   "metadata": {
    "colab_type": "text",
    "id": "-U1IQlvkOYSs"
   },
   "source": [
    "### Kernel SVM"
   ]
  },
  {
   "cell_type": "code",
   "execution_count": 24,
   "metadata": {
    "colab": {
     "base_uri": "https://localhost:8080/",
     "height": 712
    },
    "colab_type": "code",
    "id": "gKdxcndpOYOx",
    "outputId": "288f44a2-b014-4c93-a68f-5299c1f4312b"
   },
   "outputs": [
    {
     "name": "stderr",
     "output_type": "stream",
     "text": [
      "/usr/local/lib/python3.6/dist-packages/sklearn/svm/base.py:193: FutureWarning: The default value of gamma will change from 'auto' to 'scale' in version 0.22 to account better for unscaled features. Set gamma explicitly to 'auto' or 'scale' to avoid this warning.\n",
      "  \"avoid this warning.\", FutureWarning)\n"
     ]
    },
    {
     "name": "stdout",
     "output_type": "stream",
     "text": [
      "=========0-th Fold Score: 1.929482834520655\n"
     ]
    },
    {
     "name": "stderr",
     "output_type": "stream",
     "text": [
      "/usr/local/lib/python3.6/dist-packages/ipykernel_launcher.py:12: SettingWithCopyWarning: \n",
      "A value is trying to be set on a copy of a slice from a DataFrame\n",
      "\n",
      "See the caveats in the documentation: http://pandas.pydata.org/pandas-docs/stable/indexing.html#indexing-view-versus-copy\n",
      "  if sys.path[0] == '':\n",
      "/usr/local/lib/python3.6/dist-packages/sklearn/svm/base.py:193: FutureWarning: The default value of gamma will change from 'auto' to 'scale' in version 0.22 to account better for unscaled features. Set gamma explicitly to 'auto' or 'scale' to avoid this warning.\n",
      "  \"avoid this warning.\", FutureWarning)\n"
     ]
    },
    {
     "name": "stdout",
     "output_type": "stream",
     "text": [
      "=========1-th Fold Score: 1.9635652549112677\n"
     ]
    },
    {
     "name": "stderr",
     "output_type": "stream",
     "text": [
      "/usr/local/lib/python3.6/dist-packages/sklearn/svm/base.py:193: FutureWarning: The default value of gamma will change from 'auto' to 'scale' in version 0.22 to account better for unscaled features. Set gamma explicitly to 'auto' or 'scale' to avoid this warning.\n",
      "  \"avoid this warning.\", FutureWarning)\n"
     ]
    },
    {
     "name": "stdout",
     "output_type": "stream",
     "text": [
      "=========2-th Fold Score: 1.9165289982547042\n"
     ]
    },
    {
     "name": "stderr",
     "output_type": "stream",
     "text": [
      "/usr/local/lib/python3.6/dist-packages/sklearn/svm/base.py:193: FutureWarning: The default value of gamma will change from 'auto' to 'scale' in version 0.22 to account better for unscaled features. Set gamma explicitly to 'auto' or 'scale' to avoid this warning.\n",
      "  \"avoid this warning.\", FutureWarning)\n"
     ]
    },
    {
     "name": "stdout",
     "output_type": "stream",
     "text": [
      "=========3-th Fold Score: 1.6118892833116352\n"
     ]
    },
    {
     "name": "stderr",
     "output_type": "stream",
     "text": [
      "/usr/local/lib/python3.6/dist-packages/sklearn/svm/base.py:193: FutureWarning: The default value of gamma will change from 'auto' to 'scale' in version 0.22 to account better for unscaled features. Set gamma explicitly to 'auto' or 'scale' to avoid this warning.\n",
      "  \"avoid this warning.\", FutureWarning)\n"
     ]
    },
    {
     "name": "stdout",
     "output_type": "stream",
     "text": [
      "=========4-th Fold Score: 1.9830795989942105\n"
     ]
    },
    {
     "name": "stderr",
     "output_type": "stream",
     "text": [
      "/usr/local/lib/python3.6/dist-packages/sklearn/svm/base.py:193: FutureWarning: The default value of gamma will change from 'auto' to 'scale' in version 0.22 to account better for unscaled features. Set gamma explicitly to 'auto' or 'scale' to avoid this warning.\n",
      "  \"avoid this warning.\", FutureWarning)\n"
     ]
    },
    {
     "name": "stdout",
     "output_type": "stream",
     "text": [
      "=========5-th Fold Score: 1.8152617038639183\n"
     ]
    },
    {
     "name": "stderr",
     "output_type": "stream",
     "text": [
      "/usr/local/lib/python3.6/dist-packages/sklearn/svm/base.py:193: FutureWarning: The default value of gamma will change from 'auto' to 'scale' in version 0.22 to account better for unscaled features. Set gamma explicitly to 'auto' or 'scale' to avoid this warning.\n",
      "  \"avoid this warning.\", FutureWarning)\n"
     ]
    },
    {
     "name": "stdout",
     "output_type": "stream",
     "text": [
      "=========6-th Fold Score: 1.6521712415543874\n"
     ]
    },
    {
     "name": "stderr",
     "output_type": "stream",
     "text": [
      "/usr/local/lib/python3.6/dist-packages/sklearn/svm/base.py:193: FutureWarning: The default value of gamma will change from 'auto' to 'scale' in version 0.22 to account better for unscaled features. Set gamma explicitly to 'auto' or 'scale' to avoid this warning.\n",
      "  \"avoid this warning.\", FutureWarning)\n"
     ]
    },
    {
     "name": "stdout",
     "output_type": "stream",
     "text": [
      "=========7-th Fold Score: 2.320377502088365\n"
     ]
    },
    {
     "name": "stderr",
     "output_type": "stream",
     "text": [
      "/usr/local/lib/python3.6/dist-packages/sklearn/svm/base.py:193: FutureWarning: The default value of gamma will change from 'auto' to 'scale' in version 0.22 to account better for unscaled features. Set gamma explicitly to 'auto' or 'scale' to avoid this warning.\n",
      "  \"avoid this warning.\", FutureWarning)\n"
     ]
    },
    {
     "name": "stdout",
     "output_type": "stream",
     "text": [
      "=========8-th Fold Score: 1.7407311409863435\n"
     ]
    },
    {
     "name": "stderr",
     "output_type": "stream",
     "text": [
      "/usr/local/lib/python3.6/dist-packages/sklearn/svm/base.py:193: FutureWarning: The default value of gamma will change from 'auto' to 'scale' in version 0.22 to account better for unscaled features. Set gamma explicitly to 'auto' or 'scale' to avoid this warning.\n",
      "  \"avoid this warning.\", FutureWarning)\n"
     ]
    },
    {
     "name": "stdout",
     "output_type": "stream",
     "text": [
      "=========9-th Fold Score: 1.9024938617289366\n",
      "=========Total Score:  1.883558142021442\n"
     ]
    },
    {
     "name": "stderr",
     "output_type": "stream",
     "text": [
      "/usr/local/lib/python3.6/dist-packages/sklearn/svm/base.py:193: FutureWarning: The default value of gamma will change from 'auto' to 'scale' in version 0.22 to account better for unscaled features. Set gamma explicitly to 'auto' or 'scale' to avoid this warning.\n",
      "  \"avoid this warning.\", FutureWarning)\n"
     ]
    }
   ],
   "source": [
    "model_svm = SVR(kernel = 'rbf')  \n",
    "\n",
    "meta_tr['svm'] = 0\n",
    "meta_te['svm'] = 0\n",
    "#split_validate(model_svm)\n",
    "kfold_validate(X, y, te, model_svm, 'svm')                # 2.9218 -> 1.8835"
   ]
  },
  {
   "cell_type": "markdown",
   "metadata": {
    "colab_type": "text",
    "id": "flY-KV-lOgF7"
   },
   "source": [
    "### Random Forest"
   ]
  },
  {
   "cell_type": "code",
   "execution_count": 25,
   "metadata": {
    "colab": {
     "base_uri": "https://localhost:8080/",
     "height": 212
    },
    "colab_type": "code",
    "id": "qZONvPMaTjYg",
    "outputId": "77e448c3-83e2-4fd0-91d2-f67d68dae167"
   },
   "outputs": [
    {
     "name": "stdout",
     "output_type": "stream",
     "text": [
      "=========0-th Fold Score: 1.9403045857833128\n",
      "=========1-th Fold Score: 1.9639579780200627\n",
      "=========2-th Fold Score: 1.9608525607851202\n",
      "=========3-th Fold Score: 1.6069926569432185\n",
      "=========4-th Fold Score: 2.0304176087462973\n",
      "=========5-th Fold Score: 1.804326535108265\n",
      "=========6-th Fold Score: 1.6149525794156179\n",
      "=========7-th Fold Score: 2.2644588892437314\n",
      "=========8-th Fold Score: 1.7723530468134843\n",
      "=========9-th Fold Score: 1.8931269716357813\n",
      "=========Total Score:  1.885174341249489\n"
     ]
    }
   ],
   "source": [
    "model_rf = RandomForestRegressor(n_estimators = 3000,\n",
    "                                 criterion = 'mse',\n",
    "                                 max_depth = 5)\n",
    "kfold_validate(X, y, te, model_rf, 'rf')                   # 2.015 -> 1.8845 "
   ]
  },
  {
   "cell_type": "code",
   "execution_count": 0,
   "metadata": {
    "colab": {},
    "colab_type": "code",
    "id": "vrtoOxEZtifw"
   },
   "outputs": [],
   "source": [
    "model_rf2 = RandomForestRegressor(n_estimators = 3000,\n",
    "                                 criterion = 'mse',\n",
    "                                 #min_samples_split = .7,\n",
    "                                 #min_samples_leaf = 100,\n",
    "                                 max_depth = 9)\n",
    "kfold_validate(X, y, te, model_rf, 'rf_2')   "
   ]
  },
  {
   "cell_type": "markdown",
   "metadata": {
    "colab_type": "text",
    "id": "aSOZ4TdgmRc6"
   },
   "source": [
    "### Xgboost"
   ]
  },
  {
   "cell_type": "code",
   "execution_count": 164,
   "metadata": {
    "colab": {
     "base_uri": "https://localhost:8080/",
     "height": 639
    },
    "colab_type": "code",
    "id": "aaTWC0FemrJJ",
    "outputId": "cb7f79b2-7c31-4541-91ed-937e1b56cf3c"
   },
   "outputs": [
    {
     "name": "stderr",
     "output_type": "stream",
     "text": [
      "/usr/local/lib/python3.6/dist-packages/xgboost/core.py:587: FutureWarning: Series.base is deprecated and will be removed in a future version\n",
      "  if getattr(data, 'base', None) is not None and \\\n"
     ]
    },
    {
     "name": "stdout",
     "output_type": "stream",
     "text": [
      "=========0-th Fold Score: 1.818414762345307\n"
     ]
    },
    {
     "name": "stderr",
     "output_type": "stream",
     "text": [
      "/usr/local/lib/python3.6/dist-packages/xgboost/core.py:587: FutureWarning: Series.base is deprecated and will be removed in a future version\n",
      "  if getattr(data, 'base', None) is not None and \\\n"
     ]
    },
    {
     "name": "stdout",
     "output_type": "stream",
     "text": [
      "=========1-th Fold Score: 1.9513777872424112\n"
     ]
    },
    {
     "name": "stderr",
     "output_type": "stream",
     "text": [
      "/usr/local/lib/python3.6/dist-packages/xgboost/core.py:587: FutureWarning: Series.base is deprecated and will be removed in a future version\n",
      "  if getattr(data, 'base', None) is not None and \\\n"
     ]
    },
    {
     "name": "stdout",
     "output_type": "stream",
     "text": [
      "=========2-th Fold Score: 1.951013404837731\n"
     ]
    },
    {
     "name": "stderr",
     "output_type": "stream",
     "text": [
      "/usr/local/lib/python3.6/dist-packages/xgboost/core.py:587: FutureWarning: Series.base is deprecated and will be removed in a future version\n",
      "  if getattr(data, 'base', None) is not None and \\\n"
     ]
    },
    {
     "name": "stdout",
     "output_type": "stream",
     "text": [
      "=========3-th Fold Score: 1.6272942156126584\n"
     ]
    },
    {
     "name": "stderr",
     "output_type": "stream",
     "text": [
      "/usr/local/lib/python3.6/dist-packages/xgboost/core.py:587: FutureWarning: Series.base is deprecated and will be removed in a future version\n",
      "  if getattr(data, 'base', None) is not None and \\\n"
     ]
    },
    {
     "name": "stdout",
     "output_type": "stream",
     "text": [
      "=========4-th Fold Score: 2.242290105080174\n"
     ]
    },
    {
     "name": "stderr",
     "output_type": "stream",
     "text": [
      "/usr/local/lib/python3.6/dist-packages/xgboost/core.py:587: FutureWarning: Series.base is deprecated and will be removed in a future version\n",
      "  if getattr(data, 'base', None) is not None and \\\n"
     ]
    },
    {
     "name": "stdout",
     "output_type": "stream",
     "text": [
      "=========5-th Fold Score: 1.9105633856675117\n"
     ]
    },
    {
     "name": "stderr",
     "output_type": "stream",
     "text": [
      "/usr/local/lib/python3.6/dist-packages/xgboost/core.py:587: FutureWarning: Series.base is deprecated and will be removed in a future version\n",
      "  if getattr(data, 'base', None) is not None and \\\n"
     ]
    },
    {
     "name": "stdout",
     "output_type": "stream",
     "text": [
      "=========6-th Fold Score: 1.7031975849669143\n"
     ]
    },
    {
     "name": "stderr",
     "output_type": "stream",
     "text": [
      "/usr/local/lib/python3.6/dist-packages/xgboost/core.py:587: FutureWarning: Series.base is deprecated and will be removed in a future version\n",
      "  if getattr(data, 'base', None) is not None and \\\n"
     ]
    },
    {
     "name": "stdout",
     "output_type": "stream",
     "text": [
      "=========7-th Fold Score: 2.265856741258395\n"
     ]
    },
    {
     "name": "stderr",
     "output_type": "stream",
     "text": [
      "/usr/local/lib/python3.6/dist-packages/xgboost/core.py:587: FutureWarning: Series.base is deprecated and will be removed in a future version\n",
      "  if getattr(data, 'base', None) is not None and \\\n"
     ]
    },
    {
     "name": "stdout",
     "output_type": "stream",
     "text": [
      "=========8-th Fold Score: 1.796073579680345\n"
     ]
    },
    {
     "name": "stderr",
     "output_type": "stream",
     "text": [
      "/usr/local/lib/python3.6/dist-packages/xgboost/core.py:587: FutureWarning: Series.base is deprecated and will be removed in a future version\n",
      "  if getattr(data, 'base', None) is not None and \\\n"
     ]
    },
    {
     "name": "stdout",
     "output_type": "stream",
     "text": [
      "=========9-th Fold Score: 1.9537610168184727\n",
      "=========Total Score:  1.9219842583509918\n"
     ]
    },
    {
     "name": "stderr",
     "output_type": "stream",
     "text": [
      "/usr/local/lib/python3.6/dist-packages/xgboost/core.py:587: FutureWarning: Series.base is deprecated and will be removed in a future version\n",
      "  if getattr(data, 'base', None) is not None and \\\n",
      "/usr/local/lib/python3.6/dist-packages/xgboost/core.py:588: FutureWarning: Series.base is deprecated and will be removed in a future version\n",
      "  data.base is not None and isinstance(data, np.ndarray) \\\n"
     ]
    }
   ],
   "source": [
    "model_xg = XGBRegressor(objective = 'reg:linear',\n",
    "                            n_estimators = 3000,\n",
    "                            max_depth = 9,\n",
    "                            learning_rate = 0.01,\n",
    "                            early_stopping_rounds = 200,\n",
    "                            gamma = 1.0,\n",
    "                            #alpha = .6,\n",
    "                            subsample = 0.7,\n",
    "                            colsample_bytree = 0.6,\n",
    "                            colsample_bylevel = 0.8,\n",
    "                            silent = True)\n",
    "#split_validate(model_rf2)\n",
    "kfold_validate(X, y_el, te, model_xg, 'xg')                # 2.0161  -> 1.92 (el)"
   ]
  },
  {
   "cell_type": "markdown",
   "metadata": {
    "colab_type": "text",
    "id": "fbeIIJLou4SO"
   },
   "source": [
    "### Catboost"
   ]
  },
  {
   "cell_type": "code",
   "execution_count": 0,
   "metadata": {
    "colab": {},
    "colab_type": "code",
    "id": "66uB1vQajEAt"
   },
   "outputs": [],
   "source": [
    "model_cb = CatBoostRegressor(bagging_temperature = 0.3,  \n",
    "                             colsample_bylevel = 0.7,  \n",
    "                             depth = 9,   \n",
    "                             early_stopping_rounds = 500,   \n",
    "                             eval_metric = 'RMSE',\n",
    "                             iterations = 3000,                             \n",
    "                             learning_rate = .01,    \n",
    "                             logging_level = 'Silent')\n",
    "#split_validate(model_cb)\n",
    "kfold_validate(X, y_el, te, model_cb, 'cb')"
   ]
  },
  {
   "cell_type": "code",
   "execution_count": 0,
   "metadata": {
    "colab": {},
    "colab_type": "code",
    "id": "KxVApav94o3R"
   },
   "outputs": [],
   "source": [
    "model_cb2 = CatBoostRegressor(bagging_temperature = 0.3,\n",
    "                             colsample_bylevel = 0.7,\n",
    "                             depth = 9,\n",
    "                             early_stopping_rounds = 500,\n",
    "                             eval_metric = 'RMSE',\n",
    "                             iterations = 3000,\n",
    "                             learning_rate = .05,\n",
    "                             logging_level = 'Silent')\n",
    "split_validate(model_cb2)\n",
    "#kfold_validate(X, y, te, model_cb2, 'cb_2')"
   ]
  },
  {
   "cell_type": "markdown",
   "metadata": {
    "colab_type": "text",
    "id": "NY6rCN7PqLoT"
   },
   "source": [
    "### Lightgbm"
   ]
  },
  {
   "cell_type": "code",
   "execution_count": 0,
   "metadata": {
    "colab": {},
    "colab_type": "code",
    "id": "i7L7dQ6m-wVd"
   },
   "outputs": [],
   "source": [
    "params = {'objective' : 'regression',\n",
    "          'num_iterations' : 1000, \n",
    "          'max_depth' : 13, \n",
    "          'num_leaves' : 100, \n",
    "          'learning_rate': 0.05, \n",
    "          'metric' : 'rmse',\n",
    "          'min_data_in_leaf' : 100, \n",
    "          'colsample_bytree': 0.7, \n",
    "          'subsample_freq': 1,  \n",
    "          'lambda_l1' : 0.01, \n",
    "          'lambda_l2' : 0.7, \n",
    "          'subsample' : 0.6, \n",
    "          'verbose' : -1}"
   ]
  },
  {
   "cell_type": "code",
   "execution_count": 27,
   "metadata": {
    "colab": {
     "base_uri": "https://localhost:8080/",
     "height": 1101
    },
    "colab_type": "code",
    "id": "NfWT-nigYNRc",
    "outputId": "0aa4a9c8-324b-42be-93b8-7f07f1091bb9"
   },
   "outputs": [
    {
     "name": "stderr",
     "output_type": "stream",
     "text": [
      "/usr/local/lib/python3.6/dist-packages/lightgbm/engine.py:118: UserWarning: Found `num_iterations` in params. Will use it instead of argument\n",
      "  warnings.warn(\"Found `{}` in params. Will use it instead of argument\".format(alias))\n"
     ]
    },
    {
     "name": "stdout",
     "output_type": "stream",
     "text": [
      "Training until validation scores don't improve for 500 rounds.\n",
      "Early stopping, best iteration is:\n",
      "[1]\tvalid_0's rmse: 1.91314\n",
      "=========0-th Fold Score: 1.9131438942719083\n"
     ]
    },
    {
     "name": "stderr",
     "output_type": "stream",
     "text": [
      "/usr/local/lib/python3.6/dist-packages/lightgbm/engine.py:118: UserWarning: Found `num_iterations` in params. Will use it instead of argument\n",
      "  warnings.warn(\"Found `{}` in params. Will use it instead of argument\".format(alias))\n"
     ]
    },
    {
     "name": "stdout",
     "output_type": "stream",
     "text": [
      "Training until validation scores don't improve for 500 rounds.\n",
      "Early stopping, best iteration is:\n",
      "[1]\tvalid_0's rmse: 1.93177\n",
      "=========1-th Fold Score: 1.9317684134917827\n"
     ]
    },
    {
     "name": "stderr",
     "output_type": "stream",
     "text": [
      "/usr/local/lib/python3.6/dist-packages/lightgbm/engine.py:118: UserWarning: Found `num_iterations` in params. Will use it instead of argument\n",
      "  warnings.warn(\"Found `{}` in params. Will use it instead of argument\".format(alias))\n"
     ]
    },
    {
     "name": "stdout",
     "output_type": "stream",
     "text": [
      "Training until validation scores don't improve for 500 rounds.\n",
      "Early stopping, best iteration is:\n",
      "[6]\tvalid_0's rmse: 1.90996\n",
      "=========2-th Fold Score: 1.909957408755915\n"
     ]
    },
    {
     "name": "stderr",
     "output_type": "stream",
     "text": [
      "/usr/local/lib/python3.6/dist-packages/lightgbm/engine.py:118: UserWarning: Found `num_iterations` in params. Will use it instead of argument\n",
      "  warnings.warn(\"Found `{}` in params. Will use it instead of argument\".format(alias))\n"
     ]
    },
    {
     "name": "stdout",
     "output_type": "stream",
     "text": [
      "Training until validation scores don't improve for 500 rounds.\n",
      "Early stopping, best iteration is:\n",
      "[3]\tvalid_0's rmse: 1.57119\n",
      "=========3-th Fold Score: 1.571193122245643\n"
     ]
    },
    {
     "name": "stderr",
     "output_type": "stream",
     "text": [
      "/usr/local/lib/python3.6/dist-packages/lightgbm/engine.py:118: UserWarning: Found `num_iterations` in params. Will use it instead of argument\n",
      "  warnings.warn(\"Found `{}` in params. Will use it instead of argument\".format(alias))\n"
     ]
    },
    {
     "name": "stdout",
     "output_type": "stream",
     "text": [
      "Training until validation scores don't improve for 500 rounds.\n",
      "Early stopping, best iteration is:\n",
      "[1]\tvalid_0's rmse: 1.95777\n",
      "=========4-th Fold Score: 1.9577685905996973\n"
     ]
    },
    {
     "name": "stderr",
     "output_type": "stream",
     "text": [
      "/usr/local/lib/python3.6/dist-packages/lightgbm/engine.py:118: UserWarning: Found `num_iterations` in params. Will use it instead of argument\n",
      "  warnings.warn(\"Found `{}` in params. Will use it instead of argument\".format(alias))\n"
     ]
    },
    {
     "name": "stdout",
     "output_type": "stream",
     "text": [
      "Training until validation scores don't improve for 500 rounds.\n",
      "Early stopping, best iteration is:\n",
      "[1]\tvalid_0's rmse: 1.78693\n",
      "=========5-th Fold Score: 1.7869317289955458\n"
     ]
    },
    {
     "name": "stderr",
     "output_type": "stream",
     "text": [
      "/usr/local/lib/python3.6/dist-packages/lightgbm/engine.py:118: UserWarning: Found `num_iterations` in params. Will use it instead of argument\n",
      "  warnings.warn(\"Found `{}` in params. Will use it instead of argument\".format(alias))\n"
     ]
    },
    {
     "name": "stdout",
     "output_type": "stream",
     "text": [
      "Training until validation scores don't improve for 500 rounds.\n",
      "Early stopping, best iteration is:\n",
      "[1]\tvalid_0's rmse: 1.59881\n",
      "=========6-th Fold Score: 1.5988110873966899\n"
     ]
    },
    {
     "name": "stderr",
     "output_type": "stream",
     "text": [
      "/usr/local/lib/python3.6/dist-packages/lightgbm/engine.py:118: UserWarning: Found `num_iterations` in params. Will use it instead of argument\n",
      "  warnings.warn(\"Found `{}` in params. Will use it instead of argument\".format(alias))\n"
     ]
    },
    {
     "name": "stdout",
     "output_type": "stream",
     "text": [
      "Training until validation scores don't improve for 500 rounds.\n",
      "Early stopping, best iteration is:\n",
      "[2]\tvalid_0's rmse: 2.23736\n",
      "=========7-th Fold Score: 2.237363112922855\n"
     ]
    },
    {
     "name": "stderr",
     "output_type": "stream",
     "text": [
      "/usr/local/lib/python3.6/dist-packages/lightgbm/engine.py:118: UserWarning: Found `num_iterations` in params. Will use it instead of argument\n",
      "  warnings.warn(\"Found `{}` in params. Will use it instead of argument\".format(alias))\n"
     ]
    },
    {
     "name": "stdout",
     "output_type": "stream",
     "text": [
      "Training until validation scores don't improve for 500 rounds.\n",
      "Early stopping, best iteration is:\n",
      "[12]\tvalid_0's rmse: 1.76242\n",
      "=========8-th Fold Score: 1.7624173814035293\n"
     ]
    },
    {
     "name": "stderr",
     "output_type": "stream",
     "text": [
      "/usr/local/lib/python3.6/dist-packages/lightgbm/engine.py:118: UserWarning: Found `num_iterations` in params. Will use it instead of argument\n",
      "  warnings.warn(\"Found `{}` in params. Will use it instead of argument\".format(alias))\n"
     ]
    },
    {
     "name": "stdout",
     "output_type": "stream",
     "text": [
      "Training until validation scores don't improve for 500 rounds.\n",
      "Early stopping, best iteration is:\n",
      "[2]\tvalid_0's rmse: 1.824\n",
      "=========9-th Fold Score: 1.824001707136582\n",
      "=========Total Score:  1.8493356447220148\n"
     ]
    }
   ],
   "source": [
    "scores = np.zeros(10)\n",
    "for i, (tr_idx, val_idx) in enumerate(cv.split(X)):\n",
    "    X_tr, y_tr = X.iloc[tr_idx, :], y[tr_idx]\n",
    "    X_val, y_val = X.iloc[val_idx, :], y[val_idx]\n",
    "    \n",
    "    tr_data = lgb.Dataset(X_tr, label = y_tr)\n",
    "    val_data = lgb.Dataset(X_val, label = y_val)\n",
    "\n",
    "    hist = {}\n",
    "    model_lg = lgb.train(params, tr_data, \n",
    "                         valid_sets = [val_data],\n",
    "                         verbose_eval = -1, \n",
    "                         early_stopping_rounds = 500,\n",
    "                         callbacks = [lgb.record_evaluation(hist)])\n",
    "    \n",
    "    pred_val = model_lg.predict(X_val, num_iteration = model_lg.best_iteration)\n",
    "    scores[i] = get_loss(pred_val, y_val)\n",
    "    print(\"========={}-th Fold Score: {}\".format(i, scores[i]))\n",
    "        \n",
    "    meta_tr['lg'][val_idx] = pred_val\n",
    "    meta_tr['val'][val_idx] = y_val\n",
    "\n",
    "print(\"=========Total Score: \", np.mean(scores))\n",
    "meta_te['lg'] = model_lg.predict(te)                  # 1.8493 "
   ]
  },
  {
   "cell_type": "code",
   "execution_count": 0,
   "metadata": {
    "colab": {},
    "colab_type": "code",
    "id": "xR_hkL8TL5WV"
   },
   "outputs": [],
   "source": []
  },
  {
   "cell_type": "code",
   "execution_count": 0,
   "metadata": {
    "colab": {},
    "colab_type": "code",
    "id": "7nroJ1bn-Ibe"
   },
   "outputs": [],
   "source": [
    "params = {'objective' : 'regression',\n",
    "          'num_iterations' : 5000, \n",
    "          'max_depth' : 9, \n",
    "          'num_leaves' : 100, \n",
    "          'learning_rate': 0.005, \n",
    "          'metric' : 'rmse',\n",
    "          'min_data_in_leaf' : 100, \n",
    "          'colsample_bytree': 0.5, \n",
    "          'subsample_freq': 1,  \n",
    "          'lambda_l1' : 0.01, \n",
    "          'lambda_l2' : 0.7, \n",
    "          'subsample' : 0.8, \n",
    "          'verbose' : -1}"
   ]
  },
  {
   "cell_type": "code",
   "execution_count": 29,
   "metadata": {
    "colab": {
     "base_uri": "https://localhost:8080/",
     "height": 1101
    },
    "colab_type": "code",
    "id": "VSnyWtDn7Pvq",
    "outputId": "c4adb547-90bf-4d11-b676-65b4157eca93"
   },
   "outputs": [
    {
     "name": "stderr",
     "output_type": "stream",
     "text": [
      "/usr/local/lib/python3.6/dist-packages/lightgbm/engine.py:118: UserWarning: Found `num_iterations` in params. Will use it instead of argument\n",
      "  warnings.warn(\"Found `{}` in params. Will use it instead of argument\".format(alias))\n"
     ]
    },
    {
     "name": "stdout",
     "output_type": "stream",
     "text": [
      "Training until validation scores don't improve for 500 rounds.\n",
      "Early stopping, best iteration is:\n",
      "[1]\tvalid_0's rmse: 1.91572\n",
      "=========0-th Fold Score: 1.9157157368310564\n"
     ]
    },
    {
     "name": "stderr",
     "output_type": "stream",
     "text": [
      "/usr/local/lib/python3.6/dist-packages/lightgbm/engine.py:118: UserWarning: Found `num_iterations` in params. Will use it instead of argument\n",
      "  warnings.warn(\"Found `{}` in params. Will use it instead of argument\".format(alias))\n"
     ]
    },
    {
     "name": "stdout",
     "output_type": "stream",
     "text": [
      "Training until validation scores don't improve for 500 rounds.\n",
      "Early stopping, best iteration is:\n",
      "[1]\tvalid_0's rmse: 1.93138\n",
      "=========1-th Fold Score: 1.9313804173621822\n"
     ]
    },
    {
     "name": "stderr",
     "output_type": "stream",
     "text": [
      "/usr/local/lib/python3.6/dist-packages/lightgbm/engine.py:118: UserWarning: Found `num_iterations` in params. Will use it instead of argument\n",
      "  warnings.warn(\"Found `{}` in params. Will use it instead of argument\".format(alias))\n"
     ]
    },
    {
     "name": "stdout",
     "output_type": "stream",
     "text": [
      "Training until validation scores don't improve for 500 rounds.\n",
      "Early stopping, best iteration is:\n",
      "[4]\tvalid_0's rmse: 1.91012\n",
      "=========2-th Fold Score: 1.9101225942632392\n"
     ]
    },
    {
     "name": "stderr",
     "output_type": "stream",
     "text": [
      "/usr/local/lib/python3.6/dist-packages/lightgbm/engine.py:118: UserWarning: Found `num_iterations` in params. Will use it instead of argument\n",
      "  warnings.warn(\"Found `{}` in params. Will use it instead of argument\".format(alias))\n"
     ]
    },
    {
     "name": "stdout",
     "output_type": "stream",
     "text": [
      "Training until validation scores don't improve for 500 rounds.\n",
      "Early stopping, best iteration is:\n",
      "[2]\tvalid_0's rmse: 1.56853\n",
      "=========3-th Fold Score: 1.5685260256969098\n"
     ]
    },
    {
     "name": "stderr",
     "output_type": "stream",
     "text": [
      "/usr/local/lib/python3.6/dist-packages/lightgbm/engine.py:118: UserWarning: Found `num_iterations` in params. Will use it instead of argument\n",
      "  warnings.warn(\"Found `{}` in params. Will use it instead of argument\".format(alias))\n"
     ]
    },
    {
     "name": "stdout",
     "output_type": "stream",
     "text": [
      "Training until validation scores don't improve for 500 rounds.\n",
      "Early stopping, best iteration is:\n",
      "[4]\tvalid_0's rmse: 1.95804\n",
      "=========4-th Fold Score: 1.9580439420403297\n"
     ]
    },
    {
     "name": "stderr",
     "output_type": "stream",
     "text": [
      "/usr/local/lib/python3.6/dist-packages/lightgbm/engine.py:118: UserWarning: Found `num_iterations` in params. Will use it instead of argument\n",
      "  warnings.warn(\"Found `{}` in params. Will use it instead of argument\".format(alias))\n"
     ]
    },
    {
     "name": "stdout",
     "output_type": "stream",
     "text": [
      "Training until validation scores don't improve for 500 rounds.\n",
      "Early stopping, best iteration is:\n",
      "[1]\tvalid_0's rmse: 1.7852\n",
      "=========5-th Fold Score: 1.7852008654769782\n"
     ]
    },
    {
     "name": "stderr",
     "output_type": "stream",
     "text": [
      "/usr/local/lib/python3.6/dist-packages/lightgbm/engine.py:118: UserWarning: Found `num_iterations` in params. Will use it instead of argument\n",
      "  warnings.warn(\"Found `{}` in params. Will use it instead of argument\".format(alias))\n"
     ]
    },
    {
     "name": "stdout",
     "output_type": "stream",
     "text": [
      "Training until validation scores don't improve for 500 rounds.\n",
      "Early stopping, best iteration is:\n",
      "[5]\tvalid_0's rmse: 1.59874\n",
      "=========6-th Fold Score: 1.5987437338898398\n"
     ]
    },
    {
     "name": "stderr",
     "output_type": "stream",
     "text": [
      "/usr/local/lib/python3.6/dist-packages/lightgbm/engine.py:118: UserWarning: Found `num_iterations` in params. Will use it instead of argument\n",
      "  warnings.warn(\"Found `{}` in params. Will use it instead of argument\".format(alias))\n"
     ]
    },
    {
     "name": "stdout",
     "output_type": "stream",
     "text": [
      "Training until validation scores don't improve for 500 rounds.\n",
      "Early stopping, best iteration is:\n",
      "[1]\tvalid_0's rmse: 2.23836\n",
      "=========7-th Fold Score: 2.238358268844485\n"
     ]
    },
    {
     "name": "stderr",
     "output_type": "stream",
     "text": [
      "/usr/local/lib/python3.6/dist-packages/lightgbm/engine.py:118: UserWarning: Found `num_iterations` in params. Will use it instead of argument\n",
      "  warnings.warn(\"Found `{}` in params. Will use it instead of argument\".format(alias))\n"
     ]
    },
    {
     "name": "stdout",
     "output_type": "stream",
     "text": [
      "Training until validation scores don't improve for 500 rounds.\n",
      "Early stopping, best iteration is:\n",
      "[1]\tvalid_0's rmse: 1.76786\n",
      "=========8-th Fold Score: 1.7678616858686849\n"
     ]
    },
    {
     "name": "stderr",
     "output_type": "stream",
     "text": [
      "/usr/local/lib/python3.6/dist-packages/lightgbm/engine.py:118: UserWarning: Found `num_iterations` in params. Will use it instead of argument\n",
      "  warnings.warn(\"Found `{}` in params. Will use it instead of argument\".format(alias))\n"
     ]
    },
    {
     "name": "stdout",
     "output_type": "stream",
     "text": [
      "Training until validation scores don't improve for 500 rounds.\n",
      "Early stopping, best iteration is:\n",
      "[1]\tvalid_0's rmse: 1.82317\n",
      "=========9-th Fold Score: 1.8231680913900465\n",
      "=========Total Score:  1.849712136166375\n"
     ]
    }
   ],
   "source": [
    "scores = np.zeros(10)\n",
    "for i, (tr_idx, val_idx) in enumerate(cv.split(X)):\n",
    "    X_tr, y_tr = X.iloc[tr_idx, :], y[tr_idx]\n",
    "    X_val, y_val = X.iloc[val_idx, :], y[val_idx]\n",
    "    \n",
    "    tr_data = lgb.Dataset(X_tr, label = y_tr)\n",
    "    val_data = lgb.Dataset(X_val, label = y_val)\n",
    "\n",
    "    hist = {}\n",
    "    model_lg = lgb.train(params, tr_data, \n",
    "                         valid_sets = [val_data],\n",
    "                         verbose_eval = -1, \n",
    "                         early_stopping_rounds = 500,\n",
    "                         callbacks = [lgb.record_evaluation(hist)])\n",
    "    \n",
    "    pred_val = model_lg.predict(X_val, num_iteration = model_lg.best_iteration)\n",
    "    scores[i] = get_loss(pred_val, y_val)\n",
    "    print(\"========={}-th Fold Score: {}\".format(i, scores[i]))\n",
    "        \n",
    "    meta_tr['lg_2'][val_idx] = pred_val\n",
    "\n",
    "print(\"=========Total Score: \", np.mean(scores))\n",
    "meta_te['lg_2'] = model_lg.predict(te)                  # 1.8497"
   ]
  },
  {
   "cell_type": "markdown",
   "metadata": {
    "colab_type": "text",
    "id": "DA6Ci1O1u4-f"
   },
   "source": [
    "### Keras"
   ]
  },
  {
   "cell_type": "code",
   "execution_count": 30,
   "metadata": {
    "colab": {
     "base_uri": "https://localhost:8080/",
     "height": 52
    },
    "colab_type": "code",
    "id": "ixLm8rtAmil7",
    "outputId": "4fa971ae-033a-4f8c-b4be-e96f74f9fd83"
   },
   "outputs": [
    {
     "name": "stdout",
     "output_type": "stream",
     "text": [
      "376\n",
      "188.0\n"
     ]
    }
   ],
   "source": [
    "print(X.shape[1])\n",
    "print(X.shape[1] /2)"
   ]
  },
  {
   "cell_type": "code",
   "execution_count": 31,
   "metadata": {
    "colab": {
     "base_uri": "https://localhost:8080/",
     "height": 641
    },
    "colab_type": "code",
    "id": "0NdZviyBmFZ4",
    "outputId": "eac44ac7-b632-4ebc-8f33-caff05406e41"
   },
   "outputs": [
    {
     "name": "stdout",
     "output_type": "stream",
     "text": [
      "WARNING:tensorflow:From /usr/local/lib/python3.6/dist-packages/tensorflow/python/framework/op_def_library.py:263: colocate_with (from tensorflow.python.framework.ops) is deprecated and will be removed in a future version.\n",
      "Instructions for updating:\n",
      "Colocations handled automatically by placer.\n"
     ]
    },
    {
     "name": "stderr",
     "output_type": "stream",
     "text": [
      "/usr/local/lib/python3.6/dist-packages/ipykernel_launcher.py:4: UserWarning: Update your `Dense` call to the Keras 2 API: `Dense(input_dim=376, activation=\"relu\", units=128)`\n",
      "  after removing the cwd from sys.path.\n",
      "/usr/local/lib/python3.6/dist-packages/ipykernel_launcher.py:5: UserWarning: Update your `Dense` call to the Keras 2 API: `Dense(activation=\"relu\", units=64)`\n",
      "  \"\"\"\n",
      "/usr/local/lib/python3.6/dist-packages/ipykernel_launcher.py:8: UserWarning: Update your `Dense` call to the Keras 2 API: `Dense(activation=\"relu\", units=32)`\n",
      "  \n"
     ]
    },
    {
     "name": "stdout",
     "output_type": "stream",
     "text": [
      "_________________________________________________________________\n",
      "Layer (type)                 Output Shape              Param #   \n",
      "=================================================================\n",
      "dense_1 (Dense)              (None, 128)               48256     \n",
      "_________________________________________________________________\n",
      "dense_2 (Dense)              (None, 64)                8256      \n",
      "_________________________________________________________________\n",
      "batch_normalization_1 (Batch (None, 64)                256       \n",
      "_________________________________________________________________\n",
      "dense_3 (Dense)              (None, 32)                2080      \n",
      "_________________________________________________________________\n",
      "batch_normalization_2 (Batch (None, 32)                128       \n",
      "_________________________________________________________________\n",
      "dense_4 (Dense)              (None, 16)                528       \n",
      "_________________________________________________________________\n",
      "dense_5 (Dense)              (None, 1)                 17        \n",
      "=================================================================\n",
      "Total params: 59,521\n",
      "Trainable params: 59,329\n",
      "Non-trainable params: 192\n",
      "_________________________________________________________________\n"
     ]
    },
    {
     "name": "stderr",
     "output_type": "stream",
     "text": [
      "/usr/local/lib/python3.6/dist-packages/ipykernel_launcher.py:11: UserWarning: Update your `Dense` call to the Keras 2 API: `Dense(activation=\"relu\", units=16)`\n",
      "  # This is added back by InteractiveShellApp.init_path()\n",
      "/usr/local/lib/python3.6/dist-packages/ipykernel_launcher.py:12: UserWarning: Update your `Dense` call to the Keras 2 API: `Dense(units=1)`\n",
      "  if sys.path[0] == '':\n"
     ]
    }
   ],
   "source": [
    "# initialize the model\n",
    "model = Sequential()\n",
    "\n",
    "# create hidden layers\n",
    "model.add(Dense(input_dim = X.shape[1], output_dim = 128, activation = 'relu'))\n",
    "model.add(Dense(output_dim = 64, activation = 'relu'))\n",
    "#model.add(Dropout(.7))\n",
    "model.add(BatchNormalization())\n",
    "model.add(Dense(output_dim = 32, activation = 'relu'))\n",
    "#model.add(Dropout(.7))\n",
    "model.add(BatchNormalization())\n",
    "model.add(Dense(output_dim = 16, activation = 'relu'))\n",
    "model.add(Dense(output_dim = 1))\n",
    "\n",
    "# compile: stochastic gradient descent\n",
    "model.compile(optimizer = Adam(lr=0.01),  \n",
    "              loss = 'mse',\n",
    "              metrics = ['mean_squared_error'])\n",
    "\n",
    "# early stopper\n",
    "early_stopper = EarlyStopping(patience = 5)\n",
    "\n",
    "model.summary()                      # 1.8590"
   ]
  },
  {
   "cell_type": "code",
   "execution_count": 32,
   "metadata": {
    "colab": {
     "base_uri": "https://localhost:8080/",
     "height": 6135
    },
    "colab_type": "code",
    "id": "eH32NkwHn10R",
    "outputId": "b3ea04f2-f60d-4d22-cab5-8069b8d8f908"
   },
   "outputs": [
    {
     "name": "stdout",
     "output_type": "stream",
     "text": [
      "WARNING:tensorflow:From /usr/local/lib/python3.6/dist-packages/tensorflow/python/ops/math_ops.py:3066: to_int32 (from tensorflow.python.ops.math_ops) is deprecated and will be removed in a future version.\n",
      "Instructions for updating:\n",
      "Use tf.cast instead.\n"
     ]
    },
    {
     "name": "stderr",
     "output_type": "stream",
     "text": [
      "/usr/local/lib/python3.6/dist-packages/ipykernel_launcher.py:15: UserWarning: The `nb_epoch` argument in `fit` has been renamed `epochs`.\n",
      "  from ipykernel import kernelapp as app\n"
     ]
    },
    {
     "name": "stdout",
     "output_type": "stream",
     "text": [
      "Train on 2700 samples, validate on 300 samples\n",
      "Epoch 1/100\n",
      "Epoch 2/100\n",
      "Epoch 3/100\n",
      "Epoch 4/100\n",
      "Epoch 5/100\n",
      "Epoch 6/100\n",
      "Epoch 7/100\n",
      "Epoch 8/100\n",
      "Epoch 9/100\n",
      "Epoch 10/100\n",
      "Epoch 11/100\n",
      "Epoch 12/100\n",
      "Epoch 13/100\n",
      "Epoch 14/100\n",
      "Epoch 15/100\n",
      "Epoch 16/100\n",
      "Epoch 17/100\n",
      "Epoch 18/100\n",
      "=========0-th Fold Score: 1.9065781409545013\n",
      "Train on 2700 samples, validate on 300 samples\n",
      "Epoch 1/100\n"
     ]
    },
    {
     "name": "stderr",
     "output_type": "stream",
     "text": [
      "/usr/local/lib/python3.6/dist-packages/ipykernel_launcher.py:15: UserWarning: The `nb_epoch` argument in `fit` has been renamed `epochs`.\n",
      "  from ipykernel import kernelapp as app\n"
     ]
    },
    {
     "name": "stdout",
     "output_type": "stream",
     "text": [
      "Epoch 2/100\n",
      "Epoch 3/100\n",
      "Epoch 4/100\n",
      "Epoch 5/100\n",
      "Epoch 6/100\n",
      "=========1-th Fold Score: 1.93023429394973\n",
      "Train on 2700 samples, validate on 300 samples\n",
      "Epoch 1/100\n",
      "Epoch 2/100\n"
     ]
    },
    {
     "name": "stderr",
     "output_type": "stream",
     "text": [
      "/usr/local/lib/python3.6/dist-packages/ipykernel_launcher.py:15: UserWarning: The `nb_epoch` argument in `fit` has been renamed `epochs`.\n",
      "  from ipykernel import kernelapp as app\n"
     ]
    },
    {
     "name": "stdout",
     "output_type": "stream",
     "text": [
      "Epoch 3/100\n",
      "Epoch 4/100\n",
      "Epoch 5/100\n",
      "Epoch 6/100\n",
      "=========2-th Fold Score: 2.023172706619664\n",
      "Train on 2700 samples, validate on 300 samples\n",
      "Epoch 1/100\n",
      "Epoch 2/100\n",
      "Epoch 3/100\n",
      "Epoch 4/100\n"
     ]
    },
    {
     "name": "stderr",
     "output_type": "stream",
     "text": [
      "/usr/local/lib/python3.6/dist-packages/ipykernel_launcher.py:15: UserWarning: The `nb_epoch` argument in `fit` has been renamed `epochs`.\n",
      "  from ipykernel import kernelapp as app\n"
     ]
    },
    {
     "name": "stdout",
     "output_type": "stream",
     "text": [
      "Epoch 5/100\n",
      "Epoch 6/100\n",
      "Epoch 7/100\n",
      "Epoch 8/100\n",
      "Epoch 9/100\n",
      "Epoch 10/100\n",
      "Epoch 11/100\n",
      "=========3-th Fold Score: 1.5810597705580454\n"
     ]
    },
    {
     "name": "stderr",
     "output_type": "stream",
     "text": [
      "/usr/local/lib/python3.6/dist-packages/ipykernel_launcher.py:15: UserWarning: The `nb_epoch` argument in `fit` has been renamed `epochs`.\n",
      "  from ipykernel import kernelapp as app\n"
     ]
    },
    {
     "name": "stdout",
     "output_type": "stream",
     "text": [
      "Train on 2700 samples, validate on 300 samples\n",
      "Epoch 1/100\n",
      "Epoch 2/100\n",
      "Epoch 3/100\n",
      "Epoch 4/100\n",
      "Epoch 5/100\n",
      "Epoch 6/100\n",
      "=========4-th Fold Score: 1.9792234045425208\n",
      "Train on 2700 samples, validate on 300 samples\n",
      "Epoch 1/100\n"
     ]
    },
    {
     "name": "stderr",
     "output_type": "stream",
     "text": [
      "/usr/local/lib/python3.6/dist-packages/ipykernel_launcher.py:15: UserWarning: The `nb_epoch` argument in `fit` has been renamed `epochs`.\n",
      "  from ipykernel import kernelapp as app\n"
     ]
    },
    {
     "name": "stdout",
     "output_type": "stream",
     "text": [
      "Epoch 2/100\n",
      "Epoch 3/100\n",
      "Epoch 4/100\n",
      "Epoch 5/100\n",
      "Epoch 6/100\n",
      "=========5-th Fold Score: 1.928299655295548\n",
      "Train on 2700 samples, validate on 300 samples\n",
      "Epoch 1/100\n",
      "Epoch 2/100\n"
     ]
    },
    {
     "name": "stderr",
     "output_type": "stream",
     "text": [
      "/usr/local/lib/python3.6/dist-packages/ipykernel_launcher.py:15: UserWarning: The `nb_epoch` argument in `fit` has been renamed `epochs`.\n",
      "  from ipykernel import kernelapp as app\n"
     ]
    },
    {
     "name": "stdout",
     "output_type": "stream",
     "text": [
      "Epoch 3/100\n",
      "Epoch 4/100\n",
      "Epoch 5/100\n",
      "Epoch 6/100\n",
      "Epoch 7/100\n",
      "Epoch 8/100\n",
      "Epoch 9/100\n",
      "Epoch 10/100\n",
      "Epoch 11/100\n",
      "=========6-th Fold Score: 1.6129544295121103\n",
      "Train on 2700 samples, validate on 300 samples\n",
      "Epoch 1/100\n",
      "Epoch 2/100\n",
      "Epoch 3/100\n"
     ]
    },
    {
     "name": "stderr",
     "output_type": "stream",
     "text": [
      "/usr/local/lib/python3.6/dist-packages/ipykernel_launcher.py:15: UserWarning: The `nb_epoch` argument in `fit` has been renamed `epochs`.\n",
      "  from ipykernel import kernelapp as app\n"
     ]
    },
    {
     "name": "stdout",
     "output_type": "stream",
     "text": [
      "Epoch 4/100\n",
      "Epoch 5/100\n",
      "Epoch 6/100\n",
      "Epoch 7/100\n",
      "Epoch 8/100\n",
      "Epoch 9/100\n",
      "Epoch 10/100\n",
      "Epoch 11/100\n",
      "Epoch 12/100\n",
      "=========7-th Fold Score: 2.2612185117277357\n",
      "Train on 2700 samples, validate on 300 samples\n",
      "Epoch 1/100\n",
      "Epoch 2/100\n"
     ]
    },
    {
     "name": "stderr",
     "output_type": "stream",
     "text": [
      "/usr/local/lib/python3.6/dist-packages/ipykernel_launcher.py:15: UserWarning: The `nb_epoch` argument in `fit` has been renamed `epochs`.\n",
      "  from ipykernel import kernelapp as app\n"
     ]
    },
    {
     "name": "stdout",
     "output_type": "stream",
     "text": [
      "Epoch 3/100\n",
      "Epoch 4/100\n",
      "Epoch 5/100\n",
      "Epoch 6/100\n",
      "Epoch 7/100\n",
      "Epoch 8/100\n",
      "Epoch 9/100\n",
      "=========8-th Fold Score: 1.796450208359561\n"
     ]
    },
    {
     "name": "stderr",
     "output_type": "stream",
     "text": [
      "/usr/local/lib/python3.6/dist-packages/ipykernel_launcher.py:15: UserWarning: The `nb_epoch` argument in `fit` has been renamed `epochs`.\n",
      "  from ipykernel import kernelapp as app\n"
     ]
    },
    {
     "name": "stdout",
     "output_type": "stream",
     "text": [
      "Train on 2700 samples, validate on 300 samples\n",
      "Epoch 1/100\n",
      "Epoch 2/100\n",
      "Epoch 3/100\n",
      "Epoch 4/100\n",
      "Epoch 5/100\n",
      "Epoch 6/100\n",
      "Epoch 7/100\n",
      "Epoch 8/100\n",
      "Epoch 9/100\n",
      "Epoch 10/100\n",
      "Epoch 11/100\n",
      "Epoch 12/100\n",
      "Epoch 13/100\n",
      "=========9-th Fold Score: 1.8573713977312505\n",
      "=========Total Score:  1.8876562519250666\n",
      "Epoch 1/100\n",
      "3000/3000 [==============================] - 0s 25us/step - loss: 3.3980 - mean_squared_error: 3.3980\n",
      "Epoch 2/100\n",
      "3000/3000 [==============================] - 0s 25us/step - loss: 3.3903 - mean_squared_error: 3.3903\n",
      "Epoch 3/100\n",
      " 300/3000 [==>...........................] - ETA: 0s - loss: 4.4174 - mean_squared_error: 4.4174"
     ]
    },
    {
     "name": "stderr",
     "output_type": "stream",
     "text": [
      "/usr/local/lib/python3.6/dist-packages/ipykernel_launcher.py:26: UserWarning: The `nb_epoch` argument in `fit` has been renamed `epochs`.\n"
     ]
    },
    {
     "name": "stdout",
     "output_type": "stream",
     "text": [
      "3000/3000 [==============================] - 0s 27us/step - loss: 3.4013 - mean_squared_error: 3.4013\n",
      "Epoch 4/100\n",
      "3000/3000 [==============================] - 0s 26us/step - loss: 3.3885 - mean_squared_error: 3.3885\n",
      "Epoch 5/100\n",
      "3000/3000 [==============================] - 0s 26us/step - loss: 3.3871 - mean_squared_error: 3.3871\n",
      "Epoch 6/100\n",
      "3000/3000 [==============================] - 0s 25us/step - loss: 3.3932 - mean_squared_error: 3.3932\n",
      "Epoch 7/100\n",
      "3000/3000 [==============================] - 0s 26us/step - loss: 3.3878 - mean_squared_error: 3.3878\n",
      "Epoch 8/100\n",
      "3000/3000 [==============================] - 0s 26us/step - loss: 3.3818 - mean_squared_error: 3.3818\n",
      "Epoch 9/100\n",
      "3000/3000 [==============================] - 0s 30us/step - loss: 3.3882 - mean_squared_error: 3.3882\n",
      "Epoch 10/100\n",
      "3000/3000 [==============================] - 0s 26us/step - loss: 3.3773 - mean_squared_error: 3.3773\n",
      "Epoch 11/100\n",
      "3000/3000 [==============================] - 0s 25us/step - loss: 3.3846 - mean_squared_error: 3.3846\n",
      "Epoch 12/100\n",
      "3000/3000 [==============================] - 0s 25us/step - loss: 3.3851 - mean_squared_error: 3.3851\n",
      "Epoch 13/100\n",
      "3000/3000 [==============================] - 0s 25us/step - loss: 3.3910 - mean_squared_error: 3.3910\n",
      "Epoch 14/100\n",
      "3000/3000 [==============================] - 0s 25us/step - loss: 3.3783 - mean_squared_error: 3.3783\n",
      "Epoch 15/100\n",
      "3000/3000 [==============================] - 0s 26us/step - loss: 3.3856 - mean_squared_error: 3.3856\n",
      "Epoch 16/100\n",
      "3000/3000 [==============================] - 0s 26us/step - loss: 3.3727 - mean_squared_error: 3.3727\n",
      "Epoch 17/100\n",
      "3000/3000 [==============================] - 0s 26us/step - loss: 3.3871 - mean_squared_error: 3.3871\n",
      "Epoch 18/100\n",
      "3000/3000 [==============================] - 0s 26us/step - loss: 3.3831 - mean_squared_error: 3.3831\n",
      "Epoch 19/100\n",
      "3000/3000 [==============================] - 0s 25us/step - loss: 3.3777 - mean_squared_error: 3.3777\n",
      "Epoch 20/100\n",
      "3000/3000 [==============================] - 0s 26us/step - loss: 3.3705 - mean_squared_error: 3.3705\n",
      "Epoch 21/100\n",
      "3000/3000 [==============================] - 0s 25us/step - loss: 3.3687 - mean_squared_error: 3.3687\n",
      "Epoch 22/100\n",
      "3000/3000 [==============================] - 0s 29us/step - loss: 3.3711 - mean_squared_error: 3.3711\n",
      "Epoch 23/100\n",
      "3000/3000 [==============================] - 0s 26us/step - loss: 3.4017 - mean_squared_error: 3.4017\n",
      "Epoch 24/100\n",
      "3000/3000 [==============================] - 0s 26us/step - loss: 3.3775 - mean_squared_error: 3.3775\n",
      "Epoch 25/100\n",
      "3000/3000 [==============================] - 0s 28us/step - loss: 3.3778 - mean_squared_error: 3.3778\n",
      "Epoch 26/100\n",
      "3000/3000 [==============================] - 0s 27us/step - loss: 3.3860 - mean_squared_error: 3.3860\n",
      "Epoch 27/100\n",
      "3000/3000 [==============================] - 0s 25us/step - loss: 3.3923 - mean_squared_error: 3.3923\n",
      "Epoch 28/100\n",
      "3000/3000 [==============================] - 0s 24us/step - loss: 3.3901 - mean_squared_error: 3.3901\n",
      "Epoch 29/100\n",
      "3000/3000 [==============================] - 0s 22us/step - loss: 3.4000 - mean_squared_error: 3.4000\n",
      "Epoch 30/100\n",
      "3000/3000 [==============================] - 0s 23us/step - loss: 3.3900 - mean_squared_error: 3.3900\n",
      "Epoch 31/100\n",
      "3000/3000 [==============================] - 0s 23us/step - loss: 3.3825 - mean_squared_error: 3.3825\n",
      "Epoch 32/100\n",
      "3000/3000 [==============================] - 0s 24us/step - loss: 3.3829 - mean_squared_error: 3.3829\n",
      "Epoch 33/100\n",
      "3000/3000 [==============================] - 0s 24us/step - loss: 3.3898 - mean_squared_error: 3.3898\n",
      "Epoch 34/100\n",
      "3000/3000 [==============================] - 0s 23us/step - loss: 3.3790 - mean_squared_error: 3.3790\n",
      "Epoch 35/100\n",
      "3000/3000 [==============================] - 0s 21us/step - loss: 3.3799 - mean_squared_error: 3.3799\n",
      "Epoch 36/100\n",
      "3000/3000 [==============================] - 0s 26us/step - loss: 3.3738 - mean_squared_error: 3.3738\n",
      "Epoch 37/100\n",
      "3000/3000 [==============================] - 0s 24us/step - loss: 3.3650 - mean_squared_error: 3.3650\n",
      "Epoch 38/100\n",
      "3000/3000 [==============================] - 0s 22us/step - loss: 3.3809 - mean_squared_error: 3.3809\n",
      "Epoch 39/100\n",
      "3000/3000 [==============================] - 0s 21us/step - loss: 3.3789 - mean_squared_error: 3.3789\n",
      "Epoch 40/100\n",
      "3000/3000 [==============================] - 0s 24us/step - loss: 3.3670 - mean_squared_error: 3.3670\n",
      "Epoch 41/100\n",
      "3000/3000 [==============================] - 0s 23us/step - loss: 3.3830 - mean_squared_error: 3.3830\n",
      "Epoch 42/100\n",
      "3000/3000 [==============================] - 0s 22us/step - loss: 3.3700 - mean_squared_error: 3.3700\n",
      "Epoch 43/100\n",
      "3000/3000 [==============================] - 0s 23us/step - loss: 3.3695 - mean_squared_error: 3.3695\n",
      "Epoch 44/100\n",
      "3000/3000 [==============================] - 0s 21us/step - loss: 3.3873 - mean_squared_error: 3.3873\n",
      "Epoch 45/100\n",
      "3000/3000 [==============================] - 0s 23us/step - loss: 3.3869 - mean_squared_error: 3.3869\n",
      "Epoch 46/100\n",
      "3000/3000 [==============================] - 0s 21us/step - loss: 3.3716 - mean_squared_error: 3.3716\n",
      "Epoch 47/100\n",
      "3000/3000 [==============================] - 0s 24us/step - loss: 3.3622 - mean_squared_error: 3.3622\n",
      "Epoch 48/100\n",
      "3000/3000 [==============================] - 0s 21us/step - loss: 3.3730 - mean_squared_error: 3.3730\n",
      "Epoch 49/100\n",
      "3000/3000 [==============================] - 0s 24us/step - loss: 3.3717 - mean_squared_error: 3.3717\n",
      "Epoch 50/100\n",
      "3000/3000 [==============================] - 0s 22us/step - loss: 3.3726 - mean_squared_error: 3.3726\n",
      "Epoch 51/100\n",
      "3000/3000 [==============================] - 0s 29us/step - loss: 3.3740 - mean_squared_error: 3.3740\n",
      "Epoch 52/100\n",
      "3000/3000 [==============================] - 0s 21us/step - loss: 3.3768 - mean_squared_error: 3.3768\n",
      "Epoch 53/100\n",
      "3000/3000 [==============================] - 0s 23us/step - loss: 3.3723 - mean_squared_error: 3.3723\n",
      "Epoch 54/100\n",
      "3000/3000 [==============================] - 0s 23us/step - loss: 3.3914 - mean_squared_error: 3.3914\n",
      "Epoch 55/100\n",
      "3000/3000 [==============================] - 0s 21us/step - loss: 3.3682 - mean_squared_error: 3.3682\n",
      "Epoch 56/100\n",
      "3000/3000 [==============================] - 0s 22us/step - loss: 3.3634 - mean_squared_error: 3.3634\n",
      "Epoch 57/100\n",
      "3000/3000 [==============================] - 0s 22us/step - loss: 3.3621 - mean_squared_error: 3.3621\n",
      "Epoch 58/100\n",
      "3000/3000 [==============================] - 0s 22us/step - loss: 3.3578 - mean_squared_error: 3.3578\n",
      "Epoch 59/100\n",
      "3000/3000 [==============================] - 0s 22us/step - loss: 3.3539 - mean_squared_error: 3.3539\n",
      "Epoch 60/100\n",
      "3000/3000 [==============================] - 0s 24us/step - loss: 3.3698 - mean_squared_error: 3.3698\n",
      "Epoch 61/100\n",
      "3000/3000 [==============================] - 0s 21us/step - loss: 3.3624 - mean_squared_error: 3.3624\n",
      "Epoch 62/100\n",
      "3000/3000 [==============================] - 0s 21us/step - loss: 3.3562 - mean_squared_error: 3.3562\n",
      "Epoch 63/100\n",
      "3000/3000 [==============================] - 0s 24us/step - loss: 3.3553 - mean_squared_error: 3.3553\n",
      "Epoch 64/100\n",
      "3000/3000 [==============================] - 0s 22us/step - loss: 3.3580 - mean_squared_error: 3.3580\n",
      "Epoch 65/100\n",
      "3000/3000 [==============================] - 0s 22us/step - loss: 3.3615 - mean_squared_error: 3.3615\n",
      "Epoch 66/100\n",
      "3000/3000 [==============================] - 0s 27us/step - loss: 3.3690 - mean_squared_error: 3.3690\n",
      "Epoch 67/100\n",
      "3000/3000 [==============================] - 0s 21us/step - loss: 3.3542 - mean_squared_error: 3.3542\n",
      "Epoch 68/100\n",
      "3000/3000 [==============================] - 0s 24us/step - loss: 3.3661 - mean_squared_error: 3.3661\n",
      "Epoch 69/100\n",
      "3000/3000 [==============================] - 0s 24us/step - loss: 3.3623 - mean_squared_error: 3.3623\n",
      "Epoch 70/100\n",
      "3000/3000 [==============================] - 0s 21us/step - loss: 3.3597 - mean_squared_error: 3.3597\n",
      "Epoch 71/100\n",
      "3000/3000 [==============================] - 0s 23us/step - loss: 3.3586 - mean_squared_error: 3.3586\n",
      "Epoch 72/100\n",
      "3000/3000 [==============================] - 0s 24us/step - loss: 3.3561 - mean_squared_error: 3.3561\n",
      "Epoch 73/100\n",
      "3000/3000 [==============================] - 0s 21us/step - loss: 3.3550 - mean_squared_error: 3.3550\n",
      "Epoch 74/100\n",
      "3000/3000 [==============================] - 0s 22us/step - loss: 3.3507 - mean_squared_error: 3.3507\n",
      "Epoch 75/100\n",
      "3000/3000 [==============================] - 0s 23us/step - loss: 3.3635 - mean_squared_error: 3.3635\n",
      "Epoch 76/100\n",
      "3000/3000 [==============================] - 0s 20us/step - loss: 3.3610 - mean_squared_error: 3.3610\n",
      "Epoch 77/100\n",
      "3000/3000 [==============================] - 0s 24us/step - loss: 3.3644 - mean_squared_error: 3.3644\n",
      "Epoch 78/100\n",
      "3000/3000 [==============================] - 0s 24us/step - loss: 3.3781 - mean_squared_error: 3.3781\n",
      "Epoch 79/100\n",
      "3000/3000 [==============================] - 0s 21us/step - loss: 3.3588 - mean_squared_error: 3.3588\n",
      "Epoch 80/100\n",
      "3000/3000 [==============================] - 0s 21us/step - loss: 3.3645 - mean_squared_error: 3.3645\n",
      "Epoch 81/100\n",
      "3000/3000 [==============================] - 0s 28us/step - loss: 3.3424 - mean_squared_error: 3.3424\n",
      "Epoch 82/100\n",
      "3000/3000 [==============================] - 0s 20us/step - loss: 3.3648 - mean_squared_error: 3.3648\n",
      "Epoch 83/100\n",
      "3000/3000 [==============================] - 0s 23us/step - loss: 3.3570 - mean_squared_error: 3.3570\n",
      "Epoch 84/100\n",
      "3000/3000 [==============================] - 0s 23us/step - loss: 3.3665 - mean_squared_error: 3.3665\n",
      "Epoch 85/100\n",
      "3000/3000 [==============================] - 0s 24us/step - loss: 3.3595 - mean_squared_error: 3.3595\n",
      "Epoch 86/100\n",
      "3000/3000 [==============================] - 0s 21us/step - loss: 3.3627 - mean_squared_error: 3.3627\n",
      "Epoch 87/100\n",
      "3000/3000 [==============================] - 0s 21us/step - loss: 3.3592 - mean_squared_error: 3.3592\n",
      "Epoch 88/100\n",
      "3000/3000 [==============================] - 0s 22us/step - loss: 3.3631 - mean_squared_error: 3.3631\n",
      "Epoch 89/100\n",
      "3000/3000 [==============================] - 0s 24us/step - loss: 3.3486 - mean_squared_error: 3.3486\n",
      "Epoch 90/100\n",
      "3000/3000 [==============================] - 0s 24us/step - loss: 3.3631 - mean_squared_error: 3.3631\n",
      "Epoch 91/100\n",
      "3000/3000 [==============================] - 0s 25us/step - loss: 3.3469 - mean_squared_error: 3.3469\n",
      "Epoch 92/100\n",
      "3000/3000 [==============================] - 0s 21us/step - loss: 3.3543 - mean_squared_error: 3.3543\n",
      "Epoch 93/100\n",
      "3000/3000 [==============================] - 0s 21us/step - loss: 3.3684 - mean_squared_error: 3.3684\n",
      "Epoch 94/100\n",
      "3000/3000 [==============================] - 0s 21us/step - loss: 3.3630 - mean_squared_error: 3.3630\n",
      "Epoch 95/100\n",
      "3000/3000 [==============================] - 0s 26us/step - loss: 3.3567 - mean_squared_error: 3.3567\n",
      "Epoch 96/100\n",
      "3000/3000 [==============================] - 0s 22us/step - loss: 3.3394 - mean_squared_error: 3.3394\n",
      "Epoch 97/100\n",
      "3000/3000 [==============================] - 0s 23us/step - loss: 3.3508 - mean_squared_error: 3.3508\n",
      "Epoch 98/100\n",
      "3000/3000 [==============================] - 0s 23us/step - loss: 3.3449 - mean_squared_error: 3.3449\n",
      "Epoch 99/100\n",
      "3000/3000 [==============================] - 0s 21us/step - loss: 3.3644 - mean_squared_error: 3.3644\n",
      "Epoch 100/100\n",
      "3000/3000 [==============================] - 0s 21us/step - loss: 3.3562 - mean_squared_error: 3.3562\n"
     ]
    }
   ],
   "source": [
    "model_ke = model\n",
    "\n",
    "results = np.zeros((3000, 1))\n",
    "scores = np.zeros(10)\n",
    "\n",
    "for i, (tr_idx, val_idx) in enumerate(cv.split(X)):\n",
    "    X_tr, y_tr = X.iloc[tr_idx, :], y[tr_idx]\n",
    "    X_val, y_val = X.iloc[val_idx, :], y[val_idx]\n",
    "\n",
    "    model_ke.fit(X_tr, y_tr, \n",
    "                validation_data = (X_val, y_val),\n",
    "                batch_size = 300,\n",
    "                nb_epoch = 100,\n",
    "                callbacks = [early_stopper],\n",
    "                verbose= -1)\n",
    "    pred_val = model_ke.predict(X_val)\n",
    "    scores[i] = get_loss(pred_val, y_val)\n",
    "    print(\"========={}-th Fold Score: {}\".format(i, scores[i]))\n",
    "    results[val_idx] = pred_val\n",
    "    \n",
    "meta_tr['ke'] = results\n",
    "print(\"=========Total Score: \", np.mean(scores))\n",
    "\n",
    "model_ke.fit(X, y,\n",
    "            batch_size = 300,\n",
    "            nb_epoch = 100)\n",
    "meta_te['ke'] = model_ke.predict(te)"
   ]
  },
  {
   "cell_type": "markdown",
   "metadata": {
    "colab_type": "text",
    "id": "Su-PJE39Yi2S"
   },
   "source": [
    "### Evaluation"
   ]
  },
  {
   "cell_type": "code",
   "execution_count": 0,
   "metadata": {
    "colab": {},
    "colab_type": "code",
    "id": "av18DdS726B5"
   },
   "outputs": [],
   "source": []
  },
  {
   "cell_type": "code",
   "execution_count": 33,
   "metadata": {
    "colab": {
     "base_uri": "https://localhost:8080/",
     "height": 194
    },
    "colab_type": "code",
    "id": "hmN1IaLVuDbD",
    "outputId": "fdaa2c26-7f3f-4f95-bc24-288ffb9c9266"
   },
   "outputs": [
    {
     "data": {
      "text/html": [
       "<div>\n",
       "<style scoped>\n",
       "    .dataframe tbody tr th:only-of-type {\n",
       "        vertical-align: middle;\n",
       "    }\n",
       "\n",
       "    .dataframe tbody tr th {\n",
       "        vertical-align: top;\n",
       "    }\n",
       "\n",
       "    .dataframe thead th {\n",
       "        text-align: right;\n",
       "    }\n",
       "</style>\n",
       "<table border=\"1\" class=\"dataframe\">\n",
       "  <thead>\n",
       "    <tr style=\"text-align: right;\">\n",
       "      <th></th>\n",
       "      <th>el</th>\n",
       "      <th>rf</th>\n",
       "      <th>knn</th>\n",
       "      <th>xg</th>\n",
       "      <th>cb</th>\n",
       "      <th>lg</th>\n",
       "      <th>val</th>\n",
       "      <th>rf_2</th>\n",
       "      <th>cb_2</th>\n",
       "      <th>lg_2</th>\n",
       "      <th>ke</th>\n",
       "      <th>org_y</th>\n",
       "      <th>pred0</th>\n",
       "      <th>new_y</th>\n",
       "      <th>svm</th>\n",
       "    </tr>\n",
       "  </thead>\n",
       "  <tbody>\n",
       "    <tr>\n",
       "      <th>0</th>\n",
       "      <td>0.060340</td>\n",
       "      <td>0.005747</td>\n",
       "      <td>0.133059</td>\n",
       "      <td>17.012468</td>\n",
       "      <td>16.757338</td>\n",
       "      <td>0.015649</td>\n",
       "      <td>-0.904485</td>\n",
       "      <td>16.787390</td>\n",
       "      <td>17.230785</td>\n",
       "      <td>0.023025</td>\n",
       "      <td>0.390742</td>\n",
       "      <td>16.326300</td>\n",
       "      <td>17.230785</td>\n",
       "      <td>-0.904485</td>\n",
       "      <td>0.143948</td>\n",
       "    </tr>\n",
       "    <tr>\n",
       "      <th>1</th>\n",
       "      <td>0.042030</td>\n",
       "      <td>0.051142</td>\n",
       "      <td>0.054467</td>\n",
       "      <td>19.085943</td>\n",
       "      <td>19.176887</td>\n",
       "      <td>0.076891</td>\n",
       "      <td>-0.872636</td>\n",
       "      <td>18.639448</td>\n",
       "      <td>19.243595</td>\n",
       "      <td>0.045713</td>\n",
       "      <td>-0.941722</td>\n",
       "      <td>18.370959</td>\n",
       "      <td>19.243595</td>\n",
       "      <td>-0.872636</td>\n",
       "      <td>0.165563</td>\n",
       "    </tr>\n",
       "    <tr>\n",
       "      <th>2</th>\n",
       "      <td>0.088680</td>\n",
       "      <td>0.008838</td>\n",
       "      <td>-0.445343</td>\n",
       "      <td>16.732389</td>\n",
       "      <td>17.115535</td>\n",
       "      <td>0.019060</td>\n",
       "      <td>-0.904797</td>\n",
       "      <td>17.096225</td>\n",
       "      <td>17.292309</td>\n",
       "      <td>0.019307</td>\n",
       "      <td>0.161948</td>\n",
       "      <td>16.387512</td>\n",
       "      <td>17.292309</td>\n",
       "      <td>-0.904797</td>\n",
       "      <td>0.150668</td>\n",
       "    </tr>\n",
       "    <tr>\n",
       "      <th>3</th>\n",
       "      <td>0.014115</td>\n",
       "      <td>0.015608</td>\n",
       "      <td>0.205891</td>\n",
       "      <td>14.308630</td>\n",
       "      <td>13.775347</td>\n",
       "      <td>0.011200</td>\n",
       "      <td>2.789799</td>\n",
       "      <td>13.684058</td>\n",
       "      <td>13.798300</td>\n",
       "      <td>0.020948</td>\n",
       "      <td>-0.098294</td>\n",
       "      <td>16.588099</td>\n",
       "      <td>13.798300</td>\n",
       "      <td>2.789799</td>\n",
       "      <td>0.148678</td>\n",
       "    </tr>\n",
       "    <tr>\n",
       "      <th>4</th>\n",
       "      <td>-0.054424</td>\n",
       "      <td>-1.127083</td>\n",
       "      <td>1.644509</td>\n",
       "      <td>10.123706</td>\n",
       "      <td>11.716270</td>\n",
       "      <td>0.190251</td>\n",
       "      <td>3.151996</td>\n",
       "      <td>11.527245</td>\n",
       "      <td>12.030619</td>\n",
       "      <td>0.048327</td>\n",
       "      <td>-0.989486</td>\n",
       "      <td>15.182615</td>\n",
       "      <td>12.030619</td>\n",
       "      <td>3.151996</td>\n",
       "      <td>0.553926</td>\n",
       "    </tr>\n",
       "  </tbody>\n",
       "</table>\n",
       "</div>"
      ],
      "text/plain": [
       "         el        rf       knn  ...      pred0     new_y       svm\n",
       "0  0.060340  0.005747  0.133059  ...  17.230785 -0.904485  0.143948\n",
       "1  0.042030  0.051142  0.054467  ...  19.243595 -0.872636  0.165563\n",
       "2  0.088680  0.008838 -0.445343  ...  17.292309 -0.904797  0.150668\n",
       "3  0.014115  0.015608  0.205891  ...  13.798300  2.789799  0.148678\n",
       "4 -0.054424 -1.127083  1.644509  ...  12.030619  3.151996  0.553926\n",
       "\n",
       "[5 rows x 15 columns]"
      ]
     },
     "execution_count": 33,
     "metadata": {
      "tags": []
     },
     "output_type": "execute_result"
    }
   ],
   "source": [
    "meta_tr.head()\n",
    "#meta_tr.drop('rf_2', axis = 1, inplace = True)\n",
    "#meta_te.drop('rf_2', axis = 1, inplace = True)"
   ]
  },
  {
   "cell_type": "code",
   "execution_count": 0,
   "metadata": {
    "colab": {},
    "colab_type": "code",
    "id": "0Kvb84jn4S7A"
   },
   "outputs": [],
   "source": [
    "cols = ['el', 'knn', 'svm', 'rf', 'lg', 'lg_2', 'ke']\n",
    "\n",
    "for col in cols:\n",
    "  meta_tr[col] += meta_tr.pred0\n",
    "  meta_te[col] += meta_te.pred0"
   ]
  },
  {
   "cell_type": "code",
   "execution_count": 0,
   "metadata": {
    "colab": {},
    "colab_type": "code",
    "id": "QrWJBQZ-t2wf"
   },
   "outputs": [],
   "source": []
  },
  {
   "cell_type": "code",
   "execution_count": 0,
   "metadata": {
    "colab": {},
    "colab_type": "code",
    "id": "Y5Cy83qiSVlB"
   },
   "outputs": [],
   "source": [
    "meta_tr.drop(['val', 'pred0', 'new_y'], axis = 1, inplace = True)"
   ]
  },
  {
   "cell_type": "code",
   "execution_count": 36,
   "metadata": {
    "colab": {
     "base_uri": "https://localhost:8080/",
     "height": 340
    },
    "colab_type": "code",
    "id": "3ot43yuacXyK",
    "outputId": "2948699a-eedc-438c-e363-0e3fdec1d7e7"
   },
   "outputs": [
    {
     "data": {
      "text/html": [
       "<div>\n",
       "<style scoped>\n",
       "    .dataframe tbody tr th:only-of-type {\n",
       "        vertical-align: middle;\n",
       "    }\n",
       "\n",
       "    .dataframe tbody tr th {\n",
       "        vertical-align: top;\n",
       "    }\n",
       "\n",
       "    .dataframe thead th {\n",
       "        text-align: right;\n",
       "    }\n",
       "</style>\n",
       "<table border=\"1\" class=\"dataframe\">\n",
       "  <thead>\n",
       "    <tr style=\"text-align: right;\">\n",
       "      <th></th>\n",
       "      <th>el</th>\n",
       "      <th>rf</th>\n",
       "      <th>knn</th>\n",
       "      <th>xg</th>\n",
       "      <th>cb</th>\n",
       "      <th>lg</th>\n",
       "      <th>rf_2</th>\n",
       "      <th>cb_2</th>\n",
       "      <th>lg_2</th>\n",
       "      <th>ke</th>\n",
       "      <th>org_y</th>\n",
       "      <th>svm</th>\n",
       "    </tr>\n",
       "  </thead>\n",
       "  <tbody>\n",
       "    <tr>\n",
       "      <th>2874</th>\n",
       "      <td>11.598009</td>\n",
       "      <td>11.798040</td>\n",
       "      <td>12.156514</td>\n",
       "      <td>11.204241</td>\n",
       "      <td>12.093973</td>\n",
       "      <td>11.773994</td>\n",
       "      <td>11.959853</td>\n",
       "      <td>11.660771</td>\n",
       "      <td>11.707515</td>\n",
       "      <td>10.675620</td>\n",
       "      <td>3.258097</td>\n",
       "      <td>12.209339</td>\n",
       "    </tr>\n",
       "    <tr>\n",
       "      <th>224</th>\n",
       "      <td>12.482754</td>\n",
       "      <td>12.987663</td>\n",
       "      <td>11.879097</td>\n",
       "      <td>11.257711</td>\n",
       "      <td>11.547009</td>\n",
       "      <td>12.497211</td>\n",
       "      <td>11.164385</td>\n",
       "      <td>12.489450</td>\n",
       "      <td>12.531499</td>\n",
       "      <td>10.990311</td>\n",
       "      <td>6.216606</td>\n",
       "      <td>12.373513</td>\n",
       "    </tr>\n",
       "    <tr>\n",
       "      <th>1874</th>\n",
       "      <td>12.693898</td>\n",
       "      <td>13.567934</td>\n",
       "      <td>11.461491</td>\n",
       "      <td>11.446000</td>\n",
       "      <td>12.067557</td>\n",
       "      <td>12.719863</td>\n",
       "      <td>11.219502</td>\n",
       "      <td>12.728927</td>\n",
       "      <td>12.754490</td>\n",
       "      <td>12.573801</td>\n",
       "      <td>0.693147</td>\n",
       "      <td>12.815862</td>\n",
       "    </tr>\n",
       "    <tr>\n",
       "      <th>152</th>\n",
       "      <td>15.104232</td>\n",
       "      <td>15.194304</td>\n",
       "      <td>15.102317</td>\n",
       "      <td>14.759582</td>\n",
       "      <td>15.475572</td>\n",
       "      <td>15.187539</td>\n",
       "      <td>15.190328</td>\n",
       "      <td>15.146674</td>\n",
       "      <td>15.187284</td>\n",
       "      <td>15.483403</td>\n",
       "      <td>5.488938</td>\n",
       "      <td>14.812240</td>\n",
       "    </tr>\n",
       "    <tr>\n",
       "      <th>2781</th>\n",
       "      <td>10.564875</td>\n",
       "      <td>10.706419</td>\n",
       "      <td>11.375909</td>\n",
       "      <td>10.924416</td>\n",
       "      <td>10.863053</td>\n",
       "      <td>10.599948</td>\n",
       "      <td>11.585563</td>\n",
       "      <td>10.513901</td>\n",
       "      <td>10.574006</td>\n",
       "      <td>10.206041</td>\n",
       "      <td>9.523325</td>\n",
       "      <td>10.685411</td>\n",
       "    </tr>\n",
       "    <tr>\n",
       "      <th>707</th>\n",
       "      <td>12.709793</td>\n",
       "      <td>12.716706</td>\n",
       "      <td>13.664827</td>\n",
       "      <td>13.075729</td>\n",
       "      <td>13.194735</td>\n",
       "      <td>12.700530</td>\n",
       "      <td>13.082194</td>\n",
       "      <td>12.702604</td>\n",
       "      <td>12.729597</td>\n",
       "      <td>12.764142</td>\n",
       "      <td>9.530248</td>\n",
       "      <td>13.752031</td>\n",
       "    </tr>\n",
       "    <tr>\n",
       "      <th>313</th>\n",
       "      <td>13.185373</td>\n",
       "      <td>13.056784</td>\n",
       "      <td>9.334350</td>\n",
       "      <td>12.490219</td>\n",
       "      <td>12.278696</td>\n",
       "      <td>13.154233</td>\n",
       "      <td>12.419113</td>\n",
       "      <td>13.134163</td>\n",
       "      <td>13.167474</td>\n",
       "      <td>13.104481</td>\n",
       "      <td>8.747987</td>\n",
       "      <td>12.953706</td>\n",
       "    </tr>\n",
       "    <tr>\n",
       "      <th>33</th>\n",
       "      <td>14.473810</td>\n",
       "      <td>14.585860</td>\n",
       "      <td>13.452113</td>\n",
       "      <td>11.806799</td>\n",
       "      <td>13.279427</td>\n",
       "      <td>14.538116</td>\n",
       "      <td>12.571129</td>\n",
       "      <td>14.552678</td>\n",
       "      <td>14.568470</td>\n",
       "      <td>14.326477</td>\n",
       "      <td>8.877940</td>\n",
       "      <td>13.898223</td>\n",
       "    </tr>\n",
       "    <tr>\n",
       "      <th>1198</th>\n",
       "      <td>11.075908</td>\n",
       "      <td>11.075880</td>\n",
       "      <td>12.052831</td>\n",
       "      <td>15.735467</td>\n",
       "      <td>11.575998</td>\n",
       "      <td>11.109230</td>\n",
       "      <td>16.186096</td>\n",
       "      <td>11.079140</td>\n",
       "      <td>11.109488</td>\n",
       "      <td>10.975508</td>\n",
       "      <td>4.454347</td>\n",
       "      <td>11.227873</td>\n",
       "    </tr>\n",
       "    <tr>\n",
       "      <th>2577</th>\n",
       "      <td>10.239975</td>\n",
       "      <td>9.985281</td>\n",
       "      <td>11.775064</td>\n",
       "      <td>8.159721</td>\n",
       "      <td>9.232013</td>\n",
       "      <td>10.215492</td>\n",
       "      <td>8.407602</td>\n",
       "      <td>10.153971</td>\n",
       "      <td>10.194203</td>\n",
       "      <td>10.540496</td>\n",
       "      <td>4.584967</td>\n",
       "      <td>10.319534</td>\n",
       "    </tr>\n",
       "  </tbody>\n",
       "</table>\n",
       "</div>"
      ],
      "text/plain": [
       "             el         rf        knn  ...         ke     org_y        svm\n",
       "2874  11.598009  11.798040  12.156514  ...  10.675620  3.258097  12.209339\n",
       "224   12.482754  12.987663  11.879097  ...  10.990311  6.216606  12.373513\n",
       "1874  12.693898  13.567934  11.461491  ...  12.573801  0.693147  12.815862\n",
       "152   15.104232  15.194304  15.102317  ...  15.483403  5.488938  14.812240\n",
       "2781  10.564875  10.706419  11.375909  ...  10.206041  9.523325  10.685411\n",
       "707   12.709793  12.716706  13.664827  ...  12.764142  9.530248  13.752031\n",
       "313   13.185373  13.056784   9.334350  ...  13.104481  8.747987  12.953706\n",
       "33    14.473810  14.585860  13.452113  ...  14.326477  8.877940  13.898223\n",
       "1198  11.075908  11.075880  12.052831  ...  10.975508  4.454347  11.227873\n",
       "2577  10.239975   9.985281  11.775064  ...  10.540496  4.584967  10.319534\n",
       "\n",
       "[10 rows x 12 columns]"
      ]
     },
     "execution_count": 36,
     "metadata": {
      "tags": []
     },
     "output_type": "execute_result"
    }
   ],
   "source": [
    "meta_tr[meta_tr.org_y < 10].sample(10)"
   ]
  },
  {
   "cell_type": "code",
   "execution_count": 37,
   "metadata": {
    "colab": {
     "base_uri": "https://localhost:8080/",
     "height": 35
    },
    "colab_type": "code",
    "id": "X6oTxglyvo9j",
    "outputId": "e45617aa-3a65-4737-994e-de9d31907793"
   },
   "outputs": [
    {
     "data": {
      "text/plain": [
       "'org_y'"
      ]
     },
     "execution_count": 37,
     "metadata": {
      "tags": []
     },
     "output_type": "execute_result"
    }
   ],
   "source": [
    "cols = list(meta_tr.columns)\n",
    "cols.pop(-2)"
   ]
  },
  {
   "cell_type": "code",
   "execution_count": 39,
   "metadata": {
    "colab": {
     "base_uri": "https://localhost:8080/",
     "height": 610
    },
    "colab_type": "code",
    "id": "q4atMKZ18FvG",
    "outputId": "b0813902-0db0-4394-8675-5837950186ed"
   },
   "outputs": [
    {
     "data": {
      "image/png": "[encoded data removed]",
      "text/plain": [
       "<Figure size 1440x720 with 12 Axes>"
      ]
     },
     "metadata": {
      "tags": []
     },
     "output_type": "display_data"
    }
   ],
   "source": [
    "fig, axes = plt.subplots(3, 4, figsize = (20, 10))\n",
    "\n",
    "for i, col in enumerate(cols):\n",
    "  sns.regplot(x = col, y = 'org_y', data = meta_tr, ax = axes[i//4, i % 4])"
   ]
  },
  {
   "cell_type": "code",
   "execution_count": 0,
   "metadata": {
    "colab": {},
    "colab_type": "code",
    "id": "V8eGH5gtJk-O"
   },
   "outputs": [],
   "source": [
    "# Save the files \n",
    "#meta_tr.to_csv('meta_tr_2.csv', index = False)\n",
    "#meta_te.to_csv('meta_te_2.csv', index = False)"
   ]
  },
  {
   "cell_type": "code",
   "execution_count": 173,
   "metadata": {
    "colab": {
     "base_uri": "https://localhost:8080/",
     "height": 194
    },
    "colab_type": "code",
    "id": "-FYHDTwRwrbJ",
    "outputId": "2d53b01d-2a88-484b-a591-fadeb5aaa5f4"
   },
   "outputs": [
    {
     "data": {
      "text/html": [
       "<div>\n",
       "<style scoped>\n",
       "    .dataframe tbody tr th:only-of-type {\n",
       "        vertical-align: middle;\n",
       "    }\n",
       "\n",
       "    .dataframe tbody tr th {\n",
       "        vertical-align: top;\n",
       "    }\n",
       "\n",
       "    .dataframe thead th {\n",
       "        text-align: right;\n",
       "    }\n",
       "</style>\n",
       "<table border=\"1\" class=\"dataframe\">\n",
       "  <thead>\n",
       "    <tr style=\"text-align: right;\">\n",
       "      <th></th>\n",
       "      <th>el</th>\n",
       "      <th>rf</th>\n",
       "      <th>knn</th>\n",
       "      <th>xg</th>\n",
       "      <th>cb</th>\n",
       "      <th>lg</th>\n",
       "      <th>rf_2</th>\n",
       "      <th>cb_2</th>\n",
       "      <th>lg_2</th>\n",
       "      <th>ke</th>\n",
       "      <th>pred0</th>\n",
       "      <th>svm</th>\n",
       "    </tr>\n",
       "  </thead>\n",
       "  <tbody>\n",
       "    <tr>\n",
       "      <th>0</th>\n",
       "      <td>15.826039</td>\n",
       "      <td>15.927878</td>\n",
       "      <td>22.470970</td>\n",
       "      <td>16.487000</td>\n",
       "      <td>15.528364</td>\n",
       "      <td>15.819544</td>\n",
       "      <td>14.745739</td>\n",
       "      <td>15.839397</td>\n",
       "      <td>15.861738</td>\n",
       "      <td>15.999568</td>\n",
       "      <td>15.839397</td>\n",
       "      <td>17.516052</td>\n",
       "    </tr>\n",
       "    <tr>\n",
       "      <th>1</th>\n",
       "      <td>13.203368</td>\n",
       "      <td>12.973130</td>\n",
       "      <td>13.483617</td>\n",
       "      <td>13.481292</td>\n",
       "      <td>14.179688</td>\n",
       "      <td>12.932788</td>\n",
       "      <td>13.748202</td>\n",
       "      <td>12.996774</td>\n",
       "      <td>13.016217</td>\n",
       "      <td>13.351679</td>\n",
       "      <td>12.996774</td>\n",
       "      <td>13.152432</td>\n",
       "    </tr>\n",
       "    <tr>\n",
       "      <th>2</th>\n",
       "      <td>16.073559</td>\n",
       "      <td>16.084702</td>\n",
       "      <td>17.267429</td>\n",
       "      <td>16.183146</td>\n",
       "      <td>15.570000</td>\n",
       "      <td>16.084248</td>\n",
       "      <td>15.907350</td>\n",
       "      <td>16.048818</td>\n",
       "      <td>16.069790</td>\n",
       "      <td>16.174849</td>\n",
       "      <td>16.048818</td>\n",
       "      <td>16.875621</td>\n",
       "    </tr>\n",
       "    <tr>\n",
       "      <th>3</th>\n",
       "      <td>15.990255</td>\n",
       "      <td>15.995742</td>\n",
       "      <td>15.931122</td>\n",
       "      <td>16.051851</td>\n",
       "      <td>16.293909</td>\n",
       "      <td>15.987957</td>\n",
       "      <td>15.697832</td>\n",
       "      <td>15.969868</td>\n",
       "      <td>15.990840</td>\n",
       "      <td>16.126808</td>\n",
       "      <td>15.969868</td>\n",
       "      <td>16.125525</td>\n",
       "    </tr>\n",
       "    <tr>\n",
       "      <th>4</th>\n",
       "      <td>13.576774</td>\n",
       "      <td>13.588546</td>\n",
       "      <td>13.931299</td>\n",
       "      <td>13.645041</td>\n",
       "      <td>13.629000</td>\n",
       "      <td>13.619250</td>\n",
       "      <td>13.410052</td>\n",
       "      <td>13.558164</td>\n",
       "      <td>13.579427</td>\n",
       "      <td>13.723704</td>\n",
       "      <td>13.558164</td>\n",
       "      <td>13.713821</td>\n",
       "    </tr>\n",
       "  </tbody>\n",
       "</table>\n",
       "</div>"
      ],
      "text/plain": [
       "          el         rf        knn  ...         ke      pred0        svm\n",
       "0  15.826039  15.927878  22.470970  ...  15.999568  15.839397  17.516052\n",
       "1  13.203368  12.973130  13.483617  ...  13.351679  12.996774  13.152432\n",
       "2  16.073559  16.084702  17.267429  ...  16.174849  16.048818  16.875621\n",
       "3  15.990255  15.995742  15.931122  ...  16.126808  15.969868  16.125525\n",
       "4  13.576774  13.588546  13.931299  ...  13.723704  13.558164  13.713821\n",
       "\n",
       "[5 rows x 12 columns]"
      ]
     },
     "execution_count": 173,
     "metadata": {
      "tags": []
     },
     "output_type": "execute_result"
    }
   ],
   "source": [
    "meta_te.head()"
   ]
  },
  {
   "cell_type": "code",
   "execution_count": 177,
   "metadata": {
    "colab": {
     "base_uri": "https://localhost:8080/",
     "height": 35
    },
    "colab_type": "code",
    "id": "qvDoHhOA_wBF",
    "outputId": "fa0d0c45-d516-4b57-948c-00ad30cf5779"
   },
   "outputs": [
    {
     "data": {
      "text/plain": [
       "1.8788154050514478"
      ]
     },
     "execution_count": 177,
     "metadata": {
      "tags": []
     },
     "output_type": "execute_result"
    }
   ],
   "source": [
    "cols = ['lg_2', 'el', 'knn']\n",
    "\n",
    "sub = meta_tr[cols]\n",
    "sub = np.array(sub)\n",
    "\n",
    "pred = np.mean(sub, axis= 1)\n",
    "#pred.shape\n",
    "get_loss(pred, meta_tr.org_y)"
   ]
  },
  {
   "cell_type": "code",
   "execution_count": 0,
   "metadata": {
    "colab": {},
    "colab_type": "code",
    "id": "SEhSW_2p_v8Y"
   },
   "outputs": [],
   "source": [
    "sub = meta_te[cols]\n",
    "sub = np.array(sub)\n",
    "\n",
    "final = np.mean(sub, axis= 1)"
   ]
  },
  {
   "cell_type": "code",
   "execution_count": 0,
   "metadata": {
    "colab": {},
    "colab_type": "code",
    "id": "6fuFVjBc_vzc"
   },
   "outputs": [],
   "source": [
    "final = (meta_te.lg_2 + meta_te.el + meta_te.knn)/3"
   ]
  },
  {
   "cell_type": "markdown",
   "metadata": {
    "colab_type": "text",
    "id": "SuwUlKNQclw2"
   },
   "source": [
    "## 2nd Layer Modeling"
   ]
  },
  {
   "cell_type": "code",
   "execution_count": 0,
   "metadata": {
    "colab": {},
    "colab_type": "code",
    "id": "4H2dODDeFIHh"
   },
   "outputs": [],
   "source": [
    "cols = ['lr', 'el', 'rd', 'knn', 'rf', 'rf2', 'ad']\n",
    "\n",
    "nrow = X.shape[0]\n",
    "ncol = len(cols)\n",
    "dims = np.zeros((nrow, ncol))\n",
    "\n",
    "meta_tr = pd.DataFrame(dims, columns = cols)\n",
    "meta_tr['val'] = 0\n",
    "\n",
    "# Create meta-test set\n",
    "nrow = te.shape[0]\n",
    "dims = np.zeros((nrow, ncol))\n",
    "meta_te = pd.DataFrame(dims, columns = cols)\n",
    "\n",
    "# Cross Validation\n",
    "k = 5\n",
    "seed = 30\n",
    "cv = KFold(n_splits = k, shuffle = True, random_state = seed)"
   ]
  },
  {
   "cell_type": "code",
   "execution_count": 0,
   "metadata": {
    "colab": {},
    "colab_type": "code",
    "id": "IUPqwiP8FIAp"
   },
   "outputs": [],
   "source": [
    "    scores = np.zeros(k)\n",
    "    for i, (tr_idx, val_idx) in enumerate(cv.split(X)):\n",
    "        X_tr, y_tr = X.iloc[tr_idx, :], y[tr_idx]\n",
    "        X_val, y_val = X.iloc[val_idx, :], y[val_idx]\n",
    "\n",
    "        model.fit(X_tr, y_tr)\n",
    "        pred_val = model.predict(X_val)\n",
    "        scores[i] = get_loss(pred_val, y_val)\n",
    "        print(\"========={}-th Fold Score: {}\".format(i, scores[i]))\n",
    "        \n",
    "        meta_tr[col][val_idx] = pred_val\n",
    "        meta_tr['val'][val_idx] = y_val\n",
    "\n",
    "    print(\"=========Total Score: \", np.mean(scores))\n",
    "    model.fit(X, y)\n",
    "    meta_te[col] = model.predict(te)"
   ]
  },
  {
   "cell_type": "markdown",
   "metadata": {
    "colab_type": "text",
    "id": "27sF9ZqaFH6t"
   },
   "source": [
    "### Linear Regression"
   ]
  },
  {
   "cell_type": "code",
   "execution_count": 0,
   "metadata": {
    "colab": {
     "base_uri": "https://localhost:8080/",
     "height": 301
    },
    "colab_type": "code",
    "id": "E1u6NeS8FH1B",
    "outputId": "ce46ea92-0d75-4b8d-c14c-98c214125976"
   },
   "outputs": [
    {
     "name": "stdout",
     "output_type": "stream",
     "text": [
      "=========0-th Fold Score: 1.893159370376598\n",
      "=========1-th Fold Score: 1.8496660179765172\n",
      "=========2-th Fold Score: 1.8956892685722058\n",
      "=========3-th Fold Score: 1.7802761298361787\n",
      "=========4-th Fold Score: 1.643811468200954\n",
      "=========Total Score:  1.8125204509924906\n"
     ]
    },
    {
     "name": "stderr",
     "output_type": "stream",
     "text": [
      "/usr/local/lib/python3.6/dist-packages/ipykernel_launcher.py:12: SettingWithCopyWarning: \n",
      "A value is trying to be set on a copy of a slice from a DataFrame\n",
      "\n",
      "See the caveats in the documentation: http://pandas.pydata.org/pandas-docs/stable/indexing.html#indexing-view-versus-copy\n",
      "  if sys.path[0] == '':\n",
      "/usr/local/lib/python3.6/dist-packages/ipykernel_launcher.py:13: SettingWithCopyWarning: \n",
      "A value is trying to be set on a copy of a slice from a DataFrame\n",
      "\n",
      "See the caveats in the documentation: http://pandas.pydata.org/pandas-docs/stable/indexing.html#indexing-view-versus-copy\n",
      "  del sys.path[0]\n"
     ]
    }
   ],
   "source": [
    "model_lr = LinearRegression(normalize=True)\n",
    "kfold_validate(X, y, te, model_lr, 'lr')     # 1.8395  -> 1.8125"
   ]
  },
  {
   "cell_type": "markdown",
   "metadata": {
    "colab_type": "text",
    "id": "OM6OtXv5FHvt"
   },
   "source": [
    "### Elastic Net"
   ]
  },
  {
   "cell_type": "code",
   "execution_count": 0,
   "metadata": {
    "colab": {
     "base_uri": "https://localhost:8080/",
     "height": 357
    },
    "colab_type": "code",
    "id": "dLJ1NSElFHqR",
    "outputId": "ebfec895-0875-4225-8398-8d5270e1bee9"
   },
   "outputs": [
    {
     "name": "stdout",
     "output_type": "stream",
     "text": [
      "=========0-th Fold Score: 1.917413070244739\n",
      "=========1-th Fold Score: 1.8688636589313894\n",
      "=========2-th Fold Score: 1.7195309206529477\n",
      "=========3-th Fold Score: 1.808851283161847\n",
      "=========4-th Fold Score: 1.6475803798429176\n",
      "=========Total Score:  1.7924478625667681\n"
     ]
    },
    {
     "name": "stderr",
     "output_type": "stream",
     "text": [
      "/usr/local/lib/python3.6/dist-packages/sklearn/linear_model/coordinate_descent.py:475: ConvergenceWarning: Objective did not converge. You might want to increase the number of iterations. Duality gap: 3760.5669318612127, tolerance: 2.1667939388572846\n",
      "  positive)\n",
      "/usr/local/lib/python3.6/dist-packages/sklearn/linear_model/coordinate_descent.py:475: ConvergenceWarning: Objective did not converge. You might want to increase the number of iterations. Duality gap: 3803.621223577476, tolerance: 2.158456468524547\n",
      "  positive)\n",
      "/usr/local/lib/python3.6/dist-packages/sklearn/linear_model/coordinate_descent.py:475: ConvergenceWarning: Objective did not converge. You might want to increase the number of iterations. Duality gap: 3980.892891023189, tolerance: 2.2502944354982315\n",
      "  positive)\n",
      "/usr/local/lib/python3.6/dist-packages/sklearn/linear_model/coordinate_descent.py:475: ConvergenceWarning: Objective did not converge. You might want to increase the number of iterations. Duality gap: 3875.392948023787, tolerance: 2.1888173550024463\n",
      "  positive)\n",
      "/usr/local/lib/python3.6/dist-packages/sklearn/linear_model/coordinate_descent.py:475: ConvergenceWarning: Objective did not converge. You might want to increase the number of iterations. Duality gap: 4038.6777932946043, tolerance: 2.2907138480499496\n",
      "  positive)\n",
      "/usr/local/lib/python3.6/dist-packages/sklearn/linear_model/coordinate_descent.py:475: ConvergenceWarning: Objective did not converge. You might want to increase the number of iterations. Duality gap: 4870.8694302686445, tolerance: 2.7638801457781614\n",
      "  positive)\n"
     ]
    }
   ],
   "source": [
    "model_el = ElasticNet(alpha = .01, l1_ratio = 0, max_iter = 1000)\n",
    "kfold_validate(X_tr, y, te, model_el, 'el')"
   ]
  },
  {
   "cell_type": "markdown",
   "metadata": {
    "colab_type": "text",
    "id": "JLcfVt9sFHly"
   },
   "source": [
    "### Ridge Regression"
   ]
  },
  {
   "cell_type": "code",
   "execution_count": 0,
   "metadata": {
    "colab": {
     "base_uri": "https://localhost:8080/",
     "height": 124
    },
    "colab_type": "code",
    "id": "qQlh46CAFHgw",
    "outputId": "e83a3c3e-05f7-4342-a13c-d92c7a43957c"
   },
   "outputs": [
    {
     "name": "stdout",
     "output_type": "stream",
     "text": [
      "=========0-th Fold Score: 1.909932760858079\n",
      "=========1-th Fold Score: 1.8642653269617167\n",
      "=========2-th Fold Score: 1.7198119655770567\n",
      "=========3-th Fold Score: 1.8016343350294832\n",
      "=========4-th Fold Score: 1.647363542694535\n",
      "=========Total Score:  1.7886015862241742\n"
     ]
    }
   ],
   "source": [
    "model_rd = Ridge(alpha = .001, normalize = True)\n",
    "kfold_validate(X_tr, y, te, model_rd, 'rd') "
   ]
  },
  {
   "cell_type": "markdown",
   "metadata": {
    "colab_type": "text",
    "id": "BpGH42cOFHcx"
   },
   "source": [
    "### KNN"
   ]
  },
  {
   "cell_type": "code",
   "execution_count": 0,
   "metadata": {
    "colab": {
     "base_uri": "https://localhost:8080/",
     "height": 124
    },
    "colab_type": "code",
    "id": "BgzhR2ZiFHYe",
    "outputId": "382e5c90-2834-4f49-e525-936e9532f511"
   },
   "outputs": [
    {
     "name": "stdout",
     "output_type": "stream",
     "text": [
      "=========0-th Fold Score: 2.0355561037024588\n",
      "=========1-th Fold Score: 1.9365899471395904\n",
      "=========2-th Fold Score: 1.746906677372933\n",
      "=========3-th Fold Score: 1.885838829679332\n",
      "=========4-th Fold Score: 1.6577754161940823\n",
      "=========Total Score:  1.8525333948176794\n"
     ]
    }
   ],
   "source": [
    "model_knn = KNeighborsRegressor(n_neighbors = 40, weights = 'distance', p = 2)\n",
    "kfold_validate(X_tr, y, te, model_knn, 'knn')"
   ]
  },
  {
   "cell_type": "markdown",
   "metadata": {
    "colab_type": "text",
    "id": "h-JH9RhfFHUc"
   },
   "source": [
    "### Random Forest"
   ]
  },
  {
   "cell_type": "code",
   "execution_count": 0,
   "metadata": {
    "colab": {
     "base_uri": "https://localhost:8080/",
     "height": 124
    },
    "colab_type": "code",
    "id": "qCIU-a3mFHQC",
    "outputId": "0c80ff3c-b8bf-4913-fb80-f1be441b1bbd"
   },
   "outputs": [
    {
     "name": "stdout",
     "output_type": "stream",
     "text": [
      "=========0-th Fold Score: 1.9996883631615952\n",
      "=========1-th Fold Score: 1.9237714108777915\n",
      "=========2-th Fold Score: 1.7770463935853216\n",
      "=========3-th Fold Score: 1.8943301674916382\n",
      "=========4-th Fold Score: 1.6883724570383318\n",
      "=========Total Score:  1.8566417584309356\n"
     ]
    }
   ],
   "source": [
    "model_rf = RandomForestRegressor(n_estimators = 1000, max_depth = 3)\n",
    "kfold_validate(X_tr, y, te, model_rf, 'rf')"
   ]
  },
  {
   "cell_type": "code",
   "execution_count": 0,
   "metadata": {
    "colab": {
     "base_uri": "https://localhost:8080/",
     "height": 124
    },
    "colab_type": "code",
    "id": "wBD1ATfhFHMC",
    "outputId": "44f59d3f-0659-4566-8c88-73b17f54f494"
   },
   "outputs": [
    {
     "name": "stdout",
     "output_type": "stream",
     "text": [
      "=========0-th Fold Score: 1.9817274223513066\n",
      "=========1-th Fold Score: 1.9150382113481486\n",
      "=========2-th Fold Score: 1.7996156026214456\n",
      "=========3-th Fold Score: 1.8670691485207371\n",
      "=========4-th Fold Score: 1.6802925499920314\n",
      "=========Total Score:  1.848748586966734\n"
     ]
    }
   ],
   "source": [
    "model_rf = RandomForestRegressor(n_estimators = 1000, max_depth = 5)\n",
    "kfold_validate(X_tr, y, te, model_rf, 'rf2') "
   ]
  },
  {
   "cell_type": "markdown",
   "metadata": {
    "colab_type": "text",
    "id": "UixmRYo9FHIB"
   },
   "source": [
    "### Adaboost"
   ]
  },
  {
   "cell_type": "code",
   "execution_count": 0,
   "metadata": {
    "colab": {
     "base_uri": "https://localhost:8080/",
     "height": 124
    },
    "colab_type": "code",
    "id": "KaXhfVkLFHD5",
    "outputId": "c7da9365-fd74-4a69-e880-4beda6dc812f"
   },
   "outputs": [
    {
     "name": "stdout",
     "output_type": "stream",
     "text": [
      "=========0-th Fold Score: 1.9793951157837226\n",
      "=========1-th Fold Score: 1.9137170607894907\n",
      "=========2-th Fold Score: 1.7953522932973796\n",
      "=========3-th Fold Score: 1.8694418461967053\n",
      "=========4-th Fold Score: 1.6821350798167707\n",
      "=========Total Score:  1.8480082791768138\n"
     ]
    }
   ],
   "source": [
    "model_ad = AdaBoostRegressor(n_estimators = 1000, learning_rate = .05,  \n",
    "                             loss = 'square', random_state = seed)\n",
    "kfold_validate(X_tr, y, te, model_rf, 'ad')"
   ]
  },
  {
   "cell_type": "markdown",
   "metadata": {
    "colab_type": "text",
    "id": "EQWYI9wcFG_h"
   },
   "source": [
    "### Xgboost"
   ]
  },
  {
   "cell_type": "code",
   "execution_count": 0,
   "metadata": {
    "colab": {
     "base_uri": "https://localhost:8080/",
     "height": 461
    },
    "colab_type": "code",
    "id": "69_dFEFOFG_a",
    "outputId": "ab46a1b5-c978-4c16-bdf2-b1d0afd7c80f"
   },
   "outputs": [
    {
     "name": "stderr",
     "output_type": "stream",
     "text": [
      "/usr/local/lib/python3.6/dist-packages/xgboost/core.py:587: FutureWarning: Series.base is deprecated and will be removed in a future version\n",
      "  if getattr(data, 'base', None) is not None and \\\n"
     ]
    },
    {
     "name": "stdout",
     "output_type": "stream",
     "text": [
      "=========0-th Fold Score: 2.0588123674058503\n"
     ]
    },
    {
     "name": "stderr",
     "output_type": "stream",
     "text": [
      "/usr/local/lib/python3.6/dist-packages/ipykernel_launcher.py:12: SettingWithCopyWarning: \n",
      "A value is trying to be set on a copy of a slice from a DataFrame\n",
      "\n",
      "See the caveats in the documentation: http://pandas.pydata.org/pandas-docs/stable/indexing.html#indexing-view-versus-copy\n",
      "  if sys.path[0] == '':\n",
      "/usr/local/lib/python3.6/dist-packages/xgboost/core.py:587: FutureWarning: Series.base is deprecated and will be removed in a future version\n",
      "  if getattr(data, 'base', None) is not None and \\\n"
     ]
    },
    {
     "name": "stdout",
     "output_type": "stream",
     "text": [
      "=========1-th Fold Score: 2.0274496256058234\n"
     ]
    },
    {
     "name": "stderr",
     "output_type": "stream",
     "text": [
      "/usr/local/lib/python3.6/dist-packages/xgboost/core.py:587: FutureWarning: Series.base is deprecated and will be removed in a future version\n",
      "  if getattr(data, 'base', None) is not None and \\\n"
     ]
    },
    {
     "name": "stdout",
     "output_type": "stream",
     "text": [
      "=========2-th Fold Score: 1.948256658558138\n"
     ]
    },
    {
     "name": "stderr",
     "output_type": "stream",
     "text": [
      "/usr/local/lib/python3.6/dist-packages/xgboost/core.py:587: FutureWarning: Series.base is deprecated and will be removed in a future version\n",
      "  if getattr(data, 'base', None) is not None and \\\n"
     ]
    },
    {
     "name": "stdout",
     "output_type": "stream",
     "text": [
      "=========3-th Fold Score: 1.9348497746544275\n"
     ]
    },
    {
     "name": "stderr",
     "output_type": "stream",
     "text": [
      "/usr/local/lib/python3.6/dist-packages/xgboost/core.py:587: FutureWarning: Series.base is deprecated and will be removed in a future version\n",
      "  if getattr(data, 'base', None) is not None and \\\n"
     ]
    },
    {
     "name": "stdout",
     "output_type": "stream",
     "text": [
      "=========4-th Fold Score: 1.911321468530414\n",
      "=========Total Score:  1.9761379789509306\n"
     ]
    },
    {
     "name": "stderr",
     "output_type": "stream",
     "text": [
      "/usr/local/lib/python3.6/dist-packages/xgboost/core.py:587: FutureWarning: Series.base is deprecated and will be removed in a future version\n",
      "  if getattr(data, 'base', None) is not None and \\\n",
      "/usr/local/lib/python3.6/dist-packages/xgboost/core.py:588: FutureWarning: Series.base is deprecated and will be removed in a future version\n",
      "  data.base is not None and isinstance(data, np.ndarray) \\\n"
     ]
    }
   ],
   "source": [
    "meta_tr['xg'] = 0\n",
    "meta_te['xg'] = 0\n",
    "\n",
    "model_xg = XGBRegressor(objective = 'reg:linear',\n",
    "                            n_estimators = 3000,\n",
    "                            max_depth = 7,\n",
    "                            learning_rate = 0.1,\n",
    "                            early_stopping_rounds = 100,\n",
    "                            gamma = 1.0,\n",
    "                            subsample = 0.7,\n",
    "                            colsample_bytree = 0.7,\n",
    "                            colsample_bylevel = 0.7,\n",
    "                            silent = True)\n",
    "kfold_validate(X, y, te, model_xg, 'xg')    # 1.8289"
   ]
  },
  {
   "cell_type": "markdown",
   "metadata": {
    "colab_type": "text",
    "id": "yTegoPheFG7d"
   },
   "source": [
    "### Evaluation"
   ]
  },
  {
   "cell_type": "code",
   "execution_count": 0,
   "metadata": {
    "colab": {
     "base_uri": "https://localhost:8080/",
     "height": 500
    },
    "colab_type": "code",
    "id": "b7k4ksAFFGxQ",
    "outputId": "73b17d27-159c-43fc-a360-8a229f9dee9c"
   },
   "outputs": [
    {
     "data": {
      "image/png": "[encoded data removed]",
      "text/plain": [
       "<Figure size 864x576 with 8 Axes>"
      ]
     },
     "metadata": {
      "tags": []
     },
     "output_type": "display_data"
    }
   ],
   "source": [
    "fig, axes = plt.subplots(2, 4, figsize = (12, 8))\n",
    "\n",
    "  sns.regplot(x = col, y = 'val', data = meta_tr, ax = axes[i//4, i%4])"
   ]
  },
  {
   "cell_type": "code",
   "execution_count": 0,
   "metadata": {
    "colab": {},
    "colab_type": "code",
    "id": "WLQdbThHFF4P"
   },
   "outputs": [],
   "source": [
    "#final = (meta_te.lr + meta_te.el + meta_te.rf)/3\n",
    "\n",
    "\n",
    "# Current Best score\n",
    "final = (meta_te.lr + meta_te.el + meta_te.rd + meta_te.knn + meta_te.rf + meta_te.rf2 + meta_te.ad)/7\n",
    "#final = (meta_te.lr + meta_te.el + meta_te.rd + meta_te.rf + meta_te.rf2 + meta_te.ad)/6"
   ]
  },
  {
   "cell_type": "code",
   "execution_count": 100,
   "metadata": {
    "colab": {
     "base_uri": "https://localhost:8080/",
     "height": 35
    },
    "colab_type": "code",
    "id": "81-Dz5Zf8LaW",
    "outputId": "9c74706a-f4d5-4463-d8d2-6774449e2aa1"
   },
   "outputs": [
    {
     "data": {
      "text/plain": [
       "1.8050252549363297"
      ]
     },
     "execution_count": 100,
     "metadata": {
      "tags": []
     },
     "output_type": "execute_result"
    }
   ],
   "source": [
    "pred = (meta_tr.lr + meta_tr.el + meta_tr.rd + meta_tr.knn + meta_tr.rf + meta_tr.rf2 + meta_tr.ad)/7\n",
    "get_loss(pred, meta_tr.val)"
   ]
  },
  {
   "cell_type": "code",
   "execution_count": 101,
   "metadata": {
    "colab": {
     "base_uri": "https://localhost:8080/",
     "height": 35
    },
    "colab_type": "code",
    "id": "xQh3l1Cu8LVE",
    "outputId": "f8a8668a-7f37-42c7-c890-59bef14cff9d"
   },
   "outputs": [
    {
     "data": {
      "text/plain": [
       "1.800175833161067"
      ]
     },
     "execution_count": 101,
     "metadata": {
      "tags": []
     },
     "output_type": "execute_result"
    }
   ],
   "source": [
    "pred = (meta_tr.lr + meta_tr.el + meta_tr.rd + meta_tr.knn + meta_tr.rf2 + meta_tr.ad)/6\n",
    "get_loss(pred, meta_tr.val)"
   ]
  },
  {
   "cell_type": "code",
   "execution_count": 102,
   "metadata": {
    "colab": {
     "base_uri": "https://localhost:8080/",
     "height": 35
    },
    "colab_type": "code",
    "id": "QyGRT9_680_9",
    "outputId": "837c564f-7dc1-4b4e-9a99-7b5a183b9412"
   },
   "outputs": [
    {
     "data": {
      "text/plain": [
       "1.7974847520864066"
      ]
     },
     "execution_count": 102,
     "metadata": {
      "tags": []
     },
     "output_type": "execute_result"
    }
   ],
   "source": [
    "pred = (meta_tr.lr + meta_tr.el + meta_tr.rd + meta_tr.rf2 + meta_tr.ad)/5\n",
    "get_loss(pred, meta_tr.val)"
   ]
  },
  {
   "cell_type": "code",
   "execution_count": 103,
   "metadata": {
    "colab": {
     "base_uri": "https://localhost:8080/",
     "height": 35
    },
    "colab_type": "code",
    "id": "QabYiD8D8_pR",
    "outputId": "81c10a4d-f510-4968-eaf2-47fd3262b809"
   },
   "outputs": [
    {
     "data": {
      "text/plain": [
       "1.792856342452852"
      ]
     },
     "execution_count": 103,
     "metadata": {
      "tags": []
     },
     "output_type": "execute_result"
    }
   ],
   "source": [
    "pred = (meta_tr.lr + meta_tr.el + meta_tr.rd + meta_tr.ad)/4\n",
    "get_loss(pred, meta_tr.val)"
   ]
  },
  {
   "cell_type": "code",
   "execution_count": 0,
   "metadata": {
    "colab": {},
    "colab_type": "code",
    "id": "whgaFDRS9JaD"
   },
   "outputs": [],
   "source": [
    "final = meta_te.rd"
   ]
  },
  {
   "cell_type": "code",
   "execution_count": 0,
   "metadata": {
    "colab": {},
    "colab_type": "code",
    "id": "VD0iib17Si4f"
   },
   "outputs": [],
   "source": [
    "meta_tr.drop(['knn', 'rf', 'xg'], axis = 1, inplace = True)\n",
    "meta_te.drop(['knn', 'rf', 'xg'], axis = 1, inplace = True)"
   ]
  },
  {
   "cell_type": "code",
   "execution_count": 0,
   "metadata": {
    "colab": {},
    "colab_type": "code",
    "id": "TXHcFpGSSiyd"
   },
   "outputs": [],
   "source": []
  },
  {
   "cell_type": "markdown",
   "metadata": {
    "colab_type": "text",
    "id": "aCBXfjcDhhVj"
   },
   "source": [
    "## 3rd Layer Modeling"
   ]
  },
  {
   "cell_type": "code",
   "execution_count": 0,
   "metadata": {
    "colab": {},
    "colab_type": "code",
    "id": "Eo2lh6eghhF0"
   },
   "outputs": [],
   "source": [
    "y = meta_tr.val\n",
    "X_tr = meta_tr.drop('val', axis = 1)\n",
    "\n",
    "te = meta_te"
   ]
  },
  {
   "cell_type": "code",
   "execution_count": 0,
   "metadata": {
    "colab": {},
    "colab_type": "code",
    "id": "Kp2AyU2ThqV7"
   },
   "outputs": [],
   "source": [
    "# Create meta-train set\n",
    "cols = ['lr', 'rd', 'rf', 'rf2']\n",
    "\n",
    "nrow = X.shape[0]\n",
    "ncol = len(cols)\n",
    "dims = np.zeros((nrow, ncol))\n",
    "\n",
    "meta_tr = pd.DataFrame(dims, columns = cols)\n",
    "meta_tr['val'] = 0\n",
    "\n",
    "# Create meta-test set\n",
    "nrow = te.shape[0]\n",
    "dims = np.zeros((nrow, ncol))\n",
    "meta_te = pd.DataFrame(dims, columns = cols)\n",
    "\n",
    "# Cross Validation\n",
    "k = 5\n",
    "seed = 10\n",
    "cv = KFold(n_splits = k, shuffle = True, random_state = seed)"
   ]
  },
  {
   "cell_type": "code",
   "execution_count": 119,
   "metadata": {
    "colab": {
     "base_uri": "https://localhost:8080/",
     "height": 301
    },
    "colab_type": "code",
    "id": "eQWc8lHohqNJ",
    "outputId": "d63af18b-5292-4c9f-9a0a-4cdba7d4bafe"
   },
   "outputs": [
    {
     "name": "stdout",
     "output_type": "stream",
     "text": [
      "=========0-th Fold Score: 1.8255794907600436\n",
      "=========1-th Fold Score: 1.6971655114483335\n",
      "=========2-th Fold Score: 1.9071154185166823\n",
      "=========3-th Fold Score: 1.8959454594963845\n",
      "=========4-th Fold Score: 1.7279311626744165\n",
      "=========Total Score:  1.8107474085791722\n"
     ]
    },
    {
     "name": "stderr",
     "output_type": "stream",
     "text": [
      "/usr/local/lib/python3.6/dist-packages/ipykernel_launcher.py:12: SettingWithCopyWarning: \n",
      "A value is trying to be set on a copy of a slice from a DataFrame\n",
      "\n",
      "See the caveats in the documentation: http://pandas.pydata.org/pandas-docs/stable/indexing.html#indexing-view-versus-copy\n",
      "  if sys.path[0] == '':\n",
      "/usr/local/lib/python3.6/dist-packages/ipykernel_launcher.py:13: SettingWithCopyWarning: \n",
      "A value is trying to be set on a copy of a slice from a DataFrame\n",
      "\n",
      "See the caveats in the documentation: http://pandas.pydata.org/pandas-docs/stable/indexing.html#indexing-view-versus-copy\n",
      "  del sys.path[0]\n"
     ]
    }
   ],
   "source": [
    "model_lr = LinearRegression()\n",
    "kfold_validate(X_tr, y, te, model_lr, 'lr')    # 1.8417   ->  1.8107"
   ]
  },
  {
   "cell_type": "code",
   "execution_count": 120,
   "metadata": {
    "colab": {
     "base_uri": "https://localhost:8080/",
     "height": 124
    },
    "colab_type": "code",
    "id": "YoDCHD3cjZJQ",
    "outputId": "9cbc80b2-2437-45c3-a609-5221e97e6873"
   },
   "outputs": [
    {
     "name": "stdout",
     "output_type": "stream",
     "text": [
      "=========0-th Fold Score: 1.833097408817562\n",
      "=========1-th Fold Score: 1.6817684251864964\n",
      "=========2-th Fold Score: 1.8607513931554536\n",
      "=========3-th Fold Score: 1.905252950030931\n",
      "=========4-th Fold Score: 1.7405931194236128\n",
      "=========Total Score:  1.804292659322811\n"
     ]
    }
   ],
   "source": [
    "model_rd = Ridge(alpha = .01, normalize = True)\n",
    "kfold_validate(X_tr, y, te, model_rd, 'rd')     # 1.8332   ->  1.8042"
   ]
  },
  {
   "cell_type": "code",
   "execution_count": 121,
   "metadata": {
    "colab": {
     "base_uri": "https://localhost:8080/",
     "height": 124
    },
    "colab_type": "code",
    "id": "K_r7qWpehhAo",
    "outputId": "96063f59-d45f-4f6c-ffe5-c3858fabfd0e"
   },
   "outputs": [
    {
     "name": "stdout",
     "output_type": "stream",
     "text": [
      "=========0-th Fold Score: 1.8508995889323274\n",
      "=========1-th Fold Score: 1.7389714010109418\n",
      "=========2-th Fold Score: 1.815632812929424\n",
      "=========3-th Fold Score: 1.9160949117394628\n",
      "=========4-th Fold Score: 1.773630321446098\n",
      "=========Total Score:  1.8190458072116507\n"
     ]
    }
   ],
   "source": [
    "model_rf = RandomForestRegressor(n_estimators = 3000, max_depth = 3)\n",
    "kfold_validate(X_tr, y, te, model_rf, 'rf')     # 1.8279   ->  1.8190"
   ]
  },
  {
   "cell_type": "code",
   "execution_count": 122,
   "metadata": {
    "colab": {
     "base_uri": "https://localhost:8080/",
     "height": 124
    },
    "colab_type": "code",
    "id": "VqNnioiDH-0o",
    "outputId": "ab9e73ca-0da2-43a5-bcae-447d75da2d18"
   },
   "outputs": [
    {
     "name": "stdout",
     "output_type": "stream",
     "text": [
      "=========0-th Fold Score: 1.8348243434847231\n",
      "=========1-th Fold Score: 1.7563920874906582\n",
      "=========2-th Fold Score: 1.8668808350921695\n",
      "=========3-th Fold Score: 1.9021005617104185\n",
      "=========4-th Fold Score: 1.7904409918856368\n",
      "=========Total Score:  1.8301277639327211\n"
     ]
    }
   ],
   "source": [
    "model_rf = RandomForestRegressor(n_estimators = 2000, max_depth = 5)\n",
    "kfold_validate(X_tr, y, te, model_rf, 'rf2')    # 1.8289   ->  1.9301"
   ]
  },
  {
   "cell_type": "code",
   "execution_count": 123,
   "metadata": {
    "colab": {
     "base_uri": "https://localhost:8080/",
     "height": 340
    },
    "colab_type": "code",
    "id": "aR9-GnrrJHSQ",
    "outputId": "314d1e05-3a9a-40ec-f31d-bd34c2e7085a"
   },
   "outputs": [
    {
     "data": {
      "text/html": [
       "<div>\n",
       "<style scoped>\n",
       "    .dataframe tbody tr th:only-of-type {\n",
       "        vertical-align: middle;\n",
       "    }\n",
       "\n",
       "    .dataframe tbody tr th {\n",
       "        vertical-align: top;\n",
       "    }\n",
       "\n",
       "    .dataframe thead th {\n",
       "        text-align: right;\n",
       "    }\n",
       "</style>\n",
       "<table border=\"1\" class=\"dataframe\">\n",
       "  <thead>\n",
       "    <tr style=\"text-align: right;\">\n",
       "      <th></th>\n",
       "      <th>lr</th>\n",
       "      <th>rd</th>\n",
       "      <th>rf</th>\n",
       "      <th>rf2</th>\n",
       "      <th>val</th>\n",
       "    </tr>\n",
       "  </thead>\n",
       "  <tbody>\n",
       "    <tr>\n",
       "      <th>380</th>\n",
       "      <td>19.450947</td>\n",
       "      <td>19.407841</td>\n",
       "      <td>19.493367</td>\n",
       "      <td>19.302576</td>\n",
       "      <td>18.956460</td>\n",
       "    </tr>\n",
       "    <tr>\n",
       "      <th>1940</th>\n",
       "      <td>17.360992</td>\n",
       "      <td>17.340155</td>\n",
       "      <td>17.729958</td>\n",
       "      <td>17.478845</td>\n",
       "      <td>16.995562</td>\n",
       "    </tr>\n",
       "    <tr>\n",
       "      <th>475</th>\n",
       "      <td>12.378805</td>\n",
       "      <td>12.241025</td>\n",
       "      <td>12.203349</td>\n",
       "      <td>12.539220</td>\n",
       "      <td>14.293049</td>\n",
       "    </tr>\n",
       "    <tr>\n",
       "      <th>1178</th>\n",
       "      <td>15.353398</td>\n",
       "      <td>14.936013</td>\n",
       "      <td>14.801898</td>\n",
       "      <td>14.813818</td>\n",
       "      <td>16.213406</td>\n",
       "    </tr>\n",
       "    <tr>\n",
       "      <th>2863</th>\n",
       "      <td>15.945166</td>\n",
       "      <td>15.989812</td>\n",
       "      <td>15.809210</td>\n",
       "      <td>15.905215</td>\n",
       "      <td>15.947799</td>\n",
       "    </tr>\n",
       "    <tr>\n",
       "      <th>2117</th>\n",
       "      <td>3.719999</td>\n",
       "      <td>3.749542</td>\n",
       "      <td>3.356466</td>\n",
       "      <td>3.359072</td>\n",
       "      <td>1.609438</td>\n",
       "    </tr>\n",
       "    <tr>\n",
       "      <th>775</th>\n",
       "      <td>13.099912</td>\n",
       "      <td>13.009242</td>\n",
       "      <td>12.585907</td>\n",
       "      <td>12.785620</td>\n",
       "      <td>15.860920</td>\n",
       "    </tr>\n",
       "    <tr>\n",
       "      <th>2882</th>\n",
       "      <td>16.090042</td>\n",
       "      <td>15.908597</td>\n",
       "      <td>15.585080</td>\n",
       "      <td>15.775799</td>\n",
       "      <td>15.711537</td>\n",
       "    </tr>\n",
       "    <tr>\n",
       "      <th>2879</th>\n",
       "      <td>13.932575</td>\n",
       "      <td>13.810754</td>\n",
       "      <td>13.845087</td>\n",
       "      <td>13.240265</td>\n",
       "      <td>16.874218</td>\n",
       "    </tr>\n",
       "    <tr>\n",
       "      <th>874</th>\n",
       "      <td>17.811337</td>\n",
       "      <td>17.842674</td>\n",
       "      <td>18.002656</td>\n",
       "      <td>17.991227</td>\n",
       "      <td>18.802521</td>\n",
       "    </tr>\n",
       "  </tbody>\n",
       "</table>\n",
       "</div>"
      ],
      "text/plain": [
       "             lr         rd         rf        rf2        val\n",
       "380   19.450947  19.407841  19.493367  19.302576  18.956460\n",
       "1940  17.360992  17.340155  17.729958  17.478845  16.995562\n",
       "475   12.378805  12.241025  12.203349  12.539220  14.293049\n",
       "1178  15.353398  14.936013  14.801898  14.813818  16.213406\n",
       "2863  15.945166  15.989812  15.809210  15.905215  15.947799\n",
       "2117   3.719999   3.749542   3.356466   3.359072   1.609438\n",
       "775   13.099912  13.009242  12.585907  12.785620  15.860920\n",
       "2882  16.090042  15.908597  15.585080  15.775799  15.711537\n",
       "2879  13.932575  13.810754  13.845087  13.240265  16.874218\n",
       "874   17.811337  17.842674  18.002656  17.991227  18.802521"
      ]
     },
     "execution_count": 123,
     "metadata": {
      "tags": []
     },
     "output_type": "execute_result"
    }
   ],
   "source": [
    "meta_tr.sample(10)"
   ]
  },
  {
   "cell_type": "code",
   "execution_count": 124,
   "metadata": {
    "colab": {
     "base_uri": "https://localhost:8080/",
     "height": 337
    },
    "colab_type": "code",
    "id": "jWEkbYqpym1z",
    "outputId": "a5509640-786e-4fef-b490-afb059abd99a"
   },
   "outputs": [
    {
     "data": {
      "image/png": "[encoded data removed]",
      "text/plain": [
       "<Figure size 864x360 with 5 Axes>"
      ]
     },
     "metadata": {
      "tags": []
     },
     "output_type": "display_data"
    }
   ],
   "source": [
    "fig, axes = plt.subplots(1, 5, figsize = (12, 5))\n",
    "\n",
    "for i, col in enumerate(meta_tr.columns[meta_tr.columns != 'val']):\n",
    "  sns.regplot(x = col, y = 'val', data = meta_tr, ax = axes[i%5])"
   ]
  },
  {
   "cell_type": "code",
   "execution_count": 125,
   "metadata": {
    "colab": {
     "base_uri": "https://localhost:8080/",
     "height": 35
    },
    "colab_type": "code",
    "id": "OZabt3TAp-Fw",
    "outputId": "f5f55444-a7ed-49be-aca0-21851f07588f"
   },
   "outputs": [
    {
     "data": {
      "text/plain": [
       "1.8026285107039033"
      ]
     },
     "execution_count": 125,
     "metadata": {
      "tags": []
     },
     "output_type": "execute_result"
    }
   ],
   "source": [
    "# Averaging the final result\n",
    "#final = (meta_te.lr + meta_te.rd + meta_te.rf2)/3\n",
    "#final = (meta_te.rf + meta_te.rf2)/2\n",
    "\n",
    "pred = (meta_tr.rf + meta_tr.rd + meta_tr.lr)/3\n",
    "get_loss(pred, meta_tr.val)"
   ]
  },
  {
   "cell_type": "code",
   "execution_count": 0,
   "metadata": {
    "colab": {},
    "colab_type": "code",
    "id": "JxP4-sxGCIOH"
   },
   "outputs": [],
   "source": []
  }
 ],
 "metadata": {
  "accelerator": "GPU",
  "colab": {
   "collapsed_sections": [
    "7m-pRP_9u9pv",
    "z90yelYeTEjA",
    "6NXG_DRju2JU",
    "Vy4kWzmxOg5v",
    "flY-KV-lOgF7",
    "-U1IQlvkOYSs",
    "aSOZ4TdgmRc6",
    "fbeIIJLou4SO",
    "NY6rCN7PqLoT",
    "DA6Ci1O1u4-f",
    "Su-PJE39Yi2S"
   ],
   "name": "04_modeling_6(residual).ipynb",
   "provenance": [],
   "toc_visible": true,
   "version": "0.3.2"
  },
  "kernelspec": {
   "display_name": "Python 3",
   "language": "python",
   "name": "python3"
  },
  "language_info": {
   "codemirror_mode": {
    "name": "ipython",
    "version": 3
   },
   "file_extension": ".py",
   "mimetype": "text/x-python",
   "name": "python",
   "nbconvert_exporter": "python",
   "pygments_lexer": "ipython3",
   "version": "3.7.0"
  }
 },
 "nbformat": 4,
 "nbformat_minor": 1
}
