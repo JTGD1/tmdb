{
 "cells": [
  {
   "cell_type": "code",
   "execution_count": 0,
   "metadata": {
    "colab": {},
    "colab_type": "code",
    "id": "6btqYOvJuk8O"
   },
   "outputs": [],
   "source": [
    "import pandas as pd\n",
    "import numpy as np\n",
    "import matplotlib.pyplot as plt\n",
    "import seaborn as sns\n",
    "%matplotlib inline\n",
    "import time \n",
    "import pickle\n",
    "\n",
    "from sklearn.model_selection import train_test_split, KFold, GridSearchCV\n",
    "from sklearn.metrics import mean_squared_error\n",
    "from sklearn.metrics import mean_squared_log_error\n",
    "\n",
    "from sklearn.linear_model import LinearRegression, ElasticNet, Ridge\n",
    "from sklearn.neighbors import KNeighborsRegressor\n",
    "from sklearn.svm import SVR, LinearSVR\n",
    "from sklearn.ensemble import RandomForestRegressor\n",
    "from xgboost import XGBRegressor\n",
    "\n",
    "from google.colab import files"
   ]
  },
  {
   "cell_type": "code",
   "execution_count": 3,
   "metadata": {
    "colab": {
     "base_uri": "https://localhost:8080/",
     "height": 230
    },
    "colab_type": "code",
    "id": "39e4iggfbn01",
    "outputId": "bdf2b830-5759-4b61-852c-1374c8c1bc9a"
   },
   "outputs": [
    {
     "name": "stdout",
     "output_type": "stream",
     "text": [
      "Collecting catboost\n",
      "\u001b[?25l  Downloading https://files.pythonhosted.org/packages/2f/c4/f130237b24efd1941cb685da12496675a90045129b66774751f1bf629dfd/catboost-0.14.2-cp36-none-manylinux1_x86_64.whl (60.6MB)\n",
      "\u001b[K     |████████████████████████████████| 60.6MB 1.4MB/s \n",
      "\u001b[?25hRequirement already satisfied: numpy>=1.11.1 in /usr/local/lib/python3.6/dist-packages (from catboost) (1.16.3)\n",
      "Requirement already satisfied: enum34 in /usr/local/lib/python3.6/dist-packages (from catboost) (1.1.6)\n",
      "Requirement already satisfied: six in /usr/local/lib/python3.6/dist-packages (from catboost) (1.12.0)\n",
      "Requirement already satisfied: graphviz in /usr/local/lib/python3.6/dist-packages (from catboost) (0.10.1)\n",
      "Requirement already satisfied: pandas>=0.19.1 in /usr/local/lib/python3.6/dist-packages (from catboost) (0.24.2)\n",
      "Requirement already satisfied: python-dateutil>=2.5.0 in /usr/local/lib/python3.6/dist-packages (from pandas>=0.19.1->catboost) (2.5.3)\n",
      "Requirement already satisfied: pytz>=2011k in /usr/local/lib/python3.6/dist-packages (from pandas>=0.19.1->catboost) (2018.9)\n",
      "Installing collected packages: catboost\n",
      "Successfully installed catboost-0.14.2\n"
     ]
    }
   ],
   "source": [
    "!pip install catboost\n",
    "from catboost import CatBoostRegressor"
   ]
  },
  {
   "cell_type": "code",
   "execution_count": 4,
   "metadata": {
    "colab": {
     "base_uri": "https://localhost:8080/",
     "height": 141
    },
    "colab_type": "code",
    "id": "wW3Oy3M-boVm",
    "outputId": "781c1e61-4c49-4f2b-d584-1660ff0afb55"
   },
   "outputs": [
    {
     "name": "stdout",
     "output_type": "stream",
     "text": [
      "/usr/local/lib/python3.6/dist-packages/pip/_internal/commands/install.py:244: UserWarning: Disabling all use of wheels due to the use of --build-options / --global-options / --install-options.\n",
      "  cmdoptions.check_install_build_global(options)\n",
      "Requirement already satisfied: lightgbm in /usr/local/lib/python3.6/dist-packages (2.2.3)\n",
      "Requirement already satisfied: scipy in /usr/local/lib/python3.6/dist-packages (from lightgbm) (1.3.0)\n",
      "Requirement already satisfied: scikit-learn in /usr/local/lib/python3.6/dist-packages (from lightgbm) (0.21.1)\n",
      "Requirement already satisfied: numpy in /usr/local/lib/python3.6/dist-packages (from lightgbm) (1.16.3)\n",
      "Requirement already satisfied: joblib>=0.11 in /usr/local/lib/python3.6/dist-packages (from scikit-learn->lightgbm) (0.12.5)\n"
     ]
    }
   ],
   "source": [
    "!pip install lightgbm --install-option=--gpu\n",
    "from lightgbm.sklearn import LGBMRegressor"
   ]
  },
  {
   "cell_type": "code",
   "execution_count": 5,
   "metadata": {
    "colab": {
     "base_uri": "https://localhost:8080/",
     "height": 35
    },
    "colab_type": "code",
    "id": "8SU6WXofpGUH",
    "outputId": "2395c618-b74e-4437-bd46-a738251484f4"
   },
   "outputs": [
    {
     "name": "stderr",
     "output_type": "stream",
     "text": [
      "Using TensorFlow backend.\n"
     ]
    }
   ],
   "source": [
    "import keras\n",
    "from keras.models import Sequential\n",
    "from keras.layers import Dense, Dropout, BatchNormalization\n",
    "from keras.optimizers import Adam, RMSprop, SGD\n",
    "from keras.callbacks import EarlyStopping"
   ]
  },
  {
   "cell_type": "code",
   "execution_count": 0,
   "metadata": {
    "colab": {},
    "colab_type": "code",
    "id": "kZoWlN0KQsNx"
   },
   "outputs": [],
   "source": [
    "def get_loss(pred, actual):\n",
    "  loss = mean_squared_error(pred, actual)\n",
    "  result = np.sqrt(loss)\n",
    "  return result"
   ]
  },
  {
   "cell_type": "code",
   "execution_count": 0,
   "metadata": {
    "colab": {},
    "colab_type": "code",
    "id": "Uya9M0UsSbDb"
   },
   "outputs": [],
   "source": [
    "def kfold_validate(X, y, te, model, col):\n",
    "    scores = np.zeros(k)\n",
    "    for i, (tr_idx, val_idx) in enumerate(cv.split(X)):\n",
    "        X_tr, y_tr = X.iloc[tr_idx, :], y[tr_idx]\n",
    "        X_val, y_val = X.iloc[val_idx, :], y[val_idx]\n",
    "\n",
    "        model.fit(X_tr, y_tr)\n",
    "        pred_val = model.predict(X_val)\n",
    "        scores[i] = get_loss(pred_val, y_val)\n",
    "        print(\"========={}-th Fold Score: {}\".format(i, scores[i]))\n",
    "        \n",
    "        meta_tr[col][val_idx] = pred_val\n",
    "        meta_tr['val'][val_idx] = y_val\n",
    "\n",
    "    print(\"=========Total Score: \", np.mean(scores))\n",
    "    model.fit(X, y)\n",
    "    meta_te[col] = model.predict(te)"
   ]
  },
  {
   "cell_type": "markdown",
   "metadata": {
    "colab_type": "text",
    "id": "7m-pRP_9u9pv"
   },
   "source": [
    "## Load the data"
   ]
  },
  {
   "cell_type": "code",
   "execution_count": 113,
   "metadata": {
    "colab": {
     "base_uri": "https://localhost:8080/",
     "height": 52
    },
    "colab_type": "code",
    "id": "OHxqudJJND7l",
    "outputId": "6e354ca0-93fc-47c2-81c1-3b1d1e5697d1"
   },
   "outputs": [
    {
     "name": "stdout",
     "output_type": "stream",
     "text": [
      "The size of the train set  (3000, 377)\n",
      "The size of the test set  (4398, 376)\n"
     ]
    }
   ],
   "source": [
    "# Import the all dataset\n",
    "tr = pd.read_csv('train_3.csv')\n",
    "te = pd.read_csv('test_3.csv')\n",
    "\n",
    "#tr = pd.read_csv('train_3_2.csv')\n",
    "#te = pd.read_csv('test_3_2.csv')\n",
    "\n",
    "#r = pd.read_csv('train_3_svd.csv')\n",
    "#e = pd.read_csv('test_3_svd.csv')\n",
    "\n",
    "# Final check\n",
    "print(\"The size of the train set \", tr.shape)    # (3000, 377)\n",
    "print(\"The size of the test set \", te.shape)"
   ]
  },
  {
   "cell_type": "code",
   "execution_count": 114,
   "metadata": {
    "colab": {
     "base_uri": "https://localhost:8080/",
     "height": 141
    },
    "colab_type": "code",
    "id": "lS19iVZTv717",
    "outputId": "e40aa896-5358-4946-ed1e-cbda2069681f"
   },
   "outputs": [
    {
     "name": "stdout",
     "output_type": "stream",
     "text": [
      "=======NAs in train set\n",
      " n_crew_profile    16\n",
      "dtype: int64\n",
      "=======NAs in test set\n",
      " n_crew_profile         22\n",
      "r_rating_totalVotes     1\n",
      "dtype: int64\n"
     ]
    }
   ],
   "source": [
    "print(\"=======NAs in train set\\n\", tr.isnull().sum()[tr.isnull().sum() != 0])\n",
    "print(\"=======NAs in test set\\n\", te.isnull().sum()[te.isnull().sum() != 0])"
   ]
  },
  {
   "cell_type": "code",
   "execution_count": 0,
   "metadata": {
    "colab": {},
    "colab_type": "code",
    "id": "vmDgg1eIvZpl"
   },
   "outputs": [],
   "source": [
    "tr.fillna(-1, inplace = True)\n",
    "te.fillna(-1, inplace = True)"
   ]
  },
  {
   "cell_type": "code",
   "execution_count": 116,
   "metadata": {
    "colab": {
     "base_uri": "https://localhost:8080/",
     "height": 302
    },
    "colab_type": "code",
    "id": "ao9Pflp7lVNh",
    "outputId": "b3568f8e-3cab-47b7-ca3a-76c644d147ae"
   },
   "outputs": [
    {
     "data": {
      "text/html": [
       "<div>\n",
       "<style scoped>\n",
       "    .dataframe tbody tr th:only-of-type {\n",
       "        vertical-align: middle;\n",
       "    }\n",
       "\n",
       "    .dataframe tbody tr th {\n",
       "        vertical-align: top;\n",
       "    }\n",
       "\n",
       "    .dataframe thead th {\n",
       "        text-align: right;\n",
       "    }\n",
       "</style>\n",
       "<table border=\"1\" class=\"dataframe\">\n",
       "  <thead>\n",
       "    <tr style=\"text-align: right;\">\n",
       "      <th></th>\n",
       "      <th>budget_log</th>\n",
       "      <th>popularity_log</th>\n",
       "      <th>runtime_h</th>\n",
       "      <th>runtime_log</th>\n",
       "      <th>runtime_m</th>\n",
       "      <th>status</th>\n",
       "      <th>is_collection</th>\n",
       "      <th>is_homepage</th>\n",
       "      <th>n_genres</th>\n",
       "      <th>n_prod_count</th>\n",
       "      <th>n_prod_comp</th>\n",
       "      <th>n_spoken_lang</th>\n",
       "      <th>cast_male</th>\n",
       "      <th>crew_male</th>\n",
       "      <th>n_crew_profile</th>\n",
       "      <th>year</th>\n",
       "      <th>month</th>\n",
       "      <th>day</th>\n",
       "      <th>weekofday</th>\n",
       "      <th>rating</th>\n",
       "      <th>n_cast_log</th>\n",
       "      <th>n_crew_log</th>\n",
       "      <th>popularity2_log</th>\n",
       "      <th>totalVotes_log</th>\n",
       "      <th>popularity_diff_log</th>\n",
       "      <th>r_runtime_rating</th>\n",
       "      <th>r_rating_totalVotes</th>\n",
       "      <th>r_budget_rating</th>\n",
       "      <th>r_popularity_totalVotes</th>\n",
       "      <th>r_popularity_rating</th>\n",
       "      <th>r_popularity_ngenres</th>\n",
       "      <th>r_popularity_n_cast</th>\n",
       "      <th>r_budget_totalVotes</th>\n",
       "      <th>r_budget_runtime</th>\n",
       "      <th>r_budget_year</th>\n",
       "      <th>r_totalVotes_year</th>\n",
       "      <th>r_rating_year</th>\n",
       "      <th>r_rating_year2</th>\n",
       "      <th>m_rating_totalVotes</th>\n",
       "      <th>m_year_popularity</th>\n",
       "      <th>m_year_budget</th>\n",
       "      <th>m_year_totalVotes_log</th>\n",
       "      <th>m_year_rating</th>\n",
       "      <th>m_year_runtime</th>\n",
       "      <th>m_year_n_crew_log</th>\n",
       "    </tr>\n",
       "  </thead>\n",
       "  <tbody>\n",
       "    <tr>\n",
       "      <th>count</th>\n",
       "      <td>4398.000000</td>\n",
       "      <td>4.398000e+03</td>\n",
       "      <td>4398.000000</td>\n",
       "      <td>4398.000000</td>\n",
       "      <td>4398.000000</td>\n",
       "      <td>4398.000000</td>\n",
       "      <td>4398.000000</td>\n",
       "      <td>4398.000000</td>\n",
       "      <td>4398.000000</td>\n",
       "      <td>4398.000000</td>\n",
       "      <td>4398.000000</td>\n",
       "      <td>4398.000000</td>\n",
       "      <td>4398.000000</td>\n",
       "      <td>4398.000000</td>\n",
       "      <td>4398.000000</td>\n",
       "      <td>4398.000000</td>\n",
       "      <td>4398.000000</td>\n",
       "      <td>4398.000000</td>\n",
       "      <td>4398.000000</td>\n",
       "      <td>4398.000000</td>\n",
       "      <td>4398.000000</td>\n",
       "      <td>4398.000000</td>\n",
       "      <td>4398.000000</td>\n",
       "      <td>4398.000000</td>\n",
       "      <td>4398.000000</td>\n",
       "      <td>4398.000000</td>\n",
       "      <td>4398.000000</td>\n",
       "      <td>4.398000e+03</td>\n",
       "      <td>4398.000000</td>\n",
       "      <td>4398.000000</td>\n",
       "      <td>4.398000e+03</td>\n",
       "      <td>4.398000e+03</td>\n",
       "      <td>4.398000e+03</td>\n",
       "      <td>4.398000e+03</td>\n",
       "      <td>4.398000e+03</td>\n",
       "      <td>4398.000000</td>\n",
       "      <td>4398.000000</td>\n",
       "      <td>4398.000000</td>\n",
       "      <td>4398.000000</td>\n",
       "      <td>4398.000000</td>\n",
       "      <td>4.398000e+03</td>\n",
       "      <td>4398.000000</td>\n",
       "      <td>4398.000000</td>\n",
       "      <td>4398.000000</td>\n",
       "      <td>4398.000000</td>\n",
       "    </tr>\n",
       "    <tr>\n",
       "      <th>mean</th>\n",
       "      <td>11.799167</td>\n",
       "      <td>1.985449e+00</td>\n",
       "      <td>1.225330</td>\n",
       "      <td>4.659979</td>\n",
       "      <td>0.015688</td>\n",
       "      <td>1.000227</td>\n",
       "      <td>0.199409</td>\n",
       "      <td>0.322874</td>\n",
       "      <td>2.497726</td>\n",
       "      <td>1.364484</td>\n",
       "      <td>2.922237</td>\n",
       "      <td>1.451342</td>\n",
       "      <td>0.233584</td>\n",
       "      <td>0.088549</td>\n",
       "      <td>0.290208</td>\n",
       "      <td>1999.675534</td>\n",
       "      <td>6.889723</td>\n",
       "      <td>15.379036</td>\n",
       "      <td>3.228286</td>\n",
       "      <td>6.114461</td>\n",
       "      <td>2.864404</td>\n",
       "      <td>2.743025</td>\n",
       "      <td>2.012873</td>\n",
       "      <td>5.412860</td>\n",
       "      <td>0.292240</td>\n",
       "      <td>-0.015062</td>\n",
       "      <td>0.096662</td>\n",
       "      <td>4.187490e+06</td>\n",
       "      <td>3.427411</td>\n",
       "      <td>0.524288</td>\n",
       "      <td>3.934207e+00</td>\n",
       "      <td>5.190416e-01</td>\n",
       "      <td>1.069355e+05</td>\n",
       "      <td>2.040717e+05</td>\n",
       "      <td>2.725831e+05</td>\n",
       "      <td>0.073227</td>\n",
       "      <td>0.003058</td>\n",
       "      <td>0.086140</td>\n",
       "      <td>5.410260</td>\n",
       "      <td>1.981314</td>\n",
       "      <td>2.257493e+07</td>\n",
       "      <td>5.409854</td>\n",
       "      <td>6.114776</td>\n",
       "      <td>0.000765</td>\n",
       "      <td>20.975950</td>\n",
       "    </tr>\n",
       "    <tr>\n",
       "      <th>std</th>\n",
       "      <td>7.444733</td>\n",
       "      <td>7.509477e-01</td>\n",
       "      <td>0.452848</td>\n",
       "      <td>0.309302</td>\n",
       "      <td>0.998423</td>\n",
       "      <td>0.058407</td>\n",
       "      <td>0.399601</td>\n",
       "      <td>0.467628</td>\n",
       "      <td>1.111836</td>\n",
       "      <td>0.792381</td>\n",
       "      <td>2.250990</td>\n",
       "      <td>0.888750</td>\n",
       "      <td>0.149346</td>\n",
       "      <td>0.119434</td>\n",
       "      <td>0.254200</td>\n",
       "      <td>15.286707</td>\n",
       "      <td>3.370176</td>\n",
       "      <td>8.571856</td>\n",
       "      <td>1.341997</td>\n",
       "      <td>1.544581</td>\n",
       "      <td>0.688653</td>\n",
       "      <td>0.995944</td>\n",
       "      <td>0.611603</td>\n",
       "      <td>1.946927</td>\n",
       "      <td>0.248682</td>\n",
       "      <td>1.811774</td>\n",
       "      <td>0.350092</td>\n",
       "      <td>2.896592e+07</td>\n",
       "      <td>1.378183</td>\n",
       "      <td>1.461456</td>\n",
       "      <td>4.480953e+00</td>\n",
       "      <td>1.490366e+00</td>\n",
       "      <td>1.455504e+06</td>\n",
       "      <td>3.287007e+05</td>\n",
       "      <td>4.622628e+05</td>\n",
       "      <td>0.057485</td>\n",
       "      <td>0.000776</td>\n",
       "      <td>0.092460</td>\n",
       "      <td>1.135203</td>\n",
       "      <td>0.176196</td>\n",
       "      <td>9.773718e+06</td>\n",
       "      <td>0.479200</td>\n",
       "      <td>0.295658</td>\n",
       "      <td>0.127683</td>\n",
       "      <td>3.764882</td>\n",
       "    </tr>\n",
       "    <tr>\n",
       "      <th>min</th>\n",
       "      <td>0.000000</td>\n",
       "      <td>9.999995e-07</td>\n",
       "      <td>-0.000000</td>\n",
       "      <td>0.000000</td>\n",
       "      <td>-2.177292</td>\n",
       "      <td>0.000000</td>\n",
       "      <td>0.000000</td>\n",
       "      <td>0.000000</td>\n",
       "      <td>1.000000</td>\n",
       "      <td>1.000000</td>\n",
       "      <td>0.000000</td>\n",
       "      <td>1.000000</td>\n",
       "      <td>0.000000</td>\n",
       "      <td>0.000000</td>\n",
       "      <td>-1.000000</td>\n",
       "      <td>1922.000000</td>\n",
       "      <td>1.000000</td>\n",
       "      <td>1.000000</td>\n",
       "      <td>0.000000</td>\n",
       "      <td>0.000000</td>\n",
       "      <td>0.000000</td>\n",
       "      <td>0.000000</td>\n",
       "      <td>0.470004</td>\n",
       "      <td>0.000000</td>\n",
       "      <td>0.000287</td>\n",
       "      <td>-21.772921</td>\n",
       "      <td>-1.000000</td>\n",
       "      <td>0.000000e+00</td>\n",
       "      <td>-2.072503</td>\n",
       "      <td>0.000010</td>\n",
       "      <td>5.000000e-07</td>\n",
       "      <td>1.666667e-07</td>\n",
       "      <td>0.000000e+00</td>\n",
       "      <td>0.000000e+00</td>\n",
       "      <td>0.000000e+00</td>\n",
       "      <td>0.000000</td>\n",
       "      <td>0.000000</td>\n",
       "      <td>0.000000</td>\n",
       "      <td>0.690821</td>\n",
       "      <td>0.191453</td>\n",
       "      <td>3.000000e+02</td>\n",
       "      <td>1.791759</td>\n",
       "      <td>5.500000</td>\n",
       "      <td>-1.854838</td>\n",
       "      <td>8.000000</td>\n",
       "    </tr>\n",
       "    <tr>\n",
       "      <th>25%</th>\n",
       "      <td>0.000000</td>\n",
       "      <td>1.588252e+00</td>\n",
       "      <td>1.000000</td>\n",
       "      <td>4.553877</td>\n",
       "      <td>-0.548900</td>\n",
       "      <td>1.000000</td>\n",
       "      <td>0.000000</td>\n",
       "      <td>0.000000</td>\n",
       "      <td>2.000000</td>\n",
       "      <td>1.000000</td>\n",
       "      <td>1.000000</td>\n",
       "      <td>1.000000</td>\n",
       "      <td>0.125000</td>\n",
       "      <td>0.000000</td>\n",
       "      <td>0.120000</td>\n",
       "      <td>1992.000000</td>\n",
       "      <td>4.000000</td>\n",
       "      <td>8.000000</td>\n",
       "      <td>2.000000</td>\n",
       "      <td>5.700000</td>\n",
       "      <td>2.484907</td>\n",
       "      <td>2.197225</td>\n",
       "      <td>1.676208</td>\n",
       "      <td>4.158883</td>\n",
       "      <td>0.109869</td>\n",
       "      <td>-0.091133</td>\n",
       "      <td>0.005544</td>\n",
       "      <td>0.000000e+00</td>\n",
       "      <td>2.556456</td>\n",
       "      <td>0.263012</td>\n",
       "      <td>1.647093e+00</td>\n",
       "      <td>2.015742e-01</td>\n",
       "      <td>0.000000e+00</td>\n",
       "      <td>0.000000e+00</td>\n",
       "      <td>0.000000e+00</td>\n",
       "      <td>0.052699</td>\n",
       "      <td>0.002850</td>\n",
       "      <td>0.066667</td>\n",
       "      <td>5.381652</td>\n",
       "      <td>1.911811</td>\n",
       "      <td>1.324143e+07</td>\n",
       "      <td>5.112093</td>\n",
       "      <td>5.942373</td>\n",
       "      <td>-0.048236</td>\n",
       "      <td>19.090909</td>\n",
       "    </tr>\n",
       "    <tr>\n",
       "      <th>50%</th>\n",
       "      <td>15.816991</td>\n",
       "      <td>2.137975e+00</td>\n",
       "      <td>1.000000</td>\n",
       "      <td>4.653960</td>\n",
       "      <td>0.144376</td>\n",
       "      <td>1.000000</td>\n",
       "      <td>0.000000</td>\n",
       "      <td>0.000000</td>\n",
       "      <td>2.000000</td>\n",
       "      <td>1.000000</td>\n",
       "      <td>2.000000</td>\n",
       "      <td>1.000000</td>\n",
       "      <td>0.214286</td>\n",
       "      <td>0.058824</td>\n",
       "      <td>0.240000</td>\n",
       "      <td>2004.000000</td>\n",
       "      <td>7.000000</td>\n",
       "      <td>15.000000</td>\n",
       "      <td>4.000000</td>\n",
       "      <td>6.400000</td>\n",
       "      <td>2.833213</td>\n",
       "      <td>2.708050</td>\n",
       "      <td>2.117700</td>\n",
       "      <td>5.549076</td>\n",
       "      <td>0.238206</td>\n",
       "      <td>0.024892</td>\n",
       "      <td>0.019939</td>\n",
       "      <td>1.142857e+06</td>\n",
       "      <td>3.392426</td>\n",
       "      <td>0.333746</td>\n",
       "      <td>3.007754e+00</td>\n",
       "      <td>3.679115e-01</td>\n",
       "      <td>1.748362e+04</td>\n",
       "      <td>6.796117e+04</td>\n",
       "      <td>1.011236e+05</td>\n",
       "      <td>0.069521</td>\n",
       "      <td>0.003182</td>\n",
       "      <td>0.076220</td>\n",
       "      <td>5.602962</td>\n",
       "      <td>1.953762</td>\n",
       "      <td>2.664833e+07</td>\n",
       "      <td>5.489345</td>\n",
       "      <td>6.060645</td>\n",
       "      <td>0.001543</td>\n",
       "      <td>20.035370</td>\n",
       "    </tr>\n",
       "    <tr>\n",
       "      <th>75%</th>\n",
       "      <td>17.147715</td>\n",
       "      <td>2.479770e+00</td>\n",
       "      <td>1.000000</td>\n",
       "      <td>4.779123</td>\n",
       "      <td>0.724793</td>\n",
       "      <td>1.000000</td>\n",
       "      <td>0.000000</td>\n",
       "      <td>1.000000</td>\n",
       "      <td>3.000000</td>\n",
       "      <td>1.000000</td>\n",
       "      <td>4.000000</td>\n",
       "      <td>2.000000</td>\n",
       "      <td>0.333333</td>\n",
       "      <td>0.130435</td>\n",
       "      <td>0.400000</td>\n",
       "      <td>2011.000000</td>\n",
       "      <td>10.000000</td>\n",
       "      <td>23.000000</td>\n",
       "      <td>4.000000</td>\n",
       "      <td>7.000000</td>\n",
       "      <td>3.218876</td>\n",
       "      <td>3.367296</td>\n",
       "      <td>2.408745</td>\n",
       "      <td>6.806829</td>\n",
       "      <td>0.410693</td>\n",
       "      <td>0.125487</td>\n",
       "      <td>0.075291</td>\n",
       "      <td>4.516129e+06</td>\n",
       "      <td>4.445976</td>\n",
       "      <td>0.396209</td>\n",
       "      <td>4.959823e+00</td>\n",
       "      <td>6.015091e-01</td>\n",
       "      <td>6.118554e+04</td>\n",
       "      <td>2.576554e+05</td>\n",
       "      <td>3.460351e+05</td>\n",
       "      <td>0.085683</td>\n",
       "      <td>0.003497</td>\n",
       "      <td>0.089157</td>\n",
       "      <td>5.827735</td>\n",
       "      <td>2.021852</td>\n",
       "      <td>2.898095e+07</td>\n",
       "      <td>5.710692</td>\n",
       "      <td>6.215789</td>\n",
       "      <td>0.060135</td>\n",
       "      <td>21.323274</td>\n",
       "    </tr>\n",
       "    <tr>\n",
       "      <th>max</th>\n",
       "      <td>19.376192</td>\n",
       "      <td>6.307166e+00</td>\n",
       "      <td>5.000000</td>\n",
       "      <td>5.771441</td>\n",
       "      <td>1.627665</td>\n",
       "      <td>3.000000</td>\n",
       "      <td>1.000000</td>\n",
       "      <td>1.000000</td>\n",
       "      <td>8.000000</td>\n",
       "      <td>12.000000</td>\n",
       "      <td>26.000000</td>\n",
       "      <td>9.000000</td>\n",
       "      <td>1.000000</td>\n",
       "      <td>1.000000</td>\n",
       "      <td>1.000000</td>\n",
       "      <td>2018.000000</td>\n",
       "      <td>12.000000</td>\n",
       "      <td>31.000000</td>\n",
       "      <td>6.000000</td>\n",
       "      <td>9.100000</td>\n",
       "      <td>5.111988</td>\n",
       "      <td>5.209486</td>\n",
       "      <td>3.887464</td>\n",
       "      <td>9.945205</td>\n",
       "      <td>3.734935</td>\n",
       "      <td>16.276646</td>\n",
       "      <td>8.000000</td>\n",
       "      <td>1.750000e+09</td>\n",
       "      <td>8.399506</td>\n",
       "      <td>27.656503</td>\n",
       "      <td>1.368721e+02</td>\n",
       "      <td>5.090359e+01</td>\n",
       "      <td>8.750000e+07</td>\n",
       "      <td>3.800000e+06</td>\n",
       "      <td>1.323143e+07</td>\n",
       "      <td>1.661202</td>\n",
       "      <td>0.004561</td>\n",
       "      <td>3.250000</td>\n",
       "      <td>7.866060</td>\n",
       "      <td>2.917768</td>\n",
       "      <td>4.406363e+07</td>\n",
       "      <td>6.473637</td>\n",
       "      <td>8.333333</td>\n",
       "      <td>1.498683</td>\n",
       "      <td>63.500000</td>\n",
       "    </tr>\n",
       "  </tbody>\n",
       "</table>\n",
       "</div>"
      ],
      "text/plain": [
       "        budget_log  popularity_log  ...  m_year_runtime  m_year_n_crew_log\n",
       "count  4398.000000    4.398000e+03  ...     4398.000000        4398.000000\n",
       "mean     11.799167    1.985449e+00  ...        0.000765          20.975950\n",
       "std       7.444733    7.509477e-01  ...        0.127683           3.764882\n",
       "min       0.000000    9.999995e-07  ...       -1.854838           8.000000\n",
       "25%       0.000000    1.588252e+00  ...       -0.048236          19.090909\n",
       "50%      15.816991    2.137975e+00  ...        0.001543          20.035370\n",
       "75%      17.147715    2.479770e+00  ...        0.060135          21.323274\n",
       "max      19.376192    6.307166e+00  ...        1.498683          63.500000\n",
       "\n",
       "[8 rows x 45 columns]"
      ]
     },
     "execution_count": 116,
     "metadata": {
      "tags": []
     },
     "output_type": "execute_result"
    }
   ],
   "source": [
    "te.iloc[:, :45].describe()"
   ]
  },
  {
   "cell_type": "code",
   "execution_count": 0,
   "metadata": {
    "colab": {},
    "colab_type": "code",
    "id": "2gpMyqIWQWj4"
   },
   "outputs": [],
   "source": [
    "X = tr.drop('revenue_log', axis = 1)"
   ]
  },
  {
   "cell_type": "code",
   "execution_count": 0,
   "metadata": {
    "colab": {},
    "colab_type": "code",
    "id": "DmqOf2nVQXWn"
   },
   "outputs": [],
   "source": [
    "# Create meta-trainset\n",
    "nrow = X.shape[0]\n",
    "ncol = 8\n",
    "dims = np.zeros((nrow, ncol))\n",
    "\n",
    "meta_tr = pd.DataFrame(dims, columns = ['el', 'rf', 'knn', 'svm', 'xg', 'cb', 'lg', 'ke'])\n",
    "meta_tr['val'] = 0"
   ]
  },
  {
   "cell_type": "code",
   "execution_count": 0,
   "metadata": {
    "colab": {},
    "colab_type": "code",
    "id": "H-g6df96QZS5"
   },
   "outputs": [],
   "source": [
    "# Create meta-testset\n",
    "nrow = te.shape[0]\n",
    "dims = np.zeros((nrow, ncol))\n",
    "meta_te = pd.DataFrame(dims, columns = ['el', 'rf', 'knn', 'svm', 'xg', 'cb', 'lg', 'ke'])"
   ]
  },
  {
   "cell_type": "code",
   "execution_count": 0,
   "metadata": {
    "colab": {},
    "colab_type": "code",
    "id": "RXf3oSM6QdCr"
   },
   "outputs": [],
   "source": [
    "# Cross Validation\n",
    "k = 10\n",
    "seed = 10\n",
    "cv = KFold(n_splits = k, shuffle = True, random_state = seed)"
   ]
  },
  {
   "cell_type": "markdown",
   "metadata": {
    "colab_type": "text",
    "id": "z90yelYeTEjA"
   },
   "source": [
    "## 1st Layer Modeling"
   ]
  },
  {
   "cell_type": "code",
   "execution_count": 0,
   "metadata": {
    "colab": {},
    "colab_type": "code",
    "id": "9yfuc9_VoBO8"
   },
   "outputs": [],
   "source": [
    "X_tr, X_val, y_tr, y_val = train_test_split(X, y, test_size = .2, random_state = seed)"
   ]
  },
  {
   "cell_type": "code",
   "execution_count": 0,
   "metadata": {
    "colab": {},
    "colab_type": "code",
    "id": "nxnsTSlBoBC0"
   },
   "outputs": [],
   "source": [
    "def split_validate(model):\n",
    "  model.fit(X_tr, y_tr)\n",
    "  pred = model.predict(X_val)\n",
    "  print(get_loss(pred, y_val))"
   ]
  },
  {
   "cell_type": "markdown",
   "metadata": {
    "colab_type": "text",
    "id": "6NXG_DRju2JU"
   },
   "source": [
    "### Elastic-Net"
   ]
  },
  {
   "cell_type": "code",
   "execution_count": 49,
   "metadata": {
    "colab": {
     "base_uri": "https://localhost:8080/",
     "height": 90
    },
    "colab_type": "code",
    "id": "ouuH46r8oWGW",
    "outputId": "0e44bad0-7ba0-4dd9-df70-55b830fdca74"
   },
   "outputs": [
    {
     "name": "stdout",
     "output_type": "stream",
     "text": [
      "2.140556030893825\n"
     ]
    },
    {
     "name": "stderr",
     "output_type": "stream",
     "text": [
      "/usr/local/lib/python3.6/dist-packages/sklearn/linear_model/coordinate_descent.py:475: ConvergenceWarning: Objective did not converge. You might want to increase the number of iterations. Duality gap: 4936.058098164045, tolerance: 2.229425564962863\n",
      "  positive)\n"
     ]
    }
   ],
   "source": [
    "model_el = ElasticNet(alpha = .01, l1_ratio = 0, max_iter = 5000)\n",
    "#split_validate(model_el)\n",
    "kfold_validate(X, y, te, model_el, 'el')"
   ]
  },
  {
   "cell_type": "markdown",
   "metadata": {
    "colab_type": "text",
    "id": "Vy4kWzmxOg5v"
   },
   "source": [
    "### KNN "
   ]
  },
  {
   "cell_type": "code",
   "execution_count": 66,
   "metadata": {
    "colab": {
     "base_uri": "https://localhost:8080/",
     "height": 212
    },
    "colab_type": "code",
    "id": "PHEPkP9xOg1u",
    "outputId": "ccbc0389-c841-43f0-d38c-4303341fa914"
   },
   "outputs": [
    {
     "name": "stdout",
     "output_type": "stream",
     "text": [
      "=========0-th Fold Score: 2.4326816812388268\n",
      "=========1-th Fold Score: 2.470010040868674\n",
      "=========2-th Fold Score: 2.699330563587398\n",
      "=========3-th Fold Score: 2.6293797045142626\n",
      "=========4-th Fold Score: 2.3782903431882025\n",
      "=========5-th Fold Score: 2.164330014010957\n",
      "=========6-th Fold Score: 2.186946685574117\n",
      "=========7-th Fold Score: 3.02473808531261\n",
      "=========8-th Fold Score: 2.2255573680885967\n",
      "=========9-th Fold Score: 2.5561937299728554\n",
      "=========Total Score:  2.47674582163565\n"
     ]
    }
   ],
   "source": [
    "model_knn = KNeighborsRegressor(n_neighbors = 100, weights = 'distance', p = 2)  \n",
    "kfold_validate(X, y, te, model_knn, 'knn')"
   ]
  },
  {
   "cell_type": "markdown",
   "metadata": {
    "colab_type": "text",
    "id": "flY-KV-lOgF7"
   },
   "source": [
    "### Random Forest"
   ]
  },
  {
   "cell_type": "code",
   "execution_count": 0,
   "metadata": {
    "colab": {},
    "colab_type": "code",
    "id": "qZONvPMaTjYg"
   },
   "outputs": [],
   "source": [
    "model_rf = RandomForestRegressor(n_estimators = 3000,\n",
    "                                 criterion = 'mse',\n",
    "                                 #min_samples_split = .7,\n",
    "                                 #min_samples_leaf = 100,\n",
    "                                 max_depth = 9)\n",
    "kfold_validate(X, y, te, model_rf, 'rf')"
   ]
  },
  {
   "cell_type": "code",
   "execution_count": 62,
   "metadata": {
    "colab": {
     "base_uri": "https://localhost:8080/",
     "height": 35
    },
    "colab_type": "code",
    "id": "9L-arSb93qPq",
    "outputId": "43f2dc84-e5fb-4422-bcee-a05c47e1e3fa"
   },
   "outputs": [
    {
     "name": "stdout",
     "output_type": "stream",
     "text": [
      "2.038890869183459\n"
     ]
    }
   ],
   "source": [
    "model_rf = RandomForestRegressor(n_estimators = 3000,\n",
    "                                 criterion = 'mse',\n",
    "                                 max_depth = 11)\n",
    "meta_tr['rf_2'] = 0\n",
    "meta_te['rf_2'] = 0\n",
    "kfold_validate(X, y, te, model_rf, 'rf_2')"
   ]
  },
  {
   "cell_type": "markdown",
   "metadata": {
    "colab_type": "text",
    "id": "-U1IQlvkOYSs"
   },
   "source": [
    "### Kernel SVM"
   ]
  },
  {
   "cell_type": "code",
   "execution_count": 0,
   "metadata": {
    "colab": {},
    "colab_type": "code",
    "id": "Ko7EOMgJV4YH"
   },
   "outputs": [],
   "source": [
    "# scaling?"
   ]
  },
  {
   "cell_type": "code",
   "execution_count": 63,
   "metadata": {
    "colab": {
     "base_uri": "https://localhost:8080/",
     "height": 90
    },
    "colab_type": "code",
    "id": "gKdxcndpOYOx",
    "outputId": "c980af9a-02d9-45f7-df6c-576e6e59bc9e"
   },
   "outputs": [
    {
     "name": "stderr",
     "output_type": "stream",
     "text": [
      "/usr/local/lib/python3.6/dist-packages/sklearn/svm/base.py:193: FutureWarning: The default value of gamma will change from 'auto' to 'scale' in version 0.22 to account better for unscaled features. Set gamma explicitly to 'auto' or 'scale' to avoid this warning.\n",
      "  \"avoid this warning.\", FutureWarning)\n"
     ]
    },
    {
     "name": "stdout",
     "output_type": "stream",
     "text": [
      "2.9226708024582577\n"
     ]
    }
   ],
   "source": [
    "model_svm = SVR(kernel = 'rbf')  \n",
    "#split_validate(model_svm)\n",
    "kfold_validate(X, y, te, model_svm, 'svm')"
   ]
  },
  {
   "cell_type": "markdown",
   "metadata": {
    "colab_type": "text",
    "id": "aSOZ4TdgmRc6"
   },
   "source": [
    "### Xgboost"
   ]
  },
  {
   "cell_type": "code",
   "execution_count": 0,
   "metadata": {
    "colab": {
     "base_uri": "https://localhost:8080/"
    },
    "colab_type": "code",
    "id": "ZrwDjC2qmRYv",
    "outputId": "447ade3d-32d4-41c8-cb44-75a4a2cee0bd"
   },
   "outputs": [
    {
     "name": "stderr",
     "output_type": "stream",
     "text": [
      "/usr/local/lib/python3.6/dist-packages/xgboost/core.py:587: FutureWarning: Series.base is deprecated and will be removed in a future version\n",
      "  if getattr(data, 'base', None) is not None and \\\n"
     ]
    },
    {
     "name": "stdout",
     "output_type": "stream",
     "text": [
      "=========0-th Fold Score: 1.8926797164427573\n"
     ]
    },
    {
     "name": "stderr",
     "output_type": "stream",
     "text": [
      "/usr/local/lib/python3.6/dist-packages/xgboost/core.py:587: FutureWarning: Series.base is deprecated and will be removed in a future version\n",
      "  if getattr(data, 'base', None) is not None and \\\n"
     ]
    },
    {
     "name": "stdout",
     "output_type": "stream",
     "text": [
      "=========1-th Fold Score: 1.930241560475767\n"
     ]
    },
    {
     "name": "stderr",
     "output_type": "stream",
     "text": [
      "/usr/local/lib/python3.6/dist-packages/xgboost/core.py:587: FutureWarning: Series.base is deprecated and will be removed in a future version\n",
      "  if getattr(data, 'base', None) is not None and \\\n"
     ]
    },
    {
     "name": "stdout",
     "output_type": "stream",
     "text": [
      "=========2-th Fold Score: 1.9955216672204383\n"
     ]
    },
    {
     "name": "stderr",
     "output_type": "stream",
     "text": [
      "/usr/local/lib/python3.6/dist-packages/xgboost/core.py:587: FutureWarning: Series.base is deprecated and will be removed in a future version\n",
      "  if getattr(data, 'base', None) is not None and \\\n"
     ]
    },
    {
     "name": "stdout",
     "output_type": "stream",
     "text": [
      "=========3-th Fold Score: 1.7101009999362011\n"
     ]
    },
    {
     "name": "stderr",
     "output_type": "stream",
     "text": [
      "/usr/local/lib/python3.6/dist-packages/xgboost/core.py:587: FutureWarning: Series.base is deprecated and will be removed in a future version\n",
      "  if getattr(data, 'base', None) is not None and \\\n"
     ]
    },
    {
     "name": "stdout",
     "output_type": "stream",
     "text": [
      "=========4-th Fold Score: 2.000500309488473\n"
     ]
    },
    {
     "name": "stderr",
     "output_type": "stream",
     "text": [
      "/usr/local/lib/python3.6/dist-packages/xgboost/core.py:587: FutureWarning: Series.base is deprecated and will be removed in a future version\n",
      "  if getattr(data, 'base', None) is not None and \\\n"
     ]
    },
    {
     "name": "stdout",
     "output_type": "stream",
     "text": [
      "=========5-th Fold Score: 1.7046000800399044\n"
     ]
    },
    {
     "name": "stderr",
     "output_type": "stream",
     "text": [
      "/usr/local/lib/python3.6/dist-packages/xgboost/core.py:587: FutureWarning: Series.base is deprecated and will be removed in a future version\n",
      "  if getattr(data, 'base', None) is not None and \\\n"
     ]
    },
    {
     "name": "stdout",
     "output_type": "stream",
     "text": [
      "=========6-th Fold Score: 1.6826374813475944\n"
     ]
    },
    {
     "name": "stderr",
     "output_type": "stream",
     "text": [
      "/usr/local/lib/python3.6/dist-packages/xgboost/core.py:587: FutureWarning: Series.base is deprecated and will be removed in a future version\n",
      "  if getattr(data, 'base', None) is not None and \\\n"
     ]
    },
    {
     "name": "stdout",
     "output_type": "stream",
     "text": [
      "=========7-th Fold Score: 2.338184839300091\n"
     ]
    },
    {
     "name": "stderr",
     "output_type": "stream",
     "text": [
      "/usr/local/lib/python3.6/dist-packages/xgboost/core.py:587: FutureWarning: Series.base is deprecated and will be removed in a future version\n",
      "  if getattr(data, 'base', None) is not None and \\\n"
     ]
    },
    {
     "name": "stdout",
     "output_type": "stream",
     "text": [
      "=========8-th Fold Score: 1.7997787103353724\n"
     ]
    },
    {
     "name": "stderr",
     "output_type": "stream",
     "text": [
      "/usr/local/lib/python3.6/dist-packages/xgboost/core.py:587: FutureWarning: Series.base is deprecated and will be removed in a future version\n",
      "  if getattr(data, 'base', None) is not None and \\\n"
     ]
    },
    {
     "name": "stdout",
     "output_type": "stream",
     "text": [
      "=========9-th Fold Score: 1.8774223140382065\n",
      "=========Total Score:  1.8931667678624806\n"
     ]
    },
    {
     "name": "stderr",
     "output_type": "stream",
     "text": [
      "/usr/local/lib/python3.6/dist-packages/xgboost/core.py:587: FutureWarning: Series.base is deprecated and will be removed in a future version\n",
      "  if getattr(data, 'base', None) is not None and \\\n",
      "/usr/local/lib/python3.6/dist-packages/xgboost/core.py:588: FutureWarning: Series.base is deprecated and will be removed in a future version\n",
      "  data.base is not None and isinstance(data, np.ndarray) \\\n"
     ]
    }
   ],
   "source": [
    "model_xg = xgb.XGBRegressor(objective = 'reg:linear',\n",
    "                            n_estimators = 3000, \n",
    "                            max_depth = 11, \n",
    "                            learning_rate = 0.01,\n",
    "                            early_stopping_rounds = 500,\n",
    "                            gamma = 1.0, \n",
    "                            #alpha = .6,\n",
    "                            subsample = 0.7,   \n",
    "                            colsample_bytree = 0.6, \n",
    "                            colsample_bylevel = 0.5,\n",
    "                            silent = True)\n",
    "kfold_validate(X, y, te, model_xg, 'xg')"
   ]
  },
  {
   "cell_type": "markdown",
   "metadata": {
    "colab_type": "text",
    "id": "fbeIIJLou4SO"
   },
   "source": [
    "### Catboost"
   ]
  },
  {
   "cell_type": "code",
   "execution_count": 0,
   "metadata": {
    "colab": {
     "base_uri": "https://localhost:8080/",
     "height": 212
    },
    "colab_type": "code",
    "id": "66uB1vQajEAt",
    "outputId": "eb0704c3-9a39-411d-e635-7219889b6d57"
   },
   "outputs": [
    {
     "name": "stdout",
     "output_type": "stream",
     "text": [
      "=========0-th Fold Score: 1.9128576237404389\n",
      "=========1-th Fold Score: 1.9447735513363107\n",
      "=========2-th Fold Score: 1.8985864060497646\n",
      "=========3-th Fold Score: 1.6045882942972496\n",
      "=========4-th Fold Score: 1.930594480043148\n",
      "=========5-th Fold Score: 1.7200524718803278\n",
      "=========6-th Fold Score: 1.591614018376639\n",
      "=========7-th Fold Score: 2.2593741799117164\n",
      "=========8-th Fold Score: 1.793942305366387\n",
      "=========9-th Fold Score: 1.9188637604623882\n",
      "=========Total Score:  1.8575247091464369\n"
     ]
    }
   ],
   "source": [
    "model_cb = CatBoostRegressor(bagging_temperature = 0.3,  \n",
    "                             colsample_bylevel = 0.7,  \n",
    "                             depth = 9,   \n",
    "                             early_stopping_rounds = 500,   \n",
    "                             eval_metric = 'RMSE',\n",
    "                             iterations = 3000,                             \n",
    "                             learning_rate = .01,    \n",
    "                             logging_level = 'Silent')\n",
    "\n",
    "kfold_validate(X, y, te, model_cb, 'cb')"
   ]
  },
  {
   "cell_type": "code",
   "execution_count": 0,
   "metadata": {
    "colab": {
     "base_uri": "https://localhost:8080/",
     "height": 301
    },
    "colab_type": "code",
    "id": "ayOduWVkmOqo",
    "outputId": "e8d880fb-44bb-4a81-8c74-283a64838b91"
   },
   "outputs": [
    {
     "name": "stdout",
     "output_type": "stream",
     "text": [
      "=========0-th Fold Score: 1.9163807306574596\n"
     ]
    },
    {
     "name": "stderr",
     "output_type": "stream",
     "text": [
      "/usr/local/lib/python3.6/dist-packages/ipykernel_launcher.py:12: SettingWithCopyWarning: \n",
      "A value is trying to be set on a copy of a slice from a DataFrame\n",
      "\n",
      "See the caveats in the documentation: http://pandas.pydata.org/pandas-docs/stable/indexing.html#indexing-view-versus-copy\n",
      "  if sys.path[0] == '':\n"
     ]
    },
    {
     "name": "stdout",
     "output_type": "stream",
     "text": [
      "=========1-th Fold Score: 1.929960929974648\n",
      "=========2-th Fold Score: 1.90850615412896\n",
      "=========3-th Fold Score: 1.569344715801719\n",
      "=========4-th Fold Score: 1.9585831036319743\n",
      "=========5-th Fold Score: 1.7853218865613658\n",
      "=========6-th Fold Score: 1.6004778629738625\n",
      "=========7-th Fold Score: 2.2317453007273813\n",
      "=========8-th Fold Score: 1.7692432336211554\n",
      "=========9-th Fold Score: 1.8245785552881186\n",
      "=========Total Score:  1.8494142473366644\n"
     ]
    }
   ],
   "source": [
    "model_cb = CatBoostRegressor(bagging_temperature = 0.3,  \n",
    "                             colsample_bylevel = 0.7,  \n",
    "                             depth = 9,   \n",
    "                             early_stopping_rounds = 500,   \n",
    "                             eval_metric = 'RMSE',\n",
    "                             iterations = 3000,\n",
    "                             learning_rate = .05,\n",
    "                             logging_level = 'Silent')\n",
    "\n",
    "meta_tr['cb_2'] = 0\n",
    "meta_te['cb_2'] = 0\n",
    "kfold_validate(X, y, te, model_cb, 'cb_2')"
   ]
  },
  {
   "cell_type": "code",
   "execution_count": 0,
   "metadata": {
    "colab": {},
    "colab_type": "code",
    "id": "DNNm-TSc9Xyo"
   },
   "outputs": [],
   "source": []
  },
  {
   "cell_type": "markdown",
   "metadata": {
    "colab_type": "text",
    "id": "NY6rCN7PqLoT"
   },
   "source": [
    "### Lightgbm"
   ]
  },
  {
   "cell_type": "code",
   "execution_count": 0,
   "metadata": {
    "colab": {},
    "colab_type": "code",
    "id": "i7L7dQ6m-wVd"
   },
   "outputs": [],
   "source": [
    "import lightgbm as lgb\n",
    "params = {'objective' : 'regression',\n",
    "          'num_iterations' : 5000, \n",
    "          'max_depth' : 13, \n",
    "          'num_leaves' : 100, \n",
    "          'learning_rate': 0.05, \n",
    "          'metric' : 'rmse',\n",
    "          'min_data_in_leaf' : 100, \n",
    "          'colsample_bytree': 0.7, \n",
    "          'subsample_freq': 1,  \n",
    "          'lambda_l1' : 0.01, \n",
    "          'lambda_l2' : 0.7, \n",
    "          'subsample' : 0.6, \n",
    "          'verbose' : -1}"
   ]
  },
  {
   "cell_type": "code",
   "execution_count": 0,
   "metadata": {
    "colab": {},
    "colab_type": "code",
    "id": "NfWT-nigYNRc"
   },
   "outputs": [],
   "source": [
    "scores = np.zeros(10)\n",
    "for i, (tr_idx, val_idx) in enumerate(cv.split(X)):\n",
    "    X_tr, y_tr = X.iloc[tr_idx, :], y[tr_idx]\n",
    "    X_val, y_val = X.iloc[val_idx, :], y[val_idx]\n",
    "    \n",
    "    tr_data = lgb.Dataset(X_tr, label = y_tr)\n",
    "    val_data = lgb.Dataset(X_val, label = y_val)\n",
    "\n",
    "    hist = {}\n",
    "    model_lg = lgb.train(params, tr_data, \n",
    "                         valid_sets = [val_data],\n",
    "                         verbose_eval = -1, \n",
    "                         early_stopping_rounds = 500,\n",
    "                         callbacks = [lgb.record_evaluation(hist)])\n",
    "    \n",
    "    pred_val = model_lg.predict(X_val, num_iteration = model_lg.best_iteration)\n",
    "    scores[i] = get_loss(pred_val, y_val)\n",
    "    print(\"========={}-th Fold Score: {}\".format(i, scores[i]))\n",
    "        \n",
    "    meta_tr['lg'][val_idx] = pred_val\n",
    "    meta_tr['val'][val_idx] = y_val\n",
    "\n",
    "print(\"=========Total Score: \", np.mean(scores))\n",
    "meta_te['lg'] = model_lg.predict(te)"
   ]
  },
  {
   "cell_type": "code",
   "execution_count": 0,
   "metadata": {
    "colab": {},
    "colab_type": "code",
    "id": "xR_hkL8TL5WV"
   },
   "outputs": [],
   "source": []
  },
  {
   "cell_type": "code",
   "execution_count": 0,
   "metadata": {
    "colab": {},
    "colab_type": "code",
    "id": "7nroJ1bn-Ibe"
   },
   "outputs": [],
   "source": [
    "params = {'objective' : 'regression',\n",
    "          'num_iterations' : 5000, \n",
    "          'max_depth' : 9, \n",
    "          'num_leaves' : 100, \n",
    "          'learning_rate': 0.005, \n",
    "          'metric' : 'rmse',\n",
    "          'min_data_in_leaf' : 100, \n",
    "          'colsample_bytree': 0.5, \n",
    "          'subsample_freq': 1,  \n",
    "          'lambda_l1' : 0.01, \n",
    "          'lambda_l2' : 0.7, \n",
    "          'subsample' : 0.8, \n",
    "          'verbose' : -1}"
   ]
  },
  {
   "cell_type": "code",
   "execution_count": 0,
   "metadata": {
    "colab": {},
    "colab_type": "code",
    "id": "VSnyWtDn7Pvq"
   },
   "outputs": [],
   "source": [
    "meta_tr['lg_2'] = 0\n",
    "meta_te['lg_2'] = 0\n",
    "\n",
    "scores = np.zeros(10)\n",
    "for i, (tr_idx, val_idx) in enumerate(cv.split(X)):\n",
    "    X_tr, y_tr = X.iloc[tr_idx, :], y[tr_idx]\n",
    "    X_val, y_val = X.iloc[val_idx, :], y[val_idx]\n",
    "    \n",
    "    tr_data = lgb.Dataset(X_tr, label = y_tr)\n",
    "    val_data = lgb.Dataset(X_val, label = y_val)\n",
    "\n",
    "    hist = {}\n",
    "    model_lg = lgb.train(params, tr_data, \n",
    "                         valid_sets = [val_data],\n",
    "                         verbose_eval = -1, \n",
    "                         early_stopping_rounds = 500,\n",
    "                         callbacks = [lgb.record_evaluation(hist)])\n",
    "    \n",
    "    pred_val = model_lg.predict(X_val, num_iteration = model_lg.best_iteration)\n",
    "    scores[i] = get_loss(pred_val, y_val)\n",
    "    print(\"========={}-th Fold Score: {}\".format(i, scores[i]))\n",
    "        \n",
    "    meta_tr['lg_2'][val_idx] = pred_val\n",
    "\n",
    "print(\"=========Total Score: \", np.mean(scores))\n",
    "meta_te['lg_2'] = model_lg.predict(te)"
   ]
  },
  {
   "cell_type": "markdown",
   "metadata": {
    "colab_type": "text",
    "id": "DA6Ci1O1u4-f"
   },
   "source": [
    "### Keras"
   ]
  },
  {
   "cell_type": "code",
   "execution_count": 96,
   "metadata": {
    "colab": {
     "base_uri": "https://localhost:8080/",
     "height": 52
    },
    "colab_type": "code",
    "id": "ixLm8rtAmil7",
    "outputId": "8c240b29-0742-40c6-b6b4-87bf71487c48"
   },
   "outputs": [
    {
     "name": "stdout",
     "output_type": "stream",
     "text": [
      "376\n",
      "188.0\n"
     ]
    }
   ],
   "source": [
    "print(X.shape[1])\n",
    "print(X.shape[1] /2)"
   ]
  },
  {
   "cell_type": "code",
   "execution_count": 176,
   "metadata": {
    "colab": {
     "base_uri": "https://localhost:8080/",
     "height": 568
    },
    "colab_type": "code",
    "id": "0NdZviyBmFZ4",
    "outputId": "fa6fe371-14af-409c-8d98-1db7cfdf3133"
   },
   "outputs": [
    {
     "name": "stderr",
     "output_type": "stream",
     "text": [
      "/usr/local/lib/python3.6/dist-packages/ipykernel_launcher.py:4: UserWarning: Update your `Dense` call to the Keras 2 API: `Dense(input_dim=376, activation=\"relu\", units=128)`\n",
      "  after removing the cwd from sys.path.\n",
      "/usr/local/lib/python3.6/dist-packages/ipykernel_launcher.py:5: UserWarning: Update your `Dense` call to the Keras 2 API: `Dense(activation=\"relu\", units=64)`\n",
      "  \"\"\"\n",
      "/usr/local/lib/python3.6/dist-packages/ipykernel_launcher.py:8: UserWarning: Update your `Dense` call to the Keras 2 API: `Dense(activation=\"relu\", units=32)`\n",
      "  \n"
     ]
    },
    {
     "name": "stdout",
     "output_type": "stream",
     "text": [
      "_________________________________________________________________\n",
      "Layer (type)                 Output Shape              Param #   \n",
      "=================================================================\n",
      "dense_96 (Dense)             (None, 128)               48256     \n",
      "_________________________________________________________________\n",
      "dense_97 (Dense)             (None, 64)                8256      \n",
      "_________________________________________________________________\n",
      "batch_normalization_42 (Batc (None, 64)                256       \n",
      "_________________________________________________________________\n",
      "dense_98 (Dense)             (None, 32)                2080      \n",
      "_________________________________________________________________\n",
      "batch_normalization_43 (Batc (None, 32)                128       \n",
      "_________________________________________________________________\n",
      "dense_99 (Dense)             (None, 16)                528       \n",
      "_________________________________________________________________\n",
      "dense_100 (Dense)            (None, 1)                 17        \n",
      "=================================================================\n",
      "Total params: 59,521\n",
      "Trainable params: 59,329\n",
      "Non-trainable params: 192\n",
      "_________________________________________________________________\n"
     ]
    },
    {
     "name": "stderr",
     "output_type": "stream",
     "text": [
      "/usr/local/lib/python3.6/dist-packages/ipykernel_launcher.py:11: UserWarning: Update your `Dense` call to the Keras 2 API: `Dense(activation=\"relu\", units=16)`\n",
      "  # This is added back by InteractiveShellApp.init_path()\n",
      "/usr/local/lib/python3.6/dist-packages/ipykernel_launcher.py:12: UserWarning: Update your `Dense` call to the Keras 2 API: `Dense(units=1)`\n",
      "  if sys.path[0] == '':\n"
     ]
    }
   ],
   "source": [
    "# initialize the model\n",
    "model = Sequential()\n",
    "\n",
    "# create hidden layers\n",
    "model.add(Dense(input_dim = X.shape[1], output_dim = 128, activation = 'relu'))\n",
    "model.add(Dense(output_dim = 64, activation = 'relu'))\n",
    "#model.add(Dropout(.7))\n",
    "model.add(BatchNormalization())\n",
    "model.add(Dense(output_dim = 32, activation = 'relu'))\n",
    "#model.add(Dropout(.7))\n",
    "model.add(BatchNormalization())\n",
    "model.add(Dense(output_dim = 16, activation = 'relu'))\n",
    "model.add(Dense(output_dim = 1))\n",
    "\n",
    "# compile: stochastic gradient descent\n",
    "model.compile(optimizer = Adam(lr=0.01),  \n",
    "              loss = 'mse',\n",
    "              metrics = ['mean_squared_error'])\n",
    "\n",
    "# early stopper\n",
    "early_stopper = EarlyStopping(patience = 5)\n",
    "\n",
    "model.summary()"
   ]
  },
  {
   "cell_type": "code",
   "execution_count": 0,
   "metadata": {
    "colab": {},
    "colab_type": "code",
    "id": "eH32NkwHn10R"
   },
   "outputs": [],
   "source": [
    "model_ke = model\n",
    "\n",
    "results = np.zeros((3000, 1))\n",
    "scores = np.zeros(10)\n",
    "\n",
    "for i, (tr_idx, val_idx) in enumerate(cv.split(X)):\n",
    "    X_tr, y_tr = X.iloc[tr_idx, :], y[tr_idx]\n",
    "    X_val, y_val = X.iloc[val_idx, :], y[val_idx]\n",
    "\n",
    "    model_ke.fit(X_tr, y_tr, \n",
    "                validation_data = (X_val, y_val),\n",
    "                batch_size = 300,\n",
    "                nb_epoch = 100,\n",
    "                callbacks = [early_stopper],\n",
    "                verbose= -1)\n",
    "    pred_val = model_ke.predict(X_val)\n",
    "    scores[i] = get_loss(pred_val, y_val)\n",
    "    print(\"========={}-th Fold Score: {}\".format(i, scores[i]))\n",
    "    results[val_idx] = pred_val\n",
    "    \n",
    "meta_tr['ke'] = results\n",
    "print(\"=========Total Score: \", np.mean(scores))\n",
    "\n",
    "model_ke.fit(X, y,\n",
    "            batch_size = 100,\n",
    "            nb_epoch = 100)\n",
    "meta_te['ke'] = model_ke.predict(te)"
   ]
  },
  {
   "cell_type": "markdown",
   "metadata": {
    "colab_type": "text",
    "id": "Su-PJE39Yi2S"
   },
   "source": [
    "### Evaluation"
   ]
  },
  {
   "cell_type": "code",
   "execution_count": 187,
   "metadata": {
    "colab": {
     "base_uri": "https://localhost:8080/",
     "height": 634
    },
    "colab_type": "code",
    "id": "3ot43yuacXyK",
    "outputId": "0523f4c8-256d-4e6f-8c94-965c454dd1d5"
   },
   "outputs": [
    {
     "data": {
      "text/html": [
       "<div>\n",
       "<style scoped>\n",
       "    .dataframe tbody tr th:only-of-type {\n",
       "        vertical-align: middle;\n",
       "    }\n",
       "\n",
       "    .dataframe tbody tr th {\n",
       "        vertical-align: top;\n",
       "    }\n",
       "\n",
       "    .dataframe thead th {\n",
       "        text-align: right;\n",
       "    }\n",
       "</style>\n",
       "<table border=\"1\" class=\"dataframe\">\n",
       "  <thead>\n",
       "    <tr style=\"text-align: right;\">\n",
       "      <th></th>\n",
       "      <th>el</th>\n",
       "      <th>rf</th>\n",
       "      <th>knn</th>\n",
       "      <th>xg</th>\n",
       "      <th>cb</th>\n",
       "      <th>lg</th>\n",
       "      <th>val</th>\n",
       "      <th>rf_2</th>\n",
       "      <th>cb_2</th>\n",
       "      <th>lg_2</th>\n",
       "      <th>ke</th>\n",
       "    </tr>\n",
       "  </thead>\n",
       "  <tbody>\n",
       "    <tr>\n",
       "      <th>2759</th>\n",
       "      <td>11.726053</td>\n",
       "      <td>12.260388</td>\n",
       "      <td>17.812053</td>\n",
       "      <td>13.448273</td>\n",
       "      <td>12.311934</td>\n",
       "      <td>13.522282</td>\n",
       "      <td>2.639057</td>\n",
       "      <td>12.269425</td>\n",
       "      <td>13.124819</td>\n",
       "      <td>13.605975</td>\n",
       "      <td>14.015950</td>\n",
       "    </tr>\n",
       "    <tr>\n",
       "      <th>2399</th>\n",
       "      <td>13.009495</td>\n",
       "      <td>11.494655</td>\n",
       "      <td>9.417023</td>\n",
       "      <td>11.484671</td>\n",
       "      <td>12.421524</td>\n",
       "      <td>11.864791</td>\n",
       "      <td>2.772589</td>\n",
       "      <td>11.354885</td>\n",
       "      <td>11.490400</td>\n",
       "      <td>10.964918</td>\n",
       "      <td>12.011803</td>\n",
       "    </tr>\n",
       "    <tr>\n",
       "      <th>403</th>\n",
       "      <td>13.331793</td>\n",
       "      <td>11.509266</td>\n",
       "      <td>12.046866</td>\n",
       "      <td>10.708562</td>\n",
       "      <td>11.837729</td>\n",
       "      <td>10.095852</td>\n",
       "      <td>7.293018</td>\n",
       "      <td>11.316783</td>\n",
       "      <td>10.795259</td>\n",
       "      <td>10.317290</td>\n",
       "      <td>12.389497</td>\n",
       "    </tr>\n",
       "    <tr>\n",
       "      <th>2384</th>\n",
       "      <td>10.748633</td>\n",
       "      <td>11.811158</td>\n",
       "      <td>17.565365</td>\n",
       "      <td>11.493032</td>\n",
       "      <td>11.824664</td>\n",
       "      <td>10.973538</td>\n",
       "      <td>6.510258</td>\n",
       "      <td>11.800136</td>\n",
       "      <td>11.428011</td>\n",
       "      <td>11.680458</td>\n",
       "      <td>12.421073</td>\n",
       "    </tr>\n",
       "    <tr>\n",
       "      <th>269</th>\n",
       "      <td>10.725126</td>\n",
       "      <td>11.663861</td>\n",
       "      <td>12.999401</td>\n",
       "      <td>10.838148</td>\n",
       "      <td>11.799719</td>\n",
       "      <td>12.041525</td>\n",
       "      <td>3.044522</td>\n",
       "      <td>11.547676</td>\n",
       "      <td>11.544646</td>\n",
       "      <td>11.632935</td>\n",
       "      <td>12.429787</td>\n",
       "    </tr>\n",
       "    <tr>\n",
       "      <th>2936</th>\n",
       "      <td>11.365041</td>\n",
       "      <td>12.263872</td>\n",
       "      <td>14.362231</td>\n",
       "      <td>11.767242</td>\n",
       "      <td>12.385394</td>\n",
       "      <td>10.217170</td>\n",
       "      <td>9.147720</td>\n",
       "      <td>12.114514</td>\n",
       "      <td>12.756856</td>\n",
       "      <td>10.673190</td>\n",
       "      <td>13.473037</td>\n",
       "    </tr>\n",
       "    <tr>\n",
       "      <th>1076</th>\n",
       "      <td>13.763606</td>\n",
       "      <td>13.521673</td>\n",
       "      <td>13.261136</td>\n",
       "      <td>13.303164</td>\n",
       "      <td>12.901129</td>\n",
       "      <td>12.271754</td>\n",
       "      <td>9.615872</td>\n",
       "      <td>13.544769</td>\n",
       "      <td>12.491733</td>\n",
       "      <td>12.302344</td>\n",
       "      <td>12.134344</td>\n",
       "    </tr>\n",
       "    <tr>\n",
       "      <th>313</th>\n",
       "      <td>13.453681</td>\n",
       "      <td>12.667128</td>\n",
       "      <td>9.040907</td>\n",
       "      <td>12.490219</td>\n",
       "      <td>12.278696</td>\n",
       "      <td>12.579367</td>\n",
       "      <td>8.747987</td>\n",
       "      <td>12.419113</td>\n",
       "      <td>13.134163</td>\n",
       "      <td>13.148343</td>\n",
       "      <td>12.754200</td>\n",
       "    </tr>\n",
       "    <tr>\n",
       "      <th>151</th>\n",
       "      <td>12.704819</td>\n",
       "      <td>12.322156</td>\n",
       "      <td>11.239426</td>\n",
       "      <td>11.947454</td>\n",
       "      <td>12.018314</td>\n",
       "      <td>12.054646</td>\n",
       "      <td>9.735424</td>\n",
       "      <td>12.089180</td>\n",
       "      <td>11.998466</td>\n",
       "      <td>12.230217</td>\n",
       "      <td>12.089387</td>\n",
       "    </tr>\n",
       "    <tr>\n",
       "      <th>1141</th>\n",
       "      <td>11.675217</td>\n",
       "      <td>12.549386</td>\n",
       "      <td>15.403439</td>\n",
       "      <td>11.721784</td>\n",
       "      <td>12.167464</td>\n",
       "      <td>12.472440</td>\n",
       "      <td>2.484907</td>\n",
       "      <td>12.422522</td>\n",
       "      <td>12.210152</td>\n",
       "      <td>12.061439</td>\n",
       "      <td>11.688381</td>\n",
       "    </tr>\n",
       "    <tr>\n",
       "      <th>1915</th>\n",
       "      <td>13.029812</td>\n",
       "      <td>12.207782</td>\n",
       "      <td>14.645162</td>\n",
       "      <td>12.204635</td>\n",
       "      <td>12.294156</td>\n",
       "      <td>12.880409</td>\n",
       "      <td>8.149891</td>\n",
       "      <td>12.087275</td>\n",
       "      <td>11.951992</td>\n",
       "      <td>12.638634</td>\n",
       "      <td>12.916935</td>\n",
       "    </tr>\n",
       "    <tr>\n",
       "      <th>2117</th>\n",
       "      <td>12.288055</td>\n",
       "      <td>11.211386</td>\n",
       "      <td>9.659138</td>\n",
       "      <td>8.448076</td>\n",
       "      <td>3.241070</td>\n",
       "      <td>8.011989</td>\n",
       "      <td>1.609438</td>\n",
       "      <td>11.235733</td>\n",
       "      <td>4.223069</td>\n",
       "      <td>8.468726</td>\n",
       "      <td>13.588265</td>\n",
       "    </tr>\n",
       "    <tr>\n",
       "      <th>1966</th>\n",
       "      <td>14.692854</td>\n",
       "      <td>13.699012</td>\n",
       "      <td>10.828497</td>\n",
       "      <td>13.000697</td>\n",
       "      <td>13.268278</td>\n",
       "      <td>13.035331</td>\n",
       "      <td>9.363147</td>\n",
       "      <td>13.528083</td>\n",
       "      <td>12.584625</td>\n",
       "      <td>13.201028</td>\n",
       "      <td>13.168176</td>\n",
       "    </tr>\n",
       "    <tr>\n",
       "      <th>1754</th>\n",
       "      <td>13.582702</td>\n",
       "      <td>13.634381</td>\n",
       "      <td>16.678339</td>\n",
       "      <td>10.329820</td>\n",
       "      <td>5.263947</td>\n",
       "      <td>7.631503</td>\n",
       "      <td>0.693147</td>\n",
       "      <td>13.558071</td>\n",
       "      <td>5.682445</td>\n",
       "      <td>9.050355</td>\n",
       "      <td>11.969423</td>\n",
       "    </tr>\n",
       "    <tr>\n",
       "      <th>2295</th>\n",
       "      <td>10.283752</td>\n",
       "      <td>10.737820</td>\n",
       "      <td>15.010330</td>\n",
       "      <td>10.420575</td>\n",
       "      <td>10.661053</td>\n",
       "      <td>9.860814</td>\n",
       "      <td>8.567126</td>\n",
       "      <td>10.754696</td>\n",
       "      <td>11.269058</td>\n",
       "      <td>9.911923</td>\n",
       "      <td>12.204940</td>\n",
       "    </tr>\n",
       "    <tr>\n",
       "      <th>2490</th>\n",
       "      <td>13.831413</td>\n",
       "      <td>14.375283</td>\n",
       "      <td>15.557354</td>\n",
       "      <td>10.323956</td>\n",
       "      <td>7.274097</td>\n",
       "      <td>10.709600</td>\n",
       "      <td>1.945910</td>\n",
       "      <td>14.285759</td>\n",
       "      <td>5.168661</td>\n",
       "      <td>9.643887</td>\n",
       "      <td>13.431693</td>\n",
       "    </tr>\n",
       "    <tr>\n",
       "      <th>1884</th>\n",
       "      <td>14.231532</td>\n",
       "      <td>13.428558</td>\n",
       "      <td>14.110118</td>\n",
       "      <td>10.082009</td>\n",
       "      <td>6.121244</td>\n",
       "      <td>8.831052</td>\n",
       "      <td>3.178054</td>\n",
       "      <td>13.372841</td>\n",
       "      <td>5.407491</td>\n",
       "      <td>9.892464</td>\n",
       "      <td>11.931805</td>\n",
       "    </tr>\n",
       "    <tr>\n",
       "      <th>95</th>\n",
       "      <td>11.169275</td>\n",
       "      <td>10.849078</td>\n",
       "      <td>13.038644</td>\n",
       "      <td>10.520768</td>\n",
       "      <td>10.949422</td>\n",
       "      <td>10.329688</td>\n",
       "      <td>9.571784</td>\n",
       "      <td>10.862454</td>\n",
       "      <td>11.324842</td>\n",
       "      <td>10.327353</td>\n",
       "      <td>12.389727</td>\n",
       "    </tr>\n",
       "    <tr>\n",
       "      <th>1333</th>\n",
       "      <td>10.135822</td>\n",
       "      <td>11.550759</td>\n",
       "      <td>14.644699</td>\n",
       "      <td>11.554031</td>\n",
       "      <td>10.612984</td>\n",
       "      <td>11.235797</td>\n",
       "      <td>9.648918</td>\n",
       "      <td>11.585527</td>\n",
       "      <td>10.843292</td>\n",
       "      <td>11.224201</td>\n",
       "      <td>13.560749</td>\n",
       "    </tr>\n",
       "    <tr>\n",
       "      <th>2405</th>\n",
       "      <td>15.561851</td>\n",
       "      <td>12.518323</td>\n",
       "      <td>14.497679</td>\n",
       "      <td>13.004760</td>\n",
       "      <td>13.876575</td>\n",
       "      <td>13.263377</td>\n",
       "      <td>8.007700</td>\n",
       "      <td>12.462316</td>\n",
       "      <td>12.859927</td>\n",
       "      <td>13.130555</td>\n",
       "      <td>15.877369</td>\n",
       "    </tr>\n",
       "  </tbody>\n",
       "</table>\n",
       "</div>"
      ],
      "text/plain": [
       "             el         rf        knn  ...       cb_2       lg_2         ke\n",
       "2759  11.726053  12.260388  17.812053  ...  13.124819  13.605975  14.015950\n",
       "2399  13.009495  11.494655   9.417023  ...  11.490400  10.964918  12.011803\n",
       "403   13.331793  11.509266  12.046866  ...  10.795259  10.317290  12.389497\n",
       "2384  10.748633  11.811158  17.565365  ...  11.428011  11.680458  12.421073\n",
       "269   10.725126  11.663861  12.999401  ...  11.544646  11.632935  12.429787\n",
       "2936  11.365041  12.263872  14.362231  ...  12.756856  10.673190  13.473037\n",
       "1076  13.763606  13.521673  13.261136  ...  12.491733  12.302344  12.134344\n",
       "313   13.453681  12.667128   9.040907  ...  13.134163  13.148343  12.754200\n",
       "151   12.704819  12.322156  11.239426  ...  11.998466  12.230217  12.089387\n",
       "1141  11.675217  12.549386  15.403439  ...  12.210152  12.061439  11.688381\n",
       "1915  13.029812  12.207782  14.645162  ...  11.951992  12.638634  12.916935\n",
       "2117  12.288055  11.211386   9.659138  ...   4.223069   8.468726  13.588265\n",
       "1966  14.692854  13.699012  10.828497  ...  12.584625  13.201028  13.168176\n",
       "1754  13.582702  13.634381  16.678339  ...   5.682445   9.050355  11.969423\n",
       "2295  10.283752  10.737820  15.010330  ...  11.269058   9.911923  12.204940\n",
       "2490  13.831413  14.375283  15.557354  ...   5.168661   9.643887  13.431693\n",
       "1884  14.231532  13.428558  14.110118  ...   5.407491   9.892464  11.931805\n",
       "95    11.169275  10.849078  13.038644  ...  11.324842  10.327353  12.389727\n",
       "1333  10.135822  11.550759  14.644699  ...  10.843292  11.224201  13.560749\n",
       "2405  15.561851  12.518323  14.497679  ...  12.859927  13.130555  15.877369\n",
       "\n",
       "[20 rows x 11 columns]"
      ]
     },
     "execution_count": 187,
     "metadata": {
      "tags": []
     },
     "output_type": "execute_result"
    }
   ],
   "source": [
    "meta_tr[meta_tr.val < 10].sample(20)"
   ]
  },
  {
   "cell_type": "code",
   "execution_count": 188,
   "metadata": {
    "colab": {
     "base_uri": "https://localhost:8080/",
     "height": 610
    },
    "colab_type": "code",
    "id": "q4atMKZ18FvG",
    "outputId": "31afe9db-c9d0-42af-f520-dbe855ab6e1b"
   },
   "outputs": [
    {
     "data": {
      "image/png": "[encoded data removed]",
      "text/plain": [
       "<Figure size 1440x720 with 12 Axes>"
      ]
     },
     "metadata": {
      "tags": []
     },
     "output_type": "display_data"
    }
   ],
   "source": [
    "fig, axes = plt.subplots(3, 4, figsize = (20, 10))\n",
    "\n",
    "for i, col in enumerate(meta_tr.columns[meta_tr.columns != 'val']):\n",
    "  sns.regplot(x = col, y = 'val', data = meta_tr, ax = axes[i//4, i % 4])"
   ]
  },
  {
   "cell_type": "code",
   "execution_count": 0,
   "metadata": {
    "colab": {},
    "colab_type": "code",
    "id": "V8eGH5gtJk-O"
   },
   "outputs": [],
   "source": [
    "meta_tr.to_csv('meta_tr.csv', index = False)\n",
    "meta_te.to_csv('meta_te.csv', index = False)"
   ]
  },
  {
   "cell_type": "markdown",
   "metadata": {
    "colab_type": "text",
    "id": "SuwUlKNQclw2"
   },
   "source": [
    "## 2nd Layer Modeling"
   ]
  },
  {
   "cell_type": "code",
   "execution_count": 0,
   "metadata": {
    "colab": {},
    "colab_type": "code",
    "id": "G3ciX9YCeo0h"
   },
   "outputs": [],
   "source": [
    "meta_tr = pd.read_csv('meta_tr.csv')\n",
    "meta_te = pd.read_csv('meta_te.csv')"
   ]
  },
  {
   "cell_type": "code",
   "execution_count": 309,
   "metadata": {
    "colab": {
     "base_uri": "https://localhost:8080/",
     "height": 52
    },
    "colab_type": "code",
    "id": "5UQ--NlEFkvt",
    "outputId": "1ef5f82e-38c4-4fc2-e71d-3d0d1cae0ffd"
   },
   "outputs": [
    {
     "name": "stdout",
     "output_type": "stream",
     "text": [
      "The size of the train set  (3000, 11)\n",
      "The size of the test set  (4398, 10)\n"
     ]
    }
   ],
   "source": [
    "print(\"The size of the train set \", meta_tr.shape)\n",
    "print(\"The size of the test set \", meta_te.shape)"
   ]
  },
  {
   "cell_type": "code",
   "execution_count": 0,
   "metadata": {
    "colab": {},
    "colab_type": "code",
    "id": "AKLO9EaFfni4"
   },
   "outputs": [],
   "source": [
    "y = meta_tr.val\n",
    "X_tr = meta_tr.drop('val', axis = 1)\n",
    "\n",
    "te = meta_te"
   ]
  },
  {
   "cell_type": "code",
   "execution_count": 0,
   "metadata": {
    "colab": {},
    "colab_type": "code",
    "id": "tfAWAEEmMSob"
   },
   "outputs": [],
   "source": [
    "# Create meta-train set\n",
    "cols = ['lr', 'el', 'rd', 'knn', 'rf', 'rf2', 'ad']\n",
    "\n",
    "nrow = X.shape[0]\n",
    "ncol = len(cols)\n",
    "dims = np.zeros((nrow, ncol))\n",
    "\n",
    "meta_tr = pd.DataFrame(dims, columns = cols)\n",
    "meta_tr['val'] = 0\n",
    "\n",
    "# Create meta-test set\n",
    "nrow = te.shape[0]\n",
    "dims = np.zeros((nrow, ncol))\n",
    "meta_te = pd.DataFrame(dims, columns = cols)\n",
    "\n",
    "# Cross Validation\n",
    "k = 5\n",
    "seed = 30\n",
    "cv = KFold(n_splits = k, shuffle = True, random_state = seed)"
   ]
  },
  {
   "cell_type": "markdown",
   "metadata": {
    "colab_type": "text",
    "id": "ndniLfrzMTHi"
   },
   "source": [
    "### Linear Regression"
   ]
  },
  {
   "cell_type": "code",
   "execution_count": 312,
   "metadata": {
    "colab": {
     "base_uri": "https://localhost:8080/",
     "height": 301
    },
    "colab_type": "code",
    "id": "uGDp8h89coWF",
    "outputId": "10a72d1f-ace7-44e0-f462-17177b967d26"
   },
   "outputs": [
    {
     "name": "stdout",
     "output_type": "stream",
     "text": [
      "=========0-th Fold Score: 1.9634880947149107\n",
      "=========1-th Fold Score: 1.917546194906108\n",
      "=========2-th Fold Score: 1.7325427084145366\n",
      "=========3-th Fold Score: 1.8829488863143353\n",
      "=========4-th Fold Score: 1.7011953797640753\n",
      "=========Total Score:  1.8395442528227932\n"
     ]
    },
    {
     "name": "stderr",
     "output_type": "stream",
     "text": [
      "/usr/local/lib/python3.6/dist-packages/ipykernel_launcher.py:12: SettingWithCopyWarning: \n",
      "A value is trying to be set on a copy of a slice from a DataFrame\n",
      "\n",
      "See the caveats in the documentation: http://pandas.pydata.org/pandas-docs/stable/indexing.html#indexing-view-versus-copy\n",
      "  if sys.path[0] == '':\n",
      "/usr/local/lib/python3.6/dist-packages/ipykernel_launcher.py:13: SettingWithCopyWarning: \n",
      "A value is trying to be set on a copy of a slice from a DataFrame\n",
      "\n",
      "See the caveats in the documentation: http://pandas.pydata.org/pandas-docs/stable/indexing.html#indexing-view-versus-copy\n",
      "  del sys.path[0]\n"
     ]
    }
   ],
   "source": [
    "model_lr = LinearRegression(normalize=True)\n",
    "kfold_validate(X_tr, y, te, model_lr, 'lr')     # 1.8395"
   ]
  },
  {
   "cell_type": "code",
   "execution_count": 0,
   "metadata": {
    "colab": {},
    "colab_type": "code",
    "id": "N1JvPSuVFc_3"
   },
   "outputs": [],
   "source": []
  },
  {
   "cell_type": "markdown",
   "metadata": {
    "colab_type": "text",
    "id": "b2mDJLtycyc2"
   },
   "source": [
    "### Elastic Net"
   ]
  },
  {
   "cell_type": "code",
   "execution_count": 313,
   "metadata": {
    "colab": {
     "base_uri": "https://localhost:8080/",
     "height": 357
    },
    "colab_type": "code",
    "id": "M92LczXQgQEL",
    "outputId": "8feef658-9083-4e32-a3a4-ace83cd3bab0"
   },
   "outputs": [
    {
     "name": "stderr",
     "output_type": "stream",
     "text": [
      "/usr/local/lib/python3.6/dist-packages/sklearn/linear_model/coordinate_descent.py:475: ConvergenceWarning: Objective did not converge. You might want to increase the number of iterations. Duality gap: 3863.9462458838234, tolerance: 2.1667939388572846\n",
      "  positive)\n",
      "/usr/local/lib/python3.6/dist-packages/sklearn/linear_model/coordinate_descent.py:475: ConvergenceWarning: Objective did not converge. You might want to increase the number of iterations. Duality gap: 3915.002573620401, tolerance: 2.158456468524547\n",
      "  positive)\n"
     ]
    },
    {
     "name": "stdout",
     "output_type": "stream",
     "text": [
      "=========0-th Fold Score: 1.9639524650709916\n",
      "=========1-th Fold Score: 1.918609389376437\n"
     ]
    },
    {
     "name": "stderr",
     "output_type": "stream",
     "text": [
      "/usr/local/lib/python3.6/dist-packages/sklearn/linear_model/coordinate_descent.py:475: ConvergenceWarning: Objective did not converge. You might want to increase the number of iterations. Duality gap: 4123.063434188057, tolerance: 2.2502944354982315\n",
      "  positive)\n",
      "/usr/local/lib/python3.6/dist-packages/sklearn/linear_model/coordinate_descent.py:475: ConvergenceWarning: Objective did not converge. You might want to increase the number of iterations. Duality gap: 3961.6990069369544, tolerance: 2.1888173550024463\n",
      "  positive)\n"
     ]
    },
    {
     "name": "stdout",
     "output_type": "stream",
     "text": [
      "=========2-th Fold Score: 1.7305386536311462\n",
      "=========3-th Fold Score: 1.8829916295897953\n",
      "=========4-th Fold Score: 1.6991249601404472\n",
      "=========Total Score:  1.8390434195617633\n"
     ]
    },
    {
     "name": "stderr",
     "output_type": "stream",
     "text": [
      "/usr/local/lib/python3.6/dist-packages/sklearn/linear_model/coordinate_descent.py:475: ConvergenceWarning: Objective did not converge. You might want to increase the number of iterations. Duality gap: 4154.637776755654, tolerance: 2.2907138480499496\n",
      "  positive)\n",
      "/usr/local/lib/python3.6/dist-packages/sklearn/linear_model/coordinate_descent.py:475: ConvergenceWarning: Objective did not converge. You might want to increase the number of iterations. Duality gap: 5013.478491063445, tolerance: 2.7638801457781614\n",
      "  positive)\n"
     ]
    }
   ],
   "source": [
    "model_el = ElasticNet(alpha = .005, l1_ratio = 0, max_iter = 5000)\n",
    "kfold_validate(X_tr, y, te, model_el, 'el')   # 1.8383"
   ]
  },
  {
   "cell_type": "markdown",
   "metadata": {
    "colab_type": "text",
    "id": "sVSeCYbvEO3E"
   },
   "source": [
    "### Ridge Regression"
   ]
  },
  {
   "cell_type": "code",
   "execution_count": 314,
   "metadata": {
    "colab": {
     "base_uri": "https://localhost:8080/",
     "height": 124
    },
    "colab_type": "code",
    "id": "d426TXyKgTGl",
    "outputId": "2baa0dbe-5b32-4baa-deec-549cb9b1576f"
   },
   "outputs": [
    {
     "name": "stdout",
     "output_type": "stream",
     "text": [
      "=========0-th Fold Score: 1.9639294262931537\n",
      "=========1-th Fold Score: 1.9186387490478984\n",
      "=========2-th Fold Score: 1.7304466709778725\n",
      "=========3-th Fold Score: 1.8829974641379836\n",
      "=========4-th Fold Score: 1.698984895728641\n",
      "=========Total Score:  1.8389994412371098\n"
     ]
    }
   ],
   "source": [
    "model_rd = Ridge(alpha = .001, normalize = True)\n",
    "kfold_validate(X_tr, y, te, model_rd, 'rd')   # 1.8383"
   ]
  },
  {
   "cell_type": "markdown",
   "metadata": {
    "colab_type": "text",
    "id": "GDEYnSbvG3TP"
   },
   "source": [
    "### KNN"
   ]
  },
  {
   "cell_type": "code",
   "execution_count": 315,
   "metadata": {
    "colab": {
     "base_uri": "https://localhost:8080/",
     "height": 124
    },
    "colab_type": "code",
    "id": "ivyKTyVBgZkN",
    "outputId": "ca402dc3-3533-4206-8cbf-f144df090f0c"
   },
   "outputs": [
    {
     "name": "stdout",
     "output_type": "stream",
     "text": [
      "=========0-th Fold Score: 2.0391670361866496\n",
      "=========1-th Fold Score: 2.005897014526754\n",
      "=========2-th Fold Score: 1.761701579935979\n",
      "=========3-th Fold Score: 1.9579847772558894\n",
      "=========4-th Fold Score: 1.680541547006536\n",
      "=========Total Score:  1.8890583909823615\n"
     ]
    }
   ],
   "source": [
    "model_knn = KNeighborsRegressor(n_neighbors = 50, weights = 'distance', p = 2)\n",
    "kfold_validate(X_tr, y, te, model_knn, 'knn')    # 1.8870"
   ]
  },
  {
   "cell_type": "markdown",
   "metadata": {
    "colab_type": "text",
    "id": "LjIYAXFEczck"
   },
   "source": [
    "### Random Forest"
   ]
  },
  {
   "cell_type": "code",
   "execution_count": 316,
   "metadata": {
    "colab": {
     "base_uri": "https://localhost:8080/",
     "height": 124
    },
    "colab_type": "code",
    "id": "8MueuGwe5aTO",
    "outputId": "25f8f5c0-abea-4d4c-cc81-997063836846"
   },
   "outputs": [
    {
     "name": "stdout",
     "output_type": "stream",
     "text": [
      "=========0-th Fold Score: 1.9944366819962198\n",
      "=========1-th Fold Score: 1.9157898643668945\n",
      "=========2-th Fold Score: 1.777300515323388\n",
      "=========3-th Fold Score: 1.8869214395524703\n",
      "=========4-th Fold Score: 1.679063655065071\n",
      "=========Total Score:  1.850702431260809\n"
     ]
    }
   ],
   "source": [
    "model_rf = RandomForestRegressor(n_estimators = 1000, max_depth = 3)\n",
    "kfold_validate(X_tr, y, te, model_rf, 'rf')   # 1.85"
   ]
  },
  {
   "cell_type": "code",
   "execution_count": 317,
   "metadata": {
    "colab": {
     "base_uri": "https://localhost:8080/",
     "height": 124
    },
    "colab_type": "code",
    "id": "qvwGwZQx5XTw",
    "outputId": "232c1bb7-d9be-4a33-e628-20f6321ba823"
   },
   "outputs": [
    {
     "name": "stdout",
     "output_type": "stream",
     "text": [
      "=========0-th Fold Score: 1.968362268628032\n",
      "=========1-th Fold Score: 1.929807511920929\n",
      "=========2-th Fold Score: 1.7760327538279166\n",
      "=========3-th Fold Score: 1.8862640438199574\n",
      "=========4-th Fold Score: 1.6830348752315458\n",
      "=========Total Score:  1.848700290685676\n"
     ]
    }
   ],
   "source": [
    "model_rf = RandomForestRegressor(n_estimators = 1000, max_depth = 5)\n",
    "kfold_validate(X_tr, y, te, model_rf, 'rf2')    # 1.84"
   ]
  },
  {
   "cell_type": "markdown",
   "metadata": {
    "colab_type": "text",
    "id": "ISTntG240qjo"
   },
   "source": [
    "### Adaboost"
   ]
  },
  {
   "cell_type": "code",
   "execution_count": 318,
   "metadata": {
    "colab": {
     "base_uri": "https://localhost:8080/",
     "height": 124
    },
    "colab_type": "code",
    "id": "zaFfOfN8zpAH",
    "outputId": "510557c4-ecbf-4207-8245-332039e44c14"
   },
   "outputs": [
    {
     "name": "stdout",
     "output_type": "stream",
     "text": [
      "=========0-th Fold Score: 1.9663249495616044\n",
      "=========1-th Fold Score: 1.9252008332356974\n",
      "=========2-th Fold Score: 1.7740964886438637\n",
      "=========3-th Fold Score: 1.8885498333502078\n",
      "=========4-th Fold Score: 1.6867436313130222\n",
      "=========Total Score:  1.848183147220879\n"
     ]
    }
   ],
   "source": [
    "from sklearn.ensemble import AdaBoostRegressor\n",
    "\n",
    "model_ad = AdaBoostRegressor(n_estimators = 1000, learning_rate = .05,  \n",
    "                             loss = 'square', random_state = seed)\n",
    "kfold_validate(X_tr, y, te, model_rf, 'ad')    # 1.84"
   ]
  },
  {
   "cell_type": "code",
   "execution_count": 319,
   "metadata": {
    "colab": {
     "base_uri": "https://localhost:8080/",
     "height": 461
    },
    "colab_type": "code",
    "id": "bdKnXYPfJZ9i",
    "outputId": "1ec793f1-1b59-4999-c278-31013f8e3a18"
   },
   "outputs": [
    {
     "name": "stderr",
     "output_type": "stream",
     "text": [
      "/usr/local/lib/python3.6/dist-packages/xgboost/core.py:587: FutureWarning: Series.base is deprecated and will be removed in a future version\n",
      "  if getattr(data, 'base', None) is not None and \\\n"
     ]
    },
    {
     "name": "stdout",
     "output_type": "stream",
     "text": [
      "=========0-th Fold Score: 2.0275699213045404\n"
     ]
    },
    {
     "name": "stderr",
     "output_type": "stream",
     "text": [
      "/usr/local/lib/python3.6/dist-packages/ipykernel_launcher.py:12: SettingWithCopyWarning: \n",
      "A value is trying to be set on a copy of a slice from a DataFrame\n",
      "\n",
      "See the caveats in the documentation: http://pandas.pydata.org/pandas-docs/stable/indexing.html#indexing-view-versus-copy\n",
      "  if sys.path[0] == '':\n",
      "/usr/local/lib/python3.6/dist-packages/xgboost/core.py:587: FutureWarning: Series.base is deprecated and will be removed in a future version\n",
      "  if getattr(data, 'base', None) is not None and \\\n"
     ]
    },
    {
     "name": "stdout",
     "output_type": "stream",
     "text": [
      "=========1-th Fold Score: 2.103934284089309\n"
     ]
    },
    {
     "name": "stderr",
     "output_type": "stream",
     "text": [
      "/usr/local/lib/python3.6/dist-packages/xgboost/core.py:587: FutureWarning: Series.base is deprecated and will be removed in a future version\n",
      "  if getattr(data, 'base', None) is not None and \\\n"
     ]
    },
    {
     "name": "stdout",
     "output_type": "stream",
     "text": [
      "=========2-th Fold Score: 1.8580909171205104\n"
     ]
    },
    {
     "name": "stderr",
     "output_type": "stream",
     "text": [
      "/usr/local/lib/python3.6/dist-packages/xgboost/core.py:587: FutureWarning: Series.base is deprecated and will be removed in a future version\n",
      "  if getattr(data, 'base', None) is not None and \\\n"
     ]
    },
    {
     "name": "stdout",
     "output_type": "stream",
     "text": [
      "=========3-th Fold Score: 1.9803042285127714\n"
     ]
    },
    {
     "name": "stderr",
     "output_type": "stream",
     "text": [
      "/usr/local/lib/python3.6/dist-packages/xgboost/core.py:587: FutureWarning: Series.base is deprecated and will be removed in a future version\n",
      "  if getattr(data, 'base', None) is not None and \\\n"
     ]
    },
    {
     "name": "stdout",
     "output_type": "stream",
     "text": [
      "=========4-th Fold Score: 1.8291150106740293\n",
      "=========Total Score:  1.9598028723402319\n"
     ]
    },
    {
     "name": "stderr",
     "output_type": "stream",
     "text": [
      "/usr/local/lib/python3.6/dist-packages/xgboost/core.py:587: FutureWarning: Series.base is deprecated and will be removed in a future version\n",
      "  if getattr(data, 'base', None) is not None and \\\n",
      "/usr/local/lib/python3.6/dist-packages/xgboost/core.py:588: FutureWarning: Series.base is deprecated and will be removed in a future version\n",
      "  data.base is not None and isinstance(data, np.ndarray) \\\n"
     ]
    }
   ],
   "source": [
    "meta_tr['xg'] = 0\n",
    "meta_te['xg'] = 0\n",
    "\n",
    "model_xg = XGBRegressor(objective = 'reg:linear',\n",
    "                            n_estimators = 3000,\n",
    "                            max_depth = 9,\n",
    "                            learning_rate = 0.05,\n",
    "                            early_stopping_rounds = 100,\n",
    "                            gamma = 1.0,\n",
    "                            subsample = 0.5,\n",
    "                            colsample_bytree = 0.7,\n",
    "                            colsample_bylevel = 0.7,\n",
    "                            silent = True)\n",
    "kfold_validate(X_tr, y, te, model_xg, 'xg')    # 1.8289"
   ]
  },
  {
   "cell_type": "markdown",
   "metadata": {
    "colab_type": "text",
    "id": "JgZLfcYr0pId"
   },
   "source": [
    "### Evaluation"
   ]
  },
  {
   "cell_type": "code",
   "execution_count": 324,
   "metadata": {
    "colab": {
     "base_uri": "https://localhost:8080/",
     "height": 340
    },
    "colab_type": "code",
    "id": "5Mg_F22PgkXV",
    "outputId": "2cb0e97f-02f8-4875-c3bf-0c49b6e4aea6"
   },
   "outputs": [
    {
     "data": {
      "text/html": [
       "<div>\n",
       "<style scoped>\n",
       "    .dataframe tbody tr th:only-of-type {\n",
       "        vertical-align: middle;\n",
       "    }\n",
       "\n",
       "    .dataframe tbody tr th {\n",
       "        vertical-align: top;\n",
       "    }\n",
       "\n",
       "    .dataframe thead th {\n",
       "        text-align: right;\n",
       "    }\n",
       "</style>\n",
       "<table border=\"1\" class=\"dataframe\">\n",
       "  <thead>\n",
       "    <tr style=\"text-align: right;\">\n",
       "      <th></th>\n",
       "      <th>lr</th>\n",
       "      <th>el</th>\n",
       "      <th>rd</th>\n",
       "      <th>rf2</th>\n",
       "      <th>ad</th>\n",
       "      <th>val</th>\n",
       "    </tr>\n",
       "  </thead>\n",
       "  <tbody>\n",
       "    <tr>\n",
       "      <th>1252</th>\n",
       "      <td>15.644901</td>\n",
       "      <td>15.633591</td>\n",
       "      <td>15.633217</td>\n",
       "      <td>15.874064</td>\n",
       "      <td>15.878484</td>\n",
       "      <td>16.670942</td>\n",
       "    </tr>\n",
       "    <tr>\n",
       "      <th>815</th>\n",
       "      <td>17.892752</td>\n",
       "      <td>17.897398</td>\n",
       "      <td>17.897480</td>\n",
       "      <td>17.803690</td>\n",
       "      <td>17.820368</td>\n",
       "      <td>17.922127</td>\n",
       "    </tr>\n",
       "    <tr>\n",
       "      <th>556</th>\n",
       "      <td>12.234287</td>\n",
       "      <td>12.301436</td>\n",
       "      <td>12.303668</td>\n",
       "      <td>13.458657</td>\n",
       "      <td>13.441910</td>\n",
       "      <td>15.400296</td>\n",
       "    </tr>\n",
       "    <tr>\n",
       "      <th>2827</th>\n",
       "      <td>13.633848</td>\n",
       "      <td>13.718749</td>\n",
       "      <td>13.718573</td>\n",
       "      <td>13.643831</td>\n",
       "      <td>13.667294</td>\n",
       "      <td>16.140260</td>\n",
       "    </tr>\n",
       "    <tr>\n",
       "      <th>1952</th>\n",
       "      <td>12.388103</td>\n",
       "      <td>12.361268</td>\n",
       "      <td>12.361021</td>\n",
       "      <td>11.834604</td>\n",
       "      <td>11.811552</td>\n",
       "      <td>9.604879</td>\n",
       "    </tr>\n",
       "    <tr>\n",
       "      <th>2794</th>\n",
       "      <td>17.580487</td>\n",
       "      <td>17.576457</td>\n",
       "      <td>17.575660</td>\n",
       "      <td>17.679752</td>\n",
       "      <td>17.684688</td>\n",
       "      <td>17.588930</td>\n",
       "    </tr>\n",
       "    <tr>\n",
       "      <th>949</th>\n",
       "      <td>15.878907</td>\n",
       "      <td>15.858613</td>\n",
       "      <td>15.859415</td>\n",
       "      <td>15.785184</td>\n",
       "      <td>15.780782</td>\n",
       "      <td>15.952686</td>\n",
       "    </tr>\n",
       "    <tr>\n",
       "      <th>2655</th>\n",
       "      <td>13.335288</td>\n",
       "      <td>13.328622</td>\n",
       "      <td>13.327949</td>\n",
       "      <td>13.567408</td>\n",
       "      <td>13.580275</td>\n",
       "      <td>12.844415</td>\n",
       "    </tr>\n",
       "    <tr>\n",
       "      <th>2545</th>\n",
       "      <td>18.285974</td>\n",
       "      <td>18.286174</td>\n",
       "      <td>18.286413</td>\n",
       "      <td>18.302773</td>\n",
       "      <td>18.303947</td>\n",
       "      <td>17.738437</td>\n",
       "    </tr>\n",
       "    <tr>\n",
       "      <th>1980</th>\n",
       "      <td>15.650273</td>\n",
       "      <td>15.640175</td>\n",
       "      <td>15.640162</td>\n",
       "      <td>15.784092</td>\n",
       "      <td>15.788236</td>\n",
       "      <td>15.301103</td>\n",
       "    </tr>\n",
       "  </tbody>\n",
       "</table>\n",
       "</div>"
      ],
      "text/plain": [
       "             lr         el         rd        rf2         ad        val\n",
       "1252  15.644901  15.633591  15.633217  15.874064  15.878484  16.670942\n",
       "815   17.892752  17.897398  17.897480  17.803690  17.820368  17.922127\n",
       "556   12.234287  12.301436  12.303668  13.458657  13.441910  15.400296\n",
       "2827  13.633848  13.718749  13.718573  13.643831  13.667294  16.140260\n",
       "1952  12.388103  12.361268  12.361021  11.834604  11.811552   9.604879\n",
       "2794  17.580487  17.576457  17.575660  17.679752  17.684688  17.588930\n",
       "949   15.878907  15.858613  15.859415  15.785184  15.780782  15.952686\n",
       "2655  13.335288  13.328622  13.327949  13.567408  13.580275  12.844415\n",
       "2545  18.285974  18.286174  18.286413  18.302773  18.303947  17.738437\n",
       "1980  15.650273  15.640175  15.640162  15.784092  15.788236  15.301103"
      ]
     },
     "execution_count": 324,
     "metadata": {
      "tags": []
     },
     "output_type": "execute_result"
    }
   ],
   "source": [
    "meta_tr.sample(10)"
   ]
  },
  {
   "cell_type": "code",
   "execution_count": 321,
   "metadata": {
    "colab": {
     "base_uri": "https://localhost:8080/",
     "height": 500
    },
    "colab_type": "code",
    "id": "1LlisN-0c29s",
    "outputId": "d7ca0b80-cd92-4416-dc88-51a9fd232809"
   },
   "outputs": [
    {
     "data": {
      "image/png": "[encoded data removed]",
      "text/plain": [
       "<Figure size 864x576 with 8 Axes>"
      ]
     },
     "metadata": {
      "tags": []
     },
     "output_type": "display_data"
    }
   ],
   "source": [
    "fig, axes = plt.subplots(2, 4, figsize = (12, 8))\n",
    "\n",
    "for i, col in enumerate(meta_tr.columns[meta_tr.columns != 'val']):\n",
    "  sns.regplot(x = col, y = 'val', data = meta_tr, ax = axes[i//4, i%4])"
   ]
  },
  {
   "cell_type": "code",
   "execution_count": 0,
   "metadata": {
    "colab": {},
    "colab_type": "code",
    "id": "lgx4ylqLhUOP"
   },
   "outputs": [],
   "source": [
    "#final = (meta_te.lr + meta_te.el + meta_te.rf)/3\n",
    "\n",
    "#final = (meta_te.lr + meta_te.el + meta_te.rd +  meta_te.rf2 + meta_te.ad)/5\n",
    "\n",
    "# Current Best score\n",
    "#final = (meta_te.lr + meta_te.el + meta_te.rd + meta_te.knn + meta_te.rf + meta_te.rf2 + meta_te.ad)/7\n",
    "final = (meta_te.lr + meta_te.el + meta_te.rd + meta_te.rf + meta_te.rf2 + meta_te.ad)/6"
   ]
  },
  {
   "cell_type": "code",
   "execution_count": 0,
   "metadata": {
    "colab": {},
    "colab_type": "code",
    "id": "VD0iib17Si4f"
   },
   "outputs": [],
   "source": [
    "meta_tr.drop(['knn', 'rf', 'xg'], axis = 1, inplace = True)\n",
    "meta_te.drop(['knn', 'rf', 'xg'], axis = 1, inplace = True)"
   ]
  },
  {
   "cell_type": "code",
   "execution_count": 0,
   "metadata": {
    "colab": {},
    "colab_type": "code",
    "id": "TXHcFpGSSiyd"
   },
   "outputs": [],
   "source": []
  },
  {
   "cell_type": "markdown",
   "metadata": {
    "colab_type": "text",
    "id": "aCBXfjcDhhVj"
   },
   "source": [
    "## 3rd Layer Modeling"
   ]
  },
  {
   "cell_type": "code",
   "execution_count": 0,
   "metadata": {
    "colab": {},
    "colab_type": "code",
    "id": "Eo2lh6eghhF0"
   },
   "outputs": [],
   "source": [
    "y = meta_tr.val\n",
    "X_tr = meta_tr.drop('val', axis = 1)\n",
    "\n",
    "te = meta_te"
   ]
  },
  {
   "cell_type": "code",
   "execution_count": 0,
   "metadata": {
    "colab": {},
    "colab_type": "code",
    "id": "Kp2AyU2ThqV7"
   },
   "outputs": [],
   "source": [
    "# Create meta-train set\n",
    "cols = ['lr', 'rd', 'rf', 'rf2']\n",
    "\n",
    "nrow = X.shape[0]\n",
    "ncol = len(cols)\n",
    "dims = np.zeros((nrow, ncol))\n",
    "\n",
    "meta_tr = pd.DataFrame(dims, columns = cols)\n",
    "meta_tr['val'] = 0\n",
    "\n",
    "# Create meta-test set\n",
    "nrow = te.shape[0]\n",
    "dims = np.zeros((nrow, ncol))\n",
    "meta_te = pd.DataFrame(dims, columns = cols)\n",
    "\n",
    "# Cross Validation\n",
    "k = 5\n",
    "seed = 10\n",
    "cv = KFold(n_splits = k, shuffle = True, random_state = seed)"
   ]
  },
  {
   "cell_type": "code",
   "execution_count": 332,
   "metadata": {
    "colab": {
     "base_uri": "https://localhost:8080/",
     "height": 301
    },
    "colab_type": "code",
    "id": "eQWc8lHohqNJ",
    "outputId": "2a61c0f8-3873-4843-b020-84bd5bd8f42b"
   },
   "outputs": [
    {
     "name": "stdout",
     "output_type": "stream",
     "text": [
      "=========0-th Fold Score: 1.8749219858756498\n"
     ]
    },
    {
     "name": "stderr",
     "output_type": "stream",
     "text": [
      "/usr/local/lib/python3.6/dist-packages/ipykernel_launcher.py:12: SettingWithCopyWarning: \n",
      "A value is trying to be set on a copy of a slice from a DataFrame\n",
      "\n",
      "See the caveats in the documentation: http://pandas.pydata.org/pandas-docs/stable/indexing.html#indexing-view-versus-copy\n",
      "  if sys.path[0] == '':\n"
     ]
    },
    {
     "name": "stdout",
     "output_type": "stream",
     "text": [
      "=========1-th Fold Score: 1.7264935076210974\n",
      "=========2-th Fold Score: 1.8345704477634586\n",
      "=========3-th Fold Score: 1.954080546930758\n",
      "=========4-th Fold Score: 1.8099007042821675\n",
      "=========Total Score:  1.8399934384946264\n"
     ]
    },
    {
     "name": "stderr",
     "output_type": "stream",
     "text": [
      "/usr/local/lib/python3.6/dist-packages/ipykernel_launcher.py:13: SettingWithCopyWarning: \n",
      "A value is trying to be set on a copy of a slice from a DataFrame\n",
      "\n",
      "See the caveats in the documentation: http://pandas.pydata.org/pandas-docs/stable/indexing.html#indexing-view-versus-copy\n",
      "  del sys.path[0]\n"
     ]
    }
   ],
   "source": [
    "model_lr = LinearRegression()\n",
    "kfold_validate(X_tr, y, te, model_lr, 'lr')    # 1.8417"
   ]
  },
  {
   "cell_type": "code",
   "execution_count": 333,
   "metadata": {
    "colab": {
     "base_uri": "https://localhost:8080/",
     "height": 124
    },
    "colab_type": "code",
    "id": "YoDCHD3cjZJQ",
    "outputId": "18e3dc2b-633e-4f13-aa30-549451c502f7"
   },
   "outputs": [
    {
     "name": "stdout",
     "output_type": "stream",
     "text": [
      "=========0-th Fold Score: 1.865633083073311\n",
      "=========1-th Fold Score: 1.7151360871446715\n",
      "=========2-th Fold Score: 1.8322725155930453\n",
      "=========3-th Fold Score: 1.9509797812790473\n",
      "=========4-th Fold Score: 1.8076914095074723\n",
      "=========Total Score:  1.8343425753195093\n"
     ]
    }
   ],
   "source": [
    "model_rd = Ridge(alpha = .01, normalize = True)\n",
    "kfold_validate(X_tr, y, te, model_rd, 'rd')     # 1.8332"
   ]
  },
  {
   "cell_type": "code",
   "execution_count": 334,
   "metadata": {
    "colab": {
     "base_uri": "https://localhost:8080/",
     "height": 124
    },
    "colab_type": "code",
    "id": "K_r7qWpehhAo",
    "outputId": "e733e8de-a2e5-406a-aead-e5773b65b5a3"
   },
   "outputs": [
    {
     "name": "stdout",
     "output_type": "stream",
     "text": [
      "=========0-th Fold Score: 1.864325941174517\n",
      "=========1-th Fold Score: 1.7652931136590646\n",
      "=========2-th Fold Score: 1.7900116320411033\n",
      "=========3-th Fold Score: 1.9829253104587667\n",
      "=========4-th Fold Score: 1.7558130279078095\n",
      "=========Total Score:  1.8316738050482524\n"
     ]
    }
   ],
   "source": [
    "model_rf = RandomForestRegressor(n_estimators = 3000, max_depth = 3)\n",
    "kfold_validate(X_tr, y, te, model_rf, 'rf')     # 1.8279"
   ]
  },
  {
   "cell_type": "code",
   "execution_count": 0,
   "metadata": {
    "colab": {
     "base_uri": "https://localhost:8080/",
     "height": 70
    },
    "colab_type": "code",
    "id": "VqNnioiDH-0o",
    "outputId": "51b0f4fe-d403-4a08-b5f7-0dbbf3358690"
   },
   "outputs": [
    {
     "name": "stdout",
     "output_type": "stream",
     "text": [
      "=========0-th Fold Score: 1.8553337124217975\n",
      "=========1-th Fold Score: 1.7989675153195728\n",
      "=========2-th Fold Score: 1.7921104728898203\n"
     ]
    }
   ],
   "source": [
    "model_rf = RandomForestRegressor(n_estimators = 2000, max_depth = 5)\n",
    "kfold_validate(X_tr, y, te, model_rf, 'rf2')    # 1.8289"
   ]
  },
  {
   "cell_type": "code",
   "execution_count": 0,
   "metadata": {
    "colab": {},
    "colab_type": "code",
    "id": "aR9-GnrrJHSQ"
   },
   "outputs": [],
   "source": [
    "meta_tr.sample(10)"
   ]
  },
  {
   "cell_type": "code",
   "execution_count": 283,
   "metadata": {
    "colab": {
     "base_uri": "https://localhost:8080/",
     "height": 337
    },
    "colab_type": "code",
    "id": "jWEkbYqpym1z",
    "outputId": "7ed9b668-91df-4793-fcca-e53d9ee49937"
   },
   "outputs": [
    {
     "data": {
      "image/png": "[encoded data removed]",
      "text/plain": [
       "<Figure size 864x360 with 4 Axes>"
      ]
     },
     "metadata": {
      "tags": []
     },
     "output_type": "display_data"
    }
   ],
   "source": [
    "fig, axes = plt.subplots(1, 5, figsize = (12, 5))\n",
    "\n",
    "for i, col in enumerate(meta_tr.columns[meta_tr.columns != 'val']):\n",
    "  sns.regplot(x = col, y = 'val', data = meta_tr, ax = axes[i%5])"
   ]
  },
  {
   "cell_type": "code",
   "execution_count": 0,
   "metadata": {
    "colab": {},
    "colab_type": "code",
    "id": "OZabt3TAp-Fw"
   },
   "outputs": [],
   "source": [
    "# Averaging the final result\n",
    "#final = (meta_te.lr + meta_te.rd + meta_te.rf2)/3\n",
    "#final = (meta_te.rf + meta_te.rf2)/2\n",
    "\n",
    "final = (meta_te.rf2 + meta_te.rd + meta_te.lr)/3"
   ]
  },
  {
   "cell_type": "markdown",
   "metadata": {
    "colab_type": "text",
    "id": "0bP7wUg5c26a"
   },
   "source": [
    "## Submission"
   ]
  },
  {
   "cell_type": "code",
   "execution_count": 0,
   "metadata": {
    "colab": {},
    "colab_type": "code",
    "id": "ro-_yBr6c5X2"
   },
   "outputs": [],
   "source": [
    "sub = pd.read_csv('sample_submission.csv')\n",
    "sub['revenue'] = np.expm1(final)\n",
    "\n",
    "sub.to_csv('mysub.csv', index = False)\n",
    "#files.download('mysub.csv')"
   ]
  },
  {
   "cell_type": "code",
   "execution_count": 224,
   "metadata": {
    "colab": {
     "base_uri": "https://localhost:8080/",
     "height": 35
    },
    "colab_type": "code",
    "id": "X4WmTEQZc22m",
    "outputId": "297a63f9-e622-4b82-db96-48f86e2c29d8"
   },
   "outputs": [
    {
     "data": {
      "text/plain": [
       "(4398, 2)"
      ]
     },
     "execution_count": 224,
     "metadata": {
      "tags": []
     },
     "output_type": "execute_result"
    }
   ],
   "source": [
    "sub.shape"
   ]
  },
  {
   "cell_type": "code",
   "execution_count": 0,
   "metadata": {
    "colab": {},
    "colab_type": "code",
    "id": "k5NAuinHc2T6"
   },
   "outputs": [],
   "source": [
    "from getpass import getpass\n",
    "import os \n",
    "\n",
    "user = 'jjone36'\n",
    "key = 'cf8dcde20a60798fe4fb91b2ba5158e8'\n",
    "\n",
    "if '.kaggle' not in os.listdir('/root'):\n",
    "    !mkdir ~/.kaggle\n",
    "!touch /root/.kaggle/kaggle.json\n",
    "!chmod 666 /root/.kaggle/kaggle.json\n",
    "with open('/root/.kaggle/kaggle.json', 'w') as f:\n",
    "    f.write('{\"username\":\"%s\",\"key\":\"%s\"}' % (user, key))\n",
    "!chmod 600 /root/.kaggle/kaggle.json"
   ]
  },
  {
   "cell_type": "code",
   "execution_count": 329,
   "metadata": {
    "colab": {
     "base_uri": "https://localhost:8080/",
     "height": 52
    },
    "colab_type": "code",
    "id": "NJhgXl4iB54B",
    "outputId": "2f785082-b1f9-48c6-f25e-2ccd4f785348"
   },
   "outputs": [
    {
     "name": "stdout",
     "output_type": "stream",
     "text": [
      "100% 100k/100k [00:12<00:00, 8.41kB/s]\n",
      "Successfully submitted to TMDB Box Office Prediction"
     ]
    }
   ],
   "source": [
    "!kaggle competitions submit -c tmdb-box-office-prediction -f mysub.csv -m \"keras add + 2nd lr 6 models\""
   ]
  },
  {
   "cell_type": "code",
   "execution_count": 0,
   "metadata": {
    "colab": {},
    "colab_type": "code",
    "id": "JxP4-sxGCIOH"
   },
   "outputs": [],
   "source": []
  }
 ],
 "metadata": {
  "accelerator": "GPU",
  "colab": {
   "collapsed_sections": [
    "7m-pRP_9u9pv",
    "z90yelYeTEjA",
    "6NXG_DRju2JU",
    "Vy4kWzmxOg5v",
    "flY-KV-lOgF7",
    "-U1IQlvkOYSs",
    "aSOZ4TdgmRc6",
    "fbeIIJLou4SO",
    "NY6rCN7PqLoT",
    "DA6Ci1O1u4-f",
    "Su-PJE39Yi2S"
   ],
   "name": "04_modeling_5(cv+stack).ipynb",
   "provenance": [],
   "version": "0.3.2"
  },
  "kernelspec": {
   "display_name": "Python 3",
   "language": "python",
   "name": "python3"
  },
  "language_info": {
   "codemirror_mode": {
    "name": "ipython",
    "version": 3
   },
   "file_extension": ".py",
   "mimetype": "text/x-python",
   "name": "python",
   "nbconvert_exporter": "python",
   "pygments_lexer": "ipython3",
   "version": "3.7.0"
  }
 },
 "nbformat": 4,
 "nbformat_minor": 1
}
