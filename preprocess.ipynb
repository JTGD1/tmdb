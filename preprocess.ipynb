{
 "cells": [
  {
   "cell_type": "code",
   "execution_count": 1,
   "metadata": {},
   "outputs": [],
   "source": [
    "import pandas as pd\n",
    "import numpy as np\n",
    "import matplotlib.pyplot as plt \n",
    "import seaborn as sns\n",
    "%matplotlib inline\n",
    "\n",
    "import ast\n",
    "from collections import Counter\n",
    "from datetime import date"
   ]
  },
  {
   "cell_type": "markdown",
   "metadata": {},
   "source": [
    "## 1. Import the dataset"
   ]
  },
  {
   "cell_type": "code",
   "execution_count": 2,
   "metadata": {},
   "outputs": [],
   "source": [
    "tr = pd.read_csv('data/train.csv')\n",
    "te = pd.read_csv('data/test.csv')"
   ]
  },
  {
   "cell_type": "code",
   "execution_count": 3,
   "metadata": {},
   "outputs": [
    {
     "data": {
      "text/html": [
       "<div>\n",
       "<style scoped>\n",
       "    .dataframe tbody tr th:only-of-type {\n",
       "        vertical-align: middle;\n",
       "    }\n",
       "\n",
       "    .dataframe tbody tr th {\n",
       "        vertical-align: top;\n",
       "    }\n",
       "\n",
       "    .dataframe thead th {\n",
       "        text-align: right;\n",
       "    }\n",
       "</style>\n",
       "<table border=\"1\" class=\"dataframe\">\n",
       "  <thead>\n",
       "    <tr style=\"text-align: right;\">\n",
       "      <th></th>\n",
       "      <th>id</th>\n",
       "      <th>belongs_to_collection</th>\n",
       "      <th>budget</th>\n",
       "      <th>genres</th>\n",
       "      <th>homepage</th>\n",
       "      <th>imdb_id</th>\n",
       "      <th>original_language</th>\n",
       "      <th>original_title</th>\n",
       "      <th>overview</th>\n",
       "      <th>popularity</th>\n",
       "      <th>...</th>\n",
       "      <th>release_date</th>\n",
       "      <th>runtime</th>\n",
       "      <th>spoken_languages</th>\n",
       "      <th>status</th>\n",
       "      <th>tagline</th>\n",
       "      <th>title</th>\n",
       "      <th>Keywords</th>\n",
       "      <th>cast</th>\n",
       "      <th>crew</th>\n",
       "      <th>revenue</th>\n",
       "    </tr>\n",
       "  </thead>\n",
       "  <tbody>\n",
       "    <tr>\n",
       "      <th>0</th>\n",
       "      <td>1</td>\n",
       "      <td>[{'id': 313576, 'name': 'Hot Tub Time Machine ...</td>\n",
       "      <td>14000000</td>\n",
       "      <td>[{'id': 35, 'name': 'Comedy'}]</td>\n",
       "      <td>NaN</td>\n",
       "      <td>tt2637294</td>\n",
       "      <td>en</td>\n",
       "      <td>Hot Tub Time Machine 2</td>\n",
       "      <td>When Lou, who has become the \"father of the In...</td>\n",
       "      <td>6.575393</td>\n",
       "      <td>...</td>\n",
       "      <td>2/20/15</td>\n",
       "      <td>93.0</td>\n",
       "      <td>[{'iso_639_1': 'en', 'name': 'English'}]</td>\n",
       "      <td>Released</td>\n",
       "      <td>The Laws of Space and Time are About to be Vio...</td>\n",
       "      <td>Hot Tub Time Machine 2</td>\n",
       "      <td>[{'id': 4379, 'name': 'time travel'}, {'id': 9...</td>\n",
       "      <td>[{'cast_id': 4, 'character': 'Lou', 'credit_id...</td>\n",
       "      <td>[{'credit_id': '59ac067c92514107af02c8c8', 'de...</td>\n",
       "      <td>12314651</td>\n",
       "    </tr>\n",
       "    <tr>\n",
       "      <th>1</th>\n",
       "      <td>2</td>\n",
       "      <td>[{'id': 107674, 'name': 'The Princess Diaries ...</td>\n",
       "      <td>40000000</td>\n",
       "      <td>[{'id': 35, 'name': 'Comedy'}, {'id': 18, 'nam...</td>\n",
       "      <td>NaN</td>\n",
       "      <td>tt0368933</td>\n",
       "      <td>en</td>\n",
       "      <td>The Princess Diaries 2: Royal Engagement</td>\n",
       "      <td>Mia Thermopolis is now a college graduate and ...</td>\n",
       "      <td>8.248895</td>\n",
       "      <td>...</td>\n",
       "      <td>8/6/04</td>\n",
       "      <td>113.0</td>\n",
       "      <td>[{'iso_639_1': 'en', 'name': 'English'}]</td>\n",
       "      <td>Released</td>\n",
       "      <td>It can take a lifetime to find true love; she'...</td>\n",
       "      <td>The Princess Diaries 2: Royal Engagement</td>\n",
       "      <td>[{'id': 2505, 'name': 'coronation'}, {'id': 42...</td>\n",
       "      <td>[{'cast_id': 1, 'character': 'Mia Thermopolis'...</td>\n",
       "      <td>[{'credit_id': '52fe43fe9251416c7502563d', 'de...</td>\n",
       "      <td>95149435</td>\n",
       "    </tr>\n",
       "    <tr>\n",
       "      <th>2</th>\n",
       "      <td>3</td>\n",
       "      <td>NaN</td>\n",
       "      <td>3300000</td>\n",
       "      <td>[{'id': 18, 'name': 'Drama'}]</td>\n",
       "      <td>http://sonyclassics.com/whiplash/</td>\n",
       "      <td>tt2582802</td>\n",
       "      <td>en</td>\n",
       "      <td>Whiplash</td>\n",
       "      <td>Under the direction of a ruthless instructor, ...</td>\n",
       "      <td>64.299990</td>\n",
       "      <td>...</td>\n",
       "      <td>10/10/14</td>\n",
       "      <td>105.0</td>\n",
       "      <td>[{'iso_639_1': 'en', 'name': 'English'}]</td>\n",
       "      <td>Released</td>\n",
       "      <td>The road to greatness can take you to the edge.</td>\n",
       "      <td>Whiplash</td>\n",
       "      <td>[{'id': 1416, 'name': 'jazz'}, {'id': 1523, 'n...</td>\n",
       "      <td>[{'cast_id': 5, 'character': 'Andrew Neimann',...</td>\n",
       "      <td>[{'credit_id': '54d5356ec3a3683ba0000039', 'de...</td>\n",
       "      <td>13092000</td>\n",
       "    </tr>\n",
       "  </tbody>\n",
       "</table>\n",
       "<p>3 rows × 23 columns</p>\n",
       "</div>"
      ],
      "text/plain": [
       "   id                              belongs_to_collection    budget  \\\n",
       "0   1  [{'id': 313576, 'name': 'Hot Tub Time Machine ...  14000000   \n",
       "1   2  [{'id': 107674, 'name': 'The Princess Diaries ...  40000000   \n",
       "2   3                                                NaN   3300000   \n",
       "\n",
       "                                              genres  \\\n",
       "0                     [{'id': 35, 'name': 'Comedy'}]   \n",
       "1  [{'id': 35, 'name': 'Comedy'}, {'id': 18, 'nam...   \n",
       "2                      [{'id': 18, 'name': 'Drama'}]   \n",
       "\n",
       "                            homepage    imdb_id original_language  \\\n",
       "0                                NaN  tt2637294                en   \n",
       "1                                NaN  tt0368933                en   \n",
       "2  http://sonyclassics.com/whiplash/  tt2582802                en   \n",
       "\n",
       "                             original_title  \\\n",
       "0                    Hot Tub Time Machine 2   \n",
       "1  The Princess Diaries 2: Royal Engagement   \n",
       "2                                  Whiplash   \n",
       "\n",
       "                                            overview  popularity    ...     \\\n",
       "0  When Lou, who has become the \"father of the In...    6.575393    ...      \n",
       "1  Mia Thermopolis is now a college graduate and ...    8.248895    ...      \n",
       "2  Under the direction of a ruthless instructor, ...   64.299990    ...      \n",
       "\n",
       "  release_date runtime                          spoken_languages    status  \\\n",
       "0      2/20/15    93.0  [{'iso_639_1': 'en', 'name': 'English'}]  Released   \n",
       "1       8/6/04   113.0  [{'iso_639_1': 'en', 'name': 'English'}]  Released   \n",
       "2     10/10/14   105.0  [{'iso_639_1': 'en', 'name': 'English'}]  Released   \n",
       "\n",
       "                                             tagline  \\\n",
       "0  The Laws of Space and Time are About to be Vio...   \n",
       "1  It can take a lifetime to find true love; she'...   \n",
       "2    The road to greatness can take you to the edge.   \n",
       "\n",
       "                                      title  \\\n",
       "0                    Hot Tub Time Machine 2   \n",
       "1  The Princess Diaries 2: Royal Engagement   \n",
       "2                                  Whiplash   \n",
       "\n",
       "                                            Keywords  \\\n",
       "0  [{'id': 4379, 'name': 'time travel'}, {'id': 9...   \n",
       "1  [{'id': 2505, 'name': 'coronation'}, {'id': 42...   \n",
       "2  [{'id': 1416, 'name': 'jazz'}, {'id': 1523, 'n...   \n",
       "\n",
       "                                                cast  \\\n",
       "0  [{'cast_id': 4, 'character': 'Lou', 'credit_id...   \n",
       "1  [{'cast_id': 1, 'character': 'Mia Thermopolis'...   \n",
       "2  [{'cast_id': 5, 'character': 'Andrew Neimann',...   \n",
       "\n",
       "                                                crew   revenue  \n",
       "0  [{'credit_id': '59ac067c92514107af02c8c8', 'de...  12314651  \n",
       "1  [{'credit_id': '52fe43fe9251416c7502563d', 'de...  95149435  \n",
       "2  [{'credit_id': '54d5356ec3a3683ba0000039', 'de...  13092000  \n",
       "\n",
       "[3 rows x 23 columns]"
      ]
     },
     "execution_count": 3,
     "metadata": {},
     "output_type": "execute_result"
    }
   ],
   "source": [
    "tr.head(3)"
   ]
  },
  {
   "cell_type": "code",
   "execution_count": 4,
   "metadata": {},
   "outputs": [
    {
     "name": "stdout",
     "output_type": "stream",
     "text": [
      "<class 'pandas.core.frame.DataFrame'>\n",
      "RangeIndex: 3000 entries, 0 to 2999\n",
      "Data columns (total 23 columns):\n",
      "id                       3000 non-null int64\n",
      "belongs_to_collection    604 non-null object\n",
      "budget                   3000 non-null int64\n",
      "genres                   2993 non-null object\n",
      "homepage                 946 non-null object\n",
      "imdb_id                  3000 non-null object\n",
      "original_language        3000 non-null object\n",
      "original_title           3000 non-null object\n",
      "overview                 2992 non-null object\n",
      "popularity               3000 non-null float64\n",
      "poster_path              2999 non-null object\n",
      "production_companies     2844 non-null object\n",
      "production_countries     2945 non-null object\n",
      "release_date             3000 non-null object\n",
      "runtime                  2998 non-null float64\n",
      "spoken_languages         2980 non-null object\n",
      "status                   3000 non-null object\n",
      "tagline                  2403 non-null object\n",
      "title                    3000 non-null object\n",
      "Keywords                 2724 non-null object\n",
      "cast                     2987 non-null object\n",
      "crew                     2984 non-null object\n",
      "revenue                  3000 non-null int64\n",
      "dtypes: float64(2), int64(3), object(18)\n",
      "memory usage: 539.1+ KB\n",
      "Data types : \n",
      " None\n",
      "\n",
      "Unique values :  \n",
      " id                       3000\n",
      "belongs_to_collection     422\n",
      "budget                    406\n",
      "genres                    872\n",
      "homepage                  941\n",
      "imdb_id                  3000\n",
      "original_language          36\n",
      "original_title           2975\n",
      "overview                 2992\n",
      "popularity               2999\n",
      "poster_path              2999\n",
      "production_companies     2383\n",
      "production_countries      321\n",
      "release_date             2398\n",
      "runtime                   139\n",
      "spoken_languages          401\n",
      "status                      2\n",
      "tagline                  2400\n",
      "title                    2969\n",
      "Keywords                 2648\n",
      "cast                     2975\n",
      "crew                     2984\n",
      "revenue                  2850\n",
      "dtype: int64\n",
      "\n",
      "Missing values :   id                          0\n",
      "belongs_to_collection    2396\n",
      "budget                      0\n",
      "genres                      7\n",
      "homepage                 2054\n",
      "imdb_id                     0\n",
      "original_language           0\n",
      "original_title              0\n",
      "overview                    8\n",
      "popularity                  0\n",
      "poster_path                 1\n",
      "production_companies      156\n",
      "production_countries       55\n",
      "release_date                0\n",
      "runtime                     2\n",
      "spoken_languages           20\n",
      "status                      0\n",
      "tagline                   597\n",
      "title                       0\n",
      "Keywords                  276\n",
      "cast                       13\n",
      "crew                       16\n",
      "revenue                     0\n",
      "dtype: int64\n"
     ]
    }
   ],
   "source": [
    "# Data overview\n",
    "print(\"Data types : \\n\" , tr.info())\n",
    "print(\"\\nUnique values :  \\n\", tr.nunique())\n",
    "print(\"\\nMissing values :  \", tr.isnull().sum())"
   ]
  },
  {
   "cell_type": "code",
   "execution_count": 5,
   "metadata": {},
   "outputs": [
    {
     "name": "stdout",
     "output_type": "stream",
     "text": [
      "<class 'pandas.core.frame.DataFrame'>\n",
      "RangeIndex: 4398 entries, 0 to 4397\n",
      "Data columns (total 22 columns):\n",
      "id                       4398 non-null int64\n",
      "belongs_to_collection    877 non-null object\n",
      "budget                   4398 non-null int64\n",
      "genres                   4382 non-null object\n",
      "homepage                 1420 non-null object\n",
      "imdb_id                  4398 non-null object\n",
      "original_language        4398 non-null object\n",
      "original_title           4398 non-null object\n",
      "overview                 4384 non-null object\n",
      "popularity               4398 non-null float64\n",
      "poster_path              4397 non-null object\n",
      "production_companies     4140 non-null object\n",
      "production_countries     4296 non-null object\n",
      "release_date             4397 non-null object\n",
      "runtime                  4394 non-null float64\n",
      "spoken_languages         4356 non-null object\n",
      "status                   4396 non-null object\n",
      "tagline                  3535 non-null object\n",
      "title                    4395 non-null object\n",
      "Keywords                 4005 non-null object\n",
      "cast                     4385 non-null object\n",
      "crew                     4376 non-null object\n",
      "dtypes: float64(2), int64(2), object(18)\n",
      "memory usage: 756.0+ KB\n",
      "Data types : \n",
      " None\n",
      "\n",
      "Unique values :  \n",
      " id                       4398\n",
      "belongs_to_collection     556\n",
      "budget                    511\n",
      "genres                   1101\n",
      "homepage                 1402\n",
      "imdb_id                  4398\n",
      "original_language          39\n",
      "original_title           4353\n",
      "overview                 4383\n",
      "popularity               4398\n",
      "poster_path              4397\n",
      "production_companies     3366\n",
      "production_countries      458\n",
      "release_date             3289\n",
      "runtime                   155\n",
      "spoken_languages          526\n",
      "status                      3\n",
      "tagline                  3529\n",
      "title                    4342\n",
      "Keywords                 3885\n",
      "cast                     4365\n",
      "crew                     4376\n",
      "dtype: int64\n",
      "\n",
      "Missing values :   id                          0\n",
      "belongs_to_collection    3521\n",
      "budget                      0\n",
      "genres                     16\n",
      "homepage                 2978\n",
      "imdb_id                     0\n",
      "original_language           0\n",
      "original_title              0\n",
      "overview                   14\n",
      "popularity                  0\n",
      "poster_path                 1\n",
      "production_companies      258\n",
      "production_countries      102\n",
      "release_date                1\n",
      "runtime                     4\n",
      "spoken_languages           42\n",
      "status                      2\n",
      "tagline                   863\n",
      "title                       3\n",
      "Keywords                  393\n",
      "cast                       13\n",
      "crew                       22\n",
      "dtype: int64\n"
     ]
    }
   ],
   "source": [
    "# Data overview\n",
    "print(\"Data types : \\n\" , te.info())\n",
    "print(\"\\nUnique values :  \\n\", te.nunique())\n",
    "print(\"\\nMissing values :  \", te.isnull().sum())"
   ]
  },
  {
   "cell_type": "code",
   "execution_count": 6,
   "metadata": {},
   "outputs": [],
   "source": [
    "# Separate categorical & numerical features\n",
    "cat_feats = tr.columns[tr.dtypes == 'object']\n",
    "num_feats = tr.columns[tr.dtypes != 'object']"
   ]
  },
  {
   "cell_type": "code",
   "execution_count": 7,
   "metadata": {},
   "outputs": [
    {
     "name": "stdout",
     "output_type": "stream",
     "text": [
      "Numeric variables  5\n",
      "['id' 'budget' 'popularity' 'runtime' 'revenue']\n"
     ]
    }
   ],
   "source": [
    "print(\"Numeric variables \", len(num_feats))\n",
    "print(num_feats.get_values())"
   ]
  },
  {
   "cell_type": "code",
   "execution_count": 8,
   "metadata": {},
   "outputs": [
    {
     "name": "stdout",
     "output_type": "stream",
     "text": [
      "Categorical variables :  18\n",
      "['belongs_to_collection' 'genres' 'homepage' 'imdb_id' 'original_language'\n",
      " 'original_title' 'overview' 'poster_path' 'production_companies'\n",
      " 'production_countries' 'release_date' 'spoken_languages' 'status'\n",
      " 'tagline' 'title' 'Keywords' 'cast' 'crew']\n"
     ]
    }
   ],
   "source": [
    "print(\"Categorical variables : \", len(cat_feats))\n",
    "print(cat_feats.get_values())"
   ]
  },
  {
   "cell_type": "code",
   "execution_count": 9,
   "metadata": {},
   "outputs": [],
   "source": [
    "# Cleaning- Budget, Revenue \n",
    "tr.loc[tr['id'] == 16,'revenue'] = 192864          # Skinning\n",
    "tr.loc[tr['id'] == 90,'budget'] = 30000000         # Sommersby          \n",
    "tr.loc[tr['id'] == 118,'budget'] = 60000000        # Wild Hogs\n",
    "tr.loc[tr['id'] == 149,'budget'] = 18000000        # Beethoven\n",
    "tr.loc[tr['id'] == 313,'revenue'] = 12000000       # The Cookout \n",
    "tr.loc[tr['id'] == 451,'revenue'] = 12000000       # Chasing Liberty\n",
    "tr.loc[tr['id'] == 464,'budget'] = 20000000        # Parenthood\n",
    "tr.loc[tr['id'] == 470,'budget'] = 13000000        # The Karate Kid, Part II\n",
    "tr.loc[tr['id'] == 513,'budget'] = 930000          # From Prada to Nada\n",
    "tr.loc[tr['id'] == 797,'budget'] = 8000000         # Welcome to Dongmakgol\n",
    "tr.loc[tr['id'] == 819,'budget'] = 90000000        # Alvin and the Chipmunks: The Road Chip\n",
    "tr.loc[tr['id'] == 850,'budget'] = 90000000        # Modern Times\n",
    "tr.loc[tr['id'] == 1007,'budget'] = 2              # Zyzzyx Road \n",
    "tr.loc[tr['id'] == 1112,'budget'] = 7500000        # An Officer and a Gentleman\n",
    "tr.loc[tr['id'] == 1131,'budget'] = 4300000        # Smokey and the Bandit   \n",
    "tr.loc[tr['id'] == 1359,'budget'] = 10000000       # Stir Crazy \n",
    "tr.loc[tr['id'] == 1542,'budget'] = 1              # All at Once\n",
    "tr.loc[tr['id'] == 1570,'budget'] = 15800000       # Crocodile Dundee II\n",
    "tr.loc[tr['id'] == 1571,'budget'] = 4000000        # Lady and the Tramp\n",
    "tr.loc[tr['id'] == 1714,'budget'] = 46000000       # The Recruit\n",
    "tr.loc[tr['id'] == 1721,'budget'] = 17500000       # Cocoon\n",
    "tr.loc[tr['id'] == 1865,'revenue'] = 25000000      # Scooby-Doo 2: Monsters Unleashed\n",
    "tr.loc[tr['id'] == 1885,'budget'] = 12             # In the Cut\n",
    "tr.loc[tr['id'] == 2091,'budget'] = 10             # Deadfall\n",
    "tr.loc[tr['id'] == 2268,'budget'] = 17500000       # Madea Goes to Jail budget\n",
    "tr.loc[tr['id'] == 2491,'budget'] = 6              # Never Talk to Strangers\n",
    "tr.loc[tr['id'] == 2602,'budget'] = 31000000       # Mr. Holland's Opus\n",
    "tr.loc[tr['id'] == 2612,'budget'] = 15000000       # Field of Dreams\n",
    "tr.loc[tr['id'] == 2696,'budget'] = 10000000       # Nurse 3-D\n",
    "tr.loc[tr['id'] == 2801,'budget'] = 10000000       # Fracture\n",
    "tr.loc[tr['id'] == 335,'budget'] = 2 \n",
    "tr.loc[tr['id'] == 348,'budget'] = 12\n",
    "tr.loc[tr['id'] == 470,'budget'] = 13000000 \n",
    "tr.loc[tr['id'] == 513,'budget'] = 1100000\n",
    "tr.loc[tr['id'] == 640,'budget'] = 6 \n",
    "tr.loc[tr['id'] == 696,'budget'] = 1\n",
    "tr.loc[tr['id'] == 797,'budget'] = 8000000 \n",
    "tr.loc[tr['id'] == 850,'budget'] = 1500000\n",
    "tr.loc[tr['id'] == 1199,'budget'] = 5 \n",
    "tr.loc[tr['id'] == 1282,'budget'] = 9               # Death at a Funeral\n",
    "tr.loc[tr['id'] == 1347,'budget'] = 1\n",
    "tr.loc[tr['id'] == 1755,'budget'] = 2\n",
    "tr.loc[tr['id'] == 1801,'budget'] = 5\n",
    "tr.loc[tr['id'] == 1918,'budget'] = 592 \n",
    "tr.loc[tr['id'] == 2033,'budget'] = 4\n",
    "tr.loc[tr['id'] == 2118,'budget'] = 344 \n",
    "tr.loc[tr['id'] == 2252,'budget'] = 130\n",
    "tr.loc[tr['id'] == 2256,'budget'] = 1 \n",
    "tr.loc[tr['id'] == 2696,'budget'] = 10000000"
   ]
  },
  {
   "cell_type": "code",
   "execution_count": 10,
   "metadata": {},
   "outputs": [],
   "source": [
    "te.loc[te['id'] == 6733,'budget'] = 5000000\n",
    "te.loc[te['id'] == 3889,'budget'] = 15000000\n",
    "te.loc[te['id'] == 6683,'budget'] = 50000000\n",
    "te.loc[te['id'] == 5704,'budget'] = 4300000\n",
    "te.loc[te['id'] == 6109,'budget'] = 281756\n",
    "te.loc[te['id'] == 7242,'budget'] = 10000000\n",
    "te.loc[te['id'] == 7021,'budget'] = 17540562       #  Two Is a Family\n",
    "te.loc[te['id'] == 5591,'budget'] = 4000000        # The Orphanage\n",
    "te.loc[te['id'] == 4282,'budget'] = 20000000       # Big Top Pee-wee\n",
    "te.loc[te['id'] == 3033,'budget'] = 250 \n",
    "te.loc[te['id'] == 3051,'budget'] = 50\n",
    "te.loc[te['id'] == 3084,'budget'] = 337\n",
    "te.loc[te['id'] == 3224,'budget'] = 4  \n",
    "te.loc[te['id'] == 3594,'budget'] = 25  \n",
    "te.loc[te['id'] == 3619,'budget'] = 500  \n",
    "te.loc[te['id'] == 3831,'budget'] = 3  \n",
    "te.loc[te['id'] == 3935,'budget'] = 500  \n",
    "te.loc[te['id'] == 4049,'budget'] = 995946 \n",
    "te.loc[te['id'] == 4424,'budget'] = 3  \n",
    "te.loc[te['id'] == 4460,'budget'] = 8  \n",
    "te.loc[te['id'] == 4555,'budget'] = 1200000 \n",
    "te.loc[te['id'] == 4624,'budget'] = 30 \n",
    "te.loc[te['id'] == 4645,'budget'] = 500 \n",
    "te.loc[te['id'] == 4709,'budget'] = 450 \n",
    "te.loc[te['id'] == 4839,'budget'] = 7\n",
    "te.loc[te['id'] == 3125,'budget'] = 25 \n",
    "te.loc[te['id'] == 3142,'budget'] = 1\n",
    "te.loc[te['id'] == 3201,'budget'] = 450\n",
    "te.loc[te['id'] == 3222,'budget'] = 6\n",
    "te.loc[te['id'] == 3545,'budget'] = 38\n",
    "te.loc[te['id'] == 3670,'budget'] = 18\n",
    "te.loc[te['id'] == 3792,'budget'] = 19\n",
    "te.loc[te['id'] == 3881,'budget'] = 7\n",
    "te.loc[te['id'] == 3969,'budget'] = 400\n",
    "te.loc[te['id'] == 4196,'budget'] = 6\n",
    "te.loc[te['id'] == 4221,'budget'] = 11\n",
    "te.loc[te['id'] == 4222,'budget'] = 500\n",
    "te.loc[te['id'] == 4285,'budget'] = 11\n",
    "te.loc[te['id'] == 4319,'budget'] = 1\n",
    "te.loc[te['id'] == 4639,'budget'] = 10\n",
    "te.loc[te['id'] == 4719,'budget'] = 45\n",
    "te.loc[te['id'] == 4822,'budget'] = 22\n",
    "te.loc[te['id'] == 4829,'budget'] = 20\n",
    "te.loc[te['id'] == 4969,'budget'] = 20\n",
    "te.loc[te['id'] == 5021,'budget'] = 40 \n",
    "te.loc[te['id'] == 5035,'budget'] = 1 \n",
    "te.loc[te['id'] == 5063,'budget'] = 14 \n",
    "te.loc[te['id'] == 5119,'budget'] = 2 \n",
    "te.loc[te['id'] == 5214,'budget'] = 30 \n",
    "te.loc[te['id'] == 5221,'budget'] = 50 \n",
    "te.loc[te['id'] == 4903,'budget'] = 15\n",
    "te.loc[te['id'] == 4983,'budget'] = 3\n",
    "te.loc[te['id'] == 5102,'budget'] = 28\n",
    "te.loc[te['id'] == 5217,'budget'] = 75\n",
    "te.loc[te['id'] == 5224,'budget'] = 3 \n",
    "te.loc[te['id'] == 5469,'budget'] = 20 \n",
    "te.loc[te['id'] == 5840,'budget'] = 1 \n",
    "te.loc[te['id'] == 5960,'budget'] = 30\n",
    "te.loc[te['id'] == 6506,'budget'] = 11 \n",
    "te.loc[te['id'] == 6553,'budget'] = 280\n",
    "te.loc[te['id'] == 6561,'budget'] = 7\n",
    "te.loc[te['id'] == 6582,'budget'] = 218\n",
    "te.loc[te['id'] == 6638,'budget'] = 5\n",
    "te.loc[te['id'] == 6749,'budget'] = 8 \n",
    "te.loc[te['id'] == 6759,'budget'] = 50 \n",
    "te.loc[te['id'] == 6856,'budget'] = 10\n",
    "te.loc[te['id'] == 6858,'budget'] =  100\n",
    "te.loc[te['id'] == 6876,'budget'] =  250\n",
    "te.loc[te['id'] == 6972,'budget'] = 1\n",
    "te.loc[te['id'] == 7079,'budget'] = 8000000\n",
    "te.loc[te['id'] == 7150,'budget'] = 118\n",
    "te.loc[te['id'] == 6506,'budget'] = 118\n",
    "te.loc[te['id'] == 7225,'budget'] = 6\n",
    "te.loc[te['id'] == 7231,'budget'] = 85\n",
    "te.loc[te['id'] == 5222,'budget'] = 5\n",
    "te.loc[te['id'] == 5322,'budget'] = 90\n",
    "te.loc[te['id'] == 5350,'budget'] = 70\n",
    "te.loc[te['id'] == 5378,'budget'] = 10\n",
    "te.loc[te['id'] == 5545,'budget'] = 80\n",
    "te.loc[te['id'] == 5810,'budget'] = 8\n",
    "te.loc[te['id'] == 5926,'budget'] = 300\n",
    "te.loc[te['id'] == 5927,'budget'] = 4\n",
    "te.loc[te['id'] == 5986,'budget'] = 1\n",
    "te.loc[te['id'] == 6053,'budget'] = 20\n",
    "te.loc[te['id'] == 6104,'budget'] = 1\n",
    "te.loc[te['id'] == 6130,'budget'] = 30\n",
    "te.loc[te['id'] == 6301,'budget'] = 150\n",
    "te.loc[te['id'] == 6276,'budget'] = 100\n",
    "te.loc[te['id'] == 6473,'budget'] = 100\n",
    "te.loc[te['id'] == 6842,'budget'] = 30"
   ]
  },
  {
   "cell_type": "markdown",
   "metadata": {},
   "source": [
    "## 2. Preprocessing"
   ]
  },
  {
   "cell_type": "code",
   "execution_count": 11,
   "metadata": {},
   "outputs": [],
   "source": [
    "# Separate categorical & numerical features\n",
    "tr_cat = tr[cat_feats]\n",
    "tr_num = tr[num_feats]"
   ]
  },
  {
   "cell_type": "code",
   "execution_count": 12,
   "metadata": {},
   "outputs": [],
   "source": [
    "te_cat = te[cat_feats]\n",
    "te_num = te[num_feats[:-1]]"
   ]
  },
  {
   "cell_type": "markdown",
   "metadata": {},
   "source": [
    "### 2-1. Numeric Features"
   ]
  },
  {
   "cell_type": "code",
   "execution_count": 13,
   "metadata": {},
   "outputs": [
    {
     "data": {
      "text/html": [
       "<div>\n",
       "<style scoped>\n",
       "    .dataframe tbody tr th:only-of-type {\n",
       "        vertical-align: middle;\n",
       "    }\n",
       "\n",
       "    .dataframe tbody tr th {\n",
       "        vertical-align: top;\n",
       "    }\n",
       "\n",
       "    .dataframe thead th {\n",
       "        text-align: right;\n",
       "    }\n",
       "</style>\n",
       "<table border=\"1\" class=\"dataframe\">\n",
       "  <thead>\n",
       "    <tr style=\"text-align: right;\">\n",
       "      <th></th>\n",
       "      <th>id</th>\n",
       "      <th>budget</th>\n",
       "      <th>popularity</th>\n",
       "      <th>runtime</th>\n",
       "      <th>revenue</th>\n",
       "    </tr>\n",
       "  </thead>\n",
       "  <tbody>\n",
       "    <tr>\n",
       "      <th>0</th>\n",
       "      <td>1</td>\n",
       "      <td>14000000</td>\n",
       "      <td>6.575393</td>\n",
       "      <td>93.0</td>\n",
       "      <td>12314651</td>\n",
       "    </tr>\n",
       "    <tr>\n",
       "      <th>1</th>\n",
       "      <td>2</td>\n",
       "      <td>40000000</td>\n",
       "      <td>8.248895</td>\n",
       "      <td>113.0</td>\n",
       "      <td>95149435</td>\n",
       "    </tr>\n",
       "    <tr>\n",
       "      <th>2</th>\n",
       "      <td>3</td>\n",
       "      <td>3300000</td>\n",
       "      <td>64.299990</td>\n",
       "      <td>105.0</td>\n",
       "      <td>13092000</td>\n",
       "    </tr>\n",
       "    <tr>\n",
       "      <th>3</th>\n",
       "      <td>4</td>\n",
       "      <td>1200000</td>\n",
       "      <td>3.174936</td>\n",
       "      <td>122.0</td>\n",
       "      <td>16000000</td>\n",
       "    </tr>\n",
       "    <tr>\n",
       "      <th>4</th>\n",
       "      <td>5</td>\n",
       "      <td>0</td>\n",
       "      <td>1.148070</td>\n",
       "      <td>118.0</td>\n",
       "      <td>3923970</td>\n",
       "    </tr>\n",
       "    <tr>\n",
       "      <th>5</th>\n",
       "      <td>6</td>\n",
       "      <td>8000000</td>\n",
       "      <td>0.743274</td>\n",
       "      <td>83.0</td>\n",
       "      <td>3261638</td>\n",
       "    </tr>\n",
       "    <tr>\n",
       "      <th>6</th>\n",
       "      <td>7</td>\n",
       "      <td>14000000</td>\n",
       "      <td>7.286477</td>\n",
       "      <td>92.0</td>\n",
       "      <td>85446075</td>\n",
       "    </tr>\n",
       "    <tr>\n",
       "      <th>7</th>\n",
       "      <td>8</td>\n",
       "      <td>0</td>\n",
       "      <td>1.949044</td>\n",
       "      <td>84.0</td>\n",
       "      <td>2586511</td>\n",
       "    </tr>\n",
       "    <tr>\n",
       "      <th>8</th>\n",
       "      <td>9</td>\n",
       "      <td>0</td>\n",
       "      <td>6.902423</td>\n",
       "      <td>100.0</td>\n",
       "      <td>34327391</td>\n",
       "    </tr>\n",
       "    <tr>\n",
       "      <th>9</th>\n",
       "      <td>10</td>\n",
       "      <td>6000000</td>\n",
       "      <td>4.672036</td>\n",
       "      <td>91.0</td>\n",
       "      <td>18750246</td>\n",
       "    </tr>\n",
       "  </tbody>\n",
       "</table>\n",
       "</div>"
      ],
      "text/plain": [
       "   id    budget  popularity  runtime   revenue\n",
       "0   1  14000000    6.575393     93.0  12314651\n",
       "1   2  40000000    8.248895    113.0  95149435\n",
       "2   3   3300000   64.299990    105.0  13092000\n",
       "3   4   1200000    3.174936    122.0  16000000\n",
       "4   5         0    1.148070    118.0   3923970\n",
       "5   6   8000000    0.743274     83.0   3261638\n",
       "6   7  14000000    7.286477     92.0  85446075\n",
       "7   8         0    1.949044     84.0   2586511\n",
       "8   9         0    6.902423    100.0  34327391\n",
       "9  10   6000000    4.672036     91.0  18750246"
      ]
     },
     "execution_count": 13,
     "metadata": {},
     "output_type": "execute_result"
    }
   ],
   "source": [
    "tr_num.head(10)"
   ]
  },
  {
   "cell_type": "code",
   "execution_count": 14,
   "metadata": {},
   "outputs": [
    {
     "data": {
      "text/html": [
       "<div>\n",
       "<style scoped>\n",
       "    .dataframe tbody tr th:only-of-type {\n",
       "        vertical-align: middle;\n",
       "    }\n",
       "\n",
       "    .dataframe tbody tr th {\n",
       "        vertical-align: top;\n",
       "    }\n",
       "\n",
       "    .dataframe thead th {\n",
       "        text-align: right;\n",
       "    }\n",
       "</style>\n",
       "<table border=\"1\" class=\"dataframe\">\n",
       "  <thead>\n",
       "    <tr style=\"text-align: right;\">\n",
       "      <th></th>\n",
       "      <th>id</th>\n",
       "      <th>budget</th>\n",
       "      <th>popularity</th>\n",
       "      <th>runtime</th>\n",
       "      <th>revenue</th>\n",
       "    </tr>\n",
       "  </thead>\n",
       "  <tbody>\n",
       "    <tr>\n",
       "      <th>count</th>\n",
       "      <td>3000.000000</td>\n",
       "      <td>3.000000e+03</td>\n",
       "      <td>3000.000000</td>\n",
       "      <td>2998.000000</td>\n",
       "      <td>3.000000e+03</td>\n",
       "    </tr>\n",
       "    <tr>\n",
       "      <th>mean</th>\n",
       "      <td>1500.500000</td>\n",
       "      <td>2.266135e+07</td>\n",
       "      <td>8.463274</td>\n",
       "      <td>107.856571</td>\n",
       "      <td>6.668176e+07</td>\n",
       "    </tr>\n",
       "    <tr>\n",
       "      <th>std</th>\n",
       "      <td>866.169729</td>\n",
       "      <td>3.702662e+07</td>\n",
       "      <td>12.104000</td>\n",
       "      <td>22.086434</td>\n",
       "      <td>1.375149e+08</td>\n",
       "    </tr>\n",
       "    <tr>\n",
       "      <th>min</th>\n",
       "      <td>1.000000</td>\n",
       "      <td>0.000000e+00</td>\n",
       "      <td>0.000001</td>\n",
       "      <td>0.000000</td>\n",
       "      <td>1.000000e+00</td>\n",
       "    </tr>\n",
       "    <tr>\n",
       "      <th>25%</th>\n",
       "      <td>750.750000</td>\n",
       "      <td>0.000000e+00</td>\n",
       "      <td>4.018053</td>\n",
       "      <td>94.000000</td>\n",
       "      <td>2.401550e+06</td>\n",
       "    </tr>\n",
       "    <tr>\n",
       "      <th>50%</th>\n",
       "      <td>1500.500000</td>\n",
       "      <td>8.000000e+06</td>\n",
       "      <td>7.374861</td>\n",
       "      <td>104.000000</td>\n",
       "      <td>1.680707e+07</td>\n",
       "    </tr>\n",
       "    <tr>\n",
       "      <th>75%</th>\n",
       "      <td>2250.250000</td>\n",
       "      <td>3.000000e+07</td>\n",
       "      <td>10.890983</td>\n",
       "      <td>118.000000</td>\n",
       "      <td>6.877599e+07</td>\n",
       "    </tr>\n",
       "    <tr>\n",
       "      <th>max</th>\n",
       "      <td>3000.000000</td>\n",
       "      <td>3.800000e+08</td>\n",
       "      <td>294.337037</td>\n",
       "      <td>338.000000</td>\n",
       "      <td>1.519558e+09</td>\n",
       "    </tr>\n",
       "  </tbody>\n",
       "</table>\n",
       "</div>"
      ],
      "text/plain": [
       "                id        budget   popularity      runtime       revenue\n",
       "count  3000.000000  3.000000e+03  3000.000000  2998.000000  3.000000e+03\n",
       "mean   1500.500000  2.266135e+07     8.463274   107.856571  6.668176e+07\n",
       "std     866.169729  3.702662e+07    12.104000    22.086434  1.375149e+08\n",
       "min       1.000000  0.000000e+00     0.000001     0.000000  1.000000e+00\n",
       "25%     750.750000  0.000000e+00     4.018053    94.000000  2.401550e+06\n",
       "50%    1500.500000  8.000000e+06     7.374861   104.000000  1.680707e+07\n",
       "75%    2250.250000  3.000000e+07    10.890983   118.000000  6.877599e+07\n",
       "max    3000.000000  3.800000e+08   294.337037   338.000000  1.519558e+09"
      ]
     },
     "execution_count": 14,
     "metadata": {},
     "output_type": "execute_result"
    }
   ],
   "source": [
    "tr_num.describe()"
   ]
  },
  {
   "cell_type": "code",
   "execution_count": 15,
   "metadata": {},
   "outputs": [
    {
     "name": "stderr",
     "output_type": "stream",
     "text": [
      "C:\\Users\\jjone\\Anaconda3\\lib\\site-packages\\scipy\\stats\\stats.py:1713: FutureWarning: Using a non-tuple sequence for multidimensional indexing is deprecated; use `arr[tuple(seq)]` instead of `arr[seq]`. In the future this will be interpreted as an array index, `arr[np.array(seq)]`, which will result either in an error or a different result.\n",
      "  return np.add.reduce(sorted[indexer] * weights, axis=axis) / sumval\n",
      "C:\\Users\\jjone\\Anaconda3\\lib\\site-packages\\statsmodels\\nonparametric\\kde.py:448: RuntimeWarning: invalid value encountered in greater\n",
      "  X = X[np.logical_and(X > clip[0], X < clip[1])] # won't work for two columns.\n",
      "C:\\Users\\jjone\\Anaconda3\\lib\\site-packages\\statsmodels\\nonparametric\\kde.py:448: RuntimeWarning: invalid value encountered in less\n",
      "  X = X[np.logical_and(X > clip[0], X < clip[1])] # won't work for two columns.\n"
     ]
    },
    {
     "data": {
      "image/png": "[encoded data removed]",
      "text/plain": [
       "<Figure size 720x360 with 3 Axes>"
      ]
     },
     "metadata": {
      "needs_background": "light"
     },
     "output_type": "display_data"
    }
   ],
   "source": [
    "# Distributions of numeric features in train set\n",
    "plt.figure(figsize = (10, 5))    \n",
    "for i in range(0, 3):\n",
    "    plt.subplot(3, 1, i+1)\n",
    "    sns.kdeplot(tr_num.iloc[:, i+1], shade = 'b')\n",
    "    plt.subplots_adjust(wspace = .5, hspace = .5)"
   ]
  },
  {
   "cell_type": "code",
   "execution_count": 16,
   "metadata": {},
   "outputs": [
    {
     "name": "stderr",
     "output_type": "stream",
     "text": [
      "C:\\Users\\jjone\\Anaconda3\\lib\\site-packages\\scipy\\stats\\stats.py:1713: FutureWarning: Using a non-tuple sequence for multidimensional indexing is deprecated; use `arr[tuple(seq)]` instead of `arr[seq]`. In the future this will be interpreted as an array index, `arr[np.array(seq)]`, which will result either in an error or a different result.\n",
      "  return np.add.reduce(sorted[indexer] * weights, axis=axis) / sumval\n",
      "C:\\Users\\jjone\\Anaconda3\\lib\\site-packages\\statsmodels\\nonparametric\\kde.py:448: RuntimeWarning: invalid value encountered in greater\n",
      "  X = X[np.logical_and(X > clip[0], X < clip[1])] # won't work for two columns.\n",
      "C:\\Users\\jjone\\Anaconda3\\lib\\site-packages\\statsmodels\\nonparametric\\kde.py:448: RuntimeWarning: invalid value encountered in less\n",
      "  X = X[np.logical_and(X > clip[0], X < clip[1])] # won't work for two columns.\n"
     ]
    },
    {
     "data": {
      "image/png": "[encoded data removed]",
      "text/plain": [
       "<Figure size 720x360 with 3 Axes>"
      ]
     },
     "metadata": {
      "needs_background": "light"
     },
     "output_type": "display_data"
    }
   ],
   "source": [
    "# Distributions of numeric features in test set\n",
    "plt.figure(figsize = (10, 5))    \n",
    "for i in range(0, 3):\n",
    "    plt.subplot(3, 1, i+1)\n",
    "    sns.kdeplot(te_num.iloc[:, i+1], shade = 'b')\n",
    "    plt.subplots_adjust(wspace = .5, hspace = .5)"
   ]
  },
  {
   "cell_type": "code",
   "execution_count": 17,
   "metadata": {},
   "outputs": [
    {
     "name": "stderr",
     "output_type": "stream",
     "text": [
      "C:\\Users\\jjone\\Anaconda3\\lib\\site-packages\\ipykernel_launcher.py:1: SettingWithCopyWarning: \n",
      "A value is trying to be set on a copy of a slice from a DataFrame.\n",
      "Try using .loc[row_indexer,col_indexer] = value instead\n",
      "\n",
      "See the caveats in the documentation: http://pandas.pydata.org/pandas-docs/stable/indexing.html#indexing-view-versus-copy\n",
      "  \"\"\"Entry point for launching an IPython kernel.\n"
     ]
    }
   ],
   "source": [
    "tr_num['runtime_h'], tr_num['runtime_m'] = tr_num.runtime // 60, tr_num.runtime % 60\n",
    "te_num['runtime_h'], te_num['runtime_m'] = te_num.runtime // 60, te_num.runtime % 60"
   ]
  },
  {
   "cell_type": "code",
   "execution_count": 19,
   "metadata": {},
   "outputs": [
    {
     "name": "stderr",
     "output_type": "stream",
     "text": [
      "C:\\Users\\jjone\\Anaconda3\\lib\\site-packages\\numpy\\lib\\histograms.py:754: RuntimeWarning: invalid value encountered in greater_equal\n",
      "  keep = (tmp_a >= first_edge)\n",
      "C:\\Users\\jjone\\Anaconda3\\lib\\site-packages\\numpy\\lib\\histograms.py:755: RuntimeWarning: invalid value encountered in less_equal\n",
      "  keep &= (tmp_a <= last_edge)\n"
     ]
    },
    {
     "data": {
      "text/plain": [
       "<seaborn.axisgrid.PairGrid at 0x25a3096f208>"
      ]
     },
     "execution_count": 19,
     "metadata": {},
     "output_type": "execute_result"
    },
    {
     "data": {
      "image/png": "[encoded data removed]",
      "text/plain": [
       "<Figure size 1080x1080 with 42 Axes>"
      ]
     },
     "metadata": {
      "needs_background": "light"
     },
     "output_type": "display_data"
    }
   ],
   "source": [
    "sns.pairplot(tr_num.iloc[:, 1:])"
   ]
  },
  {
   "cell_type": "code",
   "execution_count": null,
   "metadata": {},
   "outputs": [],
   "source": []
  },
  {
   "cell_type": "code",
   "execution_count": null,
   "metadata": {},
   "outputs": [],
   "source": []
  },
  {
   "cell_type": "markdown",
   "metadata": {},
   "source": [
    "### 2-2. Categorical Features"
   ]
  },
  {
   "cell_type": "code",
   "execution_count": 20,
   "metadata": {},
   "outputs": [],
   "source": [
    "# Concat train and test set\n",
    "cut = len(tr)\n",
    "df_cat = pd.concat([tr_cat, te_cat], axis = 0)\n",
    "df_cat = df_cat.reset_index(drop = True)"
   ]
  },
  {
   "cell_type": "code",
   "execution_count": 34,
   "metadata": {},
   "outputs": [
    {
     "data": {
      "text/html": [
       "<div>\n",
       "<style scoped>\n",
       "    .dataframe tbody tr th:only-of-type {\n",
       "        vertical-align: middle;\n",
       "    }\n",
       "\n",
       "    .dataframe tbody tr th {\n",
       "        vertical-align: top;\n",
       "    }\n",
       "\n",
       "    .dataframe thead th {\n",
       "        text-align: right;\n",
       "    }\n",
       "</style>\n",
       "<table border=\"1\" class=\"dataframe\">\n",
       "  <thead>\n",
       "    <tr style=\"text-align: right;\">\n",
       "      <th></th>\n",
       "      <th>belongs_to_collection</th>\n",
       "      <th>genres</th>\n",
       "      <th>homepage</th>\n",
       "      <th>imdb_id</th>\n",
       "      <th>original_language</th>\n",
       "      <th>original_title</th>\n",
       "      <th>overview</th>\n",
       "      <th>poster_path</th>\n",
       "      <th>production_companies</th>\n",
       "      <th>production_countries</th>\n",
       "      <th>...</th>\n",
       "      <th>tagline</th>\n",
       "      <th>title</th>\n",
       "      <th>Keywords</th>\n",
       "      <th>cast</th>\n",
       "      <th>crew</th>\n",
       "      <th>n_genres</th>\n",
       "      <th>n_spoken_languages</th>\n",
       "      <th>n_production_companies</th>\n",
       "      <th>n_production_countries</th>\n",
       "      <th>is_collection</th>\n",
       "    </tr>\n",
       "  </thead>\n",
       "  <tbody>\n",
       "    <tr>\n",
       "      <th>0</th>\n",
       "      <td>[{'id': 313576, 'name': 'Hot Tub Time Machine ...</td>\n",
       "      <td>Comedy;</td>\n",
       "      <td>NaN</td>\n",
       "      <td>tt2637294</td>\n",
       "      <td>en</td>\n",
       "      <td>Hot Tub Time Machine 2</td>\n",
       "      <td>When Lou, who has become the \"father of the In...</td>\n",
       "      <td>/tQtWuwvMf0hCc2QR2tkolwl7c3c.jpg</td>\n",
       "      <td>Paramount Pictures;United Artists;Metro-Goldwy...</td>\n",
       "      <td>US;</td>\n",
       "      <td>...</td>\n",
       "      <td>The Laws of Space and Time are About to be Vio...</td>\n",
       "      <td>Hot Tub Time Machine 2</td>\n",
       "      <td>[{'id': 4379, 'name': 'time travel'}, {'id': 9...</td>\n",
       "      <td>[{'cast_id': 4, 'character': 'Lou', 'credit_id...</td>\n",
       "      <td>[{'credit_id': '59ac067c92514107af02c8c8', 'de...</td>\n",
       "      <td>1</td>\n",
       "      <td>1</td>\n",
       "      <td>3</td>\n",
       "      <td>1</td>\n",
       "      <td>True</td>\n",
       "    </tr>\n",
       "    <tr>\n",
       "      <th>1</th>\n",
       "      <td>[{'id': 107674, 'name': 'The Princess Diaries ...</td>\n",
       "      <td>Comedy;Drama;Family;Romance;</td>\n",
       "      <td>NaN</td>\n",
       "      <td>tt0368933</td>\n",
       "      <td>en</td>\n",
       "      <td>The Princess Diaries 2: Royal Engagement</td>\n",
       "      <td>Mia Thermopolis is now a college graduate and ...</td>\n",
       "      <td>/w9Z7A0GHEhIp7etpj0vyKOeU1Wx.jpg</td>\n",
       "      <td>Walt Disney Pictures;</td>\n",
       "      <td>US;</td>\n",
       "      <td>...</td>\n",
       "      <td>It can take a lifetime to find true love; she'...</td>\n",
       "      <td>The Princess Diaries 2: Royal Engagement</td>\n",
       "      <td>[{'id': 2505, 'name': 'coronation'}, {'id': 42...</td>\n",
       "      <td>[{'cast_id': 1, 'character': 'Mia Thermopolis'...</td>\n",
       "      <td>[{'credit_id': '52fe43fe9251416c7502563d', 'de...</td>\n",
       "      <td>4</td>\n",
       "      <td>1</td>\n",
       "      <td>1</td>\n",
       "      <td>1</td>\n",
       "      <td>True</td>\n",
       "    </tr>\n",
       "    <tr>\n",
       "      <th>2</th>\n",
       "      <td>NaN</td>\n",
       "      <td>Drama;</td>\n",
       "      <td>http://sonyclassics.com/whiplash/</td>\n",
       "      <td>tt2582802</td>\n",
       "      <td>en</td>\n",
       "      <td>Whiplash</td>\n",
       "      <td>Under the direction of a ruthless instructor, ...</td>\n",
       "      <td>/lIv1QinFqz4dlp5U4lQ6HaiskOZ.jpg</td>\n",
       "      <td>Bold Films;Blumhouse Productions;Right of Way ...</td>\n",
       "      <td>US;</td>\n",
       "      <td>...</td>\n",
       "      <td>The road to greatness can take you to the edge.</td>\n",
       "      <td>Whiplash</td>\n",
       "      <td>[{'id': 1416, 'name': 'jazz'}, {'id': 1523, 'n...</td>\n",
       "      <td>[{'cast_id': 5, 'character': 'Andrew Neimann',...</td>\n",
       "      <td>[{'credit_id': '54d5356ec3a3683ba0000039', 'de...</td>\n",
       "      <td>1</td>\n",
       "      <td>1</td>\n",
       "      <td>3</td>\n",
       "      <td>1</td>\n",
       "      <td>False</td>\n",
       "    </tr>\n",
       "  </tbody>\n",
       "</table>\n",
       "<p>3 rows × 23 columns</p>\n",
       "</div>"
      ],
      "text/plain": [
       "                               belongs_to_collection  \\\n",
       "0  [{'id': 313576, 'name': 'Hot Tub Time Machine ...   \n",
       "1  [{'id': 107674, 'name': 'The Princess Diaries ...   \n",
       "2                                                NaN   \n",
       "\n",
       "                         genres                           homepage    imdb_id  \\\n",
       "0                       Comedy;                                NaN  tt2637294   \n",
       "1  Comedy;Drama;Family;Romance;                                NaN  tt0368933   \n",
       "2                        Drama;  http://sonyclassics.com/whiplash/  tt2582802   \n",
       "\n",
       "  original_language                            original_title  \\\n",
       "0                en                    Hot Tub Time Machine 2   \n",
       "1                en  The Princess Diaries 2: Royal Engagement   \n",
       "2                en                                  Whiplash   \n",
       "\n",
       "                                            overview  \\\n",
       "0  When Lou, who has become the \"father of the In...   \n",
       "1  Mia Thermopolis is now a college graduate and ...   \n",
       "2  Under the direction of a ruthless instructor, ...   \n",
       "\n",
       "                        poster_path  \\\n",
       "0  /tQtWuwvMf0hCc2QR2tkolwl7c3c.jpg   \n",
       "1  /w9Z7A0GHEhIp7etpj0vyKOeU1Wx.jpg   \n",
       "2  /lIv1QinFqz4dlp5U4lQ6HaiskOZ.jpg   \n",
       "\n",
       "                                production_companies production_countries  \\\n",
       "0  Paramount Pictures;United Artists;Metro-Goldwy...                  US;   \n",
       "1                              Walt Disney Pictures;                  US;   \n",
       "2  Bold Films;Blumhouse Productions;Right of Way ...                  US;   \n",
       "\n",
       "       ...                                                  tagline  \\\n",
       "0      ...        The Laws of Space and Time are About to be Vio...   \n",
       "1      ...        It can take a lifetime to find true love; she'...   \n",
       "2      ...          The road to greatness can take you to the edge.   \n",
       "\n",
       "                                      title  \\\n",
       "0                    Hot Tub Time Machine 2   \n",
       "1  The Princess Diaries 2: Royal Engagement   \n",
       "2                                  Whiplash   \n",
       "\n",
       "                                            Keywords  \\\n",
       "0  [{'id': 4379, 'name': 'time travel'}, {'id': 9...   \n",
       "1  [{'id': 2505, 'name': 'coronation'}, {'id': 42...   \n",
       "2  [{'id': 1416, 'name': 'jazz'}, {'id': 1523, 'n...   \n",
       "\n",
       "                                                cast  \\\n",
       "0  [{'cast_id': 4, 'character': 'Lou', 'credit_id...   \n",
       "1  [{'cast_id': 1, 'character': 'Mia Thermopolis'...   \n",
       "2  [{'cast_id': 5, 'character': 'Andrew Neimann',...   \n",
       "\n",
       "                                                crew n_genres  \\\n",
       "0  [{'credit_id': '59ac067c92514107af02c8c8', 'de...        1   \n",
       "1  [{'credit_id': '52fe43fe9251416c7502563d', 'de...        4   \n",
       "2  [{'credit_id': '54d5356ec3a3683ba0000039', 'de...        1   \n",
       "\n",
       "  n_spoken_languages n_production_companies  n_production_countries  \\\n",
       "0                  1                      3                       1   \n",
       "1                  1                      1                       1   \n",
       "2                  1                      3                       1   \n",
       "\n",
       "   is_collection  \n",
       "0           True  \n",
       "1           True  \n",
       "2          False  \n",
       "\n",
       "[3 rows x 23 columns]"
      ]
     },
     "execution_count": 34,
     "metadata": {},
     "output_type": "execute_result"
    }
   ],
   "source": [
    "df_cat.head(3)"
   ]
  },
  {
   "cell_type": "code",
   "execution_count": 22,
   "metadata": {},
   "outputs": [],
   "source": [
    "def list_to_dict(row, a):\n",
    "    # Convert to dict\n",
    "    dict_list = ast.literal_eval(row)\n",
    "    temp = ''\n",
    "    for d in dict_list:\n",
    "        if(a in d.keys()):\n",
    "            temp += d[a] + ';'\n",
    "    return temp"
   ]
  },
  {
   "cell_type": "code",
   "execution_count": 23,
   "metadata": {},
   "outputs": [],
   "source": [
    "def dict_to_col(col, key_name):\n",
    "    # Fill NAs\n",
    "    df_cat[col] = df_cat[col].fillna('[{}]')\n",
    "    # Get the element list\n",
    "    df_cat[col] = df_cat[col].apply(lambda row: list_to_dict(row, key_name))\n",
    "    # The number of elements\n",
    "    df_cat['n_'+col] = df_cat[col].apply(lambda row: len(row.split(';')) - 1)"
   ]
  },
  {
   "cell_type": "markdown",
   "metadata": {},
   "source": [
    "### genres"
   ]
  },
  {
   "cell_type": "code",
   "execution_count": 24,
   "metadata": {},
   "outputs": [],
   "source": [
    "# Processing the genre column\n",
    "dict_to_col('genres', 'name')"
   ]
  },
  {
   "cell_type": "markdown",
   "metadata": {},
   "source": [
    "### spoken_language"
   ]
  },
  {
   "cell_type": "code",
   "execution_count": 25,
   "metadata": {},
   "outputs": [
    {
     "data": {
      "text/plain": [
       "\"[{'iso_639_1': 'en', 'name': 'English'}, {'iso_639_1': 'hi', 'name': 'हिन्दी'}]\""
      ]
     },
     "execution_count": 25,
     "metadata": {},
     "output_type": "execute_result"
    }
   ],
   "source": [
    "df_cat.spoken_languages[3]"
   ]
  },
  {
   "cell_type": "code",
   "execution_count": 26,
   "metadata": {},
   "outputs": [],
   "source": [
    "# Processing the spoken language column\n",
    "dict_to_col('spoken_languages', 'iso_639_1')"
   ]
  },
  {
   "cell_type": "markdown",
   "metadata": {},
   "source": [
    "### production companies and countries"
   ]
  },
  {
   "cell_type": "code",
   "execution_count": 27,
   "metadata": {},
   "outputs": [
    {
     "data": {
      "text/plain": [
       "\"[{'name': 'Epic Productions', 'id': 1988}, {'name': 'Vision International', 'id': 3603}, {'name': 'Vision PDG', 'id': 4109}, {'name': 'Trans World Entertainment (TWE)', 'id': 17915}]\""
      ]
     },
     "execution_count": 27,
     "metadata": {},
     "output_type": "execute_result"
    }
   ],
   "source": [
    "df_cat.production_companies[100]"
   ]
  },
  {
   "cell_type": "code",
   "execution_count": 28,
   "metadata": {},
   "outputs": [
    {
     "data": {
      "text/plain": [
       "\"[{'iso_3166_1': 'US', 'name': 'United States of America'}]\""
      ]
     },
     "execution_count": 28,
     "metadata": {},
     "output_type": "execute_result"
    }
   ],
   "source": [
    "df_cat.production_countries[100]"
   ]
  },
  {
   "cell_type": "code",
   "execution_count": 29,
   "metadata": {},
   "outputs": [],
   "source": [
    "# Processing the production company & country column\n",
    "dict_to_col('production_companies', 'name')\n",
    "dict_to_col('production_countries', 'iso_3166_1')"
   ]
  },
  {
   "cell_type": "code",
   "execution_count": null,
   "metadata": {},
   "outputs": [],
   "source": []
  },
  {
   "cell_type": "markdown",
   "metadata": {},
   "source": [
    "### belongs to collection"
   ]
  },
  {
   "cell_type": "code",
   "execution_count": 30,
   "metadata": {},
   "outputs": [
    {
     "data": {
      "text/plain": [
       "\"[{'id': 107674, 'name': 'The Princess Diaries Collection', 'poster_path': '/wt5AMbxPTS4Kfjx7Fgm149qPfZl.jpg', 'backdrop_path': '/zSEtYD77pKRJlUPx34BJgUG9v1c.jpg'}]\""
      ]
     },
     "execution_count": 30,
     "metadata": {},
     "output_type": "execute_result"
    }
   ],
   "source": [
    "df_cat.belongs_to_collection[1]"
   ]
  },
  {
   "cell_type": "code",
   "execution_count": 31,
   "metadata": {},
   "outputs": [],
   "source": [
    "df_cat['is_collection'] = df_cat.belongs_to_collection.notnull()"
   ]
  },
  {
   "cell_type": "code",
   "execution_count": null,
   "metadata": {},
   "outputs": [],
   "source": []
  },
  {
   "cell_type": "markdown",
   "metadata": {},
   "source": [
    "### release date"
   ]
  },
  {
   "cell_type": "code",
   "execution_count": 32,
   "metadata": {},
   "outputs": [],
   "source": [
    "df_cat['release_date'] = pd.to_datetime(df_cat.release_date)"
   ]
  },
  {
   "cell_type": "code",
   "execution_count": 37,
   "metadata": {
    "scrolled": true
   },
   "outputs": [],
   "source": [
    "df_cat['year'] = df_cat.release_date.dt.year\n",
    "df_cat['month'] = df_cat.release_date.dt.month \n",
    "df_cat['day'] = df_cat.release_date.dt.day\n",
    "df_cat['weekofday'] = df_cat.release_date.dt.dayofweek\n",
    "df_cat['quarter'] = df_cat.release_date.dt.quarter"
   ]
  },
  {
   "cell_type": "code",
   "execution_count": null,
   "metadata": {},
   "outputs": [],
   "source": []
  },
  {
   "cell_type": "markdown",
   "metadata": {},
   "source": [
    "### 2-3. Seperate cast, crew and text description columns"
   ]
  },
  {
   "cell_type": "markdown",
   "metadata": {},
   "source": [
    "### Keywords"
   ]
  },
  {
   "cell_type": "code",
   "execution_count": 38,
   "metadata": {},
   "outputs": [
    {
     "data": {
      "text/plain": [
       "\"[{'id': 10092, 'name': 'mystery'}, {'id': 10540, 'name': 'bollywood'}, {'id': 11734, 'name': 'police corruption'}, {'id': 14536, 'name': 'crime'}, {'id': 14636, 'name': 'india'}, {'id': 208364, 'name': 'missing husband'}, {'id': 220935, 'name': 'nerve gas'}]\""
      ]
     },
     "execution_count": 38,
     "metadata": {},
     "output_type": "execute_result"
    }
   ],
   "source": [
    "df_cat.Keywords[3]"
   ]
  },
  {
   "cell_type": "code",
   "execution_count": 39,
   "metadata": {},
   "outputs": [],
   "source": [
    "dict_to_col('Keywords', 'name')"
   ]
  },
  {
   "cell_type": "code",
   "execution_count": 40,
   "metadata": {},
   "outputs": [
    {
     "data": {
      "text/html": [
       "<div>\n",
       "<style scoped>\n",
       "    .dataframe tbody tr th:only-of-type {\n",
       "        vertical-align: middle;\n",
       "    }\n",
       "\n",
       "    .dataframe tbody tr th {\n",
       "        vertical-align: top;\n",
       "    }\n",
       "\n",
       "    .dataframe thead th {\n",
       "        text-align: right;\n",
       "    }\n",
       "</style>\n",
       "<table border=\"1\" class=\"dataframe\">\n",
       "  <thead>\n",
       "    <tr style=\"text-align: right;\">\n",
       "      <th></th>\n",
       "      <th>Keywords</th>\n",
       "      <th>original_title</th>\n",
       "      <th>title</th>\n",
       "      <th>overview</th>\n",
       "      <th>tagline</th>\n",
       "    </tr>\n",
       "  </thead>\n",
       "  <tbody>\n",
       "    <tr>\n",
       "      <th>0</th>\n",
       "      <td>time travel;sequel;hot tub;duringcreditsstinger;</td>\n",
       "      <td>Hot Tub Time Machine 2</td>\n",
       "      <td>Hot Tub Time Machine 2</td>\n",
       "      <td>When Lou, who has become the \"father of the In...</td>\n",
       "      <td>The Laws of Space and Time are About to be Vio...</td>\n",
       "    </tr>\n",
       "    <tr>\n",
       "      <th>1</th>\n",
       "      <td>coronation;duty;marriage;falling in love;</td>\n",
       "      <td>The Princess Diaries 2: Royal Engagement</td>\n",
       "      <td>The Princess Diaries 2: Royal Engagement</td>\n",
       "      <td>Mia Thermopolis is now a college graduate and ...</td>\n",
       "      <td>It can take a lifetime to find true love; she'...</td>\n",
       "    </tr>\n",
       "    <tr>\n",
       "      <th>2</th>\n",
       "      <td>jazz;obsession;conservatory;music teacher;new ...</td>\n",
       "      <td>Whiplash</td>\n",
       "      <td>Whiplash</td>\n",
       "      <td>Under the direction of a ruthless instructor, ...</td>\n",
       "      <td>The road to greatness can take you to the edge.</td>\n",
       "    </tr>\n",
       "    <tr>\n",
       "      <th>3</th>\n",
       "      <td>mystery;bollywood;police corruption;crime;indi...</td>\n",
       "      <td>Kahaani</td>\n",
       "      <td>Kahaani</td>\n",
       "      <td>Vidya Bagchi (Vidya Balan) arrives in Kolkata ...</td>\n",
       "      <td>NaN</td>\n",
       "    </tr>\n",
       "    <tr>\n",
       "      <th>4</th>\n",
       "      <td></td>\n",
       "      <td>마린보이</td>\n",
       "      <td>Marine Boy</td>\n",
       "      <td>Marine Boy is the story of a former national s...</td>\n",
       "      <td>NaN</td>\n",
       "    </tr>\n",
       "  </tbody>\n",
       "</table>\n",
       "</div>"
      ],
      "text/plain": [
       "                                            Keywords  \\\n",
       "0   time travel;sequel;hot tub;duringcreditsstinger;   \n",
       "1          coronation;duty;marriage;falling in love;   \n",
       "2  jazz;obsession;conservatory;music teacher;new ...   \n",
       "3  mystery;bollywood;police corruption;crime;indi...   \n",
       "4                                                      \n",
       "\n",
       "                             original_title  \\\n",
       "0                    Hot Tub Time Machine 2   \n",
       "1  The Princess Diaries 2: Royal Engagement   \n",
       "2                                  Whiplash   \n",
       "3                                   Kahaani   \n",
       "4                                      마린보이   \n",
       "\n",
       "                                      title  \\\n",
       "0                    Hot Tub Time Machine 2   \n",
       "1  The Princess Diaries 2: Royal Engagement   \n",
       "2                                  Whiplash   \n",
       "3                                   Kahaani   \n",
       "4                                Marine Boy   \n",
       "\n",
       "                                            overview  \\\n",
       "0  When Lou, who has become the \"father of the In...   \n",
       "1  Mia Thermopolis is now a college graduate and ...   \n",
       "2  Under the direction of a ruthless instructor, ...   \n",
       "3  Vidya Bagchi (Vidya Balan) arrives in Kolkata ...   \n",
       "4  Marine Boy is the story of a former national s...   \n",
       "\n",
       "                                             tagline  \n",
       "0  The Laws of Space and Time are About to be Vio...  \n",
       "1  It can take a lifetime to find true love; she'...  \n",
       "2    The road to greatness can take you to the edge.  \n",
       "3                                                NaN  \n",
       "4                                                NaN  "
      ]
     },
     "execution_count": 40,
     "metadata": {},
     "output_type": "execute_result"
    }
   ],
   "source": [
    "# Seperate text columns \n",
    "text_feats = ['Keywords', 'original_title', 'title', 'overview', 'tagline']\n",
    "df_text = df_cat.loc[:, text_feats]\n",
    "df_text.head()"
   ]
  },
  {
   "cell_type": "code",
   "execution_count": null,
   "metadata": {},
   "outputs": [],
   "source": []
  },
  {
   "cell_type": "code",
   "execution_count": null,
   "metadata": {},
   "outputs": [],
   "source": []
  },
  {
   "cell_type": "code",
   "execution_count": null,
   "metadata": {},
   "outputs": [],
   "source": []
  },
  {
   "cell_type": "code",
   "execution_count": null,
   "metadata": {},
   "outputs": [],
   "source": []
  },
  {
   "cell_type": "markdown",
   "metadata": {},
   "source": [
    "### cast, crew"
   ]
  },
  {
   "cell_type": "code",
   "execution_count": 41,
   "metadata": {},
   "outputs": [],
   "source": [
    "dict_to_col('cast', 'name')"
   ]
  },
  {
   "cell_type": "code",
   "execution_count": 44,
   "metadata": {
    "collapsed": true
   },
   "outputs": [
    {
     "data": {
      "text/plain": [
       "[{'credit_id': '52fe46f49251416c9106558b',\n",
       "  'department': 'Writing',\n",
       "  'gender': 2,\n",
       "  'id': 67372,\n",
       "  'job': 'Novel',\n",
       "  'name': 'Collodi',\n",
       "  'profile_path': '/sMMNkbghC5alRHZEblJA0T4c9uO.jpg'},\n",
       " {'credit_id': '52fe46f49251416c91065573',\n",
       "  'department': 'Directing',\n",
       "  'gender': 2,\n",
       "  'id': 176063,\n",
       "  'job': 'Director',\n",
       "  'name': 'Hal Sutherland',\n",
       "  'profile_path': None},\n",
       " {'credit_id': '52fe46f49251416c91065585',\n",
       "  'department': 'Writing',\n",
       "  'gender': 0,\n",
       "  'id': 193849,\n",
       "  'job': 'Screenplay',\n",
       "  'name': \"Dennis O'Flaherty\",\n",
       "  'profile_path': None},\n",
       " {'credit_id': '5345adea0e0a265ff8000075',\n",
       "  'department': 'Writing',\n",
       "  'gender': 0,\n",
       "  'id': 1213367,\n",
       "  'job': 'Teleplay',\n",
       "  'name': \"Barry O'Brien\",\n",
       "  'profile_path': '/7zl5GGMrLpEFLVSOkRvlCBzWpN0.jpg'},\n",
       " {'credit_id': '578f9fc192514134b00026e5',\n",
       "  'department': 'Writing',\n",
       "  'gender': 2,\n",
       "  'id': 1235078,\n",
       "  'job': 'Screenplay',\n",
       "  'name': 'Robby London',\n",
       "  'profile_path': None},\n",
       " {'credit_id': '578f9fcc9251411cad00031b',\n",
       "  'department': 'Production',\n",
       "  'gender': 2,\n",
       "  'id': 1235078,\n",
       "  'job': 'Associate Producer',\n",
       "  'name': 'Robby London',\n",
       "  'profile_path': None},\n",
       " {'credit_id': '5518d53092514115000035da',\n",
       "  'department': 'Visual Effects',\n",
       "  'gender': 0,\n",
       "  'id': 1409418,\n",
       "  'job': 'Animation',\n",
       "  'name': 'Tuck Tucker',\n",
       "  'profile_path': None},\n",
       " {'credit_id': '554aa8fe92514146990002e9',\n",
       "  'department': 'Art',\n",
       "  'gender': 0,\n",
       "  'id': 1447357,\n",
       "  'job': 'Production Design',\n",
       "  'name': 'Rick Maki',\n",
       "  'profile_path': None},\n",
       " {'credit_id': '5543d5dc925141299600000e',\n",
       "  'department': 'Visual Effects',\n",
       "  'gender': 0,\n",
       "  'id': 1447368,\n",
       "  'job': 'Animation',\n",
       "  'name': 'Randy Sanchez',\n",
       "  'profile_path': None},\n",
       " {'credit_id': '55315251925141529b000535',\n",
       "  'department': 'Visual Effects',\n",
       "  'gender': 0,\n",
       "  'id': 1455541,\n",
       "  'job': 'Animation',\n",
       "  'name': 'Larry White',\n",
       "  'profile_path': None},\n",
       " {'credit_id': '5543fa25c3a3680ce80029e8',\n",
       "  'department': 'Visual Effects',\n",
       "  'gender': 0,\n",
       "  'id': 1460511,\n",
       "  'job': 'Animation',\n",
       "  'name': 'Miri Yoon',\n",
       "  'profile_path': None}]"
      ]
     },
     "execution_count": 44,
     "metadata": {},
     "output_type": "execute_result"
    }
   ],
   "source": [
    "ast.literal_eval(df_cat.crew[5])"
   ]
  },
  {
   "cell_type": "code",
   "execution_count": 45,
   "metadata": {},
   "outputs": [],
   "source": [
    "# Fill NAs\n",
    "df_cat['crew'] = df_cat['crew'].fillna('[{}]')\n",
    "\n",
    "# Get the list of crew jobs \n",
    "df_cat['crew_job'] = df_cat.crew.apply(lambda row: list_to_dict(row, 'job'))\n",
    "\n",
    "# Get the number of elements\n",
    "df_cat['n_crew_job'] = df_cat.crew_job.apply(lambda row: len(row.split(';')) -1)"
   ]
  },
  {
   "cell_type": "code",
   "execution_count": null,
   "metadata": {},
   "outputs": [],
   "source": []
  },
  {
   "cell_type": "code",
   "execution_count": 46,
   "metadata": {},
   "outputs": [],
   "source": [
    "drop_feats = ['belongs_to_collection', 'homepage', 'imdb_id', 'poster_path', 'cast', 'crew']"
   ]
  },
  {
   "cell_type": "code",
   "execution_count": 47,
   "metadata": {},
   "outputs": [],
   "source": [
    "df_cat.drop(drop_feats, axis = 1, inplace=True)\n",
    "df_cat.drop(text_feats, axis = 1, inplace=True)"
   ]
  },
  {
   "cell_type": "code",
   "execution_count": 48,
   "metadata": {},
   "outputs": [
    {
     "data": {
      "text/html": [
       "<div>\n",
       "<style scoped>\n",
       "    .dataframe tbody tr th:only-of-type {\n",
       "        vertical-align: middle;\n",
       "    }\n",
       "\n",
       "    .dataframe tbody tr th {\n",
       "        vertical-align: top;\n",
       "    }\n",
       "\n",
       "    .dataframe thead th {\n",
       "        text-align: right;\n",
       "    }\n",
       "</style>\n",
       "<table border=\"1\" class=\"dataframe\">\n",
       "  <thead>\n",
       "    <tr style=\"text-align: right;\">\n",
       "      <th></th>\n",
       "      <th>genres</th>\n",
       "      <th>original_language</th>\n",
       "      <th>production_companies</th>\n",
       "      <th>production_countries</th>\n",
       "      <th>release_date</th>\n",
       "      <th>spoken_languages</th>\n",
       "      <th>status</th>\n",
       "      <th>n_genres</th>\n",
       "      <th>n_spoken_languages</th>\n",
       "      <th>n_production_companies</th>\n",
       "      <th>...</th>\n",
       "      <th>is_collection</th>\n",
       "      <th>year</th>\n",
       "      <th>month</th>\n",
       "      <th>day</th>\n",
       "      <th>weekofday</th>\n",
       "      <th>quarter</th>\n",
       "      <th>n_Keywords</th>\n",
       "      <th>n_cast</th>\n",
       "      <th>crew_job</th>\n",
       "      <th>n_crew_job</th>\n",
       "    </tr>\n",
       "  </thead>\n",
       "  <tbody>\n",
       "    <tr>\n",
       "      <th>0</th>\n",
       "      <td>Comedy;</td>\n",
       "      <td>en</td>\n",
       "      <td>Paramount Pictures;United Artists;Metro-Goldwy...</td>\n",
       "      <td>US;</td>\n",
       "      <td>2015-02-20</td>\n",
       "      <td>en;</td>\n",
       "      <td>Released</td>\n",
       "      <td>1</td>\n",
       "      <td>1</td>\n",
       "      <td>3</td>\n",
       "      <td>...</td>\n",
       "      <td>True</td>\n",
       "      <td>2015.0</td>\n",
       "      <td>2.0</td>\n",
       "      <td>20.0</td>\n",
       "      <td>4.0</td>\n",
       "      <td>1.0</td>\n",
       "      <td>4</td>\n",
       "      <td>24</td>\n",
       "      <td>First Assistant Director;Director;Writer;Chara...</td>\n",
       "      <td>72</td>\n",
       "    </tr>\n",
       "    <tr>\n",
       "      <th>1</th>\n",
       "      <td>Comedy;Drama;Family;Romance;</td>\n",
       "      <td>en</td>\n",
       "      <td>Walt Disney Pictures;</td>\n",
       "      <td>US;</td>\n",
       "      <td>2004-08-06</td>\n",
       "      <td>en;</td>\n",
       "      <td>Released</td>\n",
       "      <td>4</td>\n",
       "      <td>1</td>\n",
       "      <td>1</td>\n",
       "      <td>...</td>\n",
       "      <td>True</td>\n",
       "      <td>2004.0</td>\n",
       "      <td>8.0</td>\n",
       "      <td>6.0</td>\n",
       "      <td>4.0</td>\n",
       "      <td>3.0</td>\n",
       "      <td>4</td>\n",
       "      <td>20</td>\n",
       "      <td>Director;Director of Photography;Original Musi...</td>\n",
       "      <td>9</td>\n",
       "    </tr>\n",
       "    <tr>\n",
       "      <th>2</th>\n",
       "      <td>Drama;</td>\n",
       "      <td>en</td>\n",
       "      <td>Bold Films;Blumhouse Productions;Right of Way ...</td>\n",
       "      <td>US;</td>\n",
       "      <td>2014-10-10</td>\n",
       "      <td>en;</td>\n",
       "      <td>Released</td>\n",
       "      <td>1</td>\n",
       "      <td>1</td>\n",
       "      <td>3</td>\n",
       "      <td>...</td>\n",
       "      <td>False</td>\n",
       "      <td>2014.0</td>\n",
       "      <td>10.0</td>\n",
       "      <td>10.0</td>\n",
       "      <td>4.0</td>\n",
       "      <td>4.0</td>\n",
       "      <td>12</td>\n",
       "      <td>51</td>\n",
       "      <td>Casting;Music Editor;Executive In Charge Of Pr...</td>\n",
       "      <td>64</td>\n",
       "    </tr>\n",
       "    <tr>\n",
       "      <th>3</th>\n",
       "      <td>Thriller;Drama;</td>\n",
       "      <td>hi</td>\n",
       "      <td></td>\n",
       "      <td>IN;</td>\n",
       "      <td>2012-03-09</td>\n",
       "      <td>en;hi;</td>\n",
       "      <td>Released</td>\n",
       "      <td>2</td>\n",
       "      <td>2</td>\n",
       "      <td>0</td>\n",
       "      <td>...</td>\n",
       "      <td>False</td>\n",
       "      <td>2012.0</td>\n",
       "      <td>3.0</td>\n",
       "      <td>9.0</td>\n",
       "      <td>4.0</td>\n",
       "      <td>1.0</td>\n",
       "      <td>7</td>\n",
       "      <td>7</td>\n",
       "      <td>Director;Producer;Writer;</td>\n",
       "      <td>3</td>\n",
       "    </tr>\n",
       "    <tr>\n",
       "      <th>4</th>\n",
       "      <td>Action;Thriller;</td>\n",
       "      <td>ko</td>\n",
       "      <td></td>\n",
       "      <td>KR;</td>\n",
       "      <td>2009-02-05</td>\n",
       "      <td>ko;</td>\n",
       "      <td>Released</td>\n",
       "      <td>2</td>\n",
       "      <td>1</td>\n",
       "      <td>0</td>\n",
       "      <td>...</td>\n",
       "      <td>False</td>\n",
       "      <td>2009.0</td>\n",
       "      <td>2.0</td>\n",
       "      <td>5.0</td>\n",
       "      <td>3.0</td>\n",
       "      <td>1.0</td>\n",
       "      <td>0</td>\n",
       "      <td>4</td>\n",
       "      <td>Director;Writer;</td>\n",
       "      <td>2</td>\n",
       "    </tr>\n",
       "  </tbody>\n",
       "</table>\n",
       "<p>5 rows × 21 columns</p>\n",
       "</div>"
      ],
      "text/plain": [
       "                         genres original_language  \\\n",
       "0                       Comedy;                en   \n",
       "1  Comedy;Drama;Family;Romance;                en   \n",
       "2                        Drama;                en   \n",
       "3               Thriller;Drama;                hi   \n",
       "4              Action;Thriller;                ko   \n",
       "\n",
       "                                production_companies production_countries  \\\n",
       "0  Paramount Pictures;United Artists;Metro-Goldwy...                  US;   \n",
       "1                              Walt Disney Pictures;                  US;   \n",
       "2  Bold Films;Blumhouse Productions;Right of Way ...                  US;   \n",
       "3                                                                     IN;   \n",
       "4                                                                     KR;   \n",
       "\n",
       "  release_date spoken_languages    status  n_genres  n_spoken_languages  \\\n",
       "0   2015-02-20              en;  Released         1                   1   \n",
       "1   2004-08-06              en;  Released         4                   1   \n",
       "2   2014-10-10              en;  Released         1                   1   \n",
       "3   2012-03-09           en;hi;  Released         2                   2   \n",
       "4   2009-02-05              ko;  Released         2                   1   \n",
       "\n",
       "   n_production_companies    ...      is_collection    year  month   day  \\\n",
       "0                       3    ...               True  2015.0    2.0  20.0   \n",
       "1                       1    ...               True  2004.0    8.0   6.0   \n",
       "2                       3    ...              False  2014.0   10.0  10.0   \n",
       "3                       0    ...              False  2012.0    3.0   9.0   \n",
       "4                       0    ...              False  2009.0    2.0   5.0   \n",
       "\n",
       "   weekofday  quarter  n_Keywords  n_cast  \\\n",
       "0        4.0      1.0           4      24   \n",
       "1        4.0      3.0           4      20   \n",
       "2        4.0      4.0          12      51   \n",
       "3        4.0      1.0           7       7   \n",
       "4        3.0      1.0           0       4   \n",
       "\n",
       "                                            crew_job n_crew_job  \n",
       "0  First Assistant Director;Director;Writer;Chara...         72  \n",
       "1  Director;Director of Photography;Original Musi...          9  \n",
       "2  Casting;Music Editor;Executive In Charge Of Pr...         64  \n",
       "3                          Director;Producer;Writer;          3  \n",
       "4                                   Director;Writer;          2  \n",
       "\n",
       "[5 rows x 21 columns]"
      ]
     },
     "execution_count": 48,
     "metadata": {},
     "output_type": "execute_result"
    }
   ],
   "source": [
    "df_cat.head()"
   ]
  },
  {
   "cell_type": "code",
   "execution_count": null,
   "metadata": {},
   "outputs": [],
   "source": []
  },
  {
   "cell_type": "markdown",
   "metadata": {},
   "source": [
    "## Save the preprocessed dataframe"
   ]
  },
  {
   "cell_type": "code",
   "execution_count": 50,
   "metadata": {},
   "outputs": [],
   "source": [
    "tr_cat = df_cat[:cut] \n",
    "te_cat = df_cat[cut:]"
   ]
  },
  {
   "cell_type": "code",
   "execution_count": 51,
   "metadata": {},
   "outputs": [],
   "source": [
    "tr = pd.concat([tr_num, tr_cat], axis = 1)\n",
    "te = pd.concat([te_num, te_cat], axis = 1)"
   ]
  },
  {
   "cell_type": "code",
   "execution_count": null,
   "metadata": {},
   "outputs": [],
   "source": []
  },
  {
   "cell_type": "code",
   "execution_count": null,
   "metadata": {},
   "outputs": [],
   "source": []
  },
  {
   "cell_type": "code",
   "execution_count": 52,
   "metadata": {},
   "outputs": [],
   "source": [
    "tr.to_csv('data/tr_processed.csv', encoding = 'utf-8-sig', index = False)\n",
    "te.to_csv('data/te_processed.csv', encoding = 'utf-8-sig', index = False)"
   ]
  },
  {
   "cell_type": "code",
   "execution_count": null,
   "metadata": {},
   "outputs": [],
   "source": []
  }
 ],
 "metadata": {
  "kernelspec": {
   "display_name": "Python 3",
   "language": "python",
   "name": "python3"
  },
  "language_info": {
   "codemirror_mode": {
    "name": "ipython",
    "version": 3
   },
   "file_extension": ".py",
   "mimetype": "text/x-python",
   "name": "python",
   "nbconvert_exporter": "python",
   "pygments_lexer": "ipython3",
   "version": "3.7.0"
  }
 },
 "nbformat": 4,
 "nbformat_minor": 2
}
