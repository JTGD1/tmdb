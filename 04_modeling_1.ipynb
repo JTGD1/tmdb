{
  "nbformat": 4,
  "nbformat_minor": 0,
  "metadata": {
    "colab": {
      "name": "04_modeling.ipynb",
      "version": "0.3.2",
      "provenance": [],
      "collapsed_sections": []
    },
    "kernelspec": {
      "name": "python3",
      "display_name": "Python 3"
    },
    "accelerator": "GPU"
  },
  "cells": [
    {
      "metadata": {
        "id": "6btqYOvJuk8O",
        "colab_type": "code",
        "colab": {}
      },
      "cell_type": "code",
      "source": [
        "import pandas as pd\n",
        "import numpy as np\n",
        "import math\n",
        "\n",
        "from sklearn.model_selection import train_test_split\n",
        "from sklearn.metrics import mean_squared_error\n",
        "from sklearn.metrics import mean_squared_log_error"
      ],
      "execution_count": 0,
      "outputs": []
    },
    {
      "metadata": {
        "id": "j40fXd2XjL_G",
        "colab_type": "code",
        "colab": {}
      },
      "cell_type": "code",
      "source": [
        "# RMSLE in natural log \n",
        "def my_loss(pred, actual):\n",
        "  assert len(pred) == len(actual)\n",
        "  error2 = [(math.log(pred[i] + 1) - math.log(actual[i] - 1))**2 for i in len(pred)]\n",
        "  result = np.sqrt(np.sum(error2) / len(pred))\n",
        "  return result "
      ],
      "execution_count": 0,
      "outputs": []
    },
    {
      "metadata": {
        "id": "7m-pRP_9u9pv",
        "colab_type": "text"
      },
      "cell_type": "markdown",
      "source": [
        "## Load the data"
      ]
    },
    {
      "metadata": {
        "id": "6DezWX46uyac",
        "colab_type": "code",
        "colab": {}
      },
      "cell_type": "code",
      "source": [
        "# Import the all dataset\n",
        "tr = pd.read_csv('train_2.csv')"
      ],
      "execution_count": 0,
      "outputs": []
    },
    {
      "metadata": {
        "id": "ng-ikYztvxtq",
        "colab_type": "code",
        "outputId": "29a62df5-4c68-4026-c8a2-da4025204a0a",
        "colab": {
          "base_uri": "https://localhost:8080/",
          "height": 33
        }
      },
      "cell_type": "code",
      "source": [
        "tr.shape"
      ],
      "execution_count": 0,
      "outputs": [
        {
          "output_type": "execute_result",
          "data": {
            "text/plain": [
              "(3000, 353)"
            ]
          },
          "metadata": {
            "tags": []
          },
          "execution_count": 4
        }
      ]
    },
    {
      "metadata": {
        "id": "w2I1PLuHv2d4",
        "colab_type": "code",
        "colab": {}
      },
      "cell_type": "code",
      "source": [
        "y = tr.revenue_log \n",
        "X = tr.drop('revenue_log', axis = 1)"
      ],
      "execution_count": 0,
      "outputs": []
    },
    {
      "metadata": {
        "id": "EKlZPwQQpaNG",
        "colab_type": "code",
        "outputId": "af83a31e-261d-4989-f8eb-d85fa89ac82b",
        "colab": {
          "base_uri": "https://localhost:8080/",
          "height": 33
        }
      },
      "cell_type": "code",
      "source": [
        "X.shape"
      ],
      "execution_count": 0,
      "outputs": [
        {
          "output_type": "execute_result",
          "data": {
            "text/plain": [
              "(3000, 352)"
            ]
          },
          "metadata": {
            "tags": []
          },
          "execution_count": 6
        }
      ]
    },
    {
      "metadata": {
        "id": "OyVJf83zutrp",
        "colab_type": "code",
        "outputId": "c9d10278-4044-4134-ab6d-161b58c93de3",
        "colab": {
          "base_uri": "https://localhost:8080/",
          "height": 33
        }
      },
      "cell_type": "code",
      "source": [
        "te = pd.read_csv('test_2.csv')\n",
        "te.shape"
      ],
      "execution_count": 0,
      "outputs": [
        {
          "output_type": "execute_result",
          "data": {
            "text/plain": [
              "(4398, 352)"
            ]
          },
          "metadata": {
            "tags": []
          },
          "execution_count": 7
        }
      ]
    },
    {
      "metadata": {
        "id": "PwtEmkEDpUs8",
        "colab_type": "code",
        "outputId": "7a12c138-afcb-4ae0-a6ea-92945adb4ec9",
        "colab": {
          "base_uri": "https://localhost:8080/",
          "height": 33
        }
      },
      "cell_type": "code",
      "source": [
        "X.shape"
      ],
      "execution_count": 0,
      "outputs": [
        {
          "output_type": "execute_result",
          "data": {
            "text/plain": [
              "(3000, 352)"
            ]
          },
          "metadata": {
            "tags": []
          },
          "execution_count": 9
        }
      ]
    },
    {
      "metadata": {
        "id": "daxlhYSVvD9D",
        "colab_type": "text"
      },
      "cell_type": "markdown",
      "source": [
        "## Additional preprocessing"
      ]
    },
    {
      "metadata": {
        "id": "h3Fn09nPuzgR",
        "colab_type": "code",
        "colab": {}
      },
      "cell_type": "code",
      "source": [
        "# Additional preprocessing (if neccesssary)\n",
        "# Dimension Reduction \n",
        "\n"
      ],
      "execution_count": 0,
      "outputs": []
    },
    {
      "metadata": {
        "id": "MbhQlzWBu0gc",
        "colab_type": "code",
        "colab": {}
      },
      "cell_type": "code",
      "source": [
        "# Split into train and Valid set\n",
        "X_tr, X_val, y_tr, y_val = train_test_split(X, y, test_size = .2, random_state = 36)"
      ],
      "execution_count": 0,
      "outputs": []
    },
    {
      "metadata": {
        "id": "onngVTvh10YD",
        "colab_type": "code",
        "outputId": "e0817ad6-33e4-4ac0-9870-493c45c45050",
        "colab": {
          "base_uri": "https://localhost:8080/",
          "height": 67
        }
      },
      "cell_type": "code",
      "source": [
        "print(\"The size of the train set \", X_tr.shape)\n",
        "print(\"The size of the validation set \", X_val.shape)\n",
        "print(\"The size of the test set \", te.shape)"
      ],
      "execution_count": 0,
      "outputs": [
        {
          "output_type": "stream",
          "text": [
            "The size of the train set  (2400, 352)\n",
            "The size of the validation set  (600, 352)\n",
            "The size of the test set  (4398, 352)\n"
          ],
          "name": "stdout"
        }
      ]
    },
    {
      "metadata": {
        "id": "hSmGnpT_vtGb",
        "colab_type": "code",
        "colab": {}
      },
      "cell_type": "code",
      "source": [
        "del tr, X, y, "
      ],
      "execution_count": 0,
      "outputs": []
    },
    {
      "metadata": {
        "id": "Qfbtr7Ciwu39",
        "colab_type": "code",
        "outputId": "1e692ca7-a85a-4557-da5c-d21027f03770",
        "colab": {
          "base_uri": "https://localhost:8080/",
          "height": 134
        }
      },
      "cell_type": "code",
      "source": [
        "X_tr.columns"
      ],
      "execution_count": 0,
      "outputs": [
        {
          "output_type": "execute_result",
          "data": {
            "text/plain": [
              "Index(['runtime_h', 'runtime_m', 'runtime_log', 'budget_log', 'popularity_log',\n",
              "       'status', 'is_collection', 'is_homepage', 'n_genres', 'n_prod_comp',\n",
              "       ...\n",
              "       'crew_Camera', 'crew_Costume & Make-Up', 'crew_Crew', 'crew_Directing',\n",
              "       'crew_Editing', 'crew_Lighting', 'crew_Production', 'crew_Sound',\n",
              "       'crew_Visual Effects', 'crew_Writing'],\n",
              "      dtype='object', length=352)"
            ]
          },
          "metadata": {
            "tags": []
          },
          "execution_count": 13
        }
      ]
    },
    {
      "metadata": {
        "id": "6qva76NDwuwd",
        "colab_type": "code",
        "colab": {}
      },
      "cell_type": "code",
      "source": [
        ""
      ],
      "execution_count": 0,
      "outputs": []
    },
    {
      "metadata": {
        "id": "pr6hPyYQwups",
        "colab_type": "code",
        "colab": {}
      },
      "cell_type": "code",
      "source": [
        ""
      ],
      "execution_count": 0,
      "outputs": []
    },
    {
      "metadata": {
        "id": "6NXG_DRju2JU",
        "colab_type": "text"
      },
      "cell_type": "markdown",
      "source": [
        "### 1. Elastic-Net"
      ]
    },
    {
      "metadata": {
        "id": "aae8jF9Y9Zh3",
        "colab_type": "code",
        "colab": {}
      },
      "cell_type": "code",
      "source": [
        "X_tr.fillna(-1, inplace = True)\n",
        "X_val.fillna(-1, inplace = True)\n",
        "te.fillna(-1, inplace = True)"
      ],
      "execution_count": 0,
      "outputs": []
    },
    {
      "metadata": {
        "id": "FvMSkEpElDLZ",
        "colab_type": "code",
        "outputId": "7e242d0c-96c1-4fef-cbc5-9b9d4c983cfd",
        "colab": {
          "base_uri": "https://localhost:8080/",
          "height": 67
        }
      },
      "cell_type": "code",
      "source": [
        "from sklearn.linear_model import ElasticNet \n",
        "model_el = ElasticNet(alpha = .03, l1_ratio = .05, max_iter = 2000)\n",
        "model_el.fit(X_tr, y_tr)"
      ],
      "execution_count": 0,
      "outputs": [
        {
          "output_type": "execute_result",
          "data": {
            "text/plain": [
              "ElasticNet(alpha=0.03, copy_X=True, fit_intercept=True, l1_ratio=0.05,\n",
              "      max_iter=2000, normalize=False, positive=False, precompute=False,\n",
              "      random_state=None, selection='cyclic', tol=0.0001, warm_start=False)"
            ]
          },
          "metadata": {
            "tags": []
          },
          "execution_count": 74
        }
      ]
    },
    {
      "metadata": {
        "id": "qPu4281slDG0",
        "colab_type": "code",
        "colab": {}
      },
      "cell_type": "code",
      "source": [
        "el_pred = model_el.predict(X_val)"
      ],
      "execution_count": 0,
      "outputs": []
    },
    {
      "metadata": {
        "id": "-powcJcxlDC2",
        "colab_type": "code",
        "outputId": "2bc435d8-44fa-405f-8511-34c7a48f97e3",
        "colab": {
          "base_uri": "https://localhost:8080/",
          "height": 33
        }
      },
      "cell_type": "code",
      "source": [
        "np.sqrt(mean_squared_error(y_val, el_pred))"
      ],
      "execution_count": 0,
      "outputs": [
        {
          "output_type": "execute_result",
          "data": {
            "text/plain": [
              "2.1266072116373356"
            ]
          },
          "metadata": {
            "tags": []
          },
          "execution_count": 76
        }
      ]
    },
    {
      "metadata": {
        "id": "qyeUSaT6uLtx",
        "colab_type": "code",
        "colab": {}
      },
      "cell_type": "code",
      "source": [
        "# 1st try: 2.1347\n",
        "# 2nd try: 2.1266"
      ],
      "execution_count": 0,
      "outputs": []
    },
    {
      "metadata": {
        "id": "AuDlwWWLuLll",
        "colab_type": "code",
        "colab": {}
      },
      "cell_type": "code",
      "source": [
        "my_loss()"
      ],
      "execution_count": 0,
      "outputs": []
    },
    {
      "metadata": {
        "id": "y9gfh98YuLhX",
        "colab_type": "code",
        "colab": {}
      },
      "cell_type": "code",
      "source": [
        ""
      ],
      "execution_count": 0,
      "outputs": []
    },
    {
      "metadata": {
        "id": "EiFU3SdAu3s0",
        "colab_type": "text"
      },
      "cell_type": "markdown",
      "source": [
        "### 2. Random Forest \n"
      ]
    },
    {
      "metadata": {
        "id": "uhRYBiWdrVcc",
        "colab_type": "code",
        "outputId": "7fe8677d-afaa-40a1-9e53-ba7713ec719a",
        "colab": {
          "base_uri": "https://localhost:8080/",
          "height": 126
        }
      },
      "cell_type": "code",
      "source": [
        "from sklearn.ensemble import RandomForestRegressor\n",
        "model_rf = RandomForestRegressor(n_estimators= 10000, \n",
        "                                 max_depth = 5, \n",
        "                                 min_samples_split = .7, \n",
        "                                 min_samples_leaf = .3)\n",
        "model_rf.fit(X_tr, y_tr)"
      ],
      "execution_count": 0,
      "outputs": [
        {
          "output_type": "execute_result",
          "data": {
            "text/plain": [
              "RandomForestRegressor(bootstrap=True, criterion='mse', max_depth=5,\n",
              "           max_features='auto', max_leaf_nodes=None,\n",
              "           min_impurity_decrease=0.0, min_impurity_split=None,\n",
              "           min_samples_leaf=0.3, min_samples_split=0.7,\n",
              "           min_weight_fraction_leaf=0.0, n_estimators=10000, n_jobs=None,\n",
              "           oob_score=False, random_state=None, verbose=0, warm_start=False)"
            ]
          },
          "metadata": {
            "tags": []
          },
          "execution_count": 97
        }
      ]
    },
    {
      "metadata": {
        "id": "qHLDgBCBbBqm",
        "colab_type": "code",
        "colab": {}
      },
      "cell_type": "code",
      "source": [
        "y_pred = model_rf.predict(X_val)"
      ],
      "execution_count": 0,
      "outputs": []
    },
    {
      "metadata": {
        "id": "hoNBwRuWbI6o",
        "colab_type": "code",
        "outputId": "dcb71e15-32e6-428c-8939-cf45d32f5cd2",
        "colab": {
          "base_uri": "https://localhost:8080/",
          "height": 35
        }
      },
      "cell_type": "code",
      "source": [
        "np.sqrt(mean_squared_error(y_val, y_pred))"
      ],
      "execution_count": 0,
      "outputs": [
        {
          "output_type": "execute_result",
          "data": {
            "text/plain": [
              "2.941005964839086"
            ]
          },
          "metadata": {
            "tags": []
          },
          "execution_count": 99
        }
      ]
    },
    {
      "metadata": {
        "id": "vqnGjj_XgORM",
        "colab_type": "code",
        "outputId": "88a03363-82ca-41c2-a62f-474c1baae1ea",
        "colab": {
          "base_uri": "https://localhost:8080/",
          "height": 198
        }
      },
      "cell_type": "code",
      "source": [
        "df = pd.DataFrame(columns = ['y_val', 'y_pred'])\n",
        "df.y_val = y_val\n",
        "df.y_pred = y_pred\n",
        "df.head()"
      ],
      "execution_count": 0,
      "outputs": [
        {
          "output_type": "execute_result",
          "data": {
            "text/html": [
              "<div>\n",
              "<style scoped>\n",
              "    .dataframe tbody tr th:only-of-type {\n",
              "        vertical-align: middle;\n",
              "    }\n",
              "\n",
              "    .dataframe tbody tr th {\n",
              "        vertical-align: top;\n",
              "    }\n",
              "\n",
              "    .dataframe thead th {\n",
              "        text-align: right;\n",
              "    }\n",
              "</style>\n",
              "<table border=\"1\" class=\"dataframe\">\n",
              "  <thead>\n",
              "    <tr style=\"text-align: right;\">\n",
              "      <th></th>\n",
              "      <th>y_val</th>\n",
              "      <th>y_pred</th>\n",
              "    </tr>\n",
              "  </thead>\n",
              "  <tbody>\n",
              "    <tr>\n",
              "      <th>2135</th>\n",
              "      <td>20.767966</td>\n",
              "      <td>15.952474</td>\n",
              "    </tr>\n",
              "    <tr>\n",
              "      <th>2546</th>\n",
              "      <td>18.281419</td>\n",
              "      <td>15.952474</td>\n",
              "    </tr>\n",
              "    <tr>\n",
              "      <th>1770</th>\n",
              "      <td>15.765057</td>\n",
              "      <td>15.952474</td>\n",
              "    </tr>\n",
              "    <tr>\n",
              "      <th>2857</th>\n",
              "      <td>15.687313</td>\n",
              "      <td>15.952474</td>\n",
              "    </tr>\n",
              "    <tr>\n",
              "      <th>1536</th>\n",
              "      <td>16.588251</td>\n",
              "      <td>15.952474</td>\n",
              "    </tr>\n",
              "  </tbody>\n",
              "</table>\n",
              "</div>"
            ],
            "text/plain": [
              "          y_val     y_pred\n",
              "2135  20.767966  15.952474\n",
              "2546  18.281419  15.952474\n",
              "1770  15.765057  15.952474\n",
              "2857  15.687313  15.952474\n",
              "1536  16.588251  15.952474"
            ]
          },
          "metadata": {
            "tags": []
          },
          "execution_count": 100
        }
      ]
    },
    {
      "metadata": {
        "id": "xcs77mtWhEXy",
        "colab_type": "code",
        "outputId": "1d48f0cf-da0f-4e8a-b1e7-087a507dfcc1",
        "colab": {
          "base_uri": "https://localhost:8080/",
          "height": 303
        }
      },
      "cell_type": "code",
      "source": [
        "df.plot.scatter(x = 'y_val', y = 'y_pred')"
      ],
      "execution_count": 0,
      "outputs": [
        {
          "output_type": "execute_result",
          "data": {
            "text/plain": [
              "<matplotlib.axes._subplots.AxesSubplot at 0x7f80ab273780>"
            ]
          },
          "metadata": {
            "tags": []
          },
          "execution_count": 101
        },
        {
          "output_type": "display_data",
          "data": {
            "image/png": "[encoded data removed]",
            "text/plain": [
              "<Figure size 432x288 with 1 Axes>"
            ]
          },
          "metadata": {
            "tags": []
          }
        }
      ]
    },
    {
      "metadata": {
        "id": "ltk0rL0pgOME",
        "colab_type": "code",
        "colab": {}
      },
      "cell_type": "code",
      "source": [
        ""
      ],
      "execution_count": 0,
      "outputs": []
    },
    {
      "metadata": {
        "id": "mWLDl0-rbIpW",
        "colab_type": "code",
        "colab": {}
      },
      "cell_type": "code",
      "source": [
        ""
      ],
      "execution_count": 0,
      "outputs": []
    },
    {
      "metadata": {
        "id": "aSOZ4TdgmRc6",
        "colab_type": "text"
      },
      "cell_type": "markdown",
      "source": [
        "### 3. Xgboost"
      ]
    },
    {
      "metadata": {
        "id": "ZrwDjC2qmRYv",
        "colab_type": "code",
        "outputId": "5743ed1d-cffb-4b5c-efbd-925ede417488",
        "colab": {
          "base_uri": "https://localhost:8080/",
          "height": 187
        }
      },
      "cell_type": "code",
      "source": [
        "import xgboost as xgb\n",
        "model_xg = xgb.XGBRegressor(objective = 'reg:linear',\n",
        "                            max_depth = 7, \n",
        "                            learning_rate = 0.01, \n",
        "                            n_estimators = 10000, \n",
        "                            early_stopping_rounds = 200,\n",
        "                            gamma = 1.5,  \n",
        "                            silent = True,\n",
        "                            subsample = 0.7, \n",
        "                            colsample_bytree = 0.7, \n",
        "                            colsample_bylevel = 0.5)\n",
        "model_xg.fit(X_tr, y_tr)"
      ],
      "execution_count": 0,
      "outputs": [
        {
          "output_type": "stream",
          "text": [
            "/usr/local/lib/python3.6/dist-packages/xgboost/core.py:587: FutureWarning: Series.base is deprecated and will be removed in a future version\n",
            "  if getattr(data, 'base', None) is not None and \\\n"
          ],
          "name": "stderr"
        },
        {
          "output_type": "execute_result",
          "data": {
            "text/plain": [
              "XGBRegressor(base_score=0.5, booster='gbtree', colsample_bylevel=0.5,\n",
              "       colsample_bytree=0.7, early_stopping_rounds=200, gamma=1.5,\n",
              "       importance_type='gain', learning_rate=0.01, max_delta_step=0,\n",
              "       max_depth=7, min_child_weight=1, missing=None, n_estimators=10000,\n",
              "       n_jobs=1, nthread=None, objective='reg:linear', random_state=0,\n",
              "       reg_alpha=0, reg_lambda=1, scale_pos_weight=1, seed=None,\n",
              "       silent=True, subsample=0.7)"
            ]
          },
          "metadata": {
            "tags": []
          },
          "execution_count": 17
        }
      ]
    },
    {
      "metadata": {
        "id": "bxIUoBqLmRUw",
        "colab_type": "code",
        "colab": {}
      },
      "cell_type": "code",
      "source": [
        "xg_pred = model_xg.predict(X_val)"
      ],
      "execution_count": 0,
      "outputs": []
    },
    {
      "metadata": {
        "id": "EiB1vc8EmRQj",
        "colab_type": "code",
        "outputId": "9ad73ef4-1b7e-44fb-e185-3d42b8d2add2",
        "colab": {
          "base_uri": "https://localhost:8080/",
          "height": 33
        }
      },
      "cell_type": "code",
      "source": [
        "np.sqrt(mean_squared_error(y_val, xg_pred))"
      ],
      "execution_count": 0,
      "outputs": [
        {
          "output_type": "execute_result",
          "data": {
            "text/plain": [
              "1.9128539311894288"
            ]
          },
          "metadata": {
            "tags": []
          },
          "execution_count": 19
        }
      ]
    },
    {
      "metadata": {
        "id": "u3G-BVqSmRMf",
        "colab_type": "code",
        "colab": {}
      },
      "cell_type": "code",
      "source": [
        "# 1st try: 1.92025\n",
        "# 2nd try: 1.91285"
      ],
      "execution_count": 0,
      "outputs": []
    },
    {
      "metadata": {
        "id": "vpjxu4AJmRIg",
        "colab_type": "code",
        "colab": {}
      },
      "cell_type": "code",
      "source": [
        ""
      ],
      "execution_count": 0,
      "outputs": []
    },
    {
      "metadata": {
        "id": "fbeIIJLou4SO",
        "colab_type": "text"
      },
      "cell_type": "markdown",
      "source": [
        "### 4. Catboost"
      ]
    },
    {
      "metadata": {
        "id": "_LP61TNPjGDE",
        "colab_type": "code",
        "outputId": "1162f91b-1662-429a-b1ee-6f4bcd574f2d",
        "colab": {
          "base_uri": "https://localhost:8080/",
          "height": 237
        }
      },
      "cell_type": "code",
      "source": [
        "!pip install catboost"
      ],
      "execution_count": 0,
      "outputs": [
        {
          "output_type": "stream",
          "text": [
            "Collecting catboost\n",
            "\u001b[?25l  Downloading https://files.pythonhosted.org/packages/2f/c4/f130237b24efd1941cb685da12496675a90045129b66774751f1bf629dfd/catboost-0.14.2-cp36-none-manylinux1_x86_64.whl (60.6MB)\n",
            "\u001b[K    100% |████████████████████████████████| 60.6MB 577kB/s \n",
            "\u001b[?25hRequirement already satisfied: numpy>=1.11.1 in /usr/local/lib/python3.6/dist-packages (from catboost) (1.16.3)\n",
            "Requirement already satisfied: pandas>=0.19.1 in /usr/local/lib/python3.6/dist-packages (from catboost) (0.24.2)\n",
            "Requirement already satisfied: enum34 in /usr/local/lib/python3.6/dist-packages (from catboost) (1.1.6)\n",
            "Requirement already satisfied: six in /usr/local/lib/python3.6/dist-packages (from catboost) (1.12.0)\n",
            "Requirement already satisfied: graphviz in /usr/local/lib/python3.6/dist-packages (from catboost) (0.10.1)\n",
            "Requirement already satisfied: pytz>=2011k in /usr/local/lib/python3.6/dist-packages (from pandas>=0.19.1->catboost) (2018.9)\n",
            "Requirement already satisfied: python-dateutil>=2.5.0 in /usr/local/lib/python3.6/dist-packages (from pandas>=0.19.1->catboost) (2.5.3)\n",
            "Installing collected packages: catboost\n",
            "Successfully installed catboost-0.14.2\n"
          ],
          "name": "stdout"
        }
      ]
    },
    {
      "metadata": {
        "id": "evnNgmn1vXHy",
        "colab_type": "code",
        "colab": {}
      },
      "cell_type": "code",
      "source": [
        "from catboost import CatBoostRegressor"
      ],
      "execution_count": 0,
      "outputs": []
    },
    {
      "metadata": {
        "id": "66uB1vQajEAt",
        "colab_type": "code",
        "colab": {}
      },
      "cell_type": "code",
      "source": [
        "model_cb = CatBoostRegressor(iterations = 10000,\n",
        "                             depth = 7,\n",
        "                             eval_metric = 'RMSE',\n",
        "                             learning_rate = .01,\n",
        "                             subsample = 0.7, \n",
        "                             colsample_bytree = 0.7,\n",
        "                             colsample_bylevel = .5,\n",
        "                             bagging_temperature = .2, \n",
        "                             early_stopping_rounds = 200,\n",
        "                             logging_level = 'Silent')\n",
        "model_cb.fit(X_tr, y_tr, plot = True)"
      ],
      "execution_count": 0,
      "outputs": []
    },
    {
      "metadata": {
        "id": "aOQaWZMpkVYK",
        "colab_type": "code",
        "colab": {}
      },
      "cell_type": "code",
      "source": [
        "cb_pred = model_cb.predict(X_val)"
      ],
      "execution_count": 0,
      "outputs": []
    },
    {
      "metadata": {
        "id": "a_W21yzhkVTu",
        "colab_type": "code",
        "outputId": "82d8604b-cbd6-4369-a8eb-579d67621635",
        "colab": {
          "base_uri": "https://localhost:8080/",
          "height": 33
        }
      },
      "cell_type": "code",
      "source": [
        "np.sqrt(mean_squared_error(y_val, cb_pred))"
      ],
      "execution_count": 0,
      "outputs": [
        {
          "output_type": "execute_result",
          "data": {
            "text/plain": [
              "1.8779128888749124"
            ]
          },
          "metadata": {
            "tags": []
          },
          "execution_count": 26
        }
      ]
    },
    {
      "metadata": {
        "id": "Z7PFdJGnkVMQ",
        "colab_type": "code",
        "colab": {}
      },
      "cell_type": "code",
      "source": [
        "# 1st try: 1.92189\n",
        "# 2nd try: 1.87791"
      ],
      "execution_count": 0,
      "outputs": []
    },
    {
      "metadata": {
        "id": "F70LE-vtkVHy",
        "colab_type": "code",
        "colab": {}
      },
      "cell_type": "code",
      "source": [
        ""
      ],
      "execution_count": 0,
      "outputs": []
    },
    {
      "metadata": {
        "id": "NY6rCN7PqLoT",
        "colab_type": "text"
      },
      "cell_type": "markdown",
      "source": [
        "### 4. Lightgbm"
      ]
    },
    {
      "metadata": {
        "id": "mbMq6A6O-Wsg",
        "colab_type": "code",
        "colab": {}
      },
      "cell_type": "code",
      "source": [
        "!git clone --recursive https://github.com/Microsoft/LightGBM\n",
        "%cd /content/LightGBM\n",
        "!mkdir build\n",
        "!cmake -DUSE_GPU=1\n",
        "!make -j$(nproc)\n",
        "!sudo apt-get -y install python-pip\n",
        "!sudo -H pip install setuptools pandas numpy scipy scikit-learn -U\n",
        "%cd /content/LightGBM/python-package\n",
        "!sudo python setup.py install --precompile"
      ],
      "execution_count": 0,
      "outputs": []
    },
    {
      "metadata": {
        "id": "R06-Shda73jR",
        "colab_type": "code",
        "colab": {}
      },
      "cell_type": "code",
      "source": [
        "!pip install lightgbm --install-option=--gpu"
      ],
      "execution_count": 0,
      "outputs": []
    },
    {
      "metadata": {
        "id": "Yi9I2Xn4qLk8",
        "colab_type": "code",
        "colab": {}
      },
      "cell_type": "code",
      "source": [
        "import lightgbm as lgb"
      ],
      "execution_count": 0,
      "outputs": []
    },
    {
      "metadata": {
        "id": "p64muoC2qZky",
        "colab_type": "code",
        "colab": {}
      },
      "cell_type": "code",
      "source": [
        "tr_data = lgb.Dataset(X_tr, label = y_tr)\n",
        "\n",
        "params = {'objective' : 'regression',\n",
        "          'max_depth' : 7,\n",
        "          #'num_leaves' : 30,\n",
        "          'learning_rate': 0.01,\n",
        "          'metric' : 'rmse',\n",
        "          'min_data_in_leaf' : 100,\n",
        "          'colsample_bytree': 0.7,\n",
        "          'subsample_freq': 1,\n",
        "          'lambda_l1' : 0.2,\n",
        "          #'lambda_l2' : .3\n",
        "          'subsample' : .7, \n",
        "          #\"bagging_seed\" : 42,\n",
        "          \"verbose\" : -1}\n",
        "\n",
        "hist = {}\n",
        "model_lg = lgb.train(params, tr_data, \n",
        "                     num_iteration = 10000, \n",
        "                     early_stopping_rounds = 200,\n",
        "                     callbacks = [lgb.record_evaluation(hist)])"
      ],
      "execution_count": 0,
      "outputs": []
    },
    {
      "metadata": {
        "id": "VSnyWtDn7Pvq",
        "colab_type": "code",
        "colab": {}
      },
      "cell_type": "code",
      "source": [
        "pred_lg = model_lg.predict(X_val, num_iteration = model_lg.best_iteration)"
      ],
      "execution_count": 0,
      "outputs": []
    },
    {
      "metadata": {
        "id": "EDl3DE_mqKbo",
        "colab_type": "code",
        "colab": {}
      },
      "cell_type": "code",
      "source": [
        "my_loss(pred_lg, actual)"
      ],
      "execution_count": 0,
      "outputs": []
    },
    {
      "metadata": {
        "id": "Zln7Mt34qKQI",
        "colab_type": "code",
        "colab": {}
      },
      "cell_type": "code",
      "source": [
        ""
      ],
      "execution_count": 0,
      "outputs": []
    },
    {
      "metadata": {
        "id": "DA6Ci1O1u4-f",
        "colab_type": "text"
      },
      "cell_type": "markdown",
      "source": [
        "### 5. Keras"
      ]
    },
    {
      "metadata": {
        "id": "Do3dSm7nvdhj",
        "colab_type": "code",
        "colab": {}
      },
      "cell_type": "code",
      "source": [
        "import keras\n",
        "from keras.models import Sequential\n",
        "from Keras.layers import Dense\n",
        "from keras.callbacks import EarlyStopping"
      ],
      "execution_count": 0,
      "outputs": []
    },
    {
      "metadata": {
        "id": "05uglOJ3ovNM",
        "colab_type": "code",
        "colab": {}
      },
      "cell_type": "code",
      "source": [
        "#from keras.layers import Dropout, BatchNormalization \n",
        "\n",
        "#model.add(Dropout(.2))\n",
        "#model.add(BatchNormalization())"
      ],
      "execution_count": 0,
      "outputs": []
    },
    {
      "metadata": {
        "id": "ixLm8rtAmil7",
        "colab_type": "code",
        "colab": {}
      },
      "cell_type": "code",
      "source": [
        "X_tr.shape[1]"
      ],
      "execution_count": 0,
      "outputs": []
    },
    {
      "metadata": {
        "id": "eoBcao8Pc4To",
        "colab_type": "code",
        "colab": {}
      },
      "cell_type": "code",
      "source": [
        "# initialize the model\n",
        "model_ke = Sequential()\n",
        "\n",
        "# create hidden layers\n",
        "model_ke.add(Dense(input_dim = X_tr.shape[1], output_dim, \n",
        "                activation = 'relu'))\n",
        "model_ke.add(Dense(output_dim, activation = 'relu'))\n",
        "model_ke.add(Dense(output_dim = 1)) \n",
        "\n",
        "# compile: stochastic gradient descent\n",
        "model_ke.compile(optimizer = 'adam', \n",
        "              loss = 'mse', \n",
        "              metrics = ['mean_squared_logarithmic_error'])"
      ],
      "execution_count": 0,
      "outputs": []
    },
    {
      "metadata": {
        "id": "eH32NkwHn10R",
        "colab_type": "code",
        "colab": {}
      },
      "cell_type": "code",
      "source": [
        "# early stopper \n",
        "early_stopper = EarlyStopping(patience = 5)\n",
        "\n",
        "r = model_ke.fit(X_tr, y_tr, \n",
        "                 batch_size = 100, \n",
        "                 n_epoch = 100,\n",
        "                 callbacks = [early_stopper])"
      ],
      "execution_count": 0,
      "outputs": []
    },
    {
      "metadata": {
        "id": "eeGu93Rdn1uy",
        "colab_type": "code",
        "colab": {}
      },
      "cell_type": "code",
      "source": [
        "# prediction \n",
        "pred = model_ke.predict(X_val)"
      ],
      "execution_count": 0,
      "outputs": []
    },
    {
      "metadata": {
        "id": "cmXb0Gfvn1pj",
        "colab_type": "code",
        "colab": {}
      },
      "cell_type": "code",
      "source": [
        "# plot the error\n",
        "plt.plot(r.history['loss'], label = 'train loss')\n",
        "plt.plot(r.history['val_loss'], label = 'test loss')\n",
        "plt.legend()\n",
        "plt.show()\n",
        "\n",
        "plt.plot(r.history['mean_squared_logarithmic_error'], label = 'train mse')\n",
        "plt.plot(r.history['val_mean_squared_logarithmic_error'], label = 'test mse')\n",
        "plt.legend()\n",
        "plt.show()"
      ],
      "execution_count": 0,
      "outputs": []
    },
    {
      "metadata": {
        "id": "Yj-p9b7ac4OX",
        "colab_type": "code",
        "colab": {}
      },
      "cell_type": "code",
      "source": [
        ""
      ],
      "execution_count": 0,
      "outputs": []
    },
    {
      "metadata": {
        "id": "yXy9DGjGu5pk",
        "colab_type": "text"
      },
      "cell_type": "markdown",
      "source": [
        "## Evaluation"
      ]
    },
    {
      "metadata": {
        "id": "xPWPVxM9rTTN",
        "colab_type": "code",
        "colab": {}
      },
      "cell_type": "code",
      "source": [
        "df_pred = pd.DataFrame()"
      ],
      "execution_count": 0,
      "outputs": []
    },
    {
      "metadata": {
        "id": "mHlGpkSwrTPN",
        "colab_type": "code",
        "colab": {}
      },
      "cell_type": "code",
      "source": [
        "df_pred['el'] = model_el.predict(te)"
      ],
      "execution_count": 0,
      "outputs": []
    },
    {
      "metadata": {
        "id": "VBWe8iRHpnev",
        "colab_type": "code",
        "colab": {}
      },
      "cell_type": "code",
      "source": [
        "df_pred['xg'] = model_xg.predict(te)\n",
        "df_pred['cb'] = model_cb.predict(te)"
      ],
      "execution_count": 0,
      "outputs": []
    },
    {
      "metadata": {
        "id": "W3PLSxMPqDX0",
        "colab_type": "code",
        "colab": {}
      },
      "cell_type": "code",
      "source": [
        "df_pred['lg'] = model_lg.predict(te)"
      ],
      "execution_count": 0,
      "outputs": []
    },
    {
      "metadata": {
        "id": "YOCE-986prtL",
        "colab_type": "code",
        "colab": {}
      },
      "cell_type": "code",
      "source": [
        "df_pred['ke'] = model_ke.predict(te)"
      ],
      "execution_count": 0,
      "outputs": []
    },
    {
      "metadata": {
        "id": "MANAnmawrTLO",
        "colab_type": "code",
        "colab": {}
      },
      "cell_type": "code",
      "source": [
        "#df_pred['final'] = np.expm1(.2*df_pred.el + .5*df_pred.cb + .3*df_pred.xg)\n",
        "df_pred['final'] = np.expm1(.5*df_pred.cb + .5*df_pred.xg)"
      ],
      "execution_count": 0,
      "outputs": []
    },
    {
      "metadata": {
        "id": "Dv1-gu4UsF1s",
        "colab_type": "code",
        "outputId": "14dd8f43-68bd-45e5-d1fb-b951232959e0",
        "colab": {
          "base_uri": "https://localhost:8080/",
          "height": 196
        }
      },
      "cell_type": "code",
      "source": [
        "df_pred.head()"
      ],
      "execution_count": 0,
      "outputs": [
        {
          "output_type": "execute_result",
          "data": {
            "text/html": [
              "<div>\n",
              "<style scoped>\n",
              "    .dataframe tbody tr th:only-of-type {\n",
              "        vertical-align: middle;\n",
              "    }\n",
              "\n",
              "    .dataframe tbody tr th {\n",
              "        vertical-align: top;\n",
              "    }\n",
              "\n",
              "    .dataframe thead th {\n",
              "        text-align: right;\n",
              "    }\n",
              "</style>\n",
              "<table border=\"1\" class=\"dataframe\">\n",
              "  <thead>\n",
              "    <tr style=\"text-align: right;\">\n",
              "      <th></th>\n",
              "      <th>xg</th>\n",
              "      <th>cb</th>\n",
              "      <th>final</th>\n",
              "      <th>el</th>\n",
              "    </tr>\n",
              "  </thead>\n",
              "  <tbody>\n",
              "    <tr>\n",
              "      <th>0</th>\n",
              "      <td>16.052170</td>\n",
              "      <td>15.547183</td>\n",
              "      <td>5.807170e+06</td>\n",
              "      <td>14.926807</td>\n",
              "    </tr>\n",
              "    <tr>\n",
              "      <th>1</th>\n",
              "      <td>13.687190</td>\n",
              "      <td>14.855867</td>\n",
              "      <td>1.817424e+06</td>\n",
              "      <td>14.394201</td>\n",
              "    </tr>\n",
              "    <tr>\n",
              "      <th>2</th>\n",
              "      <td>16.181671</td>\n",
              "      <td>15.821494</td>\n",
              "      <td>6.957021e+06</td>\n",
              "      <td>14.950067</td>\n",
              "    </tr>\n",
              "    <tr>\n",
              "      <th>3</th>\n",
              "      <td>15.788505</td>\n",
              "      <td>15.791989</td>\n",
              "      <td>7.713922e+06</td>\n",
              "      <td>16.129956</td>\n",
              "    </tr>\n",
              "    <tr>\n",
              "      <th>4</th>\n",
              "      <td>13.339710</td>\n",
              "      <td>13.354093</td>\n",
              "      <td>8.466378e+05</td>\n",
              "      <td>14.850349</td>\n",
              "    </tr>\n",
              "  </tbody>\n",
              "</table>\n",
              "</div>"
            ],
            "text/plain": [
              "          xg         cb         final         el\n",
              "0  16.052170  15.547183  5.807170e+06  14.926807\n",
              "1  13.687190  14.855867  1.817424e+06  14.394201\n",
              "2  16.181671  15.821494  6.957021e+06  14.950067\n",
              "3  15.788505  15.791989  7.713922e+06  16.129956\n",
              "4  13.339710  13.354093  8.466378e+05  14.850349"
            ]
          },
          "metadata": {
            "tags": []
          },
          "execution_count": 79
        }
      ]
    },
    {
      "metadata": {
        "id": "dsmiVi1LCEIV",
        "colab_type": "code",
        "colab": {}
      },
      "cell_type": "code",
      "source": [
        ""
      ],
      "execution_count": 0,
      "outputs": []
    },
    {
      "metadata": {
        "id": "t8wzk_dhsFu5",
        "colab_type": "code",
        "colab": {}
      },
      "cell_type": "code",
      "source": [
        ""
      ],
      "execution_count": 0,
      "outputs": []
    },
    {
      "metadata": {
        "id": "I77UrPOWu8O8",
        "colab_type": "text"
      },
      "cell_type": "markdown",
      "source": [
        "### Submission"
      ]
    },
    {
      "metadata": {
        "id": "wsaTISI3sB6r",
        "colab_type": "code",
        "outputId": "9090d9f2-e34b-42ee-f09f-013aa32a3db3",
        "colab": {
          "base_uri": "https://localhost:8080/",
          "height": 33
        }
      },
      "cell_type": "code",
      "source": [
        "sub = pd.read_csv('sample_submission.csv')\n",
        "sub.shape"
      ],
      "execution_count": 0,
      "outputs": [
        {
          "output_type": "execute_result",
          "data": {
            "text/plain": [
              "(4398, 2)"
            ]
          },
          "metadata": {
            "tags": []
          },
          "execution_count": 80
        }
      ]
    },
    {
      "metadata": {
        "id": "I0LxrV5JsB2U",
        "colab_type": "code",
        "outputId": "841126df-470d-4ff1-e130-14a4cd01ee67",
        "colab": {
          "base_uri": "https://localhost:8080/",
          "height": 196
        }
      },
      "cell_type": "code",
      "source": [
        "sub.head()"
      ],
      "execution_count": 0,
      "outputs": [
        {
          "output_type": "execute_result",
          "data": {
            "text/html": [
              "<div>\n",
              "<style scoped>\n",
              "    .dataframe tbody tr th:only-of-type {\n",
              "        vertical-align: middle;\n",
              "    }\n",
              "\n",
              "    .dataframe tbody tr th {\n",
              "        vertical-align: top;\n",
              "    }\n",
              "\n",
              "    .dataframe thead th {\n",
              "        text-align: right;\n",
              "    }\n",
              "</style>\n",
              "<table border=\"1\" class=\"dataframe\">\n",
              "  <thead>\n",
              "    <tr style=\"text-align: right;\">\n",
              "      <th></th>\n",
              "      <th>id</th>\n",
              "      <th>revenue</th>\n",
              "    </tr>\n",
              "  </thead>\n",
              "  <tbody>\n",
              "    <tr>\n",
              "      <th>0</th>\n",
              "      <td>3001</td>\n",
              "      <td>1000000</td>\n",
              "    </tr>\n",
              "    <tr>\n",
              "      <th>1</th>\n",
              "      <td>3002</td>\n",
              "      <td>1000000</td>\n",
              "    </tr>\n",
              "    <tr>\n",
              "      <th>2</th>\n",
              "      <td>3003</td>\n",
              "      <td>1000000</td>\n",
              "    </tr>\n",
              "    <tr>\n",
              "      <th>3</th>\n",
              "      <td>3004</td>\n",
              "      <td>1000000</td>\n",
              "    </tr>\n",
              "    <tr>\n",
              "      <th>4</th>\n",
              "      <td>3005</td>\n",
              "      <td>1000000</td>\n",
              "    </tr>\n",
              "  </tbody>\n",
              "</table>\n",
              "</div>"
            ],
            "text/plain": [
              "     id  revenue\n",
              "0  3001  1000000\n",
              "1  3002  1000000\n",
              "2  3003  1000000\n",
              "3  3004  1000000\n",
              "4  3005  1000000"
            ]
          },
          "metadata": {
            "tags": []
          },
          "execution_count": 81
        }
      ]
    },
    {
      "metadata": {
        "id": "4xQPZVP2sByO",
        "colab_type": "code",
        "colab": {}
      },
      "cell_type": "code",
      "source": [
        "sub['revenue'] = df_pred.final"
      ],
      "execution_count": 0,
      "outputs": []
    },
    {
      "metadata": {
        "id": "tG1JEUIHBfwt",
        "colab_type": "code",
        "colab": {}
      },
      "cell_type": "code",
      "source": [
        ""
      ],
      "execution_count": 0,
      "outputs": []
    },
    {
      "metadata": {
        "id": "BARdKbhcsBuJ",
        "colab_type": "code",
        "colab": {}
      },
      "cell_type": "code",
      "source": [
        "from google.colab import files\n",
        "\n",
        "sub.to_csv('sub.csv', index = False)\n",
        "files.download('sub.csv')"
      ],
      "execution_count": 0,
      "outputs": []
    },
    {
      "metadata": {
        "id": "lDyuD5byBfqN",
        "colab_type": "code",
        "colab": {}
      },
      "cell_type": "code",
      "source": [
        "!kaggle competitions submit -c tmdb-box-office-prediction -f sub.csv -m \"Message\""
      ],
      "execution_count": 0,
      "outputs": []
    },
    {
      "metadata": {
        "id": "rT0aUdDSBfcH",
        "colab_type": "code",
        "colab": {}
      },
      "cell_type": "code",
      "source": [
        ""
      ],
      "execution_count": 0,
      "outputs": []
    },
    {
      "metadata": {
        "id": "7YvAxFq_sAtF",
        "colab_type": "code",
        "colab": {}
      },
      "cell_type": "code",
      "source": [
        ""
      ],
      "execution_count": 0,
      "outputs": []
    }
  ]
}